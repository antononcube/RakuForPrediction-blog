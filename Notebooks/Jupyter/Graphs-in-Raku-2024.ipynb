{
 "cells": [
  {
   "cell_type": "markdown",
   "metadata": {},
   "source": [
    "# Graphs in Raku\n",
    "\n",
    "<span style=\"font-size: 16pt; font-style: italic; font-weight: bold\">Day 12 of Raku Advent 2024 </span>\n",
    "\n",
    "Anton Antonov   \n",
    "[RakuForPrediction at WordPress](https://rakuforprediction.wordpress.com)   \n",
    "[RakuForPrediction-book at GitHub](https://github.com/antononcube/RakuForPrediction-book)      \n",
    "December 2024"
   ]
  },
  {
   "cell_type": "markdown",
   "metadata": {},
   "source": [
    "-----\n",
    "\n",
    "## Introduction"
   ]
  },
  {
   "cell_type": "markdown",
   "metadata": {},
   "source": [
    "This blog post discusses the development of graph theory algorithms in Raku. Moderate number of examples are used."
   ]
  },
  {
   "cell_type": "markdown",
   "metadata": {},
   "source": [
    "**TL;DR:** Just see the mind-map and then browse the last section with a graph that resembles a snow covered Christmas tree."
   ]
  },
  {
   "cell_type": "markdown",
   "metadata": {},
   "source": [
    "In the post:\n",
    "- All computational graph features discussed are provided by [\"Graph\"](https://raku.land/zef:antononcube/Graph).   \n",
    "- Graph plotting is done with:\n",
    "    - `js-d3-graph-plot`, provided by [\"JavaScript::D3\"](https://raku.land/zef:antononcube/JavaScript::D3).\n",
    "    -  `Graph.dot`, that makes SVG images via [Graphviz](https://graphviz.org)."
   ]
  },
  {
   "cell_type": "markdown",
   "metadata": {},
   "source": [
    "------\n",
    "\n",
    "## Setup"
   ]
  },
  {
   "cell_type": "markdown",
   "metadata": {},
   "source": [
    "Here are loaded the packages used in the rest of notebook:"
   ]
  },
  {
   "cell_type": "code",
   "metadata": {},
   "source": [
    "use Graph;\n",
    "\n",
    "use Graph::Circulant;\n",
    "use Graph::Complete;\n",
    "use Graph::CompleteKaryTree;\n",
    "use Graph::Cycle;\n",
    "use Graph::Grid;\n",
    "use Graph::HexagonalGrid;\n",
    "use Graph::Hypercube;\n",
    "use Graph::KnightTour;\n",
    "use Graph::Nested;\n",
    "use Graph::Path;\n",
    "use Graph::Petersen;\n",
    "use Graph::Star;\n",
    "use Graph::TriangularGrid;\n",
    "use Graph::Wheel;\n",
    "\n",
    "use Graph::Distribution;\n",
    "use Graph::Random;\n",
    "\n",
    "use Data::Reshapers;\n",
    "use Data::Summarizers;\n",
    "use Data::Generators;\n",
    "use Data::TypeSystem;\n",
    "use Data::Translators;\n",
    "use Data::Geographics;\n",
    "\n",
    "use Math::DistanceFunctions;\n",
    "use Math::Nearest;\n",
    "use Text::Levenshtein::Damerau;\n",
    "use Math::SparseMatrix;\n",
    "\n",
    "use Hash::Merge;\n",
    "use FunctionalParsers;\n",
    "use FunctionalParsers::EBNF;\n",
    "use EBNF::Grammar;\n",
    "use Graphviz::DOT::Grammar;\n",
    "use Graphviz::DOT::Chessboard;\n",
    "\n",
    "use JavaScript::D3;\n",
    "use WWW::MermaidInk;\n",
    "use Data::Importers;\n",
    "use Markdown::Grammar;\n",
    "use LLM::Configurations;"
   ],
   "outputs": [],
   "execution_count": null
  },
  {
   "cell_type": "markdown",
   "metadata": {},
   "source": [
    "### JavaScript"
   ]
  },
  {
   "cell_type": "markdown",
   "metadata": {},
   "source": [
    "Here we prepare the notebook to visualize with JavaScript:"
   ]
  },
  {
   "cell_type": "code",
   "metadata": {},
   "source": [
    "#% javascript\n",
    "require.config({\n",
    "     paths: {\n",
    "     d3: 'https://d3js.org/d3.v7.min'\n",
    "}});\n",
    "\n",
    "require(['d3'], function(d3) {\n",
    "     console.log(d3);\n",
    "});"
   ],
   "outputs": [],
   "execution_count": null
  },
  {
   "cell_type": "markdown",
   "metadata": {},
   "source": [
    "Verification:"
   ]
  },
  {
   "cell_type": "code",
   "metadata": {},
   "source": [
    "#% js\n",
    "js-d3-list-line-plot(10.rand xx 40, background => 'none', stroke-width => 2)"
   ],
   "outputs": [],
   "execution_count": null
  },
  {
   "cell_type": "markdown",
   "metadata": {},
   "source": [
    "Here we set a collection of visualization variables:"
   ]
  },
  {
   "cell_type": "code",
   "metadata": {},
   "source": [
    "my $background = '#1F1F1F';\n",
    "my $color-scheme = 'schemeTableau10';\n",
    "my $edge-thickness = 3;\n",
    "my $stroke-color = 'SlateGray';\n",
    "my $tick-labels-color = 'Silver';\n",
    "my $tick-labels-font-family = 'Helvetica';\n",
    "my $tick-labels-font-size = 10;\n",
    "my $title-color = 'Ivory';\n",
    "my $tooltip-background-color = 'none';\n",
    "my $tooltip-color = 'LightBlue';\n",
    "my $vertex-size = 6;\n",
    "my $engine = 'neato';\n",
    "my $mmd-theme = q:to/END/;\n",
    "%%{\n",
    "  init: {\n",
    "    'theme': 'forest',\n",
    "    'themeVariables': {\n",
    "      'lineColor': 'Ivory'\n",
    "    }\n",
    "  }\n",
    "}%%\n",
    "END\n",
    "my %force = collision => {iterations => 0, radius => 10},link => {distance => 180};\n",
    "my %force2 = charge => {strength => -30, iterations => 4}, collision => {radius => 50, iterations => 4}, link => {distance => 30};\n",
    "\n",
    "my %opts = :$background, :$title-color, :$edge-thickness, :$vertex-size;"
   ],
   "outputs": [],
   "execution_count": null
  },
  {
   "cell_type": "markdown",
   "metadata": {},
   "source": [
    "----- \n",
    "\n",
    "## Graph theory functionalities making"
   ]
  },
  {
   "cell_type": "markdown",
   "metadata": {},
   "source": [
    "Because of a few \"serious\" projects involving conversational agents about logistics I thought that is a good idea to have geographical shortest path finding in Raku. (Instead of \"outsourcing\" those computations to some other system.) \n",
    "\n",
    "The assumption were that:\n",
    "- The fundamental graph algorithms are (relatively) easy to program.\n",
    "- Just good core data structures have to be chosen \n",
    "- Data and algorithms for [simple graphs](https://mathworld.wolfram.com/SimpleGraph.html) should be easy to implement.\n",
    "\n",
    "The above assumptions turned true, in general, and while graph-programming with Raku, in particular. \n",
    "\n",
    "The Raku package [\"Graph\"](https://raku.land/zef:antononcube/Graph) provides the class `Graph` that has the following classes of algorithms (as class methods):\n",
    "\n",
    "- Finding paths cycles and flows\n",
    "    - Finding shortest path, hamiltonian path, etc.\n",
    "- Matching and coloring\n",
    "- Graph manipulation, \n",
    "    - Edge removal, vertex replacement, etc.\n",
    "- Graph-to-graph combinations\n",
    "    - Union, difference, etc.\n",
    "- Construction of parameterized graphs\n",
    "    - Complete, star, wheel, etc.\n",
    "- Construction of model distribution based random graphs\n",
    "    - Watts-Strogatz, Barabási–Albert, etc.\n",
    "\n",
    "The class `Graph` uses a map of maps for the adjacency lists (i.e. vertex connections.) It _should be_ extended to have vertex- and edge tags. Having multiple edges should be supported at some point, but I consider it low priority. "
   ]
  },
  {
   "cell_type": "markdown",
   "metadata": {},
   "source": [
    "Now, [Graph theory](https://en.wikipedia.org/wiki/Graph_theory) is a huge field and this inevitably produces a certain opinionated selection of which algorithms to implement first or implement at all.\n",
    "It is natural to consider having (1) a set of implemented fundamental graph algorithms and (2) a framework for quicker developing of new ones. Currently, I would say, the former fairly well addressed. It is in my future plans to have user-exposed framework implementation based on Depth-First Search (DFS) and Breath-First Search (BFS) algorithms."
   ]
  },
  {
   "cell_type": "markdown",
   "metadata": {},
   "source": [
    "Graphs are naturally related to sparse matrices and many graph algorithms can be recast into sparse matrix algebra based algorithms. Because of this relationship _and_ because sparse matrices are a very useful mathematical tool I implemented the packages \n",
    "[\"Math::SparseMatrix\"](https://raku.land/zef:antononcube/Math::SparseMatrix) and \n",
    "[\"Math::SparseMatrix::Native\"](https://raku.land/zef:antononcube/Math::SparseMatrix::Native)."
   ]
  },
  {
   "cell_type": "markdown",
   "metadata": {},
   "source": [
    "The current functionalities of `Graph` are demonstrated and explained in the \"neat examples\" videos and blog posts. Here is the videos list in order of their making:\n",
    "\n",
    "- [\"Graph neat examples in Raku (Set 1)\"](https://youtu.be/5qXgqqRZHow)\n",
    "- [\"Sparse matrix neat examples in Raku\"](https://youtu.be/kQo3wpiUu6w)\n",
    "- [\"Graph neat examples in Raku (Set 2)\"](https://youtu.be/E7qhutQcWCY)\n",
    "- [\"Graph neat examples in Raku (Set 3)\"](https://youtu.be/S_3e7liz4KM)\n",
    "- [\"Chess positions and knight's tours via graphs (in Raku)\"](https://youtu.be/fwQrQyWC7R0)\n"
   ]
  },
  {
   "cell_type": "markdown",
   "metadata": {},
   "source": [
    "Here is mind-map of the current development status of \"Graph\" that should give a idea of the scope of the project:\n",
    "\n",
    "![](https://raw.githubusercontent.com/antononcube/RakuForPrediction-blog/refs/heads/main/Articles/Diagrams/Graphs-in-Raku-2024/Graph-TODO-section-mind-map-light.png)"
   ]
  },
  {
   "cell_type": "markdown",
   "metadata": {},
   "source": [
    "**Remark:** The mind-map above was LLM-created automatically from the [README of \"Graph\"](https://github.com/antononcube/Raku-Graph/blob/main/README.md) and a specially crafted prompt. The checkmark \"✔️\" means \"implemented\"; the empty circle \"⭕️\" mean \"not implemented\" (yet.) "
   ]
  },
  {
   "cell_type": "markdown",
   "metadata": {},
   "source": [
    "-----\n",
    "\n",
    "## Spanning tree for large cities of USA"
   ]
  },
  {
   "cell_type": "markdown",
   "metadata": {},
   "source": [
    "In relation to the Geo-motivation projects mentioned above let us consider the problem of building an interstate highway system joining the cities of USA."
   ]
  },
  {
   "cell_type": "markdown",
   "metadata": {},
   "source": [
    "Here is the available Geographical data from [\"Data::Geographics\"](https://raku.land/zef:antononcube/Data::Geographics):"
   ]
  },
  {
   "cell_type": "code",
   "metadata": {},
   "source": [
    "city-data().map(*<Country>).unique.sort"
   ],
   "outputs": [],
   "execution_count": null
  },
  {
   "cell_type": "markdown",
   "metadata": {},
   "source": [
    "Here is a dataset of large enough cities:"
   ]
  },
  {
   "cell_type": "code",
   "metadata": {},
   "source": [
    "my $maxPop = 200_000;\n",
    "my @cities = city-data().grep({ $_<Country> eq 'United States' && $_<Population> ≥ $maxPop });\n",
    "@cities.elems"
   ],
   "outputs": [],
   "execution_count": null
  },
  {
   "cell_type": "markdown",
   "metadata": {},
   "source": [
    "**Remark:** Geographical data and geo-distance computation is provided by [\"Data::Geographics\"](https://raku.land/zef:antononcube/Data::Geographics)."
   ]
  },
  {
   "cell_type": "code",
   "metadata": {},
   "source": [
    "#% html\n",
    "@cities.head(4) \n",
    "==> to-html(field-names => <ID Country State City Latitude Longitude Elevation LocationLink>)"
   ],
   "outputs": [],
   "execution_count": null
  },
  {
   "cell_type": "markdown",
   "metadata": {},
   "source": [
    "Here is the corresponding weighted **complete** graph:"
   ]
  },
  {
   "cell_type": "code",
   "metadata": {},
   "source": [
    "my %coords = @cities.map({ $_<City> => ($_<Latitude>, $_<Longitude>) });\n",
    "%coords .= grep({ $_.key ∉ <Anchorage Honolulu> });\n",
    "my @dsEdges = (%coords.keys X %coords.keys ).map({ %(from => $_.head, to => $_.tail, weight => geo-distance(|%coords{$_.head}, |%coords{$_.tail} )) });\n",
    "my $gGeo = Graph.new(@dsEdges, :!directed)"
   ],
   "outputs": [],
   "execution_count": null
  },
  {
   "cell_type": "markdown",
   "metadata": {},
   "source": [
    "Here is the corresponding spanning tree:"
   ]
  },
  {
   "cell_type": "code",
   "metadata": {},
   "source": [
    "my $stree = $gGeo.find-spanning-tree(method => 'kruskal')"
   ],
   "outputs": [],
   "execution_count": null
  },
  {
   "cell_type": "markdown",
   "metadata": {},
   "source": [
    "Here is an example of finding the shortest path from Seattle to Jacksonville in the spanning tree."
   ]
  },
  {
   "cell_type": "code",
   "metadata": {},
   "source": [
    "my @path = $stree.find-shortest-path('Seattle', 'Jacksonville')"
   ],
   "outputs": [],
   "execution_count": null
  },
  {
   "cell_type": "markdown",
   "metadata": {},
   "source": [
    "And here is the plot of the spanning tree and with the shortest path highlighted:"
   ]
  },
  {
   "cell_type": "code",
   "metadata": {},
   "source": [
    "#% js\n",
    "$stree.edges\n",
    "==> js-d3-graph-plot(\n",
    "    vertex-coordinates => %coords.nodemap(*.reverse)».List.Hash,\n",
    "    highlight => {SlateBlue => [|@path, |Graph::Path.new(@path).edge-list] },\n",
    "    title => \"USA, cities with population ≥ $maxPop\",\n",
    "    width => 1400,\n",
    "    height => 700,\n",
    "    :$background, :$title-color, :$edge-thickness, \n",
    "    vertex-size => 4,\n",
    "    vertex-label-font-size => 12,\n",
    "    vertex-label-font-family => Whatever,\n",
    "    margins => {right => 200}\n",
    "    )"
   ],
   "outputs": [],
   "execution_count": null
  },
  {
   "cell_type": "markdown",
   "metadata": {},
   "source": [
    "**Remark:** Using `highlight => @path` would just highlight the vertices, without the edges.\n",
    "\n",
    "**Remark:** Would have been nice to use the spec `highlight => Graph::Path.new(@path)` instead of `highlight => [|@path, |Graph::Path.new(@path).edge-list]`. But I try to minimize the package dependencies of the Raku packages I implement, and because of that principle, \"JavaScript::D3\" does not know \"Graph\". Hence, both vertices and edges have to be given to the \"highlight\" option."
   ]
  },
  {
   "cell_type": "markdown",
   "metadata": {},
   "source": [
    "-----\n",
    "\n",
    "## Visualization"
   ]
  },
  {
   "cell_type": "markdown",
   "metadata": {},
   "source": [
    "Graph visualization is extremely important for development of graph software. (Meaning, it speeds up the development tremendously.)\n",
    "Immediately after I implemented the first few \"main\" algorithms I made the corresponding Wolfram Language (WL) and Mermaid-JS representations methods of `Graph`. \n",
    "Soon after, I implemented `js-d3-graph-plot` in [\"JavaScript:D3\"](https://raku.land/zef:antononcube/JavaScript::D3) -- [D3.js](https://d3js.org) has a very nice [_network force_](https://d3js.org/d3-force) functionalities. (\"Network\" is the D3.js lingo for \"graph.\") Since, the using of JavaScript plots rendering in Jupyter notebooks is somewhat capricious, I looked for alternatives. This lead to a \"full blown\" [Graphviz](https://graphviz.org) plot support in `Graph`. (More about that below.)"
   ]
  },
  {
   "cell_type": "markdown",
   "metadata": {},
   "source": [
    "### JavaScript visualization"
   ]
  },
  {
   "cell_type": "markdown",
   "metadata": {},
   "source": [
    "The plotting with [D3.js](https://d3js.org) (via [\"JavaScript::D3\"](https://raku.land/zef:antononcube/JavaScript::D3)) made me very enthusiastic to implement- and curious to see how different named and/or parameterized graphs would look visualized. So, I quickly made half a dozen of them. These graphs are have known properties, which makes them good for algorithm development testing. \n",
    "\n",
    "Here is a map (dictionary) with most of the currently implemented parameterized graphs:"
   ]
  },
  {
   "cell_type": "code",
   "metadata": {},
   "source": [
    "my %namedGraphs = \n",
    "    Circulant => Graph::Circulant.new(7, 3),\n",
    "    Complete => Graph::Complete.new(5),\n",
    "    CompleteKaryTree => Graph::CompleteKaryTree.new(3,3),\n",
    "    Cycle => Graph::Cycle.new(8),\n",
    "    Grid => Graph::Grid.new(4,3),\n",
    "    TriangularGrid => Graph::TriangularGrid.new(3,3),\n",
    "    HexagonalGrid => Graph::HexagonalGrid.new(2,2),\n",
    "    Hypercube => Graph::Hypercube.new(4),\n",
    "    KnightTour => Graph::KnightTour.new(6,4),\n",
    "    Path => Graph::Path.new('a'..'g', :directed),\n",
    "    Petersen => Graph::Petersen.new(),\n",
    "    Star => Graph::Star.new(5),\n",
    "    Wheel => Graph::Wheel.new(7, :!directed);\n",
    "\n",
    ".say for %namedGraphs"
   ],
   "outputs": [],
   "execution_count": null
  },
  {
   "cell_type": "code",
   "metadata": {},
   "source": [
    "#%js\n",
    "%namedGraphs.pairs.sort(*.key).map({ \n",
    "    js-d3-graph-plot(\n",
    "        $_.value.edges(:dataset),\n",
    "        vertex-coordinates => $_.value.vertex-coordinates,\n",
    "        :$background, :$title-color, :$edge-thickness, :$vertex-size,\n",
    "        directed => $_.value.directed,\n",
    "        title => $_.key, \n",
    "        width => 300,\n",
    "        height => 300, \n",
    "        force => {charge => {strength => -200}, link => {minDistance => 40}}\n",
    "    )\n",
    " }).join(\"\\n\")"
   ],
   "outputs": [],
   "execution_count": null
  },
  {
   "cell_type": "markdown",
   "metadata": {},
   "source": [
    "Of particular interest to me are the random graphs:\n",
    "- Simple vertex- and edge sampling random graphs are useful for testing\n",
    "- Well known random graphs with adhering to particular models are also very nice to have\n",
    "\n",
    "The easiest way to have random graphs implementations is to have a special `Graph::Distribution` class. \n",
    "\n",
    "Here are examples:"
   ]
  },
  {
   "cell_type": "code",
   "metadata": {},
   "source": [
    "my %randomGraphs = \n",
    "    Barabasi-Albert => Graph::Random.new(Graph::Distribution::BarabasiAlbert.new(20,2)),\n",
    "    \"Price's model\" => Graph::Random.new(Graph::Distribution::Price.new(14, 2, 1)),\n",
    "    Random => Graph::Random.new(13,16),\n",
    "    Watts-Strogatz => Graph::Random.new(Graph::Distribution::WattsStrogatz.new(20,0.07));\n",
    "\n",
    ".say for %randomGraphs"
   ],
   "outputs": [],
   "execution_count": null
  },
  {
   "cell_type": "code",
   "metadata": {},
   "source": [
    "#%js\n",
    "%randomGraphs.pairs.sort(*.key).map({ \n",
    "    js-d3-graph-plot(\n",
    "        $_.value.edges(:dataset),\n",
    "        :$background, :$title-color, :$edge-thickness, :$vertex-size,\n",
    "        directed => $_.value.directed,\n",
    "        title => $_.key, \n",
    "        width => 400, \n",
    "        force => {charge => {strength => -200}, link => {minDistance => 40}}\n",
    "    )\n",
    " }).join(\"\\n\")"
   ],
   "outputs": [],
   "execution_count": null
  },
  {
   "cell_type": "markdown",
   "metadata": {},
   "source": [
    "### Graphviz visualization"
   ]
  },
  {
   "cell_type": "markdown",
   "metadata": {},
   "source": [
    "`Graph` has the method `dot` that translate the graph object into a [Graphviz DOT language](https://graphviz.org/doc/info/lang.html) spec."
   ]
  },
  {
   "cell_type": "code",
   "metadata": {},
   "source": [
    "#% html\n",
    "%randomGraphs<Watts-Strogatz>.dot(:$background, engine => 'sfdp', :svg)"
   ],
   "outputs": [],
   "execution_count": null
  },
  {
   "cell_type": "markdown",
   "metadata": {},
   "source": [
    "Using the \"neato\" layout engine graph objects that have vertex coordinates are properly plotted:"
   ]
  },
  {
   "cell_type": "code",
   "metadata": {},
   "source": [
    "#% html\n",
    "Graph::KnightTour.new(4, 6).dot(:$background, engine => 'neato', :svg)"
   ],
   "outputs": [],
   "execution_count": null
  },
  {
   "cell_type": "markdown",
   "metadata": {},
   "source": [
    "Also the Graphviz DOT representations can be used to plot chessboards:"
   ]
  },
  {
   "cell_type": "code",
   "metadata": {},
   "source": [
    "#% html\n",
    "dot-chessboard(:4r, :6c):svg"
   ],
   "outputs": [],
   "execution_count": null
  },
  {
   "cell_type": "markdown",
   "metadata": {},
   "source": [
    "### How come I invested so much in Graphviz DOT support in `Graph`?\n",
    "\n",
    "Interactive plotting with D3.js is fairly unreliable Raku-wise -- I can only use it in VSCode with Jupyter. \n",
    "It was working in web browsers with the old Jupyter notebook framework. But after JupyterLab was introduced my newest Jupyter-anything installations do not work with the > JavaScript settings for plotting.\n",
    "(Making static HTML pages with D3.js plots is fine.)\n",
    "So, finding a more robust and universal alternative was really needed. After some discussion with a Raku-enthusiast known as \"timo\"\n",
    "I made finding such alternatives a priority. \n",
    "So, I looked for JavaScript alternatives to plot graphs first. I was also looking -- separately -- for JavaScript-based ways to use the Graphviz DOT language.\n",
    "At some point I figured out that Graphviz layout engines are fairly install-able / deploy-able in many operating systems, so just using it to generate SVG, PNG, etc. is both fine and reliable. \n"
   ]
  },
  {
   "cell_type": "markdown",
   "metadata": {},
   "source": [
    "----\n",
    "\n",
    "## Sparse matrix representations"
   ]
  },
  {
   "cell_type": "markdown",
   "metadata": {},
   "source": [
    "As it was mentioned above graphs have a natural representation as sparse matrices. We can use the package \"Math::SparseMatrix\" to make those representations and \"JavaScript::D3\" to plot them.\n",
    "\n",
    "Here are the sparse matrices corresponding to the parameterized graphs created and plotted above:"
   ]
  },
  {
   "cell_type": "code",
   "metadata": {},
   "source": [
    "#% js\n",
    "%namedGraphs.sort(*.key).map({\n",
    "    my $g = $_.value.index-graph;\n",
    "    my $m = Math::SparseMatrix.new(edge-dataset => $g.edges(:dataset), row-names => $g.vertex-list.sort(*.Int));\n",
    "    js-d3-matrix-plot($m.Array, plot-label => $_.key, width => 230, margins => 30, :!tooltip, :$title-color, :$tick-labels-font-size, :$tick-labels-color)\n",
    "}).join(\"\\n\")"
   ],
   "outputs": [],
   "execution_count": null
  },
  {
   "cell_type": "markdown",
   "metadata": {},
   "source": [
    "For more examples see the video [\"Sparse matrix neat examples in Raku\"](https://youtu.be/kQo3wpiUu6w)."
   ]
  },
  {
   "cell_type": "markdown",
   "metadata": {},
   "source": [
    "----\n",
    "\n",
    "## Christmas themed example"
   ]
  },
  {
   "cell_type": "markdown",
   "metadata": {},
   "source": [
    "Let us finish this post with a topical example -- we make a graph that looks like a Christmas tree and we color it accordingly."
   ]
  },
  {
   "cell_type": "markdown",
   "metadata": {},
   "source": [
    "Here is the procedure outline:\n",
    "\n",
    "- Get a regular grid graph `G`\n",
    "- Get a tree-shaped subgraph `T` of `G`\n",
    "- Pick random vertices in `T` and remove their correspond [neighborhood graphs](https://en.wikipedia.org/wiki/Neighbourhood_(graph_theory)) from `T`\n",
    "  - Denote the new graph `X`\n",
    "- Find the vertices `v` of `X` that have degree less than 5.\n",
    "- Plot `X` by highlighting `v`\n",
    "  - The highlights can be randomly selected shades of a certain color\n",
    "\n",
    "The procedure is followed below.\n",
    "\n",
    "<hr width=\"60%\" color=\"gray\"/>"
   ]
  },
  {
   "cell_type": "markdown",
   "metadata": {},
   "source": [
    "Here we create a (largish) triangular grid graph:"
   ]
  },
  {
   "cell_type": "code",
   "metadata": {},
   "source": [
    "my $g = Graph::TriangularGrid.new(30, 30);"
   ],
   "outputs": [],
   "execution_count": null
  },
  {
   "cell_type": "markdown",
   "metadata": {},
   "source": [
    "Here we plot a smaller version of it:"
   ]
  },
  {
   "cell_type": "code",
   "metadata": {},
   "source": [
    "#% html\n",
    "my $gSmall = Graph::TriangularGrid.new(3,3);\n",
    "$gSmall.dot(:$engine, highlight => Graph::Path.new(<5 7 8 10>), :!node-labels, edge-thickness => 8, node-font-size => 30, node-width => 0.6, size => 4):svg"
   ],
   "outputs": [],
   "execution_count": null
  },
  {
   "cell_type": "markdown",
   "metadata": {},
   "source": [
    "We plan to take the graph under the highlighted (orange) vertices and edges and turn it into a Christmas tree. (Or something that resembles it.)"
   ]
  },
  {
   "cell_type": "markdown",
   "metadata": {},
   "source": [
    "**Remark:** Note that with `Graph.dot` we can use a graph object as a highlight spec."
   ]
  },
  {
   "cell_type": "markdown",
   "metadata": {},
   "source": [
    "Derive rectangular area boundaries:"
   ]
  },
  {
   "cell_type": "code",
   "metadata": {},
   "source": [
    "my ($min-y, $max-y) = $g.vertex-coordinates.values.map(*.tail).Array.&{ (.min, .max)};\n",
    "\n",
    "my $bottom-min-x = $g.vertex-coordinates.values.grep(*.tail == $min-y).map(*.head).min;\n",
    "my $bottom-max-x = $g.vertex-coordinates.values.grep(*.tail == $min-y).map(*.head).max;\n",
    "\n",
    "my $top-min-x = $g.vertex-coordinates.values.grep(*.tail == $max-y).map(*.head).min;\n",
    "my $top-max-x = $g.vertex-coordinates.values.grep(*.tail == $max-y).map(*.head).max;"
   ],
   "outputs": [],
   "execution_count": null
  },
  {
   "cell_type": "markdown",
   "metadata": {},
   "source": [
    "Top left node:"
   ]
  },
  {
   "cell_type": "code",
   "metadata": {},
   "source": [
    "my $top-vertex = $g.vertex-coordinates.grep({ $_.value.head == $top-min-x && $_.value.tail == $max-y })».key.head"
   ],
   "outputs": [],
   "execution_count": null
  },
  {
   "cell_type": "markdown",
   "metadata": {},
   "source": [
    "\"Weak\" diagonal equation:"
   ]
  },
  {
   "cell_type": "code",
   "metadata": {},
   "source": [
    "my ($x1, $y1) = ($bottom-max-x, $min-y);\n",
    "my ($x2, $y2) = |$g.vertex-coordinates{$top-vertex};\n",
    "\n",
    "my $k = ($y1 - $y2)/($x1 - $x2);\n",
    "my $n = -(($x2*$y1 - $x1*$y2)/($x1 - $x2));\n",
    "\n",
    "sub y-diag(Numeric:D $x) { $k * $x +$n }"
   ],
   "outputs": [],
   "execution_count": null
  },
  {
   "cell_type": "markdown",
   "metadata": {},
   "source": [
    "Get vertices under the \"diagonal\":"
   ]
  },
  {
   "cell_type": "code",
   "metadata": {},
   "source": [
    "my @focus-vertexes = $g.vertex-coordinates.grep({  $_.value.tail ≤ y-diag($_.value.head) + 0.001 })».key;\n",
    "@focus-vertexes.elems"
   ],
   "outputs": [],
   "execution_count": null
  },
  {
   "cell_type": "markdown",
   "metadata": {},
   "source": [
    "Get the \"pyramid\" from the recursively obtained vertexes:"
   ]
  },
  {
   "cell_type": "code",
   "metadata": {},
   "source": [
    "my $c-tree = $g.subgraph(@focus-vertexes); "
   ],
   "outputs": [],
   "execution_count": null
  },
  {
   "cell_type": "markdown",
   "metadata": {},
   "source": [
    "Remove random parts (using neighborhood graphs):"
   ]
  },
  {
   "cell_type": "code",
   "metadata": {},
   "source": [
    "my $c-tree2 = $c-tree.difference( $c-tree.neighborhood-graph($c-tree.vertex-list.pick(36).grep({ $_ ne $top-vertex }), d => 1) );"
   ],
   "outputs": [],
   "execution_count": null
  },
  {
   "cell_type": "markdown",
   "metadata": {},
   "source": [
    "Plot with highlights:"
   ]
  },
  {
   "cell_type": "code",
   "metadata": {},
   "source": [
    "#%html\n",
    "my @vs = $c-tree2.vertex-degree(:p).grep(*.value≤4)».key;\n",
    "@vs = @vs.map({ <Snow White GhostWhite>.pick => $_ });\n",
    "my %highlight = @vs.classify(*.key).nodemap({ $_».value });\n",
    "\n",
    "$c-tree2.dot( \n",
    "    :%highlight,\n",
    "    node-width => 1.7,\n",
    "    node-height => 1.7,\n",
    "    node-fill-color => 'Red', \n",
    "    node-shape => 'circle',\n",
    "    graph-size => 6,\n",
    "    edge-color => 'Green',\n",
    "    edge-width => 28,\n",
    "    node-font-size => 380,\n",
    "    pad => 2,\n",
    "    node-labels => {$top-vertex => '⭐️', |(($g.vertex-list (-) $top-vertex).keys X=> '')},\n",
    "    engine => 'neato'\n",
    "):svg"
   ],
   "outputs": [],
   "execution_count": null
  },
  {
   "cell_type": "markdown",
   "metadata": {},
   "source": [
    "Here are the special graph functionalities used to make the plot above:\n",
    "\n",
    "- Construction of [triangular grid graph](https://mathworld.wolfram.com/TriangularGridGraph.html)\n",
    "- [Subgraph](https://mathworld.wolfram.com/Subgraph.html) taking\n",
    "- [Neighborhood graphs](https://mathworld.wolfram.com/NeighborhoodGraph.html)\n",
    "- [Graph difference](https://mathworld.wolfram.com/GraphDifference.html)\n",
    "- Graph plotting via Graphviz DOT using:\n",
    "    - Customized styling of various elements\n",
    "    - Vertex coordinates\n",
    "    - Specified vertex labels (see the top of the tree)\n",
    "- Graph highlighting \n",
    "    - Multiple sets of vertices and edges with different colors can be specified"
   ]
  },
  {
   "cell_type": "markdown",
   "metadata": {},
   "source": [
    "-----\n",
    "\n",
    "## Conclusion"
   ]
  },
  {
   "cell_type": "markdown",
   "metadata": {},
   "source": [
    "Graph theory is both very mathematical and very computer-science-ish. It has diverse applications across different fields. So, I urge you to start thinking how to use graphs in all of your Raku and non-Raku projects! (And leverage [\"Graph\"](https://raku.land/zef:antononcube/Graph).)"
   ]
  }
 ],
 "metadata": {
  "kernelspec": {
   "display_name": "RakuChatbook",
   "language": "raku",
   "name": "raku"
  },
  "language_info": {
   "file_extension": ".raku",
   "mimetype": "text/x-raku",
   "name": "raku",
   "version": "6.d"
  }
 },
 "nbformat": 4,
 "nbformat_minor": 2
}
