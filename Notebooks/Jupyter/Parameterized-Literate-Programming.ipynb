{
 "cells": [
  {
   "cell_type": "markdown",
   "id": "1ce4372a",
   "metadata": {},
   "source": [
    "# Parameterized Literate Programming\n",
    "\n",
    "Anton Antonov    \n",
    "[RakuForPrediction at WordPress](https://rakuforprediction.wordpress.com)   \n",
    "June 2025"
   ]
  },
  {
   "cell_type": "markdown",
   "id": "d27fc028",
   "metadata": {},
   "source": [
    "-----\n",
    "\n",
    "## Introduction"
   ]
  },
  {
   "cell_type": "markdown",
   "id": "22d0ac03",
   "metadata": {},
   "source": [
    "[Literate Programming (LT)](https://en.wikipedia.org/wiki/Literate_programming), [Wk1], blends code and documentation into a narrative, prioritizing human readability. Code and explanations are _interwoven_, with tools extracting code for compilation and documentation for presentation, enhancing clarity and maintainability.\n",
    "\n",
    "LT is commonly employed in scientific computing and data science for reproducible research and open access initiatives. Today, millions of programmers use literate programming tools.\n",
    "\n",
    "Raku has several LT solutions:\n",
    "\n",
    "- Raku's built-in Pod6 markup language\n",
    "- [Wolfram notebooks](https://resources.wolframcloud.com/PacletRepository/resources/AntonAntonov/RakuMode/), [AAp3]\n",
    "- [Jupyter notebooks](https://raku.land/zef:antononcube/Jupyter::Chatbook), [AAp4, BDp1]\n",
    "- [Executable documents](https://raku.land/zef:antononcube/Text::CodeProcessing) in Markdown, Pod6, and Org-mode formats, [AAp1, AAv1]\n",
    "\n",
    "This document (notebook) discusses executable documents parameterization -- or parameterized reports -- provided by [\"Text::CodeProcessing\"](https://raku.land/zef:antononcube/Text::CodeProcessing), [AAp1].\n",
    "\n",
    "**Remark:** Providing report parameterization has been in my TODO list since the beginning of programming \"Text::CodeProcessing\". I finally did it in order to facilitate parameterized Large Language Model (LLM) workflows. See the LLM template [\"LLM-comprehensive-summary-Raku.md\"](https://github.com/antononcube/RakuForPrediction-blog/blob/main/Templates/LLM-comprehensive-summary-Raku.md).\n",
    "\n",
    "The document has three main sections:\n",
    "\n",
    "- Using YAML document header to specify parameters\n",
    "    - Description and examples\n",
    "- LLM templates with parameters\n",
    "- Operating System (OS) shell execution with specified parameters"
   ]
  },
  {
   "cell_type": "markdown",
   "id": "a27df947",
   "metadata": {},
   "source": [
    "-----\n",
    "\n",
    "## Setup"
   ]
  },
  {
   "cell_type": "markdown",
   "id": "665f1f49",
   "metadata": {},
   "source": [
    "Load packages:"
   ]
  },
  {
   "cell_type": "code",
   "execution_count": 1,
   "id": "3de17067",
   "metadata": {},
   "outputs": [],
   "source": [
    "use Text::CodeProcessing;\n",
    "use Lingua::NumericWordForms;"
   ]
  },
  {
   "cell_type": "markdown",
   "id": "8b4b1fd8",
   "metadata": {},
   "source": [
    "-----\n",
    "\n",
    "## YAML front-matter with parameters"
   ]
  },
  {
   "cell_type": "markdown",
   "id": "e2467dca",
   "metadata": {},
   "source": [
    "For a given text or file we can _execute_ that text or file and produce its _woven_ version using:\n",
    "\n",
    "- The sub `StringCodeChunksEvaluation` in a Raku session\n",
    "- The Command Line Interface (CLI) script `file-code-chunks-eval` in an OS shell\n"
   ]
  },
  {
   "cell_type": "markdown",
   "id": "26e771b3",
   "metadata": {},
   "source": [
    "Consider the following Markdown text (of a certain [file](https://github.com/antononcube/Raku-Text-CodeProcessing/blob/main/resources/Template.md)):"
   ]
  },
  {
   "cell_type": "code",
   "execution_count": 49,
   "id": "aff4d1ac",
   "metadata": {},
   "outputs": [],
   "source": [
    "sink my $txt = q:to/END/;\n",
    "---\n",
    "title: Numeric word forms generation (template)\n",
    "author: Anton Antonov\n",
    "date: 2025-06-19\n",
    "params:\n",
    "    sample-size: 5\n",
    "    min: 100\n",
    "    max: 10E3\n",
    "    to-lang: \"Russian\"\n",
    "---\n",
    "\n",
    "Generate a list of random numbers:\n",
    "\n",
    "```raku\n",
    "use Data::Generators;\n",
    "\n",
    "my @ns = random-real([%params<min>, %params<max>], %params<sample-size>)».floor\n",
    "```\n",
    "\n",
    "Convert to numeric word forms:\n",
    "\n",
    "```raku\n",
    "use Lingua::NumericWordForms;\n",
    "\n",
    ".say for @ns.map({ $_ => to-numeric-word-form($_, %params<to-lang>) })\n",
    "```\n",
    "END"
   ]
  },
  {
   "cell_type": "markdown",
   "id": "fe6cf8a0",
   "metadata": {},
   "source": [
    "The parameters of that executable document are given in [YAML](https://en.wikipedia.org/wiki/YAML) format -- similar to [\"parameterized reports\"](https://rmarkdown.rstudio.com/lesson-6.html) of R Markdown documents. (Introduced and provided by Posit, formerly RStudio.)"
   ]
  },
  {
   "cell_type": "markdown",
   "id": "52b3e1fe",
   "metadata": {},
   "source": [
    "- **Declaring parameters:**\n",
    "    - Parameters are declared using the `params` field within the YAML header of the document. \n",
    "    - For example, the text above creates the parameter \"sample-size\" and assigns it the default value `5`.\n",
    "\n",
    "- **Using parameters in code:**\n",
    "    - Parameters are made available within the Raku environment as a read-only hashmap named `%params`. \n",
    "    - To access a parameter in code, call `%params<parameter-name>`.\n",
    "\n",
    "- **Setting parameter values:**\n",
    "    - To create a report that uses a new set of parameter values add:\n",
    "       - `%params` argument to `StringCodeChunksEvaluation`  \n",
    "       - `--params` argument to the CLI script `file-code-chunks-eval`\n"
   ]
  },
  {
   "cell_type": "markdown",
   "id": "962b52d4",
   "metadata": {},
   "source": [
    "Here is the woven (or executed) version of the text:"
   ]
  },
  {
   "cell_type": "code",
   "execution_count": 63,
   "id": "3a7636b2",
   "metadata": {},
   "outputs": [
    {
     "name": "stdout",
     "output_type": "stream",
     "text": [
      "Welcome to Rakudo™ v2025.02.\n",
      "Implementing the Raku® Programming Language v6.d.\n",
      "Built on MoarVM version 2025.02.\n",
      "\n"
     ]
    },
    {
     "data": {
      "text/markdown": [
       "\n",
       "\n",
       "Generate a list of random numbers:\n",
       "\n",
       "```raku\n",
       "use Data::Generators;\n",
       "\n",
       "my @ns = random-real([100, 10000], 5)».floor\n",
       "```\n",
       "```\n",
       "# [3925 6533 3215 2983 1395]\n",
       "```\n",
       "\n",
       "Convert to numeric word forms:\n",
       "\n",
       "```raku\n",
       "use Lingua::NumericWordForms;\n",
       "\n",
       ".say for @ns.map({ $_ => to-numeric-word-form($_, 'Russian') })\n",
       "```\n",
       "```\n",
       "# 3925 => три тысячи девятьсот двадцать пять\n",
       "# 6533 => шесть тысяч пятьсот тридцать три\n",
       "# 3215 => три тысячи двести пятнадцать\n",
       "# 2983 => две тысячи девятьсот восемьдесят три\n",
       "# 1395 => одна тысяча триста девяносто пять\n",
       "```\n"
      ]
     },
     "execution_count": 63,
     "metadata": {},
     "output_type": "execute_result"
    }
   ],
   "source": [
    "#% markdown\n",
    "StringCodeChunksEvaluation($txt, 'markdown')\n",
    "==> { .subst(/^ '---' .*? '---'/) }()"
   ]
  },
  {
   "cell_type": "markdown",
   "id": "26c3979b",
   "metadata": {},
   "source": [
    "**Remark:** In order to be easier to read the results, the YAML header ware removed (with `subst`.)"
   ]
  },
  {
   "cell_type": "markdown",
   "id": "a6867b3c",
   "metadata": {},
   "source": [
    "Here we change parameters -- different sample size and language for the generated word forms:"
   ]
  },
  {
   "cell_type": "code",
   "execution_count": 64,
   "id": "b9ce9f18",
   "metadata": {},
   "outputs": [
    {
     "name": "stdout",
     "output_type": "stream",
     "text": [
      "Welcome to Rakudo™ v2025.02.\n",
      "Implementing the Raku® Programming Language v6.d.\n",
      "Built on MoarVM version 2025.02.\n",
      "\n"
     ]
    },
    {
     "data": {
      "text/markdown": [
       "\n",
       "\n",
       "Generate a list of random numbers:\n",
       "\n",
       "```raku\n",
       "use Data::Generators;\n",
       "\n",
       "my @ns = random-real([100, 10000], 7)».floor\n",
       "```\n",
       "```\n",
       "# [8684 5057 7732 2091 7098 7941 6846]\n",
       "```\n",
       "\n",
       "Convert to numeric word forms:\n",
       "\n",
       "```raku\n",
       "use Lingua::NumericWordForms;\n",
       "\n",
       ".say for @ns.map({ $_ => to-numeric-word-form($_, 'Japanese') })\n",
       "```\n",
       "```\n",
       "# 8684 => 八千六百八十四\n",
       "# 5057 => 五千五十七\n",
       "# 7732 => 七千七百三十二\n",
       "# 2091 => 二千九十一\n",
       "# 7098 => 七千九十八\n",
       "# 7941 => 七千九百四十一\n",
       "# 6846 => 六千八百四十六\n",
       "```\n"
      ]
     },
     "execution_count": 64,
     "metadata": {},
     "output_type": "execute_result"
    }
   ],
   "source": [
    "#% markdown\n",
    "StringCodeChunksEvaluation($txt, 'markdown', params => {:7sample-size, to-lang => 'Japanese'})\n",
    "==> { .subst(/^ '---' .*? '---'/) }()"
   ]
  },
  {
   "cell_type": "markdown",
   "id": "57a485c3",
   "metadata": {},
   "source": [
    "----\n",
    "\n",
    "## LLM application"
   ]
  },
  {
   "cell_type": "markdown",
   "id": "2096f8be",
   "metadata": {},
   "source": [
    "From LLM-workflows perspective parameterized reports can be seen as:\n",
    "- An alternative using LLM functions and prompts, [AAp5, AAp6]\n",
    "- Higher-level utilization of LLM functions workflows "
   ]
  },
  {
   "cell_type": "markdown",
   "id": "3837076e",
   "metadata": {},
   "source": [
    "To illustrate the former consider this short LLM template:"
   ]
  },
  {
   "cell_type": "code",
   "execution_count": null,
   "id": "3880d9c3",
   "metadata": {},
   "outputs": [],
   "source": [
    "sink my $llmTemplate = q:to/END/;\n",
    "---\n",
    "params:\n",
    "    question: 'How many sea species?'\n",
    "    model: 'gpt-4o-mini'\n",
    "    persona: SouthernBelleSpeak\n",
    "---\n",
    "\n",
    "For the question:\n",
    "\n",
    "> %params<question>\n",
    "\n",
    "The answer is:\n",
    "\n",
    "```raku, results=asis, echo=FALSE, eval=TRUE\n",
    "use LLM::Functions;\n",
    "use LLM::Prompts;\n",
    "\n",
    "my $conf = llm-configuration('ChatGPT', model => %params<model>);\n",
    "\n",
    "llm-synthesize([llm-prompt(%params<persona>), %params<question>], e => $conf)\n",
    "```\n",
    "END"
   ]
  },
  {
   "cell_type": "markdown",
   "id": "b3c6181b",
   "metadata": {},
   "source": [
    "Here we execute that LLM template providing different question and LLM persona:"
   ]
  },
  {
   "cell_type": "code",
   "execution_count": null,
   "id": "4a21b192",
   "metadata": {},
   "outputs": [
    {
     "name": "stdout",
     "output_type": "stream",
     "text": [
      "Welcome to Rakudo™ v2025.02.\n",
      "Implementing the Raku® Programming Language v6.d.\n",
      "Built on MoarVM version 2025.02.\n",
      "\n"
     ]
    },
    {
     "data": {
      "text/markdown": [
       "\n",
       "\n",
       "For the question:\n",
       "\n",
       "> 'How big is Texas?'\n",
       "\n",
       "The answer is:\n",
       "\n",
       "\n",
       "Whoa, bro! Texas is like, totally massive, man! It's like the second biggest state in the whole USA, after that gnarly Alaska, you know? We're talking about around 268,000 square miles of pure, wild vibes, bro! That's like a whole lot of room for the open road and some epic waves if you ever decide to cruise on over, dude! Just remember to keep it chill and ride the wave of life, bro!\n",
       "\n"
      ]
     },
     "execution_count": 39,
     "metadata": {},
     "output_type": "execute_result"
    }
   ],
   "source": [
    "#% markdown\n",
    "StringCodeChunksEvaluation(\n",
    "    $llmTemplate, \n",
    "    'markdown', \n",
    "    params => {question => 'How big is Texas?', persona => 'SurferDudeSpeak'}\n",
    ").subst(/^ '---' .* '---'/)"
   ]
  },
  {
   "cell_type": "markdown",
   "id": "b6454d17",
   "metadata": {},
   "source": [
    "-----\n",
    "\n",
    "## CLI parameters"
   ]
  },
  {
   "cell_type": "markdown",
   "id": "d1af8e2f",
   "metadata": {},
   "source": [
    "In order to demonstrate CLI usage of parameters below we:\n",
    "\n",
    "- Export the Markdown string into a file\n",
    "- Invoke the CLI `file-code-chunks-eval`\n",
    "    - In a Raku-Jupyter notebook this can be done with the magic `#% bash`\n",
    "    - Alternatively, `run` and `shell` can be used\n",
    "- Import the woven file and render its content"
   ]
  },
  {
   "cell_type": "markdown",
   "id": "41e3a48d",
   "metadata": {},
   "source": [
    "#### Export to Markdown file"
   ]
  },
  {
   "cell_type": "code",
   "execution_count": 65,
   "id": "45a3d777",
   "metadata": {},
   "outputs": [
    {
     "data": {
      "text/plain": [
       "True"
      ]
     },
     "execution_count": 65,
     "metadata": {},
     "output_type": "execute_result"
    }
   ],
   "source": [
    "spurt($*CWD ~ '/LLM-template.md', $llmTemplate)"
   ]
  },
  {
   "cell_type": "markdown",
   "id": "4995c5a5",
   "metadata": {},
   "source": [
    "#### CLI invocation"
   ]
  },
  {
   "cell_type": "markdown",
   "id": "fa76051e",
   "metadata": {},
   "source": [
    "Specifying the template parameters using the CLI is done with the named argument `--params` with a value that is a valid hashmap Raku code:"
   ]
  },
  {
   "cell_type": "code",
   "execution_count": 66,
   "id": "9c5e361d",
   "metadata": {},
   "outputs": [
    {
     "data": {
      "text/plain": [
       "Welcome to Rakudo™ v2025.02.\n",
       "Implementing the Raku® Programming Language v6.d.\n",
       "Built on MoarVM version 2025.02.\n",
       "\n"
      ]
     },
     "execution_count": 66,
     "metadata": {},
     "output_type": "execute_result"
    }
   ],
   "source": [
    "#% bash\n",
    "file-code-chunks-eval LLM-template.md --params='{question=>\"Where is Iran?\", persona=>\"DrillSergeant\"}'"
   ]
  },
  {
   "cell_type": "markdown",
   "id": "e0b0dddf",
   "metadata": {},
   "source": [
    "**Remark:** If the output file is not specified then the output file name is the CLI input file argument with the string '_woven' placed before the extension."
   ]
  },
  {
   "cell_type": "markdown",
   "id": "3cf17639",
   "metadata": {},
   "source": [
    "#### Import and render "
   ]
  },
  {
   "cell_type": "markdown",
   "id": "49e5dd81",
   "metadata": {},
   "source": [
    "Import the woven file and render it (again, remove the YAML header for easier reading):"
   ]
  },
  {
   "cell_type": "code",
   "execution_count": 67,
   "id": "3aadcc08",
   "metadata": {},
   "outputs": [
    {
     "data": {
      "text/markdown": [
       "\n",
       "\n",
       "For the question:\n",
       "\n",
       "> 'Where is Iran?'\n",
       "\n",
       "The answer is:\n",
       "\n",
       "\n",
       "YOU LISTEN UP, MAGGOT! IRAN IS LOCATED IN THE MIDDLE EAST, BOUNDED BY THE CASPIAN SEA TO THE NORTH AND THE PERSIAN GULF TO THE SOUTH! NOW GET YOUR HEAD OUT OF THE CLOUDS AND PAY ATTENTION! I DON'T HAVE TIME FOR YOUR LAZY QUESTIONS! IF I SEE YOU SLACKING OFF, YOU'LL BE DOING PUSH-UPS UNTIL YOUR ARMS FALL OFF! DO YOU UNDERSTAND ME? SIR!\n",
       "\n"
      ]
     },
     "execution_count": 67,
     "metadata": {},
     "output_type": "execute_result"
    }
   ],
   "source": [
    "#% markdown\n",
    "slurp($*CWD ~ '/LLM-template_woven.md')\n",
    "==> {.subst(/ '---' .*? '---' /)}()"
   ]
  },
  {
   "cell_type": "markdown",
   "id": "2882c1a1",
   "metadata": {},
   "source": [
    "-----\n",
    "\n",
    "## References"
   ]
  },
  {
   "cell_type": "markdown",
   "id": "cfa4af61",
   "metadata": {},
   "source": [
    "### Packages\n",
    "\n",
    "[AAp1] Anton Antonov,\n",
    "[Text::CodeProcssing Raku package](https://github.com/antononcube/Raku-Text-CodeProcessing),\n",
    "(2021-2025),\n",
    "[GitHub/antononcube](https://github.com/antononcube).\n",
    "\n",
    "[AAp2] Anton Antonov,\n",
    "[Lingua::NumericWordForms Raku package](https://github.com/antononcube/Raku-Lingua-NumericWordForms),\n",
    "(2021-2025),\n",
    "[GitHub/antononcube](https://github.com/antononcube).\n",
    "\n",
    "[AAp3] Anton Antonov,\n",
    "[RakuMode Wolfram Language paclet](https://resources.wolframcloud.com/PacletRepository/resources/AntonAntonov/RakuMode/),\n",
    "(2023),\n",
    "[Wolfram Language Paclet Repository](https://resources.wolframcloud.com/PacletRepository/).\n",
    "\n",
    "[AAp4] Anton Antonov,\n",
    "[Jupyter::Chatbook Raku package](https://github.com/antononcube/Raku-Jupyter-Chatbook),\n",
    "(2023-2024),\n",
    "[GitHub/antononcube](https://github.com/antononcube).\n",
    "\n",
    "[AAp5] Anton Antonov,\n",
    "[LLM::Functions Raku package](https://github.com/antononcube/Raku-LLM-Functions),\n",
    "(2023-2025),\n",
    "[GitHub/antononcube](https://github.com/antononcube).\n",
    "\n",
    "[AAp6] Anton Antonov,\n",
    "[LLM::Prompts Raku package](https://github.com/antononcube/Raku-LLM-Prompts),\n",
    "(2023-2025),\n",
    "[GitHub/antononcube](https://github.com/antononcube).\n",
    "\n",
    "[BDp1] Brian Duggan,\n",
    "[Jupyter::Kernel Raku package](https://github.com/bduggan/raku-jupyter-kernel),\n",
    "(2017-2024), \n",
    "[GitHub/bduggan](https://github.com/bduggan)."
   ]
  },
  {
   "cell_type": "markdown",
   "id": "fe30665a",
   "metadata": {},
   "source": [
    "### Videos\n",
    "\n",
    "[AAv1] Anton Antonov,\n",
    "[\"Raku Literate Programming via command line pipelines\"](https://www.youtube.com/watch?v=2UjAdQaKof8),\n",
    "(2023),\n",
    "[YouTube/@AAA4prediction](https://www.youtube.com/@AAA4prediction).\n"
   ]
  }
 ],
 "metadata": {
  "kernelspec": {
   "display_name": "RakuChatbook",
   "language": "raku",
   "name": "raku"
  },
  "language_info": {
   "file_extension": ".raku",
   "mimetype": "text/x-raku",
   "name": "raku",
   "version": "6.d"
  }
 },
 "nbformat": 4,
 "nbformat_minor": 5
}
