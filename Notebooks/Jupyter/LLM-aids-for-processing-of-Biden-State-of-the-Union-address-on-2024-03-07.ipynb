{
 "cells": [
  {
   "cell_type": "markdown",
   "metadata": {},
   "source": [
    "# LLM aids for processing Biden's State of the Union address\n",
    "\n",
    "### ***... given on March, 7, 2024***\n",
    "\n",
    "Anton Antonov   \n",
    "[RakuForPrediction at WordPress](https://rakuforprediction.wordpress.com)   \n",
    "[RakuForPrediction-blog at GitHub](https://github.com/antononcube/RakuForPrediction-blog)   \n",
    "March 2024"
   ]
  },
  {
   "cell_type": "markdown",
   "metadata": {},
   "source": [
    "-------\n",
    "\n",
    "## Introduction"
   ]
  },
  {
   "cell_type": "markdown",
   "metadata": {},
   "source": [
    "![](https://www.whitehouse.gov/wp-content/uploads/2021/01/P20240307AS-1589.jpg?resize=1038,692)"
   ]
  },
  {
   "cell_type": "markdown",
   "metadata": {},
   "source": [
    "In this notebook we provide aids and computational workflows for the analysis of Joe Biden's State of the Union address given on March 7th, 2024.\n",
    "We use Large Language Models (LLMs). We walk through various steps involved in examining and understanding the speech in a systematic and reproducible manner.\n",
    "\n",
    "The speech transcript is taken from [whitehouse.gov](https://www.whitehouse.gov/briefing-room/speeches-remarks/2024/03/07/remarks-of-president-joe-biden-state-of-the-union-address-as-prepared-for-delivery-2/).\n",
    "\n",
    "The computations are done with a [Raku chatbook](https://raku.land/zef:antononcube/Jupyter::Chatbook), [AAp6, AAv1÷AAv3]. The LLM functions used in the workflows are explained and demonstrated in [AA1, AAv3].\n",
    "The workflows are done with OpenAI's models [AAp1]. Currently the models of Google's (PaLM), [AAp2], and MistralAI, [AAp3], cannot be used with the workflows below because their input token limits are too low.\n",
    "\n",
    "Similar set of workflows and prompts are described in:\n",
    "\n",
    "- [\"LLM aids for processing of the first Carlson-Putin interview\"](https://rakuforprediction.wordpress.com/2024/02/12/llm-aids-for-processing-of-the-first-carlson-putin-interview/), [AA2]\n",
    "- [\"LLM aids for processing Putin’s State-Of-The-Nation speech\"](https://rakuforprediction.wordpress.com/2024/03/03/llm-aids-for-processing-putins-state-of-the-nation-speech/), [AA3]\n",
    "- [\"Comprehension AI Aids for “Can AI Solve Science?”](https://rakuforprediction.wordpress.com/2024/03/09/comprehension-ai-aids-for-can-ai-solve-science/), [AA4]\n",
    "\n",
    "The prompts of the latter are used below."
   ]
  },
  {
   "cell_type": "markdown",
   "metadata": {},
   "source": [
    "The following table -- derived from Biden's address -- has the most important or provocative statements (found by an LLM):"
   ]
  },
  {
   "cell_type": "markdown",
   "metadata": {},
   "source": [
    "<table border=\"1\"><thead><tr><th>subject</th><th>statement</th></tr></thead><tbody><tr><td>Global politics and security</td><td>Overseas, Putin of Russia is on the march, invading Ukraine and sowing chaos throughout Europe and beyond.</td></tr><tr><td>Support for Ukraine</td><td>But Ukraine can stop Putin if we stand with Ukraine and provide the weapons it needs to defend itself.</td></tr><tr><td>Domestic politics</td><td>A former American President actually said that, bowing down to a Russian leader.</td></tr><tr><td>NATO</td><td>Today, we’ve made NATO stronger than ever.</td></tr><tr><td>Democracy and January 6th</td><td>January 6th and the lies about the 2020 election, and the plots to steal the election, posed the gravest threat to our democracy since the Civil War.</td></tr><tr><td>Reproductive rights</td><td>Guarantee the right to IVF nationwide!</td></tr><tr><td>Economic recovery and policies</td><td>15 million new jobs in just three years – that’s a record!</td></tr><tr><td>Healthcare and prescription drug costs</td><td>Instead of paying $400 a month for insulin seniors with diabetes only have to pay $35 a month!</td></tr><tr><td>Education and tuition</td><td>Let’s continue increasing Pell Grants for working- and middle-class families.</td></tr><tr><td>Tax reform</td><td>It’s time to raise the corporate minimum tax to at least 21% so every big corporation finally begins to pay their fair share.</td></tr><tr><td>Gun violence prevention</td><td>I’m demanding a ban on assault weapons and high-capacity magazines!</td></tr><tr><td>Immigration</td><td>Send me the border bill now!</td></tr><tr><td>Climate action</td><td>I am cutting our carbon emissions in half by 2030.</td></tr><tr><td>Israel and Gaza conflict</td><td>Israel has a right to go after Hamas.</td></tr><tr><td>Vision for America&#39;s future</td><td>I see a future where the middle class finally has a fair shot and the wealthy finally have to pay their fair share in taxes.</td></tr></tbody></table>"
   ]
  },
  {
   "cell_type": "markdown",
   "metadata": {},
   "source": [
    "### Structure\n",
    "\n",
    "The structure of the notebook is as follows:\n",
    "\n",
    "1. **Getting the speech text and setup**   \n",
    "    Standard ingestion and setup.\n",
    "2. **Themes**      \n",
    "    TL;DR via a table of themes.\n",
    "3. **Most important or provocative statements**   \n",
    "    What are the most important or provocative statements?\n",
    "4. **Summary and recommendations**    \n",
    "    Extracting speech wisdom.\n",
    "5. **Hidden and propaganda messages**   \n",
    "    For people living in USA. "
   ]
  },
  {
   "cell_type": "markdown",
   "metadata": {},
   "source": [
    "------\n",
    "\n",
    "## Getting the speech text and setup"
   ]
  },
  {
   "cell_type": "markdown",
   "metadata": {},
   "source": [
    "Here we load packages and define a text statistics function and HTML stripping function:"
   ]
  },
  {
   "cell_type": "code",
   "execution_count": 1,
   "metadata": {},
   "outputs": [
    {
     "data": {
      "text/plain": [
       "&strip-html"
      ]
     },
     "execution_count": 1,
     "metadata": {},
     "output_type": "execute_result"
    }
   ],
   "source": [
    "use HTTP::Tiny;\n",
    "use JSON::Fast;\n",
    "use Data::Reshapers;\n",
    "\n",
    "sub text-stats(Str:D $txt) { <chars words lines> Z=> [$txt.chars, $txt.words.elems, $txt.lines.elems] }\n",
    "\n",
    "sub strip-html(Str $html) returns Str {\n",
    "\n",
    "    my $res = $html\n",
    "    .subst(/'<style'.*?'</style>'/, :g)\n",
    "    .subst(/'<script'.*?'</script>'/, :g)\n",
    "    .subst(/'<'.*?'>'/, :g)\n",
    "    .subst(/'&lt;'.*?'&gt;'/, :g)\n",
    "    .subst(/'&nbsp;'/, ' ', :g)\n",
    "    .subst(/[\\v\\s*] ** 2..*/, \"\\n\\n\", :g);\n",
    "\n",
    "    return $res;\n",
    "}"
   ]
  },
  {
   "cell_type": "markdown",
   "metadata": {},
   "source": [
    "### Ingest text"
   ]
  },
  {
   "cell_type": "markdown",
   "metadata": {},
   "source": [
    "Here we ingest the text of the speech:"
   ]
  },
  {
   "cell_type": "code",
   "execution_count": 2,
   "metadata": {},
   "outputs": [
    {
     "data": {
      "text/plain": [
       "(chars => 37702 words => 6456 lines => 453)"
      ]
     },
     "execution_count": 2,
     "metadata": {},
     "output_type": "execute_result"
    }
   ],
   "source": [
    "my $url = 'https://www.whitehouse.gov/briefing-room/speeches-remarks/2024/03/07/remarks-of-president-joe-biden-state-of-the-union-address-as-prepared-for-delivery-2/';\n",
    "my $htmlEN = HTTP::Tiny.new.get($url)<content>.decode;\n",
    "\n",
    "$htmlEN .= subst(/ \\v+ /, \"\\n\", :g);\n",
    "\n",
    "my $txtEN = strip-html($htmlEN);\n",
    "\n",
    "$txtEN .= substr($txtEN.index('March 07, 2024') .. ($txtEN.index(\"Next Post:\") - 1));\n",
    "\n",
    "text-stats($txtEN)"
   ]
  },
  {
   "cell_type": "markdown",
   "metadata": {},
   "source": [
    "### LLM access configuration"
   ]
  },
  {
   "cell_type": "markdown",
   "metadata": {},
   "source": [
    "Here we configure LLM access -- we use OpenAI's model \"gpt-4-turbo-preview\" since it allows inputs with 128K tokens:"
   ]
  },
  {
   "cell_type": "code",
   "execution_count": 3,
   "metadata": {},
   "outputs": [
    {
     "data": {
      "text/plain": [
       "22"
      ]
     },
     "execution_count": 3,
     "metadata": {},
     "output_type": "execute_result"
    }
   ],
   "source": [
    "my $conf = llm-configuration('ChatGPT', model => 'gpt-4-turbo-preview', max-tokens => 4096, temperature => 0.7);\n",
    "$conf.Hash.elems"
   ]
  },
  {
   "cell_type": "markdown",
   "metadata": {},
   "source": [
    "---- \n",
    "\n",
    "## Themes"
   ]
  },
  {
   "cell_type": "markdown",
   "metadata": {},
   "source": [
    "Here we extract the themes found in the speech and tabulate them (using the prompt [\"ThemeTableJSON\"](https://www.wolframcloud.com/obj/antononcube/DeployedResources/Prompt/ThemeTableJSON/)):"
   ]
  },
  {
   "cell_type": "code",
   "execution_count": 47,
   "metadata": {},
   "outputs": [
    {
     "data": {
      "text/plain": [
       "(16 2)"
      ]
     },
     "execution_count": 47,
     "metadata": {},
     "output_type": "execute_result"
    }
   ],
   "source": [
    "my $tblThemes = llm-synthesize(llm-prompt(\"ThemeTableJSON\")($txtEN, \"article\", 50), e => $conf, form => sub-parser('JSON'):drop);\n",
    "\n",
    "$tblThemes.&dimensions;"
   ]
  },
  {
   "cell_type": "markdown",
   "metadata": {},
   "source": [
    "Here we tabulate the found themes:"
   ]
  },
  {
   "cell_type": "code",
   "execution_count": 48,
   "metadata": {},
   "outputs": [
    {
     "data": {
      "text/html": [
       "<table border=\"1\"><thead><tr><th>theme</th><th>content</th></tr></thead><tbody><tr><td>Introduction</td><td>President Joe Biden begins by reflecting on historical challenges to freedom and democracy, comparing them to current threats both domestically and internationally.</td></tr><tr><td>Foreign Policy and National Security</td><td>Biden addresses the situation in Ukraine, NATO&#39;s strength, and the necessity of bipartisan support to confront Putin and Russia&#39;s aggression.</td></tr><tr><td>Domestic Challenges and Democracy</td><td>He discusses the January 6th insurrection, the ongoing threats to democracy in the U.S., and the need for unity to defend democratic values.</td></tr><tr><td>Reproductive Rights</td><td>Biden criticizes the overturning of Roe v. Wade, shares personal stories to highlight the impact, and calls for legislative action to protect reproductive freedoms.</td></tr><tr><td>Economic Recovery and Policy</td><td>The President outlines his administration&#39;s achievements in job creation, economic growth, and efforts to reduce inflation, emphasizing a middle-out economic approach.</td></tr><tr><td>Infrastructure and Manufacturing</td><td>Biden highlights investments in infrastructure, clean energy, and manufacturing, including specific projects and acts that have contributed to job creation and economic development.</td></tr><tr><td>Healthcare</td><td>He details achievements in healthcare reform, including prescription drug pricing, expansion of Medicare, and initiatives focused on women&#39;s health research.</td></tr><tr><td>Housing and Education</td><td>The President proposes solutions for the housing crisis and outlines plans for improving education from preschool to college affordability.</td></tr><tr><td>Tax Reform and Fiscal Responsibility</td><td>Biden proposes tax reforms targeting corporations and the wealthy to ensure fairness and fund his policy initiatives, contrasting his approach with the previous administration.</td></tr><tr><td>Climate Change and Environmental Policy</td><td>He discusses significant actions taken to address climate change, emphasizing job creation in clean energy and conservation efforts.</td></tr><tr><td>Immigration and Border Security</td><td>Biden contrasts his immigration policy with his predecessor&#39;s, advocating for a bipartisan border security bill and a compassionate approach to immigration.</td></tr><tr><td>Voting Rights and Civil Rights</td><td>The President calls for the passage of voting rights legislation and addresses issues around diversity, equality, and the protection of fundamental rights.</td></tr><tr><td>Gun Violence Prevention</td><td>He shares personal stories to underscore the urgency of gun violence prevention, celebrating past achievements and calling for further action.</td></tr><tr><td>Foreign Conflicts</td><td>Biden addresses the conflict in the Middle East, emphasizing the need for humanitarian aid and a two-state solution for Israel and Palestine.</td></tr><tr><td>Global Leadership and Competition</td><td>The President discusses the U.S.&#39;s economic competition with China, American leadership on the global stage, and the importance of alliances.</td></tr><tr><td>Vision for America&#39;s Future</td><td>Biden concludes with an optimistic vision for America, focusing on unity, democracy, and a future where America leads by example.</td></tr></tbody></table>"
      ]
     },
     "execution_count": 48,
     "metadata": {},
     "output_type": "execute_result"
    }
   ],
   "source": [
    "#% html\n",
    "$tblThemes ==> data-translation(field-names=><theme content>)"
   ]
  },
  {
   "cell_type": "markdown",
   "metadata": {},
   "source": [
    "------\n",
    "\n",
    "## Most important or provocative statements"
   ]
  },
  {
   "cell_type": "markdown",
   "metadata": {},
   "source": [
    "Here we find important or provocative statements in the speech via an LLM synthesis:"
   ]
  },
  {
   "cell_type": "code",
   "execution_count": 38,
   "metadata": {},
   "outputs": [
    {
     "data": {
      "text/plain": [
       "(15 2)"
      ]
     },
     "execution_count": 38,
     "metadata": {},
     "output_type": "execute_result"
    }
   ],
   "source": [
    "my $imp = llm-synthesize([\n",
    "    \"Give the most important or provocative statements in the following speech.\\n\\n\", \n",
    "    $txtEN,\n",
    "    \"Give the results as a JSON array with subject-statement pairs.\",\n",
    "    llm-prompt('NothingElse')('JSON')\n",
    "    ], e => $conf, form => sub-parser('JSON'):drop);\n",
    "\n",
    "$imp.&dimensions"
   ]
  },
  {
   "cell_type": "markdown",
   "metadata": {},
   "source": [
    "Show the important or provocative statements in Markdown format:"
   ]
  },
  {
   "cell_type": "code",
   "execution_count": 49,
   "metadata": {},
   "outputs": [
    {
     "data": {
      "text/html": [
       "<table border=\"1\"><thead><tr><th>subject</th><th>statement</th></tr></thead><tbody><tr><td>Global politics and security</td><td>Overseas, Putin of Russia is on the march, invading Ukraine and sowing chaos throughout Europe and beyond.</td></tr><tr><td>Support for Ukraine</td><td>But Ukraine can stop Putin if we stand with Ukraine and provide the weapons it needs to defend itself.</td></tr><tr><td>Domestic politics</td><td>A former American President actually said that, bowing down to a Russian leader.</td></tr><tr><td>NATO</td><td>Today, we’ve made NATO stronger than ever.</td></tr><tr><td>Democracy and January 6th</td><td>January 6th and the lies about the 2020 election, and the plots to steal the election, posed the gravest threat to our democracy since the Civil War.</td></tr><tr><td>Reproductive rights</td><td>Guarantee the right to IVF nationwide!</td></tr><tr><td>Economic recovery and policies</td><td>15 million new jobs in just three years – that’s a record!</td></tr><tr><td>Healthcare and prescription drug costs</td><td>Instead of paying $400 a month for insulin seniors with diabetes only have to pay $35 a month!</td></tr><tr><td>Education and tuition</td><td>Let’s continue increasing Pell Grants for working- and middle-class families.</td></tr><tr><td>Tax reform</td><td>It’s time to raise the corporate minimum tax to at least 21% so every big corporation finally begins to pay their fair share.</td></tr><tr><td>Gun violence prevention</td><td>I’m demanding a ban on assault weapons and high-capacity magazines!</td></tr><tr><td>Immigration</td><td>Send me the border bill now!</td></tr><tr><td>Climate action</td><td>I am cutting our carbon emissions in half by 2030.</td></tr><tr><td>Israel and Gaza conflict</td><td>Israel has a right to go after Hamas.</td></tr><tr><td>Vision for America&#39;s future</td><td>I see a future where the middle class finally has a fair shot and the wealthy finally have to pay their fair share in taxes.</td></tr></tbody></table>"
      ]
     },
     "execution_count": 49,
     "metadata": {},
     "output_type": "execute_result"
    }
   ],
   "source": [
    "#% html\n",
    "$imp ==> data-translation(field-names => <subject statement>)"
   ]
  },
  {
   "cell_type": "markdown",
   "metadata": {},
   "source": [
    "-------\n",
    "\n",
    "## Summary and recommendations\n",
    "\n",
    "Here we get a summary and extract ideas, quotes, and recommendations from the speech:"
   ]
  },
  {
   "cell_type": "code",
   "execution_count": 19,
   "metadata": {},
   "outputs": [
    {
     "data": {
      "text/plain": [
       "(chars => 6166 words => 972 lines => 95)"
      ]
     },
     "execution_count": 19,
     "metadata": {},
     "output_type": "execute_result"
    }
   ],
   "source": [
    "my $sumIdea =llm-synthesize(llm-prompt(\"ExtractArticleWisdom\")($txtEN), e => $conf);\n",
    "\n",
    "text-stats($sumIdea)"
   ]
  },
  {
   "cell_type": "markdown",
   "metadata": {},
   "source": [
    "The result is rendered below.\n",
    "\n",
    "<hr width=\"65%\">"
   ]
  },
  {
   "cell_type": "code",
   "execution_count": 20,
   "metadata": {},
   "outputs": [
    {
     "data": {
      "text/markdown": [
       "### SUMMARY\n",
       "\n",
       "President Joe Biden delivered the State of the Union Address on March 7, 2024, focusing on the challenges and opportunities facing the United States. He discussed the assault on democracy, the situation in Ukraine, domestic policies including healthcare and economy, and the need for unity and progress in addressing national and international issues.\n",
       "\n",
       "### IDEAS:\n",
       "\n",
       "- The historical context of challenges to freedom and democracy, drawing parallels between past and present threats.\n",
       "- The role of the United States in supporting Ukraine against Russian aggression.\n",
       "- The importance of bipartisan support for national security and democracy.\n",
       "- The need for America to take a leadership role in NATO and support its allies.\n",
       "- The dangers of political figures undermining democratic values for personal or political gain.\n",
       "- The connection between domestic policies and the strength of democracy, including reproductive rights and healthcare.\n",
       "- The economic recovery and growth under the Biden administration, emphasizing job creation and infrastructure improvements.\n",
       "- The focus on middle-class prosperity and the role of unions in economic recovery.\n",
       "- The commitment to addressing climate change and promoting clean energy jobs.\n",
       "- The significance of education, from pre-school access to college affordability, in securing America's future.\n",
       "- The need for fair taxation and closing loopholes for the wealthy and corporations.\n",
       "- The importance of healthcare reform, including lowering prescription drug costs and expanding Medicare.\n",
       "- The commitment to protecting Social Security and Medicare from cuts.\n",
       "- The approach to immigration reform and border security as humanitarian and security issues.\n",
       "- The stance on gun violence prevention and the need for stricter gun control laws.\n",
       "- The emphasis on America's resilience and optimism for the future.\n",
       "- The call for unity in defending democracy and building a better future for all Americans.\n",
       "- The vision of America as a land of possibilities, with a focus on progress and inclusivity.\n",
       "- The acknowledgment of America's role in the world, including support for Israel and a two-state solution with Palestine.\n",
       "- The importance of scientific research and innovation in solving major challenges like cancer.\n",
       "\n",
       "### QUOTES:\n",
       "\n",
       "- \"Not since President Lincoln and the Civil War have freedom and democracy been under assault here at home as they are today.\"\n",
       "- \"America is a founding member of NATO the military alliance of democratic nations created after World War II to prevent war and keep the peace.\"\n",
       "- \"History is watching, just like history watched three years ago on January 6th.\"\n",
       "- \"You can’t love your country only when you win.\"\n",
       "- \"Inflation has dropped from 9% to 3% – the lowest in the world!\"\n",
       "- \"The racial wealth gap is the smallest it’s been in 20 years.\"\n",
       "- \"I’ve been delivering real results in a fiscally responsible way.\"\n",
       "- \"Restore the Child Tax Credit because no child should go hungry in this country!\"\n",
       "- \"No billionaire should pay a lower tax rate than a teacher, a sanitation worker, a nurse!\"\n",
       "- \"We are the only nation in the world with a heart and soul that draws from old and new.\"\n",
       "\n",
       "### HABITS:\n",
       "\n",
       "- Advocating for bipartisan cooperation in Congress.\n",
       "- Emphasizing the importance of education in personal growth and national prosperity.\n",
       "- Promoting the use of clean energy and sustainable practices to combat climate change.\n",
       "- Prioritizing healthcare reform to make it more affordable and accessible.\n",
       "- Supporting small businesses and entrepreneurship as engines of economic growth.\n",
       "- Encouraging scientific research and innovation, especially in healthcare.\n",
       "- Upholding the principles of fair taxation and economic justice.\n",
       "- Leveraging diplomacy and international alliances for global stability.\n",
       "- Committing to the protection of democratic values and institutions.\n",
       "- Fostering community engagement and civic responsibility.\n",
       "\n",
       "### FACTS:\n",
       "\n",
       "- The United States has welcomed Finland and Sweden into NATO, strengthening the alliance.\n",
       "- The U.S. economy has created 15 million new jobs in three years, a record number.\n",
       "- Inflation in the United States has decreased from 9% to 3%.\n",
       "- More people have health insurance in the U.S. today than ever before.\n",
       "- The racial wealth gap is the smallest it has been in 20 years.\n",
       "- The United States is investing more in research and development than ever before.\n",
       "- The Biden administration has made the largest investment in public safety ever through the American Rescue Plan.\n",
       "- The murder rate saw the sharpest decrease in history last year.\n",
       "- The United States is leading international efforts to provide humanitarian assistance to Gaza.\n",
       "- The U.S. has revitalized its partnerships and alliances in the Pacific region.\n",
       "\n",
       "### REFERENCES:\n",
       "\n",
       "- NATO military alliance.\n",
       "- Bipartisan National Security Bill.\n",
       "- Chips and Science Act.\n",
       "- Bipartisan Infrastructure Law.\n",
       "- Affordable Care Act (Obamacare).\n",
       "- Voting Rights Act.\n",
       "- Freedom to Vote Act.\n",
       "- John Lewis Voting Rights Act.\n",
       "- PRO Act for worker's rights.\n",
       "- PACT Act for veterans exposed to toxins.\n",
       "\n",
       "### RECOMMENDATIONS:\n",
       "\n",
       "- Stand with Ukraine and support its defense against Russian aggression.\n",
       "- Strengthen NATO and support new member states.\n",
       "- Pass the Bipartisan National Security Bill to enhance U.S. security.\n",
       "- Guarantee reproductive rights nationwide and protect healthcare decisions.\n",
       "- Continue economic policies that promote job creation and infrastructure development.\n",
       "- Implement fair taxation for corporations and the wealthy to ensure economic justice.\n",
       "- Expand Medicare and lower prescription drug costs for all Americans.\n",
       "- Protect and strengthen Social Security and Medicare.\n",
       "- Pass comprehensive immigration reform and secure the border humanely.\n",
       "- Address climate change through significant investments in clean energy and jobs.\n",
       "- Promote education access from pre-school to college to ensure a competitive workforce.\n",
       "- Implement stricter gun control laws, including bans on assault weapons and universal background checks.\n",
       "- Support a two-state solution for Israel and Palestine and work towards peace in the Middle East.\n",
       "- Harness the promise of artificial intelligence while protecting against its perils."
      ]
     },
     "execution_count": 20,
     "metadata": {},
     "output_type": "execute_result"
    }
   ],
   "source": [
    "#% markdown\n",
    "$sumIdea.subst(/ ^^ '#' /, '###', :g)"
   ]
  },
  {
   "cell_type": "markdown",
   "metadata": {},
   "source": [
    "-------\n",
    "\n",
    "## Hidden and propaganda messages"
   ]
  },
  {
   "cell_type": "markdown",
   "metadata": {},
   "source": [
    "\n",
    " In this section we try to find is the speech apolitical and propaganda-free. \n",
    "\n",
    "**Remark:** We leave to the reader as an exercise to verify that both the overt and hidden messages found by the LLM below are explicitly stated in article.\n",
    "\n",
    "Here we find the hidden and “propaganda” messages in the article:"
   ]
  },
  {
   "cell_type": "code",
   "execution_count": 16,
   "metadata": {},
   "outputs": [
    {
     "data": {
      "text/plain": [
       "(chars => 6441 words => 893 lines => 83)"
      ]
     },
     "execution_count": 16,
     "metadata": {},
     "output_type": "execute_result"
    }
   ],
   "source": [
    "my $propMess =llm-synthesize([llm-prompt(\"FindPropagandaMessage\"), $txtEN], e => $conf);\n",
    "\n",
    "text-stats($propMess)"
   ]
  },
  {
   "cell_type": "markdown",
   "metadata": {},
   "source": [
    "**Remark:** The prompt [\"FindPropagandaMessage\"](https://www.wolframcloud.com/obj/antononcube/DeployedResources/Prompt/FindPropagandaMessage/) has an explicit instruction to say that it is intentionally cynical. It is also, marked as being \"For fun.\"\n",
    "\n",
    "The LLM result is rendered below.\n",
    "\n",
    "<hr width=\"65%\">"
   ]
  },
  {
   "cell_type": "code",
   "execution_count": 27,
   "metadata": {},
   "outputs": [
    {
     "data": {
      "text/markdown": [
       "OVERT MESSAGE\n",
       "\n",
       "President Biden emphasizes democracy, support for Ukraine, and domestic advancements in his address.\n",
       "\n",
       "HIDDEN MESSAGE\n",
       "\n",
       "Biden seeks to consolidate Democratic power by evoking fear of Republican governance and foreign threats.\n",
       "\n",
       "HIDDEN OPINIONS\n",
       "\n",
       "- Democratic policies ensure national and global security effectively.\n",
       "- Republican opposition jeopardizes both national unity and international alliances.\n",
       "- Historical comparisons highlight current threats to democracy as unprecedented.\n",
       "- Support for Ukraine is a moral and strategic imperative for global democracy.\n",
       "- Criticism of the Supreme Court's decisions reflects a push for legislative action on contentious issues.\n",
       "- Emphasis on job creation and economic policies aims to showcase Democratic governance success.\n",
       "- Investments in infrastructure and technology are crucial for future American prosperity.\n",
       "- Health care reforms and education investments underscore a commitment to social welfare.\n",
       "- Climate change initiatives are both a moral obligation and economic opportunity.\n",
       "- Immigration reforms are positioned as essential to American identity and values.\n",
       "\n",
       "SUPPORTING ARGUMENTS and QUOTES\n",
       "\n",
       "- Comparisons to past crises underscore the urgency of current threats.\n",
       "- Criticism of Republican predecessors and Congress members suggests a need for Democratic governance.\n",
       "- References to NATO and Ukraine highlight a commitment to international democratic principles.\n",
       "- Mention of Supreme Court decisions and calls for legislative action stress the importance of Democratic control.\n",
       "- Economic statistics and policy achievements are used to argue for the effectiveness of Democratic governance.\n",
       "- Emphasis on infrastructure, technology, and climate investments showcases forward-thinking policies.\n",
       "- Discussion of health care and education reforms highlights a focus on social welfare.\n",
       "- The portrayal of immigration reforms reflects a foundational American value under Democratic leadership.\n",
       "\n",
       "DESIRED AUDIENCE OPINION CHANGE\n",
       "\n",
       "- See Democratic policies as essential for both national and global security.\n",
       "- View Republican opposition as a threat to democracy and unity.\n",
       "- Recognize the urgency of supporting Ukraine against foreign aggression.\n",
       "- Agree with the need for legislative action on Supreme Court decisions.\n",
       "- Appreciate the success of Democratic economic and infrastructure policies.\n",
       "- Support Democratic initiatives on climate change as crucial for the future.\n",
       "- Acknowledge the importance of health care and education investments.\n",
       "- Value immigration reforms as core to American identity and values.\n",
       "- Trust in Democratic leadership for navigating global crises.\n",
       "- Believe in the effectiveness of Democratic governance for social welfare.\n",
       "\n",
       "DESIRED AUDIENCE ACTION CHANGE\n",
       "\n",
       "- Support Democratic candidates in elections.\n",
       "- Advocate for legislative action on contentious Supreme Court decisions.\n",
       "- Endorse and rally for Democratic economic and infrastructure policies.\n",
       "- Participate in initiatives supporting climate change action.\n",
       "- Engage in advocacy for health care and education reforms.\n",
       "- Embrace and promote immigration reforms as fundamental to American values.\n",
       "- Voice opposition to Republican policies perceived as threats to democracy.\n",
       "- Mobilize for international solidarity, particularly regarding Ukraine.\n",
       "- Trust in and amplify the successes of Democratic governance.\n",
       "- Actively defend democratic principles both nationally and internationally.\n",
       "\n",
       "MESSAGES\n",
       "\n",
       "President Biden wants you to believe he is advocating for democracy and progress, but he is actually seeking to consolidate Democratic power and diminish Republican influence.\n",
       "\n",
       "PERCEPTIONS\n",
       "\n",
       "President Biden wants you to believe he is a unifier and protector of democratic values, but he's actually a strategic politician emphasizing Democratic successes and Republican failures.\n",
       "\n",
       "ELLUL'S ANALYSIS\n",
       "\n",
       "According to Jacques Ellul's \"Propaganda: The Formation of Men's Attitudes,\" Biden's address exemplifies modern political propaganda through its strategic framing of issues, historical comparisons, and appeals to democratic ideals. Ellul would likely note the address's dual function: to solidify in-group unity (among Democratic supporters) and to subtly influence the broader public's perceptions of domestic and international challenges. The speech leverages crises as opportunities for reinforcing the necessity of Democratic governance, illustrating Ellul's observation that effective propaganda exploits existing tensions to achieve political objectives.\n",
       "\n",
       "BERNAYS' ANALYSIS\n",
       "\n",
       "Based on Edward Bernays' \"Propaganda\" and \"Engineering of Consent,\" Biden's speech can be seen as an exercise in shaping public opinion towards Democratic policies and leadership. Bernays would recognize the sophisticated use of symbols (e.g., references to historical events and figures) and emotional appeals to construct a narrative that positions Democratic governance as essential for the nation's future. The speech's emphasis on bipartisan achievements and calls for legislative action also reflect Bernays' insights into the importance of creating a perception of consensus and societal progress.\n",
       "\n",
       "LIPPMANN'S ANALYSIS\n",
       "\n",
       "Walter Lippmann's \"Public Opinion\" offers a perspective on how Biden's address attempts to manufacture consent for Democratic policies by presenting a carefully curated version of reality. Lippmann would likely point out the strategic selection of facts, statistics, and stories designed to reinforce the audience's existing preconceptions and to guide them towards desired conclusions. The address's focus on bipartisan accomplishments and urgent challenges serves to create an environment where Democratic solutions appear both reasonable and necessary.\n",
       "\n",
       "FRANKFURT'S ANALYSIS\n",
       "\n",
       "Harry G. Frankfurt's \"On Bullshit\" provides a lens for criticizing the speech's relationship with truth and sincerity. Frankfurt might argue that while the address purports to be an honest assessment of the nation's state, it strategically blurs the line between truth and falsehood to serve political ends. The speech's selective presentation of facts and omission of inconvenient truths could be seen as indicative of a broader political culture where the distinction between lying and misleading is increasingly irrelevant.\n",
       "\n",
       "**NOTE: This AI is tuned specifically to be cynical and politically-minded. Don't take it as perfect. Run it multiple times and/or go consume the original input to get a second opinion.**"
      ]
     },
     "execution_count": 27,
     "metadata": {},
     "output_type": "execute_result"
    }
   ],
   "source": [
    "#% markdown\n",
    "$propMess.subst(/ ^^ '#' /, '###', :g).subst(/ ^^ (<[A..Z \\h \\']>+ ':') /, { \"### {$0.Str} \\n\"}, :g)"
   ]
  },
  {
   "cell_type": "markdown",
   "metadata": {},
   "source": [
    "--------\n",
    "\n",
    "## References"
   ]
  },
  {
   "cell_type": "markdown",
   "metadata": {},
   "source": [
    "### Articles\n",
    "\n",
    "[AA1] Anton Antonov,\n",
    "[\"Workflows with LLM functions\"](https://rakuforprediction.wordpress.com/2023/08/01/workflows-with-llm-functions/),\n",
    "(2023),\n",
    "[RakuForPrediction at WordPress](https://rakuforprediction.wordpress.com).\n",
    "\n",
    "[AA2] Anton Antonov,\n",
    "[\"LLM aids for processing of the first Carlson-Putin interview\"](https://rakuforprediction.wordpress.com/2024/02/12/llm-aids-for-processing-of-the-first-carlson-putin-interview/),\n",
    "(2024),\n",
    "[RakuForPrediction at WordPress](https://rakuforprediction.wordpress.com).\n",
    "\n",
    "[AA3] Anton Antonov,\n",
    "[\"LLM aids for processing Putin’s State-Of-The-Nation speech\"](https://rakuforprediction.wordpress.com/2024/03/03/llm-aids-for-processing-putins-state-of-the-nation-speech/)\n",
    "(2024),\n",
    "[RakuForPrediction at WordPress](https://rakuforprediction.wordpress.com).\n",
    "\n",
    "[AA4] Anton Antonov,\n",
    "[\"Comprehension AI Aids for “Can AI Solve Science?”](https://rakuforprediction.wordpress.com/2024/03/09/comprehension-ai-aids-for-can-ai-solve-science/),\n",
    "(2024),\n",
    "[RakuForPrediction at WordPress](https://rakuforprediction.wordpress.com).\n",
    "\n",
    "[OAIb1] OpenAI team,\n",
    "[\"New models and developer products announced at DevDay\"](https://openai.com/blog/new-models-and-developer-products-announced-at-devday),\n",
    "(2023),\n",
    "[OpenAI/blog](https://openai.com/blog)."
   ]
  },
  {
   "cell_type": "markdown",
   "metadata": {},
   "source": [
    "### Packages\n",
    "\n",
    "[AAp1] Anton Antonov,\n",
    "[WWW::OpenAI](https://github.com/antononcube/Raku-WWW-OpenAI) Raku package,\n",
    "(2023-2024),\n",
    "[GitHub/antononcube](https://github.com/antononcube).\n",
    "\n",
    "\n",
    "[AAp2] Anton Antonov,\n",
    "[WWW::PaLM](https://github.com/antononcube/Raku-WWW-PaLM) Raku package,\n",
    "(2023-2024),\n",
    "[GitHub/antononcube](https://github.com/antononcube).\n",
    "\n",
    "\n",
    "[AAp3] Anton Antonov,\n",
    "[WWW::MistralAI](https://github.com/antononcube/Raku-WWW-MistralAI) Raku package,\n",
    "(2023-2024),\n",
    "[GitHub/antononcube](https://github.com/antononcube).\n",
    "\n",
    "\n",
    "[AAp4] Anton Antonov,\n",
    "[WWW::LLaMA](https://github.com/antononcube/Raku-WWW-LLaMA) Raku package,\n",
    "(2024),\n",
    "[GitHub/antononcube](https://github.com/antononcube).\n",
    "\n",
    "\n",
    "[AAp5] Anton Antonov,\n",
    "[LLM::Functions](https://github.com/antononcube/Raku-LLM-Functions) Raku package,\n",
    "(2023),\n",
    "[GitHub/antononcube](https://github.com/antononcube).\n",
    "\n",
    "\n",
    "[AAp6] Anton Antonov,\n",
    "[Jupyter::Chatbook](https://github.com/antononcube/Raku-Jupyter-Chatbook) Raku package,\n",
    "(2023),\n",
    "[GitHub/antononcube](https://github.com/antononcube).\n",
    "\n",
    "\n",
    "[AAp7] Anton Antonov,\n",
    "[Image::Markup::Utilities](https://github.com/antononcube/Raku-Image-Markup-Utilities) Raku package,\n",
    "(2023),\n",
    "[GitHub/antononcube](https://github.com/antononcube).\n"
   ]
  },
  {
   "cell_type": "markdown",
   "metadata": {},
   "source": [
    "### Videos\n",
    "\n",
    "[AAv1] Anton Antonov,\n",
    "[\"Jupyter Chatbook LLM cells demo (Raku)\"](https://www.youtube.com/watch?v=cICgnzYmQZg),\n",
    "(2023),\n",
    "[YouTube/@AAA4Prediction](https://www.youtube.com/@AAA4prediction).\n",
    "\n",
    "[AAv2] Anton Antonov,\n",
    "[\"Jupyter Chatbook multi cell LLM chats teaser (Raku)\"](https://www.youtube.com/watch?v=wNpIGUAwZB8),\n",
    "(2023),\n",
    "[YouTube/@AAA4Prediction](https://www.youtube.com/@AAA4prediction).\n",
    "\n",
    "[AAv3] Anton Antonov\n",
    "[\"Integrating Large Language Models with Raku\"](https://www.youtube.com/watch?v=-OxKqRrQvh0),\n",
    "(2023),\n",
    "[YouTube/@therakuconference6823](https://www.youtube.com/@therakuconference6823)."
   ]
  }
 ],
 "metadata": {
  "kernelspec": {
   "display_name": "RakuChatbook",
   "language": "raku",
   "name": "raku"
  },
  "language_info": {
   "file_extension": ".raku",
   "mimetype": "text/x-raku",
   "name": "raku",
   "version": "6.d"
  }
 },
 "nbformat": 4,
 "nbformat_minor": 2
}
