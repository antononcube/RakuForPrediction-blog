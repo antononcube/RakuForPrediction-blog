{
 "cells": [
  {
   "cell_type": "markdown",
   "metadata": {},
   "source": [
    "# Numeric properties of 2025\n",
    "\n",
    "Anton Antonov  \n",
    "[RakuForPrediction at WordPress](https://rakuforprediction.wordpress.com)   \n",
    "January 2025   \n"
   ]
  },
  {
   "cell_type": "markdown",
   "metadata": {},
   "source": [
    "-----\n",
    "\n",
    "## Introduction"
   ]
  },
  {
   "cell_type": "markdown",
   "metadata": {},
   "source": [
    "This blog post demonstrates many of the mathematical properties for the number `2025` given in the Wolfram notebook [\"Happy 2025 == 1³+2³+3³+4³+5³+6³+7³+8³+9³ !\"](https://community.wolfram.com/groups/-/m/t/3347182), [EPn1], ​by [Ed Pegg Jr](https://en.wikipedia.org/wiki/Ed_Pegg_Jr.).\n",
    "\n",
    "We cannot computationally demonstrate _easily_ all of the properties in Raku; for the full exposition of them see [EPn1].\n"
   ]
  },
  {
   "cell_type": "markdown",
   "metadata": {},
   "source": [
    "----\n",
    "\n",
    "## Most impressive"
   ]
  },
  {
   "cell_type": "markdown",
   "metadata": {},
   "source": [
    "First, let us demonstrate the most impressive numeric property of `2025`:\n",
    "\n",
    "$$\n",
    "2025 = 1^3 + 2^3 + 3^3 + 4^3 + 5^3 + 6^3 + 7^3 + 8^3 + 9^3 = (1 + 2 + 3 + 4 + 5 + 6 + 7 + 8 + 9)^2\n",
    "$$"
   ]
  },
  {
   "cell_type": "markdown",
   "metadata": {},
   "source": [
    "This comes from the following identify, often referred to as [Faulhaber’s Formula or Nicomachus’s Theorem](https://mathworld.wolfram.com/FaulhabersFormula.html):\n",
    "\n",
    "$$\n",
    "\\sum _n^{k=1} k^3=\\left(\\sum _n^{k=1} k\\right){}^2\n",
    "$$"
   ]
  },
  {
   "cell_type": "code",
   "execution_count": 1,
   "metadata": {},
   "outputs": [
    {
     "name": "stdout",
     "output_type": "stream",
     "text": [
      "Sum of cubes of 1..9 : 2025\n",
      "Sum of 1..9 squared  : 2025\n"
     ]
    }
   ],
   "source": [
    "say \"Sum of cubes of 1..9 : \", [+] (1..9)>>³;\n",
    "say \"Sum of 1..9 squared  : \", ((1..9).sum)²;"
   ]
  },
  {
   "cell_type": "markdown",
   "metadata": {},
   "source": [
    "-----\n",
    "\n",
    "## Simple"
   ]
  },
  {
   "cell_type": "markdown",
   "metadata": {},
   "source": [
    "Next, let us demonstrate the simple numeric properties of `2025`."
   ]
  },
  {
   "cell_type": "markdown",
   "metadata": {},
   "source": [
    "`2025` is obtained by the square of the sum of (i) the number of the first two digits, `20`, with (ii) the number of the 3rd and 4th digits, `25`:"
   ]
  },
  {
   "cell_type": "code",
   "execution_count": 2,
   "metadata": {},
   "outputs": [
    {
     "data": {
      "text/plain": [
       "2025"
      ]
     },
     "execution_count": 2,
     "metadata": {},
     "output_type": "execute_result"
    }
   ],
   "source": [
    " (20+25) ** 2"
   ]
  },
  {
   "cell_type": "markdown",
   "metadata": {},
   "source": [
    "An odd property of the square root, `45 == 2025.sqrt`, is that it is the smallest integer where the periodic part of the reciprocal is `2`:"
   ]
  },
  {
   "cell_type": "code",
   "execution_count": 8,
   "metadata": {},
   "outputs": [
    {
     "data": {
      "text/plain": [
       "0.0222222222222222222222222222222222222222"
      ]
     },
     "execution_count": 8,
     "metadata": {},
     "output_type": "execute_result"
    }
   ],
   "source": [
    "use Rat::Precise;\n",
    "(1/45).precise(40)"
   ]
  },
  {
   "cell_type": "markdown",
   "metadata": {},
   "source": [
    "`2025` is the denominator for this sum of squares:"
   ]
  },
  {
   "cell_type": "code",
   "execution_count": 11,
   "metadata": {},
   "outputs": [
    {
     "data": {
      "text/plain": [
       "(106 2025)"
      ]
     },
     "execution_count": 11,
     "metadata": {},
     "output_type": "execute_result"
    }
   ],
   "source": [
    "(1/9² + 1/5²).nude"
   ]
  },
  {
   "cell_type": "markdown",
   "metadata": {},
   "source": [
    "-----\n",
    "\n",
    "## Divisors-based"
   ]
  },
  {
   "cell_type": "markdown",
   "metadata": {},
   "source": [
    "`2025` is the product of greatest common divisors of `15` for numbers less than `15`:"
   ]
  },
  {
   "cell_type": "code",
   "execution_count": 23,
   "metadata": {},
   "outputs": [
    {
     "data": {
      "text/plain": [
       "2025"
      ]
     },
     "execution_count": 23,
     "metadata": {},
     "output_type": "execute_result"
    }
   ],
   "source": [
    "[*] (1..14).map(15 gcd *)"
   ]
  },
  {
   "cell_type": "markdown",
   "metadata": {},
   "source": [
    "`2025` is the product of the proper divisors of `45`:"
   ]
  },
  {
   "cell_type": "code",
   "execution_count": 34,
   "metadata": {},
   "outputs": [
    {
     "data": {
      "text/plain": [
       "[1 3 5 9 15]"
      ]
     },
     "execution_count": 34,
     "metadata": {},
     "output_type": "execute_result"
    }
   ],
   "source": [
    "use Math::Sequences::Integer :support;\n",
    "my @proper = divisors(45).head(*-1)"
   ]
  },
  {
   "cell_type": "code",
   "execution_count": 35,
   "metadata": {},
   "outputs": [
    {
     "data": {
      "text/plain": [
       "2025"
      ]
     },
     "execution_count": 35,
     "metadata": {},
     "output_type": "execute_result"
    }
   ],
   "source": [
    "[*] |@proper"
   ]
  },
  {
   "cell_type": "markdown",
   "metadata": {},
   "source": [
    "The package [\"Math::Sequences\"](https://raku.land/zef:raku-community-modules/Math::Sequences) has the functions [`sigma`](https://en.wikipedia.org/wiki/Divisor_function) (aka $\\sigma$) and [`totient`](https://en.wikipedia.org/wiki/Euler%27s_totient_function) (aka $\\phi$, not to be confused with the [Golden ratio](https://en.wikipedia.org/wiki/Golden_ratio) $\\varphi$) that -- in principle -- can be used to demonstrate the ***rare property***:\n",
    "\n",
    "$$\n",
    "\\sigma_1(\\phi(2025^3)) = \\phi(\\sigma_1(2025^3))\n",
    "$$\n",
    "\n",
    "But those package functions are too slow. Instead, we are using a chatbook [Wolfram|Alpha](https://www.wolframalpha.com) cell, \n",
    "[[AA1](https://rakuforprediction.wordpress.com/2024/05/18/chatbook-new-magic-cells/),\n",
    " [AA2](https://rakuforprediction.wordpress.com/2024/05/06/wwwwolframalpha/)],\n",
    "to verify that formula:"
   ]
  },
  {
   "cell_type": "code",
   "execution_count": 36,
   "metadata": {},
   "outputs": [
    {
     "data": {
      "text/html": [
       "<img src=\"data:image/png;base64,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\">"
      ]
     },
     "execution_count": 36,
     "metadata": {},
     "output_type": "execute_result"
    }
   ],
   "source": [
    "#% wolfram-alpha\n",
    "DivisorSigma[1, EulerPhi[2025^3]] == EulerPhi[DivisorSigma[1, 2025^3]] "
   ]
  },
  {
   "cell_type": "markdown",
   "metadata": {},
   "source": [
    "----\n",
    "\n",
    "## Phi number system"
   ]
  },
  {
   "cell_type": "markdown",
   "metadata": {},
   "source": [
    "Digits of `2025` represented in the [Phi number system](https://mathworld.wolfram.com/PhiNumberSystem.html):"
   ]
  },
  {
   "cell_type": "code",
   "execution_count": 1,
   "metadata": {},
   "outputs": [
    {
     "data": {
      "text/plain": [
       "[15 13 10 5 3 1 -6 -11 -16]"
      ]
     },
     "execution_count": 1,
     "metadata": {},
     "output_type": "execute_result"
    }
   ],
   "source": [
    "use Math::Sequences::Numberphile;\n",
    "my @res = phi-number-system(2025);"
   ]
  },
  {
   "cell_type": "markdown",
   "metadata": {},
   "source": [
    "Verification:"
   ]
  },
  {
   "cell_type": "code",
   "execution_count": 4,
   "metadata": {},
   "outputs": [
    {
     "data": {
      "text/plain": [
       "2025"
      ]
     },
     "execution_count": 4,
     "metadata": {},
     "output_type": "execute_result"
    }
   ],
   "source": [
    "@res.map({ ϕ ** $_ }).sum.round(10e-11);"
   ]
  },
  {
   "cell_type": "markdown",
   "metadata": {},
   "source": [
    "**Remark:** We have to round (using a small multiple of `10`) because of the approximation of the golden ratio used in \"Math::Sequences\"."
   ]
  },
  {
   "cell_type": "markdown",
   "metadata": {},
   "source": [
    "----\n",
    "\n",
    "## Good permutations"
   ]
  },
  {
   "cell_type": "markdown",
   "metadata": {},
   "source": [
    "From [EPn1]:\n",
    "\n",
    "> There are also 2025 “good” permutations ([A006717](https://oeis.org/A006717)), where all rotations have a single number in the correct place.\n",
    "\n",
    "```mathematica\n",
    "goodPermutations = Select[Permutations[Range[9]],Union[Table[Count[RotateRight[#,k]-Range[9],0],{k,0,8}]]=={1}&]; \n",
    "\n",
    "goodPermutations//Length\n",
    "```"
   ]
  },
  {
   "cell_type": "markdown",
   "metadata": {},
   "source": [
    "Here is the corresponding Raku code:"
   ]
  },
  {
   "cell_type": "code",
   "execution_count": 1,
   "metadata": {},
   "outputs": [
    {
     "data": {
      "text/plain": [
       "2025"
      ]
     },
     "execution_count": 1,
     "metadata": {},
     "output_type": "execute_result"
    }
   ],
   "source": [
    "my @good-permutations = [1..9].permutations.race(:4degree).grep( -> @p {\n",
    "    my @res = (^9).map( -> $k { (@p.rotate(-$k) <<->> (1...9)).grep(*==0).elems }).unique.sort;\n",
    "    @res eqv [1]    \n",
    "});\n",
    "\n",
    "@good-permutations.elems"
   ]
  },
  {
   "cell_type": "markdown",
   "metadata": {},
   "source": [
    "Here are the first of the \"good\" permutations:"
   ]
  },
  {
   "cell_type": "code",
   "execution_count": 3,
   "metadata": {},
   "outputs": [
    {
     "data": {
      "text/html": [
       "<table border=\"1\"><thead><tr><th>1</th><th>2</th><th>3</th><th>4</th><th>5</th><th>6</th><th>7</th><th>8</th><th>9</th></tr></thead><tbody><tr><td>1</td><td>3</td><td>2</td><td>7</td><td>9</td><td>8</td><td>4</td><td>6</td><td>5</td></tr><tr><td>3</td><td>2</td><td>7</td><td>9</td><td>8</td><td>4</td><td>6</td><td>5</td><td>1</td></tr><tr><td>5</td><td>1</td><td>3</td><td>2</td><td>7</td><td>9</td><td>8</td><td>4</td><td>6</td></tr><tr><td>7</td><td>9</td><td>8</td><td>4</td><td>6</td><td>5</td><td>1</td><td>3</td><td>2</td></tr><tr><td>9</td><td>8</td><td>4</td><td>6</td><td>5</td><td>1</td><td>3</td><td>2</td><td>7</td></tr><tr><td>2</td><td>7</td><td>9</td><td>8</td><td>4</td><td>6</td><td>5</td><td>1</td><td>3</td></tr><tr><td>4</td><td>6</td><td>5</td><td>1</td><td>3</td><td>2</td><td>7</td><td>9</td><td>8</td></tr><tr><td>6</td><td>5</td><td>1</td><td>3</td><td>2</td><td>7</td><td>9</td><td>8</td><td>4</td></tr><tr><td>8</td><td>4</td><td>6</td><td>5</td><td>1</td><td>3</td><td>2</td><td>7</td><td>9</td></tr></tbody></table>"
      ]
     },
     "execution_count": 3,
     "metadata": {},
     "output_type": "execute_result"
    }
   ],
   "source": [
    "#% html\n",
    "@good-permutations.head\n",
    "==> -> @p { (^9).map( -> $k { @p.rotate(-$k) }) }()\n",
    "==> { $_[(1, 9, 2, 7, 6, 8, 4, 3, 5) <<->> 1]}()\n",
    "==> { .map((1..9) Z=> *)».Hash.Array }()\n",
    "==> to-dataset()\n",
    "==> to-html(field-names => (1..9)».Str)"
   ]
  },
  {
   "cell_type": "markdown",
   "metadata": {},
   "source": [
    "**Remark:** The diagonal of the table is with the digits from 1 to 9. Observe the \"shifts\" between the consecutive rows above."
   ]
  },
  {
   "cell_type": "markdown",
   "metadata": {},
   "source": [
    "-----\n",
    "\n",
    "## References\n",
    "\n",
    "[AA1] Anton Antonov, [\"Chatbook New Magic Cells\"](https://rakuforprediction.wordpress.com/2024/05/18/chatbook-new-magic-cells/), (2024), [RakuForPrediction at WordPress](https://rakuforprediction.wordpress.com).\n",
    "\n",
    "[AA2] Anton Antonov, [\"WWW::WolframAlpha\"](https://rakuforprediction.wordpress.com/2024/05/06/wwwwolframalpha/), (2024), [RakuForPrediction at WordPress](https://rakuforprediction.wordpress.com).\n",
    "\n",
    "[EPn1] Ed Pegg, [\"Happy 2025 =1³+2³+3³+4³+5³+6³+7³+8³+9³!\"](https://community.wolfram.com/groups/-/m/t/3347182), ​Wolfram Community, STAFFPICKS, December 30, 2024​.\n"
   ]
  }
 ],
 "metadata": {
  "kernelspec": {
   "display_name": "RakuChatbook",
   "language": "raku",
   "name": "raku"
  },
  "language_info": {
   "file_extension": ".raku",
   "mimetype": "text/x-raku",
   "name": "raku",
   "version": "6.d"
  }
 },
 "nbformat": 4,
 "nbformat_minor": 2
}
