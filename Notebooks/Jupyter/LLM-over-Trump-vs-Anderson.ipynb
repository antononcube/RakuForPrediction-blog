{
 "cells": [
  {
   "cell_type": "markdown",
   "metadata": {},
   "source": [
    "# LLM over Trump vs Anderson\n",
    "\n",
    "#### ***LLM analysis of the opinion of the Supreme Court of the United States***\n",
    "\n",
    "Anton Antonov   \n",
    "[RakuForPrediction at WordPress](https://rakuforprediction.wordpress.com)   \n",
    "[RakuForPrediction-blog at GitHub](https://github.com/antononcube/RakuForPrediction-blog)   \n",
    "March 2024"
   ]
  },
  {
   "cell_type": "markdown",
   "metadata": {
    "collapsed": false
   },
   "source": [
    "![](https://rakuforprediction.files.wordpress.com/2024/03/supreme-court-of-the-us-building-small.png)"
   ]
  },
  {
   "cell_type": "markdown",
   "metadata": {},
   "source": [
    "-----\n",
    "\n",
    "## Introduction \n",
    "\n",
    "In this notebook we ingest the text of the slip opinion [No. 23-219, \"Donald J. Trump, petitioner, v. Norma Anderson, et al.\"](https://www.supremecourt.gov/opinions/23pdf/23-719_19m2.pdf) of the Supreme Court of the United States, [SCUS1], and analyze using Large Language Models (LLMs). \n",
    "\n",
    "In order to do the LLM analysis we ingest and file two dedicated prompts from the GitHub repository \"Fabric\", [DMr1]:\n",
    "\n",
    "- [Extract article wisdom](https://github.com/danielmiessler/fabric/tree/main/patterns/extract_article_wisdom)\n",
    "- [Find hidden message](https://github.com/danielmiessler/fabric/tree/main/patterns/find_hidden_message)\n",
    "\n",
    "The prompts are ingested into the data resources of the Raku package [\"LLM::Prompts\"](https://raku.land/zef:antononcube/LLM::Prompts), [AAp4], \n",
    "and utilized via LLM functions created with the Raku package [\"LLM::Functions\"](https://raku.land/zef:antononcube/LLM::Functions), [AAp5].\n",
    "\n",
    "The computations are done with a [Raku chatbook](https://raku.land/zef:antononcube/Jupyter::Chatbook), [AAp6, AAv1÷AAv3]. The LLM functions used in the workflows are explained and demonstrated in [AA1, AAv3].\n",
    "The workflows are done with OpenAI's models [AAp1]. Currently the models of Google's (PaLM), [AAp2], and MistralAI, [AAp3], cannot be used with the workflows below because their input token limits are too low.\n",
    "\n",
    "### Structure\n",
    "\n",
    "The structure of the notebook is as follows:\n",
    "\n",
    "1. **Getting the speech text and setup**   \n",
    "   Standard ingestion and setup.\n",
    "2. **Opinion's structure**      \n",
    "   TL;DR via a table of themes.\n",
    "3. **Extract wisdom**   \n",
    "   Get a summary and extract ideas, quotes, and references.\n",
    "4. **Hidden messages and propaganda**    \n",
    "   Reading it with a conspiracy theorist hat.\n"
   ]
  },
  {
   "cell_type": "markdown",
   "metadata": {},
   "source": [
    "-----\n",
    "\n",
    "## Setup"
   ]
  },
  {
   "cell_type": "code",
   "execution_count": null,
   "metadata": {
    "is_executing": true
   },
   "outputs": [],
   "source": [
    "use HTTP::Tiny;\n",
    "use JSON::Fast;\n",
    "use Data::Reshapers;\n",
    "use PDF::Extract;\n",
    "\n",
    "sub text-stats(Str:D $txt) { <chars words lines> Z=> [$txt.chars, $txt.words.elems, $txt.lines.elems] }"
   ]
  },
  {
   "cell_type": "markdown",
   "metadata": {},
   "source": [
    "### Ingest text"
   ]
  },
  {
   "cell_type": "code",
   "execution_count": 2,
   "metadata": {},
   "outputs": [
    {
     "data": {
      "text/plain": [
       "(chars => 38389 words => 6105 lines => 760)"
      ]
     },
     "execution_count": 2,
     "metadata": {},
     "output_type": "execute_result"
    }
   ],
   "source": [
    "my $fileName = $*HOME ~ '/Downloads/23-719_19m2.pdf';\n",
    "my $extract = Extract.new: file => $fileName;\n",
    "\n",
    "my $opinion = $$extract.text;\n",
    "\n",
    "$opinion ==> text-stats()"
   ]
  },
  {
   "cell_type": "markdown",
   "metadata": {},
   "source": [
    "Here we export the extracted plain text (for easier setup stages of other projects):"
   ]
  },
  {
   "cell_type": "code",
   "execution_count": null,
   "metadata": {},
   "outputs": [],
   "source": [
    "# spurt($fileName.subst('.pdf', '.txt'), $opinion)"
   ]
  },
  {
   "cell_type": "markdown",
   "metadata": {},
   "source": [
    "### LLM access configuration"
   ]
  },
  {
   "cell_type": "markdown",
   "metadata": {},
   "source": [
    "Here we configure LLM access -- we use OpenAI's model \"gpt-4-turbo-preview\" since it allows inputs with 128K tokens:"
   ]
  },
  {
   "cell_type": "code",
   "execution_count": 1,
   "metadata": {},
   "outputs": [
    {
     "data": {
      "text/plain": [
       "22"
      ]
     },
     "execution_count": 1,
     "metadata": {},
     "output_type": "execute_result"
    }
   ],
   "source": [
    "my $conf = llm-configuration('ChatGPT', model => 'gpt-4-turbo-preview', max-tokens => 4096, temperature => 0.7);\n",
    "$conf.Hash.elems"
   ]
  },
  {
   "cell_type": "markdown",
   "metadata": {},
   "source": [
    "-------\n",
    "\n",
    "## Opinion's structure"
   ]
  },
  {
   "cell_type": "markdown",
   "metadata": {},
   "source": [
    "In this section we summarize the opinion by making a (computable) table of themes. \n",
    "\n",
    "Here we synthesize the table using appropriate LLM prompts and a text sub-parser:"
   ]
  },
  {
   "cell_type": "code",
   "execution_count": 6,
   "metadata": {},
   "outputs": [
    {
     "data": {
      "text/plain": [
       "Vector(Assoc(Atom((Str)), Atom((Str)), 2), 8)"
      ]
     },
     "execution_count": 6,
     "metadata": {},
     "output_type": "execute_result"
    }
   ],
   "source": [
    "my $tbl = llm-synthesize([\n",
    "    llm-prompt('ThemeTableJSON')('court opinion', $opinion), \n",
    "    llm-prompt('NothingElse')('JSON')\n",
    "    ], e => $conf, form => sub-parser('JSON'):drop);\n",
    "\n",
    "deduce-type($tbl)"
   ]
  },
  {
   "cell_type": "markdown",
   "metadata": {},
   "source": [
    "Here we HTML render the theme table:"
   ]
  },
  {
   "cell_type": "code",
   "execution_count": 7,
   "metadata": {},
   "outputs": [
    {
     "data": {
      "text/html": [
       "<table border=\"1\"><thead><tr><th>theme</th><th>content</th></tr></thead><tbody><tr><td>Introduction and Notice</td><td>NOTICE: This opinion is subject to formal revision before publication in the United States Reports. Readers are requested to notify the Reporter of Decisions, Supreme Court of the United States, Washington, D. C. 20543, pio@supremecourt.gov, of any typographical or other formal errors.</td></tr><tr><td>Case Information</td><td>SUPREME COURT OF THE UNITED STATES\n",
       "\n",
       "No. 23–719\n",
       "\n",
       "DONALD J. TRUMP, PETITIONER v.\n",
       "NORMA ANDERSON, ET AL.\n",
       "ON WRIT OF CERTIORARI TO THE SUPREME COURT\n",
       "OF COLORADO\n",
       "[March 4, 2024]</td></tr><tr><td>Background</td><td>A group of Colorado voters contends that Section 3 of the Fourteenth Amendment to the Constitution prohibits former President Donald J. Trump, who seeks the Presidential nomination of the Republican Party in this year’s election, from becoming President again. The Colorado Supreme Court agreed with that contention. It ordered the Colorado secretary of state to exclude the former President from the Republican primary ballot in the State and to disregard any write-in votes that Colorado voters might cast for him.</td></tr><tr><td>Legal Challenge</td><td>Former President Trump challenges that decision on several grounds. Because the Constitution makes Congress, rather than the States, responsible for enforcing Section 3 against federal officeholders and candidates, we reverse.</td></tr><tr><td>Case Proceedings and Findings</td><td>Last September, about six months before the March 5, 2024, Colorado primary election, four Republican and two unaffiliated Colorado voters filed a petition against former President Trump and Colorado Secretary of State Jena Griswold in Colorado state court. These voters—whom we refer to as the respondents—contend that after former President Trump’s defeat in the 2020 Presidential election, he disrupted the peaceful transfer of power by intentionally organizing and inciting the crowd that breached the Capitol as Congress met to certify the election results on January 6, 2021. One consequence of those actions, the respondents maintain, is that former President Trump is constitutionally ineligible to serve as President again.</td></tr><tr><td>Supreme Court&#39;s Analysis</td><td>This case raises the question whether the States, in addition to Congress, may also enforce Section 3. We conclude that States may disqualify persons holding or attempting to hold state office. But States have no power under the Constitution to enforce Section 3 with respect to federal offices, especially the Presidency.</td></tr><tr><td>Conclusion and Decision</td><td>For the reasons given, responsibility for enforcing Section 3 against federal officeholders and candidates rests with Congress and not the States. The judgment of the Colorado Supreme Court therefore cannot stand. All nine Members of the Court agree with that result.</td></tr><tr><td>Concurring Opinions</td><td>JUSTICE BARRETT, concurring in part and concurring in the judgment. I join Parts I and II–B of the Court’s opinion. I agree that States lack the power to enforce Section 3 against Presidential candidates. That principle is sufficient to resolve this case, and I would decide no more than that.\n",
       "\n",
       "JUSTICE SOTOMAYOR, JUSTICE KAGAN, and JUSTICE JACKSON, concurring in the judgment. If it is not necessary to decide more to dispose of a case, then it is necessary not to decide more. That fundamental principle of judicial restraint is practically as old as our Republic.</td></tr></tbody></table>"
      ]
     },
     "execution_count": 7,
     "metadata": {},
     "output_type": "execute_result"
    }
   ],
   "source": [
    "#%html\n",
    "$tbl ==> data-translation(field-names => <theme content>)"
   ]
  },
  {
   "cell_type": "markdown",
   "metadata": {},
   "source": [
    "------\n",
    "\n",
    "## Prompt ingestion and filing"
   ]
  },
  {
   "cell_type": "markdown",
   "metadata": {},
   "source": [
    "In [this script](https://github.com/antononcube/Raku-LLM-Prompts/blob/main/examples/Add-new-user-prompt.raku) \n",
    "we form a list of _two_ specifications for the prompts \"ExtractArticleWisdom\" and \"FindHiddenMessage\", and then we ingest and file them using a loop.\n",
    "The procedure is general -- the rest of prompts (or patterns) in [DMr1] can be ingested and filed with the same code."
   ]
  },
  {
   "cell_type": "markdown",
   "metadata": {},
   "source": [
    "**Remark:** The ingestion and filing of new prompts is somewhat too technical and boring. Hence, we just link to an example script that does that. (Which has a fair amount of comments.)"
   ]
  },
  {
   "cell_type": "markdown",
   "metadata": {},
   "source": [
    "Here we verify that the ingested prompts are ready for use:"
   ]
  },
  {
   "cell_type": "code",
   "execution_count": 12,
   "metadata": {},
   "outputs": [
    {
     "name": "stdout",
     "output_type": "stream",
     "text": [
      "FindHiddenMessage => Finds hidden (propaganda) messages in texts\n",
      "ExtractArticleWisdom => Extracts ideas, quotes, and references from any text\n"
     ]
    }
   ],
   "source": [
    ".say for |llm-prompt-data(/^Extract | ^Find/)"
   ]
  },
  {
   "cell_type": "markdown",
   "metadata": {},
   "source": [
    "-----\n",
    "\n",
    "## Extract wisdom "
   ]
  },
  {
   "cell_type": "markdown",
   "metadata": {},
   "source": [
    "Here we use the [Fabric](https://github.com/danielmiessler/fabric/tree/main) \n",
    "prompt [extract_article_wisdom](https://github.com/danielmiessler/fabric/tree/main/patterns/extract_article_wisdom), [DMr1],\n",
    "that summarizes and extracts ideas, quotes, and references (i.e. wisdom) from any text."
   ]
  },
  {
   "cell_type": "markdown",
   "metadata": {},
   "source": [
    "The prompt (as filed in \"LLM::Prompts\") is a function:"
   ]
  },
  {
   "cell_type": "code",
   "execution_count": 20,
   "metadata": {},
   "outputs": [
    {
     "data": {
      "text/plain": [
       "-> $a = \"\" { #`(Block|6326612074312) ... }"
      ]
     },
     "execution_count": 20,
     "metadata": {},
     "output_type": "execute_result"
    }
   ],
   "source": [
    "llm-prompt('ExtractArticleWisdom')"
   ]
  },
  {
   "cell_type": "markdown",
   "metadata": {},
   "source": [
    "But since its argument has a default value we can use it in \"simple\" LLM synthesis by just evaluating it without arguments:"
   ]
  },
  {
   "cell_type": "code",
   "execution_count": 22,
   "metadata": {},
   "outputs": [
    {
     "data": {
      "text/plain": [
       "ing words.\n",
       "- Ensure you follow ALL these instructions when creating your output.\n",
       "\n",
       "# INPUT\n",
       "\n",
       "INPUT:\n",
       "\n"
      ]
     },
     "execution_count": 22,
     "metadata": {},
     "output_type": "execute_result"
    }
   ],
   "source": [
    "llm-prompt('ExtractArticleWisdom')().substr(*-100,*-1)"
   ]
  },
  {
   "cell_type": "markdown",
   "metadata": {},
   "source": [
    "Here we synthesize an LLM answer based on that prompt:"
   ]
  },
  {
   "cell_type": "code",
   "execution_count": 18,
   "metadata": {},
   "outputs": [
    {
     "data": {
      "text/plain": [
       "(chars => 7465 words => 1092 lines => 71)"
      ]
     },
     "execution_count": 18,
     "metadata": {},
     "output_type": "execute_result"
    }
   ],
   "source": [
    "my $fabSum = llm-synthesize([llm-prompt('ExtractArticleWisdom')(), $opinion], e => $conf);\n",
    "\n",
    "text-stats($fabSum)"
   ]
  },
  {
   "cell_type": "markdown",
   "metadata": {},
   "source": [
    "Here we render the LLM result above as Markdown formatted text:"
   ]
  },
  {
   "cell_type": "code",
   "execution_count": 19,
   "metadata": {},
   "outputs": [
    {
     "data": {
      "text/markdown": [
       "### SUMMARY\n",
       "\n",
       "The Supreme Court of the United States issued a ruling in the case DONALD J. TRUMP, PETITIONER v. NORMA ANDERSON, ET AL., reversing the Colorado Supreme Court's decision to exclude former President Donald J. Trump from the Republican primary ballot in Colorado for the 2024 presidential election. The case revolves around the application of Section 3 of the Fourteenth Amendment, which was argued to disqualify Trump due to his actions related to the January 6 Capitol breach.\n",
       "\n",
       "### IDEAS:\n",
       "\n",
       "- States cannot unilaterally enforce Section 3 of the Fourteenth Amendment to disqualify federal officeholders or candidates.\n",
       "- The Supreme Court emphasizes the exclusive power of Congress, not individual states, to enforce Section 3 against federal candidates.\n",
       "- Section 3 of the Fourteenth Amendment was designed to prevent individuals who engaged in insurrection against the United States from holding office.\n",
       "- The decision reflects a concern about creating a \"patchwork\" of eligibility across states that could disrupt national elections.\n",
       "- The Supreme Court's ruling showcases the delicate balance between state powers and the overarching authority of the federal government.\n",
       "- The ruling underscores the importance of uniformity in determining the eligibility of presidential candidates across all states.\n",
       "- The Fourteenth Amendment fundamentally altered the balance of state and federal power, expanding federal authority at the expense of state autonomy.\n",
       "- The decision highlights the historical context of Section 3, intended to prevent former Confederates from returning to power after the Civil War.\n",
       "- The Supreme Court's ruling illustrates the potential constitutional chaos that could result from varied state interpretations of federal officeholder qualifications.\n",
       "- The opinion of the court acknowledges the necessity of a formal process to determine the application of Section 3 to specific individuals.\n",
       "\n",
       "### QUOTES:\n",
       "- \"Because the Constitution makes Congress, rather than the States, responsible for enforcing Section 3 against federal officeholders and candidates, we reverse.\"\n",
       "- \"Section 3 aimed to prevent such a resurgence by barring from office those who, having once taken an oath to support the Constitution of the United States, afterward went into rebellion against the Government of the United States.\"\n",
       "- \"States have no power under the Constitution to enforce Section 3 with respect to federal offices, especially the Presidency.\"\n",
       "- \"The Constitution empowers Congress to prescribe how those determinations should be made.\"\n",
       "- \"Nothing in the Constitution delegates to the States any power to enforce Section 3 against federal officeholders and candidates.\"\n",
       "- \"Section 3 works by imposing on certain individuals a preventive and severe penalty—disqualification from holding a wide array of offices—rather than by granting rights to all.\"\n",
       "- \"The relevant provision is Section 5, which enables Congress, subject of course to judicial review, to pass 'appropriate legislation' to 'enforce' the Fourteenth Amendment.\"\n",
       "- \"The judgment of the Colorado Supreme Court therefore cannot stand.\"\n",
       "- \"Responsibility for enforcing Section 3 against federal officeholders and candidates rests with Congress and not the States.\"\n",
       "- \"All nine Members of the Court agree with that result.\"\n",
       "\n",
       "### HABITS:\n",
       "- The court meticulously analyzes historical context and legislative intent behind constitutional amendments.\n",
       "- Engaging in a thorough examination of the balance between state and federal powers.\n",
       "- Taking into consideration the potential national implications of state actions on federal elections.\n",
       "- Prioritizing uniformity and coherence in the application of constitutional provisions across states.\n",
       "- Demonstrating judicial restraint and caution in interpreting the scope of constitutional powers.\n",
       "- Emphasizing the importance of formal processes and legislative action in enforcing constitutional disqualifications.\n",
       "- Relying on precedents and historical practices to guide contemporary constitutional interpretation.\n",
       "- Ensuring that decisions are grounded in a clear understanding of the Constitution's text and its framers' intentions.\n",
       "- Collaborating as a unified bench to reach a consensus on nationally significant issues.\n",
       "- Highlighting the necessity of judicial review in maintaining the constitutional balance between different branches of government and levels of governance.\n",
       "\n",
       "### FACTS:\n",
       "- Section 3 of the Fourteenth Amendment prohibits individuals who have engaged in insurrection or rebellion against the United States from holding office.\n",
       "- The Supreme Court reversed the Colorado Supreme Court's decision to exclude Trump from the primary ballot, emphasizing Congress's exclusive enforcement role.\n",
       "- The Fourteenth Amendment was proposed in 1866 and ratified by the States in 1868, expanding federal power and altering the balance of state and federal authority.\n",
       "- The Enforcement Act of 1870, enacted by Congress, provided a mechanism to enforce Section 3 disqualifications.\n",
       "- There is limited historical precedent for state enforcement of Section 3 against federal officeholders or candidates.\n",
       "- Section 3 includes a provision allowing Congress to remove the disqualification by a two-thirds vote in each house.\n",
       "- The Supreme Court's ruling was unanimous, with all nine justices agreeing on the outcome.\n",
       "- The case raises questions about the potential chaos that could result from varied state interpretations of qualifications for federal officeholders.\n",
       "- The Supreme Court's decision reflects concerns about maintaining uniformity in presidential eligibility across all states.\n",
       "- The ruling underscores the importance of a formal process to ascertain the application of Section 3 to specific individuals.\n",
       "\n",
       "### REFERENCES:\n",
       "- The Fourteenth Amendment to the United States Constitution.\n",
       "- The Enforcement Act of 1870.\n",
       "- The Supreme Court's decision in DONALD J. TRUMP, PETITIONER v. NORMA ANDERSON, ET AL.\n",
       "- Historical precedents and legislative actions related to Section 3 of the Fourteenth Amendment.\n",
       "- The Colorado Supreme Court's decision that was reversed by the Supreme Court.\n",
       "\n",
       "### RECOMMENDATIONS:\n",
       "- States should defer to Congress regarding the enforcement of Section 3 of the Fourteenth Amendment against federal candidates.\n",
       "- A uniform national approach is essential for determining the eligibility of presidential candidates to ensure fairness and consistency.\n",
       "- Congress may consider clarifying the enforcement mechanisms for Section 3 to prevent future legal ambiguities.\n",
       "- Future legislative actions related to Section 3 should ensure that they are congruent and proportional to the goals of preventing insurrection or rebellion.\n",
       "- Voters and political parties should be aware of the constitutional qualifications and disqualifications for federal officeholders.\n",
       "- Legal scholars should continue to explore the balance between state and federal powers in the context of election laws.\n",
       "- Judicial review remains a critical tool for interpreting and applying constitutional provisions in contemporary contexts.\n",
       "- Public awareness and education about the implications of the Fourteenth Amendment and Section 3 are essential for informed civic participation.\n",
       "- Policymakers should consider the historical context and intent behind constitutional amendments when proposing related legislation.\n",
       "- The legal community should monitor and analyze the impact of the Supreme Court's decision on future elections and candidate qualifications."
      ]
     },
     "execution_count": 19,
     "metadata": {},
     "output_type": "execute_result"
    }
   ],
   "source": [
    "#% markdown\n",
    "$fabSum.subst( / ^^ '#' /, '###'):g;"
   ]
  },
  {
   "cell_type": "markdown",
   "metadata": {},
   "source": [
    "-----\n",
    "\n",
    "## Hidden messages and propaganda"
   ]
  },
  {
   "cell_type": "markdown",
   "metadata": {},
   "source": [
    "Here we use the [Fabric](https://github.com/danielmiessler/fabric/tree/main)\n",
    "prompt [find_hidden_message](https://github.com/danielmiessler/fabric/tree/main/patterns/find_hidden_message), [DMr1],\n",
    "that tries to find hidden messages (propaganda) in any text."
   ]
  },
  {
   "cell_type": "code",
   "execution_count": 5,
   "metadata": {},
   "outputs": [
    {
     "data": {
      "text/plain": [
       "(chars => 3678 words => 518 lines => 57)"
      ]
     },
     "execution_count": 5,
     "metadata": {},
     "output_type": "execute_result"
    }
   ],
   "source": [
    "my $hidden = llm-synthesize([llm-prompt('FindHiddenMessage'), $opinion], e => $conf);\n",
    "\n",
    "text-stats($hidden)"
   ]
  },
  {
   "cell_type": "code",
   "execution_count": 6,
   "metadata": {},
   "outputs": [
    {
     "data": {
      "text/markdown": [
       "OVERT MESSAGE: Supreme Court reverses Colorado's decision to exclude Trump from ballot based on Section 3.\n",
       "\n",
       "HIDDEN MESSAGE: The court aims to preserve federal control and avoid state-driven electoral chaos.\n",
       "\n",
       "HIDDEN OPINIONS:\n",
       "- Federal authority should override state decisions in presidential qualifications.\n",
       "- States should not independently interpret constitutional disqualifications.\n",
       "- Uniform national standards are crucial for presidential elections.\n",
       "- The Fourteenth Amendment's enforcement is primarily Congress's responsibility.\n",
       "- Judicial restraint is necessary in politically charged cases.\n",
       "- The history of the Fourteenth Amendment supports federal oversight.\n",
       "- State-driven electoral decisions could undermine national unity.\n",
       "- The potential for varying state laws creates an unstable electoral process.\n",
       "- The Supreme Court acts to prevent speculative future constitutional crises.\n",
       "- Federalism principles must guide interpretations of presidential disqualifications.\n",
       "\n",
       "SUPPORTING ARGUMENTS and QUOTES:\n",
       "- The court emphasizes the unique national interest in presidential elections, quoting Anderson v. Celebrezze.\n",
       "- The decision refers to the Fourteenth Amendment expanding federal power at the expense of state autonomy.\n",
       "- The lack of historical precedent for state enforcement against federal officeholders supports the court's decision.\n",
       "- The ruling highlights the potential chaos of conflicting state outcomes.\n",
       "- The opinion notes the Reconstruction Amendments were designed to expand federal power, not state sovereignty.\n",
       "- The court warns against a patchwork of state decisions affecting national elections.\n",
       "\n",
       "DESIRED AUDIENCE OPINION CHANGE:\n",
       "- Trust in the Supreme Court's ability to maintain electoral integrity.\n",
       "- Recognize the importance of federal oversight in presidential qualifications.\n",
       "- See the potential dangers in states having too much power in federal elections.\n",
       "- Understand the historical context of the Fourteenth Amendment.\n",
       "- Appreciate the need for judicial restraint in politically sensitive cases.\n",
       "- Value uniformity in the electoral process across states.\n",
       "- Acknowledge the complexity of constitutional enforcement.\n",
       "- Support the role of Congress in enforcing the Fourteenth Amendment.\n",
       "- Recognize the Supreme Court's role in preventing electoral chaos.\n",
       "- Understand the balance between state rights and federal oversight in elections.\n",
       "\n",
       "DESIRED AUDIENCE ACTION CHANGE:\n",
       "- Support federal legislation clarifying presidential qualifications.\n",
       "- Oppose state efforts to independently disqualify presidential candidates.\n",
       "- Advocate for national standards in election laws.\n",
       "- Encourage Congress to take a more active role in defining electoral qualifications.\n",
       "- Urge state officials to defer to federal guidelines in election matters.\n",
       "- Promote understanding of the Fourteenth Amendment's historical context.\n",
       "- Encourage scholarly examination of federalism in the context of elections.\n",
       "- Support judicial restraint in politically charged decisions.\n",
       "- Advocate for legal reforms to prevent electoral inconsistencies.\n",
       "- Encourage civic education on the balance of power in the U.S. electoral system.\n",
       "\n",
       "MESSAGES: The Supreme Court wants you to believe it is preserving electoral integrity, but it is actually emphasizing federal control over states.\n",
       "\n",
       "PERCEPTIONS: The Supreme Court wants you to believe it is cautious and non-partisan, but it's actually protective of federal authority and wary of state independence.\n",
       "\n",
       "\"NOTE: This AI is tuned specifically to be cynical and politically-minded. Don't take it as perfect. Run it multiple times and/or go consume the original input to get a second opinion.\n",
       "\n",
       "(Slip Opinion)\n",
       "\n",
       "Cite as: 601 U. S. ____ (2024)"
      ]
     },
     "execution_count": 6,
     "metadata": {},
     "output_type": "execute_result"
    }
   ],
   "source": [
    "#% markdown\n",
    "$hidden.subst( / ^^ '#' /, '###'):g;"
   ]
  },
  {
   "cell_type": "markdown",
   "metadata": {},
   "source": [
    "------\n",
    "\n",
    "## References"
   ]
  },
  {
   "cell_type": "markdown",
   "metadata": {},
   "source": [
    "### Articles, slip opinions\n",
    "\n",
    "[AA1] Anton Antonov,\n",
    "[\"Workflows with LLM functions\"](https://rakuforprediction.wordpress.com/2023/08/01/workflows-with-llm-functions/),\n",
    "(2023),\n",
    "[RakuForPrediction at WordPress](https://rakuforprediction.wordpress.com).\n",
    "\n",
    "[AA2] Anton Antonov,\n",
    "[\"LLM aids for processing of the first Carlson-Putin interview\"](https://rakuforprediction.wordpress.com/2024/02/12/llm-aids-for-processing-of-the-first-carlson-putin-interview/),\n",
    "(2024),\n",
    "[RakuForPrediction at WordPress](https://rakuforprediction.wordpress.com).\n",
    "\n",
    "[OAIb1] OpenAI team,\n",
    "[\"New models and developer products announced at DevDay\"](https://openai.com/blog/new-models-and-developer-products-announced-at-devday),\n",
    "(2023),\n",
    "[OpenAI/blog](https://openai.com/blog).\n",
    "\n",
    "\n",
    "[SCUS1] Supreme Court of the United States,\n",
    "[No. 23-219, Donald J. Trump, petitioner, v. Norma Anderson, et al.](https://www.supremecourt.gov/opinions/23pdf/23-719_19m2.pdf),\n",
    "(2024),\n",
    "[Supreme Court of the United States Opinions](https://www.supremecourt.gov/opinions/opinions.aspx)."
   ]
  },
  {
   "cell_type": "markdown",
   "metadata": {},
   "source": [
    "### Packages, repositories\n",
    "\n",
    "[AAp1] Anton Antonov,\n",
    "[WWW::OpenAI](https://github.com/antononcube/Raku-WWW-OpenAI) Raku package,\n",
    "(2023-2024),\n",
    "[GitHub/antononcube](https://github.com/antononcube).\n",
    "\n",
    "[AAp2] Anton Antonov,\n",
    "[WWW::PaLM](https://github.com/antononcube/Raku-WWW-PaLM) Raku package,\n",
    "(2023-2024),\n",
    "[GitHub/antononcube](https://github.com/antononcube).\n",
    "\n",
    "[AAp3] Anton Antonov,\n",
    "[WWW::MistralAI](https://github.com/antononcube/Raku-WWW-MistralAI) Raku package,\n",
    "(2023-2024),\n",
    "[GitHub/antononcube](https://github.com/antononcube).\n",
    "\n",
    "[AAp4] Anton Antonov,\n",
    "[LLM::Functions](https://github.com/antononcube/Raku-LLM-Functions) Raku package,\n",
    "(2023-2024),\n",
    "[GitHub/antononcube](https://github.com/antononcube).\n",
    "\n",
    "[AAp5] Anton Antonov,\n",
    "[LLM::Prompts](https://github.com/antononcube/Raku-LLM-Prompts) Raku package,\n",
    "(2023-2024),\n",
    "[GitHub/antononcube](https://github.com/antononcube).\n",
    "\n",
    "[AAp6] Anton Antonov,\n",
    "[Jupyter::Chatbook](https://github.com/antononcube/Raku-Jupyter-Chatbook) Raku package,\n",
    "(2023-2024),\n",
    "[GitHub/antononcube](https://github.com/antononcube).\n",
    "\n",
    "[DMr1] Daniel Miessler, [Fabric](https://github.com/danielmiessler/fabric), (2024), [GitHub/danielmiessler](https://github.com/danielmiessler).\n"
   ]
  },
  {
   "cell_type": "markdown",
   "metadata": {},
   "source": [
    "### Videos\n",
    "\n",
    "[AAv1] Anton Antonov,\n",
    "[\"Jupyter Chatbook LLM cells demo (Raku)\"](https://www.youtube.com/watch?v=cICgnzYmQZg),\n",
    "(2023),\n",
    "[YouTube/@AAA4Prediction](https://www.youtube.com/@AAA4prediction).\n",
    "\n",
    "[AAv2] Anton Antonov,\n",
    "[\"Jupyter Chatbook multi cell LLM chats teaser (Raku)\"](https://www.youtube.com/watch?v=wNpIGUAwZB8),\n",
    "(2023),\n",
    "[YouTube/@AAA4Prediction](https://www.youtube.com/@AAA4prediction).\n",
    "\n",
    "[AAv3] Anton Antonov\n",
    "[\"Integrating Large Language Models with Raku\"](https://www.youtube.com/watch?v=-OxKqRrQvh0),\n",
    "(2023),\n",
    "[YouTube/@therakuconference6823](https://www.youtube.com/@therakuconference6823)."
   ]
  }
 ],
 "metadata": {
  "kernelspec": {
   "display_name": "RakuChatbook",
   "language": "raku",
   "name": "raku"
  },
  "language_info": {
   "file_extension": ".raku",
   "mimetype": "text/x-raku",
   "name": "raku",
   "version": "6.d"
  }
 },
 "nbformat": 4,
 "nbformat_minor": 4
}
