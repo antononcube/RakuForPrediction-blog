{
  "cells": [
    {
      "cell_type": "markdown",
      "metadata": {},
      "source": [
        "# Doomsday clock parsing and plotting"
      ]
    },
    {
      "cell_type": "markdown",
      "metadata": {},
      "source": [
        "Anton Antonov    \n",
        "[MathematicaForPrediction at WordPress](https://mathematicaforprediction.wordpress.com)   \n",
        "[RakuForPrediction at WordPress](https://rakuforprediction.wordpress.com)   \n",
        "December 2024"
      ]
    },
    {
      "cell_type": "markdown",
      "metadata": {},
      "source": [
        "------\n",
        "\n",
        "## Introduction"
      ]
    },
    {
      "cell_type": "markdown",
      "metadata": {},
      "source": [
        "[The Doomsday Clock](https://thebulletin.org/doomsday-clock/) is a symbolic timepiece maintained by the [Bulletin of the Atomic Scientists (BAS)](https://thebulletin.org) since 1947. It represents how close humanity is perceived to be to global catastrophe, primarily [nuclear war](https://en.wikipedia.org/wiki/Nuclear_warfare) but also including climate change and biological threats. The clock’s hands are set annually to reflect the current state of global security; midnight signifies theoretical doomsday. "
      ]
    },
    {
      "cell_type": "markdown",
      "metadata": {},
      "source": [
        "In this notebook we consider two tasks:"
      ]
    },
    {
      "cell_type": "markdown",
      "metadata": {},
      "source": [
        "- **Parsing of Doomsday Clock reading statements**\n",
        "\n",
        "    - Using both Functional Parsers (FP) (aka \"parser combinators\"), [AAp1], and Large Language Models (LLMs).\n",
        "\n",
        "        - We take text data from the past announcements, and extract the Doomsday Clock reading statements.\n"
      ]
    },
    {
      "cell_type": "markdown",
      "metadata": {},
      "source": [
        "- **Evolution Doomsday Clock times**\n",
        "\n",
        "    - We extract relevant Doomsday Clock timeline data from the corresponding Wikipedia page.\n",
        "\n",
        "        - (Instead of using a page from BAS.)\n",
        "\n",
        "    - We show how timeline data from that Wikipedia page can be processed with \"standard\" Wolfram Language (WL) functions and with LLMs.\n",
        "\n",
        "    - The result plot shows the evolution of the minutes to midnight.\n",
        "\n",
        "        - The plot could show trends, highlighting significant global events that influenced the clock setting.\n",
        "\n",
        "        - Hence, we put in informative callouts and tooltips."
      ]
    },
    {
      "cell_type": "markdown",
      "metadata": {},
      "source": [
        "The data extraction and visualization in the notebook serve educational purposes or provide insights into historical trends of global threats as perceived by experts. We try to make the ingestion and processing code universal and robust, suitable for multiple evaluations now or in the (near) future."
      ]
    },
    {
      "cell_type": "markdown",
      "metadata": {},
      "source": [
        "**Remark:** Keep in mind that the Doomsday Clock is a metaphor and its settings are not just data points but reflections of complex global dynamics (by [certain experts](https://thebulletin.org/2024/01/press-release-doomsday-clock-remains-at-90-seconds-to-midnight/) and a [board of sponsors](https://thebulletin.org/about-us/board-of-sponsors/).)"
      ]
    },
    {
      "cell_type": "markdown",
      "metadata": {},
      "source": [
        "**Remark:** Currently (2024-12-30) Doomsday Clock is set at [90 seconds before midnight](https://thebulletin.org/doomsday-clock/)."
      ]
    },
    {
      "cell_type": "markdown",
      "metadata": {},
      "source": [
        "**Remark:** This notebook is Raku-version of the Wolfram Language (WL) [notebook the same name](https://community.wolfram.com/groups/-/m/t/3347065), [AAn1]."
      ]
    },
    {
      "cell_type": "markdown",
      "metadata": {},
      "source": [
        "\n",
        "I was very impressed by the looks and tune-ability of WL's [`ClockGauge`](https://reference.wolfram.com/language/ref/ClockGauge.html.en), so, I programmed a similar clock gauge in Raku's package \n",
        "[\"JavaScript::D3\"](https://raku.land/zef:antononcube/JavaScript::D3) (which is based on [D3.js](https://d3js.org).)\n",
        "\n"
      ]
    },
    {
      "cell_type": "markdown",
      "metadata": {},
      "source": [
        "-----\n",
        "\n",
        "## Setup"
      ]
    },
    {
      "cell_type": "code",
      "execution_count": 1,
      "metadata": {},
      "outputs": [],
      "source": [
        "use LLM::Configurations;\n",
        "\n",
        "use Math::DistanceFunctions::Edit;\n",
        "\n",
        "use Lingua::NumericWordForms;\n",
        "use Lingua::NumericWordForms::Roles::English::WordedNumberSpec;\n",
        "\n",
        "use DSL::Shared::Roles::ErrorHandling;\n",
        "use DSL::Shared::Roles::English::TimeIntervalSpec;\n",
        "use DSL::Shared::Roles::English::PipelineCommand;\n",
        "use DSL::Shared::Utilities::FuzzyMatching;\n",
        "\n",
        "use FunctionalParsers :ALL;\n",
        "use FunctionalParsers::EBNF;\n",
        "\n",
        "use Text::Utils;\n",
        "\n",
        "# Automatically loaded\n",
        "#`[\n",
        "use Data::Importers;\n",
        "use Data::Reshapers;\n",
        "use JavaScript::Google::Charts;\n",
        "]"
      ]
    },
    {
      "cell_type": "code",
      "execution_count": 2,
      "metadata": {},
      "outputs": [
        {
          "data": {
            "application/javascript": "require.config({\n     paths: {\n     d3: 'https://d3js.org/d3.v7.min'\n}});\n\nrequire(['d3'], function(d3) {\n     console.log(d3);\n});"
          },
          "execution_count": 2,
          "metadata": {},
          "output_type": "execute_result"
        }
      ],
      "source": [
        "#% javascript\n",
        "require.config({\n",
        "     paths: {\n",
        "     d3: 'https://d3js.org/d3.v7.min'\n",
        "}});\n",
        "\n",
        "require(['d3'], function(d3) {\n",
        "     console.log(d3);\n",
        "});"
      ]
    },
    {
      "cell_type": "code",
      "execution_count": 3,
      "metadata": {},
      "outputs": [
        {
          "data": {
            "application/javascript": "(function(element) { require(['d3'], function(d3) {\n\n// set the dimensions and margins of the graph\nvar margin = {\"right\":40,\"left\":40,\"top\":40,\"bottom\":40},\n    width = 600 - margin.left - margin.right,\n    height = 400 - margin.top - margin.bottom;\n\n// append the svg object to the body of the page\nvar svg = d3\n   .select(element.get(0))\n  .append(\"svg\")\n    .attr(\"width\", width + margin.left + margin.right)\n    .attr(\"height\", height + margin.top + margin.bottom)\n    .style(\"background\", \"none\")\n  .append(\"g\")\n    .attr(\"transform\",\n          \"translate(\" + margin.left + \",\" + margin.top + \")\")\n\n// Obtain title\nvar title = \"\"\nvar titleFontSize = 16\n\nif ( title.length > 0 ) {\n    svg.append(\"text\")\n        .attr(\"x\", (width / 2))\n        .attr(\"y\", 0 - (margin.top / 2))\n        .attr(\"text-anchor\", \"middle\")\n        .style(\"font-size\", titleFontSize.toString() + \"px\")\n        .style(\"fill\", \"Black\")\n        .text(title);\n}\n\n// Obtain x-axis label\nvar xAxisLabel = \"\"\nvar xAxisLabelFontSize = 12\n\nif ( xAxisLabel.length > 0 ) {\n    svg.append(\"text\")\n        .attr(\"x\", (width / 2))\n        .attr(\"y\", height + margin.bottom - xAxisLabelFontSize/2)\n        .attr(\"text-anchor\", \"middle\")\n        .style(\"font-size\", xAxisLabelFontSize.toString() + \"px\")\n        .style(\"fill\", \"Black\")\n        .text(xAxisLabel);\n}\n\n// Obtain y-axis label\nvar yAxisLabel = \"\"\nvar yAxisLabelFontSize = 12\n\nif ( yAxisLabel.length > 0 ) {\n    svg.append(\"text\")\n        .attr(\"transform\", \"rotate(-90)\")\n        .attr(\"x\", - (height / 2))\n        .attr(\"y\", 0 - margin.left + yAxisLabelFontSize)\n        .attr(\"text-anchor\", \"middle\")\n        .style(\"font-size\", yAxisLabelFontSize.toString() + \"px\")\n        .style(\"fill\", \"Black\")\n        .text(yAxisLabel);\n}\n\n\n// Obtain data\nvar data = [{\"y\":7.884071457834421e0,\"x\":1},{\"y\":1.7593359906036077e0,\"x\":2},{\"x\":3,\"y\":1.4175957365540859e0},{\"y\":4.67525196466625e0,\"x\":4},{\"x\":5,\"y\":9.059909838929311e0},{\"y\":7.843524785865879e0,\"x\":6},{\"y\":9.74587916078277e0,\"x\":7},{\"y\":6.514648685342576e0,\"x\":8},{\"y\":9.418776958725871e0,\"x\":9},{\"x\":10,\"y\":3.5772117328618758e0},{\"x\":11,\"y\":0.24242973203638662e0},{\"y\":6.247984431857823e0,\"x\":12},{\"y\":1.409783082500018e0,\"x\":13},{\"y\":0.4977353150716479e0,\"x\":14},{\"y\":7.193600124842991e0,\"x\":15},{\"x\":16,\"y\":4.440859487567703e0},{\"y\":2.5813823287589175e0,\"x\":17},{\"y\":6.3496519586266595e0,\"x\":18},{\"y\":1.160488418665201e0,\"x\":19},{\"y\":9.346243064888798e0,\"x\":20},{\"y\":1.4090274378653733e0,\"x\":21},{\"x\":22,\"y\":5.072391893340322e0},{\"x\":23,\"y\":3.24652560275682e0},{\"x\":24,\"y\":2.4484567723692297e0},{\"y\":3.992492466454838e0,\"x\":25},{\"y\":8.651912727081925e0,\"x\":26},{\"y\":5.490415625215357e0,\"x\":27},{\"y\":7.421233647030365e0,\"x\":28},{\"y\":1.3147034200016638e0,\"x\":29},{\"y\":2.669796729110706e0,\"x\":30},{\"x\":31,\"y\":8.726455860894646e0},{\"y\":4.82564673300817e0,\"x\":32},{\"y\":8.727274421724804e0,\"x\":33},{\"x\":34,\"y\":3.288938555958932e0},{\"y\":1.2027049371038057e0,\"x\":35},{\"y\":2.440774413535751e0,\"x\":36},{\"y\":5.616954243086596e0,\"x\":37},{\"x\":38,\"y\":7.8755790663227625e0},{\"y\":1.694615701021992e0,\"x\":39},{\"y\":2.6255170501074963e0,\"x\":40},{\"y\":4.497527883159017e0,\"x\":41},{\"x\":42,\"y\":7.080312670378853e0},{\"y\":3.6394930715443206e0,\"x\":43},{\"x\":44,\"y\":2.4623682632945263e0},{\"x\":45,\"y\":5.5085770267904e0},{\"x\":46,\"y\":4.097985151390537e0},{\"y\":2.691473979505068e0,\"x\":47},{\"y\":5.090032302858725e0,\"x\":48},{\"x\":49,\"y\":8.75986059674146e0},{\"x\":50,\"y\":1.9057117563049109e0},{\"y\":8.304313305507765e0,\"x\":51},{\"y\":5.471098709523941e0,\"x\":52},{\"y\":7.735559362135809e0,\"x\":53},{\"x\":54,\"y\":1.1220694191411384e0},{\"y\":9.958705141521307e0,\"x\":55},{\"x\":56,\"y\":0.4739019470490824e0},{\"x\":57,\"y\":7.077641992702318e0},{\"x\":58,\"y\":4.025925557746315e0},{\"x\":59,\"y\":0.6606033574440473e0},{\"x\":60,\"y\":7.35063634508675e0},{\"x\":61,\"y\":0.9812938862640319e0},{\"x\":62,\"y\":5.977833388949479e0},{\"y\":5.741946168467948e0,\"x\":63},{\"y\":6.769020485575035e0,\"x\":64},{\"y\":1.4698306411120698e0,\"x\":65},{\"y\":1.2083579607306238e0,\"x\":66},{\"x\":67,\"y\":3.9360888737371766e0},{\"y\":3.837830859197362e0,\"x\":68},{\"y\":8.154929237594315e0,\"x\":69},{\"y\":3.04400413778829e0,\"x\":70},{\"y\":2.015445967591033e0,\"x\":71},{\"x\":72,\"y\":5.620609374293345e0},{\"y\":3.969225402338056e0,\"x\":73},{\"x\":74,\"y\":2.150646066261368e0},{\"y\":6.727719557179511e0,\"x\":75},{\"y\":3.967529923582036e0,\"x\":76},{\"y\":5.020115213517523e0,\"x\":77},{\"y\":8.870007584662131e0,\"x\":78},{\"y\":4.862872100095186e0,\"x\":79},{\"y\":3.1373633269350485e0,\"x\":80}]\n\nvar xMin = Math.min.apply(Math, data.map(function(o) { return o.x; }))\nvar xMax = Math.max.apply(Math, data.map(function(o) { return o.x; }))\n\nvar yMin = Math.min.apply(Math, data.map(function(o) { return o.y; }))\nvar yMax = Math.max.apply(Math, data.map(function(o) { return o.y; }))\n\n// X scale and Axis\nvar x = d3.scaleLinear()\n    .domain([xMin, xMax])\n    .range([0, width]);\n\n// Y scale and Axis\nvar y = d3.scaleLinear()\n    .domain([yMin, yMax])\n    .range([height, 0]);\n\nsvg\n  .append('g')\n  .attr(\"transform\", \"translate(0,\" + height + \")\")\n  .call(d3.axisBottom(x))\n\nsvg\n  .append('g')\n  .call(d3.axisLeft(y));\n\n// prepare a helper function\nvar lineFunc = d3.line()\n  .x(function(d) { return x(d.x) })\n  .y(function(d) { return y(d.y) })\n\n// Add the path using this helper function\nsvg.append('path')\n  .attr('d', lineFunc(data))\n  .attr(\"stroke-width\", 1.5)\n  .attr('stroke', \"steelblue\")\n  .attr('fill', 'none');\n\n}) })(element);\n"
          },
          "execution_count": 3,
          "metadata": {},
          "output_type": "execute_result"
        }
      ],
      "source": [
        "#% js\n",
        "js-d3-list-line-plot(10.rand xx 80, background => 'none')"
      ]
    },
    {
      "cell_type": "code",
      "execution_count": 4,
      "metadata": {},
      "outputs": [
        {
          "data": {
            "text/plain": [
              "none"
            ]
          },
          "execution_count": 4,
          "metadata": {},
          "output_type": "execute_result"
        }
      ],
      "source": [
        "my $background = '#1F1F1F';\n",
        "my $stroke-color = 'Ivory';\n",
        "my $fill-color = 'none';"
      ]
    },
    {
      "cell_type": "code",
      "execution_count": 5,
      "metadata": {},
      "outputs": [
        {
          "data": {
            "text/plain": [
              "1F1F1F"
            ]
          },
          "execution_count": 5,
          "metadata": {},
          "output_type": "execute_result"
        }
      ],
      "source": [
        "my $format = 'html';\n",
        "my $titleTextStyle = { color => 'Ivory' };\n",
        "my $backgroundColor = '#1F1F1F';\n",
        "my $legendTextStyle = { color => 'Silver' };\n",
        "my $legend = { position => \"none\", textStyle => {fontSize => 14, color => 'Silver'} };\n",
        "\n",
        "my $hAxis = { title => 'x', titleTextStyle => { color => 'Silver' }, textStyle => { color => 'Gray'}, logScale => False, format => 'scientific'};\n",
        "my $vAxis = { title => 'y', titleTextStyle => { color => 'Silver' }, textStyle => { color => 'Gray'}, logScale => False, format => 'scientific'};\n",
        "\n",
        "my $annotations = {textStyle => {color => 'Silver', fontSize => 10}};\n",
        "my $chartArea = {left => 50, right => 50, top => 50, bottom => 50, width => '90%', height => '90%'};\n",
        "\n",
        "my $background = '1F1F1F';"
      ]
    },
    {
      "cell_type": "code",
      "execution_count": 6,
      "metadata": {},
      "outputs": [
        {
          "data": {
            "text/plain": [
              "&parsing-test-table"
            ]
          },
          "execution_count": 6,
          "metadata": {},
          "output_type": "execute_result"
        }
      ],
      "source": [
        "my sub parsing-test-table(&parser, @phrases) {\n",
        "    my @field-names = ['statement', 'parser output'];\n",
        "    my @res = @phrases.map({ @field-names Z=> [$_, &parser($_.words).raku] })».Hash.Array;\n",
        "    to-html(@res, :@field-names)\n",
        "}"
      ]
    },
    {
      "cell_type": "markdown",
      "metadata": {},
      "source": [
        "-----\n",
        "\n",
        "## Data ingestion"
      ]
    },
    {
      "cell_type": "markdown",
      "metadata": {},
      "source": [
        "Here we ingest the Doomsday Clock timeline page and show corresponding statistics:"
      ]
    },
    {
      "cell_type": "code",
      "execution_count": 7,
      "metadata": {},
      "outputs": [
        {
          "data": {
            "text/plain": [
              "(chars => 73722 words => 11573 lines => 756)"
            ]
          },
          "execution_count": 7,
          "metadata": {},
          "output_type": "execute_result"
        }
      ],
      "source": [
        "my $url = \"https://thebulletin.org/doomsday-clock/past-announcements/\";\n",
        "my $txtEN = data-import($url, \"plaintext\");\n",
        "\n",
        "text-stats($txtEN)"
      ]
    },
    {
      "cell_type": "markdown",
      "metadata": {},
      "source": [
        "By observing the (plain) text of that page we see the Doomsday Clock time setting can be extracted from the sentence(s) that begin with the following phrase:"
      ]
    },
    {
      "cell_type": "code",
      "execution_count": 8,
      "metadata": {},
      "outputs": [
        {
          "data": {
            "text/plain": [
              "Bulletin of the Atomic Scientists, with a clock reading 90 seconds to midnight"
            ]
          },
          "execution_count": 8,
          "metadata": {},
          "output_type": "execute_result"
        }
      ],
      "source": [
        "my $start-phrase = 'Bulletin of the Atomic Scientists';\n",
        "my $sentence = $txtEN.lines.first({ / ^ $start-phrase /})"
      ]
    },
    {
      "cell_type": "markdown",
      "metadata": {},
      "source": [
        "-----\n",
        "\n",
        "## Grammar and parsers"
      ]
    },
    {
      "cell_type": "markdown",
      "metadata": {},
      "source": [
        "Here is a grammar in [Extended Backus-Naur Form (EBNF)](https://en.wikipedia.org/wiki/Extended_Backus–Naur_form) for parsing Doomsday Clock statements:"
      ]
    },
    {
      "cell_type": "code",
      "execution_count": 9,
      "metadata": {},
      "outputs": [
        {
          "data": {
            "text/plain": [
              "<TOP> = <clock-reading>  ;\n",
              "<clock-reading> = <opening> , ( <minutes> | [ <minutes> , [ 'and' | ',' ] ] , <seconds> ) , 'to' , 'midnight' ;\n",
              "<opening> = [ { <any> } ] , 'clock' , [ 'is' ] , 'reading' ; <any> = '_String' ;\n",
              "<minutes> = <integer> <& ( 'minute' | 'minutes' ) ;\n",
              "<seconds> = <integer> <& ( 'second' | 'seconds' ) ;\n",
              "<integer> = '_Integer' <@ &{ $_.Int } ;\n"
            ]
          },
          "execution_count": 9,
          "metadata": {},
          "output_type": "execute_result"
        }
      ],
      "source": [
        "my $ebnf = q:to/END/;\n",
        "<TOP> = <clock-reading>  ;\n",
        "<clock-reading> = <opening> , ( <minutes> | [ <minutes> , [ 'and' | ',' ] ] , <seconds> ) , 'to' , 'midnight' ;\n",
        "<opening> = [ { <any> } ] , 'clock' , [ 'is' ] , 'reading' ; <any> = '_String' ;\n",
        "<minutes> = <integer> <& ( 'minute' | 'minutes' ) ;\n",
        "<seconds> = <integer> <& ( 'second' | 'seconds' ) ;\n",
        "<integer> = '_Integer' <@ &{ $_.Int } ;\n",
        "END"
      ]
    },
    {
      "cell_type": "markdown",
      "metadata": {},
      "source": [
        "**Remark:** The EBNF grammar above can be obtained with LLMs using a suitable prompt with example sentences. (We do not discuss that approach further in this notebook.)"
      ]
    },
    {
      "cell_type": "markdown",
      "metadata": {},
      "source": [
        "Here the parsing functions are generated from the EBNF string above:"
      ]
    },
    {
      "cell_type": "code",
      "execution_count": 10,
      "metadata": {},
      "outputs": [
        {
          "name": "stdout",
          "output_type": "stream",
          "text": [
            "my &pINTEGER = apply(&{ $_.Int }, symbol('_Integer'));\n",
            "my &pSECONDS = sequence-pick-left(&pINTEGER, (alternatives(symbol('second'), symbol('seconds'))));\n",
            "my &pMINUTES = sequence-pick-left(&pINTEGER, (alternatives(symbol('minute'), symbol('minutes'))));\n",
            "my &pANY = symbol('_String');\n",
            "my &pOPENING = sequence(option(many(&pANY)), sequence(symbol('clock'), sequence(option(symbol('is')), symbol('reading'))));\n",
            "my &pCLOCK-READING = sequence(&pOPENING, sequence((alternatives(&pMINUTES, sequence(option(sequence(&pMINUTES, option(alternatives(symbol('and'), symbol(','))))), &pSECONDS))), sequence(symbol('to'), symbol('midnight'))));\n",
            "my &pTOP = &pCLOCK-READING;\n"
          ]
        }
      ],
      "source": [
        "my @defs = fp-ebnf-parse($ebnf, <CODE>, name => 'Doomed2', actions => 'Raku::Code').head.tail;\n",
        ".say for @defs.reverse"
      ]
    },
    {
      "cell_type": "markdown",
      "metadata": {},
      "source": [
        "Here is the code above re-written using the infix form of the parser combinators:"
      ]
    },
    {
      "cell_type": "code",
      "execution_count": 11,
      "metadata": {},
      "outputs": [
        {
          "data": {
            "text/plain": [
              "-> @x { #`(Block|4432420486256) ... }"
            ]
          },
          "execution_count": 11,
          "metadata": {},
          "output_type": "execute_result"
        }
      ],
      "source": [
        "my &pINTEGER = satisfy({ $_ ~~ /\\d+/ }) «o {.Int};\n",
        "my &pMINUTES = &pINTEGER «& (symbol('minute') «|» symbol('minutes')) «o { [minute => $_,] };\n",
        "my &pSECONDS = &pINTEGER «& (symbol('second') «|» symbol('seconds')) «o { [second => $_,] };\n",
        "my &pANY = satisfy({ $_ ~~ /\\w+/ });\n",
        "my &pOPENING = option(many(&pANY)) «&» symbol('clock') «&» option(symbol('is')) «&» symbol('reading');\n",
        "my &pCLOCK-READING = &pOPENING «&» (&pMINUTES «|» option(&pMINUTES «&» option(symbol('and') «|» symbol(','))) «&» &pSECONDS) «&» symbol('to') «&» symbol('midnight');\n",
        "my &pTOP = &pCLOCK-READING;"
      ]
    },
    {
      "cell_type": "markdown",
      "metadata": {},
      "source": [
        "We must redefine the parser `pANY` (corresponding to the EBNF rule “<any>”) in order to prevent `pANY` of gobbling the word “clock” and in that way making the parser `pOPENING` fail."
      ]
    },
    {
      "cell_type": "code",
      "execution_count": 12,
      "metadata": {},
      "outputs": [
        {
          "data": {
            "text/plain": [
              "-> @x { #`(Block|4431809642288) ... }"
            ]
          },
          "execution_count": 12,
          "metadata": {},
          "output_type": "execute_result"
        }
      ],
      "source": [
        "&pANY = satisfy({ $_ ne 'clock' && $_ ~~ /\\w+/});"
      ]
    },
    {
      "cell_type": "markdown",
      "metadata": {},
      "source": [
        "Here are random sentences generated with the grammar:"
      ]
    },
    {
      "cell_type": "code",
      "execution_count": 13,
      "metadata": {},
      "outputs": [
        {
          "name": "stdout",
          "output_type": "stream",
          "text": [
            " clock  reading 101 minute to midnight\n",
            " clock  reading 174 minute  152 seconds to midnight\n",
            " clock  reading 266 minutes  741 seconds to midnight\n",
            " clock  reading 366 minutes to midnight\n",
            " clock  reading 440 minute to midnight\n",
            " clock is reading 621 minutes to midnight\n",
            " clock is reading 796 minute  913 second to midnight\n",
            "134C5 =34L I;AB clock  reading 243 minutes to midnight\n",
            "1>3Q;H B4VZ ?KO clock  reading 172 minute to midnight\n",
            "4Y<HIU R3T: 9PZO clock  reading 782 minutes to midnight\n",
            "E;U 4B>M1; QXRLX PU8:K clock is reading 312 minutes to midnight\n",
            "Z6Z4G SJ1K: D:V9 Q;9AKR clock  reading 849 minutes to midnight\n"
          ]
        }
      ],
      "source": [
        ".say for fp-random-sentence($ebnf, 12).sort;"
      ]
    },
    {
      "cell_type": "markdown",
      "metadata": {},
      "source": [
        "Verifications of the (sub-)parsers:"
      ]
    },
    {
      "cell_type": "code",
      "execution_count": 14,
      "metadata": {},
      "outputs": [
        {
          "data": {
            "text/plain": [
              "((() [second => 90]))"
            ]
          },
          "execution_count": 14,
          "metadata": {},
          "output_type": "execute_result"
        }
      ],
      "source": [
        "\"90 seconds\".words.&pSECONDS"
      ]
    },
    {
      "cell_type": "code",
      "execution_count": 15,
      "metadata": {},
      "outputs": [
        {
          "data": {
            "text/plain": [
              "((() (((That doomsday)) (clock ((is) reading)))))"
            ]
          },
          "execution_count": 15,
          "metadata": {},
          "output_type": "execute_result"
        }
      ],
      "source": [
        "\"That doomsday clock is reading\".words.&pOPENING"
      ]
    },
    {
      "cell_type": "markdown",
      "metadata": {},
      "source": [
        "Here the “top” parser is applied:"
      ]
    },
    {
      "cell_type": "code",
      "execution_count": 16,
      "metadata": {},
      "outputs": [
        {
          "data": {
            "text/plain": [
              "((() ((((the doomsday)) (clock ((is) reading))) ((() [second => 90]) (to midnight)))))"
            ]
          },
          "execution_count": 16,
          "metadata": {},
          "output_type": "execute_result"
        }
      ],
      "source": [
        "my $str = \"the doomsday clock is reading 90 seconds to midnight\";\n",
        "$str.words.&pTOP"
      ]
    },
    {
      "cell_type": "markdown",
      "metadata": {},
      "source": [
        "Here the sentence extracted above is parsed and interpreted into an association with keys “Minutes” and “Seconds”:"
      ]
    },
    {
      "cell_type": "code",
      "execution_count": 17,
      "metadata": {},
      "outputs": [
        {
          "data": {
            "text/plain": [
              "(second => 90)"
            ]
          },
          "execution_count": 17,
          "metadata": {},
          "output_type": "execute_result"
        }
      ],
      "source": [
        "$sentence.words.&pTOP.tail.flat.grep(* ~~ Pair)"
      ]
    },
    {
      "cell_type": "markdown",
      "metadata": {},
      "source": [
        "Let us redefine `pCLOCK-READING` to return a minutes-&-seconds dictionary, `pTOP` to return a corresponding date-time:"
      ]
    },
    {
      "cell_type": "code",
      "execution_count": 18,
      "metadata": {},
      "outputs": [
        {
          "data": {
            "text/plain": [
              "-> @x { #`(Block|4432478997040) ... }"
            ]
          },
          "execution_count": 18,
          "metadata": {},
          "output_type": "execute_result"
        }
      ],
      "source": [
        "&pCLOCK-READING = &pCLOCK-READING «o { $_.flat.grep(* ~~ Pair).Hash };\n",
        "\n",
        "&pTOP = &pCLOCK-READING «o { \n",
        "    Date.today.DateTime.earlier(seconds => ($_<minute> // 0) * 60 + ($_<second>// 0) ) \n",
        "};"
      ]
    },
    {
      "cell_type": "markdown",
      "metadata": {},
      "source": [
        "Here we assign and show the results of those two parsers:"
      ]
    },
    {
      "cell_type": "code",
      "execution_count": 19,
      "metadata": {},
      "outputs": [
        {
          "name": "stdout",
          "output_type": "stream",
          "text": [
            "doom-reading => {second => 90}\n",
            "doom-time => 2024-12-31T23:58:30Z\n"
          ]
        }
      ],
      "source": [
        "my $doom-reading = $sentence.words.&pCLOCK-READING.head.tail;\n",
        "my $doom-time = $sentence.words.&pTOP.head.tail;\n",
        "\n",
        ".say for (:$doom-reading, :$doom-time)"
      ]
    },
    {
      "cell_type": "markdown",
      "metadata": {},
      "source": [
        "------\n",
        "\n",
        "## Plotting the clock"
      ]
    },
    {
      "cell_type": "markdown",
      "metadata": {},
      "source": [
        "Using the interpretation derived above plot the corresponding clock with `js-dr-clock-gauge`:"
      ]
    },
    {
      "cell_type": "code",
      "execution_count": 20,
      "metadata": {},
      "outputs": [
        {
          "data": {
            "application/javascript": "(function(element) { require(['d3'], function(d3) {\n\n// set the dimensions and margins of the graph\nvar margin = {\"left\":5,\"bottom\":5,\"right\":5,\"top\":5},\n    width = 200 - margin.left - margin.right,\n    height = 200 - margin.top - margin.bottom;\n\n// append the svg object to the body of the page\nvar svg = d3\n   .select(element.get(0))\n  .append(\"svg\")\n    .attr(\"width\", width + margin.left + margin.right)\n    .attr(\"height\", height + margin.top + margin.bottom)\n    .style(\"background\", \"1F1F1F\")\n  .append(\"g\")\n    .attr(\"transform\",\n          \"translate(\" + margin.left + \",\" + margin.top + \")\")\n\n// Obtain title\nvar title = \"\"\nvar titleFontSize = 16\n\nif ( title.length > 0 ) {\n    svg.append(\"text\")\n        .attr(\"x\", (width / 2))\n        .attr(\"y\", 0 - (margin.top / 2))\n        .attr(\"text-anchor\", \"middle\")\n        .style(\"font-size\", titleFontSize.toString() + \"px\")\n        .style(\"fill\", \"Black\")\n        .text(title);\n}\n\nconst radius = Math.min(width, height) / 2;\n\n// Rescaling\nsvg = svg\n    .attr(\"viewBox\", `0 0 ${width} ${height}`)\n    .append(\"g\")\n    .attr(\"transform\", `translate(${width / 2}, ${height / 2})`);\n\nconst hour   = 23;   //new Date().getHours();\nconst minute = 58; //new Date().getMinutes();\nconst second = 30; //new Date().getSeconds();\nconst updateInterval = 1000; // Update every second\n\n\n\n//const scaleRanges = [[[20, 30], [0, 0.05]], [[30, 45], [0, 0.25]], [[45, 55], [0, 0.25]], [[55, 60], [0, 0.05]]];\nconst scaleRanges = [];\n\nconst colorScheme = \"Reds\"; //\"Tableau10\";\nconst colorScale = createColorScale(colorScheme, scaleRanges.length);\n\nfunction createColorScale(scheme, numCategories, start = 0.2, end = 0.8) {\n    const sequentialSchemes = [\n        \"Blues\", \"Greens\", \"Greys\", \"Oranges\", \"Purples\", \"Reds\",\n        \"BuGn\", \"BuPu\", \"GnBu\", \"OrRd\", \"PuBuGn\", \"PuBu\", \"PuRd\", \"RdPu\", \"YlGnBu\", \"YlGn\", \"YlOrBr\", \"YlOrRd\",\n        \"BrBG\", \"PRGn\", \"PiYG\", \"PuOr\", \"RdBu\", \"RdGy\", \"RdYlBu\", \"RdYlGn\", \"Spectral\",\n        \"Cividis\", \"Viridis\", \"Inferno\", \"Magma\", \"Plasma\", \"Warm\", \"Cool\", \"CubehelixDefault\", \"Turbo\",\n        \"Rainbow\", \"Sinebow\"];\n    const categoricalSchemes = [\"Observable10\", \"Category10\", \"Accent\", \"Dark2\", \"Paired\", \"Pastel1\", \"Pastel2\", \"Set1\", \"Set2\", \"Set3\", \"Tableau10\"];\n\n    if (sequentialSchemes.includes(scheme)) {\n        //return d3.scaleSequential(d3[`interpolate${scheme}`]).domain([0, numCategories - 1]);\n        const scale = d3.scaleSequential(d3[`interpolate${scheme}`]).domain([0, 1]);\n        return function(i) { return scale(start + (end - start) * i / (numCategories - 1)) };\n    } else if (categoricalSchemes.includes(scheme)) {\n        return d3.scaleOrdinal(d3[`scheme${scheme}`]);\n    } else {\n        throw new Error(\"Unknown color scheme.\");\n    }\n}\n\nfunction drawClock(hour, minute, second) {\n    svg.selectAll(\"*\").remove();\n\n    svg.append(\"circle\")\n        .attr(\"r\", radius)\n        .attr(\"fill\", \"none\")\n        .attr(\"stroke\", \"Ivory\")\n        .attr(\"stroke-width\", 2);\n\n    if (scaleRanges.length) {\n        const arc = d3.arc()\n            .innerRadius(d => radius - radius * d[1][0])\n            .outerRadius(d => radius - radius * d[1][1])\n            .startAngle(d => (d[0][0] * 2 * Math.PI) / 60)\n            .endAngle(d => (d[0][1] * 2 * Math.PI) / 60);\n\n        svg.selectAll(\"path\")\n            .data(scaleRanges)\n            .enter()\n            .append(\"path\")\n            .attr(\"d\", arc)\n            .attr(\"fill\", (d, i) => colorScale(i));\n    }\n\n    // Draw ticks\n    const ticks = svg.append(\"g\").selectAll(\"line\")\n        .data(d3.range(0, 60)).enter()\n        .append(\"line\")\n        .attr(\"x1\", 0)\n        .attr(\"y1\", d => d % 5 === 0 ? -radius + 15 : -radius + 10)\n        .attr(\"x2\", 0)\n        .attr(\"y2\", -radius + 5)\n        .attr(\"stroke\", \"Ivory\")\n        .attr(\"stroke-width\", d => d % 5 === 0 ? 2 : 1)\n        .attr(\"transform\", d => `rotate(${d * 6})`);\n\n    // Draw numbers\n    const numbers = svg.append(\"g\").selectAll(\"text\")\n        .data(d3.range(1, 13)).enter()\n        .append(\"text\")\n        .attr(\"x\", d => Math.sin(d * Math.PI / 6) * (radius - 30))\n        .attr(\"y\", d => -Math.cos(d * Math.PI / 6) * (radius - 30) + 5)\n        .attr(\"text-anchor\", \"middle\")\n        .attr(\"font-size\", \"16px\")\n        .attr(\"fill\", \"Ivory\")\n        .attr(\"font-family\", \"Ariel\")\n        .text(d => d);\n\n    // Draw hour hand\n    svg.append(\"line\")\n        .attr(\"x1\", 0)\n        .attr(\"y1\", 0)\n        .attr(\"x2\", 0)\n        .attr(\"y2\", -radius + 8 / 15 * radius)\n        .attr(\"stroke\", \"Ivory\")\n        .attr(\"stroke-width\", 4)\n        .attr(\"transform\", `rotate(${(hour % 12) * 30 + minute / 2})`);\n\n    // Draw minute hand\n    svg.append(\"line\")\n        .attr(\"x1\", 0)\n        .attr(\"y1\", 0)\n        .attr(\"x2\", 0)\n        .attr(\"y2\", -radius + 4 / 15 * radius)\n        .attr(\"stroke\", \"Ivory\")\n        .attr(\"stroke-width\", 2)\n        .attr(\"transform\", `rotate(${minute * 6 + second / 10})`);\n\n    // Draw second hand\n    svg.append(\"line\")\n        .attr(\"x1\", 0)\n        .attr(\"y1\", 0)\n        .attr(\"x2\", 0)\n        .attr(\"y2\", -radius + 2 / 15 * radius)\n        .attr(\"stroke\", \"Gray\")\n        .attr(\"stroke-width\", 1)\n        .attr(\"transform\", `rotate(${second * 6})`);\n}\n\nfunction updateClock() {\n    const now = new Date();\n    //drawClock(now.getHours(), now.getMinutes(), now.getSeconds());\n    drawClock(23, 58, 30);\n}\n\ndrawClock(hour, minute, second);\nsetInterval(updateClock, updateInterval);\n\n}) })(element);\n"
          },
          "execution_count": 20,
          "metadata": {},
          "output_type": "execute_result"
        }
      ],
      "source": [
        "#% js\n",
        "js-d3-clock-gauge( $doom-time, :$background, :$stroke-color)"
      ]
    },
    {
      "cell_type": "markdown",
      "metadata": {},
      "source": [
        "Let us define a map with clock-gauge plot options."
      ]
    },
    {
      "cell_type": "code",
      "execution_count": 21,
      "metadata": {},
      "outputs": [
        {
          "data": {
            "text/plain": [
              "13"
            ]
          },
          "execution_count": 21,
          "metadata": {},
          "output_type": "execute_result"
        }
      ],
      "source": [
        "my @scale-ranges = (0, 0.005 ... 0.66).rotor(2=>-1).map({ ([0, 60], $_) });\n",
        "my %opts = \n",
        "    background => 'none',\n",
        "    stroke-color => 'Black', stroke-width => 0,\n",
        "    title-color => 'Ivory', title-font-family => 'Helvetica',\n",
        "    hour-hand-color => 'Orange', second-hand-color => 'Red',\n",
        "    color-scheme => 'Magma',\n",
        "    fill-color => 'AntiqueWhite',\n",
        "    :@scale-ranges,\n",
        "    color-scheme-interpolation-range => (0.11, 0.95),\n",
        "    margins => {top => 60, left => 20, right => 20, bottom => 60},\n",
        "    height => 420,\n",
        "    ;\n",
        "\n",
        "  %opts.elems"
      ]
    },
    {
      "cell_type": "markdown",
      "metadata": {},
      "source": [
        "Here are different \"doomsday clock\" examples:"
      ]
    },
    {
      "cell_type": "code",
      "execution_count": 25,
      "metadata": {},
      "outputs": [
        {
          "data": {
            "application/javascript": "(function(element) { require(['d3'], function(d3) {\n\n// set the dimensions and margins of the graph\nvar margin = {\"right\":20,\"top\":60,\"left\":20,\"bottom\":60},\n    width = 420 - margin.left - margin.right,\n    height = 420 - margin.top - margin.bottom;\n\n// append the svg object to the body of the page\nvar svg = d3\n   .select(element.get(0))\n  .append(\"svg\")\n    .attr(\"width\", width + margin.left + margin.right)\n    .attr(\"height\", height + margin.top + margin.bottom)\n    .style(\"background\", \"none\")\n  .append(\"g\")\n    .attr(\"transform\",\n          \"translate(\" + margin.left + \",\" + margin.top + \")\")\n\n// Obtain title\nvar title = \"\"\nvar titleFontSize = 16\n\nif ( title.length > 0 ) {\n    svg.append(\"text\")\n        .attr(\"x\", (width / 2))\n        .attr(\"y\", 0 - (margin.top / 2))\n        .attr(\"text-anchor\", \"middle\")\n        .style(\"font-size\", titleFontSize.toString() + \"px\")\n        .style(\"fill\", \"Ivory\")\n        .text(title);\n}\n\nconst radius = Math.min(width, height) / 2;\n\n// Rescaling\nsvg = svg\n    .attr(\"viewBox\", `0 0 ${width} ${height}`)\n    .append(\"g\")\n    .attr(\"transform\", `translate(${width / 2}, ${height / 2})`);\n\nconst hour   = 23;   //new Date().getHours();\nconst minute = 58; //new Date().getMinutes();\nconst second = 30; //new Date().getSeconds();\nconst updateInterval = 1000; // Update every second\n\n\n\n//const scaleRanges = [[[20, 30], [0, 0.05]], [[30, 45], [0, 0.25]], [[45, 55], [0, 0.25]], [[55, 60], [0, 0.05]]];\nconst scaleRanges = [[[0,60],[0,0.005]],[[0,60],[0.005,0.01]],[[0,60],[0.01,0.015]],[[0,60],[0.015,0.02]],[[0,60],[0.02,0.025]],[[0,60],[0.025,0.03]],[[0,60],[0.03,0.035]],[[0,60],[0.035,0.04]],[[0,60],[0.04,0.045]],[[0,60],[0.045,0.05]],[[0,60],[0.05,0.055]],[[0,60],[0.055,0.06]],[[0,60],[0.06,0.065]],[[0,60],[0.065,0.07]],[[0,60],[0.07,0.075]],[[0,60],[0.075,0.08]],[[0,60],[0.08,0.085]],[[0,60],[0.085,0.09]],[[0,60],[0.09,0.095]],[[0,60],[0.095,0.1]],[[0,60],[0.1,0.105]],[[0,60],[0.105,0.11]],[[0,60],[0.11,0.115]],[[0,60],[0.115,0.12]],[[0,60],[0.12,0.125]],[[0,60],[0.125,0.13]],[[0,60],[0.13,0.135]],[[0,60],[0.135,0.14]],[[0,60],[0.14,0.145]],[[0,60],[0.145,0.15]],[[0,60],[0.15,0.155]],[[0,60],[0.155,0.16]],[[0,60],[0.16,0.165]],[[0,60],[0.165,0.17]],[[0,60],[0.17,0.175]],[[0,60],[0.175,0.18]],[[0,60],[0.18,0.185]],[[0,60],[0.185,0.19]],[[0,60],[0.19,0.195]],[[0,60],[0.195,0.2]],[[0,60],[0.2,0.205]],[[0,60],[0.205,0.21]],[[0,60],[0.21,0.215]],[[0,60],[0.215,0.22]],[[0,60],[0.22,0.225]],[[0,60],[0.225,0.23]],[[0,60],[0.23,0.235]],[[0,60],[0.235,0.24]],[[0,60],[0.24,0.245]],[[0,60],[0.245,0.25]],[[0,60],[0.25,0.255]],[[0,60],[0.255,0.26]],[[0,60],[0.26,0.265]],[[0,60],[0.265,0.27]],[[0,60],[0.27,0.275]],[[0,60],[0.275,0.28]],[[0,60],[0.28,0.285]],[[0,60],[0.285,0.29]],[[0,60],[0.29,0.295]],[[0,60],[0.295,0.3]],[[0,60],[0.3,0.305]],[[0,60],[0.305,0.31]],[[0,60],[0.31,0.315]],[[0,60],[0.315,0.32]],[[0,60],[0.32,0.325]],[[0,60],[0.325,0.33]],[[0,60],[0.33,0.335]],[[0,60],[0.335,0.34]],[[0,60],[0.34,0.345]],[[0,60],[0.345,0.35]],[[0,60],[0.35,0.355]],[[0,60],[0.355,0.36]],[[0,60],[0.36,0.365]],[[0,60],[0.365,0.37]],[[0,60],[0.37,0.375]],[[0,60],[0.375,0.38]],[[0,60],[0.38,0.385]],[[0,60],[0.385,0.39]],[[0,60],[0.39,0.395]],[[0,60],[0.395,0.4]],[[0,60],[0.4,0.405]],[[0,60],[0.405,0.41]],[[0,60],[0.41,0.415]],[[0,60],[0.415,0.42]],[[0,60],[0.42,0.425]],[[0,60],[0.425,0.43]],[[0,60],[0.43,0.435]],[[0,60],[0.435,0.44]],[[0,60],[0.44,0.445]],[[0,60],[0.445,0.45]],[[0,60],[0.45,0.455]],[[0,60],[0.455,0.46]],[[0,60],[0.46,0.465]],[[0,60],[0.465,0.47]],[[0,60],[0.47,0.475]],[[0,60],[0.475,0.48]],[[0,60],[0.48,0.485]],[[0,60],[0.485,0.49]],[[0,60],[0.49,0.495]],[[0,60],[0.495,0.5]],[[0,60],[0.5,0.505]],[[0,60],[0.505,0.51]],[[0,60],[0.51,0.515]],[[0,60],[0.515,0.52]],[[0,60],[0.52,0.525]],[[0,60],[0.525,0.53]],[[0,60],[0.53,0.535]],[[0,60],[0.535,0.54]],[[0,60],[0.54,0.545]],[[0,60],[0.545,0.55]],[[0,60],[0.55,0.555]],[[0,60],[0.555,0.56]],[[0,60],[0.56,0.565]],[[0,60],[0.565,0.57]],[[0,60],[0.57,0.575]],[[0,60],[0.575,0.58]],[[0,60],[0.58,0.585]],[[0,60],[0.585,0.59]],[[0,60],[0.59,0.595]],[[0,60],[0.595,0.6]],[[0,60],[0.6,0.605]],[[0,60],[0.605,0.61]],[[0,60],[0.61,0.615]],[[0,60],[0.615,0.62]],[[0,60],[0.62,0.625]],[[0,60],[0.625,0.63]],[[0,60],[0.63,0.635]],[[0,60],[0.635,0.64]],[[0,60],[0.64,0.645]],[[0,60],[0.645,0.65]],[[0,60],[0.65,0.655]],[[0,60],[0.655,0.66]]];\n\nconst colorScheme = \"Plasma\"; //\"Tableau10\";\nconst colorScale = createColorScale(colorScheme, scaleRanges.length);\n\nfunction createColorScale(scheme, numCategories, start = 0.11, end = 0.95) {\n    const sequentialSchemes = [\n        \"Blues\", \"Greens\", \"Greys\", \"Oranges\", \"Purples\", \"Reds\",\n        \"BuGn\", \"BuPu\", \"GnBu\", \"OrRd\", \"PuBuGn\", \"PuBu\", \"PuRd\", \"RdPu\", \"YlGnBu\", \"YlGn\", \"YlOrBr\", \"YlOrRd\",\n        \"BrBG\", \"PRGn\", \"PiYG\", \"PuOr\", \"RdBu\", \"RdGy\", \"RdYlBu\", \"RdYlGn\", \"Spectral\",\n        \"Cividis\", \"Viridis\", \"Inferno\", \"Magma\", \"Plasma\", \"Warm\", \"Cool\", \"CubehelixDefault\", \"Turbo\",\n        \"Rainbow\", \"Sinebow\"];\n    const categoricalSchemes = [\"Observable10\", \"Category10\", \"Accent\", \"Dark2\", \"Paired\", \"Pastel1\", \"Pastel2\", \"Set1\", \"Set2\", \"Set3\", \"Tableau10\"];\n\n    if (sequentialSchemes.includes(scheme)) {\n        //return d3.scaleSequential(d3[`interpolate${scheme}`]).domain([0, numCategories - 1]);\n        const scale = d3.scaleSequential(d3[`interpolate${scheme}`]).domain([0, 1]);\n        return function(i) { return scale(start + (end - start) * i / (numCategories - 1)) };\n    } else if (categoricalSchemes.includes(scheme)) {\n        return d3.scaleOrdinal(d3[`scheme${scheme}`]);\n    } else {\n        throw new Error(\"Unknown color scheme.\");\n    }\n}\n\nfunction drawClock(hour, minute, second) {\n    svg.selectAll(\"*\").remove();\n\n    svg.append(\"circle\")\n        .attr(\"r\", radius)\n        .attr(\"fill\", \"MistyRose\")\n        .attr(\"stroke\", \"Black\")\n        .attr(\"stroke-width\", 0);\n\n    if (scaleRanges.length) {\n        const arc = d3.arc()\n            .innerRadius(d => radius - radius * d[1][0])\n            .outerRadius(d => radius - radius * d[1][1])\n            .startAngle(d => (d[0][0] * 2 * Math.PI) / 60)\n            .endAngle(d => (d[0][1] * 2 * Math.PI) / 60);\n\n        svg.selectAll(\"path\")\n            .data(scaleRanges)\n            .enter()\n            .append(\"path\")\n            .attr(\"d\", arc)\n            .attr(\"fill\", (d, i) => colorScale(i));\n    }\n\n    // Draw ticks\n    const ticks = svg.append(\"g\").selectAll(\"line\")\n        .data(d3.range(0, 60)).enter()\n        .append(\"line\")\n        .attr(\"x1\", 0)\n        .attr(\"y1\", d => d % 5 === 0 ? -radius + 15 : -radius + 10)\n        .attr(\"x2\", 0)\n        .attr(\"y2\", -radius + 5)\n        .attr(\"stroke\", \"Black\")\n        .attr(\"stroke-width\", d => d % 5 === 0 ? 2 : 1)\n        .attr(\"transform\", d => `rotate(${d * 6})`);\n\n    // Draw numbers\n    const numbers = svg.append(\"g\").selectAll(\"text\")\n        .data(d3.range(1, 13)).enter()\n        .append(\"text\")\n        .attr(\"x\", d => Math.sin(d * Math.PI / 6) * (radius - 30))\n        .attr(\"y\", d => -Math.cos(d * Math.PI / 6) * (radius - 30) + 5)\n        .attr(\"text-anchor\", \"middle\")\n        .attr(\"font-size\", \"16px\")\n        .attr(\"fill\", \"Black\")\n        .attr(\"font-family\", \"Ariel\")\n        .text(d => d);\n\n    // Draw hour hand\n    svg.append(\"line\")\n        .attr(\"x1\", 0)\n        .attr(\"y1\", 0)\n        .attr(\"x2\", 0)\n        .attr(\"y2\", -radius + 8 / 15 * radius)\n        .attr(\"stroke\", \"Orange\")\n        .attr(\"stroke-width\", 4)\n        .attr(\"transform\", `rotate(${(hour % 12) * 30 + minute / 2})`);\n\n    // Draw minute hand\n    svg.append(\"line\")\n        .attr(\"x1\", 0)\n        .attr(\"y1\", 0)\n        .attr(\"x2\", 0)\n        .attr(\"y2\", -radius + 4 / 15 * radius)\n        .attr(\"stroke\", \"Orange\")\n        .attr(\"stroke-width\", 2)\n        .attr(\"transform\", `rotate(${minute * 6 + second / 10})`);\n\n    // Draw second hand\n    svg.append(\"line\")\n        .attr(\"x1\", 0)\n        .attr(\"y1\", 0)\n        .attr(\"x2\", 0)\n        .attr(\"y2\", -radius + 2 / 15 * radius)\n        .attr(\"stroke\", \"Red\")\n        .attr(\"stroke-width\", 1)\n        .attr(\"transform\", `rotate(${second * 6})`);\n}\n\nfunction updateClock() {\n    const now = new Date();\n    //drawClock(now.getHours(), now.getMinutes(), now.getSeconds());\n    drawClock(23, 58, 30);\n}\n\ndrawClock(hour, minute, second);\nsetInterval(updateClock, updateInterval);\n\n}) })(element);\n\n(function(element) { require(['d3'], function(d3) {\n\n// set the dimensions and margins of the graph\nvar margin = {\"top\":60,\"right\":20,\"bottom\":60,\"left\":20},\n    width = 420 - margin.left - margin.right,\n    height = 420 - margin.top - margin.bottom;\n\n// append the svg object to the body of the page\nvar svg = d3\n   .select(element.get(0))\n  .append(\"svg\")\n    .attr(\"width\", width + margin.left + margin.right)\n    .attr(\"height\", height + margin.top + margin.bottom)\n    .style(\"background\", \"none\")\n  .append(\"g\")\n    .attr(\"transform\",\n          \"translate(\" + margin.left + \",\" + margin.top + \")\")\n\n// Obtain title\nvar title = \"\"\nvar titleFontSize = 16\n\nif ( title.length > 0 ) {\n    svg.append(\"text\")\n        .attr(\"x\", (width / 2))\n        .attr(\"y\", 0 - (margin.top / 2))\n        .attr(\"text-anchor\", \"middle\")\n        .style(\"font-size\", titleFontSize.toString() + \"px\")\n        .style(\"fill\", \"Ivory\")\n        .text(title);\n}\n\nconst radius = Math.min(width, height) / 2;\n\n// Rescaling\nsvg = svg\n    .attr(\"viewBox\", `0 0 ${width} ${height}`)\n    .append(\"g\")\n    .attr(\"transform\", `translate(${width / 2}, ${height / 2})`);\n\nconst hour   = 23;   //new Date().getHours();\nconst minute = 58; //new Date().getMinutes();\nconst second = 30; //new Date().getSeconds();\nconst updateInterval = 1000; // Update every second\n\n\n\n//const scaleRanges = [[[20, 30], [0, 0.05]], [[30, 45], [0, 0.25]], [[45, 55], [0, 0.25]], [[55, 60], [0, 0.05]]];\nconst scaleRanges = [[[0,60],[0,0.005]],[[0,60],[0.005,0.01]],[[0,60],[0.01,0.015]],[[0,60],[0.015,0.02]],[[0,60],[0.02,0.025]],[[0,60],[0.025,0.03]],[[0,60],[0.03,0.035]],[[0,60],[0.035,0.04]],[[0,60],[0.04,0.045]],[[0,60],[0.045,0.05]],[[0,60],[0.05,0.055]],[[0,60],[0.055,0.06]],[[0,60],[0.06,0.065]],[[0,60],[0.065,0.07]],[[0,60],[0.07,0.075]],[[0,60],[0.075,0.08]],[[0,60],[0.08,0.085]],[[0,60],[0.085,0.09]],[[0,60],[0.09,0.095]],[[0,60],[0.095,0.1]],[[0,60],[0.1,0.105]],[[0,60],[0.105,0.11]],[[0,60],[0.11,0.115]],[[0,60],[0.115,0.12]],[[0,60],[0.12,0.125]],[[0,60],[0.125,0.13]],[[0,60],[0.13,0.135]],[[0,60],[0.135,0.14]],[[0,60],[0.14,0.145]],[[0,60],[0.145,0.15]],[[0,60],[0.15,0.155]],[[0,60],[0.155,0.16]],[[0,60],[0.16,0.165]],[[0,60],[0.165,0.17]],[[0,60],[0.17,0.175]],[[0,60],[0.175,0.18]],[[0,60],[0.18,0.185]],[[0,60],[0.185,0.19]],[[0,60],[0.19,0.195]],[[0,60],[0.195,0.2]],[[0,60],[0.2,0.205]],[[0,60],[0.205,0.21]],[[0,60],[0.21,0.215]],[[0,60],[0.215,0.22]],[[0,60],[0.22,0.225]],[[0,60],[0.225,0.23]],[[0,60],[0.23,0.235]],[[0,60],[0.235,0.24]],[[0,60],[0.24,0.245]],[[0,60],[0.245,0.25]],[[0,60],[0.25,0.255]],[[0,60],[0.255,0.26]],[[0,60],[0.26,0.265]],[[0,60],[0.265,0.27]],[[0,60],[0.27,0.275]],[[0,60],[0.275,0.28]],[[0,60],[0.28,0.285]],[[0,60],[0.285,0.29]],[[0,60],[0.29,0.295]],[[0,60],[0.295,0.3]],[[0,60],[0.3,0.305]],[[0,60],[0.305,0.31]],[[0,60],[0.31,0.315]],[[0,60],[0.315,0.32]],[[0,60],[0.32,0.325]],[[0,60],[0.325,0.33]],[[0,60],[0.33,0.335]],[[0,60],[0.335,0.34]],[[0,60],[0.34,0.345]],[[0,60],[0.345,0.35]],[[0,60],[0.35,0.355]],[[0,60],[0.355,0.36]],[[0,60],[0.36,0.365]],[[0,60],[0.365,0.37]],[[0,60],[0.37,0.375]],[[0,60],[0.375,0.38]],[[0,60],[0.38,0.385]],[[0,60],[0.385,0.39]],[[0,60],[0.39,0.395]],[[0,60],[0.395,0.4]],[[0,60],[0.4,0.405]],[[0,60],[0.405,0.41]],[[0,60],[0.41,0.415]],[[0,60],[0.415,0.42]],[[0,60],[0.42,0.425]],[[0,60],[0.425,0.43]],[[0,60],[0.43,0.435]],[[0,60],[0.435,0.44]],[[0,60],[0.44,0.445]],[[0,60],[0.445,0.45]],[[0,60],[0.45,0.455]],[[0,60],[0.455,0.46]],[[0,60],[0.46,0.465]],[[0,60],[0.465,0.47]],[[0,60],[0.47,0.475]],[[0,60],[0.475,0.48]],[[0,60],[0.48,0.485]],[[0,60],[0.485,0.49]],[[0,60],[0.49,0.495]],[[0,60],[0.495,0.5]],[[0,60],[0.5,0.505]],[[0,60],[0.505,0.51]],[[0,60],[0.51,0.515]],[[0,60],[0.515,0.52]],[[0,60],[0.52,0.525]],[[0,60],[0.525,0.53]],[[0,60],[0.53,0.535]],[[0,60],[0.535,0.54]],[[0,60],[0.54,0.545]],[[0,60],[0.545,0.55]],[[0,60],[0.55,0.555]],[[0,60],[0.555,0.56]],[[0,60],[0.56,0.565]],[[0,60],[0.565,0.57]],[[0,60],[0.57,0.575]],[[0,60],[0.575,0.58]],[[0,60],[0.58,0.585]],[[0,60],[0.585,0.59]],[[0,60],[0.59,0.595]],[[0,60],[0.595,0.6]],[[0,60],[0.6,0.605]],[[0,60],[0.605,0.61]],[[0,60],[0.61,0.615]],[[0,60],[0.615,0.62]],[[0,60],[0.62,0.625]],[[0,60],[0.625,0.63]],[[0,60],[0.63,0.635]],[[0,60],[0.635,0.64]],[[0,60],[0.64,0.645]],[[0,60],[0.645,0.65]],[[0,60],[0.65,0.655]],[[0,60],[0.655,0.66]]];\n\nconst colorScheme = \"Spectral\"; //\"Tableau10\";\nconst colorScale = createColorScale(colorScheme, scaleRanges.length);\n\nfunction createColorScale(scheme, numCategories, start = 0.11, end = 0.95) {\n    const sequentialSchemes = [\n        \"Blues\", \"Greens\", \"Greys\", \"Oranges\", \"Purples\", \"Reds\",\n        \"BuGn\", \"BuPu\", \"GnBu\", \"OrRd\", \"PuBuGn\", \"PuBu\", \"PuRd\", \"RdPu\", \"YlGnBu\", \"YlGn\", \"YlOrBr\", \"YlOrRd\",\n        \"BrBG\", \"PRGn\", \"PiYG\", \"PuOr\", \"RdBu\", \"RdGy\", \"RdYlBu\", \"RdYlGn\", \"Spectral\",\n        \"Cividis\", \"Viridis\", \"Inferno\", \"Magma\", \"Plasma\", \"Warm\", \"Cool\", \"CubehelixDefault\", \"Turbo\",\n        \"Rainbow\", \"Sinebow\"];\n    const categoricalSchemes = [\"Observable10\", \"Category10\", \"Accent\", \"Dark2\", \"Paired\", \"Pastel1\", \"Pastel2\", \"Set1\", \"Set2\", \"Set3\", \"Tableau10\"];\n\n    if (sequentialSchemes.includes(scheme)) {\n        //return d3.scaleSequential(d3[`interpolate${scheme}`]).domain([0, numCategories - 1]);\n        const scale = d3.scaleSequential(d3[`interpolate${scheme}`]).domain([0, 1]);\n        return function(i) { return scale(start + (end - start) * i / (numCategories - 1)) };\n    } else if (categoricalSchemes.includes(scheme)) {\n        return d3.scaleOrdinal(d3[`scheme${scheme}`]);\n    } else {\n        throw new Error(\"Unknown color scheme.\");\n    }\n}\n\nfunction drawClock(hour, minute, second) {\n    svg.selectAll(\"*\").remove();\n\n    svg.append(\"circle\")\n        .attr(\"r\", radius)\n        .attr(\"fill\", \"#4e65ac\")\n        .attr(\"stroke\", \"DarkRed\")\n        .attr(\"stroke-width\", 10);\n\n    if (scaleRanges.length) {\n        const arc = d3.arc()\n            .innerRadius(d => radius - radius * d[1][0])\n            .outerRadius(d => radius - radius * d[1][1])\n            .startAngle(d => (d[0][0] * 2 * Math.PI) / 60)\n            .endAngle(d => (d[0][1] * 2 * Math.PI) / 60);\n\n        svg.selectAll(\"path\")\n            .data(scaleRanges)\n            .enter()\n            .append(\"path\")\n            .attr(\"d\", arc)\n            .attr(\"fill\", (d, i) => colorScale(i));\n    }\n\n    // Draw ticks\n    const ticks = svg.append(\"g\").selectAll(\"line\")\n        .data(d3.range(0, 60)).enter()\n        .append(\"line\")\n        .attr(\"x1\", 0)\n        .attr(\"y1\", d => d % 5 === 0 ? -radius + 15 : -radius + 10)\n        .attr(\"x2\", 0)\n        .attr(\"y2\", -radius + 5)\n        .attr(\"stroke\", \"DarkRed\")\n        .attr(\"stroke-width\", d => d % 5 === 0 ? 2 : 1)\n        .attr(\"transform\", d => `rotate(${d * 6})`);\n\n    // Draw numbers\n    const numbers = svg.append(\"g\").selectAll(\"text\")\n        .data(d3.range(1, 13)).enter()\n        .append(\"text\")\n        .attr(\"x\", d => Math.sin(d * Math.PI / 6) * (radius - 30))\n        .attr(\"y\", d => -Math.cos(d * Math.PI / 6) * (radius - 30) + 5)\n        .attr(\"text-anchor\", \"middle\")\n        .attr(\"font-size\", \"16px\")\n        .attr(\"fill\", \"DarkRed\")\n        .attr(\"font-family\", \"Ariel\")\n        .text(d => d);\n\n    // Draw hour hand\n    svg.append(\"line\")\n        .attr(\"x1\", 0)\n        .attr(\"y1\", 0)\n        .attr(\"x2\", 0)\n        .attr(\"y2\", -radius + 8 / 15 * radius)\n        .attr(\"stroke\", \"Orange\")\n        .attr(\"stroke-width\", 4)\n        .attr(\"transform\", `rotate(${(hour % 12) * 30 + minute / 2})`);\n\n    // Draw minute hand\n    svg.append(\"line\")\n        .attr(\"x1\", 0)\n        .attr(\"y1\", 0)\n        .attr(\"x2\", 0)\n        .attr(\"y2\", -radius + 4 / 15 * radius)\n        .attr(\"stroke\", \"Orange\")\n        .attr(\"stroke-width\", 2)\n        .attr(\"transform\", `rotate(${minute * 6 + second / 10})`);\n\n    // Draw second hand\n    svg.append(\"line\")\n        .attr(\"x1\", 0)\n        .attr(\"y1\", 0)\n        .attr(\"x2\", 0)\n        .attr(\"y2\", -radius + 2 / 15 * radius)\n        .attr(\"stroke\", \"Red\")\n        .attr(\"stroke-width\", 1)\n        .attr(\"transform\", `rotate(${second * 6})`);\n}\n\nfunction updateClock() {\n    const now = new Date();\n    //drawClock(now.getHours(), now.getMinutes(), now.getSeconds());\n    drawClock(23, 58, 30);\n}\n\ndrawClock(hour, minute, second);\nsetInterval(updateClock, updateInterval);\n\n}) })(element);\n\n(function(element) { require(['d3'], function(d3) {\n\n// set the dimensions and margins of the graph\nvar margin = {\"left\":20,\"right\":20,\"bottom\":60,\"top\":60},\n    width = 420 - margin.left - margin.right,\n    height = 420 - margin.top - margin.bottom;\n\n// append the svg object to the body of the page\nvar svg = d3\n   .select(element.get(0))\n  .append(\"svg\")\n    .attr(\"width\", width + margin.left + margin.right)\n    .attr(\"height\", height + margin.top + margin.bottom)\n    .style(\"background\", \"none\")\n  .append(\"g\")\n    .attr(\"transform\",\n          \"translate(\" + margin.left + \",\" + margin.top + \")\")\n\n// Obtain title\nvar title = \"\"\nvar titleFontSize = 16\n\nif ( title.length > 0 ) {\n    svg.append(\"text\")\n        .attr(\"x\", (width / 2))\n        .attr(\"y\", 0 - (margin.top / 2))\n        .attr(\"text-anchor\", \"middle\")\n        .style(\"font-size\", titleFontSize.toString() + \"px\")\n        .style(\"fill\", \"Ivory\")\n        .text(title);\n}\n\nconst radius = Math.min(width, height) / 2;\n\n// Rescaling\nsvg = svg\n    .attr(\"viewBox\", `0 0 ${width} ${height}`)\n    .append(\"g\")\n    .attr(\"transform\", `translate(${width / 2}, ${height / 2})`);\n\nconst hour   = 23;   //new Date().getHours();\nconst minute = 58; //new Date().getMinutes();\nconst second = 30; //new Date().getSeconds();\nconst updateInterval = 1000; // Update every second\n\n\n\n//const scaleRanges = [[[20, 30], [0, 0.05]], [[30, 45], [0, 0.25]], [[45, 55], [0, 0.25]], [[55, 60], [0, 0.05]]];\nconst scaleRanges = [[[0,60],[0,0.005]],[[0,60],[0.005,0.01]],[[0,60],[0.01,0.015]],[[0,60],[0.015,0.02]],[[0,60],[0.02,0.025]],[[0,60],[0.025,0.03]],[[0,60],[0.03,0.035]],[[0,60],[0.035,0.04]],[[0,60],[0.04,0.045]],[[0,60],[0.045,0.05]],[[0,60],[0.05,0.055]],[[0,60],[0.055,0.06]],[[0,60],[0.06,0.065]],[[0,60],[0.065,0.07]],[[0,60],[0.07,0.075]],[[0,60],[0.075,0.08]],[[0,60],[0.08,0.085]],[[0,60],[0.085,0.09]],[[0,60],[0.09,0.095]],[[0,60],[0.095,0.1]],[[0,60],[0.1,0.105]],[[0,60],[0.105,0.11]],[[0,60],[0.11,0.115]],[[0,60],[0.115,0.12]],[[0,60],[0.12,0.125]],[[0,60],[0.125,0.13]],[[0,60],[0.13,0.135]],[[0,60],[0.135,0.14]],[[0,60],[0.14,0.145]],[[0,60],[0.145,0.15]],[[0,60],[0.15,0.155]],[[0,60],[0.155,0.16]],[[0,60],[0.16,0.165]],[[0,60],[0.165,0.17]],[[0,60],[0.17,0.175]],[[0,60],[0.175,0.18]],[[0,60],[0.18,0.185]],[[0,60],[0.185,0.19]],[[0,60],[0.19,0.195]],[[0,60],[0.195,0.2]],[[0,60],[0.2,0.205]],[[0,60],[0.205,0.21]],[[0,60],[0.21,0.215]],[[0,60],[0.215,0.22]],[[0,60],[0.22,0.225]],[[0,60],[0.225,0.23]],[[0,60],[0.23,0.235]],[[0,60],[0.235,0.24]],[[0,60],[0.24,0.245]],[[0,60],[0.245,0.25]],[[0,60],[0.25,0.255]],[[0,60],[0.255,0.26]],[[0,60],[0.26,0.265]],[[0,60],[0.265,0.27]],[[0,60],[0.27,0.275]],[[0,60],[0.275,0.28]],[[0,60],[0.28,0.285]],[[0,60],[0.285,0.29]],[[0,60],[0.29,0.295]],[[0,60],[0.295,0.3]],[[0,60],[0.3,0.305]],[[0,60],[0.305,0.31]],[[0,60],[0.31,0.315]],[[0,60],[0.315,0.32]],[[0,60],[0.32,0.325]],[[0,60],[0.325,0.33]],[[0,60],[0.33,0.335]],[[0,60],[0.335,0.34]],[[0,60],[0.34,0.345]],[[0,60],[0.345,0.35]],[[0,60],[0.35,0.355]],[[0,60],[0.355,0.36]],[[0,60],[0.36,0.365]],[[0,60],[0.365,0.37]],[[0,60],[0.37,0.375]],[[0,60],[0.375,0.38]],[[0,60],[0.38,0.385]],[[0,60],[0.385,0.39]],[[0,60],[0.39,0.395]],[[0,60],[0.395,0.4]],[[0,60],[0.4,0.405]],[[0,60],[0.405,0.41]],[[0,60],[0.41,0.415]],[[0,60],[0.415,0.42]],[[0,60],[0.42,0.425]],[[0,60],[0.425,0.43]],[[0,60],[0.43,0.435]],[[0,60],[0.435,0.44]],[[0,60],[0.44,0.445]],[[0,60],[0.445,0.45]],[[0,60],[0.45,0.455]],[[0,60],[0.455,0.46]],[[0,60],[0.46,0.465]],[[0,60],[0.465,0.47]],[[0,60],[0.47,0.475]],[[0,60],[0.475,0.48]],[[0,60],[0.48,0.485]],[[0,60],[0.485,0.49]],[[0,60],[0.49,0.495]],[[0,60],[0.495,0.5]],[[0,60],[0.5,0.505]],[[0,60],[0.505,0.51]],[[0,60],[0.51,0.515]],[[0,60],[0.515,0.52]],[[0,60],[0.52,0.525]],[[0,60],[0.525,0.53]],[[0,60],[0.53,0.535]],[[0,60],[0.535,0.54]],[[0,60],[0.54,0.545]],[[0,60],[0.545,0.55]],[[0,60],[0.55,0.555]],[[0,60],[0.555,0.56]],[[0,60],[0.56,0.565]],[[0,60],[0.565,0.57]],[[0,60],[0.57,0.575]],[[0,60],[0.575,0.58]],[[0,60],[0.58,0.585]],[[0,60],[0.585,0.59]],[[0,60],[0.59,0.595]],[[0,60],[0.595,0.6]],[[0,60],[0.6,0.605]],[[0,60],[0.605,0.61]],[[0,60],[0.61,0.615]],[[0,60],[0.615,0.62]],[[0,60],[0.62,0.625]],[[0,60],[0.625,0.63]],[[0,60],[0.63,0.635]],[[0,60],[0.635,0.64]],[[0,60],[0.64,0.645]],[[0,60],[0.645,0.65]],[[0,60],[0.65,0.655]],[[0,60],[0.655,0.66]]];\n\nconst colorScheme = \"Inferno\"; //\"Tableau10\";\nconst colorScale = createColorScale(colorScheme, scaleRanges.length);\n\nfunction createColorScale(scheme, numCategories, start = 0.11, end = 0.95) {\n    const sequentialSchemes = [\n        \"Blues\", \"Greens\", \"Greys\", \"Oranges\", \"Purples\", \"Reds\",\n        \"BuGn\", \"BuPu\", \"GnBu\", \"OrRd\", \"PuBuGn\", \"PuBu\", \"PuRd\", \"RdPu\", \"YlGnBu\", \"YlGn\", \"YlOrBr\", \"YlOrRd\",\n        \"BrBG\", \"PRGn\", \"PiYG\", \"PuOr\", \"RdBu\", \"RdGy\", \"RdYlBu\", \"RdYlGn\", \"Spectral\",\n        \"Cividis\", \"Viridis\", \"Inferno\", \"Magma\", \"Plasma\", \"Warm\", \"Cool\", \"CubehelixDefault\", \"Turbo\",\n        \"Rainbow\", \"Sinebow\"];\n    const categoricalSchemes = [\"Observable10\", \"Category10\", \"Accent\", \"Dark2\", \"Paired\", \"Pastel1\", \"Pastel2\", \"Set1\", \"Set2\", \"Set3\", \"Tableau10\"];\n\n    if (sequentialSchemes.includes(scheme)) {\n        //return d3.scaleSequential(d3[`interpolate${scheme}`]).domain([0, numCategories - 1]);\n        const scale = d3.scaleSequential(d3[`interpolate${scheme}`]).domain([0, 1]);\n        return function(i) { return scale(start + (end - start) * i / (numCategories - 1)) };\n    } else if (categoricalSchemes.includes(scheme)) {\n        return d3.scaleOrdinal(d3[`scheme${scheme}`]);\n    } else {\n        throw new Error(\"Unknown color scheme.\");\n    }\n}\n\nfunction drawClock(hour, minute, second) {\n    svg.selectAll(\"*\").remove();\n\n    svg.append(\"circle\")\n        .attr(\"r\", radius)\n        .attr(\"fill\", \"DarkSlateGray\")\n        .attr(\"stroke\", \"Black\")\n        .attr(\"stroke-width\", 0);\n\n    if (scaleRanges.length) {\n        const arc = d3.arc()\n            .innerRadius(d => radius - radius * d[1][0])\n            .outerRadius(d => radius - radius * d[1][1])\n            .startAngle(d => (d[0][0] * 2 * Math.PI) / 60)\n            .endAngle(d => (d[0][1] * 2 * Math.PI) / 60);\n\n        svg.selectAll(\"path\")\n            .data(scaleRanges)\n            .enter()\n            .append(\"path\")\n            .attr(\"d\", arc)\n            .attr(\"fill\", (d, i) => colorScale(i));\n    }\n\n    // Draw ticks\n    const ticks = svg.append(\"g\").selectAll(\"line\")\n        .data(d3.range(0, 60)).enter()\n        .append(\"line\")\n        .attr(\"x1\", 0)\n        .attr(\"y1\", d => d % 5 === 0 ? -radius + 15 : -radius + 10)\n        .attr(\"x2\", 0)\n        .attr(\"y2\", -radius + 5)\n        .attr(\"stroke\", \"Black\")\n        .attr(\"stroke-width\", d => d % 5 === 0 ? 2 : 1)\n        .attr(\"transform\", d => `rotate(${d * 6})`);\n\n    // Draw numbers\n    const numbers = svg.append(\"g\").selectAll(\"text\")\n        .data(d3.range(1, 13)).enter()\n        .append(\"text\")\n        .attr(\"x\", d => Math.sin(d * Math.PI / 6) * (radius - 30))\n        .attr(\"y\", d => -Math.cos(d * Math.PI / 6) * (radius - 30) + 5)\n        .attr(\"text-anchor\", \"middle\")\n        .attr(\"font-size\", \"16px\")\n        .attr(\"fill\", \"Black\")\n        .attr(\"font-family\", \"Ariel\")\n        .text(d => d);\n\n    // Draw hour hand\n    svg.append(\"line\")\n        .attr(\"x1\", 0)\n        .attr(\"y1\", 0)\n        .attr(\"x2\", 0)\n        .attr(\"y2\", -radius + 8 / 15 * radius)\n        .attr(\"stroke\", \"Orange\")\n        .attr(\"stroke-width\", 4)\n        .attr(\"transform\", `rotate(${(hour % 12) * 30 + minute / 2})`);\n\n    // Draw minute hand\n    svg.append(\"line\")\n        .attr(\"x1\", 0)\n        .attr(\"y1\", 0)\n        .attr(\"x2\", 0)\n        .attr(\"y2\", -radius + 4 / 15 * radius)\n        .attr(\"stroke\", \"Orange\")\n        .attr(\"stroke-width\", 2)\n        .attr(\"transform\", `rotate(${minute * 6 + second / 10})`);\n\n    // Draw second hand\n    svg.append(\"line\")\n        .attr(\"x1\", 0)\n        .attr(\"y1\", 0)\n        .attr(\"x2\", 0)\n        .attr(\"y2\", -radius + 2 / 15 * radius)\n        .attr(\"stroke\", \"Red\")\n        .attr(\"stroke-width\", 1)\n        .attr(\"transform\", `rotate(${second * 6})`);\n}\n\nfunction updateClock() {\n    const now = new Date();\n    //drawClock(now.getHours(), now.getMinutes(), now.getSeconds());\n    drawClock(23, 58, 30);\n}\n\ndrawClock(hour, minute, second);\nsetInterval(updateClock, updateInterval);\n\n}) })(element);\n"
          },
          "execution_count": 25,
          "metadata": {},
          "output_type": "execute_result"
        }
      ],
      "source": [
        "#%js\n",
        "[\n",
        "   {color-scheme => 'Plasma', fill-color => 'MistyRose'},\n",
        "   {color-scheme => 'Spectral', fill-color => '#4e65ac', stroke-color => 'DarkRed', stroke-width => 10},\n",
        "   {color-scheme => 'Inferno', fill-color => 'DarkSlateGray'},\n",
        "].map({ js-d3-clock-gauge(:23hour, :58minute, :30second, |merge-hash(%opts, $_)) }).join(\"\\n\")"
      ]
    },
    {
      "cell_type": "markdown",
      "metadata": {},
      "source": [
        "----\n",
        "\n",
        "## More robust parsing"
      ]
    },
    {
      "cell_type": "markdown",
      "metadata": {},
      "source": [
        "More robust parsing of Doomsday Clock statements can be obtained in these three ways:"
      ]
    },
    {
      "cell_type": "markdown",
      "metadata": {},
      "source": [
        "- “Fuzzy” match of words\n",
        "\n",
        "    - For misspellings like \"doomsdat\" instead of \"doomsday.\"\n",
        "\n",
        "- Parsing of numeric work forms.\n",
        "\n",
        "    - For statements, like, \"two minutes and twenty five seconds.\"\n",
        "\n",
        "- Delegating the parsing to LLMs when grammar parsing fails."
      ]
    },
    {
      "cell_type": "markdown",
      "metadata": {},
      "source": [
        "### Fuzzy matching"
      ]
    },
    {
      "cell_type": "markdown",
      "metadata": {},
      "source": [
        "The parser `satisfy` can be used to handle misspellings (via, say, `edit-distance` from [\"Math::DistanceFunctions\"](https://raku.land/zef:antononcube/Math::DistanceFunctions)):"
      ]
    },
    {
      "cell_type": "code",
      "execution_count": 23,
      "metadata": {},
      "outputs": [
        {
          "data": {
            "text/html": [
              "<table border=\"1\"><thead><tr><th>statement</th><th>parser output</th></tr></thead><tbody><tr><td>doomsdat</td><td>(((), &quot;doomsday&quot;),).Seq</td></tr><tr><td>doomsday</td><td>(((), &quot;doomsday&quot;),).Seq</td></tr><tr><td>dumzday</td><td>().Seq</td></tr></tbody></table>"
            ]
          },
          "execution_count": 23,
          "metadata": {},
          "output_type": "execute_result"
        }
      ],
      "source": [
        "#% html\n",
        "my &pDD = satisfy({ edit-distance($_, \"doomsday\") ≤ 2 }) «o {\"doomsday\"};\n",
        "my @phrases = \"doomsdat\", \"doomsday\", \"dumzday\";\n",
        "\n",
        "parsing-test-table(&pDD, @phrases)"
      ]
    },
    {
      "cell_type": "markdown",
      "metadata": {},
      "source": [
        "But since \"FunctionalParsers\" provides the generic parser `fuzzy-symbol` (that takes a word and a distance as arguments) we use that parser below."
      ]
    },
    {
      "cell_type": "code",
      "execution_count": 24,
      "metadata": {},
      "outputs": [
        {
          "data": {
            "text/html": [
              "<table border=\"1\"><thead><tr><th>statement</th><th>parser output</th></tr></thead><tbody><tr><td>doomsdat</td><td>(((), &quot;doomsday&quot;),)</td></tr><tr><td>doomsday</td><td>(((), &quot;doomsday&quot;),)</td></tr><tr><td>dumzday</td><td>()</td></tr></tbody></table>"
            ]
          },
          "execution_count": 24,
          "metadata": {},
          "output_type": "execute_result"
        }
      ],
      "source": [
        "#% html\n",
        "my &pDD2 = fuzzy-symbol(\"doomsday\", 2);\n",
        "my @phrases = \"doomsdat\", \"doomsday\", \"dumzday\";\n",
        "\n",
        "parsing-test-table(&pDD2, @phrases)"
      ]
    },
    {
      "cell_type": "markdown",
      "metadata": {},
      "source": [
        "In order to include the misspelling handling into the grammar we manually rewrite the grammar. (The grammar is small, so, it is not that hard to do.)"
      ]
    },
    {
      "cell_type": "code",
      "execution_count": null,
      "metadata": {},
      "outputs": [
        {
          "data": {
            "text/plain": [
              "-> @x { #`(Block|4432345290104) ... }"
            ]
          },
          "execution_count": 41,
          "metadata": {},
          "output_type": "execute_result"
        }
      ],
      "source": [
        "my &pINTEGER = satisfy({ $_ ~~ /\\d+/ }) «o {.Int};\n",
        "my &pMINUTES = &pINTEGER «& (fuzzy-symbol('minute', 2) «|» fuzzy-symbol('minutes', 2)) «o { [minute => $_,] };\n",
        "my &pSECONDS = &pINTEGER «& (fuzzy-symbol('second', 2) «|» fuzzy-symbol('seconds', 2)) «o { [second => $_,] };\n",
        "my &pANY = satisfy({ edit-distance($_, 'clock') > 2 && $_ ~~ /\\w+/ });\n",
        "my &pOPENING = option(many(&pANY)) «&» fuzzy-symbol('clock', 1) «&» option(symbol('is')) «&» fuzzy-symbol('reading', 2);\n",
        "my &pCLOCK-READING = &pOPENING «&» (&pMINUTES «|» option(&pMINUTES «&» option(symbol('and') «|» symbol(','))) «&» &pSECONDS) «&» symbol('to') «&» fuzzy-symbol('midnight', 2);\n",
        "\n",
        "&pCLOCK-READING = &pCLOCK-READING «o { $_.flat.grep(* ~~ Pair).Hash };\n",
        "\n",
        "&pTOP = &pCLOCK-READING «o { \n",
        "    Date.today.DateTime.earlier(seconds => ($_<minute> // 0) * 60 + ($_<second>// 0) ) \n",
        "};"
      ]
    },
    {
      "cell_type": "markdown",
      "metadata": {},
      "source": [
        "Here is a verification table with correct- and incorrect spellings:"
      ]
    },
    {
      "cell_type": "code",
      "execution_count": 33,
      "metadata": {},
      "outputs": [
        {
          "data": {
            "text/html": [
              "<table border=\"1\"><thead><tr><th>statement</th><th>parser output</th></tr></thead><tbody><tr><td>doomsday clock is reading 2 seconds to midnight</td><td>(((), {:second(2)}),)</td></tr><tr><td>dooms day cloc is readding 2 minute and 22 sekonds to mildnight</td><td>(((), {:minute(2), :second(22)}),)</td></tr></tbody></table>"
            ]
          },
          "execution_count": 33,
          "metadata": {},
          "output_type": "execute_result"
        }
      ],
      "source": [
        "#% html\n",
        "my @phrases =\n",
        "    \"doomsday clock is reading 2 seconds to midnight\", \n",
        "    \"dooms day cloc is readding 2 minute and 22 sekonds to mildnight\";\n",
        "\n",
        "parsing-test-table(shortest(&pCLOCK-READING), @phrases)"
      ]
    },
    {
      "cell_type": "markdown",
      "metadata": {},
      "source": [
        "### Parsing of numeric word forms"
      ]
    },
    {
      "cell_type": "markdown",
      "metadata": {},
      "source": [
        "One way to make the parsing more robust is to implement the ability to parse integer names (or numeric word forms) not just integers."
      ]
    },
    {
      "cell_type": "markdown",
      "metadata": {},
      "source": [
        "**Remark:** For a fuller discussion -- and code -- of numeric word forms parsing see the tech note [\"Integer names parsing\"](https://resources.wolframcloud.com/PacletRepository/resources/AntonAntonov/FunctionalParsers/tutorial/Integernamesparsing.html) of the paclet [\"FunctionalParsers\"](https://resources.wolframcloud.com/PacletRepository/resources/AntonAntonov/FunctionalParsers/), [AAp1]."
      ]
    },
    {
      "cell_type": "markdown",
      "metadata": {},
      "source": [
        "First, we make an association that connects integer names with corresponding integer values:"
      ]
    },
    {
      "cell_type": "code",
      "execution_count": 34,
      "metadata": {},
      "outputs": [
        {
          "data": {
            "text/plain": [
              "100"
            ]
          },
          "execution_count": 34,
          "metadata": {},
          "output_type": "execute_result"
        }
      ],
      "source": [
        "my %worded-values = (^100).map({ to-numeric-word-form($_) => $_ });\n",
        "%worded-values.elems"
      ]
    },
    {
      "cell_type": "markdown",
      "metadata": {},
      "source": [
        "**Remark:** The function `to-numeric-word-form` is provided by [\"Lingua::NumericWordForms\"](https://raku.land/zef:antononcube/Lingua::NumericWordForms), [AAp3]."
      ]
    },
    {
      "cell_type": "markdown",
      "metadata": {},
      "source": [
        "Here is how the rules look like:"
      ]
    },
    {
      "cell_type": "code",
      "execution_count": 29,
      "metadata": {},
      "outputs": [
        {
          "data": {
            "text/plain": [
              "(nineteen => 19 sixty five => 65 sixty one => 61 fifty two => 52 ninety three => 93 sixty six => 66)"
            ]
          },
          "execution_count": 29,
          "metadata": {},
          "output_type": "execute_result"
        }
      ],
      "source": [
        "%worded-values.pick(6)"
      ]
    },
    {
      "cell_type": "markdown",
      "metadata": {},
      "source": [
        "Here we program the integer names parser:"
      ]
    },
    {
      "cell_type": "code",
      "execution_count": 35,
      "metadata": {},
      "outputs": [
        {
          "data": {
            "text/plain": [
              "-> @x { #`(Block|4432181324128) ... }"
            ]
          },
          "execution_count": 35,
          "metadata": {},
          "output_type": "execute_result"
        }
      ],
      "source": [
        "my &pUpTo10 = alternatives( |(^10)».&to-numeric-word-form.map({ symbol($_.trim) }) );\n",
        "my &p10s = alternatives( |(10, 20 ... 90)».&to-numeric-word-form.map({ symbol($_.trim) }) );\n",
        "my &pWordedInteger = (&p10s «&» &pUpTo10 «|» &p10s «|» &pUpTo10) «o { %worded-values{$_.flat.join(' ')} };"
      ]
    },
    {
      "cell_type": "markdown",
      "metadata": {},
      "source": [
        "Here is a verification table of that parser:"
      ]
    },
    {
      "cell_type": "code",
      "execution_count": 36,
      "metadata": {},
      "outputs": [
        {
          "data": {
            "text/html": [
              "<table border=\"1\"><thead><tr><th>statement</th><th>parser output</th></tr></thead><tbody><tr><td>three</td><td>(((), 3),).Seq</td></tr><tr><td>fifty seven</td><td>(((), 57), ((&quot;seven&quot;,), 50)).Seq</td></tr><tr><td>thirti one</td><td>().Seq</td></tr></tbody></table>"
            ]
          },
          "execution_count": 36,
          "metadata": {},
          "output_type": "execute_result"
        }
      ],
      "source": [
        "#% html\n",
        "my @phrases = \"three\", \"fifty seven\", \"thirti one\";\n",
        "parsing-test-table(&pWordedInteger, @phrases)"
      ]
    },
    {
      "cell_type": "markdown",
      "metadata": {},
      "source": [
        "There are two parsing results for “fifty seven”, because `&pWordedInteger` is defined with:\n",
        "\n",
        "```\n",
        "&p10s «|» &pUpTo10 «|» p10s ...  \n",
        "```\n",
        "\n",
        "This can be remedied by using `just` or `shortest`:"
      ]
    },
    {
      "cell_type": "code",
      "execution_count": 37,
      "metadata": {},
      "outputs": [
        {
          "data": {
            "text/html": [
              "<table border=\"1\"><thead><tr><th>statement</th><th>parser output</th></tr></thead><tbody><tr><td>three</td><td>($((), 3),).Seq</td></tr><tr><td>fifty seven</td><td>($((), 57),).Seq</td></tr><tr><td>thirti one</td><td>().Seq</td></tr></tbody></table>"
            ]
          },
          "execution_count": 37,
          "metadata": {},
          "output_type": "execute_result"
        }
      ],
      "source": [
        "#% html\n",
        "parsing-test-table( just(&pWordedInteger), @phrases)"
      ]
    },
    {
      "cell_type": "markdown",
      "metadata": {},
      "source": [
        "Let us change `&pINTEGER` to parse both integers and integer names:"
      ]
    },
    {
      "cell_type": "code",
      "execution_count": 42,
      "metadata": {},
      "outputs": [
        {
          "data": {
            "text/html": [
              "<table border=\"1\"><thead><tr><th>statement</th><th>parser output</th></tr></thead><tbody><tr><td>12</td><td>($((), 12),).Seq</td></tr><tr><td>3</td><td>($((), 3),).Seq</td></tr><tr><td>three</td><td>($((), 3),).Seq</td></tr><tr><td>forty five</td><td>($((), 45),).Seq</td></tr></tbody></table>"
            ]
          },
          "execution_count": 42,
          "metadata": {},
          "output_type": "execute_result"
        }
      ],
      "source": [
        "#% html\n",
        "&pINTEGER = &satisfy({ $_ ~~ /\\d+/ }) «o {.Int} «|» &pWordedInteger;\n",
        "\n",
        "my @phrases = \"12\", \"3\", \"three\", \"forty five\";\n",
        "parsing-test-table( just(&pINTEGER), @phrases)"
      ]
    },
    {
      "cell_type": "markdown",
      "metadata": {},
      "source": [
        "**Remark:** `&pINTEGER` has to be evaluated before the definitions of the rest of the parsers programmed in the previous subsection."
      ]
    },
    {
      "cell_type": "markdown",
      "metadata": {},
      "source": [
        "Let us try the new parser using integer names for the clock time:"
      ]
    },
    {
      "cell_type": "code",
      "execution_count": 44,
      "metadata": {},
      "outputs": [
        {
          "data": {
            "text/plain": [
              "((() {minute => 2, second => 45}))"
            ]
          },
          "execution_count": 44,
          "metadata": {},
          "output_type": "execute_result"
        }
      ],
      "source": [
        "my $str = \"the doomsday clock is reading two minutes and forty five seconds to midnight\";\n",
        "\n",
        "$str.words\n",
        "==> take-first(&pCLOCK-READING)()"
      ]
    },
    {
      "cell_type": "markdown",
      "metadata": {},
      "source": [
        "### Enhance with LLM parsing"
      ]
    },
    {
      "cell_type": "markdown",
      "metadata": {},
      "source": [
        "There are multiple ways to employ LLMs for extracting “clock readings” from arbitrary statements for Doomsday Clock readings, readouts, and measures. Here we use [LLM few-shot training](https://en.wikipedia.org/wiki/Prompt_engineering#Other_techniques):"
      ]
    },
    {
      "cell_type": "code",
      "execution_count": 120,
      "metadata": {},
      "outputs": [
        {
          "data": {
            "text/plain": [
              "-> **@args, *%args { #`(Block|2506860693120) ... }"
            ]
          },
          "execution_count": 120,
          "metadata": {},
          "output_type": "execute_result"
        }
      ],
      "source": [
        "my &flop = llm-example-function([\n",
        "    \"the doomsday clock is reading two minutes and forty five seconds to midnight\" => '{\"minute\":2, \"second\": 45}', \n",
        "    \"the clock of the doomsday gives 92 seconds to midnight\" => '{\"minute\":0, \"second\": 92}', \n",
        "    \"The bulletin atomic scientist maybe is set to a minute an 3 seconds.\" => '{\"minute\":1, \"second\": 3}'\n",
        "   ], \n",
        "   e => $conf4o,\n",
        "   form => sub-parser('JSON')\n",
        ")"
      ]
    },
    {
      "cell_type": "markdown",
      "metadata": {},
      "source": [
        "Here is an example invocation:"
      ]
    },
    {
      "cell_type": "code",
      "execution_count": 121,
      "metadata": {},
      "outputs": [
        {
          "data": {
            "text/plain": [
              "{minute => 1, second => 57}"
            ]
          },
          "execution_count": 121,
          "metadata": {},
          "output_type": "execute_result"
        }
      ],
      "source": [
        "&flop(\"Maybe the doomsday watch is at 23:58:03\")"
      ]
    },
    {
      "cell_type": "markdown",
      "metadata": {},
      "source": [
        "The following function combines the parsing with the grammar and the LLM example function -- the latter is used for fallback parsing:"
      ]
    },
    {
      "cell_type": "code",
      "execution_count": 127,
      "metadata": {},
      "outputs": [
        {
          "data": {
            "text/plain": [
              "&get-clock-reading"
            ]
          },
          "execution_count": 127,
          "metadata": {},
          "output_type": "execute_result"
        }
      ],
      "source": [
        "my sub get-clock-reading(Str:D $st) {\n",
        "    my $op = just(&pCLOCK-READING)($st.words); \n",
        "    my %h = $op.elems > 0 && $op.head.head.elems == 0 ?? $op.head.tail !! &flop( $st );\n",
        "    return Date.today.DateTime.earlier(seconds => (%h<minute> // 0) * 60 + (%h<second> // 0) ) \n",
        "}"
      ]
    },
    {
      "cell_type": "markdown",
      "metadata": {},
      "source": [
        "### Robust parser demo"
      ]
    },
    {
      "cell_type": "markdown",
      "metadata": {},
      "source": [
        "Here is the application of the combine function above over a certain “random” Doomsday Clock statement:"
      ]
    },
    {
      "cell_type": "code",
      "execution_count": 129,
      "metadata": {},
      "outputs": [
        {
          "data": {
            "text/plain": [
              "2024-12-30T23:58:30Z"
            ]
          },
          "execution_count": 129,
          "metadata": {},
          "output_type": "execute_result"
        }
      ],
      "source": [
        "my $s = \"You know, sort of, that dooms-day watch is 1 and half minute be... before the big boom. (Of doom...)\";\n",
        "\n",
        "$s.&get-clock-reading"
      ]
    },
    {
      "cell_type": "markdown",
      "metadata": {},
      "source": [
        "**Remark:** The same type of robust grammar-and-LLM combination is explained in more detail in the video [\"Robust LLM pipelines (Mathematica, Python, Raku)\"](https://www.youtube.com/watch?v=QOsVTCQZq_s&t=3700s), [AAv1]. (See, also, the corresponding notebook [AAn1].)"
      ]
    },
    {
      "cell_type": "markdown",
      "metadata": {},
      "source": [
        "-------\n",
        "\n",
        "## Timeline"
      ]
    },
    {
      "cell_type": "markdown",
      "metadata": {},
      "source": [
        "In this section we extract Doomsday Clock timeline data and make a corresponding plot."
      ]
    },
    {
      "cell_type": "markdown",
      "metadata": {},
      "source": [
        "### Parsing page data"
      ]
    },
    {
      "cell_type": "markdown",
      "metadata": {},
      "source": [
        "Instead of using the [official Doomsday clock timeline page](https://thebulletin.org/doomsday-clock/timeline/) we use [Wikipedia](https://en.wikipedia.org/wiki/Doomsday_Clock).\n",
        "We can extract the Doomsday Clock timeline using LLMs. Here we get the plaintext of the Wikipedia page and show statistics:"
      ]
    },
    {
      "cell_type": "code",
      "execution_count": 46,
      "metadata": {},
      "outputs": [
        {
          "data": {
            "text/plain": [
              "(chars => 42728 words => 6231 lines => 853)"
            ]
          },
          "execution_count": 46,
          "metadata": {},
          "output_type": "execute_result"
        }
      ],
      "source": [
        "my $url = \"https://en.wikipedia.org/wiki/Doomsday_Clock\";\n",
        "my $txtWk = data-import($url, \"plaintext\");\n",
        "\n",
        "text-stats($txtWk)"
      ]
    },
    {
      "cell_type": "markdown",
      "metadata": {},
      "source": [
        "Here we get the Doomsday Clock timeline table from that page in JSON format using an LLM:"
      ]
    },
    {
      "cell_type": "code",
      "execution_count": null,
      "metadata": {},
      "outputs": [
        {
          "data": {
            "text/plain": [
              "Vector((Any), 26)"
            ]
          },
          "execution_count": 71,
          "metadata": {},
          "output_type": "execute_result"
        }
      ],
      "source": [
        "my $res = \n",
        "  llm-synthesize([\n",
        "    \"Give the time table of the doomsday clock as a time series that is a JSON array.\", \n",
        "    \"Each element of the array is a dictionary with keys 'Year', 'MinutesToMidnight', 'Time', 'Summary', 'Description'.\",\n",
        "    \"Do not shorten or summarize the descriptions -- use their full texts.\",\n",
        "    \"The column 'Summary' should have summaries of the descriptions, each summary no more than 10 words.\",\n",
        "    $txtWk, \n",
        "    llm-prompt(\"NothingElse\")(\"JSON\")\n",
        "   ], \n",
        "   e => $conf4o,\n",
        "   form => sub-parser('JSON'):drop\n",
        ");\n",
        "\n",
        "deduce-type($res)"
      ]
    },
    {
      "cell_type": "markdown",
      "metadata": {},
      "source": [
        "Here the LLM result is tabulated:"
      ]
    },
    {
      "cell_type": "code",
      "execution_count": 72,
      "metadata": {},
      "outputs": [
        {
          "data": {
            "text/html": [
              "<table border=\"1\"><thead><tr><th>Year</th><th>MinutesToMidnight</th><th>Time</th><th>Summary</th><th>Description</th></tr></thead><tbody><tr><td align=left>1947</td><td align=left>7</td><td align=left>23:53</td><td align=left>Initial setting of the Doomsday Clock.</td><td align=left>The initial setting of the Doomsday Clock.</td></tr><tr><td align=left>1949</td><td align=left>3</td><td align=left>23:57</td><td align=left>Soviet Union tests first atomic bomb.</td><td align=left>The Soviet Union tests its first atomic bomb, the RDS-1, officially starting the nuclear arms race.</td></tr><tr><td align=left>1953</td><td align=left>2</td><td align=left>23:58</td><td align=left>U.S. and Soviet Union test thermonuclear devices.</td><td align=left>The United States tests its first thermonuclear device in November 1952 as part of Operation Ivy, before the Soviet Union follows suit with the Joe 4 test in August. This remained the clock&#39;s closest approach to midnight (tied in 2018) until 2020.</td></tr><tr><td align=left>1960</td><td align=left>7</td><td align=left>23:53</td><td align=left>Increased scientific cooperation and nuclear danger awareness.</td><td align=left>In response to a perception of increased scientific cooperation and public understanding of the dangers of nuclear weapons (as well as political actions taken to avoid &#39;massive retaliation&#39;), the United States and Soviet Union cooperate and avoid direct confrontation in regional conflicts such as the 1956 Suez Crisis, the 1958 Second Taiwan Strait Crisis, and the 1958 Lebanon crisis. Scientists from various countries help establish the International Geophysical Year, a series of coordinated, worldwide scientific observations between nations allied with both the United States and the Soviet Union, and the Pugwash Conferences on Science and World Affairs, which allow Soviet and American scientists to interact.</td></tr><tr><td align=left>1963</td><td align=left>12</td><td align=left>23:48</td><td align=left>Partial Test Ban Treaty signed.</td><td align=left>The United States and the Soviet Union sign the Partial Test Ban Treaty, limiting atmospheric nuclear testing.</td></tr><tr><td align=left>1968</td><td align=left>7</td><td align=left>23:53</td><td align=left>Vietnam War intensifies; France and China test nukes.</td><td align=left>The involvement of the United States in the Vietnam War intensifies, the Indo-Pakistani War of 1965 takes place, and the Six-Day War occurs in 1967. France and China, two nations which have not signed the Partial Test Ban Treaty, acquire and test nuclear weapons (the 1960 Gerboise Bleue and the 1964 596, respectively) to assert themselves as global players in the nuclear arms race.</td></tr><tr><td align=left>1969</td><td align=left>10</td><td align=left>23:50</td><td align=left>Nuclear Non-Proliferation Treaty signed.</td><td align=left>Every nation in the world, with the notable exceptions of India, Israel, and Pakistan, signs the Nuclear Non-Proliferation Treaty.</td></tr><tr><td align=left>1972</td><td align=left>12</td><td align=left>23:48</td><td align=left>SALT I and ABM Treaty signed.</td><td align=left>The United States and the Soviet Union sign the first Strategic Arms Limitation Treaty (SALT I) and the Anti-Ballistic Missile (ABM) Treaty.</td></tr><tr><td align=left>1974</td><td align=left>9</td><td align=left>23:51</td><td align=left>India tests nuclear device; SALT II stalls.</td><td align=left>India tests a nuclear device (Smiling Buddha), and SALT II talks stall. Both the United States and the Soviet Union modernize multiple independently targetable reentry vehicles (MIRVs).</td></tr><tr><td align=left>1980</td><td align=left>7</td><td align=left>23:53</td><td align=left>Soviet–Afghan War begins; SALT II not ratified.</td><td align=left>Unforeseeable end to deadlock in American–Soviet talks as the Soviet–Afghan War begins. As a result of the war, the U.S. Senate refuses to ratify the SALT II agreement.</td></tr><tr><td align=left>1981</td><td align=left>4</td><td align=left>23:56</td><td align=left>U.S. toughens nuclear posture; Reagan scraps arms talks.</td><td align=left>The Soviet war in Afghanistan toughens the U.S.&#39; nuclear posture. U.S. President Jimmy Carter withdraws the United States from the 1980 Summer Olympic Games in Moscow. The Carter administration considers ways in which the United States could win a nuclear war. Ronald Reagan becomes President of the United States, scraps further arms reduction talks with the Soviet Union, and argues that the only way to end the Cold War is to win it. Tensions between the United States and the Soviet Union contribute to the danger of nuclear annihilation as they each deploy intermediate-range missiles in Europe. The adjustment also accounts for the Iran hostage crisis, the Iran–Iraq War, China&#39;s atmospheric nuclear warhead test, the declaration of martial law in Poland, apartheid in South Africa, and human rights abuses across the world.</td></tr><tr><td align=left>1984</td><td align=left>3</td><td align=left>23:57</td><td align=left>Cold War tensions escalate; superpowers intensify arms race.</td><td align=left>Further escalation of the tensions between the United States and the Soviet Union, with the ongoing Soviet–Afghan War intensifying the Cold War. U.S. Pershing II medium-range ballistic missile and cruise missiles are deployed in Western Europe. Ronald Reagan pushes to win the Cold War by intensifying the arms race between the superpowers. The Soviet Union and its allies (except Romania) boycott the 1984 Olympic Games in Los Angeles, as a response to the U.S.-led boycott in 1980.</td></tr><tr><td align=left>1988</td><td align=left>6</td><td align=left>23:54</td><td align=left>INF Treaty signed; U.S.-Soviet relations improve.</td><td align=left>In December 1987, the United States and the Soviet Union sign the Intermediate-Range Nuclear Forces Treaty, to eliminate intermediate-range nuclear missiles, and their relations improve.</td></tr><tr><td align=left>1990</td><td align=left>10</td><td align=left>23:50</td><td align=left>Berlin Wall falls; Cold War nears end.</td><td align=left>The fall of the Berlin Wall and the Iron Curtain, along with the reunification of Germany, mean that the Cold War is nearing its end.</td></tr><tr><td align=left>1991</td><td align=left>17</td><td align=left>23:43</td><td align=left>START I signed; Soviet Union dissolves.</td><td align=left>The United States and Soviet Union sign the first Strategic Arms Reduction Treaty (START I), the US announces the removal of many tactical nuclear weapons in September 1991, and the Soviet Union takes similar steps, as well as announcing the complete cessation of all nuclear testing in October 1991. The Bulletin editorial, published November 26, 1991, announces that &#39;the 40-year-long East-West nuclear arms race is over.&#39; One month after the Bulletin made this clock adjustment, the Soviet Union dissolves on December 26, 1991. This is the farthest from midnight the Clock has been since its inception.</td></tr><tr><td align=left>1995</td><td align=left>14</td><td align=left>23:46</td><td align=left>Cold War-level military spending continues.</td><td align=left>Global military spending continues at Cold War levels amid concerns about post-Soviet nuclear proliferation of weapons and brainpower.</td></tr><tr><td align=left>1998</td><td align=left>9</td><td align=left>23:51</td><td align=left>India and Pakistan test nuclear weapons.</td><td align=left>Both India (Pokhran-II) and Pakistan (Chagai-I) test nuclear weapons in a tit-for-tat show of aggression; the United States and Russia run into difficulties in further reducing stockpiles.</td></tr><tr><td align=left>2002</td><td align=left>7</td><td align=left>23:53</td><td align=left>U.S. rejects arms treaties; nuclear disarmament stalls.</td><td align=left>Little progress on global nuclear disarmament. United States rejects a series of arms control treaties and announces its intentions to withdraw from the Anti-Ballistic Missile Treaty, amid concerns about the possibility of a nuclear terrorist attack due to the amount of weapon-grade nuclear materials that are unsecured and unaccounted for worldwide.</td></tr><tr><td align=left>2007</td><td align=left>5</td><td align=left>23:55</td><td align=left>North Korea tests nukes; climate change added to threats.</td><td align=left>North Korea tests a nuclear weapon in October 2006, Iran&#39;s nuclear ambitions, a renewed American emphasis on the military utility of nuclear weapons, the failure to adequately secure nuclear materials, and the continued presence of some 26,000 nuclear weapons in the United States and Russia. After assessing the dangers posed to civilization, climate change was added to the prospect of nuclear annihilation as the greatest threats to humanity.</td></tr><tr><td align=left>2010</td><td align=left>6</td><td align=left>23:54</td><td align=left>New START ratified; climate change cooperation.</td><td align=left>Worldwide cooperation to reduce nuclear arsenals and limit effect of climate change. The New START agreement is ratified by both the United States and Russia, and more negotiations for further reductions in the American and Russian nuclear arsenal are already planned. The 2009 United Nations Climate Change Conference in Copenhagen results in the developing and industrialized countries agreeing to take responsibility for carbon emissions and to limit global temperature rise to 2 degrees Celsius.</td></tr><tr><td align=left>2012</td><td align=left>5</td><td align=left>23:55</td><td align=left>Lack of action on climate change and nuclear safety.</td><td align=left>Lack of global political action to address global climate change, nuclear weapons stockpiles, the potential for regional nuclear conflict, and nuclear power safety.</td></tr><tr><td align=left>2015</td><td align=left>3</td><td align=left>23:57</td><td align=left>No action on climate change; nuclear modernization concerns.</td><td align=left>Concerns amid continued lack of global political action to address global climate change, the modernization of nuclear weapons in the United States and Russia, and the problem of nuclear waste.</td></tr><tr><td align=left>2017</td><td align=left>2.5</td><td align=left>23:57:30</td><td align=left>Trump&#39;s nuclear comments; disbelief in climate change.</td><td align=left>United States President Donald Trump&#39;s comments over nuclear weapons, the threat of a renewed arms race between the U.S. and Russia, and the expressed disbelief in the scientific consensus over climate change by the Trump administration. This is the first setting not to express a full minute figure.</td></tr><tr><td align=left>2018</td><td align=left>2</td><td align=left>23:58</td><td align=left>Leaders fail on nuclear, climate; disruptive tech threats.</td><td align=left>Failure of world leaders to deal with looming threats of nuclear war and climate change. This is the clock&#39;s third closest approach to midnight, matching that of 1953. In 2019, the Bulletin reaffirmed the &#39;two minutes to midnight&#39; time, citing continuing climate change and Trump administration&#39;s abandonment of U.S. efforts to lead the world toward decarbonization; U.S. withdrawal from the Paris Agreement, the Joint Comprehensive Plan of Action, and the Intermediate-Range Nuclear Forces Treaty; U.S. and Russian nuclear modernization efforts; information warfare threats and other dangers from &#39;disruptive technologies&#39; such as synthetic biology, artificial intelligence, and cyberwarfare.</td></tr><tr><td align=left>2020</td><td align=left>1.6667</td><td align=left>23:58:20</td><td align=left>Leaders neglect nuclear threats; climate change ignored.</td><td align=left>Failure of world leaders to deal with the increased threats of nuclear war, such as the end of the Intermediate-Range Nuclear Forces Treaty (INF) between the United States and Russia as well as increased tensions between the U.S. and Iran, along with the continued neglect of climate change. Announced in units of seconds, instead of minutes; this is the clock&#39;s second closest approach to midnight, exceeding that of 1953 and 2018. The Bulletin concluded by stating that the current issues causing the adjustment are &#39;the most dangerous situation that humanity has ever faced&#39;. In the annual statements for 2021 and 2022, issued in January of each year, the Bulletin left the &#39;100 seconds to midnight&#39; time setting unchanged.</td></tr><tr><td align=left>2023</td><td align=left>1.5</td><td align=left>23:58:30</td><td align=left>Ukraine invasion increases nuclear risk; climate crisis ongoing.</td><td align=left>Due largely–but not exclusively–to the Russian invasion of Ukraine and the increased risk of nuclear escalation stemming from the conflict. Russia suspended its participation in the last remaining nuclear weapons treaty between it and the United States, New START. Russia also brought its war to the Chernobyl and Zaporizhzhia nuclear reactor sites, violating international protocols and risking widespread release of radioactive materials. North Korea resumed its nuclear rhetoric, launching an intermediate-range ballistic missile test over Japan in October 2022. Continuing threats posed by the climate crisis and the breakdown of global norms and institutions set up to mitigate risks associated with advancing technologies and biological threats such as COVID-19 also contributed to the time setting. This setting remained unchanged the next year, 2024, thus remaining the closest to midnight the Clock has been since its inception.</td></tr></tbody></table>"
            ]
          },
          "execution_count": 72,
          "metadata": {},
          "output_type": "execute_result"
        }
      ],
      "source": [
        "#% html\n",
        "my @field-names = <Year MinutesToMidnight Time Summary Description>;\n",
        "$res ==> to-html(:@field-names, align => 'left')"
      ]
    },
    {
      "cell_type": "markdown",
      "metadata": {},
      "source": [
        "**Remark:** The LLM derived summaries in the table above are based on the descriptions in the column “Reason” in the Wikipedia data table. \n",
        "The tooltips of the plot below use the summaries."
      ]
    },
    {
      "cell_type": "markdown",
      "metadata": {},
      "source": [
        "### Timeline plot"
      ]
    },
    {
      "cell_type": "markdown",
      "metadata": {},
      "source": [
        "In order to have informative Doomsday Clock evolution plot we obtain and partition dataset’s time series into step-function pairs:"
      ]
    },
    {
      "cell_type": "code",
      "execution_count": 80,
      "metadata": {},
      "outputs": [
        {
          "data": {
            "text/plain": [
              "Tuple([Struct([MinutesToMidnight, Year, mark, role:tooltip], [Int, Int, Int, Str]) => 23, Struct([MinutesToMidnight, Year, mark, role:tooltip], [Int, Int, Num, Str]) => 23, Struct([MinutesToMidnight, Year, mark, role:tooltip], [Rat, Int, Num, Str]) => 2, Struct([MinutesToMidnight, Year, mark, role:tooltip], [Rat, Int, Rat, Str]) => 3], 51)"
            ]
          },
          "execution_count": 80,
          "metadata": {},
          "output_type": "execute_result"
        }
      ],
      "source": [
        "my @dsDoomsdayTimes = |$res;\n",
        "my @ts0 = @dsDoomsdayTimes.map({ <Year MinutesToMidnight role:tooltip> Z=> $_<Year MinutesToMidnight Summary> })».Hash;\n",
        "\n",
        "my @ts1 = @dsDoomsdayTimes.rotor(2=>-1).map({[ \n",
        "    %( <Year MinutesToMidnight mark role:tooltip> Z=> $_.head<Year MinutesToMidnight MinutesToMidnight Summary>),\n",
        "    %( <Year MinutesToMidnight mark role:tooltip> Z=> [$_.tail<Year>, $_.head<MinutesToMidnight>, NaN, '']) \n",
        "]}).map(*.Slip);\n",
        "\n",
        "@ts1 = @ts1.push( merge-hash(@ts0.tail, {mark => @ts0.tail<MinutesToMidnight>}) );\n",
        "\n",
        "deduce-type(@ts1):tally"
      ]
    },
    {
      "cell_type": "markdown",
      "metadata": {},
      "source": [
        "Here are added callout annotations indicating the year and the minutes before midnight:"
      ]
    },
    {
      "cell_type": "code",
      "execution_count": 81,
      "metadata": {},
      "outputs": [
        {
          "data": {
            "text/plain": [
              "Tuple([Struct([MinutesToMidnight, Year, mark, role:annotation, role:tooltip], [Int, Int, Int, Str, Str]) => 23, Struct([MinutesToMidnight, Year, mark, role:annotation, role:tooltip], [Int, Int, Num, Str, Str]) => 23, Struct([MinutesToMidnight, Year, mark, role:annotation, role:tooltip], [Rat, Int, Num, Str, Str]) => 2, Struct([MinutesToMidnight, Year, mark, role:annotation, role:tooltip], [Rat, Int, Rat, Str, Str]) => 3], 51)"
            ]
          },
          "execution_count": 81,
          "metadata": {},
          "output_type": "execute_result"
        }
      ],
      "source": [
        "my @ts2 = @ts1.map({ \n",
        "    my %h = $_.clone;\n",
        "    my $s = ($_<MinutesToMidnight> * 60) mod 60;\n",
        "    $s = $s > 0 ?? \" {$s}s\" !! '';\n",
        "    if %h<mark> === NaN { \n",
        "        %h<role:annotation> = '';\n",
        "    } else { \n",
        "        %h<role:annotation> = \"{%h<Year>}: {floor($_<MinutesToMidnight>)}m\" ~ $s; \n",
        "    }\n",
        "    %h\n",
        "});\n",
        "\n",
        "deduce-type(@ts2):tally"
      ]
    },
    {
      "cell_type": "markdown",
      "metadata": {},
      "source": [
        "Finally, here is the plot:"
      ]
    },
    {
      "cell_type": "code",
      "execution_count": 82,
      "metadata": {},
      "outputs": [
        {
          "data": {
            "text/html": [
              "<html>\n",
              "  <head>\n",
              "    <!--Load the AJAX API-->\n",
              "    <script type=\"text/javascript\" src=\"https://www.gstatic.com/charts/loader.js\"></script>\n",
              "    <script type=\"text/javascript\">\n",
              "\n",
              "      // Load the Visualization API and the corechart package.\n",
              "      google.charts.load('current', {'packages':['corechart']});\n",
              "      google.charts.load('current', {'packages':['gauge']});\n",
              "      google.charts.load('current', {'packages':['wordtree']});\n",
              "      google.charts.load('current', {'packages':['geochart']});\n",
              "      google.charts.load('current', {'packages':['table']});\n",
              "      google.charts.load('current', {'packages':['line']});\n",
              "      google.charts.load('current', {'packages':['sankey']});\n",
              "      google.charts.load('current', {'packages':['timeline']});\n",
              "\n",
              "      // Set a callback to run when the Google Visualization API is loaded.\n",
              "      google.charts.setOnLoadCallback(drawChart);\n",
              "\n",
              "      // Callback that creates and populates a data table,\n",
              "      // instantiates the chart, passes in the data, and draws it.\n",
              "      function drawChart() {\n",
              "\n",
              "        // Create the data table.\n",
              "        var data = new google.visualization.DataTable();\n",
              "\t\tdata.addColumn('number', 'Year');\n",
              "\t\tdata.addColumn('number', 'mark');\n",
              "\t\tdata.addColumn('number', 'MinutesToMidnight');\n",
              "\t\tdata.addColumn({type:'string', role:'tooltip'})\n",
              "\t\tdata.addColumn({type:'string', role:'annotation'})\n",
              "\t\tdata.addRows([\n",
              "\t\t[1947, 7, 7, 'Initial setting of the Doomsday Clock.', '1947: 7m'],\n",
              "\t\t[1949, NaN, 7, '', ''],\n",
              "\t\t[1949, 3, 3, 'Soviet Union tests first atomic bomb.', '1949: 3m'],\n",
              "\t\t[1953, NaN, 3, '', ''],\n",
              "\t\t[1953, 2, 2, 'U.S. and Soviet Union test thermonuclear devices.', '1953: 2m'],\n",
              "\t\t[1960, NaN, 2, '', ''],\n",
              "\t\t[1960, 7, 7, 'Increased scientific cooperation and nuclear danger awareness.', '1960: 7m'],\n",
              "\t\t[1963, NaN, 7, '', ''],\n",
              "\t\t[1963, 12, 12, 'Partial Test Ban Treaty signed.', '1963: 12m'],\n",
              "\t\t[1968, NaN, 12, '', ''],\n",
              "\t\t[1968, 7, 7, 'Vietnam War intensifies; France and China test nukes.', '1968: 7m'],\n",
              "\t\t[1969, NaN, 7, '', ''],\n",
              "\t\t[1969, 10, 10, 'Nuclear Non-Proliferation Treaty signed.', '1969: 10m'],\n",
              "\t\t[1972, NaN, 10, '', ''],\n",
              "\t\t[1972, 12, 12, 'SALT I and ABM Treaty signed.', '1972: 12m'],\n",
              "\t\t[1974, NaN, 12, '', ''],\n",
              "\t\t[1974, 9, 9, 'India tests nuclear device; SALT II stalls.', '1974: 9m'],\n",
              "\t\t[1980, NaN, 9, '', ''],\n",
              "\t\t[1980, 7, 7, 'Soviet–Afghan War begins; SALT II not ratified.', '1980: 7m'],\n",
              "\t\t[1981, NaN, 7, '', ''],\n",
              "\t\t[1981, 4, 4, 'U.S. toughens nuclear posture; Reagan scraps arms talks.', '1981: 4m'],\n",
              "\t\t[1984, NaN, 4, '', ''],\n",
              "\t\t[1984, 3, 3, 'Cold War tensions escalate; superpowers intensify arms race.', '1984: 3m'],\n",
              "\t\t[1988, NaN, 3, '', ''],\n",
              "\t\t[1988, 6, 6, 'INF Treaty signed; U.S.-Soviet relations improve.', '1988: 6m'],\n",
              "\t\t[1990, NaN, 6, '', ''],\n",
              "\t\t[1990, 10, 10, 'Berlin Wall falls; Cold War nears end.', '1990: 10m'],\n",
              "\t\t[1991, NaN, 10, '', ''],\n",
              "\t\t[1991, 17, 17, 'START I signed; Soviet Union dissolves.', '1991: 17m'],\n",
              "\t\t[1995, NaN, 17, '', ''],\n",
              "\t\t[1995, 14, 14, 'Cold War-level military spending continues.', '1995: 14m'],\n",
              "\t\t[1998, NaN, 14, '', ''],\n",
              "\t\t[1998, 9, 9, 'India and Pakistan test nuclear weapons.', '1998: 9m'],\n",
              "\t\t[2002, NaN, 9, '', ''],\n",
              "\t\t[2002, 7, 7, 'U.S. rejects arms treaties; nuclear disarmament stalls.', '2002: 7m'],\n",
              "\t\t[2007, NaN, 7, '', ''],\n",
              "\t\t[2007, 5, 5, 'North Korea tests nukes; climate change added to threats.', '2007: 5m'],\n",
              "\t\t[2010, NaN, 5, '', ''],\n",
              "\t\t[2010, 6, 6, 'New START ratified; climate change cooperation.', '2010: 6m'],\n",
              "\t\t[2012, NaN, 6, '', ''],\n",
              "\t\t[2012, 5, 5, 'Lack of action on climate change and nuclear safety.', '2012: 5m'],\n",
              "\t\t[2015, NaN, 5, '', ''],\n",
              "\t\t[2015, 3, 3, 'No action on climate change; nuclear modernization concerns.', '2015: 3m'],\n",
              "\t\t[2017, NaN, 3, '', ''],\n",
              "\t\t[2017, 2.5, 2.5, 'Trump\\'s nuclear comments; disbelief in climate change.', '2017: 2m 30s'],\n",
              "\t\t[2018, NaN, 2.5, '', ''],\n",
              "\t\t[2018, 2, 2, 'Leaders fail on nuclear, climate; disruptive tech threats.', '2018: 2m'],\n",
              "\t\t[2020, NaN, 2, '', ''],\n",
              "\t\t[2020, 1.6667, 1.6667, 'Leaders neglect nuclear threats; climate change ignored.', '2020: 1m 40.002s'],\n",
              "\t\t[2023, NaN, 1.6667, '', ''],\n",
              "\t\t[2023, 1.5, 1.5, 'Ukraine invasion increases nuclear risk; climate crisis ongoing.', '2023: 1m 30s']\n",
              "\t\t]);\n",
              "\n",
              "        // Set chart options\n",
              "        var options =\n",
              "            {\n",
              "              \"width\": 1200,\n",
              "              \"hAxis\": {\n",
              "                \"viewWindow\": {\n",
              "                  \"max\": 2026,\n",
              "                  \"min\": 1945\n",
              "                },\n",
              "                \"textStyle\": {\n",
              "                  \"color\": \"Gray\"\n",
              "                },\n",
              "                \"format\": \"####\",\n",
              "                \"titleTextStyle\": {\n",
              "                  \"color\": \"Silver\"\n",
              "                },\n",
              "                \"title\": \"Year\"\n",
              "              },\n",
              "              \"title\": \"Doomsday clock: minutes to midnight, 1947-2023\",\n",
              "              \"chartArea\": {\n",
              "                \"right\": 50,\n",
              "                \"top\": 50,\n",
              "                \"width\": \"90%\",\n",
              "                \"bottom\": 50,\n",
              "                \"height\": \"90%\",\n",
              "                \"left\": 50\n",
              "              },\n",
              "              \"series\": {\n",
              "                \"1\": {\n",
              "                  \"color\": \"DarkOrange\",\n",
              "                  \"lineWidth\": 4,\n",
              "                  \"type\": \"line\"\n",
              "                },\n",
              "                \"0\": {\n",
              "                  \"opacity\": 0.1,\n",
              "                  \"color\": \"Blue\",\n",
              "                  \"type\": \"scatter\",\n",
              "                  \"pointSize\": 10\n",
              "                }\n",
              "              },\n",
              "              \"backgroundColor\": \"#1F1F1F\",\n",
              "              \"annotations\": {\n",
              "                \"textStyle\": {\n",
              "                  \"color\": \"Silver\",\n",
              "                  \"fontSize\": 10\n",
              "                }\n",
              "              },\n",
              "              \"height\": 500,\n",
              "              \"legend\": {\n",
              "                \"textStyle\": {\n",
              "                  \"fontSize\": 14,\n",
              "                  \"color\": \"Silver\"\n",
              "                },\n",
              "                \"position\": \"none\"\n",
              "              },\n",
              "              \"titleTextStyle\": {\n",
              "                \"color\": \"Ivory\"\n",
              "              },\n",
              "              \"vAxes\": {\n",
              "                \"0\": {\n",
              "                  \"titleTextStyle\": {\n",
              "                    \"color\": \"Silver\"\n",
              "                  },\n",
              "                  \"textStyle\": {\n",
              "                    \"color\": \"Gray\"\n",
              "                  },\n",
              "                  \"title\": \"Minutes to Midnight\"\n",
              "                },\n",
              "                \"1\": {\n",
              "                  \"ticks\": [\n",
              "                    [\n",
              "                      {\n",
              "                        \"v\": 0\n",
              "                      },\n",
              "                      {\n",
              "                        \"f\": \"00:00\"\n",
              "                      }\n",
              "                    ],\n",
              "                    [\n",
              "                      {\n",
              "                        \"v\": 1\n",
              "                      },\n",
              "                      {\n",
              "                        \"f\": \"23::59\"\n",
              "                      }\n",
              "                    ],\n",
              "                    [\n",
              "                      {\n",
              "                        \"v\": 2\n",
              "                      },\n",
              "                      {\n",
              "                        \"f\": \"23::58\"\n",
              "                      }\n",
              "                    ],\n",
              "                    [\n",
              "                      {\n",
              "                        \"v\": 3\n",
              "                      },\n",
              "                      {\n",
              "                        \"f\": \"23::57\"\n",
              "                      }\n",
              "                    ],\n",
              "                    [\n",
              "                      {\n",
              "                        \"v\": 4\n",
              "                      },\n",
              "                      {\n",
              "                        \"f\": \"23::56\"\n",
              "                      }\n",
              "                    ],\n",
              "                    [\n",
              "                      {\n",
              "                        \"v\": 5\n",
              "                      },\n",
              "                      {\n",
              "                        \"f\": \"23::55\"\n",
              "                      }\n",
              "                    ],\n",
              "                    [\n",
              "                      {\n",
              "                        \"v\": 6\n",
              "                      },\n",
              "                      {\n",
              "                        \"f\": \"23::54\"\n",
              "                      }\n",
              "                    ],\n",
              "                    [\n",
              "                      {\n",
              "                        \"v\": 7\n",
              "                      },\n",
              "                      {\n",
              "                        \"f\": \"23::53\"\n",
              "                      }\n",
              "                    ],\n",
              "                    [\n",
              "                      {\n",
              "                        \"v\": 8\n",
              "                      },\n",
              "                      {\n",
              "                        \"f\": \"23::52\"\n",
              "                      }\n",
              "                    ],\n",
              "                    [\n",
              "                      {\n",
              "                        \"v\": 9\n",
              "                      },\n",
              "                      {\n",
              "                        \"f\": \"23::51\"\n",
              "                      }\n",
              "                    ],\n",
              "                    [\n",
              "                      {\n",
              "                        \"v\": 10\n",
              "                      },\n",
              "                      {\n",
              "                        \"f\": \"23::50\"\n",
              "                      }\n",
              "                    ],\n",
              "                    [\n",
              "                      {\n",
              "                        \"v\": 11\n",
              "                      },\n",
              "                      {\n",
              "                        \"f\": \"23::49\"\n",
              "                      }\n",
              "                    ],\n",
              "                    [\n",
              "                      {\n",
              "                        \"v\": 12\n",
              "                      },\n",
              "                      {\n",
              "                        \"f\": \"23::48\"\n",
              "                      }\n",
              "                    ],\n",
              "                    [\n",
              "                      {\n",
              "                        \"v\": 13\n",
              "                      },\n",
              "                      {\n",
              "                        \"f\": \"23::47\"\n",
              "                      }\n",
              "                    ],\n",
              "                    [\n",
              "                      {\n",
              "                        \"v\": 14\n",
              "                      },\n",
              "                      {\n",
              "                        \"f\": \"23::46\"\n",
              "                      }\n",
              "                    ],\n",
              "                    [\n",
              "                      {\n",
              "                        \"v\": 15\n",
              "                      },\n",
              "                      {\n",
              "                        \"f\": \"23::45\"\n",
              "                      }\n",
              "                    ],\n",
              "                    [\n",
              "                      {\n",
              "                        \"v\": 16\n",
              "                      },\n",
              "                      {\n",
              "                        \"f\": \"23::44\"\n",
              "                      }\n",
              "                    ],\n",
              "                    [\n",
              "                      {\n",
              "                        \"v\": 17\n",
              "                      },\n",
              "                      {\n",
              "                        \"f\": \"23::43\"\n",
              "                      }\n",
              "                    ]\n",
              "                  ],\n",
              "                  \"titleTextStyle\": {\n",
              "                    \"color\": \"Silver\"\n",
              "                  },\n",
              "                  \"textStyle\": {\n",
              "                    \"color\": \"Gray\"\n",
              "                  }\n",
              "                }\n",
              "              }\n",
              "            };\n",
              "\n",
              "        // Instantiate and draw our chart, passing in some options.\n",
              "        var chart = new google.visualization.ComboChart(document.getElementById('DoomsdayClock'));\n",
              "        chart.draw(data, options);\n",
              "      }\n",
              "    </script>\n",
              "  </head>\n",
              "\n",
              "  <body>\n",
              "    <!--Div that will hold the pie chart-->\n",
              "    <div id=\"DoomsdayClock\"></div>\n",
              "  </body>\n",
              "</html>\n"
            ]
          },
          "execution_count": 82,
          "metadata": {},
          "output_type": "execute_result"
        }
      ],
      "source": [
        "#% html\n",
        "js-google-charts('ComboChart',\n",
        "    @ts2,\n",
        "    column-names => <Year mark MinutesToMidnight role:tooltip role:annotation>,\n",
        "    width => 1200,\n",
        "    height => 500,\n",
        "    title => \"Doomsday clock: minutes to midnight, {@dsDoomsdayTimes.map(*<Year>).Array.&{ (.min, .max).join('-') }}\",\n",
        "    series => {\n",
        "        0 => {type => 'scatter', pointSize => 10, opacity => 0.1, color => 'Blue'},\n",
        "        1 => {type => 'line', lineWidth => 4, color => 'DarkOrange'}\n",
        "    },\n",
        "    hAxis => { title => 'Year',  format => '####', titleTextStyle => { color => 'Silver' }, textStyle => { color => 'Gray'},     \n",
        "                viewWindow => { min => 1945, max => 2026}\n",
        "            },\n",
        "    vAxes => { \n",
        "        0 => { title => 'Minutes to Midnight', titleTextStyle => { color => 'Silver' }, textStyle => { color => 'Gray'} }, \n",
        "        1 => { titleTextStyle => { color => 'Silver' }, textStyle => { color => 'Gray'}, ticks => (^18).map({ [ v => $_, f => ($_ ?? \"23::{60-$_}\" !! '00:00' ) ] }).Array } \n",
        "    },\n",
        "    :$annotations,\n",
        "    :$titleTextStyle,\n",
        "    :$backgroundColor,\n",
        "    :$legend,\n",
        "    :$chartArea,\n",
        "    :$format,\n",
        "    div-id => 'DoomsdayClock',\n",
        "    :!png-button\n",
        ")"
      ]
    },
    {
      "cell_type": "markdown",
      "metadata": {},
      "source": [
        "**Remark:** By hovering with the mouse over the blue points the corresponding descriptions can be seen. We considered using clock-gauges as tooltips, but showing clock-settings reasons is more informative."
      ]
    },
    {
      "cell_type": "markdown",
      "metadata": {},
      "source": [
        "**Remark:** The plot was intentionally made to resemble the [timeline plot in Doomsday Clock's Wikipedia page](https://en.wikipedia.org/wiki/Doomsday_Clock#Timeline)."
      ]
    },
    {
      "cell_type": "markdown",
      "metadata": {},
      "source": [
        "## Conclusion"
      ]
    },
    {
      "cell_type": "markdown",
      "metadata": {},
      "source": [
        "As expected, parsing, plotting, or otherwise processing the Doomsday Clock settings and statements are excellent didactic subjects for textual analysis (or parsing) and temporal data visualization. The visualization could serve educational purposes or provide insights into historical trends of global threats as perceived by experts. (Remember, the clock’s settings are not just data points but reflections of complex global dynamics.)"
      ]
    },
    {
      "cell_type": "markdown",
      "metadata": {},
      "source": [
        "One possible application of the code in this notebook is to make a “web service“ that gives clock images with Doomsday Clock readings. For example, click on this button:"
      ]
    },
    {
      "cell_type": "markdown",
      "metadata": {},
      "source": [
        "- [**Get Doomsday Clock!**](https://www.wolframcloud.com/obj/e28834c9-42a4-4991-9889-243fa39a795d)\n"
      ]
    },
    {
      "cell_type": "markdown",
      "metadata": {},
      "source": [
        "## References"
      ]
    },
    {
      "cell_type": "markdown",
      "metadata": {},
      "source": [
        "### Articles, notebooks"
      ]
    },
    {
      "cell_type": "markdown",
      "metadata": {},
      "source": [
        "[AAn1] Anton Antonov, [\"Doomsday clock parsing and plotting\"](https://community.wolfram.com/groups/-/m/t/3347065), (2024), [Wolfram Community](https://community.wolfram.com).\n",
        "\n",
        "[AAn2] Anton Antonov, [\"Making robust LLM computational pipelines from software engineering perspective\"](https://community.wolfram.com/groups/-/m/t/3279791), (2024), [Wolfram Community](https://community.wolfram.com)."
      ]
    },
    {
      "cell_type": "markdown",
      "metadata": {},
      "source": [
        "### Paclets"
      ]
    },
    {
      "cell_type": "markdown",
      "metadata": {},
      "source": [
        "[AAp1] Anton Antonov, [FunctionalParsers Raku package](https://github.com/antononcube/Raku-FunctionalParsers), (2023-2024), [GitHub/antononcube](https://github.com/antononcube).\n",
        "\n",
        "[AAp2] Anton Antonov, [\"FunctionalParsers\"](https://resources.wolframcloud.com/PacletRepository/resources/AntonAntonov/FunctionalParsers/), (2023), [Wolfram Language Paclet Repository](https://resources.wolframcloud.com/PacletRepository/).\n",
        "\n",
        "[AAp3] Anton Antonov, [Lingua::NumericWordForms Raku package](https://github.com/antononcube/Raku-Lingua-NumericWordForms), (2021-2024), [GitHub/antononcube](https://github.com/antononcube)."
      ]
    },
    {
      "cell_type": "markdown",
      "metadata": {},
      "source": [
        "### Videos"
      ]
    },
    {
      "cell_type": "markdown",
      "metadata": {},
      "source": [
        "[AAv1] Anton Antonov, [\"Robust LLM pipelines (Mathematica, Python, Raku)\"](https://youtu.be/QOsVTCQZq_s), (2024), [YouTube/@AAA4prediction](https://www.youtube.com/@AAA4prediction)."
      ]
    }
  ],
  "metadata": {
    "kernelspec": {
      "display_name": "RakuChatbook",
      "language": "raku",
      "name": "raku"
    },
    "language_info": {
      "file_extension": ".raku",
      "mimetype": "text/x-raku",
      "name": "raku",
      "version": "6.d"
    }
  },
  "nbformat": 4,
  "nbformat_minor": 2
}
