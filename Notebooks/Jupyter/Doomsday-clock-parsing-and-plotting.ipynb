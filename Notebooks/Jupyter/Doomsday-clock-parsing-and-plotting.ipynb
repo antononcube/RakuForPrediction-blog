{
  "cells": [
    {
      "cell_type": "markdown",
      "metadata": {},
      "source": [
        "# Doomsday clock parsing and plotting"
      ]
    },
    {
      "cell_type": "markdown",
      "metadata": {},
      "source": [
        "Anton Antonov    \n",
        "[MathematicaForPrediction at WordPress](https://mathematicaforprediction.wordpress.com)   \n",
        "[RakuForPrediction at WordPress](https://rakuforprediction.wordpress.com)   \n",
        "December 2024"
      ]
    },
    {
      "cell_type": "markdown",
      "metadata": {},
      "source": [
        "------\n",
        "\n",
        "## Introduction"
      ]
    },
    {
      "cell_type": "markdown",
      "metadata": {},
      "source": [
        "[The Doomsday Clock](https://thebulletin.org/doomsday-clock/) is a symbolic timepiece maintained by the [Bulletin of the Atomic Scientists (BAS)](https://thebulletin.org) since 1947. It represents how close humanity is perceived to be to global catastrophe, primarily [nuclear war](https://en.wikipedia.org/wiki/Nuclear_warfare) but also including climate change and biological threats. The clock’s hands are set annually to reflect the current state of global security; midnight signifies theoretical doomsday. "
      ]
    },
    {
      "cell_type": "markdown",
      "metadata": {},
      "source": [
        "In this notebook we consider two tasks:"
      ]
    },
    {
      "cell_type": "markdown",
      "metadata": {},
      "source": [
        "- **Parsing of Doomsday Clock reading statements**\n",
        "\n",
        "    - Using both Functional Parsers (FP) (aka \"parser combinators\"), [AAp1], and Large Language Models (LLMs).\n",
        "\n",
        "        - We take text data from the past announcements, and extract the Doomsday Clock reading statements.\n"
      ]
    },
    {
      "cell_type": "markdown",
      "metadata": {},
      "source": [
        "- **Evolution Doomsday Clock times**\n",
        "\n",
        "    - We extract relevant Doomsday Clock timeline data from the corresponding Wikipedia page.\n",
        "\n",
        "        - (Instead of using a page from BAS.)\n",
        "\n",
        "    - We show how timeline data from that Wikipedia page can be processed with \"standard\" Wolfram Language (WL) functions and with LLMs.\n",
        "\n",
        "    - The result plot shows the evolution of the minutes to midnight.\n",
        "\n",
        "        - The plot could show trends, highlighting significant global events that influenced the clock setting.\n",
        "\n",
        "        - Hence, we put in informative callouts and tooltips."
      ]
    },
    {
      "cell_type": "markdown",
      "metadata": {},
      "source": [
        "The data extraction and visualization in the notebook serve educational purposes or provide insights into historical trends of global threats as perceived by experts. We try to make the ingestion and processing code universal and robust, suitable for multiple evaluations now or in the (near) future."
      ]
    },
    {
      "cell_type": "markdown",
      "metadata": {},
      "source": [
        "**Remark:** Keep in mind that the Doomsday Clock is a metaphor and its settings are not just data points but reflections of complex global dynamics (by [certain experts](https://thebulletin.org/2024/01/press-release-doomsday-clock-remains-at-90-seconds-to-midnight/) and a [board of sponsors](https://thebulletin.org/about-us/board-of-sponsors/).)"
      ]
    },
    {
      "cell_type": "markdown",
      "metadata": {},
      "source": [
        "**Remark:** Currently (2024-12-30) Doomsday Clock is set at [90 seconds before midnight](https://thebulletin.org/doomsday-clock/)."
      ]
    },
    {
      "cell_type": "markdown",
      "metadata": {},
      "source": [
        "**Remark:** This notebook is Raku-version of the Wolfram Language (WL) [notebook the same name](https://community.wolfram.com/groups/-/m/t/3347065), [AAn1]."
      ]
    },
    {
      "cell_type": "markdown",
      "metadata": {},
      "source": [
        "\n",
        "I was very impressed by the looks and tune-ability of WL's [`ClockGauge`](https://reference.wolfram.com/language/ref/ClockGauge.html.en), so, I programmed a similar clock gauge in Raku's package \n",
        "[\"JavaScript::D3\"](https://raku.land/zef:antononcube/JavaScript::D3) (which is based on [D3.js](https://d3js.org).)\n",
        "\n"
      ]
    },
    {
      "cell_type": "markdown",
      "metadata": {},
      "source": [
        "-----\n",
        "\n",
        "## Setup"
      ]
    },
    {
      "cell_type": "code",
      "execution_count": 254,
      "metadata": {},
      "outputs": [],
      "source": [
        "use LLM::Configurations;\n",
        "\n",
        "use Math::DistanceFunctions::Edit;\n",
        "\n",
        "use Lingua::NumericWordForms;\n",
        "use Lingua::NumericWordForms::Roles::English::WordedNumberSpec;\n",
        "\n",
        "use DSL::Shared::Roles::ErrorHandling;\n",
        "use DSL::Shared::Roles::English::TimeIntervalSpec;\n",
        "use DSL::Shared::Roles::English::PipelineCommand;\n",
        "use DSL::Shared::Utilities::FuzzyMatching;\n",
        "\n",
        "use FunctionalParsers :ALL;\n",
        "use FunctionalParsers::EBNF;\n",
        "\n",
        "use Text::Utils;\n",
        "\n",
        "# Automatically loaded\n",
        "#`[\n",
        "use Data::Importers;\n",
        "use Data::Reshapers;\n",
        "use JavaScript::Google::Charts;\n",
        "]"
      ]
    },
    {
      "cell_type": "markdown",
      "metadata": {},
      "source": [
        "### JavaScript::D3"
      ]
    },
    {
      "cell_type": "code",
      "execution_count": null,
      "metadata": {},
      "outputs": [],
      "source": [
        "#% javascript\n",
        "require.config({\n",
        "     paths: {\n",
        "     d3: 'https://d3js.org/d3.v7.min'\n",
        "}});\n",
        "\n",
        "require(['d3'], function(d3) {\n",
        "     console.log(d3);\n",
        "});"
      ]
    },
    {
      "cell_type": "code",
      "execution_count": null,
      "metadata": {},
      "outputs": [],
      "source": [
        "#% js\n",
        "js-d3-list-line-plot(10.rand xx 80, background => 'none')"
      ]
    },
    {
      "cell_type": "code",
      "execution_count": null,
      "metadata": {},
      "outputs": [],
      "source": [
        "my $background = 'none';\n",
        "my $stroke-color = 'Ivory';\n",
        "my $fill-color = 'none';"
      ]
    },
    {
      "cell_type": "markdown",
      "metadata": {},
      "source": [
        "### JavaScript::Google::Charts"
      ]
    },
    {
      "cell_type": "code",
      "execution_count": null,
      "metadata": {},
      "outputs": [],
      "source": [
        "my $format = 'html';\n",
        "my $titleTextStyle = { color => 'Ivory' };\n",
        "my $backgroundColor = '#1F1F1F';\n",
        "my $legendTextStyle = { color => 'Silver' };\n",
        "my $legend = { position => \"none\", textStyle => {fontSize => 14, color => 'Silver'} };\n",
        "\n",
        "my $hAxis = { title => 'x', titleTextStyle => { color => 'Silver' }, textStyle => { color => 'Gray'}, logScale => False, format => 'scientific'};\n",
        "my $vAxis = { title => 'y', titleTextStyle => { color => 'Silver' }, textStyle => { color => 'Gray'}, logScale => False, format => 'scientific'};\n",
        "\n",
        "my $annotations = {textStyle => {color => 'Silver', fontSize => 10}};\n",
        "my $chartArea = {left => 50, right => 50, top => 50, bottom => 50, width => '90%', height => '90%'};\n",
        "\n",
        "my $background = '1F1F1F';"
      ]
    },
    {
      "cell_type": "markdown",
      "metadata": {},
      "source": [
        "### Functional parsers"
      ]
    },
    {
      "cell_type": "code",
      "execution_count": null,
      "metadata": {},
      "outputs": [],
      "source": [
        "my sub parsing-test-table(&parser, @phrases) {\n",
        "    my @field-names = ['statement', 'parser output'];\n",
        "    my @res = @phrases.map({ @field-names Z=> [$_, &parser($_.words).raku] })».Hash.Array;\n",
        "    to-html(@res, :@field-names)\n",
        "}"
      ]
    },
    {
      "cell_type": "markdown",
      "metadata": {},
      "source": [
        "-----\n",
        "\n",
        "## Data ingestion"
      ]
    },
    {
      "cell_type": "markdown",
      "metadata": {},
      "source": [
        "Here we ingest the Doomsday Clock timeline page and show corresponding statistics:"
      ]
    },
    {
      "cell_type": "code",
      "execution_count": null,
      "metadata": {},
      "outputs": [],
      "source": [
        "my $url = \"https://thebulletin.org/doomsday-clock/past-announcements/\";\n",
        "my $txtEN = data-import($url, \"plaintext\");\n",
        "\n",
        "text-stats($txtEN)"
      ]
    },
    {
      "cell_type": "markdown",
      "metadata": {},
      "source": [
        "By observing the (plain) text of that page we see the Doomsday Clock time setting can be extracted from the sentence(s) that begin with the following phrase:"
      ]
    },
    {
      "cell_type": "code",
      "execution_count": null,
      "metadata": {},
      "outputs": [],
      "source": [
        "my $start-phrase = 'Bulletin of the Atomic Scientists';\n",
        "my $sentence = $txtEN.lines.first({ / ^ $start-phrase /})"
      ]
    },
    {
      "cell_type": "markdown",
      "metadata": {},
      "source": [
        "-----\n",
        "\n",
        "## Grammar and parsers"
      ]
    },
    {
      "cell_type": "markdown",
      "metadata": {},
      "source": [
        "Here is a grammar in [Extended Backus-Naur Form (EBNF)](https://en.wikipedia.org/wiki/Extended_Backus–Naur_form) for parsing Doomsday Clock statements:"
      ]
    },
    {
      "cell_type": "code",
      "execution_count": null,
      "metadata": {},
      "outputs": [],
      "source": [
        "my $ebnf = q:to/END/;\n",
        "<TOP> = <clock-reading>  ;\n",
        "<clock-reading> = <opening> , ( <minutes> | [ <minutes> , [ 'and' | ',' ] ] , <seconds> ) , 'to' , 'midnight' ;\n",
        "<opening> = [ { <any> } ] , 'clock' , [ 'is' ] , 'reading' ; <any> = '_String' ;\n",
        "<minutes> = <integer> <& ( 'minute' | 'minutes' ) ;\n",
        "<seconds> = <integer> <& ( 'second' | 'seconds' ) ;\n",
        "<integer> = '_Integer' <@ &{ $_.Int } ;\n",
        "END\n",
        "\n",
        "text-stats($ebnf)"
      ]
    },
    {
      "cell_type": "markdown",
      "metadata": {},
      "source": [
        "**Remark:** The EBNF grammar above can be obtained with LLMs using a suitable prompt with example sentences. (We do not discuss that approach further in this notebook.)"
      ]
    },
    {
      "cell_type": "markdown",
      "metadata": {},
      "source": [
        "Here the parsing functions are generated from the EBNF string above:"
      ]
    },
    {
      "cell_type": "code",
      "execution_count": null,
      "metadata": {},
      "outputs": [],
      "source": [
        "my @defs = fp-ebnf-parse($ebnf, <CODE>, name => 'Doomed2', actions => 'Raku::Code').head.tail;\n",
        ".say for @defs.reverse"
      ]
    },
    {
      "cell_type": "markdown",
      "metadata": {},
      "source": [
        "**Remark:** The function `fb-ebnf-parse` has a [variety of actions](https://github.com/antononcube/Raku-FunctionalParsers/blob/main/doc/Parser-code-generation.md) for generating code from EBNF strings. For example, with `actions => 'Raku::Class'` the generation above would produce a class, which might be more convenient to do further development with (via inheritance or direct changes.)"
      ]
    },
    {
      "cell_type": "markdown",
      "metadata": {},
      "source": [
        "Here the imperative code above -- assigned to `@defs` -- is re-written using the infix form of the parser combinators:"
      ]
    },
    {
      "cell_type": "code",
      "execution_count": null,
      "metadata": {},
      "outputs": [],
      "source": [
        "my &pINTEGER = satisfy({ $_ ~~ /\\d+/ }) «o {.Int};\n",
        "my &pMINUTES = &pINTEGER «& (symbol('minute') «|» symbol('minutes')) «o { [minute => $_,] };\n",
        "my &pSECONDS = &pINTEGER «& (symbol('second') «|» symbol('seconds')) «o { [second => $_,] };\n",
        "my &pANY = satisfy({ $_ ~~ /\\w+/ });\n",
        "my &pOPENING = option(many(&pANY)) «&» symbol('clock') «&» option(symbol('is')) «&» symbol('reading');\n",
        "my &pCLOCK-READING = &pOPENING «&» (&pMINUTES «|» option(&pMINUTES «&» option(symbol('and') «|» symbol(','))) «&» &pSECONDS) «&» symbol('to') «&» symbol('midnight');\n",
        "my &pTOP = &pCLOCK-READING;"
      ]
    },
    {
      "cell_type": "markdown",
      "metadata": {},
      "source": [
        "We must redefine the parser `pANY` (corresponding to the EBNF rule “<any>”) in order to prevent `pANY` of gobbling the word “clock” and in that way making the parser `pOPENING` fail."
      ]
    },
    {
      "cell_type": "code",
      "execution_count": null,
      "metadata": {},
      "outputs": [],
      "source": [
        "&pANY = satisfy({ $_ ne 'clock' && $_ ~~ /\\w+/});"
      ]
    },
    {
      "cell_type": "markdown",
      "metadata": {},
      "source": [
        "Here are random sentences generated with the grammar:"
      ]
    },
    {
      "cell_type": "code",
      "execution_count": null,
      "metadata": {},
      "outputs": [],
      "source": [
        ".say for fp-random-sentence($ebnf, 12).sort;"
      ]
    },
    {
      "cell_type": "markdown",
      "metadata": {},
      "source": [
        "Verifications of the (sub-)parsers:"
      ]
    },
    {
      "cell_type": "code",
      "execution_count": null,
      "metadata": {},
      "outputs": [],
      "source": [
        "\"90 seconds\".words.&pSECONDS"
      ]
    },
    {
      "cell_type": "code",
      "execution_count": null,
      "metadata": {},
      "outputs": [],
      "source": [
        "\"That doomsday clock is reading\".words.&pOPENING"
      ]
    },
    {
      "cell_type": "markdown",
      "metadata": {},
      "source": [
        "Here the “top” parser is applied:"
      ]
    },
    {
      "cell_type": "code",
      "execution_count": null,
      "metadata": {},
      "outputs": [],
      "source": [
        "my $str = \"the doomsday clock is reading 90 seconds to midnight\";\n",
        "$str.words.&pTOP"
      ]
    },
    {
      "cell_type": "markdown",
      "metadata": {},
      "source": [
        "Here the sentence extracted above is parsed and interpreted into an association with keys “Minutes” and “Seconds”:"
      ]
    },
    {
      "cell_type": "code",
      "execution_count": null,
      "metadata": {},
      "outputs": [],
      "source": [
        "$sentence.words.&pTOP.tail.flat.grep(* ~~ Pair)"
      ]
    },
    {
      "cell_type": "markdown",
      "metadata": {},
      "source": [
        "Let us redefine `pCLOCK-READING` to return a minutes-&-seconds dictionary, `pTOP` to return a corresponding date-time:"
      ]
    },
    {
      "cell_type": "code",
      "execution_count": null,
      "metadata": {},
      "outputs": [],
      "source": [
        "&pCLOCK-READING = &pCLOCK-READING «o { $_.flat.grep(* ~~ Pair).Hash };\n",
        "\n",
        "&pTOP = &pCLOCK-READING «o { \n",
        "    Date.today.DateTime.earlier(seconds => ($_<minute> // 0) * 60 + ($_<second>// 0) ) \n",
        "};"
      ]
    },
    {
      "cell_type": "markdown",
      "metadata": {},
      "source": [
        "Here we assign and show the results of those two parsers:"
      ]
    },
    {
      "cell_type": "code",
      "execution_count": null,
      "metadata": {},
      "outputs": [],
      "source": [
        "my $doom-reading = $sentence.words.&pCLOCK-READING.head.tail;\n",
        "my $doom-time = $sentence.words.&pTOP.head.tail;\n",
        "\n",
        ".say for (:$doom-reading, :$doom-time)"
      ]
    },
    {
      "cell_type": "markdown",
      "metadata": {},
      "source": [
        "------\n",
        "\n",
        "## Plotting the clock"
      ]
    },
    {
      "cell_type": "markdown",
      "metadata": {},
      "source": [
        "Using the interpretation derived above plot the corresponding clock with `js-dr-clock-gauge`:"
      ]
    },
    {
      "cell_type": "code",
      "execution_count": null,
      "metadata": {},
      "outputs": [],
      "source": [
        "#% js\n",
        "js-d3-clock-gauge( $doom-time, :$background, :$stroke-color)"
      ]
    },
    {
      "cell_type": "markdown",
      "metadata": {},
      "source": [
        "Let us define a map with clock-gauge plot options."
      ]
    },
    {
      "cell_type": "code",
      "execution_count": null,
      "metadata": {},
      "outputs": [],
      "source": [
        "my @scale-ranges = (0, 0.005 ... 0.66).rotor(2=>-1).map({ ([0, 60], $_) });\n",
        "my %opts = \n",
        "    background => 'none',\n",
        "    stroke-color => 'Black', stroke-width => 0,\n",
        "    title-color => 'Ivory', title-font-family => 'Helvetica',\n",
        "    hour-hand-color => 'Orange', second-hand-color => 'Red',\n",
        "    color-scheme => 'Magma',\n",
        "    fill-color => 'AntiqueWhite',\n",
        "    :@scale-ranges,\n",
        "    color-scheme-interpolation-range => (0.11, 0.95),\n",
        "    margins => {top => 60, left => 20, right => 20, bottom => 60},\n",
        "    height => 420,\n",
        "    ;\n",
        "\n",
        "  %opts.elems"
      ]
    },
    {
      "cell_type": "markdown",
      "metadata": {},
      "source": [
        "Here are different \"doomsday clock\" examples:"
      ]
    },
    {
      "cell_type": "code",
      "execution_count": null,
      "metadata": {},
      "outputs": [],
      "source": [
        "#%js\n",
        "[\n",
        "   {color-scheme => 'Plasma', fill-color => 'MistyRose'},\n",
        "   {color-scheme => 'Spectral', fill-color => '#4e65ac', stroke-color => 'DarkRed', stroke-width => 10},\n",
        "   {color-scheme => 'Inferno', fill-color => 'DarkSlateGray'},\n",
        "].map({ js-d3-clock-gauge(:23hour, :58minute, :30second, |merge-hash(%opts, $_)) }).join(\"\\n\")"
      ]
    },
    {
      "cell_type": "markdown",
      "metadata": {},
      "source": [
        "----\n",
        "\n",
        "## More robust parsing"
      ]
    },
    {
      "cell_type": "markdown",
      "metadata": {},
      "source": [
        "More robust parsing of Doomsday Clock statements can be obtained in these three ways:"
      ]
    },
    {
      "cell_type": "markdown",
      "metadata": {},
      "source": [
        "- “Fuzzy” match of words\n",
        "\n",
        "    - For misspellings like \"doomsdat\" instead of \"doomsday.\"\n",
        "\n",
        "- Parsing of numeric work forms.\n",
        "\n",
        "    - For statements, like, \"two minutes and twenty five seconds.\"\n",
        "\n",
        "- Delegating the parsing to LLMs when grammar parsing fails."
      ]
    },
    {
      "cell_type": "markdown",
      "metadata": {},
      "source": [
        "### Fuzzy matching"
      ]
    },
    {
      "cell_type": "markdown",
      "metadata": {},
      "source": [
        "The parser `satisfy` can be used to handle misspellings (via, say, `edit-distance` from [\"Math::DistanceFunctions\"](https://raku.land/zef:antononcube/Math::DistanceFunctions)):"
      ]
    },
    {
      "cell_type": "code",
      "execution_count": null,
      "metadata": {},
      "outputs": [],
      "source": [
        "#% html\n",
        "my &pDD = satisfy({ edit-distance($_, \"doomsday\") ≤ 2 }) «o {\"doomsday\"};\n",
        "my @phrases = \"doomsdat\", \"doomsday\", \"dumzday\";\n",
        "\n",
        "parsing-test-table(&pDD, @phrases)"
      ]
    },
    {
      "cell_type": "markdown",
      "metadata": {},
      "source": [
        "But since \"FunctionalParsers\" provides the generic parser `fuzzy-symbol` (that takes a word and a distance as arguments) we use that parser below."
      ]
    },
    {
      "cell_type": "code",
      "execution_count": null,
      "metadata": {},
      "outputs": [],
      "source": [
        "#% html\n",
        "my &pDD2 = fuzzy-symbol(\"doomsday\", 2);\n",
        "my @phrases = \"doomsdat\", \"doomsday\", \"dumzday\";\n",
        "\n",
        "parsing-test-table(&pDD2, @phrases)"
      ]
    },
    {
      "cell_type": "markdown",
      "metadata": {},
      "source": [
        "In order to include the misspelling handling into the grammar we manually rewrite the grammar. (The grammar is small, so, it is not that hard to do.)"
      ]
    },
    {
      "cell_type": "code",
      "execution_count": null,
      "metadata": {},
      "outputs": [],
      "source": [
        "my &pINTEGER = satisfy({ $_ ~~ /\\d+/ }) «o {.Int};\n",
        "my &pMINUTES = &pINTEGER «& (fuzzy-symbol('minute', 2) «|» fuzzy-symbol('minutes', 2)) «o { [minute => $_,] };\n",
        "my &pSECONDS = &pINTEGER «& (fuzzy-symbol('second', 2) «|» fuzzy-symbol('seconds', 2)) «o { [second => $_,] };\n",
        "my &pANY = satisfy({ edit-distance($_, 'clock') > 2 && $_ ~~ /\\w+/ });\n",
        "my &pOPENING = option(many(&pANY)) «&» fuzzy-symbol('clock', 1) «&» option(symbol('is')) «&» fuzzy-symbol('reading', 2);\n",
        "my &pCLOCK-READING = &pOPENING «&» (&pMINUTES «|» option(&pMINUTES «&» option(symbol('and') «|» symbol(','))) «&» &pSECONDS) «&» symbol('to') «&» fuzzy-symbol('midnight', 2);\n",
        "\n",
        "&pCLOCK-READING = &pCLOCK-READING «o { $_.flat.grep(* ~~ Pair).Hash };\n",
        "\n",
        "&pTOP = &pCLOCK-READING «o { \n",
        "    Date.today.DateTime.earlier(seconds => ($_<minute> // 0) * 60 + ($_<second>// 0) ) \n",
        "};"
      ]
    },
    {
      "cell_type": "markdown",
      "metadata": {},
      "source": [
        "Here is a verification table with correct- and incorrect spellings:"
      ]
    },
    {
      "cell_type": "code",
      "execution_count": null,
      "metadata": {},
      "outputs": [],
      "source": [
        "#% html\n",
        "my @phrases =\n",
        "    \"doomsday clock is reading 2 seconds to midnight\", \n",
        "    \"dooms day cloc is readding 2 minute and 22 sekonds to mildnight\";\n",
        "\n",
        "parsing-test-table(shortest(&pCLOCK-READING), @phrases)"
      ]
    },
    {
      "cell_type": "markdown",
      "metadata": {},
      "source": [
        "### Parsing of numeric word forms"
      ]
    },
    {
      "cell_type": "markdown",
      "metadata": {},
      "source": [
        "One way to make the parsing more robust is to implement the ability to parse integer names (or numeric word forms) not just integers."
      ]
    },
    {
      "cell_type": "markdown",
      "metadata": {},
      "source": [
        "**Remark:** For a fuller discussion -- and code -- of numeric word forms parsing see the tech note [\"Integer names parsing\"](https://resources.wolframcloud.com/PacletRepository/resources/AntonAntonov/FunctionalParsers/tutorial/Integernamesparsing.html) of the paclet [\"FunctionalParsers\"](https://resources.wolframcloud.com/PacletRepository/resources/AntonAntonov/FunctionalParsers/), [AAp1]."
      ]
    },
    {
      "cell_type": "markdown",
      "metadata": {},
      "source": [
        "First, we make an association that connects integer names with corresponding integer values:"
      ]
    },
    {
      "cell_type": "code",
      "execution_count": null,
      "metadata": {},
      "outputs": [],
      "source": [
        "my %worded-values = (^100).map({ to-numeric-word-form($_) => $_ });\n",
        "%worded-values.elems"
      ]
    },
    {
      "cell_type": "markdown",
      "metadata": {},
      "source": [
        "**Remark:** The function `to-numeric-word-form` is provided by [\"Lingua::NumericWordForms\"](https://raku.land/zef:antononcube/Lingua::NumericWordForms), [AAp3]."
      ]
    },
    {
      "cell_type": "markdown",
      "metadata": {},
      "source": [
        "Here is how the rules look like:"
      ]
    },
    {
      "cell_type": "code",
      "execution_count": null,
      "metadata": {},
      "outputs": [],
      "source": [
        "%worded-values.pick(6)"
      ]
    },
    {
      "cell_type": "markdown",
      "metadata": {},
      "source": [
        "Here we program the integer names parser:"
      ]
    },
    {
      "cell_type": "code",
      "execution_count": null,
      "metadata": {},
      "outputs": [],
      "source": [
        "my &pUpTo10 = alternatives( |(^10)».&to-numeric-word-form.map({ symbol($_.trim) }) );\n",
        "my &p10s = alternatives( |(10, 20 ... 90)».&to-numeric-word-form.map({ symbol($_.trim) }) );\n",
        "my &pWordedInteger = (&p10s «&» &pUpTo10 «|» &p10s «|» &pUpTo10) «o { %worded-values{$_.flat.join(' ')} };"
      ]
    },
    {
      "cell_type": "markdown",
      "metadata": {},
      "source": [
        "Here is a verification table of that parser:"
      ]
    },
    {
      "cell_type": "code",
      "execution_count": null,
      "metadata": {},
      "outputs": [],
      "source": [
        "#% html\n",
        "my @phrases = \"three\", \"fifty seven\", \"thirti one\";\n",
        "parsing-test-table(&pWordedInteger, @phrases)"
      ]
    },
    {
      "cell_type": "markdown",
      "metadata": {},
      "source": [
        "There are two parsing results for “fifty seven”, because `&pWordedInteger` is defined with:\n",
        "\n",
        "```\n",
        "&p10s «|» &pUpTo10 «|» p10s ...  \n",
        "```\n",
        "\n",
        "This can be remedied by using `just` or `shortest`:"
      ]
    },
    {
      "cell_type": "code",
      "execution_count": null,
      "metadata": {},
      "outputs": [],
      "source": [
        "#% html\n",
        "parsing-test-table( just(&pWordedInteger), @phrases)"
      ]
    },
    {
      "cell_type": "markdown",
      "metadata": {},
      "source": [
        "Let us change `&pINTEGER` to parse both integers and integer names:"
      ]
    },
    {
      "cell_type": "code",
      "execution_count": null,
      "metadata": {},
      "outputs": [],
      "source": [
        "#% html\n",
        "&pINTEGER = &satisfy({ $_ ~~ /\\d+/ }) «o {.Int} «|» &pWordedInteger;\n",
        "\n",
        "my @phrases = \"12\", \"3\", \"three\", \"forty five\";\n",
        "parsing-test-table( just(&pINTEGER), @phrases)"
      ]
    },
    {
      "cell_type": "markdown",
      "metadata": {},
      "source": [
        "**Remark:** `&pINTEGER` has to be evaluated before the definitions of the rest of the parsers programmed in the previous subsection."
      ]
    },
    {
      "cell_type": "markdown",
      "metadata": {},
      "source": [
        "Let us try the new parser using integer names for the clock time:"
      ]
    },
    {
      "cell_type": "code",
      "execution_count": null,
      "metadata": {},
      "outputs": [],
      "source": [
        "my $str = \"the doomsday clock is reading two minutes and forty five seconds to midnight\";\n",
        "\n",
        "$str.words\n",
        "==> take-first(&pCLOCK-READING)()"
      ]
    },
    {
      "cell_type": "markdown",
      "metadata": {},
      "source": [
        "### Enhance with LLM parsing"
      ]
    },
    {
      "cell_type": "markdown",
      "metadata": {},
      "source": [
        "There are multiple ways to employ LLMs for extracting “clock readings” from arbitrary statements for Doomsday Clock readings, readouts, and measures. Here we use [LLM few-shot training](https://en.wikipedia.org/wiki/Prompt_engineering#Other_techniques):"
      ]
    },
    {
      "cell_type": "code",
      "execution_count": null,
      "metadata": {},
      "outputs": [],
      "source": [
        "my &flop = llm-example-function([\n",
        "    \"the doomsday clock is reading two minutes and forty five seconds to midnight\" => '{\"minute\":2, \"second\": 45}', \n",
        "    \"the clock of the doomsday gives 92 seconds to midnight\" => '{\"minute\":0, \"second\": 92}', \n",
        "    \"The bulletin atomic scientist maybe is set to a minute an 3 seconds.\" => '{\"minute\":1, \"second\": 3}'\n",
        "   ], \n",
        "   e => $conf4o,\n",
        "   form => sub-parser('JSON')\n",
        ")"
      ]
    },
    {
      "cell_type": "markdown",
      "metadata": {},
      "source": [
        "Here is an example invocation:"
      ]
    },
    {
      "cell_type": "code",
      "execution_count": null,
      "metadata": {},
      "outputs": [],
      "source": [
        "# &flop(\"Maybe the doomsday watch is at 23:58:03\")"
      ]
    },
    {
      "cell_type": "markdown",
      "metadata": {},
      "source": [
        "The following function combines the parsing with the grammar and the LLM example function -- the latter is used for fallback parsing:"
      ]
    },
    {
      "cell_type": "code",
      "execution_count": null,
      "metadata": {},
      "outputs": [],
      "source": [
        "my sub get-clock-reading(Str:D $st) {\n",
        "    my $op = just(&pCLOCK-READING)($st.words); \n",
        "    my %h = $op.elems > 0 && $op.head.head.elems == 0 ?? $op.head.tail !! &flop( $st );\n",
        "    return Date.today.DateTime.earlier(seconds => (%h<minute> // 0) * 60 + (%h<second> // 0) ) \n",
        "}"
      ]
    },
    {
      "cell_type": "markdown",
      "metadata": {},
      "source": [
        "### Robust parser demo"
      ]
    },
    {
      "cell_type": "markdown",
      "metadata": {},
      "source": [
        "Here is the application of the combine function above over a certain “random” Doomsday Clock statement:"
      ]
    },
    {
      "cell_type": "code",
      "execution_count": null,
      "metadata": {},
      "outputs": [],
      "source": [
        "my $s = \"You know, sort of, that dooms-day watch is 1 and half minute be... before the big boom. (Of doom...)\";\n",
        "\n",
        "#$s.&get-clock-reading"
      ]
    },
    {
      "cell_type": "markdown",
      "metadata": {},
      "source": [
        "**Remark:** The same type of robust grammar-and-LLM combination is explained in more detail in the video [\"Robust LLM pipelines (Mathematica, Python, Raku)\"](https://www.youtube.com/watch?v=QOsVTCQZq_s&t=3700s), [AAv1]. (See, also, the corresponding notebook [AAn1].)"
      ]
    },
    {
      "cell_type": "markdown",
      "metadata": {},
      "source": [
        "-------\n",
        "\n",
        "## Timeline"
      ]
    },
    {
      "cell_type": "markdown",
      "metadata": {},
      "source": [
        "In this section we extract Doomsday Clock timeline data and make a corresponding plot."
      ]
    },
    {
      "cell_type": "markdown",
      "metadata": {},
      "source": [
        "### Parsing page data"
      ]
    },
    {
      "cell_type": "markdown",
      "metadata": {},
      "source": [
        "Instead of using the [official Doomsday clock timeline page](https://thebulletin.org/doomsday-clock/timeline/) we use [Wikipedia](https://en.wikipedia.org/wiki/Doomsday_Clock).\n",
        "We can extract the Doomsday Clock timeline using LLMs. Here we get the plaintext of the Wikipedia page and show statistics:"
      ]
    },
    {
      "cell_type": "code",
      "execution_count": null,
      "metadata": {},
      "outputs": [],
      "source": [
        "my $url = \"https://en.wikipedia.org/wiki/Doomsday_Clock\";\n",
        "my $txtWk = data-import($url, \"plaintext\");\n",
        "\n",
        "text-stats($txtWk)"
      ]
    },
    {
      "cell_type": "markdown",
      "metadata": {},
      "source": [
        "Here we get the Doomsday Clock timeline table from that page in JSON format using an LLM:"
      ]
    },
    {
      "cell_type": "code",
      "execution_count": null,
      "metadata": {},
      "outputs": [],
      "source": [
        "my $res; \n",
        "if False {\n",
        "  $res = llm-synthesize([\n",
        "    \"Give the time table of the doomsday clock as a time series that is a JSON array.\", \n",
        "    \"Each element of the array is a dictionary with keys 'Year', 'MinutesToMidnight', 'Time', 'Summary', 'Description'.\",\n",
        "    \"Do not shorten or summarize the descriptions -- use their full texts.\",\n",
        "    \"The column 'Summary' should have summaries of the descriptions, each summary no more than 10 words.\",\n",
        "    $txtWk, \n",
        "    llm-prompt(\"NothingElse\")(\"JSON\")\n",
        "   ], \n",
        "   e => $conf4o,\n",
        "   form => sub-parser('JSON'):drop\n",
        "  );\n",
        "} else {\n",
        "  my @field-names = <Year MinutesToMidnight Time Summary Description>;\n",
        "  $res = data-import('./doomsday-clock-timeline-table.csv', headers => 'auto');\n",
        "  $res = $res.map({ my %h = $_.clone; %h<Year> = %h<Year>.Int; %h<MinutesToMidnight> = %h<MinutesToMidnight>.Num; %h }).Array\n",
        "}\n",
        "\n",
        "deduce-type($res)"
      ]
    },
    {
      "cell_type": "markdown",
      "metadata": {},
      "source": [
        "Here the LLM result is tabulated:"
      ]
    },
    {
      "cell_type": "code",
      "execution_count": null,
      "metadata": {},
      "outputs": [],
      "source": [
        "#% html\n",
        "my @field-names = <Year MinutesToMidnight Time Summary Description>;\n",
        "$res ==> to-html(:@field-names, align => 'left')"
      ]
    },
    {
      "cell_type": "markdown",
      "metadata": {},
      "source": [
        "**Remark:** The LLM derived summaries in the table above are based on the descriptions in the column “Reason” in the Wikipedia data table. \n",
        "The tooltips of the plot below use the summaries."
      ]
    },
    {
      "cell_type": "markdown",
      "metadata": {},
      "source": [
        "### Timeline plot"
      ]
    },
    {
      "cell_type": "markdown",
      "metadata": {},
      "source": [
        "In order to have informative Doomsday Clock evolution plot we obtain and partition dataset’s time series into step-function pairs:"
      ]
    },
    {
      "cell_type": "code",
      "execution_count": null,
      "metadata": {},
      "outputs": [],
      "source": [
        "my @dsDoomsdayTimes = |$res;\n",
        "my @ts0 = @dsDoomsdayTimes.map({ <Year MinutesToMidnight role:tooltip> Z=> $_<Year MinutesToMidnight Summary> })».Hash;\n",
        "\n",
        "my @ts1 = @dsDoomsdayTimes.rotor(2=>-1).map({[ \n",
        "    %( <Year MinutesToMidnight mark role:tooltip> Z=> $_.head<Year MinutesToMidnight MinutesToMidnight Summary>),\n",
        "    %( <Year MinutesToMidnight mark role:tooltip> Z=> [$_.tail<Year>, $_.head<MinutesToMidnight>, NaN, '']) \n",
        "]}).map(*.Slip);\n",
        "\n",
        "@ts1 = @ts1.push( merge-hash(@ts0.tail, {mark => @ts0.tail<MinutesToMidnight>}) );\n",
        "\n",
        "deduce-type(@ts1):tally"
      ]
    },
    {
      "cell_type": "markdown",
      "metadata": {},
      "source": [
        "Here are added callout annotations indicating the year and the minutes before midnight:"
      ]
    },
    {
      "cell_type": "code",
      "execution_count": null,
      "metadata": {},
      "outputs": [],
      "source": [
        "my @ts2 = @ts1.map({ \n",
        "    my %h = $_.clone;\n",
        "    my $s = ($_<MinutesToMidnight> * 60) mod 60;\n",
        "    $s = $s > 0 ?? \" {$s}s\" !! '';\n",
        "    if %h<mark> === NaN { \n",
        "        %h<role:annotation> = '';\n",
        "    } else { \n",
        "        %h<role:annotation> = \"{%h<Year>}: {floor($_<MinutesToMidnight>)}m\" ~ $s; \n",
        "    }\n",
        "    %h\n",
        "});\n",
        "\n",
        "deduce-type(@ts2):tally"
      ]
    },
    {
      "cell_type": "markdown",
      "metadata": {},
      "source": [
        "Finally, here is the plot:"
      ]
    },
    {
      "cell_type": "code",
      "execution_count": null,
      "metadata": {},
      "outputs": [],
      "source": [
        "#% html\n",
        "js-google-charts('ComboChart',\n",
        "    @ts2,\n",
        "    column-names => <Year MinutesToMidnight mark role:annotation role:tooltip>,\n",
        "    width => 1200,\n",
        "    height => 500,\n",
        "    title => \"Doomsday clock: minutes to midnight, {@dsDoomsdayTimes.map(*<Year>).Array.&{ (.min, .max).join('-') }}\",\n",
        "    series => {\n",
        "        0 => {type => 'line', lineWidth => 4, color => 'DarkOrange'},\n",
        "        1 => {type => 'scatter', pointSize => 10, opacity => 0.1, color => 'Blue'},\n",
        "    },\n",
        "    hAxis => { title => 'Year',  format => '####', titleTextStyle => { color => 'Silver' }, textStyle => { color => 'Gray'},     \n",
        "                viewWindow => { min => 1945, max => 2026}\n",
        "            },\n",
        "    vAxes => { \n",
        "        0 => { title => 'Minutes to Midnight', titleTextStyle => { color => 'Silver' }, textStyle => { color => 'Gray'} }, \n",
        "        1 => { titleTextStyle => { color => 'Silver' }, textStyle => { color => 'Gray'}, ticks => (^18).map({ [ v => $_, f => ($_ ?? \"23::{60-$_}\" !! '00:00' ) ] }).Array } \n",
        "    },\n",
        "    :$annotations,\n",
        "    :$titleTextStyle,\n",
        "    :$backgroundColor,\n",
        "    :$legend,\n",
        "    :$chartArea,\n",
        "    :$format,\n",
        "    div-id => 'DoomsdayClock',\n",
        "    :!png-button\n",
        ")"
      ]
    },
    {
      "cell_type": "code",
      "execution_count": null,
      "metadata": {},
      "outputs": [],
      "source": [
        "#% html\n",
        "js-google-charts('ComboChart',\n",
        "    @ts2,\n",
        "    column-names => <Year MinutesToMidnight mark role:tooltip role:annotation>,\n",
        "    width => 1200,\n",
        "    height => 500,\n",
        "    title => \"Doomsday clock: minutes to midnight, {@dsDoomsdayTimes.map(*<Year>).Array.&{ (.min, .max).join('-') }}\",\n",
        "    series => {\n",
        "        0 => {type => 'line', lineWidth => 4, color => 'DarkOrange'},\n",
        "        1 => {type => 'scatter', pointSize => 10, opacity => 0.1, color => 'Blue'},\n",
        "    },\n",
        "    hAxis => { title => 'Year',  format => '####', titleTextStyle => { color => 'DimGray' }, textStyle => { color => 'Gray'},     \n",
        "                viewWindow => { min => 1945, max => 2026}\n",
        "            },\n",
        "    vAxes => { \n",
        "        0 => { title => 'Minutes to Midnight', titleTextStyle => { color => 'DimGray' }, textStyle => { color => 'Gray'} }, \n",
        "        1 => { titleTextStyle => { color => 'DimGray' }, textStyle => { color => 'Gray'}, ticks => (^18).map({ [ v => $_, f => ($_ ?? \"23::{60-$_}\" !! '00:00' ) ] }).Array } \n",
        "    },\n",
        "    annotations => {textStyle => {color => 'Gray', fontSize => 10}},\n",
        "    titleTextStyle => {color => 'Gray'},\n",
        "    #:$backgroundColor,\n",
        "    :$legend,\n",
        "    :$chartArea,\n",
        "    :$format,\n",
        "    div-id => 'DoomsdayClockLight',\n",
        "    :!png-button\n",
        ")"
      ]
    },
    {
      "cell_type": "markdown",
      "metadata": {},
      "source": [
        "**Remark:** The plot *should be* piecewise constant -- simple linear interpolation between the blue points would suggest gradual change of the clock times."
      ]
    },
    {
      "cell_type": "markdown",
      "metadata": {},
      "source": [
        "**Remark:** By hovering with the mouse over the blue points the corresponding descriptions can be seen. We considered using clock-gauges as tooltips, but showing clock-settings reasons is more informative."
      ]
    },
    {
      "cell_type": "markdown",
      "metadata": {},
      "source": [
        "**Remark:** The plot was intentionally made to resemble the [timeline plot in Doomsday Clock's Wikipedia page](https://en.wikipedia.org/wiki/Doomsday_Clock#Timeline)."
      ]
    },
    {
      "cell_type": "markdown",
      "metadata": {},
      "source": [
        "**Remark:** The plot has deficiencies:\n",
        "- Tooltips with arbitrary width\n",
        "    - This can be remedied with the (complicated) HTML tooltip procedure described in [AA1].\n",
        "        - But decided to just make the LLM data extraction to produces short summaries of the descriptions.\n",
        "- No right vertical axis ticks\n",
        "    - The Doomsday Clock timeline plot in Wikipedia and its reproduction in [AAn1] have the \"HH::MM\" time axis.\n",
        "    - Again, I gave up figuring out the how to place such axis in \"ComboChart\".\n",
        "\n",
        "I gave up smoothing out those deficiencies after attempting to fix or address each of them a few times.\n",
        "(It is not that important to figure out Google Charts interface settings for that kind of plots.)\n"
      ]
    },
    {
      "cell_type": "markdown",
      "metadata": {},
      "source": [
        "## Conclusion"
      ]
    },
    {
      "cell_type": "markdown",
      "metadata": {},
      "source": [
        "As expected, parsing, plotting, or otherwise processing the Doomsday Clock settings and statements are excellent didactic subjects for textual analysis (or parsing) and temporal data visualization. The visualization could serve educational purposes or provide insights into historical trends of global threats as perceived by experts. (Remember, the clock’s settings are not just data points but reflections of complex global dynamics.)"
      ]
    },
    {
      "cell_type": "markdown",
      "metadata": {},
      "source": [
        "One possible application of the code in this notebook is to make a “web service“ that gives clock images with Doomsday Clock readings. For example, click on this button:"
      ]
    },
    {
      "cell_type": "markdown",
      "metadata": {},
      "source": [
        "- [**Get Doomsday Clock!**](https://www.wolframcloud.com/obj/e28834c9-42a4-4991-9889-243fa39a795d)\n"
      ]
    },
    {
      "cell_type": "markdown",
      "metadata": {},
      "source": [
        "## References"
      ]
    },
    {
      "cell_type": "markdown",
      "metadata": {},
      "source": [
        "### Articles, notebooks"
      ]
    },
    {
      "cell_type": "markdown",
      "metadata": {},
      "source": [
        "[AA1] Anton Antonov, [\"Geographic Data in Raku Demo\"](https://rakuforprediction.wordpress.com/2024/06/18/geographic-data-in-raku-demo/), (2024), [RakuForPrediction at WordPress](https://rakuforprediction.wordpress.com/2024/06/18/geographic-data-in-raku-demo/).\n",
        "\n",
        "[AAn1] Anton Antonov, [\"Doomsday clock parsing and plotting\"](https://community.wolfram.com/groups/-/m/t/3347065), (2024), [Wolfram Community](https://community.wolfram.com).\n",
        "\n",
        "[AAn2] Anton Antonov, [\"Making robust LLM computational pipelines from software engineering perspective\"](https://community.wolfram.com/groups/-/m/t/3279791), (2024), [Wolfram Community](https://community.wolfram.com)."
      ]
    },
    {
      "cell_type": "markdown",
      "metadata": {},
      "source": [
        "### Paclets"
      ]
    },
    {
      "cell_type": "markdown",
      "metadata": {},
      "source": [
        "[AAp1] Anton Antonov, [FunctionalParsers Raku package](https://github.com/antononcube/Raku-FunctionalParsers), (2023-2024), [GitHub/antononcube](https://github.com/antononcube).\n",
        "\n",
        "[AAp2] Anton Antonov, [\"FunctionalParsers\"](https://resources.wolframcloud.com/PacletRepository/resources/AntonAntonov/FunctionalParsers/), (2023), [Wolfram Language Paclet Repository](https://resources.wolframcloud.com/PacletRepository/).\n",
        "\n",
        "[AAp3] Anton Antonov, [Lingua::NumericWordForms Raku package](https://github.com/antononcube/Raku-Lingua-NumericWordForms), (2021-2024), [GitHub/antononcube](https://github.com/antononcube)."
      ]
    },
    {
      "cell_type": "markdown",
      "metadata": {},
      "source": [
        "### Videos"
      ]
    },
    {
      "cell_type": "markdown",
      "metadata": {},
      "source": [
        "[AAv1] Anton Antonov, [\"Robust LLM pipelines (Mathematica, Python, Raku)\"](https://youtu.be/QOsVTCQZq_s), (2024), [YouTube/@AAA4prediction](https://www.youtube.com/@AAA4prediction)."
      ]
    }
  ],
  "metadata": {
    "kernelspec": {
      "display_name": "RakuChatbook",
      "language": "raku",
      "name": "raku"
    },
    "language_info": {
      "file_extension": ".raku",
      "mimetype": "text/x-raku",
      "name": "raku",
      "version": "6.d"
    }
  },
  "nbformat": 4,
  "nbformat_minor": 2
}
