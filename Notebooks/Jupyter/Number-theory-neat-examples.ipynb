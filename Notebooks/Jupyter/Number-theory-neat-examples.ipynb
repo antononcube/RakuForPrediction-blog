{
 "cells": [
  {
   "cell_type": "markdown",
   "metadata": {},
   "source": [
    "# Number theory neat examples\n",
    "\n",
    "Anton Antonov\n",
    "[RakuForPrediction at WordPress](https://rakuforprediction.wordpress.com)\n",
    "January 2025   "
   ]
  },
  {
   "cell_type": "markdown",
   "metadata": {},
   "source": [
    "-----\n",
    "\n",
    "## Setup"
   ]
  },
  {
   "cell_type": "code",
   "metadata": {},
   "source": [
    "use Math::NumberTheory;\n",
    "use Math::NumberTheory::Utilities;"
   ],
   "outputs": [],
   "execution_count": null
  },
  {
   "cell_type": "code",
   "metadata": {},
   "source": [
    "%% javascript\n",
    "require.config({\n",
    "     paths: {\n",
    "     d3: 'https://d3js.org/d3.v7.min'\n",
    "}});\n",
    "\n",
    "require(['d3'], function(d3) {\n",
    "     console.log(d3);\n",
    "});"
   ],
   "outputs": [],
   "execution_count": null
  },
  {
   "cell_type": "markdown",
   "metadata": {},
   "source": [
    "----\n",
    "\n",
    "## Modular exponentiation (power mod)"
   ]
  },
  {
   "cell_type": "markdown",
   "metadata": {},
   "source": [
    "Plot a list of powers of 3 where the exponent is varied, modulo some prime number:"
   ]
  },
  {
   "cell_type": "code",
   "metadata": {},
   "source": [
    "#%js\n",
    "my @a = (1 ... (prime(44)-1) ).map({ power-mod(3, $_ , prime(44)) });\n",
    "js-d3-list-plot(@a, \n",
    "    background => 'none',\n",
    "    width => 700,\n",
    "    height => 160\n",
    ")"
   ],
   "outputs": [],
   "execution_count": null
  },
  {
   "cell_type": "markdown",
   "metadata": {},
   "source": [
    "Plot values of varying powers of numbers with a fixed modulus:"
   ]
  },
  {
   "cell_type": "code",
   "metadata": {},
   "source": [
    "#%js\n",
    "my @a = ((2..100) X (2..100)).map({ power-mod($_.head, $_.tail, 32) }).rotor(99);\n",
    "js-d3-matrix-plot(@a, width => 400, height => 400, :!grid-lines)"
   ],
   "outputs": [],
   "execution_count": null
  },
  {
   "cell_type": "code",
   "metadata": {},
   "source": [
    "#% js\n",
    "my @mat = spiral-lattice(101).deepmap({ power-mod($_, 3, 17)});\n",
    "js-d3-matrix-plot(@mat, width => 400, height => 400, :!grid-lines, color-palette => 'Rainbow')"
   ],
   "outputs": [],
   "execution_count": null
  },
  {
   "cell_type": "markdown",
   "metadata": {},
   "source": [
    "------\n",
    "\n",
    "## Divisor sigma"
   ]
  },
  {
   "cell_type": "code",
   "metadata": {},
   "source": [
    "my @data = ((^3) X (1..50)).map({ <group x y> Z=> [\"σ({$_.head})\", $_.tail, divisor-sigma($_.tail, e => $_.head).log] })».Hash;\n",
    "\n",
    "sink records-summary(@data)"
   ],
   "outputs": [],
   "execution_count": null
  },
  {
   "cell_type": "code",
   "metadata": {},
   "source": [
    "#%js\n",
    "js-d3-list-line-plot(@data,\n",
    "    background => 'none',\n",
    "    width => 700,\n",
    "    height => 300\n",
    ")"
   ],
   "outputs": [],
   "execution_count": null
  },
  {
   "cell_type": "code",
   "metadata": {},
   "source": [
    "#% js\n",
    "my @mat = spiral-lattice(71).deepmap({ divisor-sigma(0, $_)});\n",
    "js-d3-matrix-plot(@mat, width => 400, height => 400, :!grid-lines, color-palette => 'Plasma')"
   ],
   "outputs": [],
   "execution_count": null
  },
  {
   "cell_type": "markdown",
   "metadata": {},
   "source": [
    "-----\n",
    "\n",
    "## Primitive root"
   ]
  },
  {
   "cell_type": "markdown",
   "metadata": {},
   "source": [
    "Elements relatively prime to 22 are enumerated by the primitive root:"
   ]
  },
  {
   "cell_type": "code",
   "metadata": {},
   "source": [
    "my $n = 2 * prime(5);\n",
    "my $p = primitive-root($n);\n",
    "\n",
    "(:$n, :$p)"
   ],
   "outputs": [],
   "execution_count": null
  },
  {
   "cell_type": "code",
   "metadata": {},
   "source": [
    "primitive-root-list($n);"
   ],
   "outputs": [],
   "execution_count": null
  },
  {
   "cell_type": "markdown",
   "metadata": {},
   "source": [
    "Make the edges of a weighted graph -- the weights show the number of times `power-mod` jumps from one power to another:"
   ]
  },
  {
   "cell_type": "code",
   "metadata": {},
   "source": [
    "my @edges = (1..$n).map({ power-mod($p, $_, $n).Str => power-mod($p, $_ + 1, $n).Str }).classify(*).map({ %(from => $_.key.key, to => $_.key.value, weight => $_.value.elems) });\n",
    "\n",
    "deduce-type(@edges)"
   ],
   "outputs": [],
   "execution_count": null
  },
  {
   "cell_type": "markdown",
   "metadata": {},
   "source": [
    "Plot the graph:"
   ]
  },
  {
   "cell_type": "code",
   "metadata": {},
   "source": [
    "#%html\n",
    "my $g = Graph.new(@edges, :directed-edges);\n",
    "\n",
    "$g.dot(background => 'none', engine => 'neato'):svg"
   ],
   "outputs": [],
   "execution_count": null
  },
  {
   "cell_type": "markdown",
   "metadata": {},
   "source": [
    "----\n",
    "\n",
    "## Modular inverse"
   ]
  },
  {
   "cell_type": "code",
   "metadata": {},
   "source": [
    "#% js\n",
    "my $n = 10;\n",
    "my @a = ((1..$n) X (1..$n)).map({ not so modular-inverse($_.head + $_.tail ** 2, 12) })».Int.rotor($n);\n",
    "\n",
    "js-d3-matrix-plot(@a, width => 400, height => 400, :!grid-lines, color-palette => 'Blues')"
   ],
   "outputs": [],
   "execution_count": null
  },
  {
   "cell_type": "markdown",
   "metadata": {},
   "source": [
    "----\n",
    "\n",
    "## π(x) (prime-pi)"
   ]
  },
  {
   "cell_type": "markdown",
   "metadata": {},
   "source": [
    "$\\pi(x)$ has the asymptotic expansion $x/log(x) + x/log^2(x)+2 x/log^3(x) + ... $ as $x \\rightarrow \\propto$."
   ]
  },
  {
   "cell_type": "code",
   "metadata": {},
   "source": [
    "#% js\n",
    "my @data = (1..150).map({ %( group => 'x/log(x)', x => $_, y => $_ / log($_) ) });\n",
    "@data .= append: (1..150).map({ %( group => 'π(x)', x => $_, y => prime-pi($_) ) });\n",
    "js-d3-list-line-plot(@data, background => 'none', width => 700, height => 300)"
   ],
   "outputs": [],
   "execution_count": null
  },
  {
   "cell_type": "markdown",
   "metadata": {},
   "source": [
    "Ulam spiral colored based on the difference in PrimePi values: "
   ]
  },
  {
   "cell_type": "code",
   "metadata": {},
   "source": [
    "my $method = 'Legendre';\n",
    "my @mat = spiral-lattice(101).deepmap({ prime-pi($_ + 10, :$method) - prime-pi($_, :$method) });\n",
    "\n",
    "deduce-type(@mat)"
   ],
   "outputs": [],
   "execution_count": null
  },
  {
   "cell_type": "code",
   "metadata": {},
   "source": [
    "#% js\n",
    "js-d3-matrix-plot(@mat, width => 400, height => 400, :!grid-lines, color-palette => 'Rainbow')"
   ],
   "outputs": [],
   "execution_count": null
  },
  {
   "cell_type": "markdown",
   "metadata": {},
   "source": [
    "-----\n",
    "\n",
    "## Next prime"
   ]
  },
  {
   "cell_type": "markdown",
   "metadata": {},
   "source": [
    "Sunflower seed representation of `next-prime`:"
   ]
  },
  {
   "cell_type": "code",
   "metadata": {},
   "source": [
    "my @sunflower = (1..15000).map({ .&next-prime }).map({\n",
    "    my $a = $_;\n",
    "    my $angle = ((2 * π * $a) / (phi ** 2));\n",
    "    [ sqrt($a) * cos($angle), sqrt($a) * sin($angle) ]\n",
    "});\n",
    "\n",
    "deduce-type(@sunflower)"
   ],
   "outputs": [],
   "execution_count": null
  },
  {
   "cell_type": "code",
   "metadata": {},
   "source": [
    "#% js\n",
    "js-d3-list-plot(@sunflower, \n",
    "    background => 'none',\n",
    "    point-size => 3,\n",
    "    stroke-color => 'PaleGoldenrod', \n",
    "    width => 400, height => 400, \n",
    "    :!axes, \n",
    ")"
   ],
   "outputs": [],
   "execution_count": null
  }
 ],
 "metadata": {
  "kernelspec": {
   "display_name": "RakuChatbook",
   "language": "raku",
   "name": "raku"
  },
  "language_info": {
   "file_extension": ".raku",
   "mimetype": "text/x-raku",
   "name": "raku",
   "version": "6.d"
  }
 },
 "nbformat": 4,
 "nbformat_minor": 2
}
