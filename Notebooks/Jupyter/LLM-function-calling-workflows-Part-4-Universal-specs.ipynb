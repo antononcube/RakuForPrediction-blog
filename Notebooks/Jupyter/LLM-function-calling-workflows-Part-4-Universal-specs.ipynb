{
 "cells": [
  {
   "cell_type": "markdown",
   "id": "dcb093c5",
   "metadata": {},
   "source": [
    "# LLM function calling workflows (Part 4, Universal specs)\n",
    "\n",
    "Anton Antonov   \n",
    "[RakuForPrediction at WordPress](https://rakuforprediction.wordpress.com)   \n",
    "September 2025"
   ]
  },
  {
   "cell_type": "markdown",
   "id": "fc255d8f",
   "metadata": {},
   "source": [
    "-----\n",
    "\n",
    "## Introduction"
   ]
  },
  {
   "cell_type": "markdown",
   "id": "04e8bf87",
   "metadata": {},
   "source": [
    "This document (notebook) shows how to utilize Large Language Model (LLM) [Function Calling](https://ai.google.dev/gemini-api/docs/function-calling) with the Raku package [\"LLM::Functions\"](https://github.com/antononcube/Raku-LLM-Functions), [AAp1].\n",
    "\n",
    "\"LLM::Functions\" supports *high level* function calling via `llm-synthesize` and `llm-synthesize-with-tools`. (The latter provides more options for the tool invocation process like max-iterations or overriding tool specs.)\n",
    "\n",
    "At this point \"LLM::Functions\" supports function calling in the styles of OpenAI's ChatGPT and Google's Gemini. If the LLM configuration is not set with the names \"ChatGPT\" or \"Gemini\", then the function calling style used is that of ChatGPT. (Many LLM providers -- other than OpenAI and Gemini -- tend to adhere to OpenAI's API.)\n",
    "\n",
    "**Remark:** LLM \"function calling\" is also known as LLM \"tools\" or \"LLM tool invocation.\"\n",
    "\n",
    "In this document, non-trivial Stoichiometry computations are done with the Raku package [\"Chemistry::Stoichiometry\"](https://raku.land/zef:antononcube/Chemistry::Stoichiometry), [AAp4]. Related plots are done with the Raku package [\"JavaScript::D3\"](https://raku.land/zef:antononcube/JavaScript::D3), [AAp6]."
   ]
  },
  {
   "cell_type": "markdown",
   "id": "b198e2a3",
   "metadata": {},
   "source": [
    "### Big picture\n",
    "\n",
    "Inversion of control is a way to characterize LLM function calling. This means the LLM invokes functions or subroutines that operate on an external system, such as a local computer, rather than within the LLM provider's environment. See the section \"Outline of the overall process\" of [\"LLM function calling workflows (Part 1, OpenAI)\"](https://rakuforprediction.wordpress.com/2025/06/01/llm-function-calling-workflows-part-1-openai/), [AA1]."
   ]
  },
  {
   "cell_type": "markdown",
   "id": "5a37ef4f",
   "metadata": {},
   "source": [
    "### The whole series\n",
    "\n",
    "This document is the fourth of the [LLM function calling series](https://rakuforprediction.wordpress.com/tag/llm-function-calling/), [AA1 ÷ AA4]. The other three show lower-level LLM function calling workflows.\n",
    "\n",
    "Here are all blog posts of the series:\n",
    "\n",
    "1. [\"LLM function calling workflows (Part 1, OpenAI)\"](https://rakuforprediction.wordpress.com/2025/06/01/llm-function-calling-workflows-part-1-openai/)\n",
    "2. [\"LLM function calling workflows (Part 2, Google’s Gemini)\"](https://rakuforprediction.wordpress.com/2025/06/07/llm-function-calling-workflows-part-2-googles-gemini/)\n",
    "3. [\"LLM function calling workflows (Part 3, Facilitation)\"](https://rakuforprediction.wordpress.com/2025/06/08/llm-function-calling-workflows-part-3-facilitation/)\n",
    "4. [\"LLM function calling workflows (Part 4, Universal specs)\"](https://rakuforprediction.wordpress.com/2025/09/28/llm-function-calling-workflows-part-4-universal-specs/)"
   ]
  },
  {
   "cell_type": "markdown",
   "id": "7af81bdc",
   "metadata": {},
   "source": [
    "### Overall comments and observations\n",
    "\n",
    "- Raku's constellation of LLM packages was behind with the LLM tools.\n",
    "    - There are two main reasons for this:\n",
    "        - For a long period of time (say, 2023 & 2024) LLM tool invocation was unreliable.\n",
    "            - Meaning, tools were invoked (or not) in an unexpected manner.\n",
    "        - Different LLM providers use similar but different protocols for LLM tooling.\n",
    "            - And that poses \"interesting\" development choices. (Architecture and high-level signatures.)\n",
    "- At this point, LLM providers have more reliable LLM tool invocation.\n",
    "    - And API parameters that postulate (or force) tool invocation behavior.\n",
    "    - Still, not 100% reliable or expected.\n",
    "- In principle, LLM function calling can be replaced by using LLM graphs, [AA5].\n",
    "    - Though, at this point `llm-graph` provides computation over acyclic graphs only.\n",
    "    - On the other hand, `llm-synthesize` and `llm-synthesize-with-tools` use loops for multiple iterations over the tool invocation.\n",
    "        - Again, the tool is external to the LLM. Tools are (most likely) running on \"local\" computers.\n",
    "- In Raku, LLM tooling specs can be (nicely) derived by introspection.\n",
    "    - So, package developers are encouraged to use declarator blocks as much as possible.\n",
    "    - Very often, though, it is easier to write an adapter function with specific (or simplified) input parameters.\n",
    "        - See the last section \"Adding plot tools\".\n",
    "- The package \"LLM::Functions\" provides a system of classes and subs that facilitate LLM function calling, [AA3].\n",
    "    - See the namespace `LLM::Tooling`:\n",
    "        - Classes: `LLM::Tool`, `LLM::ToolRequest`, `LLM::ToolResponse`.\n",
    "        - Subs: `sub-info`, `llm-tool-definition`, `generate-llm-tool-response`, `llm-tool-request`.\n",
    "    - A new LLM tool for the sub `&f` can be easily created with `LLM::Tool.new(&f)`.\n",
    "        - `LLM::Tool` uses `llm-tool-definition` which, in turn, uses `sub-info`.\n"
   ]
  },
  {
   "cell_type": "markdown",
   "id": "76407dbd",
   "metadata": {},
   "source": [
    "### Outline\n",
    "\n",
    "Here is an outline of the exposition below:\n",
    "\n",
    "- **Setup**   \n",
    "  Computation environment setup\n",
    "- **Chemistry computations examples**   \n",
    "  Stoichiometry computations demonstrations\n",
    "- **Define package functions as tools**     \n",
    "  Show how to define LLM-tools\n",
    "- **Stoichiometry by LLM**   \n",
    "  Invoking LLM requests with LLM tools\n",
    "- **\"Thoughtful\" response**    \n",
    "  Elaborated LLM answer based in LLM tools results\n",
    "- **Adding plot tools**     \n",
    "  Enhancing the LLM answers with [D3.js](https://d3js.org) plots"
   ]
  },
  {
   "cell_type": "markdown",
   "id": "5a874186",
   "metadata": {},
   "source": [
    "-----\n",
    "\n",
    "## Setup"
   ]
  },
  {
   "cell_type": "markdown",
   "id": "097abe6f",
   "metadata": {},
   "source": [
    "Load packages:"
   ]
  },
  {
   "cell_type": "code",
   "execution_count": 1,
   "id": "95d84f7a",
   "metadata": {},
   "outputs": [],
   "source": [
    "use JSON::Fast;\n",
    "use LLM::Functions;\n",
    "use LLM::Tooling;\n",
    "use Chemistry::Stoichiometry;\n"
   ]
  },
  {
   "cell_type": "markdown",
   "id": "e0e10660",
   "metadata": {},
   "source": [
    "Define LLM access configurations:"
   ]
  },
  {
   "cell_type": "code",
   "execution_count": 2,
   "id": "8d96238d",
   "metadata": {},
   "outputs": [],
   "source": [
    "sink my $conf5-mini = llm-configuration('ChatGPT', model => 'gpt-5-mini');\n",
    "sink my $conf41-mini = llm-configuration('ChatGPT', model => 'gpt-4.1-mini', :8192max-tokens, temperature => 0.4);\n",
    "sink my $conf-gemini-flash = llm-configuration('Gemini', model => 'gemini-2.0-flash', :8192max-tokens, temperature => 0.4);"
   ]
  },
  {
   "cell_type": "markdown",
   "id": "6efae8bb",
   "metadata": {},
   "source": [
    "### JavaScript::D3"
   ]
  },
  {
   "cell_type": "code",
   "execution_count": 3,
   "id": "78f89d5c",
   "metadata": {},
   "outputs": [
    {
     "data": {
      "application/javascript": "require.config({\n     paths: {\n     d3: 'https://d3js.org/d3.v7.min'\n}});\n\nrequire(['d3'], function(d3) {\n     console.log(d3);\n});"
     },
     "execution_count": 3,
     "metadata": {},
     "output_type": "execute_result"
    }
   ],
   "source": [
    "#%javascript\n",
    "require.config({\n",
    "     paths: {\n",
    "     d3: 'https://d3js.org/d3.v7.min'\n",
    "}});\n",
    "\n",
    "require(['d3'], function(d3) {\n",
    "     console.log(d3);\n",
    "});"
   ]
  },
  {
   "cell_type": "code",
   "execution_count": 4,
   "id": "131a8ead",
   "metadata": {},
   "outputs": [
    {
     "data": {
      "application/javascript": "(function(element) { require(['d3'], function(d3) {\n\n// set the dimensions and margins of the graph\nvar margin = {\"bottom\":40,\"left\":40,\"right\":40,\"top\":40},\n    width = 600 - margin.left - margin.right,\n    height = 400 - margin.top - margin.bottom;\n\n// append the svg object to the body of the page\nvar svg = d3\n   .select(element.get(0))\n  .append(\"svg\")\n    .attr(\"width\", width + margin.left + margin.right)\n    .attr(\"height\", height + margin.top + margin.bottom)\n    .style(\"background\", \"none\")\n  .append(\"g\")\n    .attr(\"transform\",\n          \"translate(\" + margin.left + \",\" + margin.top + \")\")\n\n// Obtain title\nvar title = \"\"\nvar titleFontSize = 16\n\nif ( title.length > 0 ) {\n    svg.append(\"text\")\n        .attr(\"x\", (width / 2))\n        .attr(\"y\", 0 - (margin.top / 2))\n        .attr(\"text-anchor\", \"middle\")\n        .style(\"font-size\", titleFontSize.toString() + \"px\")\n        .style(\"fill\", \"Black\")\n        .text(title);\n}\n\n// Obtain x-axis label\nvar xAxisLabel = \"\"\nvar xAxisLabelFontSize = 12\n\nif ( xAxisLabel.length > 0 ) {\n    svg.append(\"text\")\n        .attr(\"x\", (width / 2))\n        .attr(\"y\", height + margin.bottom - xAxisLabelFontSize/2)\n        .attr(\"text-anchor\", \"middle\")\n        .style(\"font-size\", xAxisLabelFontSize.toString() + \"px\")\n        .style(\"fill\", \"Black\")\n        .text(xAxisLabel);\n}\n\n// Obtain y-axis label\nvar yAxisLabel = \"\"\nvar yAxisLabelFontSize = 12\n\nif ( yAxisLabel.length > 0 ) {\n    svg.append(\"text\")\n        .attr(\"transform\", \"rotate(-90)\")\n        .attr(\"x\", - (height / 2))\n        .attr(\"y\", 0 - margin.left + yAxisLabelFontSize)\n        .attr(\"text-anchor\", \"middle\")\n        .style(\"font-size\", yAxisLabelFontSize.toString() + \"px\")\n        .style(\"fill\", \"Black\")\n        .text(yAxisLabel);\n}\n\n\n// Obtain data\nvar data = [{\"y\":1.9953408896283131e0,\"x\":1},{\"y\":9.622104163166743e0,\"x\":2},{\"x\":3,\"y\":5.134638275374405e0},{\"x\":4,\"y\":7.802293827269963e0},{\"y\":1.1901632741603496e0,\"x\":5},{\"y\":6.179070386395144e0,\"x\":6},{\"y\":5.753872349578081e0,\"x\":7},{\"y\":8.286616637699652e0,\"x\":8},{\"y\":0.10894557732751053e0,\"x\":9},{\"x\":10,\"y\":2.497144545486736e0},{\"y\":9.234437695286548e0,\"x\":11},{\"x\":12,\"y\":0.09749932736717537e0},{\"x\":13,\"y\":4.519336703198809e0},{\"x\":14,\"y\":6.822986340179562e0},{\"y\":5.883268291485578e0,\"x\":15},{\"x\":16,\"y\":5.8699363108530225e0},{\"y\":5.0731547483168224e0,\"x\":17},{\"y\":5.579524900895604e0,\"x\":18},{\"y\":0.7367805785719916e0,\"x\":19},{\"y\":5.002768220076451e0,\"x\":20},{\"x\":21,\"y\":1.2031055709334781e0},{\"x\":22,\"y\":7.926484165999195e0},{\"y\":9.699684812864682e0,\"x\":23},{\"x\":24,\"y\":6.441394565189025e0},{\"x\":25,\"y\":8.7405066293784e0},{\"x\":26,\"y\":5.04972267734891e0},{\"y\":4.807147398358952e0,\"x\":27},{\"x\":28,\"y\":3.464642387338329e0},{\"x\":29,\"y\":5.6894620038368435e0},{\"y\":1.3004832013494794e0,\"x\":30}]\n\nvar xMin = Math.min.apply(Math, data.map(function(o) { return o.x; }))\nvar xMax = Math.max.apply(Math, data.map(function(o) { return o.x; }))\n\nvar yMin = Math.min.apply(Math, data.map(function(o) { return o.y; }))\nvar yMax = Math.max.apply(Math, data.map(function(o) { return o.y; }))\n\n// X scale and Axis\nvar x = d3.scaleLinear()\n    .domain([xMin, xMax])\n    .range([0, width]);\n\n// Y scale and Axis\nvar y = d3.scaleLinear()\n    .domain([yMin, yMax])\n    .range([height, 0]);\n\nsvg\n  .append('g')\n  .attr(\"transform\", \"translate(0,\" + height + \")\")\n  .call(d3.axisBottom(x))\n\nsvg\n  .append('g')\n  .call(d3.axisLeft(y));\n\n// prepare a helper function\nvar lineFunc = d3.line()\n  .x(function(d) { return x(d.x) })\n  .y(function(d) { return y(d.y) })\n\n// Add the path using this helper function\nsvg.append('path')\n  .attr('d', lineFunc(data))\n  .attr(\"stroke-width\", 1.5)\n  .attr('stroke', \"SteelBlue\")\n  .attr('fill', 'none');\n\n}) })(element);\n"
     },
     "execution_count": 4,
     "metadata": {},
     "output_type": "execute_result"
    }
   ],
   "source": [
    "#%js\n",
    "js-d3-list-line-plot(10.rand xx 30, background => 'none')"
   ]
  },
  {
   "cell_type": "markdown",
   "id": "bb69d7f9",
   "metadata": {},
   "source": [
    "---\n",
    "\n",
    "## Chemistry computations examples"
   ]
  },
  {
   "cell_type": "markdown",
   "id": "fa70b59d",
   "metadata": {},
   "source": [
    "The package [\"Chemistry::Stoichiometry\"](https://raku.land/zef:antononcube/Chemistry::Stoichiometry), [AAp4], provides element data, a grammar (or parser) for chemical formulas, and subs for computing molecular masses and balancing equations. Here is an example of calling `molecular-mass`:"
   ]
  },
  {
   "cell_type": "code",
   "execution_count": 5,
   "id": "b4ed17f7",
   "metadata": {},
   "outputs": [
    {
     "data": {
      "text/plain": [
       "64.058"
      ]
     },
     "execution_count": 5,
     "metadata": {},
     "output_type": "execute_result"
    }
   ],
   "source": [
    "molecular-mass(\"SO2\")"
   ]
  },
  {
   "cell_type": "markdown",
   "id": "12663452",
   "metadata": {},
   "source": [
    "Balance chemical equation:"
   ]
  },
  {
   "cell_type": "code",
   "execution_count": 6,
   "id": "d2925844",
   "metadata": {},
   "outputs": [
    {
     "data": {
      "text/plain": [
       "[4*Al + 3*O2 -> 2*Al2O3]"
      ]
     },
     "execution_count": 6,
     "metadata": {},
     "output_type": "execute_result"
    }
   ],
   "source": [
    "'Al + O2 -> Al2O3'\n",
    "==> balance-chemical-equation"
   ]
  },
  {
   "cell_type": "markdown",
   "id": "08330d81",
   "metadata": {},
   "source": [
    "----\n",
    "\n",
    "## Define package functions as tools"
   ]
  },
  {
   "cell_type": "markdown",
   "id": "ea8d1593",
   "metadata": {},
   "source": [
    "Define a few tools based in chemistry computations subs:"
   ]
  },
  {
   "cell_type": "code",
   "execution_count": 7,
   "id": "2a2299a6",
   "metadata": {},
   "outputs": [
    {
     "name": "stderr",
     "output_type": "stream",
     "text": [
      "Undefined type of parameter ⎡$spec⎦; continue assuming it is a string.\n"
     ]
    }
   ],
   "source": [
    "sink my @tools =\n",
    "        LLM::Tool.new(&molecular-mass),\n",
    "        LLM::Tool.new(&balance-chemical-equation)\n",
    "        ;"
   ]
  },
  {
   "cell_type": "markdown",
   "id": "793f0e8e",
   "metadata": {},
   "source": [
    "Make an LLM configuration with the LLM-tools:"
   ]
  },
  {
   "cell_type": "code",
   "execution_count": 8,
   "id": "60f96f70",
   "metadata": {},
   "outputs": [],
   "source": [
    "sink my $conf = llm-configuration($conf41-mini, :@tools);"
   ]
  },
  {
   "cell_type": "markdown",
   "id": "6e509691",
   "metadata": {},
   "source": [
    "**Remark:** When `llm-synthesize` is given LLM configurations with LLM tools, it hands over the process to `llm-synthesize-with-tools`. This function then begins the LLM-tool interaction loop."
   ]
  },
  {
   "cell_type": "markdown",
   "id": "d890307e",
   "metadata": {},
   "source": [
    "-----\n",
    "\n",
    "## Stoichiometry by LLM"
   ]
  },
  {
   "cell_type": "markdown",
   "id": "c73a889a",
   "metadata": {},
   "source": [
    "Here is a prompt requesting to compute molecular masses and to balance a certain chemical equation:"
   ]
  },
  {
   "cell_type": "code",
   "execution_count": 9,
   "id": "b4866292",
   "metadata": {},
   "outputs": [],
   "source": [
    "sink my $input = \"What are the masses of SO2, O3, and C2H5OH? Also balance: C2H5OH + O2 = H2O + CO2.\""
   ]
  },
  {
   "cell_type": "markdown",
   "id": "d3453645",
   "metadata": {},
   "source": [
    "The LLM invocation and result:"
   ]
  },
  {
   "cell_type": "code",
   "execution_count": 10,
   "id": "b8519304",
   "metadata": {},
   "outputs": [
    {
     "data": {
      "text/plain": [
       "{balanced_equation => 1*C2H5OH + 3*O2 -> 2*CO2 + 3*H2O, masses => {C2H5OH => 46.069, O3 => 47.997, SO2 => 64.058}}"
      ]
     },
     "execution_count": 10,
     "metadata": {},
     "output_type": "execute_result"
    }
   ],
   "source": [
    "llm-synthesize(\n",
    "        [$input, llm-prompt('NothingElse')('JSON')],\n",
    "        e => $conf, \n",
    "        form => sub-parser('JSON'):drop)"
   ]
  },
  {
   "cell_type": "markdown",
   "id": "fbe4f87d",
   "metadata": {},
   "source": [
    "**Remark:** It order to see the LLM-tool interaction use the Boolean option (adverb) `:echo` of `llm-synthesize`."
   ]
  },
  {
   "cell_type": "markdown",
   "id": "b882b061",
   "metadata": {},
   "source": [
    "--- \n",
    "\n",
    "## \"Thoughtful\" response"
   ]
  },
  {
   "cell_type": "markdown",
   "id": "3db735f6",
   "metadata": {},
   "source": [
    "Here is a very informative, \"thoughtful\" response for a quantitative Chemistry question:"
   ]
  },
  {
   "cell_type": "code",
   "execution_count": 11,
   "id": "1da4d8a4",
   "metadata": {},
   "outputs": [
    {
     "data": {
      "text/markdown": [
       "To find the number of molecules in a kilogram of water, we follow these steps:\n",
       "\n",
       "1. Calculate the molar mass of water (H₂O):\n",
       "   $$\n",
       "   M = 18.015 \\, \\text{g/mol}\n",
       "   $$\n",
       "\n",
       "2. Convert 1 kilogram of water to grams:\n",
       "   $$\n",
       "   1 \\, \\text{kg} = 1000 \\, \\text{g}\n",
       "   $$\n",
       "\n",
       "3. Calculate the number of moles in 1 kilogram of water:\n",
       "   $$\n",
       "   n = \\frac{1000 \\, \\text{g}}{18.015 \\, \\text{g/mol}} \\approx 55.51 \\, \\text{mol}\n",
       "   $$\n",
       "\n",
       "4. Use Avogadro's number to find the number of molecules:\n",
       "   $$\n",
       "   N_A = 6.022 \\times 10^{23} \\, \\text{molecules/mol}\n",
       "   $$\n",
       "   $$\n",
       "   N = n \\times N_A = 55.51 \\times 6.022 \\times 10^{23} \\approx 3.34 \\times 10^{25} \\, \\text{molecules}\n",
       "   $$\n",
       "\n",
       "So, 1 kilogram of water contains approximately $3.34 \\times 10^{25}$ molecules."
      ]
     },
     "execution_count": 11,
     "metadata": {},
     "output_type": "execute_result"
    }
   ],
   "source": [
    "#% markdown\n",
    "my $input = \"How many molecules a kilogram of water has? Use LaTeX for the formulas. (If any.)\";\n",
    "\n",
    "llm-synthesize($input, e => $conf)\n",
    "==> { .subst(/'\\[' | '\\]'/, '$$', :g).subst(/'\\(' | '\\)'/, '$', :g) }() # Make sure LaTeX code has proper fences"
   ]
  },
  {
   "cell_type": "markdown",
   "id": "c5ff9332",
   "metadata": {},
   "source": [
    "---\n",
    "\n",
    "## Adding plot tools"
   ]
  },
  {
   "cell_type": "markdown",
   "id": "7826485c",
   "metadata": {},
   "source": [
    "It would be interesting (or fancy) to add a plotting tool. We can use `text-list-plot` of [\"Text::Plot\"](https://raku.land/zef:antononcube/Text::Plot), [AAp5], or \n",
    "`js-d3-list-plot` of [\"JavaScript::D3\"](https://raku.land/zef:antononcube/JavaScript::D3), [AAp6].\n",
    "For both, the automatically derived tool specs -- via the sub `llm-tool-definition` used by `LLM::Tool` -- are somewhat incomplete. Here is the auto-result for `js-d3-list-plot`:"
   ]
  },
  {
   "cell_type": "code",
   "execution_count": 12,
   "id": "f4d5932a",
   "metadata": {},
   "outputs": [
    {
     "name": "stderr",
     "output_type": "stream",
     "text": [
      "Undefined type of parameter ⎡$data⎦; continue assuming it is a string.\n",
      "Undefined type of parameter ⎡⎦; continue assuming it is a string.\n"
     ]
    },
    {
     "data": {
      "text/plain": [
       "{\n",
       "  \"function\": {\n",
       "    \"strict\": true,\n",
       "    \"parameters\": {\n",
       "      \"additionalProperties\": false,\n",
       "      \"required\": [\n",
       "        \"$data\",\n",
       "        \"\"\n",
       "      ],\n",
       "      \"type\": \"object\",\n",
       "      \"properties\": {\n",
       "        \"$data\": {\n",
       "          \"description\": \"\",\n",
       "          \"type\": \"string\"\n",
       "        },\n",
       "        \"\": {\n",
       "          \"description\": \"\",\n",
       "          \"type\": \"string\"\n",
       "        }\n",
       "      }\n",
       "    },\n",
       "    \"type\": \"function\",\n",
       "    \"name\": \"js-d3-list-plot\",\n",
       "    \"description\": \"Makes a list plot (scatter plot) for a list of numbers or a list of x-y coordinates.\"\n",
       "  },\n",
       "  \"type\": \"function\"\n",
       "}"
      ]
     },
     "execution_count": 12,
     "metadata": {},
     "output_type": "execute_result"
    }
   ],
   "source": [
    "#llm-tool-definition(&text-list-plot)\n",
    "llm-tool-definition(&js-d3-list-plot)"
   ]
  },
  {
   "cell_type": "markdown",
   "id": "b5104a60",
   "metadata": {},
   "source": [
    "The automatic tool-spec for `js-d3-list-plot` can be replaced with this spec:\n",
    "\n",
    "```raku\n",
    "my $spec = q:to/END/;\n",
    "{\n",
    "  \"type\": \"function\",\n",
    "  \"function\": {\n",
    "    \"name\": \"jd-d3-list-plot\",\n",
    "    \"description\": \"Creates D3.js code for a list-plot of the given arguments.\",\n",
    "    \"parameters\": {\n",
    "      \"type\": \"object\",\n",
    "      \"properties\": {\n",
    "        \"$x\": {\n",
    "          \"type\": \"array\",\n",
    "          \"description\": \"A list of a list of x-coordinates or x-labels\",\n",
    "          \"items\": {\n",
    "            \"anyOf\": [\n",
    "              { \"type\": \"string\" },\n",
    "              { \"type\": \"number\" }\n",
    "            ]\n",
    "          }\n",
    "        }\n",
    "        \"$y\": {\n",
    "          \"type\": \"array\",\n",
    "          \"description\": \"A list of y-coordinates\",\n",
    "          \"items\": {\n",
    "            \"type\": \"number\"\n",
    "          }\n",
    "        }\n",
    "      },\n",
    "      \"required\": [\"$x\", \"$y\"]\n",
    "    }\n",
    "  }\n",
    "}\n",
    "END\n",
    "\n",
    "my $t = LLM::Tool.new(&text-list-plot);\n",
    "$t.json-spec = $spec;\n",
    "```\n"
   ]
  },
  {
   "cell_type": "markdown",
   "id": "2441266e",
   "metadata": {},
   "source": [
    "Though, it is easier and more robust to define a new function that delegates to `js-d3-list-plot` -- or other plotting function -- and does some additional input processing that anticipates LLM derived argument values:"
   ]
  },
  {
   "cell_type": "code",
   "execution_count": 13,
   "id": "022e1a02",
   "metadata": {},
   "outputs": [
    {
     "data": {
      "text/plain": [
       "&data-plot"
      ]
     },
     "execution_count": 13,
     "metadata": {},
     "output_type": "execute_result"
    }
   ],
   "source": [
    "#| Make a string that represents a list-plot of the given arguments.\n",
    "my sub data-plot(\n",
    "    Str:D $x,             #= A list of comma separated x-coordinates or x-labels\n",
    "    Str:D $y,             #= A list of comma separated y-coordinates\n",
    "    Str:D :$x-label = '', #= Label of the x-axis\n",
    "    Str:D :$y-label = '', #= Label of the y-axis\n",
    "    Str:D :$title = '',   #= Plot title\n",
    "    ) {\n",
    "  \n",
    "    my @x = $x.split(/<[\\[\\],\"]>/, :skip-empty)».trim.grep(*.chars);\n",
    "    my @y = $y.split(/<[\\[\\],\"]>/, :skip-empty)».trim».Num;\n",
    "      \n",
    "    my @points = (@x Z @y).map({ %( variable => $_.head, value => $_.tail ) });\n",
    "    js-d3-bar-chart(@points, :$x-label, :$y-label, title-color => 'Gray', background => '#1F1F1F', :grid-lines)\n",
    "}"
   ]
  },
  {
   "cell_type": "markdown",
   "id": "6de86a4c",
   "metadata": {},
   "source": [
    "Here we add the new tool to the tool list above:"
   ]
  },
  {
   "cell_type": "code",
   "execution_count": 14,
   "id": "33b64c6f",
   "metadata": {},
   "outputs": [
    {
     "name": "stderr",
     "output_type": "stream",
     "text": [
      "Undefined type of parameter ⎡$spec⎦; continue assuming it is a string.\n"
     ]
    }
   ],
   "source": [
    "sink my @tool-objects =\n",
    "        LLM::Tool.new(&molecular-mass),\n",
    "        LLM::Tool.new(&balance-chemical-equation),\n",
    "        LLM::Tool.new(&data-plot);"
   ]
  },
  {
   "cell_type": "markdown",
   "id": "e3c63317",
   "metadata": {},
   "source": [
    "Here we make an LLM request for chemical molecules masses calculation and corresponding plotting -- note that require to obtain a dictionary of the masses and plot:"
   ]
  },
  {
   "cell_type": "code",
   "execution_count": 15,
   "id": "c21106ab",
   "metadata": {},
   "outputs": [
    {
     "data": {
      "text/plain": [
       "Struct([masses, plot], [Hash, Str])"
      ]
     },
     "execution_count": 15,
     "metadata": {},
     "output_type": "execute_result"
    }
   ],
   "source": [
    "my $input = q:to/END/;\n",
    "What are the masses of SO2, O3, Mg2, and C2H5OH? \n",
    "Make a plot the obtained quantities: x-axes for the molecules, y-axis for the masses.\n",
    "The plot has to have appropriate title and axes labels.\n",
    "Return a JSON dictionary with keys \"masses\" and \"plot\".\n",
    "END\n",
    "\n",
    "# LLM configuration with tools\n",
    "my $conf = llm-configuration($conf41-mini, tools => @tool-objects);\n",
    "\n",
    "# LLM invocation\n",
    "my $res = llm-synthesize([\n",
    "        $input, \n",
    "        llm-prompt('NothingElse')('JSON')\n",
    "    ], \n",
    "    e => $conf,\n",
    "    form => sub-parser('JSON'):drop\n",
    ");\n",
    "\n",
    "# Type/structure of the result\n",
    "deduce-type($res)"
   ]
  },
  {
   "cell_type": "markdown",
   "id": "aad3bd04",
   "metadata": {},
   "source": [
    "Here are result's molecule masses:"
   ]
  },
  {
   "cell_type": "code",
   "execution_count": 16,
   "id": "a3a6c8f7",
   "metadata": {},
   "outputs": [
    {
     "data": {
      "text/plain": [
       "{C2H5OH => 46.069, Mg2 => 48.61, O3 => 47.997, SO2 => 64.058}"
      ]
     },
     "execution_count": 16,
     "metadata": {},
     "output_type": "execute_result"
    }
   ],
   "source": [
    "$res<masses>"
   ]
  },
  {
   "cell_type": "markdown",
   "id": "d6ec1c2f",
   "metadata": {},
   "source": [
    "Here is the corresponding plot:"
   ]
  },
  {
   "cell_type": "code",
   "execution_count": 17,
   "id": "e8cf0f80",
   "metadata": {},
   "outputs": [
    {
     "data": {
      "application/javascript": "(function(element) { require(['d3'], function(d3) {\n\n// set the dimensions and margins of the graph\nvar margin = {\"right\":40,\"top\":40,\"bottom\":40,\"left\":40},\n    width = 600 - margin.left - margin.right,\n    height = 400 - margin.top - margin.bottom;\n\n// append the svg object to the body of the page\nvar svg = d3\n   .select(element.get(0))\n  .append(\"svg\")\n    .attr(\"width\", width + margin.left + margin.right)\n    .attr(\"height\", height + margin.top + margin.bottom)\n    .style(\"background\", \"#1F1F1F\")\n  .append(\"g\")\n    .attr(\"transform\",\n          \"translate(\" + margin.left + \",\" + margin.top + \")\")\n\n// Obtain title\nvar title = \"\"\nvar titleFontSize = 16\n\nif ( title.length > 0 ) {\n    svg.append(\"text\")\n        .attr(\"x\", (width / 2))\n        .attr(\"y\", 0 - (margin.top / 2))\n        .attr(\"text-anchor\", \"middle\")\n        .style(\"font-size\", titleFontSize.toString() + \"px\")\n        .style(\"fill\", \"Gray\")\n        .text(title);\n}\n\n// Obtain x-axis label\nvar xAxisLabel = \"Molecule\"\nvar xAxisLabelFontSize = 12\n\nif ( xAxisLabel.length > 0 ) {\n    svg.append(\"text\")\n        .attr(\"x\", (width / 2))\n        .attr(\"y\", height + margin.bottom - xAxisLabelFontSize/2)\n        .attr(\"text-anchor\", \"middle\")\n        .style(\"font-size\", xAxisLabelFontSize.toString() + \"px\")\n        .style(\"fill\", \"Gray\")\n        .text(xAxisLabel);\n}\n\n// Obtain y-axis label\nvar yAxisLabel = \"Molecular Mass (g/mol)\"\nvar yAxisLabelFontSize = 12\n\nif ( yAxisLabel.length > 0 ) {\n    svg.append(\"text\")\n        .attr(\"transform\", \"rotate(-90)\")\n        .attr(\"x\", - (height / 2))\n        .attr(\"y\", 0 - margin.left + yAxisLabelFontSize)\n        .attr(\"text-anchor\", \"middle\")\n        .style(\"font-size\", yAxisLabelFontSize.toString() + \"px\")\n        .style(\"fill\", \"Gray\")\n        .text(yAxisLabel);\n}\n\n// Obtain data\nvar data = [{\"y\":64.058e0,\"x\":\"SO2\"},{\"y\":47.997e0,\"x\":\"O3\"},{\"x\":\"Mg2\",\"y\":48.61e0},{\"y\":46.069e0,\"x\":\"C2H5OH\"}]\n\nvar valueMin = Math.min.apply(Math, data.map(function(o) { return o.y; }))\nvar valueMax = Math.max.apply(Math, data.map(function(o) { return o.y; }))\n\n// X axis\nvar x = d3.scaleBand()\n  .range([ 0, width ])\n  .domain(data.map(function(d) { return d.x; }))\n  .padding(0.2);\nsvg.append(\"g\")\n  .attr(\"transform\", \"translate(0,\" + height + \")\")\n  .call(d3.axisBottom(x).ticks(5).tickSizeInner(-height))\n  .selectAll(\"text\")\n    .attr(\"transform\", \"translate(-10,0)rotate(-45)\")\n    .style(\"text-anchor\", \"end\");\n\n// Add Y axis\nvar y = d3.scaleLinear()\n  .domain([0, valueMax])\n  .range([ height, 0]);\nsvg.append(\"g\")\n  .call(d3.axisLeft(y).ticks(5).tickSizeInner(-width));\n\n// Bars\nsvg.selectAll(\"mybar\")\n  .data(data)\n  .enter()\n  .append(\"rect\")\n    .attr(\"x\", function(d) { return x(d.x); })\n    .attr(\"y\", function(d) { return y(d.y); })\n    .attr(\"width\", x.bandwidth())\n    .attr(\"height\", function(d) { return height - y(d.y); })\n    .attr(\"fill\", \"steelblue\")\n\n}) })(element);"
     },
     "execution_count": 17,
     "metadata": {},
     "output_type": "execute_result"
    }
   ],
   "source": [
    "#%js\n",
    "$res<plot>"
   ]
  },
  {
   "cell_type": "markdown",
   "id": "6e42571e",
   "metadata": {},
   "source": [
    "-----\n",
    "\n",
    "## References"
   ]
  },
  {
   "cell_type": "markdown",
   "id": "6e7d12e8",
   "metadata": {},
   "source": [
    "### Articles, blog posts\n",
    "\n",
    "[AA1] Anton Antonov,\n",
    "[\"LLM function calling workflows (Part 1, OpenAI)\"](https://rakuforprediction.wordpress.com/2025/06/01/llm-function-calling-workflows-part-1-openai/),\n",
    "(2025),\n",
    "[RakuForPrediction at WordPress](https://rakuforprediction.wordpress.com).\n",
    "\n",
    "[AA2] Anton Antonov,\n",
    "[\"LLM function calling workflows (Part 2, Google's Gemini)\"](https://rakuforprediction.wordpress.com/2025/06/01/llm-function-calling-workflows-part-2-google-gemini/),\n",
    "(2025),\n",
    "[RakuForPrediction at WordPress](https://rakuforprediction.wordpress.com).\n",
    "\n",
    "[AA3] Anton Antonov,\n",
    "[\"LLM function calling workflows (Part 3, Facilitation)\"](https://rakuforprediction.wordpress.com/2025/06/08/llm-function-calling-workflows-part-3-facilitation/),\n",
    "(2025),\n",
    "[RakuForPrediction at WordPress](https://rakuforprediction.wordpress.com).\n",
    "\n",
    "[AA4] Anton Antonov,\n",
    "[\"LLM function calling workflows (Part 4, Universal specs)\"](https://rakuforprediction.wordpress.com/2025/09/28/llm-function-calling-workflows-part-4-universal-specs/),\n",
    "(2025),\n",
    "[RakuForPrediction at WordPress](https://rakuforprediction.wordpress.com).\n",
    "\n",
    "[AA5] Anton Antonov,\n",
    "[\"LLM::Graph\"](https://rakuforprediction.wordpress.com/2025/08/23/llmgraph/),\n",
    "(2025),\n",
    "[RakuForPrediction at WordPress](https://rakuforprediction.wordpress.com).\n",
    "\n",
    "[Gem1] Google Gemini,\n",
    "[\"Gemini Developer API\"](https://ai.google.dev/gemini-api/docs).\n",
    "\n",
    "[OAI1] Open AI,\n",
    "[\"Function calling guide\"](https://platform.openai.com/docs/guides/function-calling).\n",
    "\n",
    "[WRI1] Wolfram Research, Inc.,\n",
    "[\"LLM-Related Functionality\" guide](https://reference.wolfram.com/language/guide/LLMFunctions.html).\n",
    "\n"
   ]
  },
  {
   "cell_type": "markdown",
   "id": "37641916",
   "metadata": {},
   "source": [
    "### Packages \n",
    "\n",
    "[AAp1] Anton Antonov,\n",
    "[LLM::Functions, Raku package](https://github.com/antononcube/Raku-LLM-Functions),\n",
    "(2023-2025),\n",
    "[GitHub/antononcube](https://github.com/antononcube).\n",
    "\n",
    "[AAp2] Anton Antonov,\n",
    "[WWW::OpenAI, Raku package](https://github.com/antononcube/Raku-WWW-OpenAI),\n",
    "(2023-2025),\n",
    "[GitHub/antononcube](https://github.com/antononcube).\n",
    "\n",
    "[AAp3] Anton Antonov,\n",
    "[WWW::Gemini, Raku package](https://github.com/antononcube/Raku-WWW-Gemini),\n",
    "(2023-2025),\n",
    "[GitHub/antononcube](https://github.com/antononcube).\n",
    "\n",
    "[AAp4] Anton Antonov,\n",
    "[Chemistry::Stoichiometry, Raku package](https://github.com/antononcube/Raku-Chemistry-Stoichiometry),\n",
    "(2021-2025),\n",
    "[GitHub/antononcube](https://github.com/antononcube).\n",
    "\n",
    "[AAp5] Anton Antonov,\n",
    "[Text::Plot, Raku package](https://github.com/antononcube/Raku-Text-Plot),\n",
    "(2022-2025),\n",
    "[GitHub/antononcube](https://github.com/antononcube).\n",
    "\n",
    "[AAp6] Anton Antonov,\n",
    "[JavaScript::D3, Raku package](https://github.com/antononcube/Raku-JavaScript-D3),\n",
    "(2022-2025),\n",
    "[GitHub/antononcube](https://github.com/antononcube)."
   ]
  }
 ],
 "metadata": {
  "kernelspec": {
   "display_name": "RakuChatbook",
   "language": "raku",
   "name": "raku"
  },
  "language_info": {
   "file_extension": ".raku",
   "mimetype": "text/x-raku",
   "name": "raku",
   "version": "6.d"
  }
 },
 "nbformat": 4,
 "nbformat_minor": 5
}
