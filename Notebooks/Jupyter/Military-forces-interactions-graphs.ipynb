{
 "cells": [
  {
   "cell_type": "markdown",
   "metadata": {},
   "source": [
    "# Military forces interactions graphs\n",
    "\n",
    "Anton Antonov   \n",
    "[RakuForPrediction at WordPress](https://rakuforprediction.wordpress.com)   \n",
    "March 2025"
   ]
  },
  {
   "cell_type": "markdown",
   "metadata": {},
   "source": [
    "------\n",
    "\n",
    "## Introduction"
   ]
  },
  {
   "cell_type": "markdown",
   "metadata": {},
   "source": [
    "Interesting analogies of [Rock-Paper-Scissors](https://en.wikipedia.org/wiki/Rock_paper_scissors) (RPS) hand games can be made with military forces interactions; see [AAv1]. Those analogies are easily seen using graphs. For example, the extension of the graph of Rock-Paper-Scissors-Lizard-Spock into the graph \"Chuck Norris defeats all\" is analogous to the extension of \"older\" (say, WWII) military forces interactions graphs with drones."
   ]
  },
  {
   "cell_type": "markdown",
   "metadata": {},
   "source": [
    "\n",
    "Here is the graph of *Rock-Paper-Scissors-Lizard-Spock-ChuckNorris*:\n",
    "\n",
    "<img src=\"https://raw.githubusercontent.com/antononcube/RakuForPrediction-blog/refs/heads/main/Articles/Diagrams/Rock-Paper-Scissors-extensions/04-RPS-Lizard-Spock-ChuckNorris.png\" alt=\"Chuck Norris defeats all\" width=\"300\">"
   ]
  },
  {
   "cell_type": "markdown",
   "metadata": {},
   "source": [
    "In this document (notebook), we use Raku to create graphs that show how military forces interact. We apply the know-how for making graphs for RPS-games detailed in the blog post \"Rock-Paper-Scissors extensions\", [AA1].\n"
   ]
  },
  {
   "cell_type": "markdown",
   "metadata": {},
   "source": [
    "------\n",
    "\n",
    "## Setup"
   ]
  },
  {
   "cell_type": "markdown",
   "metadata": {},
   "source": [
    "*The setup is the same as in [AA1] ([notebook](https://github.com/antononcube/RakuForPrediction-blog/blob/main/Notebooks/Jupyter/Rock-Paper-Scissors-extensions.ipynb)).*"
   ]
  },
  {
   "cell_type": "markdown",
   "metadata": {},
   "source": [
    "This notebook is a Raku-chatbook, hence, its Jupyter session pre-loads certain packages and LLM-personas."
   ]
  },
  {
   "cell_type": "code",
   "execution_count": 7,
   "metadata": {},
   "outputs": [],
   "source": [
    "# Preloaded in any chatbook\n",
    "# use LLM::Functions;\n",
    "# use LLM::Prompts;\n",
    "\n",
    "# Preloaded in a user init file\n",
    "# use Graph;\n",
    "\n",
    "# For this concrete session\n",
    "use Text::Emoji;"
   ]
  },
  {
   "cell_type": "markdown",
   "metadata": {},
   "source": [
    "LLM configurations:"
   ]
  },
  {
   "cell_type": "code",
   "execution_count": 8,
   "metadata": {},
   "outputs": [
    {
     "data": {
      "text/plain": [
       "(24 24)"
      ]
     },
     "execution_count": 8,
     "metadata": {},
     "output_type": "execute_result"
    }
   ],
   "source": [
    "my $conf4o = llm-configuration('chat-gpt', model => 'gpt-4o', :4096max-tokens, temperature => 0.4);\n",
    "my $conf4o-mini = llm-configuration('chat-gpt', model => 'gpt-4o-mini', :4096max-tokens, temperature => 0.4);\n",
    "\n",
    "($conf4o, $conf4o-mini)».Hash».elems"
   ]
  },
  {
   "cell_type": "code",
   "execution_count": 9,
   "metadata": {},
   "outputs": [
    {
     "data": {
      "text/plain": [
       "(15 15)"
      ]
     },
     "execution_count": 9,
     "metadata": {},
     "output_type": "execute_result"
    }
   ],
   "source": [
    "my $background = '#1F1F1F';\n",
    "my $engine = 'neato';\n",
    "\n",
    "my %opts =\n",
    "    :$background,     \n",
    "    :6graph-size, \n",
    "    :1edge-width,\n",
    "    :3edge-font-size,\n",
    "    edge-color => 'LightSlateGray',\n",
    "    node-width => 0.2, node-height => 0.2, \n",
    "    node-shape => 'circle', \n",
    "    :node-labels, \n",
    "    :8node-font-size,\n",
    "    node-fill-color => '#1F1F1F',\n",
    "    node-color => 'LightSlateGray',\n",
    "    node-stroke-width => 0.6,\n",
    "    arrow-size => 0.25,\n",
    "    :$engine;\n",
    "\n",
    "my %opts-plain = merge-hash(%opts, {:5node-font-size, node-shape => 'ellipse', node-width => 0.27, node-height => 0.15});\n",
    "\n",
    "(%opts, %opts-plain)».elems"
   ]
  },
  {
   "cell_type": "markdown",
   "metadata": {},
   "source": [
    "### Additional"
   ]
  },
  {
   "cell_type": "code",
   "execution_count": 10,
   "metadata": {},
   "outputs": [
    {
     "data": {
      "text/plain": [
       "&game-table"
      ]
     },
     "execution_count": 10,
     "metadata": {},
     "output_type": "execute_result"
    }
   ],
   "source": [
    "sub game-table(Graph:D $g, Str:D :$link-value = '+', Str:D :$missing-value = '-') {\n",
    "    cross-tabulate($g.edges(:dataset), <from>, <to>)\n",
    "    ==> -> %h { %h.map({ $_.key => ($g.vertex-list Z=> $_.value{$g.vertex-list}).Hash }).Hash }()\n",
    "    ==> to-dataset(:$missing-value)\n",
    "    ==> -> %h { for $g.vertex-list { %h{$_}{$_} = ''}; %h }()\n",
    "    ==> -> %h { $g.vertex-list.map({ [|%h{$_}, \"\" => $_].Hash }) }()\n",
    "    ==> to-html(field-names => [\"\", |$g.vertex-list])\n",
    "    ==> { .Str.subst('1', $link-value, :g).subst('(Any)', $missing-value, :g) }()\n",
    "}"
   ]
  },
  {
   "cell_type": "markdown",
   "metadata": {},
   "source": [
    "-----\n",
    "\n",
    "## Convenient LLM function"
   ]
  },
  {
   "cell_type": "markdown",
   "metadata": {},
   "source": [
    "We can define an LLM function that provides the graph edges dataset for different RPS variants. Here is such an LLM function using \"LLM::Functions\", [AAp1], and \"LLM::Prompts\", [AAv2]:"
   ]
  },
  {
   "cell_type": "code",
   "execution_count": 11,
   "metadata": {},
   "outputs": [
    {
     "data": {
      "text/plain": [
       "&rps-edge-dataset"
      ]
     },
     "execution_count": 11,
     "metadata": {},
     "output_type": "execute_result"
    }
   ],
   "source": [
    "my sub rps-edge-dataset($description, Str:D $game-name = 'Rock-Paper-Scissors', *%args) {\n",
    "    llm-synthesize([\n",
    "        \"Give the edges the graph for this $game-name variant description\",\n",
    "        'Give the edges as an array of dictionaries. Each dictionary with keys \"from\", \"to\", \"label\",',\n",
    "        'where \"label\" has the action of \"from\" over \"to\".',\n",
    "        $description,\n",
    "        llm-prompt('NothingElse')('JSON')\n",
    "        ], \n",
    "        e => %args<llm-evaluator> // %args<e> // %args<conf> // $conf4o-mini,\n",
    "        form => sub-parser('JSON'):drop\n",
    "    )\n",
    "}"
   ]
  },
  {
   "cell_type": "markdown",
   "metadata": {},
   "source": [
    "**Remark:** We reuse the sub definition  `rps-edge-dataset` from [AA1]."
   ]
  },
  {
   "cell_type": "markdown",
   "metadata": {},
   "source": [
    "**Remark::** Both \"LLM::Functions\" and \"LLM::Prompts\" are pre-loaded in Raku chatbooks."
   ]
  },
  {
   "cell_type": "markdown",
   "metadata": {},
   "source": [
    "----\n",
    "\n",
    "## Rock-Paper-Scissors and its Lizard-Spock extensions"
   ]
  },
  {
   "cell_type": "markdown",
   "metadata": {},
   "source": [
    "Here is the graph of the standard RPS game and it \"Lizard-Spock\" extension:"
   ]
  },
  {
   "cell_type": "code",
   "execution_count": null,
   "metadata": {},
   "outputs": [
    {
     "data": {
      "text/html": [
       "<?xml version=\"1.0\" encoding=\"UTF-8\" standalone=\"no\"?>\n",
       "<!DOCTYPE svg PUBLIC \"-//W3C//DTD SVG 1.1//EN\"\n",
       " \"http://www.w3.org/Graphics/SVG/1.1/DTD/svg11.dtd\">\n",
       "<!-- Generated by graphviz version 12.1.2 (20240928.0832)\n",
       " -->\n",
       "<!-- Pages: 1 -->\n",
       "<svg width=\"432pt\" height=\"387pt\"\n",
       " viewBox=\"0.00 0.00 432.00 387.26\" xmlns=\"http://www.w3.org/2000/svg\" xmlns:xlink=\"http://www.w3.org/1999/xlink\">\n",
       "<g id=\"graph0\" class=\"graph\" transform=\"scale(4.56629 4.56629) rotate(0) translate(4 80.81)\">\n",
       "<polygon fill=\"#1f1f1f\" stroke=\"none\" points=\"-4,4 -4,-80.81 90.61,-80.81 90.61,4 -4,4\"/>\n",
       "<!-- ✂️ -->\n",
       "<g id=\"node1\" class=\"node\">\n",
       "<title>✂️</title>\n",
       "<ellipse fill=\"#1f1f1f\" stroke=\"LightSlateGray\" stroke-width=\"0.6\" cx=\"7.2\" cy=\"-69.13\" rx=\"7.2\" ry=\"7.2\"/>\n",
       "<text text-anchor=\"middle\" x=\"7.2\" y=\"-67.16\" font-family=\"Times,serif\" font-size=\"8.00\" fill=\"White\">✂️</text>\n",
       "</g>\n",
       "<!-- 📄 -->\n",
       "<g id=\"node2\" class=\"node\">\n",
       "<title>📄</title>\n",
       "<ellipse fill=\"#1f1f1f\" stroke=\"LightSlateGray\" stroke-width=\"0.6\" cx=\"79.41\" cy=\"-69.61\" rx=\"7.2\" ry=\"7.2\"/>\n",
       "<text text-anchor=\"middle\" x=\"79.41\" y=\"-67.63\" font-family=\"Times,serif\" font-size=\"8.00\" fill=\"White\">📄</text>\n",
       "</g>\n",
       "<!-- ✂️&#45;&gt;📄 -->\n",
       "<g id=\"edge3\" class=\"edge\">\n",
       "<title>✂️&#45;&gt;📄</title>\n",
       "<path fill=\"none\" stroke=\"LightSlateGray\" d=\"M14.39,-69.18C27.04,-69.26 53.36,-69.44 68.34,-69.54\"/>\n",
       "<polygon fill=\"LightSlateGray\" stroke=\"LightSlateGray\" points=\"68.23,-70.41 70.73,-69.55 68.24,-68.66 68.23,-70.41\"/>\n",
       "<text text-anchor=\"middle\" x=\"38.74\" y=\"-70.26\" font-family=\"Times,serif\" font-size=\"3.00\" fill=\"Ivory\">cuts</text>\n",
       "</g>\n",
       "<!-- 🪨 -->\n",
       "<g id=\"node3\" class=\"node\">\n",
       "<title>🪨</title>\n",
       "<ellipse fill=\"#1f1f1f\" stroke=\"LightSlateGray\" stroke-width=\"0.6\" cx=\"43.79\" cy=\"-7.2\" rx=\"7.2\" ry=\"7.2\"/>\n",
       "<text text-anchor=\"middle\" x=\"43.79\" y=\"-5.22\" font-family=\"Times,serif\" font-size=\"8.00\" fill=\"White\">🪨</text>\n",
       "</g>\n",
       "<!-- 📄&#45;&gt;🪨 -->\n",
       "<g id=\"edge1\" class=\"edge\">\n",
       "<title>📄&#45;&gt;🪨</title>\n",
       "<path fill=\"none\" stroke=\"LightSlateGray\" d=\"M75.86,-63.4C69.62,-52.46 56.64,-29.71 49.25,-16.76\"/>\n",
       "<polygon fill=\"LightSlateGray\" stroke=\"LightSlateGray\" points=\"50.07,-16.44 48.07,-14.7 48.55,-17.31 50.07,-16.44\"/>\n",
       "<text text-anchor=\"middle\" x=\"58.43\" y=\"-40.98\" font-family=\"Times,serif\" font-size=\"3.00\" fill=\"Ivory\">covers</text>\n",
       "</g>\n",
       "<!-- 🪨&#45;&gt;✂️ -->\n",
       "<g id=\"edge2\" class=\"edge\">\n",
       "<title>🪨&#45;&gt;✂️</title>\n",
       "<path fill=\"none\" stroke=\"LightSlateGray\" d=\"M40.15,-13.36C33.74,-24.22 20.4,-46.79 12.81,-59.64\"/>\n",
       "<polygon fill=\"LightSlateGray\" stroke=\"LightSlateGray\" points=\"12.12,-59.09 11.6,-61.69 13.62,-59.98 12.12,-59.09\"/>\n",
       "<text text-anchor=\"middle\" x=\"21.6\" y=\"-37.4\" font-family=\"Times,serif\" font-size=\"3.00\" fill=\"Ivory\">crushes</text>\n",
       "</g>\n",
       "</g>\n",
       "</svg>\n",
       "<?xml version=\"1.0\" encoding=\"UTF-8\" standalone=\"no\"?>\n",
       "<!DOCTYPE svg PUBLIC \"-//W3C//DTD SVG 1.1//EN\"\n",
       " \"http://www.w3.org/Graphics/SVG/1.1/DTD/svg11.dtd\">\n",
       "<!-- Generated by graphviz version 12.1.2 (20240928.0832)\n",
       " -->\n",
       "<!-- Pages: 1 -->\n",
       "<svg width=\"432pt\" height=\"425pt\"\n",
       " viewBox=\"0.00 0.00 432.00 425.04\" xmlns=\"http://www.w3.org/2000/svg\" xmlns:xlink=\"http://www.w3.org/1999/xlink\">\n",
       "<g id=\"graph0\" class=\"graph\" transform=\"scale(4.05864 4.05864) rotate(0) translate(4 100.72)\">\n",
       "<polygon fill=\"#1f1f1f\" stroke=\"none\" points=\"-4,4 -4,-100.72 102.44,-100.72 102.44,4 -4,4\"/>\n",
       "<!-- ✂️ -->\n",
       "<g id=\"node1\" class=\"node\">\n",
       "<title>✂️</title>\n",
       "<ellipse fill=\"#1f1f1f\" stroke=\"LightSlateGray\" stroke-width=\"0.6\" cx=\"7.2\" cy=\"-41.54\" rx=\"7.2\" ry=\"7.2\"/>\n",
       "<text text-anchor=\"middle\" x=\"7.2\" y=\"-39.57\" font-family=\"Times,serif\" font-size=\"8.00\" fill=\"White\">✂️</text>\n",
       "</g>\n",
       "<!-- 📄 -->\n",
       "<g id=\"node2\" class=\"node\">\n",
       "<title>📄</title>\n",
       "<ellipse fill=\"#1f1f1f\" stroke=\"LightSlateGray\" stroke-width=\"0.6\" cx=\"91.24\" cy=\"-33.82\" rx=\"7.2\" ry=\"7.2\"/>\n",
       "<text text-anchor=\"middle\" x=\"91.24\" y=\"-31.85\" font-family=\"Times,serif\" font-size=\"8.00\" fill=\"White\">📄</text>\n",
       "</g>\n",
       "<!-- ✂️&#45;&gt;📄 -->\n",
       "<g id=\"edge6\" class=\"edge\">\n",
       "<title>✂️&#45;&gt;📄</title>\n",
       "<path fill=\"none\" stroke=\"LightSlateGray\" d=\"M14.37,-40.88C29.13,-39.53 63,-36.42 80.43,-34.81\"/>\n",
       "<polygon fill=\"LightSlateGray\" stroke=\"LightSlateGray\" points=\"80.18,-35.72 82.59,-34.62 80.02,-33.97 80.18,-35.72\"/>\n",
       "<text text-anchor=\"middle\" x=\"44.77\" y=\"-38.75\" font-family=\"Times,serif\" font-size=\"3.00\" fill=\"Ivory\">cuts</text>\n",
       "</g>\n",
       "<!-- 🦎 -->\n",
       "<g id=\"node4\" class=\"node\">\n",
       "<title>🦎</title>\n",
       "<ellipse fill=\"#1f1f1f\" stroke=\"LightSlateGray\" stroke-width=\"0.6\" cx=\"27.76\" cy=\"-89.52\" rx=\"7.2\" ry=\"7.2\"/>\n",
       "<text text-anchor=\"middle\" x=\"27.76\" y=\"-87.55\" font-family=\"Times,serif\" font-size=\"8.00\" fill=\"White\">🦎</text>\n",
       "</g>\n",
       "<!-- ✂️&#45;&gt;🦎 -->\n",
       "<g id=\"edge5\" class=\"edge\">\n",
       "<title>✂️&#45;&gt;🦎</title>\n",
       "<path fill=\"none\" stroke=\"LightSlateGray\" d=\"M9.89,-47.82C13.38,-55.96 19.51,-70.26 23.6,-79.81\"/>\n",
       "<polygon fill=\"LightSlateGray\" stroke=\"LightSlateGray\" points=\"22.62,-79.75 24.41,-81.71 24.23,-79.06 22.62,-79.75\"/>\n",
       "<text text-anchor=\"middle\" x=\"9.62\" y=\"-64.71\" font-family=\"Times,serif\" font-size=\"3.00\" fill=\"Ivory\">decapitates</text>\n",
       "</g>\n",
       "<!-- 🖖 -->\n",
       "<g id=\"node3\" class=\"node\">\n",
       "<title>🖖</title>\n",
       "<ellipse fill=\"#1f1f1f\" stroke=\"LightSlateGray\" stroke-width=\"0.6\" cx=\"46.33\" cy=\"-7.2\" rx=\"7.2\" ry=\"7.2\"/>\n",
       "<text text-anchor=\"middle\" x=\"46.33\" y=\"-5.22\" font-family=\"Times,serif\" font-size=\"8.00\" fill=\"White\">🖖</text>\n",
       "</g>\n",
       "<!-- 📄&#45;&gt;🖖 -->\n",
       "<g id=\"edge7\" class=\"edge\">\n",
       "<title>📄&#45;&gt;🖖</title>\n",
       "<path fill=\"none\" stroke=\"LightSlateGray\" d=\"M85.37,-30.34C77.75,-25.82 64.36,-17.89 55.42,-12.59\"/>\n",
       "<polygon fill=\"LightSlateGray\" stroke=\"LightSlateGray\" points=\"56.25,-12.06 53.65,-11.54 55.36,-13.57 56.25,-12.06\"/>\n",
       "<text text-anchor=\"middle\" x=\"64.4\" y=\"-22.36\" font-family=\"Times,serif\" font-size=\"3.00\" fill=\"Ivory\">disproves</text>\n",
       "</g>\n",
       "<!-- 🪨 -->\n",
       "<g id=\"node5\" class=\"node\">\n",
       "<title>🪨</title>\n",
       "<ellipse fill=\"#1f1f1f\" stroke=\"LightSlateGray\" stroke-width=\"0.6\" cx=\"79.53\" cy=\"-84.5\" rx=\"7.2\" ry=\"7.2\"/>\n",
       "<text text-anchor=\"middle\" x=\"79.53\" y=\"-82.52\" font-family=\"Times,serif\" font-size=\"8.00\" fill=\"White\">🪨</text>\n",
       "</g>\n",
       "<!-- 📄&#45;&gt;🪨 -->\n",
       "<g id=\"edge8\" class=\"edge\">\n",
       "<title>📄&#45;&gt;🪨</title>\n",
       "<path fill=\"none\" stroke=\"LightSlateGray\" d=\"M89.71,-40.45C87.74,-48.97 84.29,-63.89 81.96,-73.97\"/>\n",
       "<polygon fill=\"LightSlateGray\" stroke=\"LightSlateGray\" points=\"81.15,-73.6 81.44,-76.24 82.85,-74 81.15,-73.6\"/>\n",
       "<text text-anchor=\"middle\" x=\"81.71\" y=\"-58.11\" font-family=\"Times,serif\" font-size=\"3.00\" fill=\"Ivory\">covers</text>\n",
       "</g>\n",
       "<!-- 🖖&#45;&gt;✂️ -->\n",
       "<g id=\"edge4\" class=\"edge\">\n",
       "<title>🖖&#45;&gt;✂️</title>\n",
       "<path fill=\"none\" stroke=\"LightSlateGray\" d=\"M41.22,-11.69C34.58,-17.52 22.91,-27.75 15.12,-34.59\"/>\n",
       "<polygon fill=\"LightSlateGray\" stroke=\"LightSlateGray\" points=\"14.88,-33.64 13.58,-35.94 16.04,-34.95 14.88,-33.64\"/>\n",
       "<text text-anchor=\"middle\" x=\"22.54\" y=\"-24.04\" font-family=\"Times,serif\" font-size=\"3.00\" fill=\"Ivory\">smashes</text>\n",
       "</g>\n",
       "<!-- 🖖&#45;&gt;🪨 -->\n",
       "<g id=\"edge3\" class=\"edge\">\n",
       "<title>🖖&#45;&gt;🪨</title>\n",
       "<path fill=\"none\" stroke=\"LightSlateGray\" d=\"M49.17,-13.79C55,-27.37 68.38,-58.52 75.26,-74.56\"/>\n",
       "<polygon fill=\"LightSlateGray\" stroke=\"LightSlateGray\" points=\"74.32,-74.58 76.11,-76.53 75.93,-73.89 74.32,-74.58\"/>\n",
       "<text text-anchor=\"middle\" x=\"56.21\" y=\"-45.08\" font-family=\"Times,serif\" font-size=\"3.00\" fill=\"Ivory\">vaporizes</text>\n",
       "</g>\n",
       "<!-- 🦎&#45;&gt;📄 -->\n",
       "<g id=\"edge2\" class=\"edge\">\n",
       "<title>🦎&#45;&gt;📄</title>\n",
       "<path fill=\"none\" stroke=\"LightSlateGray\" d=\"M32.74,-85.15C43.72,-75.52 70.07,-52.4 83.33,-40.76\"/>\n",
       "<polygon fill=\"LightSlateGray\" stroke=\"LightSlateGray\" points=\"83.67,-41.63 84.97,-39.32 82.51,-40.32 83.67,-41.63\"/>\n",
       "<text text-anchor=\"middle\" x=\"55.41\" y=\"-63.86\" font-family=\"Times,serif\" font-size=\"3.00\" fill=\"Ivory\">eats</text>\n",
       "</g>\n",
       "<!-- 🦎&#45;&gt;🖖 -->\n",
       "<g id=\"edge1\" class=\"edge\">\n",
       "<title>🦎&#45;&gt;🖖</title>\n",
       "<path fill=\"none\" stroke=\"LightSlateGray\" d=\"M29.34,-82.51C32.61,-68.05 40.09,-34.86 43.95,-17.78\"/>\n",
       "<polygon fill=\"LightSlateGray\" stroke=\"LightSlateGray\" points=\"44.73,-18.31 44.42,-15.68 43.02,-17.92 44.73,-18.31\"/>\n",
       "<text text-anchor=\"middle\" x=\"31.77\" y=\"-51.05\" font-family=\"Times,serif\" font-size=\"3.00\" fill=\"Ivory\">poisons</text>\n",
       "</g>\n",
       "<!-- 🪨&#45;&gt;✂️ -->\n",
       "<g id=\"edge10\" class=\"edge\">\n",
       "<title>🪨&#45;&gt;✂️</title>\n",
       "<path fill=\"none\" stroke=\"LightSlateGray\" d=\"M73.36,-80.84C60.66,-73.29 31.51,-55.98 16.5,-47.07\"/>\n",
       "<polygon fill=\"LightSlateGray\" stroke=\"LightSlateGray\" points=\"17.25,-46.49 14.65,-45.97 16.36,-48 17.25,-46.49\"/>\n",
       "<text text-anchor=\"middle\" x=\"40.06\" y=\"-64.85\" font-family=\"Times,serif\" font-size=\"3.00\" fill=\"Ivory\">crushes</text>\n",
       "</g>\n",
       "<!-- 🪨&#45;&gt;🦎 -->\n",
       "<g id=\"edge9\" class=\"edge\">\n",
       "<title>🪨&#45;&gt;🦎</title>\n",
       "<path fill=\"none\" stroke=\"LightSlateGray\" d=\"M72.76,-85.16C64.05,-86 48.82,-87.48 38.51,-88.48\"/>\n",
       "<polygon fill=\"LightSlateGray\" stroke=\"LightSlateGray\" points=\"38.6,-87.59 36.2,-88.71 38.77,-89.33 38.6,-87.59\"/>\n",
       "<text text-anchor=\"middle\" x=\"50.76\" y=\"-87.72\" font-family=\"Times,serif\" font-size=\"3.00\" fill=\"Ivory\">crushes</text>\n",
       "</g>\n",
       "</g>\n",
       "</svg>\n"
      ]
     },
     "execution_count": 19,
     "metadata": {},
     "output_type": "execute_result"
    }
   ],
   "source": [
    "#% html\n",
    "\n",
    "# Graph edges: LLM-generated and LLM-translates\n",
    "my @edges-emo =\n",
    "    { from => '🪨', to => '✂️',   label => 'crushes' },\n",
    "    { from => '✂️',  to => '📄',  label => 'cuts' },\n",
    "    { from => '📄', to => '🪨',  label => 'covers' },\n",
    "    { from => '🪨', to => '🦎',  label => 'crushes' },\n",
    "    { from => '🦎', to => '🖖',  label => 'poisons' },\n",
    "    { from => '🖖', to => '✂️',   label => 'smashes' },\n",
    "    { from => '✂️',  to => '🦎',  label => 'decapitates' },\n",
    "    { from => '🦎', to => '📄',  label => 'eats' },\n",
    "    { from => '📄', to => '🖖',  label => 'disproves' },\n",
    "    { from => '🖖', to => '🪨',  label => 'vaporizes' }\n",
    ";\n",
    "\n",
    "# Edge-label rules\n",
    "my %edge-labels-emo;\n",
    "@edges-emo.map({ %edge-labels-emo{$_<from>}{$_<to>} = $_<label> });\n",
    "\n",
    "# RPS-3 Lizard-Spock extension\n",
    "my $g-emo = Graph.new(@edges-emo, :directed);\n",
    "\n",
    "# Standard RPS-3 as a subgraph\n",
    "my $g-rps = $g-emo.subgraph(<🪨 ✂️ 📄>);\n",
    "\n",
    "# Plot the graphs together\n",
    "$g-rps.dot(|%opts, edge-labels => %edge-labels-emo, :svg)\n",
    "~\n",
    "$g-emo.dot(|%opts, edge-labels => %edge-labels-emo, :svg)"
   ]
  },
  {
   "cell_type": "markdown",
   "metadata": {},
   "source": [
    "----\n",
    "\n",
    "## Simple analogy"
   ]
  },
  {
   "cell_type": "markdown",
   "metadata": {},
   "source": [
    "We consider the following military analogy with RPS:\n",
    "\n",
    "- Tanks attack (and defeat) Infantry\n",
    "- Guerillas defend against Tanks\n",
    "- Infantry attacks Guerillas"
   ]
  },
  {
   "cell_type": "markdown",
   "metadata": {},
   "source": [
    "Here we obtain the corresponding graph edges using an LLM: "
   ]
  },
  {
   "cell_type": "code",
   "execution_count": 20,
   "metadata": {},
   "outputs": [
    {
     "data": {
      "text/plain": [
       "[{from => Tanks, label => attack, to => Infantry} {from => Guerillas, label => defend, to => Tanks} {from => Infantry, label => attack, to => Guerillas}]"
      ]
     },
     "execution_count": 20,
     "metadata": {},
     "output_type": "execute_result"
    }
   ],
   "source": [
    "my $war-game = rps-edge-dataset('tanks attack infantry, guerillas defend against tanks, infantry attacks querillas')"
   ]
  },
  {
   "cell_type": "markdown",
   "metadata": {},
   "source": [
    "Plotting the graphs together:"
   ]
  },
  {
   "cell_type": "code",
   "execution_count": 22,
   "metadata": {},
   "outputs": [
    {
     "data": {
      "text/html": [
       "<?xml version=\"1.0\" encoding=\"UTF-8\" standalone=\"no\"?>\n",
       "<!DOCTYPE svg PUBLIC \"-//W3C//DTD SVG 1.1//EN\"\n",
       " \"http://www.w3.org/Graphics/SVG/1.1/DTD/svg11.dtd\">\n",
       "<!-- Generated by graphviz version 12.1.2 (20240928.0832)\n",
       " -->\n",
       "<!-- Pages: 1 -->\n",
       "<svg width=\"432pt\" height=\"352pt\"\n",
       " viewBox=\"0.00 0.00 432.00 352.06\" xmlns=\"http://www.w3.org/2000/svg\" xmlns:xlink=\"http://www.w3.org/1999/xlink\">\n",
       "<g id=\"graph0\" class=\"graph\" transform=\"scale(4.33533 4.33533) rotate(0) translate(4 77.21)\">\n",
       "<polygon fill=\"#1f1f1f\" stroke=\"none\" points=\"-4,4 -4,-77.21 95.65,-77.21 95.65,4 -4,4\"/>\n",
       "<!-- Guerillas -->\n",
       "<g id=\"node1\" class=\"node\">\n",
       "<title>Guerillas</title>\n",
       "<ellipse fill=\"#1f1f1f\" stroke=\"LightSlateGray\" stroke-width=\"0.6\" cx=\"9.72\" cy=\"-67.33\" rx=\"9.72\" ry=\"5.4\"/>\n",
       "<text text-anchor=\"middle\" x=\"9.72\" y=\"-65.58\" font-family=\"Times,serif\" font-size=\"5.00\" fill=\"White\">Guerillas</text>\n",
       "</g>\n",
       "<!-- Tanks -->\n",
       "<g id=\"node3\" class=\"node\">\n",
       "<title>Tanks</title>\n",
       "<ellipse fill=\"#1f1f1f\" stroke=\"LightSlateGray\" stroke-width=\"0.6\" cx=\"46.31\" cy=\"-5.4\" rx=\"9.72\" ry=\"5.4\"/>\n",
       "<text text-anchor=\"middle\" x=\"46.31\" y=\"-3.65\" font-family=\"Times,serif\" font-size=\"5.00\" fill=\"White\">Tanks</text>\n",
       "</g>\n",
       "<!-- Guerillas&#45;&gt;Tanks -->\n",
       "<g id=\"edge2\" class=\"edge\">\n",
       "<title>Guerillas&#45;&gt;Tanks</title>\n",
       "<path fill=\"none\" stroke=\"LightSlateGray\" d=\"M12.59,-62.47C18.81,-51.94 33.6,-26.91 41.36,-13.78\"/>\n",
       "<polygon fill=\"LightSlateGray\" stroke=\"LightSlateGray\" points=\"42.06,-14.31 42.58,-11.71 40.56,-13.42 42.06,-14.31\"/>\n",
       "<text text-anchor=\"middle\" x=\"22.85\" y=\"-39.03\" font-family=\"Times,serif\" font-size=\"3.00\" fill=\"Ivory\">defend</text>\n",
       "</g>\n",
       "<!-- Infantry -->\n",
       "<g id=\"node2\" class=\"node\">\n",
       "<title>Infantry</title>\n",
       "<ellipse fill=\"#1f1f1f\" stroke=\"LightSlateGray\" stroke-width=\"0.6\" cx=\"81.93\" cy=\"-67.81\" rx=\"9.72\" ry=\"5.4\"/>\n",
       "<text text-anchor=\"middle\" x=\"81.93\" y=\"-66.06\" font-family=\"Times,serif\" font-size=\"5.00\" fill=\"White\">Infantry</text>\n",
       "</g>\n",
       "<!-- Infantry&#45;&gt;Guerillas -->\n",
       "<g id=\"edge3\" class=\"edge\">\n",
       "<title>Infantry&#45;&gt;Guerillas</title>\n",
       "<path fill=\"none\" stroke=\"LightSlateGray\" d=\"M72.49,-67.75C59.91,-67.66 37.57,-67.52 23.22,-67.42\"/>\n",
       "<polygon fill=\"LightSlateGray\" stroke=\"LightSlateGray\" points=\"23.41,-66.55 20.91,-67.41 23.4,-68.3 23.41,-66.55\"/>\n",
       "<text text-anchor=\"middle\" x=\"44.1\" y=\"-68.48\" font-family=\"Times,serif\" font-size=\"3.00\" fill=\"Ivory\">attack</text>\n",
       "</g>\n",
       "<!-- Tanks&#45;&gt;Infantry -->\n",
       "<g id=\"edge1\" class=\"edge\">\n",
       "<title>Tanks&#45;&gt;Infantry</title>\n",
       "<path fill=\"none\" stroke=\"LightSlateGray\" d=\"M49.11,-10.3C55.16,-20.91 69.56,-46.13 77.11,-59.37\"/>\n",
       "<polygon fill=\"LightSlateGray\" stroke=\"LightSlateGray\" points=\"76.3,-59.71 78.3,-61.45 77.82,-58.84 76.3,-59.71\"/>\n",
       "<text text-anchor=\"middle\" x=\"59.36\" y=\"-35.73\" font-family=\"Times,serif\" font-size=\"3.00\" fill=\"Ivory\">attack</text>\n",
       "</g>\n",
       "</g>\n",
       "</svg>\n",
       "<?xml version=\"1.0\" encoding=\"UTF-8\" standalone=\"no\"?>\n",
       "<!DOCTYPE svg PUBLIC \"-//W3C//DTD SVG 1.1//EN\"\n",
       " \"http://www.w3.org/Graphics/SVG/1.1/DTD/svg11.dtd\">\n",
       "<!-- Generated by graphviz version 12.1.2 (20240928.0832)\n",
       " -->\n",
       "<!-- Pages: 1 -->\n",
       "<svg width=\"432pt\" height=\"387pt\"\n",
       " viewBox=\"0.00 0.00 432.00 387.26\" xmlns=\"http://www.w3.org/2000/svg\" xmlns:xlink=\"http://www.w3.org/1999/xlink\">\n",
       "<g id=\"graph0\" class=\"graph\" transform=\"scale(4.56629 4.56629) rotate(0) translate(4 80.81)\">\n",
       "<polygon fill=\"#1f1f1f\" stroke=\"none\" points=\"-4,4 -4,-80.81 90.61,-80.81 90.61,4 -4,4\"/>\n",
       "<!-- ✂️ -->\n",
       "<g id=\"node1\" class=\"node\">\n",
       "<title>✂️</title>\n",
       "<ellipse fill=\"#1f1f1f\" stroke=\"LightSlateGray\" stroke-width=\"0.6\" cx=\"7.2\" cy=\"-69.13\" rx=\"7.2\" ry=\"7.2\"/>\n",
       "<text text-anchor=\"middle\" x=\"7.2\" y=\"-67.16\" font-family=\"Times,serif\" font-size=\"8.00\" fill=\"White\">✂️</text>\n",
       "</g>\n",
       "<!-- 📄 -->\n",
       "<g id=\"node2\" class=\"node\">\n",
       "<title>📄</title>\n",
       "<ellipse fill=\"#1f1f1f\" stroke=\"LightSlateGray\" stroke-width=\"0.6\" cx=\"79.41\" cy=\"-69.61\" rx=\"7.2\" ry=\"7.2\"/>\n",
       "<text text-anchor=\"middle\" x=\"79.41\" y=\"-67.63\" font-family=\"Times,serif\" font-size=\"8.00\" fill=\"White\">📄</text>\n",
       "</g>\n",
       "<!-- ✂️&#45;&gt;📄 -->\n",
       "<g id=\"edge3\" class=\"edge\">\n",
       "<title>✂️&#45;&gt;📄</title>\n",
       "<path fill=\"none\" stroke=\"LightSlateGray\" d=\"M14.39,-69.18C27.04,-69.26 53.36,-69.44 68.34,-69.54\"/>\n",
       "<polygon fill=\"LightSlateGray\" stroke=\"LightSlateGray\" points=\"68.23,-70.41 70.73,-69.55 68.24,-68.66 68.23,-70.41\"/>\n",
       "<text text-anchor=\"middle\" x=\"38.74\" y=\"-70.26\" font-family=\"Times,serif\" font-size=\"3.00\" fill=\"Ivory\">cuts</text>\n",
       "</g>\n",
       "<!-- 🪨 -->\n",
       "<g id=\"node3\" class=\"node\">\n",
       "<title>🪨</title>\n",
       "<ellipse fill=\"#1f1f1f\" stroke=\"LightSlateGray\" stroke-width=\"0.6\" cx=\"43.79\" cy=\"-7.2\" rx=\"7.2\" ry=\"7.2\"/>\n",
       "<text text-anchor=\"middle\" x=\"43.79\" y=\"-5.22\" font-family=\"Times,serif\" font-size=\"8.00\" fill=\"White\">🪨</text>\n",
       "</g>\n",
       "<!-- 📄&#45;&gt;🪨 -->\n",
       "<g id=\"edge1\" class=\"edge\">\n",
       "<title>📄&#45;&gt;🪨</title>\n",
       "<path fill=\"none\" stroke=\"LightSlateGray\" d=\"M75.86,-63.4C69.62,-52.46 56.64,-29.71 49.25,-16.76\"/>\n",
       "<polygon fill=\"LightSlateGray\" stroke=\"LightSlateGray\" points=\"50.07,-16.44 48.07,-14.7 48.55,-17.31 50.07,-16.44\"/>\n",
       "<text text-anchor=\"middle\" x=\"58.43\" y=\"-40.98\" font-family=\"Times,serif\" font-size=\"3.00\" fill=\"Ivory\">covers</text>\n",
       "</g>\n",
       "<!-- 🪨&#45;&gt;✂️ -->\n",
       "<g id=\"edge2\" class=\"edge\">\n",
       "<title>🪨&#45;&gt;✂️</title>\n",
       "<path fill=\"none\" stroke=\"LightSlateGray\" d=\"M40.15,-13.36C33.74,-24.22 20.4,-46.79 12.81,-59.64\"/>\n",
       "<polygon fill=\"LightSlateGray\" stroke=\"LightSlateGray\" points=\"12.12,-59.09 11.6,-61.69 13.62,-59.98 12.12,-59.09\"/>\n",
       "<text text-anchor=\"middle\" x=\"21.6\" y=\"-37.4\" font-family=\"Times,serif\" font-size=\"3.00\" fill=\"Ivory\">crushes</text>\n",
       "</g>\n",
       "</g>\n",
       "</svg>\n"
      ]
     },
     "execution_count": 22,
     "metadata": {},
     "output_type": "execute_result"
    }
   ],
   "source": [
    "#% html\n",
    "my %edge-labels = Empty; \n",
    "for |$war-game -> %r { %edge-labels{%r<from>}{%r<to>} = %r<label> };\n",
    "Graph.new($war-game, :directed).dot(|%opts-plain, :%edge-labels, :svg)\n",
    "~\n",
    "$g-rps.dot(|%opts, edge-labels => %edge-labels-emo, :svg)"
   ]
  },
  {
   "cell_type": "markdown",
   "metadata": {},
   "source": [
    "------\n",
    "\n",
    "## Military forces interaction"
   ]
  },
  {
   "cell_type": "markdown",
   "metadata": {},
   "source": [
    "Here is [Mermaid-JS](https://mermaid.js.org) diagram of a more complicated military forces interactions diagram; see [NM1]:"
   ]
  },
  {
   "cell_type": "markdown",
   "metadata": {},
   "source": [
    "```mermaid\n",
    "graph TD\n",
    "AT[Anti-tank weapons] --> |defend|Arm[Armor]\n",
    "Arm --> |attack|IA[Infantry and Artillery] \n",
    "Air[Air force] --> |attack|Arm\n",
    "Air --> |attack|IA\n",
    "M[Missiles] --> |defend|Air\n",
    "IA --> |attack|M\n",
    "IA --> |attack|AT\n",
    "```"
   ]
  },
  {
   "cell_type": "markdown",
   "metadata": {},
   "source": [
    "Using diagram's mermaid code here the graph are LLM-generated:"
   ]
  },
  {
   "cell_type": "code",
   "execution_count": null,
   "metadata": {},
   "outputs": [],
   "source": [
    "#% html\n",
    "my $mmd-descr = q:to/END/;\n",
    "graph TD\n",
    "AT[Anti-tank weapons] --> |defend|Arm[Armor]\n",
    "Arm --> |attack|IA[Infantry and Artillery] \n",
    "Air[Air force] --> |attack|Arm\n",
    "Air --> |attack|IA\n",
    "M[Missiles] --> |defend|Air\n",
    "IA --> |attack|M\n",
    "IA --> |attack|AT\n",
    "END\n",
    "\n",
    "my $war-game2 = rps-edge-dataset($mmd-descr);\n",
    "\n",
    "$war-game2 ==> to-html(field-names => <from label to>)"
   ]
  },
  {
   "cell_type": "markdown",
   "metadata": {},
   "source": [
    "Direct assignment (instead of using LLMs):"
   ]
  },
  {
   "cell_type": "code",
   "execution_count": 35,
   "metadata": {},
   "outputs": [
    {
     "data": {
      "text/plain": [
       "[{from => Anti-tank weapons, label => defend, to => Armor} {from => Armor, label => attack, to => Infantry and Artillery} {from => Air force, label => attack, to => Armor} {from => Air force, label => attack, to => Infantry and Artillery} {from => Missiles, label => defend, to => Air force} {from => Infantry and Artillery, label => attack, to => Missiles} {from => Infantry and Artillery, label => attack, to => Anti-tank weapons}]"
      ]
     },
     "execution_count": 35,
     "metadata": {},
     "output_type": "execute_result"
    }
   ],
   "source": [
    "my $war-game2 = $[\n",
    "    {:from(\"Anti-tank weapons\"), :label(\"defend\"), :to(\"Armor\")}, {:from(\"Armor\"), :label(\"attack\"), :to(\"Infantry and Artillery\")}, \n",
    "    {:from(\"Air force\"), :label(\"attack\"), :to(\"Armor\")}, {:from(\"Air force\"), :label(\"attack\"), :to(\"Infantry and Artillery\")}, \n",
    "    {:from(\"Missiles\"), :label(\"defend\"), :to(\"Air force\")}, {:from(\"Infantry and Artillery\"), :label(\"attack\"), :to(\"Missiles\")}, \n",
    "    {:from(\"Infantry and Artillery\"), :label(\"attack\"), :to(\"Anti-tank weapons\")}\n",
    "];"
   ]
  },
  {
   "cell_type": "markdown",
   "metadata": {},
   "source": [
    "The diagram does not correspond to modern warfare -- it is taken from doctoral thesis, [NM1], discussing reconstruction of historical military data.\n",
    "The corresponding graph can be upgraded with drones in a similar way as Chuck-Norris-defeats-all upgrade above."
   ]
  },
  {
   "cell_type": "code",
   "execution_count": 36,
   "metadata": {},
   "outputs": [
    {
     "data": {
      "text/plain": [
       "Graph(vertexes => 6, edges => 14, directed => True)"
      ]
     },
     "execution_count": 36,
     "metadata": {},
     "output_type": "execute_result"
    }
   ],
   "source": [
    "my $war-forces = Graph.new($war-game2, :directed); \n",
    "my $drone = \"Air drones\";\n",
    "my $war-game-d = $war-game2.clone.append( $war-forces.vertex-list.map({ %( from => $drone, to => $_, label => 'attack' ) }) );\n",
    "$war-game-d .= append( ['Missiles', 'Air force'].map({ %(from => $_, to => $drone, label => 'defend') }) );\n",
    "my $war-forces-d = Graph.new($war-game-d, :directed);"
   ]
  },
  {
   "cell_type": "markdown",
   "metadata": {},
   "source": [
    "Here is the corresponding table:"
   ]
  },
  {
   "cell_type": "code",
   "execution_count": 37,
   "metadata": {},
   "outputs": [
    {
     "data": {
      "text/html": [
       "<table border=\"⊙\"><thead><tr><th></th><th>Air drones</th><th>Air force</th><th>Anti-tank weapons</th><th>Armor</th><th>Infantry and Artillery</th><th>Missiles</th></tr></thead><tbody><tr><td>Air drones</td><td></td><td>⊙</td><td>⊙</td><td>⊙</td><td>⊙</td><td>⊙</td></tr><tr><td>Air force</td><td>⊙</td><td></td><td></td><td>⊙</td><td>⊙</td><td></td></tr><tr><td>Anti-tank weapons</td><td></td><td></td><td></td><td>⊙</td><td></td><td></td></tr><tr><td>Armor</td><td></td><td></td><td></td><td></td><td>⊙</td><td></td></tr><tr><td>Infantry and Artillery</td><td></td><td></td><td>⊙</td><td></td><td></td><td>⊙</td></tr><tr><td>Missiles</td><td>⊙</td><td>⊙</td><td></td><td></td><td></td><td></td></tr></tbody></table>"
      ]
     },
     "execution_count": 37,
     "metadata": {},
     "output_type": "execute_result"
    }
   ],
   "source": [
    "#% html\n",
    "game-table($war-forces-d, link-value => '⊙', missing-value => '')"
   ]
  },
  {
   "cell_type": "markdown",
   "metadata": {},
   "source": [
    "Here is the graph with different coloring for \"attack\" edges (gray) and \"defend\" edges (blue):"
   ]
  },
  {
   "cell_type": "code",
   "execution_count": 38,
   "metadata": {},
   "outputs": [
    {
     "data": {
      "text/html": [
       "<?xml version=\"1.0\" encoding=\"UTF-8\" standalone=\"no\"?>\n",
       "<!DOCTYPE svg PUBLIC \"-//W3C//DTD SVG 1.1//EN\"\n",
       " \"http://www.w3.org/Graphics/SVG/1.1/DTD/svg11.dtd\">\n",
       "<!-- Generated by graphviz version 12.1.2 (20240928.0832)\n",
       " -->\n",
       "<!-- Pages: 1 -->\n",
       "<svg width=\"648pt\" height=\"466pt\"\n",
       " viewBox=\"0.00 0.00 648.00 465.69\" xmlns=\"http://www.w3.org/2000/svg\" xmlns:xlink=\"http://www.w3.org/1999/xlink\">\n",
       "<g id=\"graph0\" class=\"graph\" transform=\"scale(3.20158 3.20158) rotate(0) translate(4 141.46)\">\n",
       "<polygon fill=\"#1f1f1f\" stroke=\"none\" points=\"-4,4 -4,-141.46 198.4,-141.46 198.4,4 -4,4\"/>\n",
       "<!-- Anti&#45;tank weapons -->\n",
       "<g id=\"node1\" class=\"node\">\n",
       "<title>Anti&#45;tank weapons</title>\n",
       "<ellipse fill=\"#1f1f1f\" stroke=\"LightSlateGray\" stroke-width=\"0.6\" cx=\"133.2\" cy=\"-132.06\" rx=\"25.2\" ry=\"5.4\"/>\n",
       "<text text-anchor=\"middle\" x=\"133.2\" y=\"-130.31\" font-family=\"Times,serif\" font-size=\"5.00\" fill=\"White\">Anti&#45;tank weapons</text>\n",
       "</g>\n",
       "<!-- Armor -->\n",
       "<g id=\"node4\" class=\"node\">\n",
       "<title>Armor</title>\n",
       "<ellipse fill=\"#1f1f1f\" stroke=\"LightSlateGray\" stroke-width=\"0.6\" cx=\"61.2\" cy=\"-132.06\" rx=\"25.2\" ry=\"5.4\"/>\n",
       "<text text-anchor=\"middle\" x=\"61.2\" y=\"-130.31\" font-family=\"Times,serif\" font-size=\"5.00\" fill=\"White\">Armor</text>\n",
       "</g>\n",
       "<!-- Anti&#45;tank weapons&#45;&gt;Armor -->\n",
       "<g id=\"edge11\" class=\"edge\">\n",
       "<title>Anti&#45;tank weapons&#45;&gt;Armor</title>\n",
       "<path fill=\"none\" stroke=\"SlateBlue\" d=\"M108.02,-132.06C102.11,-132.06 95.77,-132.06 89.72,-132.06\"/>\n",
       "<polygon fill=\"SlateBlue\" stroke=\"SlateBlue\" points=\"90.02,-131.18 87.52,-132.06 90.02,-132.93 90.02,-131.18\"/>\n",
       "<text text-anchor=\"middle\" x=\"94.75\" y=\"-132.96\" font-family=\"Times,serif\" font-size=\"3.00\" fill=\"Ivory\">defend</text>\n",
       "</g>\n",
       "<!-- Infantry and Artillery -->\n",
       "<g id=\"node2\" class=\"node\">\n",
       "<title>Infantry and Artillery</title>\n",
       "<ellipse fill=\"#1f1f1f\" stroke=\"LightSlateGray\" stroke-width=\"0.6\" cx=\"25.2\" cy=\"-69.7\" rx=\"25.2\" ry=\"5.4\"/>\n",
       "<text text-anchor=\"middle\" x=\"25.2\" y=\"-67.95\" font-family=\"Times,serif\" font-size=\"5.00\" fill=\"White\">Infantry and Artillery</text>\n",
       "</g>\n",
       "<!-- Infantry and Artillery&#45;&gt;Anti&#45;tank weapons -->\n",
       "<g id=\"edge9\" class=\"edge\">\n",
       "<title>Infantry and Artillery&#45;&gt;Anti&#45;tank weapons</title>\n",
       "<path fill=\"none\" stroke=\"LightSlateGray\" d=\"M33.67,-74.6C52.74,-85.6 99.08,-112.36 121.14,-125.09\"/>\n",
       "<polygon fill=\"LightSlateGray\" stroke=\"LightSlateGray\" points=\"120.55,-125.76 123.15,-126.26 121.43,-124.25 120.55,-125.76\"/>\n",
       "<text text-anchor=\"middle\" x=\"73.66\" y=\"-100.74\" font-family=\"Times,serif\" font-size=\"3.00\" fill=\"Ivory\">attack</text>\n",
       "</g>\n",
       "<!-- Missiles -->\n",
       "<g id=\"node6\" class=\"node\">\n",
       "<title>Missiles</title>\n",
       "<ellipse fill=\"#1f1f1f\" stroke=\"LightSlateGray\" stroke-width=\"0.6\" cx=\"61.2\" cy=\"-7.35\" rx=\"25.2\" ry=\"5.4\"/>\n",
       "<text text-anchor=\"middle\" x=\"61.2\" y=\"-5.6\" font-family=\"Times,serif\" font-size=\"5.00\" fill=\"White\">Missiles</text>\n",
       "</g>\n",
       "<!-- Infantry and Artillery&#45;&gt;Missiles -->\n",
       "<g id=\"edge8\" class=\"edge\">\n",
       "<title>Infantry and Artillery&#45;&gt;Missiles</title>\n",
       "<path fill=\"none\" stroke=\"LightSlateGray\" d=\"M28.27,-64.39C34.49,-53.62 48.62,-29.14 56.19,-16.03\"/>\n",
       "<polygon fill=\"LightSlateGray\" stroke=\"LightSlateGray\" points=\"56.89,-16.56 57.38,-13.96 55.37,-15.69 56.89,-16.56\"/>\n",
       "<text text-anchor=\"middle\" x=\"38.48\" y=\"-41.11\" font-family=\"Times,serif\" font-size=\"3.00\" fill=\"Ivory\">attack</text>\n",
       "</g>\n",
       "<!-- Air force -->\n",
       "<g id=\"node3\" class=\"node\">\n",
       "<title>Air force</title>\n",
       "<ellipse fill=\"#1f1f1f\" stroke=\"LightSlateGray\" stroke-width=\"0.6\" cx=\"169.2\" cy=\"-69.7\" rx=\"25.2\" ry=\"5.4\"/>\n",
       "<text text-anchor=\"middle\" x=\"169.2\" y=\"-67.95\" font-family=\"Times,serif\" font-size=\"5.00\" fill=\"White\">Air force</text>\n",
       "</g>\n",
       "<!-- Air force&#45;&gt;Infantry and Artillery -->\n",
       "<g id=\"edge7\" class=\"edge\">\n",
       "<title>Air force&#45;&gt;Infantry and Artillery</title>\n",
       "<path fill=\"none\" stroke=\"LightSlateGray\" d=\"M144.12,-69.7C118.93,-69.7 80.16,-69.7 53.79,-69.7\"/>\n",
       "<polygon fill=\"LightSlateGray\" stroke=\"LightSlateGray\" points=\"54.01,-68.83 51.51,-69.7 54.01,-70.58 54.01,-68.83\"/>\n",
       "<text text-anchor=\"middle\" x=\"95.21\" y=\"-70.6\" font-family=\"Times,serif\" font-size=\"3.00\" fill=\"Ivory\">attack</text>\n",
       "</g>\n",
       "<!-- Air force&#45;&gt;Armor -->\n",
       "<g id=\"edge6\" class=\"edge\">\n",
       "<title>Air force&#45;&gt;Armor</title>\n",
       "<path fill=\"none\" stroke=\"LightSlateGray\" d=\"M160.73,-74.6C141.66,-85.6 95.32,-112.36 73.26,-125.09\"/>\n",
       "<polygon fill=\"LightSlateGray\" stroke=\"LightSlateGray\" points=\"72.97,-124.25 71.25,-126.26 73.85,-125.76 72.97,-124.25\"/>\n",
       "<text text-anchor=\"middle\" x=\"113.24\" y=\"-100.74\" font-family=\"Times,serif\" font-size=\"3.00\" fill=\"Ivory\">attack</text>\n",
       "</g>\n",
       "<!-- Air drones -->\n",
       "<g id=\"node5\" class=\"node\">\n",
       "<title>Air drones</title>\n",
       "<ellipse fill=\"#1f1f1f\" stroke=\"LightSlateGray\" stroke-width=\"0.6\" cx=\"133.2\" cy=\"-7.35\" rx=\"25.2\" ry=\"5.4\"/>\n",
       "<text text-anchor=\"middle\" x=\"133.2\" y=\"-5.6\" font-family=\"Times,serif\" font-size=\"5.00\" fill=\"White\">Air drones</text>\n",
       "</g>\n",
       "<!-- Air force&#45;&gt;Air drones -->\n",
       "<g id=\"edge12\" class=\"edge\">\n",
       "<title>Air force&#45;&gt;Air drones</title>\n",
       "<path fill=\"none\" stroke=\"SlateBlue\" d=\"M170.09,-64.72C168.23,-53.73 154.23,-28.21 143.68,-15.14\"/>\n",
       "<polygon fill=\"SlateBlue\" stroke=\"SlateBlue\" points=\"144.36,-14.58 142.07,-13.25 143.03,-15.72 144.36,-14.58\"/>\n",
       "<text text-anchor=\"middle\" x=\"152.76\" y=\"-40.83\" font-family=\"Times,serif\" font-size=\"3.00\" fill=\"Ivory\">defend</text>\n",
       "</g>\n",
       "<!-- Armor&#45;&gt;Infantry and Artillery -->\n",
       "<g id=\"edge10\" class=\"edge\">\n",
       "<title>Armor&#45;&gt;Infantry and Artillery</title>\n",
       "<path fill=\"none\" stroke=\"LightSlateGray\" d=\"M58.13,-126.74C51.91,-115.97 37.78,-91.5 30.21,-78.38\"/>\n",
       "<polygon fill=\"LightSlateGray\" stroke=\"LightSlateGray\" points=\"31.03,-78.04 29.02,-76.32 29.51,-78.92 31.03,-78.04\"/>\n",
       "<text text-anchor=\"middle\" x=\"40.42\" y=\"-103.46\" font-family=\"Times,serif\" font-size=\"3.00\" fill=\"Ivory\">attack</text>\n",
       "</g>\n",
       "<!-- Air drones&#45;&gt;Anti&#45;tank weapons -->\n",
       "<g id=\"edge4\" class=\"edge\">\n",
       "<title>Air drones&#45;&gt;Anti&#45;tank weapons</title>\n",
       "<path fill=\"none\" stroke=\"LightSlateGray\" d=\"M133.2,-12.71C133.2,-32.1 133.2,-98.75 133.2,-123.08\"/>\n",
       "<polygon fill=\"LightSlateGray\" stroke=\"LightSlateGray\" points=\"132.33,-122.84 133.2,-125.34 134.08,-122.84 132.33,-122.84\"/>\n",
       "<text text-anchor=\"middle\" x=\"129.45\" y=\"-68.79\" font-family=\"Times,serif\" font-size=\"3.00\" fill=\"Ivory\">attack</text>\n",
       "</g>\n",
       "<!-- Air drones&#45;&gt;Infantry and Artillery -->\n",
       "<g id=\"edge3\" class=\"edge\">\n",
       "<title>Air drones&#45;&gt;Infantry and Artillery</title>\n",
       "<path fill=\"none\" stroke=\"LightSlateGray\" d=\"M124.73,-12.24C105.66,-23.25 59.32,-50 37.26,-62.74\"/>\n",
       "<polygon fill=\"LightSlateGray\" stroke=\"LightSlateGray\" points=\"36.97,-61.89 35.25,-63.9 37.85,-63.41 36.97,-61.89\"/>\n",
       "<text text-anchor=\"middle\" x=\"77.24\" y=\"-38.39\" font-family=\"Times,serif\" font-size=\"3.00\" fill=\"Ivory\">attack</text>\n",
       "</g>\n",
       "<!-- Air drones&#45;&gt;Air force -->\n",
       "<g id=\"edge1\" class=\"edge\">\n",
       "<title>Air drones&#45;&gt;Air force</title>\n",
       "<path fill=\"none\" stroke=\"LightSlateGray\" d=\"M132.31,-12.33C134.17,-23.32 148.17,-48.84 158.72,-61.91\"/>\n",
       "<polygon fill=\"LightSlateGray\" stroke=\"LightSlateGray\" points=\"158.04,-62.47 160.33,-63.8 159.37,-61.33 158.04,-62.47\"/>\n",
       "<text text-anchor=\"middle\" x=\"141.76\" y=\"-38.02\" font-family=\"Times,serif\" font-size=\"3.00\" fill=\"Ivory\">attack</text>\n",
       "</g>\n",
       "<!-- Air drones&#45;&gt;Armor -->\n",
       "<g id=\"edge5\" class=\"edge\">\n",
       "<title>Air drones&#45;&gt;Armor</title>\n",
       "<path fill=\"none\" stroke=\"LightSlateGray\" d=\"M130.11,-12.71C118.82,-32.26 79.79,-99.85 66.04,-123.67\"/>\n",
       "<polygon fill=\"LightSlateGray\" stroke=\"LightSlateGray\" points=\"65.45,-122.94 64.96,-125.55 66.97,-123.82 65.45,-122.94\"/>\n",
       "<text text-anchor=\"middle\" x=\"94.32\" y=\"-65.34\" font-family=\"Times,serif\" font-size=\"3.00\" fill=\"Ivory\">attack</text>\n",
       "</g>\n",
       "<!-- Air drones&#45;&gt;Missiles -->\n",
       "<g id=\"edge2\" class=\"edge\">\n",
       "<title>Air drones&#45;&gt;Missiles</title>\n",
       "<path fill=\"none\" stroke=\"LightSlateGray\" d=\"M122.88,-2.45C110.37,-0.19 89.23,0 75.24,-1.87\"/>\n",
       "<polygon fill=\"LightSlateGray\" stroke=\"LightSlateGray\" points=\"75.33,-0.97 72.99,-2.22 75.6,-2.7 75.33,-0.97\"/>\n",
       "<text text-anchor=\"middle\" x=\"95.31\" y=\"-3.06\" font-family=\"Times,serif\" font-size=\"3.00\" fill=\"Ivory\">attack</text>\n",
       "</g>\n",
       "<!-- Missiles&#45;&gt;Air force -->\n",
       "<g id=\"edge14\" class=\"edge\">\n",
       "<title>Missiles&#45;&gt;Air force</title>\n",
       "<path fill=\"none\" stroke=\"SlateBlue\" d=\"M69.67,-12.24C88.74,-23.25 135.08,-50 157.14,-62.74\"/>\n",
       "<polygon fill=\"SlateBlue\" stroke=\"SlateBlue\" points=\"156.55,-63.41 159.15,-63.9 157.43,-61.89 156.55,-63.41\"/>\n",
       "<text text-anchor=\"middle\" x=\"109.28\" y=\"-38.39\" font-family=\"Times,serif\" font-size=\"3.00\" fill=\"Ivory\">defend</text>\n",
       "</g>\n",
       "<!-- Missiles&#45;&gt;Air drones -->\n",
       "<g id=\"edge13\" class=\"edge\">\n",
       "<title>Missiles&#45;&gt;Air drones</title>\n",
       "<path fill=\"none\" stroke=\"SlateBlue\" d=\"M71.52,-12.25C84.03,-14.5 105.17,-14.7 119.16,-12.83\"/>\n",
       "<polygon fill=\"SlateBlue\" stroke=\"SlateBlue\" points=\"119.07,-13.73 121.41,-12.48 118.8,-12 119.07,-13.73\"/>\n",
       "<text text-anchor=\"middle\" x=\"91.21\" y=\"-13.44\" font-family=\"Times,serif\" font-size=\"3.00\" fill=\"Ivory\">defend</text>\n",
       "</g>\n",
       "</g>\n",
       "</svg>\n"
      ]
     },
     "execution_count": 38,
     "metadata": {},
     "output_type": "execute_result"
    }
   ],
   "source": [
    "#% html\n",
    "$war-forces-d.vertex-coordinates = ($war-forces-d.vertex-list Z=> Graph::Cycle($war-forces-d.vertex-count).vertex-coordinates{^$war-forces-d.vertex-count}.values).Hash;\n",
    "\n",
    "my %edge-labels;\n",
    "$war-game-d.map({ %edge-labels{$_<from>}{$_<to>} = $_<label> });\n",
    "\n",
    "my %highlight = \n",
    "    'SlateBlue' => Graph.new( $war-game-d.grep(*<label> eq 'defend'), :directed).edges;\n",
    "\n",
    "$war-forces-d.dot(\n",
    "    :%highlight,\n",
    "    |merge-hash(%opts-plain, {:9graph-size, node-width => 0.7}),\n",
    "    :%edge-labels, \n",
    "    :svg\n",
    ")"
   ]
  },
  {
   "cell_type": "markdown",
   "metadata": {},
   "source": [
    "**Remark:** The graph above is just an example -- real-life military forces interactions are more complicated."
   ]
  },
  {
   "cell_type": "markdown",
   "metadata": {},
   "source": [
    "-------\n",
    "\n",
    "## Generalized antagonism"
   ]
  },
  {
   "cell_type": "markdown",
   "metadata": {},
   "source": [
    "Following the article [\"The General Lanchester Model Defining Multilateral Conflicts\"](https://www.researchgate.net/publication/356424971_Obobsennaa_model_Lancestera_formalizuusaa_konflikt_neskolkih_storon_The_General_Lanchester_Model_Defining_Multilateral_Conflicts), [SM1], we can make a graph for multiple conflicts (narrated exposition is given in the presentation [\"Upgrading Epidemiological Models into War Models\"](https://www.youtube.com/watch?v=852vMS_6Qaw), [AAv1]): "
   ]
  },
  {
   "cell_type": "code",
   "execution_count": 43,
   "metadata": {},
   "outputs": [
    {
     "data": {
      "text/html": [
       "<?xml version=\"1.0\" encoding=\"UTF-8\" standalone=\"no\"?>\n",
       "<!DOCTYPE svg PUBLIC \"-//W3C//DTD SVG 1.1//EN\"\n",
       " \"http://www.w3.org/Graphics/SVG/1.1/DTD/svg11.dtd\">\n",
       "<!-- Generated by graphviz version 12.1.2 (20240928.0832)\n",
       " -->\n",
       "<!-- Pages: 1 -->\n",
       "<svg width=\"427pt\" height=\"432pt\"\n",
       " viewBox=\"0.00 0.00 426.84 432.00\" xmlns=\"http://www.w3.org/2000/svg\" xmlns:xlink=\"http://www.w3.org/1999/xlink\">\n",
       "<g id=\"graph0\" class=\"graph\" transform=\"scale(2.71098 2.71098) rotate(0) translate(4 155.35)\">\n",
       "<polygon fill=\"#1f1f1f\" stroke=\"none\" points=\"-4,4 -4,-155.35 153.45,-155.35 153.45,4 -4,4\"/>\n",
       "<!-- 1 -->\n",
       "<g id=\"node1\" class=\"node\">\n",
       "<title>1</title>\n",
       "<polygon fill=\"RosyBrown\" stroke=\"RosyBrown\" stroke-width=\"0.6\" points=\"99.7,-14.4 85.3,-14.4 85.3,0 99.7,0 99.7,-14.4\"/>\n",
       "<text text-anchor=\"middle\" x=\"92.5\" y=\"-4.47\" font-family=\"Times,serif\" font-size=\"8.00\" fill=\"White\">1</text>\n",
       "</g>\n",
       "<!-- 3 -->\n",
       "<g id=\"node2\" class=\"node\">\n",
       "<title>3</title>\n",
       "<polygon fill=\"RosyBrown\" stroke=\"RosyBrown\" stroke-width=\"0.6\" points=\"99.7,-151.35 85.3,-151.35 85.3,-136.95 99.7,-136.95 99.7,-151.35\"/>\n",
       "<text text-anchor=\"middle\" x=\"92.5\" y=\"-141.43\" font-family=\"Times,serif\" font-size=\"8.00\" fill=\"White\">3</text>\n",
       "</g>\n",
       "<!-- 1&#45;&gt;3 -->\n",
       "<g id=\"edge7\" class=\"edge\">\n",
       "<title>1&#45;&gt;3</title>\n",
       "<path fill=\"none\" stroke=\"LightSlateGray\" d=\"M92.5,-14.18C92.5,-36.43 92.5,-105.8 92.5,-133.03\"/>\n",
       "<polygon fill=\"LightSlateGray\" stroke=\"LightSlateGray\" points=\"91.62,-133.01 92.5,-135.51 93.37,-133.01 91.62,-133.01\"/>\n",
       "<text text-anchor=\"middle\" x=\"80.5\" y=\"-75.05\" font-family=\"Times,serif\" font-size=\"4.00\" fill=\"Ivory\">Commensalism</text>\n",
       "</g>\n",
       "<!-- 5 -->\n",
       "<g id=\"node4\" class=\"node\">\n",
       "<title>5</title>\n",
       "<polygon fill=\"SlateBlue\" stroke=\"SlateBlue\" stroke-width=\"0.6\" points=\"19.2,-40.56 4.8,-40.56 4.8,-26.16 19.2,-26.16 19.2,-40.56\"/>\n",
       "<text text-anchor=\"middle\" x=\"12\" y=\"-30.63\" font-family=\"Times,serif\" font-size=\"8.00\" fill=\"White\">5</text>\n",
       "</g>\n",
       "<!-- 1&#45;&gt;5 -->\n",
       "<g id=\"edge6\" class=\"edge\">\n",
       "<title>1&#45;&gt;5</title>\n",
       "<path fill=\"none\" stroke=\"LightSlateGray\" d=\"M85.35,-9.52C69.96,-14.52 33.85,-26.26 18.79,-31.15\"/>\n",
       "<text text-anchor=\"middle\" x=\"44.57\" y=\"-21.79\" font-family=\"Times,serif\" font-size=\"4.00\" fill=\"Ivory\">Neutrality</text>\n",
       "</g>\n",
       "<!-- 4 -->\n",
       "<g id=\"node5\" class=\"node\">\n",
       "<title>4</title>\n",
       "<polygon fill=\"RosyBrown\" stroke=\"RosyBrown\" stroke-width=\"0.6\" points=\"19.2,-125.2 4.8,-125.2 4.8,-110.8 19.2,-110.8 19.2,-125.2\"/>\n",
       "<text text-anchor=\"middle\" x=\"12\" y=\"-115.27\" font-family=\"Times,serif\" font-size=\"8.00\" fill=\"White\">4</text>\n",
       "</g>\n",
       "<!-- 1&#45;&gt;4 -->\n",
       "<g id=\"edge5\" class=\"edge\">\n",
       "<title>1&#45;&gt;4</title>\n",
       "<path fill=\"none\" stroke=\"LightSlateGray\" d=\"M87.46,-14.13C73.68,-33.1 35.32,-85.9 19.24,-108.03\"/>\n",
       "<polygon fill=\"LightSlateGray\" stroke=\"LightSlateGray\" points=\"18.68,-107.31 17.92,-109.84 20.1,-108.34 18.68,-107.31\"/>\n",
       "<text text-anchor=\"middle\" x=\"41.35\" y=\"-62.53\" font-family=\"Times,serif\" font-size=\"4.00\" fill=\"Ivory\">Commensalism</text>\n",
       "</g>\n",
       "<!-- 2 -->\n",
       "<g id=\"node3\" class=\"node\">\n",
       "<title>2</title>\n",
       "<polygon fill=\"SlateBlue\" stroke=\"SlateBlue\" stroke-width=\"0.6\" points=\"149.45,-82.88 135.05,-82.88 135.05,-68.48 149.45,-68.48 149.45,-82.88\"/>\n",
       "<text text-anchor=\"middle\" x=\"142.25\" y=\"-72.95\" font-family=\"Times,serif\" font-size=\"8.00\" fill=\"White\">2</text>\n",
       "</g>\n",
       "<!-- 3&#45;&gt;2 -->\n",
       "<g id=\"edge1\" class=\"edge\">\n",
       "<title>3&#45;&gt;2</title>\n",
       "<path fill=\"none\" stroke=\"LightSlateGray\" d=\"M97.64,-137.08C107.17,-123.96 127.5,-95.98 137.07,-82.81\"/>\n",
       "<text text-anchor=\"middle\" x=\"111.35\" y=\"-111.4\" font-family=\"Times,serif\" font-size=\"4.00\" fill=\"Ivory\">Alliance</text>\n",
       "</g>\n",
       "<!-- 3&#45;&gt;4 -->\n",
       "<g id=\"edge2\" class=\"edge\">\n",
       "<title>3&#45;&gt;4</title>\n",
       "<path fill=\"none\" stroke=\"LightSlateGray\" d=\"M85.35,-141.83C69.96,-136.83 33.85,-125.1 18.79,-120.2\"/>\n",
       "<text text-anchor=\"middle\" x=\"45.69\" y=\"-132.47\" font-family=\"Times,serif\" font-size=\"4.00\" fill=\"Ivory\">Conflict</text>\n",
       "</g>\n",
       "<!-- 2&#45;&gt;1 -->\n",
       "<g id=\"edge4\" class=\"edge\">\n",
       "<title>2&#45;&gt;1</title>\n",
       "<path fill=\"none\" stroke=\"LightSlateGray\" d=\"M137.11,-68.61C128.25,-56.41 110.06,-31.37 99.85,-17.32\"/>\n",
       "<polygon fill=\"LightSlateGray\" stroke=\"LightSlateGray\" points=\"100.75,-17.07 98.57,-15.56 99.33,-18.1 100.75,-17.07\"/>\n",
       "<text text-anchor=\"middle\" x=\"110.98\" y=\"-44.41\" font-family=\"Times,serif\" font-size=\"4.00\" fill=\"Ivory\">Coercion</text>\n",
       "</g>\n",
       "<!-- 2&#45;&gt;4 -->\n",
       "<g id=\"edge3\" class=\"edge\">\n",
       "<title>2&#45;&gt;4</title>\n",
       "<path fill=\"none\" stroke=\"LightSlateGray\" d=\"M135.25,-77.95C113.78,-84.93 48.78,-106.05 22.85,-114.47\"/>\n",
       "<polygon fill=\"LightSlateGray\" stroke=\"LightSlateGray\" points=\"22.58,-113.64 20.48,-115.24 23.12,-115.3 22.58,-113.64\"/>\n",
       "<text text-anchor=\"middle\" x=\"69.67\" y=\"-97.66\" font-family=\"Times,serif\" font-size=\"4.00\" fill=\"Ivory\">Guerilla war</text>\n",
       "</g>\n",
       "<!-- 5&#45;&gt;3 -->\n",
       "<g id=\"edge8\" class=\"edge\">\n",
       "<title>5&#45;&gt;3</title>\n",
       "<path fill=\"none\" stroke=\"LightSlateGray\" d=\"M17.04,-40.29C30.81,-59.25 69.18,-112.05 85.26,-134.19\"/>\n",
       "<polygon fill=\"LightSlateGray\" stroke=\"LightSlateGray\" points=\"84.4,-134.49 86.58,-136 85.81,-133.46 84.4,-134.49\"/>\n",
       "<text text-anchor=\"middle\" x=\"42.9\" y=\"-88.69\" font-family=\"Times,serif\" font-size=\"4.00\" fill=\"Ivory\">Avoidance</text>\n",
       "</g>\n",
       "<!-- 5&#45;&gt;2 -->\n",
       "<g id=\"edge10\" class=\"edge\">\n",
       "<title>5&#45;&gt;2</title>\n",
       "<path fill=\"none\" stroke=\"LightSlateGray\" d=\"M19,-35.63C40.47,-42.61 105.47,-63.73 131.4,-72.15\"/>\n",
       "<polygon fill=\"LightSlateGray\" stroke=\"LightSlateGray\" points=\"131.12,-72.98 133.77,-72.92 131.67,-71.32 131.12,-72.98\"/>\n",
       "<text text-anchor=\"middle\" x=\"66.58\" y=\"-55.34\" font-family=\"Times,serif\" font-size=\"4.00\" fill=\"Ivory\">Adaptation</text>\n",
       "</g>\n",
       "<!-- 5&#45;&gt;4 -->\n",
       "<g id=\"edge9\" class=\"edge\">\n",
       "<title>5&#45;&gt;4</title>\n",
       "<path fill=\"none\" stroke=\"LightSlateGray\" d=\"M12,-40.28C12,-56.23 12,-95.4 12,-111.21\"/>\n",
       "<text text-anchor=\"middle\" x=\"6\" y=\"-77.2\" font-family=\"Times,serif\" font-size=\"4.00\" fill=\"Ivory\">Alliance</text>\n",
       "</g>\n",
       "</g>\n",
       "</svg>\n"
      ]
     },
     "execution_count": 43,
     "metadata": {},
     "output_type": "execute_result"
    }
   ],
   "source": [
    "#% html\n",
    "\n",
    "# Graph edges\n",
    "my @multi-conflict-edges = \n",
    "    %(from=>1, to=>5, label=>'Neutrality',   :!directed), %(from=>1, to=>3, label=>'Commensalism', :directed),\n",
    "    %(from=>1, to=>4, label=>'Commensalism', :directed),  %(from=>2, to=>1, label=>'Coercion',     :directed),\n",
    "    %(from=>2, to=>3, label=>'Alliance',     :!directed), %(from=>2, to=>4, label=>'Guerilla war', :directed),\n",
    "    %(from=>3, to=>4, label=>'Conflict',     :!directed), %(from=>5, to=>3, label=>'Avoidance',    :directed),\n",
    "    %(from=>5, to=>4, label=>'Alliance',     :!directed), %(from=>5, to=>2, label=>'Adaptation',   :directed);\n",
    "\n",
    "@multi-conflict-edges .= deepmap({ $_ ~~ Bool:D ?? $_ !! $_.Str });\n",
    "\n",
    "# Edg-label rules\n",
    "my %edge-labels;\n",
    "@multi-conflict-edges.map({ %edge-labels{$_<from>}{$_<to>} = $_<label> });\n",
    "\n",
    "# Make an empty graph\n",
    "my $mc = Graph.new;\n",
    "\n",
    "# Add edge depending of its direction specification\n",
    "my @dir-edges;\n",
    "for @multi-conflict-edges -> %e { \n",
    "    $mc.edge-add(%e<from>, %e<to>, :directed);\n",
    "    if !%e<directed> {\n",
    "        $mc.edge-add(%e<to>, %e<from>, :directed)\n",
    "    }\n",
    "}\n",
    "\n",
    "# Vertex coordinates via Cycle graph\n",
    "$mc.vertex-coordinates = ($mc.vertex-list Z=> Graph::Cycle($mc.vertex-count).vertex-coordinates{^$mc.vertex-count}.values).Hash;\n",
    "\n",
    "# Graph plot\n",
    "$mc.dot(|merge-hash(%opts, {node-shape => 'square', :4edge-font-size }), :%edge-labels, highlight => { RosyBrown => <1 3 4>, SlateBlue => <2 5> }, :mixed, :svg)"
   ]
  },
  {
   "cell_type": "markdown",
   "metadata": {},
   "source": [
    "**Remark:** The graph above is just for illustration. For mathematical modeling additional interaction data graph is required; see [AAv1]."
   ]
  },
  {
   "cell_type": "markdown",
   "metadata": {},
   "source": [
    "-----\n",
    "\n",
    "## References"
   ]
  },
  {
   "cell_type": "markdown",
   "metadata": {},
   "source": [
    "### Articles, books, these\n",
    "\n",
    "[AA1] Anton Antonov,\n",
    "[\"Rock-Paper-Scissors extensions\"](https://rakuforprediction.wordpress.com/2025/03/03/rock-paper-scissors-extensions/),\n",
    "(2025),\n",
    "[RakuForPrediction at WordPress](https://rakuforprediction.wordpress.com).\n",
    "\n",
    "[AJ1] Archer Jones,\n",
    "[\"The Art of War in Western World\"](https://www.press.uillinois.edu/books/?id=p069666),\n",
    "(2000),\n",
    "[University of Illinois Press](https://www.press.uillinois.edu).\n",
    "768 pages, ISBN-10: 0252069668, ISBN-13: 978-0252069666.\n",
    "\n",
    "[SM1] Sergei Makarenko et al., \n",
    "[\"Обобщенная модель Ланчестера, формализующая конфликт нескольких сторон\"](https://www.researchgate.net/publication/356424971_Obobsennaa_model_Lancestera_formalizuusaa_konflikt_neskolkih_storon_The_General_Lanchester_Model_Defining_Multilateral_Conflicts), \n",
    "[Eng. \"The General Lanchester Model Defining Multilateral Conflicts\"], \n",
    "(2021),\n",
    "Automation of Control Processes № 2 (64), doi: 10.35752/1991-2927-2021-2-64-66-76.\n",
    "\n",
    "[NM1] Николай В. Митюков,\n",
    "[\"Математические модели и программные средства для реконструкции военно-исторических данных\"](https://www.dissercat.com/content/matematicheskie-modeli-i-programmnye-sredstva-dlya-rekonstruktsii-voenno-istoricheskikh-dann),\n",
    "(2009),\n",
    "[disserCat](https://www.dissercat.com)."
   ]
  },
  {
   "cell_type": "markdown",
   "metadata": {},
   "source": [
    "### Packages\n",
    "\n",
    "[AAp1] Anton Antonov, \n",
    "[Graph Raku package](https://github.com/antononcube/Raku-Graph),\n",
    "(2024-2025),\n",
    "[GitHub/antononcube](https://github.com/antononcube).\n",
    "\n",
    "[AAp2] Anton Antonov, \n",
    "[LLM::Functions Raku package](https://github.com/antononcube/Raku-LLM-Functions),\n",
    "(2023-2024),\n",
    "[GitHub/antononcube](https://github.com/antononcube).\n",
    "\n",
    "[AAp3] Anton Antonov, \n",
    "[LLM::Prompts Raku package](https://github.com/antononcube/Raku-LLM-Prompts),\n",
    "(2023-2024),\n",
    "[GitHub/antononcube](https://github.com/antononcube).\n",
    "\n",
    "[AAp4] Anton Antonov, \n",
    "[Jupyter::Chatbook Raku package](https://github.com/antononcube/Raku-Jupyter-Chatbook),\n",
    "(2023-2024),\n",
    "[GitHub/antononcube](https://github.com/antononcube).\n",
    "\n",
    "[EMp1] Elizabeth Mattijsen,\n",
    "[Text::Emoji Raku package](https://github.com/lizmat/Text-Emoji),\n",
    "(2024-2025),\n",
    "[GitHub/lizmat](https://github.com/lizmat)."
   ]
  },
  {
   "cell_type": "markdown",
   "metadata": {},
   "source": [
    "### Videos\n",
    "\n",
    "[AAv1] Anton Antonov,\n",
    "[\"Upgrading Epidemiological Models into War Models\"](https://www.youtube.com/watch?v=852vMS_6Qaw),\n",
    "(2024),\n",
    "[YouTube/@WolframResearch](https://www.youtube.com/@WolframResearch).\n",
    "\n",
    "[Wv1] Wozamil,\n",
    "[\"Rock Paper Scissors Lizard Spock (Extended Cut) ~ The Big Bang Theory ~\"](https://www.youtube.com/watch?v=x5Q6-wMx-K8),\n",
    "(2012),\n",
    "[YouTube@Wozamil](https://www.youtube.com/@Wozamil)."
   ]
  }
 ],
 "metadata": {
  "kernelspec": {
   "display_name": "RakuChatbook",
   "language": "raku",
   "name": "raku"
  },
  "language_info": {
   "file_extension": ".raku",
   "mimetype": "text/x-raku",
   "name": "raku",
   "version": "6.d"
  }
 },
 "nbformat": 4,
 "nbformat_minor": 2
}
