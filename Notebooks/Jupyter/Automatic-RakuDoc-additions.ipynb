{
 "cells": [
  {
   "cell_type": "markdown",
   "id": "53500f3f",
   "metadata": {},
   "source": [
    "# DocMarkuper <p style=\"font-size: 14px; color: dimgray;\">LLM prompt</p>\n",
    "\n",
    "<p style=\"font-size: 18px; font-style: italic; color: gray\">Generate markup documentation comments</p>"
   ]
  },
  {
   "cell_type": "markdown",
   "id": "2b5c871b",
   "metadata": {},
   "source": [
    "----\n",
    "\n",
    "## Introduction"
   ]
  },
  {
   "cell_type": "markdown",
   "id": "288c66a2",
   "metadata": {},
   "source": [
    "This notebook demonstrates the use of LLMs to generate document markup text over the code of large(r) code bases.\n",
    "We consider code base with more than 10 files to be large. \n",
    "(Meaning, the LLM-generation manually, file-by-file, is seen as tedious.)\n",
    "We use a recently developed prompt \"DocMarkuper\"."
   ]
  },
  {
   "cell_type": "markdown",
   "id": "e9b4e0a1",
   "metadata": {},
   "source": [
    "### Procedure outline\n",
    "\n",
    "1. Pick a Raku package with a GitHub repository \n",
    "    - With large enough number of files\n",
    "    - Say, [\"WWW::OpenAI\"](https://raku.land/zef:antononcube/WWW::OpenAI)\n",
    "2. Get the file URLs (at GitHub)\n",
    "    - Using LLMs:\n",
    "      - Generic interface\n",
    "        - [Grok worked](https://x.com/i/grok/share/pbp6JKiPc7TjQGAaIgC7Ra4G2)\n",
    "      - Or Raku code\n",
    "        - ChatGPT's models *did not* work; Gemini's *did*\n",
    "3. Batch documentation generation\n",
    "    - For each file URL:\n",
    "        - Slurp the file\n",
    "        - Process it to have RakuDoc comments\n",
    "        - Dump it into an output folder\n",
    "        - Keep track of the file size and processing time \n",
    "4. Review the generated RakuDoc files\n",
    "5. Compute basic statistics and plot size-vs-time graph"
   ]
  },
  {
   "cell_type": "markdown",
   "id": "d367c406",
   "metadata": {},
   "source": [
    "----\n",
    "\n",
    "## Setup"
   ]
  },
  {
   "cell_type": "markdown",
   "id": "7fa3094d",
   "metadata": {},
   "source": [
    "### LLM configurations"
   ]
  },
  {
   "cell_type": "code",
   "execution_count": 32,
   "id": "587cfff7",
   "metadata": {},
   "outputs": [],
   "source": [
    "sink my $conf5-mini = llm-configuration('ChatGPT', model => 'gpt-5-mini');\n",
    "sink my $conf5 = llm-configuration('ChatGPT', model => 'gpt-5');\n",
    "sink my $conf41-mini = llm-configuration('ChatGPT', model => 'gpt-4.1-mini', temperature => 0.55, max-tokens => 4096);\n",
    "sink my $conf41 = llm-configuration('ChatGPT', model => 'gpt-4.1', temperature => 0.45, max-tokens => 8192);\n",
    "sink my $conf4o-mini = llm-configuration('ChatGPT', model => 'gpt-4o-mini', temperature => 0.45, max-tokens => 8192);\n",
    "sink my $conf4o = llm-configuration('ChatGPT', model => 'gpt-4o', temperature => 0.45, max-tokens => 8192);\n",
    "sink my $conf-gemini-flash = llm-configuration('Gemini', model => 'gemini-2.0-flash', temperature => 0.45, max-tokens => 8192);"
   ]
  },
  {
   "cell_type": "markdown",
   "id": "1d13b22c",
   "metadata": {},
   "source": [
    "### JavaScript::D3"
   ]
  },
  {
   "cell_type": "code",
   "execution_count": 24,
   "id": "9ace5d24",
   "metadata": {},
   "outputs": [
    {
     "data": {
      "application/javascript": "require.config({\n     paths: {\n     d3: 'https://d3js.org/d3.v7.min'\n}});\n\nrequire(['d3'], function(d3) {\n     console.log(d3);\n});"
     },
     "execution_count": 24,
     "metadata": {},
     "output_type": "execute_result"
    }
   ],
   "source": [
    "#%javascript\n",
    "require.config({\n",
    "     paths: {\n",
    "     d3: 'https://d3js.org/d3.v7.min'\n",
    "}});\n",
    "\n",
    "require(['d3'], function(d3) {\n",
    "     console.log(d3);\n",
    "});"
   ]
  },
  {
   "cell_type": "code",
   "execution_count": 25,
   "id": "348828ec",
   "metadata": {},
   "outputs": [
    {
     "data": {
      "application/javascript": "(function(element) { require(['d3'], function(d3) {\n\n// set the dimensions and margins of the graph\nvar margin = {\"left\":40,\"top\":40,\"right\":40,\"bottom\":40},\n    width = 600 - margin.left - margin.right,\n    height = 400 - margin.top - margin.bottom;\n\n// append the svg object to the body of the page\nvar svg = d3\n   .select(element.get(0))\n  .append(\"svg\")\n    .attr(\"width\", width + margin.left + margin.right)\n    .attr(\"height\", height + margin.top + margin.bottom)\n    .style(\"background\", \"none\")\n  .append(\"g\")\n    .attr(\"transform\",\n          \"translate(\" + margin.left + \",\" + margin.top + \")\")\n\n// Obtain title\nvar title = \"\"\nvar titleFontSize = 16\n\nif ( title.length > 0 ) {\n    svg.append(\"text\")\n        .attr(\"x\", (width / 2))\n        .attr(\"y\", 0 - (margin.top / 2))\n        .attr(\"text-anchor\", \"middle\")\n        .style(\"font-size\", titleFontSize.toString() + \"px\")\n        .style(\"fill\", \"Black\")\n        .text(title);\n}\n\n// Obtain x-axis label\nvar xAxisLabel = \"\"\nvar xAxisLabelFontSize = 12\n\nif ( xAxisLabel.length > 0 ) {\n    svg.append(\"text\")\n        .attr(\"x\", (width / 2))\n        .attr(\"y\", height + margin.bottom - xAxisLabelFontSize/2)\n        .attr(\"text-anchor\", \"middle\")\n        .style(\"font-size\", xAxisLabelFontSize.toString() + \"px\")\n        .style(\"fill\", \"Black\")\n        .text(xAxisLabel);\n}\n\n// Obtain y-axis label\nvar yAxisLabel = \"\"\nvar yAxisLabelFontSize = 12\n\nif ( yAxisLabel.length > 0 ) {\n    svg.append(\"text\")\n        .attr(\"transform\", \"rotate(-90)\")\n        .attr(\"x\", - (height / 2))\n        .attr(\"y\", 0 - margin.left + yAxisLabelFontSize)\n        .attr(\"text-anchor\", \"middle\")\n        .style(\"font-size\", yAxisLabelFontSize.toString() + \"px\")\n        .style(\"fill\", \"Black\")\n        .text(yAxisLabel);\n}\n\n\n// Obtain data\nvar data = [{\"x\":1,\"y\":4.525768536443956e0},{\"x\":2,\"y\":1.2169153846113456e0},{\"y\":9.51381715210447e0,\"x\":3},{\"y\":4.250609727594253e0,\"x\":4},{\"y\":1.7269927780516858e0,\"x\":5},{\"x\":6,\"y\":2.9578045573207956e0},{\"x\":7,\"y\":4.464311600922485e0},{\"y\":7.788781400873447e0,\"x\":8},{\"y\":6.541698740392351e0,\"x\":9},{\"y\":0.32558506536977894e0,\"x\":10},{\"y\":5.990235437471582e0,\"x\":11},{\"x\":12,\"y\":8.19394292254833e0},{\"y\":8.566733981620047e0,\"x\":13},{\"y\":4.872629275094571e0,\"x\":14},{\"x\":15,\"y\":1.8942886536759762e0},{\"x\":16,\"y\":3.8652477892222716e0},{\"y\":2.4904182127351104e0,\"x\":17},{\"x\":18,\"y\":2.31509815886886e0},{\"x\":19,\"y\":6.868727858090323e0},{\"x\":20,\"y\":9.7892743167553e0},{\"y\":9.652048002207277e0,\"x\":21},{\"y\":0.35418269776199107e0,\"x\":22},{\"y\":5.695789648784155e0,\"x\":23},{\"x\":24,\"y\":0.09117954440222564e0},{\"x\":25,\"y\":0.6924982171793903e0},{\"y\":6.970285423280748e0,\"x\":26},{\"x\":27,\"y\":9.203384903498995e0},{\"y\":9.647758915358883e0,\"x\":28},{\"y\":6.722919805751526e0,\"x\":29},{\"x\":30,\"y\":9.35593184891956e0}]\n\nvar xMin = Math.min.apply(Math, data.map(function(o) { return o.x; }))\nvar xMax = Math.max.apply(Math, data.map(function(o) { return o.x; }))\n\nvar yMin = Math.min.apply(Math, data.map(function(o) { return o.y; }))\nvar yMax = Math.max.apply(Math, data.map(function(o) { return o.y; }))\n\n// X scale and Axis\nvar x = d3.scaleLinear()\n    .domain([xMin, xMax])\n    .range([0, width]);\n\n// Y scale and Axis\nvar y = d3.scaleLinear()\n    .domain([yMin, yMax])\n    .range([height, 0]);\n\nsvg\n  .append('g')\n  .attr(\"transform\", \"translate(0,\" + height + \")\")\n  .call(d3.axisBottom(x))\n\nsvg\n  .append('g')\n  .call(d3.axisLeft(y));\n\n// prepare a helper function\nvar lineFunc = d3.line()\n  .x(function(d) { return x(d.x) })\n  .y(function(d) { return y(d.y) })\n\n// Add the path using this helper function\nsvg.append('path')\n  .attr('d', lineFunc(data))\n  .attr(\"stroke-width\", 1.5)\n  .attr('stroke', \"SteelBlue\")\n  .attr('fill', 'none');\n\n}) })(element);\n"
     },
     "execution_count": 25,
     "metadata": {},
     "output_type": "execute_result"
    }
   ],
   "source": [
    "#%js\n",
    "js-d3-list-line-plot(10.rand xx 30, background => 'none')"
   ]
  },
  {
   "cell_type": "markdown",
   "id": "2e408b00",
   "metadata": {},
   "source": [
    "----\n",
    "\n",
    "## Basic example"
   ]
  },
  {
   "cell_type": "markdown",
   "id": "306aa699",
   "metadata": {},
   "source": [
    "Generate RakuDoc (or POD6) markup text from Raku code:"
   ]
  },
  {
   "cell_type": "code",
   "execution_count": 79,
   "id": "9e839a15",
   "metadata": {},
   "outputs": [
    {
     "data": {
      "text/markdown": [
       "```raku\n",
       "=begin pod\n",
       "= Function: full-zip-code(Int $x)\n",
       "Returns a 5-digit zip code string, padding with leading zeros if necessary.\n",
       "=end pod\n",
       "multi sub full-zip-code(Int $x) {\n",
       "    my $x2 = $x.Str;\n",
       "    return $x2.chars < 5 ?? '0' x (5 - $x2.chars) ~ $x2 !! $x2;\n",
       "}\n",
       "\n",
       "=begin pod\n",
       "= Function: full-zip-code(Str $x)\n",
       "Returns the input string as is.\n",
       "=end pod\n",
       "multi full-zip-code(Str $x) { return $x; }\n",
       "```"
      ]
     },
     "execution_count": 79,
     "metadata": {},
     "output_type": "execute_result"
    }
   ],
   "source": [
    "#% markdown\n",
    "\n",
    "my $code = q:to/END/;\n",
    "multi sub full-zip-code(Int $x) {\n",
    "    my $x2 = $x.Str;\n",
    "    return $x2.chars < 5 ?? '0' x (5 - $x2.chars) ~ $x2 !! $x2;\n",
    "}\n",
    "\n",
    "multi full-zip-code(Str $x) { return $x; }\n",
    "END\n",
    "\n",
    "my $res = llm-synthesize([\n",
    "    llm-prompt(\"DocMarkuper\")('Raku', $code),\n",
    "    llm-prompt(\"NothingElse\")('Raku')\n",
    "    ])"
   ]
  },
  {
   "cell_type": "markdown",
   "id": "79c224d0",
   "metadata": {},
   "source": [
    "----\n",
    "\n",
    "## Scope"
   ]
  },
  {
   "cell_type": "markdown",
   "id": "a762527c",
   "metadata": {},
   "source": [
    "Make Javadoc strings for Java code:"
   ]
  },
  {
   "cell_type": "code",
   "execution_count": 10,
   "id": "dd7e0b76",
   "metadata": {},
   "outputs": [
    {
     "data": {
      "text/markdown": [
       "```java\n",
       "/**\n",
       " * Represents a greeting message that can be displayed.\n",
       " */\n",
       "public class Greeting {\n",
       "    private String message;\n",
       "\n",
       "    /**\n",
       "     * Constructs a Greeting with an initial message.\n",
       "     *\n",
       "     * @param initialMessage the message to be stored and displayed\n",
       "     */\n",
       "    public Greeting(String initialMessage) {\n",
       "        this.message = initialMessage;\n",
       "    }\n",
       "\n",
       "    /**\n",
       "     * Prints the current greeting message to the standard output.\n",
       "     */\n",
       "    public void displayMessage() {\n",
       "        System.out.println(message);\n",
       "    }\n",
       "\n",
       "    /**\n",
       "     * The main method creates Greeting instances and displays their messages.\n",
       "     *\n",
       "     * @param args command-line arguments (not used)\n",
       "     */\n",
       "    public static void main(String[] args) {\n",
       "        Greeting helloGreeting = new Greeting(\"Hello, Java!\");\n",
       "\n",
       "        helloGreeting.displayMessage();\n",
       "\n",
       "        Greeting welcomeGreeting = new Greeting(\"Welcome to the world of classes!\");\n",
       "        welcomeGreeting.displayMessage();\n",
       "    }\n",
       "}\n",
       "```"
      ]
     },
     "execution_count": 10,
     "metadata": {},
     "output_type": "execute_result"
    }
   ],
   "source": [
    "#% markdown\n",
    "my $code = q:to/END/;\n",
    "public class Greeting {\n",
    "    private String message;\n",
    "\n",
    "    public Greeting(String initialMessage) {\n",
    "        this.message = initialMessage;\n",
    "    }\n",
    "\n",
    "    public void displayMessage() {\n",
    "        System.out.println(message);\n",
    "    }\n",
    "\n",
    "    public static void main(String[] args) {\n",
    "        Greeting helloGreeting = new Greeting(\\\"Hello, Java!\\\");\n",
    "\n",
    "        helloGreeting.displayMessage();\n",
    "\n",
    "        Greeting welcomeGreeting = new Greeting(\\\"Welcome to the \\\n",
    "world of classes!\\\");\n",
    "        welcomeGreeting.displayMessage();\n",
    "    }\n",
    "}\n",
    "END\n",
    "\n",
    "llm-prompt(\"DocMarkuper\")(\"Java\", $code)\n",
    "==> llm-synthesize"
   ]
  },
  {
   "cell_type": "markdown",
   "id": "6413176b",
   "metadata": {},
   "source": [
    "Just a prompt to be completed with code strings:"
   ]
  },
  {
   "cell_type": "code",
   "execution_count": 1,
   "id": "761dee3e",
   "metadata": {},
   "outputs": [
    {
     "data": {
      "text/plain": [
       "You are an expert Raku programmer and a good writer of technical documentation.\n",
       "For the given Raku code below preface every function or class method with corresponding RakuDoc lines.\n",
       "Keep the user comments.\n",
       "The documentation comments you generate are both concise and descriptive.\n",
       "CODE:\n"
      ]
     },
     "execution_count": 1,
     "metadata": {},
     "output_type": "execute_result"
    }
   ],
   "source": [
    "llm-prompt(\"DocMarkuper\")()"
   ]
  },
  {
   "cell_type": "markdown",
   "id": "19780883",
   "metadata": {},
   "source": [
    "----\n",
    "\n",
    "## Neat Examples"
   ]
  },
  {
   "cell_type": "markdown",
   "id": "9002ef3e",
   "metadata": {},
   "source": [
    "Generate doc-comments for a Python class, generate examples of using that class, and place the code in a Python external evaluation cell:"
   ]
  },
  {
   "cell_type": "code",
   "execution_count": 81,
   "id": "4677b07e",
   "metadata": {},
   "outputs": [],
   "source": [
    "sink my $code = q:to/END/;\n",
    "class Car:\n",
    "    def __init__(self, make, model, year):\n",
    "        self.make = make\n",
    "        self.model = model\n",
    "        self.year = year\n",
    "        self.speed = 0\n",
    "\n",
    "    def accelerate(self, amount):\n",
    "        self.speed += amount\n",
    "        print(f\\\"The {self.year} {self.make} {self.model} accelerates to \\\n",
    "{self.speed} mph.\\\")\n",
    "\n",
    "    def brake(self, amount):\n",
    "        self.speed -= amount\n",
    "        if self.speed < 0:\n",
    "            self.speed = 0\n",
    "        print(f\\\"The {self.year} {self.make} {self.model} slows down to \\\n",
    "{self.speed} mph.\\\")\n",
    "\n",
    "    def display_info(self):\n",
    "        print(f\\\"Car Info: {self.year} {self.make} {self.model}, Current \\\n",
    "Speed: {self.speed} mph\\\")\n",
    "END"
   ]
  },
  {
   "cell_type": "code",
   "execution_count": 82,
   "id": "a1aa8c6b",
   "metadata": {},
   "outputs": [
    {
     "data": {
      "text/markdown": [
       "```python\n",
       "class Car:\n",
       "    \"\"\"\n",
       "    A class to represent a car with basic attributes and behaviors.\n",
       "\n",
       "    :param make: Manufacturer of the car.\n",
       "    :type make: str\n",
       "    :param model: Model of the car.\n",
       "    :type model: str\n",
       "    :param year: Manufacturing year of the car.\n",
       "    :type year: int\n",
       "    \"\"\"\n",
       "\n",
       "    def __init__(self, make, model, year):\n",
       "        \"\"\"\n",
       "        Initialize a new Car instance.\n",
       "\n",
       "        :param make: Manufacturer of the car.\n",
       "        :type make: str\n",
       "        :param model: Model of the car.\n",
       "        :type model: str\n",
       "        :param year: Manufacturing year of the car.\n",
       "        :type year: int\n",
       "        \"\"\"\n",
       "        self.make = make\n",
       "        self.model = model\n",
       "        self.year = year\n",
       "        self.speed = 0\n",
       "\n",
       "    def accelerate(self, amount):\n",
       "        \"\"\"\n",
       "        Increase the car's speed by a specified amount.\n",
       "\n",
       "        :param amount: Amount to increase the speed by (mph).\n",
       "        :type amount: int or float\n",
       "        \"\"\"\n",
       "        # Increase speed by specified amount\n",
       "        self.speed += amount\n",
       "        print(f\"The {self.year} {self.make} {self.model} accelerates to {self.speed} mph.\")\n",
       "\n",
       "    def brake(self, amount):\n",
       "        \"\"\"\n",
       "        Decrease the car's speed by a specified amount, not allowing negative speed.\n",
       "\n",
       "        :param amount: Amount to decrease the speed by (mph).\n",
       "        :type amount: int or float\n",
       "        \"\"\"\n",
       "        # Decrease speed by specified amount\n",
       "        self.speed -= amount\n",
       "        if self.speed < 0:\n",
       "            self.speed = 0\n",
       "        print(f\"The {self.year} {self.make} {self.model} slows down to {self.speed} mph.\")\n",
       "\n",
       "    def display_info(self):\n",
       "        \"\"\"\n",
       "        Display information about the car including current speed.\n",
       "        \"\"\"\n",
       "        # Print current car information\n",
       "        print(f\"Car Info: {self.year} {self.make} {self.model}, Current Speed: {self.speed} mph\")\n",
       "```"
      ]
     },
     "execution_count": 82,
     "metadata": {},
     "output_type": "execute_result"
    }
   ],
   "source": [
    "#% markdown \n",
    "llm-prompt(\"DocMarkuper\")(\"Python\", $code)\n",
    "==> llm-synthesize"
   ]
  },
  {
   "cell_type": "markdown",
   "id": "def69be6",
   "metadata": {},
   "source": [
    "----\n",
    "\n",
    "## Batch documentation generation"
   ]
  },
  {
   "cell_type": "markdown",
   "id": "60526ff0",
   "metadata": {},
   "source": [
    "Does not work with GPT-4.1 and GPT-5:\n",
    "\n",
    "```raku\n",
    "llm-synthesize([\n",
    "    'List the individual files at this URL:',\n",
    "    'https://github.com/antononcube/Raku-WWW-OpenAI/tree/main/lib/WWW/OpenAI',\n",
    "    llm-prompt('NothingElse')('JSON')    \n",
    "],\n",
    "    e => $conf5,\n",
    "    form => sub-parser('JSON'):drop\n",
    ")\n",
    "```\n",
    "\n",
    "```\n",
    "# {error => Unable to list files at the provided URL.}\n",
    "```\n",
    "\n",
    "Grok dutifully gives the list:\n",
    "\n",
    "```raku\n",
    "my @file-names = <Audio.rakumod Batches.rakumod ChatCompletions.rakumod Embeddings.rakumod Files.rakumod FindTextualAnswer.rakumod ImageEdits.rakumod ImageGenerations.rakumod ImageVariations.rakumod Models.rakumod Moderations.rakumod Request.rakumod TextCompletions.rakumod>;\n",
    "```"
   ]
  },
  {
   "cell_type": "markdown",
   "id": "7456c81a",
   "metadata": {},
   "source": [
    "Gemini works!!"
   ]
  },
  {
   "cell_type": "code",
   "execution_count": null,
   "id": "4f6a57e4",
   "metadata": {},
   "outputs": [
    {
     "data": {
      "text/plain": [
       "[WWW/OpenAI.rakumod WWW/OpenAI/Audio.rakumod WWW/OpenAI/Chat.rakumod WWW/OpenAI/Completions.rakumod WWW/OpenAI/Edits.rakumod WWW/OpenAI/Embeddings.rakumod WWW/OpenAI/Files.rakumod WWW/OpenAI/FineTunes.rakumod WWW/OpenAI/Images.rakumod WWW/OpenAI/Models.rakumod WWW/OpenAI/Moderations.rakumod]"
      ]
     },
     "execution_count": 33,
     "metadata": {},
     "output_type": "execute_result"
    }
   ],
   "source": [
    "my @file-names = llm-synthesize([\n",
    "    'List the individual files at this URL:',\n",
    "    'https://github.com/antononcube/Raku-WWW-OpenAI/tree/main/lib/WWW/OpenAI',\n",
    "    llm-prompt('NothingElse')('JSON')    \n",
    "],\n",
    "    e => $conf-gemini-flash,\n",
    "    form => sub-parser('JSON'):drop\n",
    ")"
   ]
  },
  {
   "cell_type": "markdown",
   "id": "ff6b04f9",
   "metadata": {},
   "source": [
    "Post-process the result:"
   ]
  },
  {
   "cell_type": "code",
   "execution_count": null,
   "id": "028fa8ae",
   "metadata": {},
   "outputs": [
    {
     "data": {
      "text/plain": [
       "[Audio.rakumod Batches.rakumod ChatCompletions.rakumod Embeddings.rakumod Files.rakumod FindTextualAnswer.rakumod ImageEdits.rakumod ImageGenerations.rakumod ImageVariations.rakumod Models.rakumod Moderations.rakumod Request.rakumod TextCompletions.rakumod]"
      ]
     },
     "execution_count": 34,
     "metadata": {},
     "output_type": "execute_result"
    }
   ],
   "source": [
    "@file-names = @file-names.map({ $_.subst('WWW/') })"
   ]
  },
  {
   "cell_type": "markdown",
   "id": "62b8f16d",
   "metadata": {},
   "source": [
    "Make the absolute URLs and sort them by size (or LLM-tokens):"
   ]
  },
  {
   "cell_type": "code",
   "execution_count": null,
   "id": "d76e3c75",
   "metadata": {},
   "outputs": [
    {
     "data": {
      "text/plain": [
       "[https://raw.githubusercontent.com/antononcube/Raku-WWW-OpenAI/refs/heads/main/lib/WWW/OpenAI/Moderations.rakumod https://raw.githubusercontent.com/antononcube/Raku-WWW-OpenAI/refs/heads/main/lib/WWW/OpenAI/Embeddings.rakumod https://raw.githubusercontent.com/antononcube/Raku-WWW-OpenAI/refs/heads/main/lib/WWW/OpenAI/Files.rakumod https://raw.githubusercontent.com/antononcube/Raku-WWW-OpenAI/refs/heads/main/lib/WWW/OpenAI/ImageVariations.rakumod https://raw.githubusercontent.com/antononcube/Raku-WWW-OpenAI/refs/heads/main/lib/WWW/OpenAI/Batches.rakumod https://raw.githubusercontent.com/antononcube/Raku-WWW-OpenAI/refs/heads/main/lib/WWW/OpenAI/ImageEdits.rakumod https://raw.githubusercontent.com/antononcube/Raku-WWW-OpenAI/refs/heads/main/lib/WWW/OpenAI/FindTextualAnswer.rakumod https://raw.githubusercontent.com/antononcube/Raku-WWW-OpenAI/refs/heads/main/lib/WWW/OpenAI/Audio.rakumod https://raw.githubusercontent.com/antononcube/Raku-WWW-OpenAI/refs/heads/main/lib/WWW/OpenAI/ImageGenerations.rakumod https://raw.githubusercontent.com/antononcube/Raku-WWW-OpenAI/refs/heads/main/lib/WWW/OpenAI/TextCompletions.rakumod https://raw.githubusercontent.com/antononcube/Raku-WWW-OpenAI/refs/heads/main/lib/WWW/OpenAI/Request.rakumod https://raw.githubusercontent.com/antononcube/Raku-WWW-OpenAI/refs/heads/main/lib/WWW/OpenAI/Models.rakumod https://raw.githubusercontent.com/antononcube/Raku-WWW-OpenAI/refs/heads/main/lib/WWW/OpenAI/ChatCompletions.rakumod]"
      ]
     },
     "execution_count": 40,
     "metadata": {},
     "output_type": "execute_result"
    }
   ],
   "source": [
    "my $raw-url = 'https://raw.githubusercontent.com/antononcube/Raku-WWW-OpenAI/refs/heads/main/lib/WWW/OpenAI';\n",
    "my @urls = @file-names.map({ \"$raw-url/$_\"});\n",
    "@urls .= sort({ slurp($_).chars });"
   ]
  },
  {
   "cell_type": "markdown",
   "id": "ac99b678",
   "metadata": {},
   "source": [
    "Define output RakuDoc/POD6 directory:"
   ]
  },
  {
   "cell_type": "code",
   "execution_count": 43,
   "id": "1679bb52",
   "metadata": {},
   "outputs": [],
   "source": [
    "sink my $outputDirName = $*CWD ~ '/WWW-OpenAI-RakuDoc';"
   ]
  },
  {
   "cell_type": "markdown",
   "id": "9928c36a",
   "metadata": {},
   "source": [
    "Batch processing: \n",
    "- For each file/URL:\n",
    "    - Slurp the file\n",
    "    - Process it to have RakuDoc comments\n",
    "    - Dump it into an output folder\n",
    "    - Keep track of the file size and processing time "
   ]
  },
  {
   "cell_type": "code",
   "execution_count": null,
   "id": "89185875",
   "metadata": {},
   "outputs": [
    {
     "name": "stdout",
     "output_type": "stream",
     "text": [
      "0 : Moderations.rakumod\n",
      "\tTotal time: 4.356633541\n",
      "1 : Embeddings.rakumod\n",
      "\tTotal time: 6.592157041\n",
      "2 : Files.rakumod\n",
      "\tTotal time: 6.476077321\n",
      "3 : ImageVariations.rakumod\n",
      "\tTotal time: 23.578356867\n",
      "4 : Batches.rakumod\n",
      "\tTotal time: 9.352477943\n",
      "5 : ImageEdits.rakumod\n",
      "\tTotal time: 17.739491059\n",
      "6 : FindTextualAnswer.rakumod\n",
      "\tTotal time: 11.585346637\n",
      "7 : Audio.rakumod\n",
      "\tTotal time: 17.264578126\n",
      "8 : ImageGenerations.rakumod\n",
      "\tTotal time: 9.60693558\n",
      "9 : TextCompletions.rakumod\n",
      "\tTotal time: 9.164557062\n",
      "10 : Request.rakumod\n",
      "\tTotal time: 11.214289112\n",
      "11 : Models.rakumod\n",
      "\tTotal time: 5.438209626\n",
      "12 : ChatCompletions.rakumod\n",
      "\tTotal time: 7.296680404\n"
     ]
    },
    {
     "data": {
      "text/plain": [
       "[{chars => 1374, file => Moderations.rakumod, index => 0, lines => 47, time => 4.356633541, words => 103} {chars => 2672, file => Embeddings.rakumod, index => 1, lines => 70, time => 6.592157041, words => 221} {chars => 3007, file => Files.rakumod, index => 2, lines => 95, time => 6.476077321, words => 279} {chars => 3603, file => ImageVariations.rakumod, index => 3, lines => 103, time => 23.578356867, words => 324} {chars => 3828, file => Batches.rakumod, index => 4, lines => 106, time => 9.352477943, words => 341} {chars => 4286, file => ImageEdits.rakumod, index => 5, lines => 119, time => 17.739491059, words => 394} {chars => 6175, file => FindTextualAnswer.rakumod, index => 6, lines => 160, time => 11.585346637, words => 583} {chars => 6967, file => Audio.rakumod, index => 7, lines => 178, time => 17.264578126, words => 716} {chars => 7257, file => ImageGenerations.rakumod, index => 8, lines => 173, time => 9.60693558, words => 752} {chars => 7514, file => TextCompletions.rakumod, index => 9, lines => 192, time => 9.164557062, words => 669} {chars => 7652, file => Request.rakumod, index => 10, lines => 256, time => 11.214289112, words => 761} {chars => 7695, file => Models.rakumod, index => 11, lines => 175, time => 5.438209626, words => 450} {chars => 9565, file => ChatCompletions.rakumod, index => 12, lines => 235, time => 7.296680404, words => 906}]"
      ]
     },
     "execution_count": 71,
     "metadata": {},
     "output_type": "execute_result"
    }
   ],
   "source": [
    "my @stats = do for @urls.kv -> $index, $file {\n",
    "    my $tStart = now;\n",
    "    \n",
    "    my $basename = $file.split(\"/\").tail;\n",
    "    \n",
    "    say \"$index : $basename\";\n",
    "    \n",
    "    my $code = slurp($file);\n",
    "    $code = $code.subst(/ ^^ '#' .*? $$/):g;\n",
    "\n",
    "    my $res = llm-synthesize([\n",
    "        llm-prompt(\"DocMarkuper\")('Raku', $code),\n",
    "        \"\\n\\n\",\n",
    "        llm-prompt('NothingElse')('RakuDoc/Pod6')\n",
    "        ],\n",
    "        e => $conf41-mini\n",
    "    );\n",
    "    \n",
    "    spurt(\"$outputDirName/{$basename}\", $res.subst(/ ^ '```raku' | '```' $/):g);\n",
    "    my $time = now - $tStart;\n",
    "    say \"\\tTotal time: $time\";\n",
    "    {:$index, file => $basename, :$time, |text-stats($code)}\n",
    "}"
   ]
  },
  {
   "cell_type": "markdown",
   "id": "d823fb17",
   "metadata": {},
   "source": [
    "**Remark:** The package [\"Data::Importers\"](https://raku.land/zef:antononcube/Data::Importers) extends `slurp` to ingest the content of URLs."
   ]
  },
  {
   "cell_type": "markdown",
   "id": "19347611",
   "metadata": {},
   "source": [
    "---\n",
    "\n",
    "## Execution stats"
   ]
  },
  {
   "cell_type": "code",
   "execution_count": 72,
   "id": "70235e0b",
   "metadata": {},
   "outputs": [
    {
     "name": "stdout",
     "output_type": "stream",
     "text": [
      "+-----------------------------+-----------------------+----------------------+----------------------+\n",
      "| time                        | chars                 | words                | lines                |\n",
      "+-----------------------------+-----------------------+----------------------+----------------------+\n",
      "| Min    => 4.356633541       | Min    => 1374        | Min    => 103        | Min    => 47         |\n",
      "| 1st-Qu => 6.534117181       | 1st-Qu => 3305        | 1st-Qu => 301.5      | 1st-Qu => 99         |\n",
      "| Mean   => 10.74352233223077 | Mean   => 5507.307692 | Mean   => 499.923077 | Mean   => 146.846154 |\n",
      "| Median => 9.352477943       | Median => 6175        | Median => 450        | Median => 160        |\n",
      "| 3rd-Qu => 14.4249623815     | 3rd-Qu => 7583        | 3rd-Qu => 734        | 3rd-Qu => 185        |\n",
      "| Max    => 23.578356867      | Max    => 9565        | Max    => 906        | Max    => 256        |\n",
      "|                             |                       |                      |                      |\n",
      "|                             |                       |                      |                      |\n",
      "+-----------------------------+-----------------------+----------------------+----------------------+\n"
     ]
    }
   ],
   "source": [
    "my @field-names = <index file time chars words lines>;\n",
    "sink records-summary(@stats, field-names => @field-names.tail(*-2).List)"
   ]
  },
  {
   "cell_type": "code",
   "execution_count": 73,
   "id": "c0755db6",
   "metadata": {},
   "outputs": [
    {
     "data": {
      "text/html": [
       "<table border=\"1\"><thead><tr><th>index</th><th>file</th><th>time</th><th>chars</th><th>words</th><th>lines</th></tr></thead><tbody><tr><td>0</td><td>Moderations.rakumod</td><td>4.35</td><td>1374</td><td>103</td><td>47</td></tr><tr><td>1</td><td>Embeddings.rakumod</td><td>6.6</td><td>2672</td><td>221</td><td>70</td></tr><tr><td>2</td><td>Files.rakumod</td><td>6.5</td><td>3007</td><td>279</td><td>95</td></tr><tr><td>3</td><td>ImageVariations.rakumod</td><td>23.6</td><td>3603</td><td>324</td><td>103</td></tr><tr><td>4</td><td>Batches.rakumod</td><td>9.35</td><td>3828</td><td>341</td><td>106</td></tr><tr><td>5</td><td>ImageEdits.rakumod</td><td>17.75</td><td>4286</td><td>394</td><td>119</td></tr><tr><td>6</td><td>FindTextualAnswer.rakumod</td><td>11.6</td><td>6175</td><td>583</td><td>160</td></tr><tr><td>7</td><td>Audio.rakumod</td><td>17.25</td><td>6967</td><td>716</td><td>178</td></tr><tr><td>8</td><td>ImageGenerations.rakumod</td><td>9.6</td><td>7257</td><td>752</td><td>173</td></tr><tr><td>9</td><td>TextCompletions.rakumod</td><td>9.15</td><td>7514</td><td>669</td><td>192</td></tr><tr><td>10</td><td>Request.rakumod</td><td>11.2</td><td>7652</td><td>761</td><td>256</td></tr><tr><td>11</td><td>Models.rakumod</td><td>5.45</td><td>7695</td><td>450</td><td>175</td></tr><tr><td>12</td><td>ChatCompletions.rakumod</td><td>7.3</td><td>9565</td><td>906</td><td>235</td></tr></tbody></table>"
      ]
     },
     "execution_count": 73,
     "metadata": {},
     "output_type": "execute_result"
    }
   ],
   "source": [
    "#% html\n",
    "@stats \n",
    "==> { $_.map({ $_<time> = $_<time>.round(0.05); $_}) }()\n",
    "==> to-html(:@field-names)"
   ]
  },
  {
   "cell_type": "code",
   "execution_count": 75,
   "id": "1b98d0d8",
   "metadata": {},
   "outputs": [
    {
     "data": {
      "application/javascript": "(function(element) { require(['d3'], function(d3) {\n\n// set the dimensions and margins of the graph\nvar margin = {\"top\":40,\"left\":40,\"right\":40,\"bottom\":40},\n    width = 600 - margin.left - margin.right,\n    height = 400 - margin.top - margin.bottom;\n\n// append the svg object to the body of the page\nvar svg = d3\n   .select(element.get(0))\n  .append(\"svg\")\n    .attr(\"width\", width + margin.left + margin.right)\n    .attr(\"height\", height + margin.top + margin.bottom)\n    .style(\"background\", \"#1F1F1F\")\n  .append(\"g\")\n    .attr(\"transform\",\n          \"translate(\" + margin.left + \",\" + margin.top + \")\")\n\n// Obtain title\nvar title = \"Size vs LLM-time\"\nvar titleFontSize = 16\n\nif ( title.length > 0 ) {\n    svg.append(\"text\")\n        .attr(\"x\", (width / 2))\n        .attr(\"y\", 0 - (margin.top / 2))\n        .attr(\"text-anchor\", \"middle\")\n        .style(\"font-size\", titleFontSize.toString() + \"px\")\n        .style(\"fill\", \"ivory\")\n        .text(title);\n}\n\n// Obtain x-axis label\nvar xAxisLabel = \"size\"\nvar xAxisLabelFontSize = 12\n\nif ( xAxisLabel.length > 0 ) {\n    svg.append(\"text\")\n        .attr(\"x\", (width / 2))\n        .attr(\"y\", height + margin.bottom - xAxisLabelFontSize/2)\n        .attr(\"text-anchor\", \"middle\")\n        .style(\"font-size\", xAxisLabelFontSize.toString() + \"px\")\n        .style(\"fill\", \"ivory\")\n        .text(xAxisLabel);\n}\n\n// Obtain y-axis label\nvar yAxisLabel = \"time, s\"\nvar yAxisLabelFontSize = 12\n\nif ( yAxisLabel.length > 0 ) {\n    svg.append(\"text\")\n        .attr(\"transform\", \"rotate(-90)\")\n        .attr(\"x\", - (height / 2))\n        .attr(\"y\", 0 - margin.left + yAxisLabelFontSize)\n        .attr(\"text-anchor\", \"middle\")\n        .style(\"font-size\", yAxisLabelFontSize.toString() + \"px\")\n        .style(\"fill\", \"ivory\")\n        .text(yAxisLabel);\n}\n\n\n// Obtain data\nvar data = [{\"x\":47,\"y\":4.35},{\"y\":6.6,\"x\":70},{\"y\":6.5,\"x\":95},{\"x\":103,\"y\":23.6},{\"y\":9.35,\"x\":106},{\"y\":17.75,\"x\":119},{\"x\":160,\"y\":11.6},{\"x\":173,\"y\":9.6},{\"y\":5.45,\"x\":175},{\"y\":17.25,\"x\":178},{\"y\":9.15,\"x\":192},{\"y\":7.3,\"x\":235},{\"x\":256,\"y\":11.2}]\n\nvar xMin = Math.min.apply(Math, data.map(function(o) { return o.x; }))\nvar xMax = Math.max.apply(Math, data.map(function(o) { return o.x; }))\n\nvar yMin = Math.min.apply(Math, data.map(function(o) { return o.y; }))\nvar yMax = Math.max.apply(Math, data.map(function(o) { return o.y; }))\n\n// X scale and Axis\nvar x = d3.scaleLinear()\n    .domain([xMin, xMax])\n    .range([0, width]);\n\n// Y scale and Axis\nvar y = d3.scaleLinear()\n    .domain([yMin, yMax])\n    .range([height, 0]);\n\nsvg\n  .append('g')\n  .attr(\"transform\", \"translate(0,\" + height + \")\")\n  .call(d3.axisBottom(x).ticks(5).tickSizeInner(-height))\n\nsvg\n  .append('g')\n  .call(d3.axisLeft(y).ticks(5).tickSizeInner(-width));\n\n// prepare a helper function\nvar lineFunc = d3.line()\n  .x(function(d) { return x(d.x) })\n  .y(function(d) { return y(d.y) })\n\n// Add the path using this helper function\nsvg.append('path')\n  .attr('d', lineFunc(data))\n  .attr(\"stroke-width\", 3)\n  .attr('stroke', \"SteelBlue\")\n  .attr('fill', 'none');\n\n}) })(element);\n"
     },
     "execution_count": 75,
     "metadata": {},
     "output_type": "execute_result"
    }
   ],
   "source": [
    "#% js\n",
    "js-d3-list-line-plot(\n",
    "    @stats.map(*<lines time>).sort(*.head), \n",
    "    title-color => 'ivory',\n",
    "    title => 'Size vs LLM-time', x-label => 'size', y-label => 'time, s', \n",
    "    :3stroke-width,\n",
    "    background => '#1F1F1F', \n",
    "    :grid-lines)"
   ]
  },
  {
   "cell_type": "markdown",
   "id": "4b94bfb8",
   "metadata": {},
   "source": [
    "----\n",
    "\n",
    "## References"
   ]
  },
  {
   "cell_type": "markdown",
   "id": "c42dc3bb",
   "metadata": {},
   "source": [
    "### Packages\n",
    "\n",
    "[AAp1] Anton Antonov,\n",
    "[LLM::Functions, Raku package](https://github.com/antononcube/Raku-LLM-Functions),\n",
    "(2023-2025),\n",
    "[GitHub/antononcube](https://github.com/antononcube).\n",
    "\n",
    "[AAp2] Anton Antonov,\n",
    "[LLM::Prompts, Raku package](https://github.com/antononcube/Raku-LLM-Prompts),\n",
    "(2023-2025),\n",
    "[GitHub/antononcube](https://github.com/antononcube)."
   ]
  }
 ],
 "metadata": {
  "kernelspec": {
   "display_name": "RakuChatbook",
   "language": "raku",
   "name": "raku"
  },
  "language_info": {
   "file_extension": ".raku",
   "mimetype": "text/x-raku",
   "name": "raku",
   "version": "6.d"
  }
 },
 "nbformat": 4,
 "nbformat_minor": 5
}
