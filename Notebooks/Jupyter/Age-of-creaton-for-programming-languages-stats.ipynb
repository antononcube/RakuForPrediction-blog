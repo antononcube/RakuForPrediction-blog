{
 "cells": [
  {
   "cell_type": "markdown",
   "id": "104bbad7",
   "metadata": {},
   "source": [
    "# Age at creation for programming languages stats\n",
    "\n",
    "Anton Antonov\n",
    "[MathematicaForPrediction at WordPress](https://mathematicaforprediction.wordpress.com)\n",
    "May 2024\n",
    "\n",
    "## Introduction\n",
    "\n",
    "In this notebook we ingest programming languages creation data from [\"](https://pldb.io/index.html)**[P](https://pldb.io/index.html)**[rogramming ](https://pldb.io/index.html)**[L](https://pldb.io/index.html)**[anguage ](https://pldb.io/index.html)**[D](https://pldb.io/index.html)**[ata](https://pldb.io/index.html)**[B](https://pldb.io/index.html)**[ase\"](https://pldb.io/index.html) and visualize several statistics of it.\n",
    "\n",
    "We do not examine the data source and we do not want to reason too much about the data using the stats. We started this notebook by just wanting to make the bubble charts (both 2D and 3D.) Nevertheless, we are tempted to say and justify statements like:\n",
    "\n",
    "- Pareto holds, as usual.\n",
    "\n",
    "- Language creators tend to do it more than once.\n",
    "\n",
    "- Beware the [Second system effect](https://en.wikipedia.org/wiki/Second-system_effect).\n",
    "\n",
    "### References\n",
    "\n",
    "Here are reference links with explanations and links to dataset files:\n",
    "\n",
    "- [The Ages of Programming Language Creators (pldb.io)](https://pldb.io/posts/ageAtCreation.html)\n",
    "\n",
    "    - Short note about data and related statistics; provides a link to a [TSV file](https://pldb.io/posts/age.tsv) with the data.\n",
    "\n",
    "- [The Ages of Programming Language Creators (datawrapper.dwcdn.net)](https://datawrapper.dwcdn.net/rT0yG/1/)\n",
    "\n",
    "    - \"Just a plot\"; provides a link to a CSV file with the data.\n",
    "\n",
    "- [The Ages of Programming Language Creators](https://www.reddit.com/r/programming/comments/1cw2ri4/the_ages_of_programming_language_creators/) (Reddit)\n",
    "\n",
    "    - Link(s) and discussion."
   ]
  },
  {
   "cell_type": "markdown",
   "id": "293ce2fb",
   "metadata": {},
   "source": [
    "------\n",
    "\n",
    "## Setup"
   ]
  },
  {
   "cell_type": "code",
   "execution_count": 1,
   "id": "6561e001",
   "metadata": {},
   "outputs": [],
   "source": [
    "use Data::Importers;\n",
    "use Data::Reshapers;\n",
    "use Data::Summarizers;\n",
    "\n",
    "use JavaScript::D3;"
   ]
  },
  {
   "cell_type": "code",
   "execution_count": 2,
   "id": "9f17c1b9",
   "metadata": {},
   "outputs": [
    {
     "data": {
      "application/javascript": "require.config({\n     paths: {\n     d3: 'https://d3js.org/d3.v7.min'\n}});\n\nrequire(['d3'], function(d3) {\n     console.log(d3);\n});"
     },
     "execution_count": 2,
     "metadata": {},
     "output_type": "execute_result"
    }
   ],
   "source": [
    "#% javascript\n",
    "require.config({\n",
    "     paths: {\n",
    "     d3: 'https://d3js.org/d3.v7.min'\n",
    "}});\n",
    "\n",
    "require(['d3'], function(d3) {\n",
    "     console.log(d3);\n",
    "});"
   ]
  },
  {
   "cell_type": "code",
   "execution_count": 3,
   "id": "9d40a683",
   "metadata": {},
   "outputs": [
    {
     "data": {
      "application/javascript": "(function(element) { require(['d3'], function(d3) {\n\n// set the dimensions and margins of the graph\nvar margin = {\"right\":40,\"top\":40,\"left\":40,\"bottom\":40},\n    width = 600 - margin.left - margin.right,\n    height = 400 - margin.top - margin.bottom;\n\n// append the svg object to the body of the page\nvar svg = d3\n   .select(element.get(0))\n  .append(\"svg\")\n    .attr(\"width\", width + margin.left + margin.right)\n    .attr(\"height\", height + margin.top + margin.bottom)\n    .style(\"background\", \"none\")\n  .append(\"g\")\n    .attr(\"transform\",\n          \"translate(\" + margin.left + \",\" + margin.top + \")\")\n\n// Obtain title\nvar title = \"\"\nvar titleFontSize = 16\n\nif ( title.length > 0 ) {\n    svg.append(\"text\")\n        .attr(\"x\", (width / 2))\n        .attr(\"y\", 0 - (margin.top / 2))\n        .attr(\"text-anchor\", \"middle\")\n        .style(\"font-size\", titleFontSize.toString() + \"px\")\n        .style(\"fill\", \"Black\")\n        .text(title);\n}\n\n// Obtain x-axis label\nvar xAxisLabel = \"\"\nvar xAxisLabelFontSize = 12\n\nif ( xAxisLabel.length > 0 ) {\n    svg.append(\"text\")\n        .attr(\"x\", (width / 2))\n        .attr(\"y\", height + margin.bottom - xAxisLabelFontSize/2)\n        .attr(\"text-anchor\", \"middle\")\n        .style(\"font-size\", xAxisLabelFontSize.toString() + \"px\")\n        .style(\"fill\", \"Black\")\n        .text(xAxisLabel);\n}\n\n// Obtain y-axis label\nvar yAxisLabel = \"\"\nvar yAxisLabelFontSize = 12\n\nif ( yAxisLabel.length > 0 ) {\n    svg.append(\"text\")\n        .attr(\"transform\", \"rotate(-90)\")\n        .attr(\"x\", - (height / 2))\n        .attr(\"y\", 0 - margin.left + yAxisLabelFontSize)\n        .attr(\"text-anchor\", \"middle\")\n        .style(\"font-size\", yAxisLabelFontSize.toString() + \"px\")\n        .style(\"fill\", \"Black\")\n        .text(yAxisLabel);\n}\n\n// Obtain data\nvar data = [{\"y\":1.4627892281114252e0,\"x\":1},{\"x\":2,\"y\":3.7557788079309473e0},{\"x\":3,\"y\":4.6015689059737515e0},{\"y\":9.651509821327087e0,\"x\":4},{\"y\":1.4945543861511479e0,\"x\":5},{\"x\":6,\"y\":9.991412524899927e0},{\"y\":0.9902968547967028e0,\"x\":7},{\"y\":8.21237413020733e0,\"x\":8},{\"x\":9,\"y\":4.948181657030571e0},{\"y\":0.04800626453127177e0,\"x\":10},{\"x\":11,\"y\":8.86291486064369e0},{\"y\":4.072705822593146e0,\"x\":12},{\"x\":13,\"y\":4.0229731013397085e0},{\"y\":2.206567614871089e0,\"x\":14},{\"x\":15,\"y\":7.769327500515097e0},{\"x\":16,\"y\":8.341880073831124e0},{\"y\":2.169305347949969e0,\"x\":17},{\"y\":5.965574374472893e0,\"x\":18},{\"y\":3.188269769210237e0,\"x\":19},{\"y\":5.296445395705614e0,\"x\":20},{\"y\":2.5093259316167362e0,\"x\":21},{\"x\":22,\"y\":2.4464040821950936e0},{\"y\":1.1535956537346703e0,\"x\":23},{\"y\":7.422415586436567e0,\"x\":24},{\"y\":0.9049894766033773e0,\"x\":25},{\"x\":26,\"y\":2.1533693081197547e0},{\"x\":27,\"y\":6.984132865085675e0},{\"y\":2.959825080587785e0,\"x\":28},{\"x\":29,\"y\":8.330164735356671e0},{\"y\":9.65452618789923e0,\"x\":30},{\"y\":2.454430565799186e0,\"x\":31},{\"x\":32,\"y\":2.8942948643281587e0},{\"y\":5.867435216408899e0,\"x\":33},{\"y\":9.983294772075524e0,\"x\":34},{\"x\":35,\"y\":7.0702600813377705e0},{\"y\":6.759845296453562e0,\"x\":36},{\"y\":8.92124173969589e0,\"x\":37},{\"y\":0.4690141935587544e0,\"x\":38},{\"y\":6.028589765280211e0,\"x\":39},{\"x\":40,\"y\":6.456270748851443e0}]\n\nvar xMin = Math.min.apply(Math, data.map(function(o) { return o.x; }))\nvar xMax = Math.max.apply(Math, data.map(function(o) { return o.x; }))\n\nvar yMin = Math.min.apply(Math, data.map(function(o) { return o.y; }))\nvar yMax = Math.max.apply(Math, data.map(function(o) { return o.y; }))\n\n// X scale and Axis\nvar x = d3.scaleLinear()\n    .domain([xMin, xMax])\n    .range([0, width]);\n\n// Y scale and Axis\nvar y = d3.scaleLinear()\n    .domain([yMin, yMax])\n    .range([height, 0]);\n\nsvg\n  .append('g')\n  .attr(\"transform\", \"translate(0,\" + height + \")\")\n  .call(d3.axisBottom(x))\n\nsvg\n  .append('g')\n  .call(d3.axisLeft(y));\n\n// prepare a helper function\nvar lineFunc = d3.line()\n  .x(function(d) { return x(d.x) })\n  .y(function(d) { return y(d.y) })\n\n// Add the path using this helper function\nsvg.append('path')\n  .attr('d', lineFunc(data))\n  .attr(\"stroke-width\", 1.5)\n  .attr('stroke', \"steelblue\")\n  .attr('fill', 'none');\n\n}) })(element);\n"
     },
     "execution_count": 3,
     "metadata": {},
     "output_type": "execute_result"
    }
   ],
   "source": [
    "#% js\n",
    "js-d3-list-line-plot(10.rand xx 40, background => 'none')"
   ]
  },
  {
   "cell_type": "markdown",
   "id": "dbc88879",
   "metadata": {},
   "source": [
    "\n",
    "## Data ingestion\n",
    "\n",
    "Here we get the TSC file with Wolfram Function Repository (WFR) function [ImportCSVToDataset](https://resources.wolframcloud.com/FunctionRepository/resources/ImportCSVToDataset/):"
   ]
  },
  {
   "cell_type": "code",
   "execution_count": 4,
   "id": "603148c0",
   "metadata": {},
   "outputs": [
    {
     "data": {
      "text/plain": [
       "Vector(Vector(Atom((Str)), 13), 186)"
      ]
     },
     "execution_count": 4,
     "metadata": {},
     "output_type": "execute_result"
    }
   ],
   "source": [
    "my $url = \"https://pldb.io/posts/age.tsv\";\n",
    "my @dsDataLines = data-import($url).lines.map({ $_.split(\"\\t\") })>>.Array;\n",
    "deduce-type(@dsDataLines)"
   ]
  },
  {
   "cell_type": "code",
   "execution_count": 5,
   "id": "36878d4f",
   "metadata": {},
   "outputs": [
    {
     "data": {
      "text/plain": [
       "Vector(Assoc(Atom((Str)), Atom((Str)), 13), 184)"
      ]
     },
     "execution_count": 5,
     "metadata": {},
     "output_type": "execute_result"
    }
   ],
   "source": [
    "my @field-names = @dsDataLines.head.Array;\n",
    "my @dsData = @dsDataLines.tail(*-2).map({ @field-names.Array Z=> $_.Array })>>.Hash;\n",
    "\n",
    "deduce-type(@dsData)"
   ]
  },
  {
   "cell_type": "code",
   "execution_count": 6,
   "id": "b3a9bb72",
   "metadata": {},
   "outputs": [
    {
     "data": {
      "text/plain": [
       "Vector(Struct([ageAtCreation, appeared, creators, filename, foundationScore, id, inboundLinks, measurements, numberOfJobsEstimate, numberOfUsersEstimate, pldbScore, rank, tags], [Int, Int, Str, Str, Int, Str, Str, Str, Int, Int, Int, Int, Str]), 184)"
      ]
     },
     "execution_count": 6,
     "metadata": {},
     "output_type": "execute_result"
    }
   ],
   "source": [
    "@dsData = @dsData.map({\n",
    "    $_<ageAtCreation> = $_<ageAtCreation>.UInt;\n",
    "    $_<rank> = $_<rank>.Int;\n",
    "    $_<pldbScore> = $_<pldbScore>.Int;\n",
    "    $_<appeared> = $_<appeared>.Int;\n",
    "    $_<numberOfUsersEstimate> = $_<numberOfUsersEstimate>.Int;\n",
    "    $_<numberOfJobsEstimate> = $_<numberOfJobsEstimate>.Int;\n",
    "    $_<foundationScore> = $_<foundationScore>.Int;\n",
    "    $_\n",
    "}).Array;\n",
    "\n",
    "deduce-type(@dsData)"
   ]
  },
  {
   "cell_type": "markdown",
   "id": "8af0fce0",
   "metadata": {},
   "source": [
    "Show summary:"
   ]
  },
  {
   "cell_type": "code",
   "execution_count": 7,
   "id": "3289b551",
   "metadata": {},
   "outputs": [
    {
     "name": "stdout",
     "output_type": "stream",
     "text": [
      "+------------------------------+------------------------+-------------------------+--------------------+-----------------------+---------------+-------------------------------+---------------------+---------------------------+-----------------------+----------------------+---------------------+----------------+\n",
      "| filename                     | pldbScore              | numberOfUsersEstimate   | id                 | appeared              | inboundLinks  | creators                      | ageAtCreation       | tags                      | numberOfJobsEstimate  | rank                 | foundationScore     | measurements   |\n",
      "+------------------------------+------------------------+-------------------------+--------------------+-----------------------+---------------+-------------------------------+---------------------+---------------------------+-----------------------+----------------------+---------------------+----------------+\n",
      "| fp.scroll             => 1   | Min    => 15877        | Min    => 0             | LPC         => 1   | Min    => 1948        | 0       => 81 | Niklaus Wirth          => 8   | Min    => 16        | pl                 => 126 | Min    => 0           | Min    => 2          | Min    => 0         | 11      => 10  |\n",
      "| sed.scroll            => 1   | 1st-Qu => 21088.5      | 1st-Qu => 198           | JSON        => 1   | 1st-Qu => 1977        | 1       => 30 | Breck Yunits           => 7   | 1st-Qu => 31        | textMarkup         => 9   | 1st-Qu => 0           | 1st-Qu => 62.5       | 1st-Qu => 0         | 15      => 9   |\n",
      "| deno.scroll           => 1   | Mean   => 22173.913043 | Mean   => 273974.119565 | GCC         => 1   | Mean   => 1992.027174 | 2       => 7  | John Backus            => 5   | Mean   => 37.576087 | dataNotation       => 8   | Mean   => 9206.663043 | Mean   => 796.065217 | Mean   => 30.983696 | 22      => 8   |\n",
      "| limbo.scroll          => 1   | Median => 22750.5      | Median => 1766          | Node.js     => 1   | Median => 1993        | 4       => 5  | Tim Berners-Lee        => 4   | Median => 36        | grammarLanguage    => 6   | Median => 0           | Median => 318        | Median => 0         | 16      => 8   |\n",
      "| common-lisp.scroll    => 1   | 3rd-Qu => 23747.5      | 3rd-Qu => 23067         | Speedcoding => 1   | 3rd-Qu => 2006        | 8       => 3  | Larry Wall             => 4   | 3rd-Qu => 43        | queryLanguage      => 4   | 3rd-Qu => 121.5       | 3rd-Qu => 1188.5     | 3rd-Qu => 10        | 10      => 7   |\n",
      "| python-for-s60.scroll => 1   | Max    => 24318        | Max    => 7179119       | LiveScript  => 1   | Max    => 2023        | 17      => 3  | Chris Lattner          => 4   | Max    => 70        | stylesheetLanguage => 3   | Max    => 771996      | Max    => 4802       | Max    => 955       | 9       => 6   |\n",
      "| sather.scroll         => 1   |                        |                         | TQL         => 1   |                       | 13      => 3  | Hampton Lintorn-Catlin => 3   |                     | protocol           => 3   |                       |                      |                     | 28      => 5   |\n",
      "| colorforth.scroll     => 1   |                        |                         | Groovy      => 1   |                       | 12      => 3  | Rob Pike               => 3   |                     | compiler           => 2   |                       |                      |                     | 12      => 5   |\n",
      "| coq.scroll            => 1   |                        |                         | HAML        => 1   |                       | 5       => 3  | Arthur Whitney         => 3   |                     | library            => 2   |                       |                      |                     | 39      => 5   |\n",
      "| lola-2.scroll         => 1   |                        |                         | patch       => 1   |                       | 7       => 2  | Donald Knuth           => 3   |                     | ir                 => 2   |                       |                      |                     | 20      => 5   |\n",
      "| forth.scroll          => 1   |                        |                         | Space       => 1   |                       | 129     => 2  | Tom Preston-Werner     => 3   |                     | vm                 => 2   |                       |                      |                     | 13      => 5   |\n",
      "| mathematica.scroll    => 1   |                        |                         | HTTP        => 1   |                       | 36      => 2  | Anders Hejlsberg       => 3   |                     | template           => 2   |                       |                      |                     | 19      => 4   |\n",
      "| (Other)               => 172 |                        |                         | (Other)     => 172 |                       | (Other) => 40 | (Other)                => 134 |                     | (Other)            => 15  |                       |                      |                     | (Other) => 107 |\n",
      "+------------------------------+------------------------+-------------------------+--------------------+-----------------------+---------------+-------------------------------+---------------------+---------------------------+-----------------------+----------------------+---------------------+----------------+\n"
     ]
    }
   ],
   "source": [
    "sink records-summary(@dsData, max-tallies => 12)"
   ]
  },
  {
   "cell_type": "markdown",
   "id": "2e52f650",
   "metadata": {},
   "source": [
    "Focus languages to be used in the plots below:"
   ]
  },
  {
   "cell_type": "code",
   "execution_count": 8,
   "id": "52018ae9",
   "metadata": {},
   "outputs": [
    {
     "data": {
      "text/plain": [
       "[C++ Fortran Java Mathematica Perl 6 Raku SQL Wolfram Language]"
      ]
     },
     "execution_count": 8,
     "metadata": {},
     "output_type": "execute_result"
    }
   ],
   "source": [
    "my @focusLangs = [\"C++\", \"Fortran\", \"Java\", \"Mathematica\", \"Perl 6\", \"Raku\", \"SQL\", \"Wolfram Language\"];"
   ]
  },
  {
   "cell_type": "markdown",
   "id": "9b330044",
   "metadata": {},
   "source": [
    "Here we find the most important tags (used in the plots below):"
   ]
  },
  {
   "cell_type": "code",
   "execution_count": 9,
   "id": "0bafca51",
   "metadata": {},
   "outputs": [
    {
     "data": {
      "text/plain": [
       "[pl textMarkup dataNotation grammarLanguage queryLanguage protocol stylesheetLanguage]"
      ]
     },
     "execution_count": 9,
     "metadata": {},
     "output_type": "execute_result"
    }
   ],
   "source": [
    "my @topTags = @dsData.map(*<tags>).&tally.sort({ $_.value }).reverse.head(7)>>.key;"
   ]
  },
  {
   "cell_type": "markdown",
   "id": "4b7e088e",
   "metadata": {},
   "source": [
    "Here we add the column \"group\" based on the focus languages and most important tags:"
   ]
  },
  {
   "cell_type": "code",
   "execution_count": 10,
   "id": "bb5d6c8c",
   "metadata": {},
   "outputs": [
    {
     "data": {
      "text/plain": [
       "Vector(Struct([ageAtCreation, appeared, creators, filename, foundationScore, group, id, inboundLinks, measurements, numberOfJobsEstimate, numberOfUsersEstimate, pldbScore, rank, tags], [Int, Int, Str, Str, Int, Str, Str, Str, Str, Int, Int, Int, Int, Str]), 3)"
      ]
     },
     "execution_count": 10,
     "metadata": {},
     "output_type": "execute_result"
    }
   ],
   "source": [
    "@dsData = @dsData.map({ \n",
    "    $_<group> = do if $_<id> ∈ @focusLangs { \"focus\" } elsif $_<tags> ∈ @topTags { $_<tags> } else { \"other\" };\n",
    "    $_\n",
    "});\n",
    "\n",
    "deduce-type( @dsData.head(3) )"
   ]
  },
  {
   "cell_type": "markdown",
   "id": "c235343c",
   "metadata": {},
   "source": [
    "------\n",
    "\n",
    "## Distributions\n",
    "\n",
    "Here are the distributions of the variables/columns:\n",
    "\n",
    "- age at creation \n",
    "\n",
    "    - i.e. \"How old was the creator?\"\n",
    "\n",
    "- appeared\"\n",
    "\n",
    "    - i.e. \"In what year the programming language was proclaimed?\""
   ]
  },
  {
   "cell_type": "code",
   "execution_count": 11,
   "id": "2c432506",
   "metadata": {},
   "outputs": [
    {
     "data": {
      "application/javascript": "(function(element) { require(['d3'], function(d3) {\n\n// set the dimensions and margins of the graph\nvar margin = {\"left\":40,\"top\":40,\"bottom\":40,\"right\":40},\n    width = 600 - margin.left - margin.right,\n    height = 400 - margin.top - margin.bottom;\n\n// append the svg object to the body of the page\nvar svg = d3\n   .select(element.get(0))\n  .append(\"svg\")\n    .attr(\"width\", width + margin.left + margin.right)\n    .attr(\"height\", height + margin.top + margin.bottom)\n    .style(\"background\", \"white\")\n  .append(\"g\")\n    .attr(\"transform\",\n          \"translate(\" + margin.left + \",\" + margin.top + \")\")\n\n// Obtain title\nvar title = \"Age at creation\"\nvar titleFontSize = 16\n\nif ( title.length > 0 ) {\n    svg.append(\"text\")\n        .attr(\"x\", (width / 2))\n        .attr(\"y\", 0 - (margin.top / 2))\n        .attr(\"text-anchor\", \"middle\")\n        .style(\"font-size\", titleFontSize.toString() + \"px\")\n        .style(\"fill\", \"Black\")\n        .text(title);\n}\n\n// Obtain x-axis label\nvar xAxisLabel = \"\"\nvar xAxisLabelFontSize = 12\n\nif ( xAxisLabel.length > 0 ) {\n    svg.append(\"text\")\n        .attr(\"x\", (width / 2))\n        .attr(\"y\", height + margin.bottom - xAxisLabelFontSize/2)\n        .attr(\"text-anchor\", \"middle\")\n        .style(\"font-size\", xAxisLabelFontSize.toString() + \"px\")\n        .style(\"fill\", \"Black\")\n        .text(xAxisLabel);\n}\n\n// Obtain y-axis label\nvar yAxisLabel = \"\"\nvar yAxisLabelFontSize = 12\n\nif ( yAxisLabel.length > 0 ) {\n    svg.append(\"text\")\n        .attr(\"transform\", \"rotate(-90)\")\n        .attr(\"x\", - (height / 2))\n        .attr(\"y\", 0 - margin.left + yAxisLabelFontSize)\n        .attr(\"text-anchor\", \"middle\")\n        .style(\"font-size\", yAxisLabelFontSize.toString() + \"px\")\n        .style(\"fill\", \"Black\")\n        .text(yAxisLabel);\n}\n\n// Obtain data\nvar data = [35,31,40,35,36,33,31,27,30,53,46,41,52,30,40,39,30,44,36,33,46,45,33,38,27,48,28,40,32,31,36,36,31,29,46,36,40,33,31,36,34,33,44,21,34,36,40,28,28,40,32,24,29,32,28,38,44,28,70,39,28,35,22,43,26,34,24,38,36,34,42,36,26,36,39,35,41,32,18,55,32,32,29,36,55,44,43,44,52,31,43,34,36,27,29,34,26,36,43,61,26,24,40,32,36,46,37,33,32,39,25,33,25,23,39,43,30,49,39,39,36,36,32,57,64,31,43,31,30,49,41,33,28,43,53,33,48,62,49,65,38,29,30,42,65,55,56,38,37,34,39,30,28,38,54,29,33,58,35,50,47,32,18,34,65,27,48,30,26,50,33,43,16,63,35,60,27,31,44,31,45,21,61,42]\n\nvar valueMin = Math.min.apply(Math, data)\nvar valueMax = Math.max.apply(Math, data)\n\n// X axis: scale and draw:\nvar x = d3.scaleLinear()\n      .domain([valueMin, valueMax])\n      .range([0, width]);\nsvg.append(\"g\")\n      .attr(\"transform\", \"translate(0,\" + height + \")\")\n      .call(d3.axisBottom(x));\n\n// set the parameters for the histogram\nvar histogram = d3.histogram()\n      .value(function(d) { return d; })  // I need to give the vector of value\n      .domain(x.domain())  // then the domain of the graphic\n      .thresholds(x.ticks(70)); // then the numbers of bins\n\n// And apply this function to data to get the bins\nvar bins = histogram(data);\n\n// Y axis: scale and draw:\nvar y = d3.scaleLinear()\n      .range([height, 0]);\n      y.domain([0, d3.max(bins, function(d) { return d.length; })]);   // d3.hist has to be called before the Y axis obviously\nsvg.append(\"g\")\n      .call(d3.axisLeft(y));\n\n// append the bar rectangles to the svg element\nsvg.selectAll(\"rect\")\n      .data(bins)\n      .enter()\n      .append(\"rect\")\n        .attr(\"x\", 1)\n        .attr(\"transform\", function(d) { return \"translate(\" + x(d.x0) + \",\" + y(d.length) + \")\"; })\n        .attr(\"width\", function(d) { return x(d.x1) - x(d.x0) -1 ; })\n        .attr(\"height\", function(d) { return height - y(d.length); })\n        .style(\"fill\", \"steelblue\")\n\n}) })(element);\n(function(element) { require(['d3'], function(d3) {\n\n// set the dimensions and margins of the graph\nvar margin = {\"bottom\":40,\"top\":40,\"left\":40,\"right\":40},\n    width = 600 - margin.left - margin.right,\n    height = 400 - margin.top - margin.bottom;\n\n// append the svg object to the body of the page\nvar svg = d3\n   .select(element.get(0))\n  .append(\"svg\")\n    .attr(\"width\", width + margin.left + margin.right)\n    .attr(\"height\", height + margin.top + margin.bottom)\n    .style(\"background\", \"white\")\n  .append(\"g\")\n    .attr(\"transform\",\n          \"translate(\" + margin.left + \",\" + margin.top + \")\")\n\n// Obtain title\nvar title = \"Appeared\"\nvar titleFontSize = 16\n\nif ( title.length > 0 ) {\n    svg.append(\"text\")\n        .attr(\"x\", (width / 2))\n        .attr(\"y\", 0 - (margin.top / 2))\n        .attr(\"text-anchor\", \"middle\")\n        .style(\"font-size\", titleFontSize.toString() + \"px\")\n        .style(\"fill\", \"Black\")\n        .text(title);\n}\n\n// Obtain x-axis label\nvar xAxisLabel = \"\"\nvar xAxisLabelFontSize = 12\n\nif ( xAxisLabel.length > 0 ) {\n    svg.append(\"text\")\n        .attr(\"x\", (width / 2))\n        .attr(\"y\", height + margin.bottom - xAxisLabelFontSize/2)\n        .attr(\"text-anchor\", \"middle\")\n        .style(\"font-size\", xAxisLabelFontSize.toString() + \"px\")\n        .style(\"fill\", \"Black\")\n        .text(xAxisLabel);\n}\n\n// Obtain y-axis label\nvar yAxisLabel = \"\"\nvar yAxisLabelFontSize = 12\n\nif ( yAxisLabel.length > 0 ) {\n    svg.append(\"text\")\n        .attr(\"transform\", \"rotate(-90)\")\n        .attr(\"x\", - (height / 2))\n        .attr(\"y\", 0 - margin.left + yAxisLabelFontSize)\n        .attr(\"text-anchor\", \"middle\")\n        .style(\"font-size\", yAxisLabelFontSize.toString() + \"px\")\n        .style(\"fill\", \"Black\")\n        .text(yAxisLabel);\n}\n\n// Obtain data\nvar data = [1991,1972,1995,1985,1991,1987,1996,1995,1995,2009,2001,1996,2012,1974,2000,1993,1989,2006,2014,2010,2004,1984,1993,1990,2011,2007,2009,1984,2012,1958,1976,1986,1972,1988,2011,1970,1980,1957,2004,1994,2013,1995,2001,1975,2003,1977,1978,1996,1989,2005,1972,2006,2009,1970,2008,2018,1964,1985,1990,2000,1992,1995,2006,1974,2019,1988,2006,1964,1998,1989,1982,1984,1995,1986,1973,1977,2019,2013,1987,2013,2011,1985,1988,1985,2022,1978,2008,2022,1986,1979,1998,1965,1960,2007,2008,1991,1966,1993,1977,2015,1969,2006,1997,1987,1997,2003,2001,2017,1956,1994,1993,2017,1969,1976,1997,1977,2011,2014,2017,1995,2020,1975,1995,1991,2018,1990,1971,1988,1969,1987,1975,2017,2008,1998,1977,2000,1996,2017,1955,2019,1948,1953,1997,1976,1989,2019,1996,1964,1993,1987,2023,1974,2012,1976,1992,2013,1967,2014,1996,2006,1995,1980,1974,1990,1993,1967,1972,1973,1969,2006,1955,2011,2002,2018,1963,1994,2000,1958,1972,1985,2000,2015,2017,2011]\n\nvar valueMin = Math.min.apply(Math, data)\nvar valueMax = Math.max.apply(Math, data)\n\n// X axis: scale and draw:\nvar x = d3.scaleLinear()\n      .domain([valueMin, valueMax])\n      .range([0, width]);\nsvg.append(\"g\")\n      .attr(\"transform\", \"translate(0,\" + height + \")\")\n      .call(d3.axisBottom(x));\n\n// set the parameters for the histogram\nvar histogram = d3.histogram()\n      .value(function(d) { return d; })  // I need to give the vector of value\n      .domain(x.domain())  // then the domain of the graphic\n      .thresholds(x.ticks(70)); // then the numbers of bins\n\n// And apply this function to data to get the bins\nvar bins = histogram(data);\n\n// Y axis: scale and draw:\nvar y = d3.scaleLinear()\n      .range([height, 0]);\n      y.domain([0, d3.max(bins, function(d) { return d.length; })]);   // d3.hist has to be called before the Y axis obviously\nsvg.append(\"g\")\n      .call(d3.axisLeft(y));\n\n// append the bar rectangles to the svg element\nsvg.selectAll(\"rect\")\n      .data(bins)\n      .enter()\n      .append(\"rect\")\n        .attr(\"x\", 1)\n        .attr(\"transform\", function(d) { return \"translate(\" + x(d.x0) + \",\" + y(d.length) + \")\"; })\n        .attr(\"width\", function(d) { return x(d.x1) - x(d.x0) -1 ; })\n        .attr(\"height\", function(d) { return height - y(d.length); })\n        .style(\"fill\", \"steelblue\")\n\n}) })(element);\n"
     },
     "execution_count": 11,
     "metadata": {},
     "output_type": "execute_result"
    }
   ],
   "source": [
    "#% js\n",
    "js-d3-histogram(@dsData.map(*<ageAtCreation>), title => 'Age at creation') \n",
    "~\n",
    "js-d3-histogram(@dsData.map(*<appeared>), title => 'Appeared')\n"
   ]
  },
  {
   "cell_type": "markdown",
   "id": "0cad2593",
   "metadata": {},
   "source": [
    "\n",
    "Here are corresponding Box-Whisker plots together with tables of their statistics:"
   ]
  },
  {
   "cell_type": "markdown",
   "id": "cef12e09",
   "metadata": {},
   "source": [
    "\n",
    "## Pareto principle manifestation\n",
    "\n",
    "### Number of creations\n",
    "\n",
    "Here is the Pareto principle statistic for the number of created (or renamed) programming languages per creator:"
   ]
  },
  {
   "cell_type": "code",
   "execution_count": 12,
   "id": "21a29986",
   "metadata": {},
   "outputs": [
    {
     "data": {
      "text/plain": [
       "(Niklaus Wirth => 0.043478 Breck Yunits => 0.081522 John Backus => 0.108696 Larry Wall => 0.130435 Chris Lattner => 0.152174 Tim Berners-Lee => 0.173913)"
      ]
     },
     "execution_count": 12,
     "metadata": {},
     "output_type": "execute_result"
    }
   ],
   "source": [
    "my %creations = @dsData.map(*<creators>).&tally;\n",
    "my @paretoStats = pareto-principle-statistic(%creations);\n",
    "@paretoStats.head(6)"
   ]
  },
  {
   "cell_type": "markdown",
   "id": "22e54fe1",
   "metadata": {},
   "source": [
    "Here is the corresponding plot:"
   ]
  },
  {
   "cell_type": "code",
   "execution_count": 13,
   "id": "62d4ee24",
   "metadata": {},
   "outputs": [
    {
     "data": {
      "application/javascript": "(function(element) { require(['d3'], function(d3) {\n\n// set the dimensions and margins of the graph\nvar margin = {\"bottom\":40,\"left\":40,\"top\":40,\"right\":40},\n    width = 600 - margin.left - margin.right,\n    height = 400 - margin.top - margin.bottom;\n\n// append the svg object to the body of the page\nvar svg = d3\n   .select(element.get(0))\n  .append(\"svg\")\n    .attr(\"width\", width + margin.left + margin.right)\n    .attr(\"height\", height + margin.top + margin.bottom)\n    .style(\"background\", \"none\")\n  .append(\"g\")\n    .attr(\"transform\",\n          \"translate(\" + margin.left + \",\" + margin.top + \")\")\n\n// Obtain title\nvar title = \"Pareto principle: number languages per creators team\"\nvar titleFontSize = 16\n\nif ( title.length > 0 ) {\n    svg.append(\"text\")\n        .attr(\"x\", (width / 2))\n        .attr(\"y\", 0 - (margin.top / 2))\n        .attr(\"text-anchor\", \"middle\")\n        .style(\"font-size\", titleFontSize.toString() + \"px\")\n        .style(\"fill\", \"Silver\")\n        .text(title);\n}\n\n// Obtain x-axis label\nvar xAxisLabel = \"\"\nvar xAxisLabelFontSize = 12\n\nif ( xAxisLabel.length > 0 ) {\n    svg.append(\"text\")\n        .attr(\"x\", (width / 2))\n        .attr(\"y\", height + margin.bottom - xAxisLabelFontSize/2)\n        .attr(\"text-anchor\", \"middle\")\n        .style(\"font-size\", xAxisLabelFontSize.toString() + \"px\")\n        .style(\"fill\", \"Silver\")\n        .text(xAxisLabel);\n}\n\n// Obtain y-axis label\nvar yAxisLabel = \"\"\nvar yAxisLabelFontSize = 12\n\nif ( yAxisLabel.length > 0 ) {\n    svg.append(\"text\")\n        .attr(\"transform\", \"rotate(-90)\")\n        .attr(\"x\", - (height / 2))\n        .attr(\"y\", 0 - margin.left + yAxisLabelFontSize)\n        .attr(\"text-anchor\", \"middle\")\n        .style(\"font-size\", yAxisLabelFontSize.toString() + \"px\")\n        .style(\"fill\", \"Silver\")\n        .text(yAxisLabel);\n}\n\n// Obtain data\nvar data = [{\"x\":1,\"y\":0.043478},{\"y\":0.081522,\"x\":2},{\"y\":0.108696,\"x\":3},{\"y\":0.130435,\"x\":4},{\"x\":5,\"y\":0.152174},{\"y\":0.173913,\"x\":6},{\"y\":0.190217,\"x\":7},{\"x\":8,\"y\":0.206522},{\"x\":9,\"y\":0.222826},{\"y\":0.23913,\"x\":10},{\"x\":11,\"y\":0.255435},{\"x\":12,\"y\":0.271739},{\"x\":13,\"y\":0.282609},{\"y\":0.293478,\"x\":14},{\"x\":15,\"y\":0.304348},{\"y\":0.315217,\"x\":16},{\"y\":0.326087,\"x\":17},{\"y\":0.336957,\"x\":18},{\"y\":0.347826,\"x\":19},{\"y\":0.358696,\"x\":20},{\"x\":21,\"y\":0.369565},{\"x\":22,\"y\":0.380435},{\"y\":0.391304,\"x\":23},{\"y\":0.402174,\"x\":24},{\"y\":0.413043,\"x\":25},{\"y\":0.423913,\"x\":26},{\"y\":0.434783,\"x\":27},{\"x\":28,\"y\":0.445652},{\"y\":0.456522,\"x\":29},{\"x\":30,\"y\":0.467391},{\"x\":31,\"y\":0.478261},{\"y\":0.48913,\"x\":32},{\"y\":0.5,\"x\":33},{\"y\":0.505435,\"x\":34},{\"y\":0.51087,\"x\":35},{\"x\":36,\"y\":0.516304},{\"x\":37,\"y\":0.521739},{\"x\":38,\"y\":0.527174},{\"x\":39,\"y\":0.532609},{\"y\":0.538043,\"x\":40},{\"y\":0.543478,\"x\":41},{\"x\":42,\"y\":0.548913},{\"x\":43,\"y\":0.554348},{\"x\":44,\"y\":0.559783},{\"y\":0.565217,\"x\":45},{\"x\":46,\"y\":0.570652},{\"x\":47,\"y\":0.576087},{\"x\":48,\"y\":0.581522},{\"y\":0.586957,\"x\":49},{\"x\":50,\"y\":0.592391},{\"x\":51,\"y\":0.597826},{\"y\":0.603261,\"x\":52},{\"y\":0.608696,\"x\":53},{\"x\":54,\"y\":0.61413},{\"y\":0.619565,\"x\":55},{\"x\":56,\"y\":0.625},{\"x\":57,\"y\":0.630435},{\"y\":0.63587,\"x\":58},{\"x\":59,\"y\":0.641304},{\"y\":0.646739,\"x\":60},{\"y\":0.652174,\"x\":61},{\"x\":62,\"y\":0.657609},{\"x\":63,\"y\":0.663043},{\"x\":64,\"y\":0.668478},{\"y\":0.673913,\"x\":65},{\"x\":66,\"y\":0.679348},{\"x\":67,\"y\":0.684783},{\"y\":0.690217,\"x\":68},{\"y\":0.695652,\"x\":69},{\"x\":70,\"y\":0.701087},{\"y\":0.706522,\"x\":71},{\"x\":72,\"y\":0.711957},{\"y\":0.717391,\"x\":73},{\"x\":74,\"y\":0.722826},{\"x\":75,\"y\":0.728261},{\"x\":76,\"y\":0.733696},{\"y\":0.73913,\"x\":77},{\"y\":0.744565,\"x\":78},{\"x\":79,\"y\":0.75},{\"y\":0.755435,\"x\":80},{\"y\":0.76087,\"x\":81},{\"x\":82,\"y\":0.766304},{\"x\":83,\"y\":0.771739},{\"y\":0.777174,\"x\":84},{\"y\":0.782609,\"x\":85},{\"y\":0.788043,\"x\":86},{\"y\":0.793478,\"x\":87},{\"y\":0.798913,\"x\":88},{\"y\":0.804348,\"x\":89},{\"y\":0.809783,\"x\":90},{\"y\":0.815217,\"x\":91},{\"x\":92,\"y\":0.820652},{\"y\":0.826087,\"x\":93},{\"x\":94,\"y\":0.831522},{\"x\":95,\"y\":0.836957},{\"y\":0.842391,\"x\":96},{\"y\":0.847826,\"x\":97},{\"y\":0.853261,\"x\":98},{\"y\":0.858696,\"x\":99},{\"y\":0.86413,\"x\":100},{\"y\":0.869565,\"x\":101},{\"x\":102,\"y\":0.875},{\"x\":103,\"y\":0.880435},{\"y\":0.88587,\"x\":104},{\"y\":0.891304,\"x\":105},{\"y\":0.896739,\"x\":106},{\"y\":0.902174,\"x\":107},{\"y\":0.907609,\"x\":108},{\"y\":0.913043,\"x\":109},{\"y\":0.918478,\"x\":110},{\"y\":0.923913,\"x\":111},{\"y\":0.929348,\"x\":112},{\"y\":0.934783,\"x\":113},{\"y\":0.940217,\"x\":114},{\"x\":115,\"y\":0.945652},{\"x\":116,\"y\":0.951087},{\"y\":0.956522,\"x\":117},{\"x\":118,\"y\":0.961957},{\"y\":0.967391,\"x\":119},{\"x\":120,\"y\":0.972826},{\"x\":121,\"y\":0.978261},{\"x\":122,\"y\":0.983696},{\"x\":123,\"y\":0.98913},{\"x\":124,\"y\":0.994565},{\"y\":1.0,\"x\":125}]\n\nvar xMin = Math.min.apply(Math, data.map(function(o) { return o.x; }))\nvar xMax = Math.max.apply(Math, data.map(function(o) { return o.x; }))\n\nvar yMin = Math.min.apply(Math, data.map(function(o) { return o.y; }))\nvar yMax = Math.max.apply(Math, data.map(function(o) { return o.y; }))\n\n// X scale and Axis\nvar x = d3.scaleLinear()\n    .domain([xMin, xMax])\n    .range([0, width]);\n\n// Y scale and Axis\nvar y = d3.scaleLinear()\n    .domain([yMin, yMax])\n    .range([height, 0]);\n\nsvg\n  .append('g')\n  .attr(\"transform\", \"translate(0,\" + height + \")\")\n  .call(d3.axisBottom(x).ticks(5).tickSizeInner(-height))\n\nsvg\n  .append('g')\n  .call(d3.axisLeft(y).ticks(5).tickSizeInner(-width));\n\n// Add dots\nsvg\n  .selectAll(\"whatever\")\n  .data(data)\n  .enter()\n  .append(\"circle\")\n    .attr(\"cx\", function(d){ return x(d.x) })\n    .attr(\"cy\", function(d){ return y(d.y) })\n    .attr(\"r\", 3)\n    .attr(\"color\", \"blue\")\n    .attr(\"fill\", \"steelblue\")\n\n}) })(element);\n"
     },
     "execution_count": 13,
     "metadata": {},
     "output_type": "execute_result"
    }
   ],
   "source": [
    "#% js\n",
    "js-d3-list-plot( @paretoStats>>.value, \n",
    "    title => 'Pareto principle: number languages per creators team', \n",
    "    title-color => 'Silver',\n",
    "    background => 'none', \n",
    "    :grid-lines,\n",
    ")"
   ]
  },
  {
   "cell_type": "markdown",
   "id": "43767057",
   "metadata": {},
   "source": [
    "**Remark:** We can see that ≈25% of the creators correspond to ≈50% of the languages."
   ]
  },
  {
   "cell_type": "markdown",
   "id": "0a14ff72",
   "metadata": {},
   "source": [
    "\n",
    "### Popularity\n",
    "\n",
    "Obviously, programmers can and do use more than one programming language. Nevertheless, it is interesting to see the Pareto principle plot for the languages \"mind share\" based on the number of users *estimates*."
   ]
  },
  {
   "cell_type": "code",
   "execution_count": 14,
   "id": "41115922",
   "metadata": {},
   "outputs": [
    {
     "data": {
      "application/javascript": "(function(element) { require(['d3'], function(d3) {\n\n// set the dimensions and margins of the graph\nvar margin = {\"bottom\":40,\"top\":40,\"left\":40,\"right\":40},\n    width = 600 - margin.left - margin.right,\n    height = 400 - margin.top - margin.bottom;\n\n// append the svg object to the body of the page\nvar svg = d3\n   .select(element.get(0))\n  .append(\"svg\")\n    .attr(\"width\", width + margin.left + margin.right)\n    .attr(\"height\", height + margin.top + margin.bottom)\n    .style(\"background\", \"none\")\n  .append(\"g\")\n    .attr(\"transform\",\n          \"translate(\" + margin.left + \",\" + margin.top + \")\")\n\n// Obtain title\nvar title = \"Pareto principle: number users per language\"\nvar titleFontSize = 16\n\nif ( title.length > 0 ) {\n    svg.append(\"text\")\n        .attr(\"x\", (width / 2))\n        .attr(\"y\", 0 - (margin.top / 2))\n        .attr(\"text-anchor\", \"middle\")\n        .style(\"font-size\", titleFontSize.toString() + \"px\")\n        .style(\"fill\", \"Silver\")\n        .text(title);\n}\n\n// Obtain x-axis label\nvar xAxisLabel = \"\"\nvar xAxisLabelFontSize = 12\n\nif ( xAxisLabel.length > 0 ) {\n    svg.append(\"text\")\n        .attr(\"x\", (width / 2))\n        .attr(\"y\", height + margin.bottom - xAxisLabelFontSize/2)\n        .attr(\"text-anchor\", \"middle\")\n        .style(\"font-size\", xAxisLabelFontSize.toString() + \"px\")\n        .style(\"fill\", \"Silver\")\n        .text(xAxisLabel);\n}\n\n// Obtain y-axis label\nvar yAxisLabel = \"\"\nvar yAxisLabelFontSize = 12\n\nif ( yAxisLabel.length > 0 ) {\n    svg.append(\"text\")\n        .attr(\"transform\", \"rotate(-90)\")\n        .attr(\"x\", - (height / 2))\n        .attr(\"y\", 0 - margin.left + yAxisLabelFontSize)\n        .attr(\"text-anchor\", \"middle\")\n        .style(\"font-size\", yAxisLabelFontSize.toString() + \"px\")\n        .style(\"fill\", \"Silver\")\n        .text(yAxisLabel);\n}\n\n// Obtain data\nvar data = [{\"y\":0.142411083,\"x\":1},{\"x\":2,\"y\":0.253127408},{\"x\":3,\"y\":0.363635961},{\"x\":4,\"y\":0.445527186},{\"x\":5,\"y\":0.52078358},{\"x\":6,\"y\":0.57935379},{\"y\":0.636520531,\"x\":7},{\"x\":8,\"y\":0.689317866},{\"x\":9,\"y\":0.741059543},{\"y\":0.78782852,\"x\":10},{\"y\":0.825864721,\"x\":11},{\"y\":0.85907011,\"x\":12},{\"y\":0.880406885,\"x\":13},{\"y\":0.894037893,\"x\":14},{\"x\":15,\"y\":0.903797304},{\"x\":16,\"y\":0.911628851},{\"x\":17,\"y\":0.919129738},{\"y\":0.926352315,\"x\":18},{\"y\":0.933515459,\"x\":19},{\"x\":20,\"y\":0.940572239},{\"y\":0.946700615,\"x\":21},{\"y\":0.951023857,\"x\":22},{\"x\":23,\"y\":0.95533363},{\"y\":0.959473739,\"x\":24},{\"y\":0.962749814,\"x\":25},{\"y\":0.965700366,\"x\":26},{\"y\":0.96846703,\"x\":27},{\"x\":28,\"y\":0.971071351},{\"x\":29,\"y\":0.97355387},{\"y\":0.976002196,\"x\":30},{\"x\":31,\"y\":0.978127238},{\"x\":32,\"y\":0.979788951},{\"y\":0.981296809,\"x\":33},{\"x\":34,\"y\":0.982573072},{\"x\":35,\"y\":0.983797938},{\"x\":36,\"y\":0.985017527},{\"y\":0.986197105,\"x\":37},{\"x\":38,\"y\":0.987364702},{\"x\":39,\"y\":0.988385943},{\"y\":0.98914619,\"x\":40},{\"x\":41,\"y\":0.98989261},{\"y\":0.990636096,\"x\":42},{\"x\":43,\"y\":0.991306185},{\"x\":44,\"y\":0.991940428},{\"y\":0.992478959,\"x\":45},{\"x\":46,\"y\":0.992941554},{\"y\":0.993394112,\"x\":47},{\"x\":48,\"y\":0.99379194},{\"x\":49,\"y\":0.994146028},{\"y\":0.994419796,\"x\":50},{\"y\":0.9946863,\"x\":51},{\"y\":0.994934324,\"x\":52},{\"x\":53,\"y\":0.995179904},{\"x\":54,\"y\":0.995420247},{\"y\":0.99566037,\"x\":55},{\"x\":56,\"y\":0.995869354},{\"x\":57,\"y\":0.996076688},{\"x\":58,\"y\":0.99624381},{\"x\":59,\"y\":0.996396716},{\"x\":60,\"y\":0.996542576},{\"x\":61,\"y\":0.996683101},{\"x\":62,\"y\":0.996822455},{\"x\":63,\"y\":0.996952783},{\"x\":64,\"y\":0.997082654},{\"x\":65,\"y\":0.997207845},{\"y\":0.997332123,\"x\":66},{\"x\":67,\"y\":0.997452255},{\"x\":68,\"y\":0.997567011},{\"x\":69,\"y\":0.997678295},{\"y\":0.997785752,\"x\":70},{\"y\":0.997892871,\"x\":71},{\"y\":0.997985707,\"x\":72},{\"y\":0.998074655,\"x\":73},{\"y\":0.998161541,\"x\":74},{\"y\":0.998247157,\"x\":75},{\"x\":76,\"y\":0.998331979},{\"y\":0.99840728,\"x\":77},{\"x\":78,\"y\":0.998482461},{\"x\":79,\"y\":0.998555263},{\"x\":80,\"y\":0.998625088},{\"x\":81,\"y\":0.99869136},{\"x\":82,\"y\":0.998755654},{\"y\":0.998819727,\"x\":83},{\"x\":84,\"y\":0.998881341},{\"y\":0.998941803,\"x\":85},{\"y\":0.998995859,\"x\":86},{\"x\":87,\"y\":0.999047137},{\"y\":0.999097741,\"x\":88},{\"y\":0.99914654,\"x\":89},{\"x\":90,\"y\":0.999184051},{\"y\":0.999221047,\"x\":91},{\"x\":92,\"y\":0.999256098},{\"x\":93,\"y\":0.99929111},{\"x\":94,\"y\":0.99932551},{\"x\":95,\"y\":0.999359032},{\"x\":96,\"y\":0.99939168},{\"x\":97,\"y\":0.999424315},{\"x\":98,\"y\":0.999456708},{\"x\":99,\"y\":0.99948904},{\"y\":0.9995213,\"x\":100},{\"y\":0.999550854,\"x\":101},{\"y\":0.999578229,\"x\":102},{\"x\":103,\"y\":0.999603223},{\"x\":104,\"y\":0.999625242},{\"y\":0.999646071,\"x\":105},{\"y\":0.999665134,\"x\":106},{\"x\":107,\"y\":0.999681202},{\"y\":0.999696873,\"x\":108},{\"x\":109,\"y\":0.999712167},{\"y\":0.999727362,\"x\":110},{\"x\":111,\"y\":0.999742538},{\"x\":112,\"y\":0.99975672},{\"x\":113,\"y\":0.999769714},{\"y\":0.999781338,\"x\":114},{\"x\":115,\"y\":0.999792943},{\"x\":116,\"y\":0.999802703},{\"y\":0.999811848,\"x\":117},{\"x\":118,\"y\":0.999820477},{\"x\":119,\"y\":0.999829026},{\"x\":120,\"y\":0.999837457},{\"x\":121,\"y\":0.999845788},{\"y\":0.99985412,\"x\":122},{\"y\":0.99986217,\"x\":123},{\"y\":0.999870009,\"x\":124},{\"y\":0.999877746,\"x\":125},{\"x\":126,\"y\":0.999885403},{\"y\":0.99989205,\"x\":127},{\"y\":0.999898614,\"x\":128},{\"y\":0.999905081,\"x\":129},{\"x\":130,\"y\":0.999911151},{\"x\":131,\"y\":0.99991692},{\"x\":132,\"y\":0.999922299},{\"x\":133,\"y\":0.999927377},{\"y\":0.99993194,\"x\":134},{\"y\":0.999936304,\"x\":135},{\"y\":0.999940668,\"x\":136},{\"y\":0.999944735,\"x\":137},{\"x\":138,\"y\":0.999948722},{\"y\":0.99995259,\"x\":139},{\"y\":0.99995608,\"x\":140},{\"x\":141,\"y\":0.999959573},{\"x\":142,\"y\":0.999963044},{\"y\":0.99996632,\"x\":143},{\"y\":0.999968995,\"x\":144},{\"y\":0.999971494,\"x\":145},{\"y\":0.999973974,\"x\":146},{\"x\":147,\"y\":0.999976374},{\"y\":0.999978715,\"x\":148},{\"y\":0.999980996,\"x\":149},{\"y\":0.999983079,\"x\":150},{\"x\":151,\"y\":0.999984864},{\"y\":0.99998665,\"x\":152},{\"x\":153,\"y\":0.999988356},{\"y\":0.999989665,\"x\":154},{\"x\":155,\"y\":0.99999095},{\"x\":156,\"y\":0.999992164},{\"x\":157,\"y\":0.999993355},{\"y\":0.999994446,\"x\":158},{\"y\":0.999995259,\"x\":159},{\"x\":160,\"y\":0.999996052},{\"x\":161,\"y\":0.999996469},{\"y\":0.999996886,\"x\":162},{\"y\":0.999997282,\"x\":163},{\"y\":0.999997679,\"x\":164},{\"y\":0.999998076,\"x\":165},{\"x\":166,\"y\":0.999998473},{\"x\":167,\"y\":0.999998869},{\"y\":0.999999187,\"x\":168},{\"y\":0.999999445,\"x\":169},{\"x\":170,\"y\":0.999999702},{\"y\":0.999999921,\"x\":171},{\"y\":0.99999994,\"x\":172},{\"x\":173,\"y\":0.99999996},{\"y\":0.99999998,\"x\":174},{\"x\":175,\"y\":1.0},{\"x\":176,\"y\":1.0},{\"y\":1.0,\"x\":177},{\"y\":1.0,\"x\":178},{\"x\":179,\"y\":1.0},{\"x\":180,\"y\":1.0},{\"y\":1.0,\"x\":181},{\"y\":1.0,\"x\":182},{\"y\":1.0,\"x\":183},{\"x\":184,\"y\":1.0}]\n\nvar xMin = Math.min.apply(Math, data.map(function(o) { return o.x; }))\nvar xMax = Math.max.apply(Math, data.map(function(o) { return o.x; }))\n\nvar yMin = Math.min.apply(Math, data.map(function(o) { return o.y; }))\nvar yMax = Math.max.apply(Math, data.map(function(o) { return o.y; }))\n\n// X scale and Axis\nvar x = d3.scaleLinear()\n    .domain([xMin, xMax])\n    .range([0, width]);\n\n// Y scale and Axis\nvar y = d3.scaleLinear()\n    .domain([yMin, yMax])\n    .range([height, 0]);\n\nsvg\n  .append('g')\n  .attr(\"transform\", \"translate(0,\" + height + \")\")\n  .call(d3.axisBottom(x).ticks(5).tickSizeInner(-height))\n\nsvg\n  .append('g')\n  .call(d3.axisLeft(y).ticks(5).tickSizeInner(-width));\n\n// Add dots\nsvg\n  .selectAll(\"whatever\")\n  .data(data)\n  .enter()\n  .append(\"circle\")\n    .attr(\"cx\", function(d){ return x(d.x) })\n    .attr(\"cy\", function(d){ return y(d.y) })\n    .attr(\"r\", 3)\n    .attr(\"color\", \"blue\")\n    .attr(\"fill\", \"steelblue\")\n\n}) })(element);\n"
     },
     "execution_count": 14,
     "metadata": {},
     "output_type": "execute_result"
    }
   ],
   "source": [
    "#% js\n",
    "my %users = @dsData.map({ $_<id> => $_<numberOfUsersEstimate>.Int });\n",
    "my @paretoStats = pareto-principle-statistic(%users);\n",
    "\n",
    "js-d3-list-plot( @paretoStats>>.value, \n",
    "    title => 'Pareto principle: number users per language', \n",
    "    title-color => 'Silver',\n",
    "    background => 'none', \n",
    "    :grid-lines,\n",
    ")"
   ]
  },
  {
   "cell_type": "markdown",
   "id": "3fbe9aae",
   "metadata": {},
   "source": [
    "**Remark:** Again, the plot above is \"wrong\" -- programmers use more than one programming language."
   ]
  },
  {
   "cell_type": "markdown",
   "id": "bb7c6619",
   "metadata": {},
   "source": [
    "\n",
    "-----------\n",
    "\n",
    "## Correlations\n",
    "\n",
    "In order to see meaningful correlation, pairwise plots we take logarithms of the large value columns:"
   ]
  },
  {
   "cell_type": "code",
   "execution_count": 15,
   "id": "9b7f7345",
   "metadata": {},
   "outputs": [
    {
     "data": {
      "text/plain": [
       "Preceding context expects a term, but found infix = instead.\n",
       "Did you make a mistake in Pod syntax?"
      ]
     },
     "execution_count": 15,
     "metadata": {},
     "output_type": "execute_result"
    }
   ],
   "source": [
    "dsDataVar = dsData[All, {\"appeared\", \"ageAtCreation\", \"numberOfUsersEstimate\", \"numberOfJobsEstimate\", \"rank\", \"measurements\", \"pldbScore\"}];\n",
    "dsDataVar = dsDataVar[All, Append[#, <|\"numberOfUsersEstimate\" -> Log10[#numberOfUsersEstimate + 1], \"numberOfJobsEstimate\" -> Log10[#numberOfJobsEstimate + 1]|>] &];"
   ]
  },
  {
   "cell_type": "markdown",
   "id": "e5351a1c",
   "metadata": {},
   "source": [
    "**Remark:** Note that we \"cheat\" by adding 1 before taking the logarithms.\n",
    "\n",
    "We obtain the tables of correlations plots using the newly introduced, experimental [PairwiseListPlot](https://reference.wolfram.com/language/ref/PairwiseListPlot). If we remove the rows with zeroes some of the correlations become more obvious. Here is the corresponding tab view of the two correlation tables:"
   ]
  },
  {
   "cell_type": "code",
   "execution_count": null,
   "id": "46584a9f",
   "metadata": {},
   "outputs": [],
   "source": [
    "TabView[{\n",
    "   \"data\" -> PairwiseListPlot[dsDataVar, PlotTheme -> \"Business\", ImageSize -> 800], \n",
    "   \"zero-free data\" -> PairwiseListPlot[dsDataVar[Select[FreeQ[Values[#], 0] &]], PlotTheme -> \"Business\", ImageSize -> 800]}]"
   ]
  },
  {
   "cell_type": "markdown",
   "id": "cc94ffd4",
   "metadata": {},
   "source": [
    "![0fkn1gb70pm71](img/0fkn1gb70pm71.png)\n",
    "\n",
    "**Remark:** Given the names of the data columns and the corresponding obvious interpretations we can say that the stronger correlations make sense.\n",
    "\n",
    "## Bubble chart 2D\n",
    "\n",
    "In this section we make an informative 2D bubble chart with (tooltips)."
   ]
  },
  {
   "cell_type": "markdown",
   "id": "15a15a2f",
   "metadata": {},
   "source": [
    "Here we make a dataset for the bubble chart:"
   ]
  },
  {
   "cell_type": "code",
   "execution_count": 17,
   "id": "1cd8d6a1",
   "metadata": {},
   "outputs": [
    {
     "data": {
      "text/plain": [
       "Vector(Struct([group, label, x, y, z], [Str, Str, Int, Int, Num]), 184)"
      ]
     },
     "execution_count": 17,
     "metadata": {},
     "output_type": "execute_result"
    }
   ],
   "source": [
    "my @dsData2 = @dsData.map({\n",
    "    %( x => $_<appeared>, y => $_<ageAtCreation>, z => log($_<numberOfUsersEstimate>, 10), group => $_<group>, label => \"<b>{$_<id>}</b> by {$_<creators>}\")\n",
    "});\n",
    "\n",
    "deduce-type(@dsData2)"
   ]
  },
  {
   "cell_type": "markdown",
   "id": "6d8967fe",
   "metadata": {},
   "source": [
    "Here is the bubble chart:"
   ]
  },
  {
   "cell_type": "code",
   "execution_count": 18,
   "id": "ed6a89d8",
   "metadata": {},
   "outputs": [
    {
     "data": {
      "application/javascript": "(function(element) { require(['d3'], function(d3) {\n\n// set the dimensions and margins of the graph\nvar margin = {\"right\":264,\"left\":60,\"top\":40,\"bottom\":50},\n    width = 1200 - margin.left - margin.right,\n    height = 600 - margin.top - margin.bottom;\n\n// append the svg object to the body of the page\nvar svg = d3\n   .select(element.get(0))\n  .append(\"svg\")\n    .attr(\"width\", width + margin.left + margin.right)\n    .attr(\"height\", height + margin.top + margin.bottom)\n    .style(\"background\", \"none\")\n  .append(\"g\")\n    .attr(\"transform\",\n          \"translate(\" + margin.left + \",\" + margin.top + \")\")\n\n// Obtain title\nvar title = \"Age at creation\"\nvar titleFontSize = 20\n\nif ( title.length > 0 ) {\n    svg.append(\"text\")\n        .attr(\"x\", (width / 2))\n        .attr(\"y\", 0 - (margin.top / 2))\n        .attr(\"text-anchor\", \"middle\")\n        .style(\"font-size\", titleFontSize.toString() + \"px\")\n        .style(\"fill\", \"Silver\")\n        .text(title);\n}\n\n// Obtain x-axis label\nvar xAxisLabel = \"appeared\"\nvar xAxisLabelFontSize = 15\n\nif ( xAxisLabel.length > 0 ) {\n    svg.append(\"text\")\n        .attr(\"x\", (width / 2))\n        .attr(\"y\", height + margin.bottom - xAxisLabelFontSize/2)\n        .attr(\"text-anchor\", \"middle\")\n        .style(\"font-size\", xAxisLabelFontSize.toString() + \"px\")\n        .style(\"fill\", \"Silver\")\n        .text(xAxisLabel);\n}\n\n// Obtain y-axis label\nvar yAxisLabel = \"lg(rank)\"\nvar yAxisLabelFontSize = 15\n\nif ( yAxisLabel.length > 0 ) {\n    svg.append(\"text\")\n        .attr(\"transform\", \"rotate(-90)\")\n        .attr(\"x\", - (height / 2))\n        .attr(\"y\", 0 - margin.left + yAxisLabelFontSize)\n        .attr(\"text-anchor\", \"middle\")\n        .style(\"font-size\", yAxisLabelFontSize.toString() + \"px\")\n        .style(\"fill\", \"Silver\")\n        .text(yAxisLabel);\n}\n\n// Obtain data\nvar data = [{\"label\":\"<b>Python</b> by Guido van Rossum\",\"z\":6.470204174151007e0,\"group\":\"pl\",\"x\":1991,\"y\":35},{\"group\":\"pl\",\"y\":31,\"z\":6.5790707689879335e0,\"label\":\"<b>C</b> by Dennis Ritchie\",\"x\":1972},{\"y\":40,\"group\":\"focus\",\"label\":\"<b>Java</b> by James Gosling\",\"z\":6.746739024039774e0,\"x\":1995},{\"label\":\"<b>C++</b> by Bjarne Stroustrup\",\"x\":1985,\"z\":6.615764727162549e0,\"group\":\"focus\",\"y\":35},{\"x\":1991,\"z\":6.745923257897983e0,\"y\":36,\"group\":\"textMarkup\",\"label\":\"<b>HTML</b> by Tim Berners-Lee\"},{\"group\":\"pl\",\"y\":33,\"z\":5.6919509791399205e0,\"x\":1987,\"label\":\"<b>Perl</b> by Larry Wall\"},{\"x\":1996,\"z\":6.459670769282556e0,\"group\":\"stylesheetLanguage\",\"label\":\"<b>CSS</b> by Håkon Wium Lie\",\"y\":31},{\"z\":6.372485227833476e0,\"x\":1995,\"group\":\"pl\",\"label\":\"<b>PHP</b> by Rasmus Lerdorf\",\"y\":27},{\"y\":30,\"x\":1995,\"z\":5.596374943918663e0,\"label\":\"<b>Ruby</b> by Yukihiro Matsumoto\",\"group\":\"pl\"},{\"z\":5.837055342952139e0,\"group\":\"pl\",\"y\":53,\"x\":2009,\"label\":\"<b>Go</b> by Rob Pike and Ken Thompson and Robert Griesemer\"},{\"group\":\"dataNotation\",\"x\":2001,\"label\":\"<b>JSON</b> by Douglas Crockford\",\"z\":5.551133921546821e0,\"y\":46},{\"label\":\"<b>XML</b> by Tim Bray and Jean Paoli and C. M. Sperberg-McQueen and Eve Maler and François Yergeau and John Cowan\",\"group\":\"dataNotation\",\"z\":6.282724500967275e0,\"y\":41,\"x\":1996},{\"x\":2012,\"group\":\"pl\",\"z\":5.338336946561072e0,\"label\":\"<b>TypeScript</b> by Anders Hejlsberg\",\"y\":52},{\"group\":\"focus\",\"z\":6.856071152192971e0,\"x\":1974,\"y\":30,\"label\":\"<b>SQL</b> by Donald D. Chamberlin and Raymond F. Boyce\"},{\"y\":40,\"x\":2000,\"label\":\"<b>C#</b> by Anders Hejlsberg\",\"group\":\"pl\",\"z\":5.336981774158044e0},{\"x\":1993,\"label\":\"<b>R</b> by Ross Ihaka and Robert Gentleman\",\"group\":\"pl\",\"y\":39,\"z\":6.031656042523137e0},{\"label\":\"<b>Bash</b> by Brian Fox\",\"group\":\"pl\",\"z\":4.790615862092096e0,\"x\":1989,\"y\":30},{\"group\":\"pl\",\"label\":\"<b>PowerShell</b> by Jeffrey Snover\",\"z\":5.319539096354704e0,\"x\":2006,\"y\":44},{\"x\":2014,\"y\":36,\"label\":\"<b>Swift</b> by Chris Lattner\",\"z\":5.561219486143286e0,\"group\":\"pl\"},{\"y\":33,\"label\":\"<b>Rust</b> by Graydon Hoare\",\"x\":2010,\"group\":\"pl\",\"z\":5.48987273645188e0},{\"z\":5.144483914783332e0,\"y\":46,\"label\":\"<b>Scala</b> by Martin Odersky\",\"group\":\"pl\",\"x\":2004},{\"label\":\"<b>MATLAB</b> by Cleve Moler\",\"x\":1984,\"group\":\"pl\",\"z\":6.425139361267701e0,\"y\":45},{\"y\":33,\"x\":1993,\"label\":\"<b>Lua</b> by Roberto Ierusalimschy\",\"z\":4.769820257763591e0,\"group\":\"pl\"},{\"label\":\"<b>Haskell</b> by Paul Hudak and John Hughes\",\"y\":38,\"z\":4.5755111353528966e0,\"group\":\"pl\",\"x\":1990},{\"y\":27,\"x\":2011,\"z\":5.118221724506999e0,\"label\":\"<b>Kotlin</b> by Andrey Breslav\",\"group\":\"pl\"},{\"group\":\"pl\",\"label\":\"<b>Clojure</b> by Rich Hickey\",\"y\":48,\"z\":4.774254119794892e0,\"x\":2007},{\"label\":\"<b>CoffeeScript</b> by Jeremy Ashkenas\",\"y\":28,\"z\":4.367728546086976e0,\"x\":2009,\"group\":\"pl\"},{\"x\":1984,\"group\":\"pl\",\"y\":40,\"label\":\"<b>Objective-C</b> by Brad Cox\",\"z\":4.092720644684099e0},{\"x\":2012,\"group\":\"pl\",\"z\":4.923083331043758e0,\"y\":32,\"label\":\"<b>Julia</b> by Jeff Bezanson and Alan Edelman and Stefan Karpinski and Viral B. Shah\"},{\"z\":4.788740922766386e0,\"label\":\"<b>Lisp</b> by John McCarthy\",\"group\":\"pl\",\"x\":1958,\"y\":31},{\"group\":\"pl\",\"y\":36,\"x\":1976,\"z\":5.557631096507783e0,\"label\":\"<b>SAS</b> by Anthony James Barr\"},{\"y\":36,\"label\":\"<b>Erlang</b> by Joe Armstrong and Robert Virding and Mike Williams\",\"x\":1986,\"z\":4.433737840519429e0,\"group\":\"pl\"},{\"z\":4.7116554102621055e0,\"label\":\"<b>Prolog</b> by Alain Colmerauer\",\"x\":1972,\"group\":\"pl\",\"y\":31},{\"x\":1988,\"y\":29,\"label\":\"<b>Mathematica</b> by Stephen Wolfram\",\"z\":5.172430696964709e0,\"group\":\"focus\"},{\"label\":\"<b>Dart</b> by Lars Bak\",\"y\":46,\"z\":4.583482163526412e0,\"group\":\"pl\",\"x\":2011},{\"group\":\"pl\",\"x\":1970,\"label\":\"<b>Pascal</b> by Niklaus Wirth\",\"y\":36,\"z\":3.886941705983415e0},{\"x\":1980,\"label\":\"<b>Ada</b> by Jean Ichbiah\",\"y\":40,\"group\":\"pl\",\"z\":4.0833592646608174e0},{\"label\":\"<b>Fortran</b> by John Backus\",\"x\":1957,\"y\":33,\"z\":5.217881207716607e0,\"group\":\"focus\"},{\"y\":31,\"group\":\"textMarkup\",\"x\":2004,\"z\":4.097014231178033e0,\"label\":\"<b>Markdown</b> by John Gruber and Aaron Swartz\"},{\"label\":\"<b>Racket</b> by Matthias Felleisen and Matthew Flatt and Robert Bruce Findler and Shriram Krishnamurthi\",\"group\":\"pl\",\"z\":3.86646456597174e0,\"y\":36,\"x\":1994},{\"y\":34,\"group\":\"dataNotation\",\"x\":2013,\"label\":\"<b>TOML</b> by Tom Preston-Werner\",\"z\":4.3022226663176655e0},{\"z\":6.416367864549328e0,\"y\":33,\"label\":\"<b>MySQL</b> by David Axmark and Michael Widenius\",\"group\":\"queryLanguage\",\"x\":1995},{\"group\":\"pl\",\"label\":\"<b>D</b> by Walter Bright and Andrei Alexandrescu\",\"x\":2001,\"z\":3.8000981801747757e0,\"y\":44},{\"x\":1975,\"group\":\"pl\",\"label\":\"<b>Scheme</b> by Guy Steele and Gerald Jay Sussman\",\"z\":3.5793262037552545e0,\"y\":21},{\"x\":2003,\"label\":\"<b>Groovy</b> by James Strachan\",\"z\":3.782185866492016e0,\"group\":\"pl\",\"y\":34},{\"x\":1977,\"z\":3.6702458530741238e0,\"label\":\"<b>awk</b> by Alfred Aho and Peter J. Weinberger and Brian Kernighan\",\"group\":\"pl\",\"y\":36},{\"x\":1978,\"y\":40,\"label\":\"<b>Tex</b> by Donald Knuth\",\"group\":\"pl\",\"z\":3.63103769653674e0},{\"x\":1996,\"group\":\"pl\",\"z\":3.523876475638131e0,\"label\":\"<b>OCaml</b> by Xavier Leroy\",\"y\":28},{\"y\":28,\"label\":\"<b>Coq</b> by Thierry Coquand\",\"z\":4.019199401055287e0,\"x\":1989,\"group\":\"pl\"},{\"group\":\"pl\",\"x\":2005,\"y\":40,\"z\":3.6350814360108727e0,\"label\":\"<b>F#</b> by Don Syme\"},{\"y\":32,\"label\":\"<b>Smalltalk</b> by Alan Kay and Dan Ingalls and Adele Goldberg\",\"group\":\"pl\",\"x\":1972,\"z\":3.7323937598229686e0},{\"x\":2006,\"z\":3.8160423409219963e0,\"y\":24,\"group\":\"other\",\"label\":\"<b>HAML</b> by Hampton Lintorn-Catlin\"},{\"y\":29,\"label\":\"<b>Node.js</b> by Ryan Dahl\",\"z\":5.577639986161805e0,\"x\":2009,\"group\":\"pl\"},{\"x\":1970,\"y\":32,\"label\":\"<b>Forth</b> by Charles H. Moore\",\"group\":\"pl\",\"z\":3.5092025223311025e0},{\"label\":\"<b>Liquid</b> by Tobias Lütke\",\"x\":2008,\"y\":28,\"z\":4.139910555875683e0,\"group\":\"other\"},{\"label\":\"<b>Deno</b> by Ryan Dahl\",\"z\":5.029894889003178e0,\"group\":\"other\",\"y\":38,\"x\":2018},{\"x\":1964,\"label\":\"<b>APL</b> by Kenneth E. Iverson\",\"y\":44,\"z\":3.5646660642520893e0,\"group\":\"pl\"},{\"y\":28,\"group\":\"other\",\"x\":1985,\"z\":5.091396098451817e0,\"label\":\"<b>ARM</b> by Sophie Wilson and Steve Furber\"},{\"x\":1990,\"group\":\"pl\",\"y\":70,\"z\":3.578639209968072e0,\"label\":\"<b>J</b> by Kenneth E. Iverson and Roger Hui\"},{\"group\":\"queryLanguage\",\"z\":3.748962861256161e0,\"x\":2000,\"label\":\"<b>SQLite</b> by Dwayne Richard Hipp\",\"y\":39},{\"x\":1992,\"z\":3.4840149626675623e0,\"y\":28,\"label\":\"<b>ANTLR</b> by Terence Parr\",\"group\":\"grammarLanguage\"},{\"label\":\"<b>Delphi</b> by Anders Hejlsberg\",\"group\":\"pl\",\"y\":35,\"z\":3.850278552518037e0,\"x\":1995},{\"x\":2006,\"y\":22,\"group\":\"other\",\"label\":\"<b>JQuery</b> by John Resig\",\"z\":6.2237359955832705e0},{\"x\":1974,\"y\":43,\"group\":\"pl\",\"z\":3.270678836144706e0,\"label\":\"<b>sed</b> by Lee E. McMahon\"},{\"z\":4.57379958221574e0,\"y\":26,\"x\":2019,\"group\":\"pl\",\"label\":\"<b>V</b> by Alexander Medvednikov\"},{\"x\":1988,\"group\":\"pl\",\"y\":34,\"z\":3.49220145139254e0,\"label\":\"<b>Tcl</b> by John Ousterhout\"},{\"group\":\"stylesheetLanguage\",\"label\":\"<b>Sass</b> by Hampton Lintorn-Catlin\",\"y\":24,\"z\":3.51067903103221e0,\"x\":2006},{\"label\":\"<b>BASIC</b> by John G. Kemeny and Thomas E. Kurtz\",\"x\":1964,\"group\":\"pl\",\"z\":3.8466463285771173e0,\"y\":38},{\"group\":\"pl\",\"x\":1998,\"z\":3.2121876044039577e0,\"label\":\"<b>ActionScript</b> by Gary Grossman\",\"y\":36},{\"y\":34,\"label\":\"<b>HTTP</b> by Tim Berners-Lee\",\"x\":1989,\"group\":\"protocol\",\"z\":4.52865964523499e0},{\"label\":\"<b>PostScript</b> by John Warnock and Chuck Geschke and Doug Brotz and Ed Taft and Bill Paxton\",\"x\":1982,\"y\":42,\"group\":\"textMarkup\",\"z\":3.412460547429961e0},{\"x\":1984,\"group\":\"pl\",\"label\":\"<b>Common Lisp</b> by Scott Fahlman and Richard P. Gabriel and David A. Moon and Kent Pitman and Guy Steele and Dan Weinreb\",\"y\":36,\"z\":3.2766915288450393e0},{\"x\":1995,\"z\":3.2164298308762507e0,\"label\":\"<b>ColdFusion</b> by Joseph J. Allaire\",\"y\":26,\"group\":\"pl\"},{\"label\":\"<b>Eiffel</b> by Bertrand Meyer\",\"y\":36,\"group\":\"pl\",\"x\":1986,\"z\":3.2278867046136734e0},{\"label\":\"<b>ML</b> by Robin Milner\",\"x\":1973,\"group\":\"pl\",\"y\":39,\"z\":3.435366506612661e0},{\"group\":\"pl\",\"z\":2.85430604180108e0,\"x\":1977,\"y\":35,\"label\":\"<b>M4</b> by Brian Kernighan and Dennis Ritchie\"},{\"group\":\"other\",\"x\":2019,\"label\":\"<b>mlir</b> by Chris Lattner\",\"y\":41,\"z\":3.4067104586097896e0},{\"z\":4.358201437211247e0,\"y\":32,\"label\":\"<b>Literate CoffeeScript</b> by Jeremy Ashkenas\",\"group\":\"pl\",\"x\":2013},{\"y\":18,\"group\":\"grammarLanguage\",\"label\":\"<b>FLEX</b> by Vern Paxson\",\"x\":1987,\"z\":3.6516656039229347e0},{\"z\":3.762303363287768e0,\"label\":\"<b>Scala.js</b> by Martin Odersky\",\"group\":\"pl\",\"y\":55,\"x\":2013},{\"group\":\"other\",\"y\":32,\"x\":2011,\"label\":\"<b>Semantic Versioning</b> by Tom Preston-Werner\",\"z\":3.925569909543376e0},{\"z\":3.2161659022859928e0,\"label\":\"<b>Emacs Lisp</b> by Richard Stallman\",\"x\":1985,\"y\":32,\"group\":\"pl\"},{\"group\":\"focus\",\"y\":29,\"label\":\"<b>Wolfram Language</b> by Stephen Wolfram\",\"x\":1988,\"z\":3.211120541258049e0},{\"group\":\"pl\",\"y\":36,\"z\":2.8842287696326037e0,\"x\":1985,\"label\":\"<b>AMPL</b> by Robert Fourer and David Gay and Brian Kernighan\"},{\"z\":3.796921075330168e0,\"group\":\"pl\",\"x\":2022,\"y\":55,\"label\":\"<b>Zuo</b> by Matthew Flatt\"},{\"group\":\"pl\",\"y\":44,\"z\":2.8162412999917827e0,\"label\":\"<b>Modula-2</b> by Niklaus Wirth\",\"x\":1978},{\"group\":\"other\",\"y\":43,\"z\":4.504783387673613e0,\"label\":\"<b>v8</b> by Lars Bak\",\"x\":2008},{\"x\":2022,\"group\":\"pl\",\"label\":\"<b>Mojo</b> by Chris Lattner\",\"y\":44,\"z\":3.2472365495067637e0},{\"label\":\"<b>Oberon</b> by Niklaus Wirth\",\"z\":2.9084850188786495e0,\"group\":\"pl\",\"x\":1986,\"y\":52},{\"group\":\"pl\",\"x\":1979,\"z\":2.638489256954637e0,\"label\":\"<b>Rexx</b> by Mike Cowlishaw\",\"y\":31},{\"x\":1998,\"z\":4.022634539944119e0,\"label\":\"<b>SOAP</b> by Dave Winer and Don Box and Bob Atkinson and Mohsen Al-Ghosein\",\"y\":43,\"group\":\"other\"},{\"y\":34,\"z\":3.045322978786657e0,\"group\":\"pl\",\"label\":\"<b>Simula</b> by Ole-Johan Dahl\",\"x\":1965},{\"group\":\"pl\",\"x\":1960,\"y\":36,\"z\":3.1003705451175625e0,\"label\":\"<b>ALGOL 60</b> by John Backus and Friedrich L. Bauer and Julien Green and Charles Katz and John McCarthy and Peter Naur and Alan Perlis and Heinz Rutishauser and Klaus Samelson and Adriaan van Wijngaarden and Bernard Vauquois and Joseph Henry Wegstein and Michael Woodger\"},{\"z\":5.097420443244586e0,\"group\":\"other\",\"label\":\"<b>Scikit-learn</b> by David Cournapeau\",\"x\":2007,\"y\":27},{\"x\":2008,\"group\":\"other\",\"z\":4.880887873142013e0,\"y\":29,\"label\":\"<b>Jekyll</b> by Tom Preston-Werner\"},{\"group\":\"other\",\"z\":3.6414741105040993e0,\"y\":34,\"label\":\"<b>MIME</b> by Nathaniel Borenstein and Ned Freed\",\"x\":1991},{\"x\":1966,\"group\":\"pl\",\"y\":26,\"label\":\"<b>BCPL</b> by Martin Richards\",\"z\":3.021189299069938e0},{\"group\":\"pl\",\"z\":2.7671558660821804e0,\"x\":1993,\"y\":36,\"label\":\"<b>K</b> by Arthur Whitney\"},{\"y\":43,\"z\":3.173186268412274e0,\"label\":\"<b>EBNF</b> by Niklaus Wirth\",\"group\":\"grammarLanguage\",\"x\":1977},{\"group\":\"focus\",\"label\":\"<b>Perl 6</b> by Larry Wall\",\"x\":2015,\"z\":2.9827233876685453e0,\"y\":61},{\"x\":1969,\"label\":\"<b>B</b> by Ken Thompson and Dennis Ritchie\",\"y\":26,\"group\":\"pl\",\"z\":3.139879086401236e0},{\"y\":24,\"label\":\"<b>SCSS</b> by Hampton Lintorn-Catlin\",\"z\":2.3031960574204886e0,\"x\":2006,\"group\":\"stylesheetLanguage\"},{\"x\":1997,\"y\":40,\"label\":\"<b>REBOL</b> by Carl Sassenrath\",\"z\":2.513217600067939e0,\"group\":\"pl\"},{\"group\":\"pl\",\"z\":2.663700925389648e0,\"y\":32,\"label\":\"<b>Self</b> by David Ungar\",\"x\":1987},{\"label\":\"<b>ECMAScript</b> by Brendan Eich\",\"y\":36,\"x\":1997,\"group\":\"pl\",\"z\":3.81756536955978e0},{\"y\":46,\"z\":2.883661435153617e0,\"group\":\"pl\",\"label\":\"<b>Q</b> by Arthur Whitney\",\"x\":2003},{\"y\":37,\"group\":\"pl\",\"z\":2.634477270160731e0,\"x\":2001,\"label\":\"<b>Arc</b> by Paul Graham and Robert Morris\"},{\"z\":2.6232492903979003e0,\"group\":\"grammarLanguage\",\"y\":33,\"label\":\"<b>Grammar</b> by Breck Yunits\",\"x\":2017},{\"z\":3.390935107103379e0,\"label\":\"<b>BNF</b> by John Backus and Peter Naur\",\"x\":1956,\"y\":32,\"group\":\"grammarLanguage\"},{\"group\":\"other\",\"label\":\"<b>URL</b> by Tim Berners-Lee\",\"y\":39,\"z\":4.2516382204482115e0,\"x\":1994},{\"label\":\"<b>Inform</b> by Graham Nelson\",\"x\":1993,\"z\":2.7678976160180904e0,\"group\":\"pl\",\"y\":25},{\"z\":2.6232492903979003e0,\"y\":33,\"label\":\"<b>Tree Notation</b> by Breck Yunits\",\"x\":2017,\"group\":\"dataNotation\"},{\"z\":3.5465426634781307e0,\"x\":1969,\"group\":\"other\",\"y\":25,\"label\":\"<b>RFC</b> by Steve Crocker\"},{\"z\":4.808467556372229e0,\"x\":1976,\"group\":\"other\",\"label\":\"<b>Emacs</b> by Richard Stallman and Guy Steele and Dave Moon\",\"y\":23},{\"y\":39,\"label\":\"<b>E</b> by Mark S. Miller\",\"z\":2.608526033577194e0,\"x\":1997,\"group\":\"pl\"},{\"x\":1977,\"group\":\"pl\",\"y\":43,\"z\":2.4329692908744054e0,\"label\":\"<b>Icon</b> by Ralph Griswold\"},{\"z\":2.59659709562646e0,\"y\":30,\"group\":\"pl\",\"label\":\"<b>LiveScript</b> by Jeremy Ashkenas and Satoshi Murakami and George Zahariev\",\"x\":2011},{\"x\":2014,\"label\":\"<b>Streem</b> by Yukihiro Matsumoto\",\"group\":\"pl\",\"z\":3.733758835587202e0,\"y\":49},{\"z\":2.8870543780509568e0,\"group\":\"other\",\"y\":39,\"label\":\"<b>dlvm</b> by Chris Lattner\",\"x\":2017},{\"y\":39,\"group\":\"pl\",\"label\":\"<b>Limbo</b> by Rob Pike\",\"x\":1995,\"z\":2.5865873046717547e0},{\"z\":2.4638929889859074e0,\"y\":36,\"group\":\"textMarkup\",\"x\":2020,\"label\":\"<b>Scroll</b> by Breck Yunits\"},{\"label\":\"<b>CLU</b> by Barbara Liskov\",\"group\":\"pl\",\"x\":1975,\"y\":36,\"z\":2.5198279937757184e0},{\"group\":\"pl\",\"label\":\"<b>LPC</b> by Lars Pensjö\",\"z\":2.408239965311849e0,\"y\":32,\"x\":1995},{\"label\":\"<b>Oberon-2</b> by Niklaus Wirth and Hanspeter Mössenböck\",\"x\":1991,\"y\":57,\"z\":2.217483944213906e0,\"group\":\"pl\"},{\"y\":64,\"group\":\"protocol\",\"z\":2.2455126678141495e0,\"x\":2018,\"label\":\"<b>Homa</b> by John Ousterhout\"},{\"y\":31,\"z\":2.1003705451175625e0,\"x\":1990,\"label\":\"<b>Sather</b> by Steve Omohundro\",\"group\":\"pl\"},{\"x\":1971,\"group\":\"textMarkup\",\"label\":\"<b>ROFF</b> by Joe Ossanna and Ken Thompson\",\"y\":43,\"z\":2.342422680822206e0},{\"group\":\"pl\",\"label\":\"<b>A+</b> by Arthur Whitney\",\"y\":31,\"x\":1988,\"z\":2.4857214264815797e0},{\"x\":1969,\"label\":\"<b>GML</b> by Charles Goldfarb and Edward Mosher and Raymond Lorie\",\"group\":\"other\",\"z\":2.130333768495006e0,\"y\":30},{\"label\":\"<b>CWEB</b> by Donald Knuth\",\"group\":\"textMarkup\",\"y\":49,\"x\":1987,\"z\":2.2455126678141495e0},{\"label\":\"<b>Modula</b> by Niklaus Wirth\",\"y\":41,\"z\":2.311753861055754e0,\"x\":1975,\"group\":\"pl\"},{\"y\":33,\"group\":\"pl\",\"label\":\"<b>Ohayo</b> by Breck Yunits\",\"z\":2.08278537031645e0,\"x\":2017},{\"group\":\"pl\",\"x\":2008,\"label\":\"<b>femtolisp</b> by Jeff Bezanson\",\"y\":28,\"z\":3.239049093140191e0},{\"x\":1998,\"group\":\"dataNotation\",\"y\":43,\"z\":2.591064607026499e0,\"label\":\"<b>Notation3</b> by Tim Berners-Lee\"},{\"z\":2.290034611362518e0,\"x\":1977,\"label\":\"<b>FP</b> by John Backus\",\"y\":53,\"group\":\"pl\"},{\"z\":2.0718820073061255e0,\"group\":\"textMarkup\",\"y\":33,\"x\":2000,\"label\":\"<b>Slideshow</b> by Matthew Flatt and Robert Bruce Findler\"},{\"group\":\"pl\",\"z\":1.8129133566428552e0,\"y\":48,\"x\":1996,\"label\":\"<b>NetRexx</b> by Mike Cowlishaw\"},{\"x\":2017,\"group\":\"other\",\"label\":\"<b>json->url</b> by Tim Bray\",\"z\":1.8195439355418683e0,\"y\":62},{\"y\":49,\"z\":2.6283889300503116e0,\"label\":\"<b>FLOW-MATIC</b> by Grace Hopper\",\"x\":1955,\"group\":\"pl\"},{\"z\":1.2041199826559246e0,\"label\":\"<b>Raku</b> by Larry Wall\",\"x\":2019,\"y\":65,\"group\":\"focus\"},{\"x\":1948,\"label\":\"<b>Plankalkul</b> by Konrad Zuse\",\"z\":2.8976270912904414e0,\"group\":\"pl\",\"y\":38},{\"label\":\"<b>Speedcoding</b> by John Backus\",\"group\":\"pl\",\"x\":1953,\"y\":29,\"z\":2.5250448070368448e0},{\"z\":2.69196510276736e0,\"x\":1997,\"label\":\"<b>scribble</b> by Matthew Flatt\",\"group\":\"pl\",\"y\":30},{\"x\":1976,\"y\":42,\"z\":2.342422680822206e0,\"group\":\"pl\",\"label\":\"<b>PL/0</b> by Niklaus Wirth\"},{\"x\":1989,\"y\":65,\"z\":1.9542425094393248e0,\"group\":\"pl\",\"label\":\"<b>FL</b> by John Backus\"},{\"z\":0e0,\"y\":55,\"x\":2019,\"group\":\"pl\",\"label\":\"<b>Bel</b> by Paul Graham\"},{\"label\":\"<b>Etoys</b> by Alan Kay\",\"x\":1996,\"y\":56,\"group\":\"pl\",\"z\":2.2430380486862944e0},{\"y\":38,\"x\":1964,\"label\":\"<b>Dartmouth BASIC</b> by John G. Kemeny and Thomas E. Kurtz\",\"group\":\"pl\",\"z\":2.3617278360175926e0},{\"x\":1993,\"label\":\"<b>UTF-8</b> by Rob Pike and Ken Thompson\",\"group\":\"other\",\"z\":4.128237670769186e0,\"y\":37},{\"y\":34,\"z\":1.322219294733919e0,\"group\":\"other\",\"label\":\"<b>GCC</b> by Richard Stallman\",\"x\":1987},{\"x\":2023,\"group\":\"queryLanguage\",\"y\":39,\"z\":1.041392685158225e0,\"label\":\"<b>TQL</b> by Breck Yunits\"},{\"label\":\"<b>Little Implementation Language</b> by P. J. Plauger\",\"group\":\"pl\",\"y\":30,\"x\":1974,\"z\":1.6127838567197355e0},{\"x\":2012,\"label\":\"<b>Note</b> by Breck Yunits\",\"z\":1.1139433523068367e0,\"group\":\"dataNotation\",\"y\":28},{\"group\":\"other\",\"y\":38,\"z\":3.246744709723841e0,\"label\":\"<b>Up-arrow notation</b> by Donald Knuth\",\"x\":1976},{\"z\":1.9344984512435675e0,\"group\":\"pl\",\"y\":54,\"label\":\"<b>ColorForth</b> by Charles H. Moore\",\"x\":1992},{\"z\":1.1139433523068367e0,\"y\":29,\"x\":2013,\"label\":\"<b>Space</b> by Breck Yunits\",\"group\":\"dataNotation\"},{\"z\":1.7781512503836434e0,\"y\":33,\"label\":\"<b>PL360</b> by Niklaus Wirth\",\"x\":1967,\"group\":\"pl\"},{\"group\":\"pl\",\"y\":58,\"label\":\"<b>ivy</b> by Rob Pike\",\"z\":3.212986184736668e0,\"x\":2014},{\"label\":\"<b>SpiderMonkey</b> by Brendan Eich\",\"z\":1.322219294733919e0,\"x\":1996,\"y\":35,\"group\":\"other\"},{\"group\":\"pl\",\"z\":0e0,\"y\":50,\"x\":2006,\"label\":\"<b>Plot</b> by David A. Moon\"},{\"x\":1995,\"y\":47,\"z\":1.785329835010767e0,\"group\":\"pl\",\"label\":\"<b>Corman Common Lisp</b> by Scott Fahlman and Richard P. Gabriel and David A. Moon and Kent Pitman and Guy Steele and Dan Weinreb and Roger Corman\"},{\"y\":32,\"label\":\"<b>Spice Lisp</b> by Scott Fahlman\",\"z\":1.7403626894942439e0,\"x\":1980,\"group\":\"pl\"},{\"z\":2.0969100130080562e0,\"y\":18,\"group\":\"pl\",\"x\":1974,\"label\":\"<b>Lisp Machine Lisp</b> by David A. Moon and Richard Stallman and Daniel Weinreb\"},{\"group\":\"pl\",\"z\":2.0606978403536114e0,\"x\":1990,\"y\":34,\"label\":\"<b>Newsqueak</b> by Rob Pike\"},{\"y\":65,\"x\":1993,\"z\":1.6020599913279623e0,\"label\":\"<b>FORMAC</b> by Jean E. Sammet\",\"group\":\"pl\"},{\"group\":\"pl\",\"z\":1.9542425094393248e0,\"label\":\"<b>Flex language</b> by Alan Kay\",\"x\":1967,\"y\":27},{\"x\":1972,\"label\":\"<b>Red</b> by John Backus\",\"group\":\"pl\",\"y\":48,\"z\":null},{\"x\":1973,\"group\":\"other\",\"label\":\"<b>ed</b> by Ken Thompson\",\"y\":30,\"z\":1.301029995663981e0},{\"y\":26,\"label\":\"<b>Unix</b> by Ken Thompson and Dennis Ritchie and Brian Kernighan and Douglas McIlroy and Joe Ossanna\",\"group\":\"other\",\"x\":1969,\"z\":4.082964793777752e0},{\"x\":2006,\"group\":\"pl\",\"label\":\"<b>Python for S60</b> by Guido van Rossum\",\"y\":50,\"z\":2.021189299069938e0},{\"label\":\"<b>IT</b> by Alan Perlis\",\"group\":\"pl\",\"x\":1955,\"z\":null,\"y\":33},{\"z\":null,\"x\":2011,\"y\":43,\"group\":\"pl\",\"label\":\"<b>prompter</b> by Graham Nelson\"},{\"label\":\"<b>atx</b> by Aaron Swartz\",\"x\":2002,\"z\":null,\"group\":\"textMarkup\",\"y\":16},{\"label\":\"<b>Bayer Expressions</b> by Dave Bayer\",\"x\":2018,\"group\":\"dataNotation\",\"z\":null,\"y\":63},{\"y\":35,\"x\":1963,\"z\":null,\"group\":\"pl\",\"label\":\"<b>Magic Paper</b> by Jean E. Sammet\"},{\"group\":\"pl\",\"z\":null,\"x\":1994,\"label\":\"<b>Lola-2</b> by Niklaus Wirth\",\"y\":60},{\"group\":\"grammarLanguage\",\"x\":2000,\"z\":null,\"y\":27,\"label\":\"<b>xt3d</b> by Shriram Krishnamurthi and Kathryn E. Gray and Paul T. Graunke\"},{\"group\":\"pl\",\"x\":1958,\"y\":31,\"label\":\"<b>Advice Taker</b> by John McCarthy\",\"z\":1.301029995663981e0},{\"label\":\"<b>nroff</b> by Joe Ossanna\",\"group\":\"textMarkup\",\"z\":1.301029995663981e0,\"x\":1972,\"y\":44},{\"x\":1985,\"z\":1.301029995663981e0,\"label\":\"<b>patch</b> by Larry Wall\",\"y\":31,\"group\":\"other\"},{\"z\":0e0,\"y\":45,\"label\":\"<b>tilton</b> by Douglas Crockford\",\"group\":\"pl\",\"x\":2000},{\"z\":1.301029995663981e0,\"label\":\"<b>Ethereum</b> by Vitalik Buterin\",\"group\":\"protocol\",\"y\":21,\"x\":2015},{\"label\":\"<b>lunar</b> by David A. Moon\",\"group\":\"pl\",\"z\":0e0,\"y\":61,\"x\":2017},{\"z\":null,\"group\":\"pl\",\"label\":\"<b>UberScript</b> by James Strachan\",\"x\":2011,\"y\":42}]\n\nvar xMin = Math.min.apply(Math, data.map(function(o) { return o.x; }))\nvar xMax = Math.max.apply(Math, data.map(function(o) { return o.x; }))\n\nvar yMin = Math.min.apply(Math, data.map(function(o) { return o.y; }))\nvar yMax = Math.max.apply(Math, data.map(function(o) { return o.y; }))\n\n// X scale and Axis\nvar x = d3.scaleLinear()\n    .domain([xMin, xMax])\n    .range([0, width]);\n\n// Y scale and Axis\nvar y = d3.scaleLinear()\n    .domain([yMin, yMax])\n    .range([height, 0]);\n\nsvg\n  .append('g')\n  .attr(\"transform\", \"translate(0,\" + height + \")\")\n  .call(d3.axisBottom(x).ticks(5).tickSizeInner(-height))\n\nsvg\n  .append('g')\n  .call(d3.axisLeft(y).ticks(5).tickSizeInner(-width));\n\nvar zMin = Math.min.apply(Math, data.map(function(o) { return o.z; }))\nvar zMax = Math.max.apply(Math, data.map(function(o) { return o.z; }))\n\n// Add a scale for bubble size\nconst z = d3.scaleLinear()\n    .domain([zMin, zMax])\n    .range([1, 16]);\n\n// Add a scale for bubble color\nvar myColor = d3.scaleOrdinal()\n    .domain(data.map(function(o) { return o.group; }))\n    .range(d3.schemeSet2);\n\n// -1- Create a tooltip div that is hidden by default:\nconst tooltip = d3.select(element.get(0))\n    .append(\"div\")\n      .style(\"opacity\", 0)\n      .attr(\"class\", \"tooltip\")\n      .style(\"background-color\", \"black\")\n      .style(\"border-radius\", \"5px\")\n      .style(\"padding\", \"10px\")\n      .style(\"color\", \"white\")\n\n// -2- Create 3 functions to show / update (when mouse move but stay on same circle) / hide the tooltip\nconst showTooltip = function(event, d) {\n    tooltip\n      .transition()\n      .duration(200);\n\n    let tooltipContent = \"Group: \" + d.group + '<br/>z: ' + d.z.toString() + '<br/>x: ' + d.x.toString() + '<br/>y: ' + d.y.toString();\n    if (d.label) {\n        tooltipContent = \"Label: \" + d.label + '<br/>' + tooltipContent;\n    }\n\n    tooltip\n      .style(\"opacity\", 1)\n      .html(tooltipContent)\n      .style(\"left\", (event.x)/2 + \"px\")\n      .style(\"top\", (event.y)/2 + 10 + \"px\");\n};\n\nconst moveTooltip = function(event, d) {\ntooltip\n  .style(\"left\", (event.x)/2 + \"px\")\n  .style(\"top\", (event.y)/2+10 + \"px\")\n};\n\nconst hideTooltip = function(event, d) {\ntooltip\n  .transition()\n  .duration(200)\n  .style(\"opacity\", 0)\n};\n\n// Add dots\n  svg.append('g')\n    .selectAll(\"dot\")\n    .data(data)\n    .join(\"circle\")\n      .attr(\"class\", \"bubbles\")\n      .attr(\"cx\", d => x(d.x))\n      .attr(\"cy\", d => y(d.y))\n      .attr(\"r\",  d => z(d.z))\n      .style(\"fill\", d => myColor(d.group))\n      .style(\"opacity\", \"0.7\")\n    // -3- Trigger the functions\n    .on(\"mouseover\", showTooltip )\n    .on(\"mousemove\", moveTooltip )\n    .on(\"mouseleave\", hideTooltip )\n\n// create a list of keys\nvar keys = data.map(function(o) { return o.group; })\nkeys = [...new Set(keys)];\n\n// Add one dot in the legend for each name.\nsvg.selectAll(\"mydots\")\n  .data(keys)\n  .enter()\n  .append(\"circle\")\n    .attr(\"cx\", width + 3*12)\n    .attr(\"cy\", function(d,i){ return 0 + i*25}) // 100 is where the first dot appears. 25 is the distance between dots\n    .attr(\"r\", 6)\n    .style(\"fill\", function(d){ return myColor(d)})\n\n// Add one dot in the legend for each name.\nsvg.selectAll(\"mylabels\")\n  .data(keys)\n  .enter()\n  .append(\"text\")\n    .attr(\"x\", width + 3*12 + 12)\n    .attr(\"y\", function(d,i){ return 0 + i*25}) // 100 is where the first dot appears. 25 is the distance between dots\n    .style(\"fill\", function(d){ return myColor(d)})\n    .text(function(d){ return d})\n    .attr(\"text-anchor\", \"left\")\n    .style(\"alignment-baseline\", \"middle\")\n    .style(\"font-size\", \"12px\")\n    .attr(\"font-family\", \"Courier\")\n\n}) })(element);\n"
     },
     "execution_count": 18,
     "metadata": {},
     "output_type": "execute_result"
    }
   ],
   "source": [
    "#% js\n",
    "js-d3-bubble-chart(@dsData2, \n",
    "        z-range-min => 1,\n",
    "        z-range-max => 16,\n",
    "        title-color => 'Silver',\n",
    "        title-font-size => 20,\n",
    "        x-label => \"appeared\", \n",
    "        y-label => \"lg(rank)\",\n",
    "        title => 'Age at creation',\n",
    "        width => 1200,\n",
    "        margins => { left => 60, bottom => 50, right => 200},\n",
    "        background => 'none',\n",
    "        :grid-lines\n",
    ");"
   ]
  },
  {
   "cell_type": "markdown",
   "id": "6d7676b7",
   "metadata": {},
   "source": [
    "**Remark:** The programming language J is a clear outlier because of creators' ages."
   ]
  },
  {
   "cell_type": "markdown",
   "id": "571bb85a",
   "metadata": {},
   "source": [
    "-------\n",
    "\n",
    "## Second system effect traces"
   ]
  },
  {
   "cell_type": "markdown",
   "id": "03c135bb",
   "metadata": {},
   "source": [
    "\n",
    "In this section we try -- and fail -- to demonstrate that the more programming languages a team of creators makes the less successful those languages are. (Maybe, because they are more cumbersome and suffer the Second system effect?)\n",
    "\n",
    "**Remark:** This section is mostly made \"for fun.\" It is not true that each sets of languages per creators team is made of comparable languages. For example, complementary languages can be in the same set. (See, HTTP, HTML, URL.) Some sets are just made of the same language but with different names. (See, Perl 6 and Raku, and Mathematica and Wolfram Language.) Also, older languages would have the [First mover advantage](https://en.wikipedia.org/wiki/First-mover_advantage).\n",
    "\n",
    "Make creators to index association:"
   ]
  },
  {
   "cell_type": "code",
   "execution_count": 82,
   "id": "4463da97",
   "metadata": {},
   "outputs": [
    {
     "data": {
      "text/plain": [
       "33"
      ]
     },
     "execution_count": 82,
     "metadata": {},
     "output_type": "execute_result"
    }
   ],
   "source": [
    "my %creators = @dsData.map(*<creators>).&tally.pairs.grep(*.value > 1);\n",
    "my %nameToIndex = %creators.keys.sort Z=> ^%creators.elems;\n",
    "%nameToIndex.elems"
   ]
  },
  {
   "cell_type": "markdown",
   "id": "4d63ea1b",
   "metadata": {},
   "source": [
    "Make a bubble chart dataset with relative popularity per creators team:"
   ]
  },
  {
   "cell_type": "code",
   "execution_count": 79,
   "id": "e75cf37b",
   "metadata": {},
   "outputs": [
    {
     "data": {
      "text/plain": [
       "Vector(Struct([group, label, x, y, z], [Str, Str, Int, Int, Num]), 92)"
      ]
     },
     "execution_count": 79,
     "metadata": {},
     "output_type": "execute_result"
    }
   ],
   "source": [
    "my @nUsers = @dsData.grep({ %creators{$_<creators>}:exists });\n",
    "\n",
    "@nUsers = |group-by(@nUsers, <creators>).map({ \n",
    "\n",
    "    my $m = max(1, $_.value.map(*<numberOfUsersEstimate>).max.sqrt);\n",
    "\n",
    "    $_.value.map({ %( x => $_<appeared>, y => %nameToIndex{$_<creators>}, z => $_<numberOfUsersEstimate>.sqrt/$m, group => $_<creators>, label => \"<b>{$_<id>}</b>\" ) }) \n",
    "    \n",
    "})>>.Array.flat;\n",
    "\n",
    "@nUsers .= sort(*<group>);\n",
    "\n",
    "deduce-type(@nUsers)"
   ]
  },
  {
   "cell_type": "markdown",
   "id": "e2930f4e",
   "metadata": {},
   "source": [
    "Here is the corresponding bubble chart:"
   ]
  },
  {
   "cell_type": "code",
   "execution_count": 87,
   "id": "65a47d48",
   "metadata": {},
   "outputs": [
    {
     "data": {
      "application/javascript": "(function(element) { require(['d3'], function(d3) {\n\n// set the dimensions and margins of the graph\nvar margin = {\"right\":456,\"top\":40,\"left\":60,\"bottom\":50},\n    width = 1000 - margin.left - margin.right,\n    height = 900 - margin.top - margin.bottom;\n\n// append the svg object to the body of the page\nvar svg = d3\n   .select(element.get(0))\n  .append(\"svg\")\n    .attr(\"width\", width + margin.left + margin.right)\n    .attr(\"height\", height + margin.top + margin.bottom)\n    .style(\"background\", \"none\")\n  .append(\"g\")\n    .attr(\"transform\",\n          \"translate(\" + margin.left + \",\" + margin.top + \")\")\n\n// Obtain title\nvar title = \"Second system effect\"\nvar titleFontSize = 20\n\nif ( title.length > 0 ) {\n    svg.append(\"text\")\n        .attr(\"x\", (width / 2))\n        .attr(\"y\", 0 - (margin.top / 2))\n        .attr(\"text-anchor\", \"middle\")\n        .style(\"font-size\", titleFontSize.toString() + \"px\")\n        .style(\"fill\", \"Silver\")\n        .text(title);\n}\n\n// Obtain x-axis label\nvar xAxisLabel = \"appeared\"\nvar xAxisLabelFontSize = 15\n\nif ( xAxisLabel.length > 0 ) {\n    svg.append(\"text\")\n        .attr(\"x\", (width / 2))\n        .attr(\"y\", height + margin.bottom - xAxisLabelFontSize/2)\n        .attr(\"text-anchor\", \"middle\")\n        .style(\"font-size\", xAxisLabelFontSize.toString() + \"px\")\n        .style(\"fill\", \"Silver\")\n        .text(xAxisLabel);\n}\n\n// Obtain y-axis label\nvar yAxisLabel = \"creators\"\nvar yAxisLabelFontSize = 15\n\nif ( yAxisLabel.length > 0 ) {\n    svg.append(\"text\")\n        .attr(\"transform\", \"rotate(-90)\")\n        .attr(\"x\", - (height / 2))\n        .attr(\"y\", 0 - margin.left + yAxisLabelFontSize)\n        .attr(\"text-anchor\", \"middle\")\n        .style(\"font-size\", yAxisLabelFontSize.toString() + \"px\")\n        .style(\"fill\", \"Silver\")\n        .text(yAxisLabel);\n}\n\n// Obtain data\nvar data = [{\"group\":\"Alan Kay\",\"z\":1e0,\"x\":1996,\"label\":\"<b>Etoys</b>\",\"y\":0},{\"z\":0.7171371656006362e0,\"group\":\"Alan Kay\",\"label\":\"<b>Flex language</b>\",\"x\":1967,\"y\":0},{\"label\":\"<b>TypeScript</b>\",\"y\":1,\"z\":1e0,\"group\":\"Anders Hejlsberg\",\"x\":2012},{\"label\":\"<b>C#</b>\",\"x\":2000,\"z\":0.9984410165922866e0,\"y\":1,\"group\":\"Anders Hejlsberg\"},{\"label\":\"<b>Delphi</b>\",\"group\":\"Anders Hejlsberg\",\"z\":0.1802896530527732e0,\"y\":1,\"x\":1995},{\"label\":\"<b>K</b>\",\"z\":0.8744746321952062e0,\"x\":1993,\"group\":\"Arthur Whitney\",\"y\":2},{\"group\":\"Arthur Whitney\",\"z\":1e0,\"label\":\"<b>Q</b>\",\"x\":2003,\"y\":2},{\"label\":\"<b>A+</b>\",\"z\":0.6324555320336759e0,\"y\":2,\"x\":1988,\"group\":\"Arthur Whitney\"},{\"label\":\"<b>Grammar</b>\",\"x\":2017,\"z\":1e0,\"y\":3,\"group\":\"Breck Yunits\"},{\"y\":3,\"x\":2017,\"group\":\"Breck Yunits\",\"label\":\"<b>Tree Notation</b>\",\"z\":1e0},{\"y\":3,\"label\":\"<b>Scroll</b>\",\"x\":2020,\"group\":\"Breck Yunits\",\"z\":0.8323804075404122e0},{\"y\":3,\"z\":0.5367450401216932e0,\"group\":\"Breck Yunits\",\"label\":\"<b>Ohayo</b>\",\"x\":2017},{\"group\":\"Breck Yunits\",\"z\":0.1618347187425374e0,\"label\":\"<b>TQL</b>\",\"x\":2023,\"y\":3},{\"z\":0.1759328876372492e0,\"label\":\"<b>Note</b>\",\"y\":3,\"x\":2012,\"group\":\"Breck Yunits\"},{\"group\":\"Breck Yunits\",\"y\":3,\"x\":2013,\"z\":0.1759328876372492e0,\"label\":\"<b>Space</b>\"},{\"x\":1997,\"label\":\"<b>ECMAScript</b>\",\"y\":4,\"group\":\"Brendan Eich\",\"z\":1e0},{\"y\":4,\"group\":\"Brendan Eich\",\"x\":1996,\"z\":0.056536245294178056e0,\"label\":\"<b>SpiderMonkey</b>\"},{\"group\":\"Charles H. Moore\",\"z\":1e0,\"label\":\"<b>Forth</b>\",\"y\":5,\"x\":1970},{\"label\":\"<b>ColorForth</b>\",\"group\":\"Charles H. Moore\",\"y\":5,\"x\":1992,\"z\":0.16317287457449545e0},{\"label\":\"<b>Swift</b>\",\"group\":\"Chris Lattner\",\"y\":6,\"z\":1e0,\"x\":2014},{\"z\":0.0837038600590428e0,\"y\":6,\"group\":\"Chris Lattner\",\"label\":\"<b>mlir</b>\",\"x\":2019},{\"z\":0.06966401994195534e0,\"label\":\"<b>Mojo</b>\",\"y\":6,\"group\":\"Chris Lattner\",\"x\":2022},{\"label\":\"<b>dlvm</b>\",\"y\":6,\"z\":0.046016909277525664e0,\"x\":2017,\"group\":\"Chris Lattner\"},{\"label\":\"<b>Plot</b>\",\"group\":\"David A. Moon\",\"z\":1e0,\"y\":7,\"x\":2006},{\"group\":\"David A. Moon\",\"z\":1e0,\"y\":7,\"x\":2017,\"label\":\"<b>lunar</b>\"},{\"label\":\"<b>Tex</b>\",\"z\":1e0,\"group\":\"Donald Knuth\",\"y\":8,\"x\":1978},{\"label\":\"<b>CWEB</b>\",\"y\":8,\"z\":0.20287918222886298e0,\"x\":1987,\"group\":\"Donald Knuth\"},{\"group\":\"Donald Knuth\",\"z\":0.6424709666104178e0,\"label\":\"<b>Up-arrow notation</b>\",\"x\":1976,\"y\":8},{\"y\":9,\"x\":2001,\"group\":\"Douglas Crockford\",\"label\":\"<b>JSON</b>\",\"z\":1e0},{\"y\":9,\"label\":\"<b>tilton</b>\",\"z\":0.0016766138106752856e0,\"group\":\"Douglas Crockford\",\"x\":2000},{\"x\":1993,\"label\":\"<b>Inform</b>\",\"z\":1e0,\"y\":10,\"group\":\"Graham Nelson\"},{\"label\":\"<b>prompter</b>\",\"z\":0e0,\"group\":\"Graham Nelson\",\"y\":10,\"x\":2011},{\"y\":11,\"x\":1991,\"group\":\"Guido van Rossum\",\"z\":1e0,\"label\":\"<b>Python</b>\"},{\"y\":11,\"z\":0.005963381071167015e0,\"x\":2006,\"group\":\"Guido van Rossum\",\"label\":\"<b>Python for S60</b>\"},{\"y\":12,\"label\":\"<b>HAML</b>\",\"x\":2006,\"z\":1e0,\"group\":\"Hampton Lintorn-Catlin\"},{\"x\":2006,\"label\":\"<b>Sass</b>\",\"y\":12,\"group\":\"Hampton Lintorn-Catlin\",\"z\":0.7035878724812802e0},{\"z\":0.17521724933969177e0,\"y\":12,\"x\":2006,\"group\":\"Hampton Lintorn-Catlin\",\"label\":\"<b>SCSS</b>\"},{\"group\":\"James Strachan\",\"y\":13,\"z\":1e0,\"x\":2003,\"label\":\"<b>Groovy</b>\"},{\"y\":13,\"x\":2011,\"label\":\"<b>UberScript</b>\",\"z\":0e0,\"group\":\"James Strachan\"},{\"x\":1993,\"group\":\"Jean E. Sammet\",\"y\":14,\"z\":1e0,\"label\":\"<b>FORMAC</b>\"},{\"x\":1963,\"group\":\"Jean E. Sammet\",\"y\":14,\"label\":\"<b>Magic Paper</b>\",\"z\":0e0},{\"y\":15,\"label\":\"<b>CoffeeScript</b>\",\"x\":2009,\"z\":1e0,\"group\":\"Jeremy Ashkenas\"},{\"label\":\"<b>Literate CoffeeScript</b>\",\"group\":\"Jeremy Ashkenas\",\"z\":0.989091445111347e0,\"y\":15,\"x\":2013},{\"x\":1957,\"z\":1e0,\"label\":\"<b>Fortran</b>\",\"y\":16,\"group\":\"John Backus\"},{\"label\":\"<b>FP</b>\",\"y\":16,\"z\":0.03436186298775041e0,\"group\":\"John Backus\",\"x\":1977},{\"label\":\"<b>Speedcoding</b>\",\"x\":1953,\"y\":16,\"z\":0.04503828032060499e0,\"group\":\"John Backus\"},{\"x\":1989,\"group\":\"John Backus\",\"y\":16,\"label\":\"<b>FL</b>\",\"z\":0.023344288986871794e0},{\"label\":\"<b>Red</b>\",\"x\":1972,\"group\":\"John Backus\",\"y\":16,\"z\":0e0},{\"group\":\"John G. Kemeny and Thomas E. Kurtz\",\"z\":1e0,\"y\":17,\"x\":1964,\"label\":\"<b>BASIC</b>\"},{\"group\":\"John G. Kemeny and Thomas E. Kurtz\",\"z\":0.18094256968201727e0,\"label\":\"<b>Dartmouth BASIC</b>\",\"y\":17,\"x\":1964},{\"x\":1958,\"y\":18,\"label\":\"<b>Lisp</b>\",\"z\":1e0,\"group\":\"John McCarthy\"},{\"x\":1958,\"y\":18,\"label\":\"<b>Advice Taker</b>\",\"group\":\"John McCarthy\",\"z\":0.018036178984995235e0},{\"x\":1988,\"group\":\"John Ousterhout\",\"z\":1e0,\"label\":\"<b>Tcl</b>\",\"y\":19},{\"z\":0.2380431059352961e0,\"x\":2018,\"group\":\"John Ousterhout\",\"y\":19,\"label\":\"<b>Homa</b>\"},{\"z\":1e0,\"y\":20,\"x\":1987,\"label\":\"<b>Perl</b>\",\"group\":\"Larry Wall\"},{\"x\":2015,\"label\":\"<b>Perl 6</b>\",\"group\":\"Larry Wall\",\"y\":20,\"z\":0.04419632965504486e0},{\"group\":\"Larry Wall\",\"z\":0.005702752213554175e0,\"x\":2019,\"y\":20,\"label\":\"<b>Raku</b>\"},{\"group\":\"Larry Wall\",\"z\":0.0063758708041722675e0,\"x\":1985,\"y\":20,\"label\":\"<b>patch</b>\"},{\"group\":\"Lars Bak\",\"y\":21,\"z\":1e0,\"label\":\"<b>Dart</b>\",\"x\":2011},{\"z\":0.9133781372777005e0,\"y\":21,\"group\":\"Lars Bak\",\"label\":\"<b>v8</b>\",\"x\":2008},{\"y\":22,\"x\":2004,\"z\":1e0,\"label\":\"<b>Scala</b>\",\"group\":\"Martin Odersky\"},{\"label\":\"<b>Scala.js</b>\",\"x\":2013,\"y\":22,\"group\":\"Martin Odersky\",\"z\":0.20366186866822117e0},{\"y\":23,\"x\":2022,\"z\":1e0,\"label\":\"<b>Zuo</b>\",\"group\":\"Matthew Flatt\"},{\"y\":23,\"x\":1997,\"z\":0.28023476647550394e0,\"group\":\"Matthew Flatt\",\"label\":\"<b>scribble</b>\"},{\"y\":24,\"label\":\"<b>Rexx</b>\",\"z\":1e0,\"group\":\"Mike Cowlishaw\",\"x\":1979},{\"label\":\"<b>NetRexx</b>\",\"group\":\"Mike Cowlishaw\",\"x\":1996,\"z\":0.3865556717425342e0,\"y\":24},{\"group\":\"Niklaus Wirth\",\"label\":\"<b>Pascal</b>\",\"z\":1e0,\"x\":1970,\"y\":25},{\"group\":\"Niklaus Wirth\",\"y\":25,\"z\":0.2915075430221606e0,\"x\":1978,\"label\":\"<b>Modula-2</b>\"},{\"group\":\"Niklaus Wirth\",\"y\":25,\"label\":\"<b>Oberon</b>\",\"x\":1986,\"z\":0.3241691307394002e0},{\"y\":25,\"z\":0.4396653914749487e0,\"label\":\"<b>EBNF</b>\",\"x\":1977,\"group\":\"Niklaus Wirth\"},{\"y\":25,\"x\":1975,\"group\":\"Niklaus Wirth\",\"z\":0.16308201826336055e0,\"label\":\"<b>Modula</b>\"},{\"z\":0.1689431110742605e0,\"group\":\"Niklaus Wirth\",\"y\":25,\"label\":\"<b>PL/0</b>\",\"x\":1976},{\"label\":\"<b>PL360</b>\",\"y\":25,\"z\":0.0882276622970111e0,\"group\":\"Niklaus Wirth\",\"x\":1967},{\"z\":0e0,\"group\":\"Niklaus Wirth\",\"y\":25,\"label\":\"<b>Lola-2</b>\",\"x\":1994},{\"y\":26,\"x\":1985,\"group\":\"Richard Stallman\",\"label\":\"<b>Emacs Lisp</b>\",\"z\":1e0},{\"label\":\"<b>GCC</b>\",\"group\":\"Richard Stallman\",\"z\":0.11298653657320641e0,\"y\":26,\"x\":1987},{\"group\":\"Rob Pike\",\"z\":0.4861838853369147e0,\"label\":\"<b>Limbo</b>\",\"x\":1995,\"y\":27},{\"x\":2014,\"z\":1e0,\"group\":\"Rob Pike\",\"y\":27,\"label\":\"<b>ivy</b>\"},{\"x\":1990,\"group\":\"Rob Pike\",\"y\":27,\"z\":0.2653724462171376e0,\"label\":\"<b>Newsqueak</b>\"},{\"label\":\"<b>Node.js</b>\",\"x\":2009,\"group\":\"Ryan Dahl\",\"z\":1e0,\"y\":28},{\"group\":\"Ryan Dahl\",\"y\":28,\"x\":2018,\"label\":\"<b>Deno</b>\",\"z\":0.5322644387915025e0},{\"z\":1e0,\"y\":29,\"x\":1988,\"group\":\"Stephen Wolfram\",\"label\":\"<b>Mathematica</b>\"},{\"y\":29,\"group\":\"Stephen Wolfram\",\"x\":1988,\"z\":0.10455502787534753e0,\"label\":\"<b>Wolfram Language</b>\"},{\"y\":30,\"label\":\"<b>HTML</b>\",\"group\":\"Tim Berners-Lee\",\"z\":1e0,\"x\":1991},{\"group\":\"Tim Berners-Lee\",\"x\":1989,\"label\":\"<b>HTTP</b>\",\"y\":30,\"z\":0.07786964479799466e0},{\"z\":0.05660535015944859e0,\"group\":\"Tim Berners-Lee\",\"x\":1994,\"y\":30,\"label\":\"<b>URL</b>\"},{\"x\":1998,\"y\":30,\"z\":0.008367017446649465e0,\"label\":\"<b>Notation3</b>\",\"group\":\"Tim Berners-Lee\"},{\"z\":0.5136501231660084e0,\"y\":31,\"group\":\"Tom Preston-Werner\",\"x\":2013,\"label\":\"<b>TOML</b>\"},{\"y\":31,\"label\":\"<b>Semantic Versioning</b>\",\"x\":2011,\"group\":\"Tom Preston-Werner\",\"z\":0.332920867949678e0},{\"y\":31,\"x\":2008,\"label\":\"<b>Jekyll</b>\",\"z\":1e0,\"group\":\"Tom Preston-Werner\"},{\"z\":1e0,\"x\":1995,\"label\":\"<b>Ruby</b>\",\"y\":32,\"group\":\"Yukihiro Matsumoto\"},{\"group\":\"Yukihiro Matsumoto\",\"z\":0.1171364197658719e0,\"y\":32,\"x\":2014,\"label\":\"<b>Streem</b>\"}]\n\nvar xMin = Math.min.apply(Math, data.map(function(o) { return o.x; }))\nvar xMax = Math.max.apply(Math, data.map(function(o) { return o.x; }))\n\nvar yMin = Math.min.apply(Math, data.map(function(o) { return o.y; }))\nvar yMax = Math.max.apply(Math, data.map(function(o) { return o.y; }))\n\n// X scale and Axis\nvar x = d3.scaleLinear()\n    .domain([xMin, xMax])\n    .range([0, width]);\n\n// Y scale and Axis\nvar y = d3.scaleLinear()\n    .domain([yMin, yMax])\n    .range([height, 0]);\n\nsvg\n  .append('g')\n  .attr(\"transform\", \"translate(0,\" + height + \")\")\n  .call(d3.axisBottom(x))\n\nsvg\n  .append('g')\n  .call(d3.axisLeft(y).ticks(33).tickSizeInner(-width));\n\nvar zMin = Math.min.apply(Math, data.map(function(o) { return o.z; }))\nvar zMax = Math.max.apply(Math, data.map(function(o) { return o.z; }))\n\n// Add a scale for bubble size\nconst z = d3.scaleLinear()\n    .domain([zMin, zMax])\n    .range([3, 10]);\n\n// Add a scale for bubble color\nvar myColor = d3.scaleOrdinal()\n    .domain(data.map(function(o) { return o.group; }))\n    .range(d3.schemeSet2);\n\n// -1- Create a tooltip div that is hidden by default:\nconst tooltip = d3.select(element.get(0))\n    .append(\"div\")\n      .style(\"opacity\", 0)\n      .attr(\"class\", \"tooltip\")\n      .style(\"background-color\", \"black\")\n      .style(\"border-radius\", \"5px\")\n      .style(\"padding\", \"10px\")\n      .style(\"color\", \"white\")\n\n// -2- Create 3 functions to show / update (when mouse move but stay on same circle) / hide the tooltip\nconst showTooltip = function(event, d) {\n    tooltip\n      .transition()\n      .duration(200);\n\n    let tooltipContent = \"Group: \" + d.group + '<br/>z: ' + d.z.toString() + '<br/>x: ' + d.x.toString() + '<br/>y: ' + d.y.toString();\n    if (d.label) {\n        tooltipContent = \"Label: \" + d.label + '<br/>' + tooltipContent;\n    }\n\n    tooltip\n      .style(\"opacity\", 1)\n      .html(tooltipContent)\n      .style(\"left\", (event.x)/2 + \"px\")\n      .style(\"top\", (event.y)/2 + 10 + \"px\");\n};\n\nconst moveTooltip = function(event, d) {\ntooltip\n  .style(\"left\", (event.x)/2 + \"px\")\n  .style(\"top\", (event.y)/2+10 + \"px\")\n};\n\nconst hideTooltip = function(event, d) {\ntooltip\n  .transition()\n  .duration(200)\n  .style(\"opacity\", 0)\n};\n\n// Add dots\n  svg.append('g')\n    .selectAll(\"dot\")\n    .data(data)\n    .join(\"circle\")\n      .attr(\"class\", \"bubbles\")\n      .attr(\"cx\", d => x(d.x))\n      .attr(\"cy\", d => y(d.y))\n      .attr(\"r\",  d => z(d.z))\n      .style(\"fill\", d => myColor(d.group))\n      .style(\"opacity\", \"0.7\")\n    // -3- Trigger the functions\n    .on(\"mouseover\", showTooltip )\n    .on(\"mousemove\", moveTooltip )\n    .on(\"mouseleave\", hideTooltip )\n\n// create a list of keys\nvar keys = data.map(function(o) { return o.group; })\nkeys = [...new Set(keys)];\n\n// Add one dot in the legend for each name.\nsvg.selectAll(\"mydots\")\n  .data(keys)\n  .enter()\n  .append(\"circle\")\n    .attr(\"cx\", width + 3*12)\n    .attr(\"cy\", function(d,i){ return 0 + i*25}) // 100 is where the first dot appears. 25 is the distance between dots\n    .attr(\"r\", 6)\n    .style(\"fill\", function(d){ return myColor(d)})\n\n// Add one dot in the legend for each name.\nsvg.selectAll(\"mylabels\")\n  .data(keys)\n  .enter()\n  .append(\"text\")\n    .attr(\"x\", width + 3*12 + 12)\n    .attr(\"y\", function(d,i){ return 0 + i*25}) // 100 is where the first dot appears. 25 is the distance between dots\n    .style(\"fill\", function(d){ return myColor(d)})\n    .text(function(d){ return d})\n    .attr(\"text-anchor\", \"left\")\n    .style(\"alignment-baseline\", \"middle\")\n    .style(\"font-size\", \"12px\")\n    .attr(\"font-family\", \"Courier\")\n\n}) })(element);\n"
     },
     "execution_count": 87,
     "metadata": {},
     "output_type": "execute_result"
    }
   ],
   "source": [
    "#% js\n",
    "js-d3-bubble-chart(@nUsers, \n",
    "        z-range-min => 1,\n",
    "        z-range-max => 16,\n",
    "        title => 'Second system effect',\n",
    "        title-color => 'Silver',\n",
    "        title-font-size => 20,\n",
    "        x-label => \"appeared\",\n",
    "        y-label => \"creators\", \n",
    "        z-range-min => 3,\n",
    "        z-range-max => 10,\n",
    "        width => 1000,\n",
    "        height => 900,\n",
    "        margins => { left => 60, bottom => 50, right => 200},\n",
    "        background => 'none',\n",
    "        grid-lines => (Whatever, %nameToIndex.elems)\n",
    ");"
   ]
  },
  {
   "cell_type": "markdown",
   "id": "c3b861ec",
   "metadata": {},
   "source": [
    "From the plot above we *cannot* decisively say that:\n",
    "\n",
    "> The most recent creation of a team of programming language creators is not team's most popular creation.\n",
    "\n",
    "That statement, though, does hold for a fair amount of cases.\n"
   ]
  },
  {
   "cell_type": "markdown",
   "id": "6898d8ca",
   "metadata": {},
   "source": [
    "-------\n",
    "\n",
    "## References"
   ]
  },
  {
   "cell_type": "markdown",
   "id": "c9edcc90",
   "metadata": {},
   "source": [
    "TBD..."
   ]
  }
 ],
 "metadata": {
  "jupytext": {
   "cell_metadata_filter": "-all",
   "main_language": "python",
   "notebook_metadata_filter": "-all"
  },
  "kernelspec": {
   "display_name": "RakuChatbook",
   "language": "raku",
   "name": "raku"
  },
  "language_info": {
   "file_extension": ".raku",
   "mimetype": "text/x-raku",
   "name": "raku",
   "version": "6.d"
  }
 },
 "nbformat": 4,
 "nbformat_minor": 5
}
