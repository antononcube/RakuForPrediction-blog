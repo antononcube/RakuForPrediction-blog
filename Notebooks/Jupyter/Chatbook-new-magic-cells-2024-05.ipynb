{
 "cells": [
  {
   "cell_type": "markdown",
   "metadata": {},
   "source": [
    "# Chatbook New Magic Cells\n",
    "\n",
    "Anton Antonov   \n",
    "[RakuForPrediction at WordPress](http://rakuforprediction.wordpress.com/)   \n",
    "[RakuForPrediction-book at GitHub](https://github.com/antononcube/RakuForPrediction-book)  \n",
    "May 2024"
   ]
  },
  {
   "cell_type": "markdown",
   "metadata": {},
   "source": [
    "## Introduction"
   ]
  },
  {
   "cell_type": "markdown",
   "metadata": {},
   "source": [
    "In this notebook, we showcase the recently added \"magic\" cells (in May 2024) to the notebooks of [\"Jupyter::Chatbook\"](https://raku.land/zef:antononcube/Jupyter::Chatbook), [AAp5, AA1, AAv1]. \"Jupyter::Chatbook\" is \"LLM-ready\" and is built on [\"Jupyter::Kernel'](https://github.com/bduggan/raku-jupyter-kernel), [BDp1], created by Brian Duggan.\n"
   ]
  },
  {
   "cell_type": "markdown",
   "metadata": {},
   "source": [
    "In \"Jupyter::Chatbook\" a general principle is that Raku packages used for implementing interactive service access cells are also *pre-loaded* into notebook's Raku context.\n",
    "(I.e. at the beginning of notebook's Raku session.)\n",
    "\n",
    "Here is a mind-map that shows the Raku packages that are \"pre-loaded\" and the available interactive cells:"
   ]
  },
  {
   "cell_type": "code",
   "execution_count": null,
   "metadata": {},
   "outputs": [],
   "source": [
    "#% mermaid, format=svg, background=SlateGray\n",
    "mindmap\n",
    "**Chatbook**\n",
    "    Direct **LLM** access\n",
    "        OpenAI\n",
    "            ChatGPT\n",
    "            DALL-E\n",
    "        Google\n",
    "            PaLM\n",
    "            Gemini\n",
    "        MistralAI\n",
    "        LLaMA\n",
    "    Direct **DeepL** access\n",
    "        Plain text result\n",
    "        JSON result\n",
    "    **Notebook wide chats**\n",
    "        Chat objects\n",
    "           Named\n",
    "           Anonymous\n",
    "        Chat meta cells              \n",
    "        Prompt DSL expansion \n",
    "    Direct **MermaidJS** access\n",
    "        SVG result\n",
    "        PNG result\n",
    "    Direct **Wolfram|Alpha** access\n",
    "        wa1[\"Plain text result\"]\n",
    "        wa2[\"Image result\"]\n",
    "        wa3[\"Pods result\"]\n",
    "    **Pre-loaded packages**\n",
    "        LLM::Functions\n",
    "        LLM::Prompts\n",
    "        Text::SubParsers\n",
    "        Data::Translators\n",
    "        Data::TypeSystem\n",
    "        Clipboard\n",
    "        Text::Plot\n",
    "        Image::Markup::Utilities\n",
    "        WWW::LLaMA\n",
    "        WWW::MermaidInk\n",
    "        WWW::OpenAI\n",
    "        WWW::PaLM\n",
    "        WWW::Gemini\n",
    "        Lingua::Translation::DeepL"
   ]
  },
  {
   "cell_type": "markdown",
   "metadata": {},
   "source": [
    "**Remark:** Recent improvement is Mermaid-JS cells to have argument for output format and background. \n",
    "Since two months aga (beginning of March, 2024) by default the output format is SVG. In that way diagrams are obtained 2-3 times faster. \n",
    "Before March 9, 2023, PNG was the default format (and the only one available.)"
   ]
  },
  {
   "cell_type": "markdown",
   "metadata": {},
   "source": [
    "The structure of the rest of the notebook:\n",
    "\n",
    "- **DeepL**   \n",
    "  Translation from multiple languages into multiple other languages   \n",
    "- **Google's Gemini**   \n",
    "  Replaces both PaLM and Bard\n",
    "- **Wolfram|Alpha**   \n",
    "  Computational search engine  "
   ]
  },
  {
   "cell_type": "markdown",
   "metadata": {},
   "source": [
    "------\n",
    "\n",
    "## [DeepL](https://www.deepl.com)"
   ]
  },
  {
   "cell_type": "markdown",
   "metadata": {},
   "source": [
    "In this section we show magic cells for _direct_ access of the translation service [DeepL](https://www.deepl.com/translator).\n",
    "The API key can be set as a magic cell argument; without such key setting the env variable `DEEPL_AUTH_KEY` is used. \n",
    "See [\"Lingua::Translation::DeepL\"](https://raku.land/zef:antononcube/Lingua::Translation::DeepL), [AAp1], for more details."
   ]
  },
  {
   "cell_type": "code",
   "execution_count": 2,
   "metadata": {},
   "outputs": [
    {
     "data": {
      "text/plain": [
       "Ich habe dir gesagt, du sollst die Rahmen aus dem anderen Lager holen!"
      ]
     },
     "execution_count": 2,
     "metadata": {},
     "output_type": "execute_result"
    }
   ],
   "source": [
    "#% deepl, to-lang=German, formality=less, format=text\n",
    "I told you to get the frames from the other warehouse!"
   ]
  },
  {
   "cell_type": "code",
   "execution_count": 3,
   "metadata": {},
   "outputs": [
    {
     "data": {
      "text/plain": [
       "Я же просил Вас взять рамки с другого склада!"
      ]
     },
     "execution_count": 3,
     "metadata": {},
     "output_type": "execute_result"
    }
   ],
   "source": [
    "#% deepl, to-lang=Russian, formality=more, format=text\n",
    "I told you to get the frames from the other warehouse!"
   ]
  },
  {
   "cell_type": "markdown",
   "metadata": {},
   "source": [
    "DeepL's source languages:"
   ]
  },
  {
   "cell_type": "code",
   "execution_count": 4,
   "metadata": {},
   "outputs": [
    {
     "data": {
      "text/html": [
       "<table border=\"1\"><tbody><tr><td>bulgarian\tBG</td><td>finnish\tFI</td><td>japanese\tJA</td><td>slovak\tSK</td></tr><tr><td>chinese\tZH</td><td>french\tFR</td><td>latvian\tLV</td><td>slovenian\tSL</td></tr><tr><td>czech\tCS</td><td>german\tDE</td><td>lithuanian\tLT</td><td>spanish\tES</td></tr><tr><td>danish\tDA</td><td>greek\tEL</td><td>polish\tPL</td><td>swedish\tSV</td></tr><tr><td>dutch\tNL</td><td>hungarian\tHU</td><td>portuguese\tPT</td><td>turkish\tTR</td></tr><tr><td>english\tEN</td><td>indonesian\tID</td><td>romanian\tRO</td><td>ukrainian\tUK</td></tr><tr><td>estonian\tET</td><td>italian\tIT</td><td>russian\tRU</td><td>(Any)</td></tr></tbody></table>"
      ]
     },
     "execution_count": 4,
     "metadata": {},
     "output_type": "execute_result"
    }
   ],
   "source": [
    "#% html\n",
    "deepl-source-languages().pairs>>.Str.sort.List ==> to-html(:multicolumn, columns => 4)"
   ]
  },
  {
   "cell_type": "markdown",
   "metadata": {},
   "source": [
    "DeepL's target languages:"
   ]
  },
  {
   "cell_type": "code",
   "execution_count": 5,
   "metadata": {},
   "outputs": [
    {
     "data": {
      "text/html": [
       "<table border=\"1\"><tbody><tr><td>bulgarian\tBG</td><td>estonian\tET</td><td>japanese\tJA</td><td>russian\tRU</td></tr><tr><td>chinese simplified\tZH</td><td>finnish\tFI</td><td>latvian\tLV</td><td>slovak\tSK</td></tr><tr><td>czech\tCS</td><td>french\tFR</td><td>lithuanian\tLT</td><td>slovenian\tSL</td></tr><tr><td>danish\tDA</td><td>german\tDE</td><td>polish\tPL</td><td>spanish\tES</td></tr><tr><td>dutch\tNL</td><td>greek\tEL</td><td>portuguese\tPT</td><td>swedish\tSV</td></tr><tr><td>english\tEN</td><td>hungarian\tHU</td><td>portuguese brazilian\tPT-BR</td><td>turkish\tTR</td></tr><tr><td>english american\tEN-US</td><td>indonesian\tID</td><td>portuguese non-brazilian\tPT-PT</td><td>ukrainian\tUK</td></tr><tr><td>english british\tEN-GB</td><td>italian\tIT</td><td>romanian\tRO</td><td>(Any)</td></tr></tbody></table>"
      ]
     },
     "execution_count": 5,
     "metadata": {},
     "output_type": "execute_result"
    }
   ],
   "source": [
    "#% html\n",
    "deepl-target-languages().pairs>>.Str.sort.List ==> to-html(:multicolumn, columns => 4)"
   ]
  },
  {
   "cell_type": "markdown",
   "metadata": {},
   "source": [
    "------\n",
    "\n",
    "## [Google's Gemini](https://ai.google.dev)"
   ]
  },
  {
   "cell_type": "markdown",
   "metadata": {},
   "source": [
    "In this section we show magic cells for _direct_ access of the LLM service [Gemini](https://ai.google.dev) by Google.\n",
    "The API key can be set as a magic cell argument; without such key setting the env variable `GEMINI_API_KEY` is used. \n",
    "See [\"WWW::Gemini\"](https://raku.land/zef:antononcube/WWW::Gemini), [AAp2], for more details."
   ]
  },
  {
   "cell_type": "markdown",
   "metadata": {},
   "source": [
    "### Using the default model"
   ]
  },
  {
   "cell_type": "code",
   "execution_count": 6,
   "metadata": {},
   "outputs": [
    {
     "data": {
      "text/plain": [
       "I am Gemini, a multi-modal AI language model developed by Google."
      ]
     },
     "execution_count": 6,
     "metadata": {},
     "output_type": "execute_result"
    }
   ],
   "source": [
    "#% gemini\n",
    "Which LLM you are and what is your model?"
   ]
  },
  {
   "cell_type": "code",
   "execution_count": 7,
   "metadata": {},
   "outputs": [
    {
     "data": {
      "text/plain": [
       "I have been trained on a massive dataset of text and code up until April 2023. However, I do not have real-time access to the internet, so I cannot access information beyond that date. If you have any questions about events or information after April 2023, I recommend checking a reliable, up-to-date source."
      ]
     },
     "execution_count": 7,
     "metadata": {},
     "output_type": "execute_result"
    }
   ],
   "source": [
    "#% gemini\n",
    "Up to which date you have been trained? "
   ]
  },
  {
   "cell_type": "markdown",
   "metadata": {},
   "source": [
    "### Using a specific model"
   ]
  },
  {
   "cell_type": "markdown",
   "metadata": {},
   "source": [
    "In this subsection we repeat the questions above, and redirect the output to formatted as Markdown."
   ]
  },
  {
   "cell_type": "code",
   "execution_count": 8,
   "metadata": {},
   "outputs": [
    {
     "data": {
      "text/markdown": [
       "I'm currently running on the Gemini Pro model. \n",
       "\n",
       "I can't share private information that could identify me specifically, but I can tell you that I am a large language model created by Google AI. \n"
      ]
     },
     "execution_count": 8,
     "metadata": {},
     "output_type": "execute_result"
    }
   ],
   "source": [
    "#% gemini > markdown, model=gemini-1.5-pro-latest\n",
    "Which LLM are you? What is the name of the model you use?"
   ]
  },
  {
   "cell_type": "code",
   "execution_count": 9,
   "metadata": {},
   "outputs": [
    {
     "data": {
      "text/markdown": [
       "I can access pretty up-to-date information, which means I don't really have a \"knowledge cut-off\" date like some older models. \n",
       "\n",
       "However, it's important to remember:\n",
       "\n",
       "* **I am not constantly updating.** My knowledge is based on a snapshot of the internet taken at a certain point in time. \n",
       "* **I don't have access to real-time information.** I can't tell you what happened this morning, or what the stock market is doing right now.\n",
       "* **The world is constantly changing.**  Even if I had information up to a very recent date, things would still be outdated quickly!\n",
       "\n",
       "If you need very specific and current information, it's always best to consult reliable and up-to-date sources. \n"
      ]
     },
     "execution_count": 9,
     "metadata": {},
     "output_type": "execute_result"
    }
   ],
   "source": [
    "#% gemini > markdown, model=gemini-1.5-pro-latest\n",
    "Up to which date you have been trained? "
   ]
  },
  {
   "cell_type": "markdown",
   "metadata": {},
   "source": [
    "-------\n",
    "\n",
    "## [Wolfram|Alpha](https://www.wolframalpha.com)"
   ]
  },
  {
   "cell_type": "markdown",
   "metadata": {},
   "source": [
    "In this section we show magic cells for _direct_ access to [Wolfram|Alpha](https://www.wolframalpha.com) by Wolfram Research, Inc.\n",
    "The API key can be set as a magic cell argument; without such key setting the env variable `WOLFRAM_ALPHA_API_KEY` is used. \n",
    "See [\"WWW::WolframAlpha\"](https://raku.land/zef:antononcube/WWW::WolframAlpha), [AAp3], for more details."
   ]
  },
  {
   "cell_type": "markdown",
   "metadata": {},
   "source": [
    "### Simple *(image output)*"
   ]
  },
  {
   "cell_type": "markdown",
   "metadata": {},
   "source": [
    "When using the W|A's API `/simple` endpoint [we get images as results](https://products.wolframalpha.com/simple-api/documentation)."
   ]
  },
  {
   "cell_type": "code",
   "execution_count": null,
   "metadata": {},
   "outputs": [],
   "source": [
    "#% wolfram-alpha\n",
    "Calories in 5 servings of potato salad."
   ]
  },
  {
   "cell_type": "markdown",
   "metadata": {},
   "source": [
    "Here is how the image above can be generated and saved in a regular code cell:"
   ]
  },
  {
   "cell_type": "code",
   "execution_count": 4,
   "metadata": {},
   "outputs": [
    {
     "data": {
      "text/plain": [
       "WA-calories.png"
      ]
     },
     "execution_count": 4,
     "metadata": {},
     "output_type": "execute_result"
    }
   ],
   "source": [
    "my $imgWA = wolfram-alpha('Calories in 5 servings of potato salad.', path => 'simple', format => 'md-image');\n",
    "image-export('WA-calories.png', $imgWA)"
   ]
  },
  {
   "cell_type": "markdown",
   "metadata": {},
   "source": [
    "### Result *(plaintext output)*"
   ]
  },
  {
   "cell_type": "code",
   "execution_count": 11,
   "metadata": {},
   "outputs": [
    {
     "data": {
      "text/plain": [
       " the biggest administrative division in  China by area is Xinjiang, China. The area of Xinjiang, China is about 629869 square miles"
      ]
     },
     "execution_count": 11,
     "metadata": {},
     "output_type": "execute_result"
    }
   ],
   "source": [
    "#% w|a, type=result\n",
    "Biggest province in China"
   ]
  },
  {
   "cell_type": "markdown",
   "metadata": {},
   "source": [
    "### Pods *(Markdown output)*"
   ]
  },
  {
   "cell_type": "code",
   "execution_count": 1,
   "metadata": {},
   "outputs": [
    {
     "data": {
      "text/markdown": [
       "#### Input interpretation\n",
       "\n",
       "**scanner:** Data\n",
       "\n",
       "\n",
       "\n",
       "![](https://www6b3.wolframalpha.com/Calculate/MSP/MSP954214e2h1dci8bfe7ig00006670e274g3ddiidc?MSPStoreType=image/gif&s=11)\n",
       "\n",
       "China\n",
       "United States | GDP | nominal\n",
       "2023\n",
       "\n",
       "#### Results\n",
       "\n",
       "**scanner:** Data\n",
       "\n",
       "\n",
       "\n",
       "![](https://www6b3.wolframalpha.com/Calculate/MSP/MSP954314e2h1dci8bfe7ig00004569g70h3e9af489?MSPStoreType=image/gif&s=11)\n",
       "\n",
       "China | $17.96 trillion per year\n",
       "United States | $25.46 trillion per year\n",
       "(2022 estimates)\n",
       "\n",
       "#### Relative values\n",
       "\n",
       "**scanner:** Data\n",
       "\n",
       "\n",
       "\n",
       "![](https://www6b3.wolframalpha.com/Calculate/MSP/MSP954414e2h1dci8bfe7ig000019bbe9bc457ci82d?MSPStoreType=image/gif&s=11)\n",
       "\n",
       " | visual | ratios | | comparisons\n",
       "United States | | 1.417 | 1 | 41.75% larger\n",
       "China | | 1 | 0.7055 | 29.45% smaller\n",
       "\n",
       "#### GDP history\n",
       "\n",
       "**scanner:** Data\n",
       "\n",
       "\n",
       "\n",
       "![](https://www6b3.wolframalpha.com/Calculate/MSP/MSP954514e2h1dci8bfe7ig00005e7gi622c28fg6d0?MSPStoreType=image/gif&s=11)\n",
       "\n",
       "\n",
       "\n",
       "#### Economic properties\n",
       "\n",
       "**scanner:** Data\n",
       "\n",
       "\n",
       "\n",
       "![](https://www6b3.wolframalpha.com/Calculate/MSP/MSP954614e2h1dci8bfe7ig00003b82164cg0e765ih?MSPStoreType=image/gif&s=11)\n",
       "\n",
       " | China | United States\n",
       "GDP at exchange rate | $17.96 trillion per year (world rank: 2nd) | $25.46 trillion per year (world rank: 1st)\n",
       "GDP at parity | $30.33 trillion per year (world rank: 1st) | $25.46 trillion per year (world rank: 2nd)\n",
       "real GDP | $16.33 trillion per year (price-adjusted to year-2000 US dollars) (world rank: 2nd) | $20.95 trillion per year (price-adjusted to year-2000 US dollars) (world rank: 1st)\n",
       "GDP in local currency | ￥121 trillion per year | $25.46 trillion per year\n",
       "GDP per capita | $12720 per year per person (world rank: 93rd) | $76399 per year per person (world rank: 12th)\n",
       "GDP real growth | +2.991% per year (world rank: 131st) | +2.062% per year (world rank: 158th)\n",
       "consumer price inflation | +1.97% per year (world rank: 175th) | +8% per year (world rank: 91st)\n",
       "unemployment rate | 4.89% (world rank: 123rd highest) | 3.61% (world rank: 157th highest)\n",
       "(2022 estimate)\n",
       "\n",
       "#### GDP components\n",
       "\n",
       "**scanner:** Data\n",
       "\n",
       "\n",
       "\n",
       "![](https://www6b3.wolframalpha.com/Calculate/MSP/MSP954814e2h1dci8bfe7ig00004ici6852cidc99ah?MSPStoreType=image/gif&s=11)\n",
       "\n",
       " | China | United States\n",
       "final consumption expenditure | $9.609 trillion per year (53.49%) (world rank: 2nd) (2021) | $17.54 trillion per year (68.88%) (world rank: 1st) (2019)\n",
       "gross capital formation | $7.688 trillion per year (42.8%) (world rank: 1st) (2021) | $4.504 trillion per year (17.69%) (world rank: 2nd) (2019)\n",
       "external balance on goods and services | $576.7 billion per year (3.21%) (world rank: 1st) (2022) | -$610.5 billion per year (-2.4%) (world rank: 206th) (2019)\n",
       "GDP | $17.96 trillion per year (100%) (world rank: 2nd) (2022) | $25.46 trillion per year (100%) (world rank: 1st) (2022)\n",
       "\n",
       "#### Value added by sector\n",
       "\n",
       "**scanner:** Data\n",
       "\n",
       "\n",
       "\n",
       "![](https://www6b3.wolframalpha.com/Calculate/MSP/MSP954914e2h1dci8bfe7ig00003c905c9fd8ih310a?MSPStoreType=image/gif&s=11)\n",
       "\n",
       " | China | United States\n",
       "agriculture | $1.311 trillion per year (world rank: 1st) (2022) | $223.7 billion per year (world rank: 3rd) (2021)\n",
       "industry | $7.172 trillion per year (world rank: 1st) (2022) | $4.17 trillion per year (world rank: 2nd) (2021)\n",
       "manufacturing | $4.976 trillion per year (world rank: 1st) (2022) | $2.497 trillion per year (world rank: 2nd) (2021)\n",
       "services, etc. | $5.783 trillion per year (world rank: 2nd) (2016) | $13.78 trillion per year (world rank: 1st) (2015)"
      ]
     },
     "execution_count": 1,
     "metadata": {},
     "output_type": "execute_result"
    }
   ],
   "source": [
    "#% wa, path=query\n",
    "GDP of China vs USA in 2023"
   ]
  },
  {
   "cell_type": "code",
   "execution_count": 13,
   "metadata": {},
   "outputs": [
    {
     "data": {
      "text/markdown": [
       "No available answer."
      ]
     },
     "execution_count": 13,
     "metadata": {},
     "output_type": "execute_result"
    }
   ],
   "source": [
    "#% wa, path=query\n",
    "Number of STEM graduates of China vs USA in 2023"
   ]
  },
  {
   "cell_type": "markdown",
   "metadata": {},
   "source": [
    "### Download and export pods images"
   ]
  },
  {
   "cell_type": "markdown",
   "metadata": {},
   "source": [
    "W|A's query-pods contain URLs to images (which expire within a day.) We might want to download and save those images. \n",
    "Here is a way to do it:"
   ]
  },
  {
   "cell_type": "code",
   "execution_count": null,
   "metadata": {},
   "outputs": [],
   "source": [
    "# Pods as JSON text -- easier to extract links from\n",
    "my $pods = wolfram-alpha-query('GDP of China vs USA in 2023', format => 'json');"
   ]
  },
  {
   "cell_type": "code",
   "execution_count": 66,
   "metadata": {},
   "outputs": [
    {
     "data": {
      "text/plain": [
       "(wa-0.png wa-1.png wa-2.png wa-3.png wa-4.png wa-5.png wa-6.png wa-7.png)"
      ]
     },
     "execution_count": 66,
     "metadata": {},
     "output_type": "execute_result"
    }
   ],
   "source": [
    "# Extract URLs\n",
    "my @urls = do with $pods.match(/ '\"src\":' \\h* '\"' (<-[\"]>+) '\"'/, :g) {\n",
    "    $/.map({ $_[0].Str })\n",
    "};\n",
    "\n",
    "# Download images as Markdown images (that can be shown in Jupyter notebooks or Markdown files)\n",
    "my @imgs = @urls.map({ image-import($_, format => 'md-image') });\n",
    "\n",
    "# Export images\n",
    "for ^@imgs.elems -> $i { image-export(\"wa-$i.png\", @imgs[$i] ) }"
   ]
  },
  {
   "cell_type": "markdown",
   "metadata": {},
   "source": [
    "---- \n",
    "\n",
    "## References"
   ]
  },
  {
   "cell_type": "markdown",
   "metadata": {},
   "source": [
    "### Articles\n",
    "\n",
    "[AA1] Anton Antonov, [\"Jupyter::Chatbook\"](https://rakuforprediction.wordpress.com/2023/09/03/jupyterchatbook/), (2023), [RakuForPrediction at WordPress](https://rakuforprediction.wordpress.com)."
   ]
  },
  {
   "cell_type": "markdown",
   "metadata": {},
   "source": [
    "### Packages\n",
    "\n",
    "[AAp1] Anton Antonov, \n",
    "[Lingua::Translation::DeepL Raku package](https://github.com/antononcube/Raku-Lingua-Translation-DeepL), \n",
    "(2024),\n",
    "[GitHub/antononcube](https://github.com/antononcube).\n",
    "\n",
    "[AAp2] Anton Antonov, \n",
    "[WWW::Gemini Raku package](https://github.com/antononcube/Raku-WWW-Gemini), \n",
    "(2024),\n",
    "[GitHub/antononcube](https://github.com/antononcube).\n",
    "\n",
    "[AAp3] Anton Antonov, \n",
    "[WWW::WolframAlpha Raku package](https://github.com/antononcube/Raku-WWW-WolframAlpha), \n",
    "(2024),\n",
    "[GitHub/antononcube](https://github.com/antononcube).\n",
    "\n",
    "[AAp4] Anton Antonov, \n",
    "[WWW::OpenAI Raku package](https://github.com/antononcube/Raku-WWW-OpenAI), \n",
    "(2024),\n",
    "[GitHub/antononcube](https://github.com/antononcube).\n",
    "\n",
    "[AAp5] Anton Antonov, \n",
    "[Jupyter::Chatbook Raku package](https://github.com/antononcube/Raku-Jupyter-Chatbook), \n",
    "(2024),\n",
    "[GitHub/antononcube](https://github.com/antononcube).\n",
    "\n",
    "[BDp1] Brian Duggan, \n",
    "[Jupyter::Kernel Raku package](https://github.com/bduggan/p6-jupyter-kernel), \n",
    "(2017),\n",
    "[GitHub/bduggan](https://github.com/bduggan)."
   ]
  },
  {
   "cell_type": "markdown",
   "metadata": {},
   "source": [
    "### Videos\n",
    "\n",
    "[AAv1] Anton Antonov, [\"Integrating Large Language Models with Raku\"](https://www.youtube.com/watch?v=-OxKqRrQvh0), (2023), [YouTube/@therakuconference6823](https://www.youtube.com/@therakuconference6823)."
   ]
  }
 ],
 "metadata": {
  "kernelspec": {
   "display_name": "RakuChatbook",
   "language": "raku",
   "name": "raku"
  },
  "language_info": {
   "file_extension": ".raku",
   "mimetype": "text/x-raku",
   "name": "raku",
   "version": "6.d"
  }
 },
 "nbformat": 4,
 "nbformat_minor": 4
}
