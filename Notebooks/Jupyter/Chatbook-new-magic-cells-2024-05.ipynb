{
 "cells": [
  {
   "cell_type": "markdown",
   "metadata": {},
   "source": [
    "# Chatbook New Magic Cells\n",
    "\n",
    "Anton Antonov   \n",
    "[RakuForPrediction at WordPress](http://rakuforprediction.wordpress.com/)   \n",
    "[RakuForPrediction-book at GitHub](https://github.com/antononcube/RakuForPrediction-book)  \n",
    "May 2024"
   ]
  },
  {
   "cell_type": "markdown",
   "metadata": {},
   "source": [
    "## Introduction"
   ]
  },
  {
   "cell_type": "markdown",
   "metadata": {},
   "source": [
    "\n",
    "In this notebook, we showcase the recently added \"magic\" cells (in May 2024) to the notebooks of [\"Jupyter::Chatbook\"](https://raku.land/zef:antononcube/Jupyter::Chatbook), [AA1, AAp5, AAv1].\n"
   ]
  },
  {
   "cell_type": "markdown",
   "metadata": {},
   "source": [
    "\"Jupyter::Chatbook\" gives \"LLM-ready\" notebooks and it is built on [\"Jupyter::Kernel\"](https://github.com/bduggan/raku-jupyter-kernel), [BDp1], created by Brian Duggan.\n",
    "\"Jupyter::Chatbook\" has the general principle that Raku packages used for implementing interactive service access cells are also *pre-loaded* into the notebooks Raku contexts.\n",
    "(I.e. at the beginning of notebooks' Raku sessions.)\n",
    "\n",
    "Here is a mind-map that shows the Raku packages that are \"pre-loaded\" and the available interactive cells:"
   ]
  },
  {
   "cell_type": "code",
   "execution_count": 68,
   "metadata": {},
   "outputs": [
    {
     "data": {
      "text/html": [
       "<svg id=\"mermaid-svg\" width=\"100%\" xmlns=\"http://www.w3.org/2000/svg\" style=\"max-width: 1180.76px; background-color: slategray;\" viewBox=\"5 5 1180.756103515625 581.4953002929688\" role=\"graphics-document document\" aria-roledescription=\"mindmap\" xmlns:xlink=\"http://www.w3.org/1999/xlink\"><style xmlns=\"http://www.w3.org/1999/xhtml\">@import url(\"https://cdnjs.cloudflare.com/ajax/libs/font-awesome/6.5.2/css/all.min.css\");</style><style>#mermaid-svg{font-family:\"trebuchet ms\",verdana,arial,sans-serif;font-size:16px;fill:#333;}#mermaid-svg .error-icon{fill:#552222;}#mermaid-svg .error-text{fill:#552222;stroke:#552222;}#mermaid-svg .edge-thickness-normal{stroke-width:2px;}#mermaid-svg .edge-thickness-thick{stroke-width:3.5px;}#mermaid-svg .edge-pattern-solid{stroke-dasharray:0;}#mermaid-svg .edge-pattern-dashed{stroke-dasharray:3;}#mermaid-svg .edge-pattern-dotted{stroke-dasharray:2;}#mermaid-svg .marker{fill:#333333;stroke:#333333;}#mermaid-svg .marker.cross{stroke:#333333;}#mermaid-svg svg{font-family:\"trebuchet ms\",verdana,arial,sans-serif;font-size:16px;}#mermaid-svg .edge{stroke-width:3;}#mermaid-svg .section--1 rect,#mermaid-svg .section--1 path,#mermaid-svg .section--1 circle,#mermaid-svg .section--1 polygon,#mermaid-svg .section--1 path{fill:hsl(240, 100%, 76.2745098039%);}#mermaid-svg .section--1 text{fill:#ffffff;}#mermaid-svg .node-icon--1{font-size:40px;color:#ffffff;}#mermaid-svg .section-edge--1{stroke:hsl(240, 100%, 76.2745098039%);}#mermaid-svg .edge-depth--1{stroke-width:17;}#mermaid-svg .section--1 line{stroke:hsl(60, 100%, 86.2745098039%);stroke-width:3;}#mermaid-svg .disabled,#mermaid-svg .disabled circle,#mermaid-svg .disabled text{fill:lightgray;}#mermaid-svg .disabled text{fill:#efefef;}#mermaid-svg .section-0 rect,#mermaid-svg .section-0 path,#mermaid-svg .section-0 circle,#mermaid-svg .section-0 polygon,#mermaid-svg .section-0 path{fill:hsl(60, 100%, 73.5294117647%);}#mermaid-svg .section-0 text{fill:black;}#mermaid-svg .node-icon-0{font-size:40px;color:black;}#mermaid-svg .section-edge-0{stroke:hsl(60, 100%, 73.5294117647%);}#mermaid-svg .edge-depth-0{stroke-width:14;}#mermaid-svg .section-0 line{stroke:hsl(240, 100%, 83.5294117647%);stroke-width:3;}#mermaid-svg .disabled,#mermaid-svg .disabled circle,#mermaid-svg .disabled text{fill:lightgray;}#mermaid-svg .disabled text{fill:#efefef;}#mermaid-svg .section-1 rect,#mermaid-svg .section-1 path,#mermaid-svg .section-1 circle,#mermaid-svg .section-1 polygon,#mermaid-svg .section-1 path{fill:hsl(80, 100%, 76.2745098039%);}#mermaid-svg .section-1 text{fill:black;}#mermaid-svg .node-icon-1{font-size:40px;color:black;}#mermaid-svg .section-edge-1{stroke:hsl(80, 100%, 76.2745098039%);}#mermaid-svg .edge-depth-1{stroke-width:11;}#mermaid-svg .section-1 line{stroke:hsl(260, 100%, 86.2745098039%);stroke-width:3;}#mermaid-svg .disabled,#mermaid-svg .disabled circle,#mermaid-svg .disabled text{fill:lightgray;}#mermaid-svg .disabled text{fill:#efefef;}#mermaid-svg .section-2 rect,#mermaid-svg .section-2 path,#mermaid-svg .section-2 circle,#mermaid-svg .section-2 polygon,#mermaid-svg .section-2 path{fill:hsl(270, 100%, 76.2745098039%);}#mermaid-svg .section-2 text{fill:#ffffff;}#mermaid-svg .node-icon-2{font-size:40px;color:#ffffff;}#mermaid-svg .section-edge-2{stroke:hsl(270, 100%, 76.2745098039%);}#mermaid-svg .edge-depth-2{stroke-width:8;}#mermaid-svg .section-2 line{stroke:hsl(90, 100%, 86.2745098039%);stroke-width:3;}#mermaid-svg .disabled,#mermaid-svg .disabled circle,#mermaid-svg .disabled text{fill:lightgray;}#mermaid-svg .disabled text{fill:#efefef;}#mermaid-svg .section-3 rect,#mermaid-svg .section-3 path,#mermaid-svg .section-3 circle,#mermaid-svg .section-3 polygon,#mermaid-svg .section-3 path{fill:hsl(300, 100%, 76.2745098039%);}#mermaid-svg .section-3 text{fill:black;}#mermaid-svg .node-icon-3{font-size:40px;color:black;}#mermaid-svg .section-edge-3{stroke:hsl(300, 100%, 76.2745098039%);}#mermaid-svg .edge-depth-3{stroke-width:5;}#mermaid-svg .section-3 line{stroke:hsl(120, 100%, 86.2745098039%);stroke-width:3;}#mermaid-svg .disabled,#mermaid-svg .disabled circle,#mermaid-svg .disabled text{fill:lightgray;}#mermaid-svg .disabled text{fill:#efefef;}#mermaid-svg .section-4 rect,#mermaid-svg .section-4 path,#mermaid-svg .section-4 circle,#mermaid-svg .section-4 polygon,#mermaid-svg .section-4 path{fill:hsl(330, 100%, 76.2745098039%);}#mermaid-svg .section-4 text{fill:black;}#mermaid-svg .node-icon-4{font-size:40px;color:black;}#mermaid-svg .section-edge-4{stroke:hsl(330, 100%, 76.2745098039%);}#mermaid-svg .edge-depth-4{stroke-width:2;}#mermaid-svg .section-4 line{stroke:hsl(150, 100%, 86.2745098039%);stroke-width:3;}#mermaid-svg .disabled,#mermaid-svg .disabled circle,#mermaid-svg .disabled text{fill:lightgray;}#mermaid-svg .disabled text{fill:#efefef;}#mermaid-svg .section-5 rect,#mermaid-svg .section-5 path,#mermaid-svg .section-5 circle,#mermaid-svg .section-5 polygon,#mermaid-svg .section-5 path{fill:hsl(0, 100%, 76.2745098039%);}#mermaid-svg .section-5 text{fill:black;}#mermaid-svg .node-icon-5{font-size:40px;color:black;}#mermaid-svg .section-edge-5{stroke:hsl(0, 100%, 76.2745098039%);}#mermaid-svg .edge-depth-5{stroke-width:-1;}#mermaid-svg .section-5 line{stroke:hsl(180, 100%, 86.2745098039%);stroke-width:3;}#mermaid-svg .disabled,#mermaid-svg .disabled circle,#mermaid-svg .disabled text{fill:lightgray;}#mermaid-svg .disabled text{fill:#efefef;}#mermaid-svg .section-6 rect,#mermaid-svg .section-6 path,#mermaid-svg .section-6 circle,#mermaid-svg .section-6 polygon,#mermaid-svg .section-6 path{fill:hsl(30, 100%, 76.2745098039%);}#mermaid-svg .section-6 text{fill:black;}#mermaid-svg .node-icon-6{font-size:40px;color:black;}#mermaid-svg .section-edge-6{stroke:hsl(30, 100%, 76.2745098039%);}#mermaid-svg .edge-depth-6{stroke-width:-4;}#mermaid-svg .section-6 line{stroke:hsl(210, 100%, 86.2745098039%);stroke-width:3;}#mermaid-svg .disabled,#mermaid-svg .disabled circle,#mermaid-svg .disabled text{fill:lightgray;}#mermaid-svg .disabled text{fill:#efefef;}#mermaid-svg .section-7 rect,#mermaid-svg .section-7 path,#mermaid-svg .section-7 circle,#mermaid-svg .section-7 polygon,#mermaid-svg .section-7 path{fill:hsl(90, 100%, 76.2745098039%);}#mermaid-svg .section-7 text{fill:black;}#mermaid-svg .node-icon-7{font-size:40px;color:black;}#mermaid-svg .section-edge-7{stroke:hsl(90, 100%, 76.2745098039%);}#mermaid-svg .edge-depth-7{stroke-width:-7;}#mermaid-svg .section-7 line{stroke:hsl(270, 100%, 86.2745098039%);stroke-width:3;}#mermaid-svg .disabled,#mermaid-svg .disabled circle,#mermaid-svg .disabled text{fill:lightgray;}#mermaid-svg .disabled text{fill:#efefef;}#mermaid-svg .section-8 rect,#mermaid-svg .section-8 path,#mermaid-svg .section-8 circle,#mermaid-svg .section-8 polygon,#mermaid-svg .section-8 path{fill:hsl(150, 100%, 76.2745098039%);}#mermaid-svg .section-8 text{fill:black;}#mermaid-svg .node-icon-8{font-size:40px;color:black;}#mermaid-svg .section-edge-8{stroke:hsl(150, 100%, 76.2745098039%);}#mermaid-svg .edge-depth-8{stroke-width:-10;}#mermaid-svg .section-8 line{stroke:hsl(330, 100%, 86.2745098039%);stroke-width:3;}#mermaid-svg .disabled,#mermaid-svg .disabled circle,#mermaid-svg .disabled text{fill:lightgray;}#mermaid-svg .disabled text{fill:#efefef;}#mermaid-svg .section-9 rect,#mermaid-svg .section-9 path,#mermaid-svg .section-9 circle,#mermaid-svg .section-9 polygon,#mermaid-svg .section-9 path{fill:hsl(180, 100%, 76.2745098039%);}#mermaid-svg .section-9 text{fill:black;}#mermaid-svg .node-icon-9{font-size:40px;color:black;}#mermaid-svg .section-edge-9{stroke:hsl(180, 100%, 76.2745098039%);}#mermaid-svg .edge-depth-9{stroke-width:-13;}#mermaid-svg .section-9 line{stroke:hsl(0, 100%, 86.2745098039%);stroke-width:3;}#mermaid-svg .disabled,#mermaid-svg .disabled circle,#mermaid-svg .disabled text{fill:lightgray;}#mermaid-svg .disabled text{fill:#efefef;}#mermaid-svg .section-10 rect,#mermaid-svg .section-10 path,#mermaid-svg .section-10 circle,#mermaid-svg .section-10 polygon,#mermaid-svg .section-10 path{fill:hsl(210, 100%, 76.2745098039%);}#mermaid-svg .section-10 text{fill:black;}#mermaid-svg .node-icon-10{font-size:40px;color:black;}#mermaid-svg .section-edge-10{stroke:hsl(210, 100%, 76.2745098039%);}#mermaid-svg .edge-depth-10{stroke-width:-16;}#mermaid-svg .section-10 line{stroke:hsl(30, 100%, 86.2745098039%);stroke-width:3;}#mermaid-svg .disabled,#mermaid-svg .disabled circle,#mermaid-svg .disabled text{fill:lightgray;}#mermaid-svg .disabled text{fill:#efefef;}#mermaid-svg .section-root rect,#mermaid-svg .section-root path,#mermaid-svg .section-root circle,#mermaid-svg .section-root polygon{fill:hsl(240, 100%, 46.2745098039%);}#mermaid-svg .section-root text{fill:#ffffff;}#mermaid-svg .icon-container{height:100%;display:flex;justify-content:center;align-items:center;}#mermaid-svg .edge{fill:none;}#mermaid-svg .mindmap-node-label{dy:1em;alignment-baseline:middle;text-anchor:middle;dominant-baseline:middle;text-align:center;}#mermaid-svg :root{--mermaid-font-family:\"trebuchet ms\",verdana,arial,sans-serif;}</style><g/><g class=\"mindmap-edges\"><path d=\"M 173.43927982803217,295.434984648361 L 122.18797824552217,308.5120757818927 L70.93667666301216,321.58916691542436 \" class=\"edge section-edge-0 edge-depth-2\"/><path d=\"M 174.37921410550268,285.3867166495291 L 126.26416637339605,262.9482854871243 L78.14911864128943,240.5098543247195 \" class=\"edge section-edge-0 edge-depth-2\"/><path d=\"M 354.18763247356225,242.55224197447993 L 278.27248448551506,265.01164657100855 L202.35733649746788,287.4710511675372 \" class=\"edge section-edge-0 edge-depth-1\"/><path d=\"M 244.71474749577104,143.68279060256577 L 243.23512205216173,111.65862360681317 L241.75549660855242,79.63445661106057 \" class=\"edge section-edge-0 edge-depth-2\"/><path d=\"M 231.4631388832684,153.13805656106464 L 184.11138015386325,134.36313764629145 L136.7596214244581,115.58821873151825 \" class=\"edge section-edge-0 edge-depth-2\"/><path d=\"M 355.974795270441,230.1527170890022 L 306.9892080914343,198.48182012708972 L258.0036209124276,166.81092316517723 \" class=\"edge section-edge-0 edge-depth-1\"/><path d=\"M 353.6562804505792,236.7029355721265 L 278.5620496646303,228.67799273891697 L203.4678188786814,220.65304990570743 \" class=\"edge section-edge-0 edge-depth-1\"/><path d=\"M 364.12827926643865,223.9699694980716 L 352.53574085282764,186.58940265262228 L340.94320243921663,149.20883580717296 \" class=\"edge section-edge-0 edge-depth-1\"/><path d=\"M 578.4519439619959,306.57450326161677 L 480.64374127768576,274.7558576419085 L382.83553859337565,242.93721202220024 \" class=\"edge section-edge-0 edge-depth-0\"/><path d=\"M 741.0603457271541,306.5587251476421 L 650.5871760118704,281.33535981443754 L560.1140062965867,256.11199448123295 \" class=\"edge section-edge-1 edge-depth-1\"/><path d=\"M 770.4856381467205,311.42959706567257 L 855.7513886406114,316.22675267059867 L941.0171391345023,321.0239082755248 \" class=\"edge section-edge-1 edge-depth-1\"/><path d=\"M 607.7160147617752,311.15702820082197 L 674.1127241014888,310.900945862174 L740.5094334412023,310.64486352352606 \" class=\"edge section-edge-1 edge-depth-0\"/><path d=\"M 554.3508687015845,100.32842785763461 L 527.7675592441346,72.53426294422289 L501.18424978668475,44.740098030811154 \" class=\"edge section-edge-2 edge-depth-2\"/><path d=\"M 575.5962853493759,100.83999729196438 L 604.6229476474676,73.2784415180383 L633.6496099455594,45.71688574411223 \" class=\"edge section-edge-2 edge-depth-2\"/><path d=\"M 632.7098327472919,187.9517879140106 L 603.6863458645909,155.1751822069792 L574.6628589818898,122.39857649994782 \" class=\"edge section-edge-2 edge-depth-1\"/><path d=\"M 627.7974956236221,197.11180873189636 L 543.4068215757727,185.3532213662322 L459.0161475279233,173.59463400056802 \" class=\"edge section-edge-2 edge-depth-1\"/><path d=\"M 654.554407262686,190.05058944816398 L 691.6215608050005,161.60881511385062 L728.688714347315,133.16704077953727 \" class=\"edge section-edge-2 edge-depth-1\"/><path d=\"M 598.8230463300855,297.5143138578551 L 617.6850506154542,255.1983595445131 L636.5470549008229,212.8824052311711 \" class=\"edge section-edge-2 edge-depth-0\"/><path d=\"M 825.5396164770847,378.1339445332132 L 921.9422802925064,385.7044732997483 L1018.3449441079283,393.27500206628343 \" class=\"edge section-edge-3 edge-depth-1\"/><path d=\"M 823.3683405164722,384.8083624240285 L 870.3787073955149,413.6734208918791 L917.3890742745575,442.53847935972976 \" class=\"edge section-edge-3 edge-depth-1\"/><path d=\"M 607.0765380717046,315.5483058226114 L 701.6508912549647,344.0872431585991 L796.2252444382248,372.62618049458683 \" class=\"edge section-edge-3 edge-depth-0\"/><path d=\"M 874.4567301153522,240.6367715000169 L 979.0357571026942,207.85231266783737 L1083.6147840900362,175.06785383565784 \" class=\"edge section-edge-4 edge-depth-1\"/><path d=\"M 868.1018523043969,232.4090172006463 L 892.0738634453919,194.1094290546738 L916.045874586387,155.80984090870135 \" class=\"edge section-edge-4 edge-depth-1\"/><path d=\"M 875.0922942967161,246.36300726647517 L 970.128343901674,254.24121986036522 L1065.164393506632,262.1194324542552 \" class=\"edge section-edge-4 edge-depth-1\"/><path d=\"M 607.2780222397479,307.6161047467555 L 726.4298479836716,278.16934097838634 L845.5816737275953,248.7225772100172 \" class=\"edge section-edge-4 edge-depth-0\"/><path d=\"M 415.53644115406115,437.7099530340654 L 342.35416065085326,449.29733518948944 L269.17188014764537,460.8847173449135 \" class=\"edge section-edge-5 edge-depth-1\"/><path d=\"M 434.8459576269072,421.0531892797818 L 449.5254603269509,374.30778363914806 L464.2049630269946,327.5623779985143 \" class=\"edge section-edge-5 edge-depth-1\"/><path d=\"M 419.7222019669681,445.94761536153294 L 371.0675163239516,494.3908427411444 L322.41283068093514,542.8340701207559 \" class=\"edge section-edge-5 edge-depth-1\"/><path d=\"M 445.33117030109776,434.5762397348765 L 529.2906397107752,430.1600440429961 L613.2501091204526,425.74384835111573 \" class=\"edge section-edge-5 edge-depth-1\"/><path d=\"M 416.1930678135071,430.41155121860055 L 351.86444969052593,407.91015103815516 L287.53583156754473,385.4087508577098 \" class=\"edge section-edge-5 edge-depth-1\"/><path d=\"M 436.01457661334797,421.4740750923679 L 444.0714035435341,401.7114451258167 L452.1282304737202,381.94881515926545 \" class=\"edge section-edge-5 edge-depth-1\"/><path d=\"M 444.08224334888877,429.32451430179685 L 499.74295859670076,404.8408439872153 L555.4036738445127,380.35717367263373 \" class=\"edge section-edge-5 edge-depth-1\"/><path d=\"M 416.0054012171622,439.7434780089392 L 310.05645662267034,472.0849733557633 L204.10751202817843,504.4264687025874 \" class=\"edge section-edge-5 edge-depth-1\"/><path d=\"M 420.0545041249437,424.45707090878005 L 382.33512197394816,384.5043753865716 L344.6157398229526,344.55167986436317 \" class=\"edge section-edge-5 edge-depth-1\"/><path d=\"M 415.36502319793954,434.73628237094374 L 270.77536920309046,428.67888212051673 L126.18571520824139,422.6214818700897 \" class=\"edge section-edge-5 edge-depth-1\"/><path d=\"M 428.1933593283601,450.2080185171371 L 425.0472513461518,471.84344217249134 L421.90114336394356,493.4788658278456 \" class=\"edge section-edge-5 edge-depth-1\"/><path d=\"M 444.17576373494995,441.1865224977352 L 539.9465341345303,481.5235355261369 L635.7173045341108,521.8605485545387 \" class=\"edge section-edge-5 edge-depth-1\"/><path d=\"M 444.34931219290974,440.75596646242036 L 494.7981635808826,460.1889250695659 L545.2470149688554,479.6218836767115 \" class=\"edge section-edge-5 edge-depth-1\"/><path d=\"M 436.84486572956536,448.8860125734235 L 459.6986068687761,496.47972633448217 L482.55234800798684,544.0734400955408 \" class=\"edge section-edge-5 edge-depth-1\"/><path d=\"M 445.2698209173241,436.93096886291937 L 587.3834034838887,451.85715486605284 L729.4969860504534,466.7833408691863 \" class=\"edge section-edge-5 edge-depth-1\"/><path d=\"M 580.8003466675319,320.3260931691703 L 511.53400184441216,373.28950909506034 L442.2676570212924,426.2529250209504 \" class=\"edge section-edge-5 edge-depth-0\"/></g><g class=\"mindmap-nodes\"><g class=\"mindmap-node section--1 section-root\" transform=\"translate(547.4387825753857, 292.3148805635136)\" attr=\"apa-0)\"><g transform=\"translate(45.27734375, 18.9)\"><circle id=\"node-0\" class=\"node-bkg node-circle\" r=\"45.27734375\"/></g><g dy=\"1em\" alignment-baseline=\"middle\" dominant-baseline=\"middle\" text-anchor=\"middle\" transform=\"translate(45.27734375, 5)\"><g><rect class=\"background\"/><text y=\"-10.1\"><tspan class=\"text-outer-tspan\" x=\"0\" y=\"-0.1em\" dy=\"1.1em\"><tspan font-style=\"normal\" class=\"text-inner-tspan\" font-weight=\"bold\">Chatbook</tspan></tspan></text></g></g></g><g class=\"mindmap-node section-0\" transform=\"translate(284.1807312299858, 214.39683472030345)\" attr=\"apa-1)\"><g><rect id=\"node-1\" class=\"node-bkg node-rounded-rect\" height=\"47.8\" rx=\"20\" ry=\"20\" width=\"168.78125\"/></g><g dy=\"1em\" alignment-baseline=\"middle\" dominant-baseline=\"middle\" text-anchor=\"middle\" transform=\"translate(84.390625, 10)\"><g><rect class=\"background\"/><text y=\"-10.1\"><tspan class=\"text-outer-tspan\" x=\"0\" y=\"-0.1em\" dy=\"1.1em\"><tspan font-style=\"normal\" class=\"text-inner-tspan\" font-weight=\"normal\">Direct</tspan><tspan font-style=\"normal\" class=\"text-inner-tspan\" font-weight=\"bold\"> LLM</tspan><tspan font-style=\"normal\" class=\"text-inner-tspan\" font-weight=\"normal\"> access</tspan></tspan></text></g></g></g><g class=\"mindmap-node section-0\" transform=\"translate(152.44236274104435, 272.8264584217137)\" attr=\"apa-2)\"><g><path id=\"node-2\" class=\"node-bkg node-no-border\" d=\"M0 32.8 v-27.799999999999997 q0,-5 5,-5 h61.0625 q5,0 5,5 v32.8 H0 Z\"/><line class=\"node-line-0\" x1=\"0\" y1=\"37.8\" x2=\"71.0625\" y2=\"37.8\"/></g><g dy=\"1em\" alignment-baseline=\"middle\" dominant-baseline=\"middle\" text-anchor=\"middle\" transform=\"translate(35.53125, 5)\"><g><rect class=\"background\"/><text y=\"-10.1\"><tspan class=\"text-outer-tspan\" x=\"0\" y=\"-0.1em\" dy=\"1.1em\"><tspan font-style=\"normal\" class=\"text-inner-tspan\" font-weight=\"normal\">OpenAI</tspan></tspan></text></g></g></g><g class=\"mindmap-node section-0\" transform=\"translate(15, 306.3976931420717)\" attr=\"apa-3)\"><g><path id=\"node-3\" class=\"node-bkg node-no-border\" d=\"M0 32.8 v-27.799999999999997 q0,-5 5,-5 h72.8046875 q5,0 5,5 v32.8 H0 Z\"/><line class=\"node-line-0\" x1=\"0\" y1=\"37.8\" x2=\"82.8046875\" y2=\"37.8\"/></g><g dy=\"1em\" alignment-baseline=\"middle\" dominant-baseline=\"middle\" text-anchor=\"middle\" transform=\"translate(41.40234375, 5)\"><g><rect class=\"background\"/><text y=\"-10.1\"><tspan class=\"text-outer-tspan\" x=\"0\" y=\"-0.1em\" dy=\"1.1em\"><tspan font-style=\"normal\" class=\"text-inner-tspan\" font-weight=\"normal\">ChatGPT</tspan></tspan></text></g></g></g><g class=\"mindmap-node section-0\" transform=\"translate(29.390657505747754, 215.2701125525349)\" attr=\"apa-4)\"><g><path id=\"node-4\" class=\"node-bkg node-no-border\" d=\"M0 32.8 v-27.799999999999997 q0,-5 5,-5 h60.328125 q5,0 5,5 v32.8 H0 Z\"/><line class=\"node-line-0\" x1=\"0\" y1=\"37.8\" x2=\"70.328125\" y2=\"37.8\"/></g><g dy=\"1em\" alignment-baseline=\"middle\" dominant-baseline=\"middle\" text-anchor=\"middle\" transform=\"translate(35.1640625, 5)\"><g><rect class=\"background\"/><text y=\"-10.1\"><tspan class=\"text-outer-tspan\" x=\"0\" y=\"-0.1em\" dy=\"1.1em\"><tspan font-style=\"normal\" class=\"text-inner-tspan\" font-weight=\"normal\">DALL-E</tspan></tspan></text></g></g></g><g class=\"mindmap-node section-0\" transform=\"translate(210.53596620288283, 139.76680553387598)\" attr=\"apa-5)\"><g><path id=\"node-5\" class=\"node-bkg node-no-border\" d=\"M0 32.8 v-27.799999999999997 q0,-5 5,-5 h59.7421875 q5,0 5,5 v32.8 H0 Z\"/><line class=\"node-line-0\" x1=\"0\" y1=\"37.8\" x2=\"69.7421875\" y2=\"37.8\"/></g><g dy=\"1em\" alignment-baseline=\"middle\" dominant-baseline=\"middle\" text-anchor=\"middle\" transform=\"translate(34.87109375, 5)\"><g><rect class=\"background\"/><text y=\"-10.1\"><tspan class=\"text-outer-tspan\" x=\"0\" y=\"-0.1em\" dy=\"1.1em\"><tspan font-style=\"normal\" class=\"text-inner-tspan\" font-weight=\"normal\">Google</tspan></tspan></text></g></g></g><g class=\"mindmap-node section-0\" transform=\"translate(212.72334040144062, 45.750441679750345)\" attr=\"apa-6)\"><g><path id=\"node-6\" class=\"node-bkg node-no-border\" d=\"M0 32.8 v-27.799999999999997 q0,-5 5,-5 h46.6796875 q5,0 5,5 v32.8 H0 Z\"/><line class=\"node-line-0\" x1=\"0\" y1=\"37.8\" x2=\"56.6796875\" y2=\"37.8\"/></g><g dy=\"1em\" alignment-baseline=\"middle\" dominant-baseline=\"middle\" text-anchor=\"middle\" transform=\"translate(28.33984375, 5)\"><g><rect class=\"background\"/><text y=\"-10.1\"><tspan class=\"text-outer-tspan\" x=\"0\" y=\"-0.1em\" dy=\"1.1em\"><tspan font-style=\"normal\" class=\"text-inner-tspan\" font-weight=\"normal\">PaLM</tspan></tspan></text></g></g></g><g class=\"mindmap-node section-0\" transform=\"translate(87.46413785484367, 91.1594697587069)\" attr=\"apa-7)\"><g><path id=\"node-7\" class=\"node-bkg node-no-border\" d=\"M0 32.8 v-27.799999999999997 q0,-5 5,-5 h60.703125 q5,0 5,5 v32.8 H0 Z\"/><line class=\"node-line-0\" x1=\"0\" y1=\"37.8\" x2=\"70.703125\" y2=\"37.8\"/></g><g dy=\"1em\" alignment-baseline=\"middle\" dominant-baseline=\"middle\" text-anchor=\"middle\" transform=\"translate(35.3515625, 5)\"><g><rect class=\"background\"/><text y=\"-10.1\"><tspan class=\"text-outer-tspan\" x=\"0\" y=\"-0.1em\" dy=\"1.1em\"><tspan font-style=\"normal\" class=\"text-inner-tspan\" font-weight=\"normal\">Gemini</tspan></tspan></text></g></g></g><g class=\"mindmap-node section-0\" transform=\"translate(147.56836809927484, 200.15915075753048)\" attr=\"apa-8)\"><g><path id=\"node-8\" class=\"node-bkg node-no-border\" d=\"M0 32.8 v-27.799999999999997 q0,-5 5,-5 h71.96875 q5,0 5,5 v32.8 H0 Z\"/><line class=\"node-line-0\" x1=\"0\" y1=\"37.8\" x2=\"81.96875\" y2=\"37.8\"/></g><g dy=\"1em\" alignment-baseline=\"middle\" dominant-baseline=\"middle\" text-anchor=\"middle\" transform=\"translate(40.984375, 5)\"><g><rect class=\"background\"/><text y=\"-10.1\"><tspan class=\"text-outer-tspan\" x=\"0\" y=\"-0.1em\" dy=\"1.1em\"><tspan font-style=\"normal\" class=\"text-inner-tspan\" font-weight=\"normal\">MistralAI</tspan></tspan></text></g></g></g><g class=\"mindmap-node section-0\" transform=\"translate(303.5196567256695, 115.98197058494111)\" attr=\"apa-9)\"><g><path id=\"node-9\" class=\"node-bkg node-no-border\" d=\"M0 32.8 v-27.799999999999997 q0,-5 5,-5 h55.9609375 q5,0 5,5 v32.8 H0 Z\"/><line class=\"node-line-0\" x1=\"0\" y1=\"37.8\" x2=\"65.9609375\" y2=\"37.8\"/></g><g dy=\"1em\" alignment-baseline=\"middle\" dominant-baseline=\"middle\" text-anchor=\"middle\" transform=\"translate(32.98046875, 5)\"><g><rect class=\"background\"/><text y=\"-10.1\"><tspan class=\"text-outer-tspan\" x=\"0\" y=\"-0.1em\" dy=\"1.1em\"><tspan font-style=\"normal\" class=\"text-inner-tspan\" font-weight=\"normal\">LLaMA</tspan></tspan></text></g></g></g><g class=\"mindmap-node section-1\" transform=\"translate(662.5093218775918, 286.68701116083446)\" attr=\"apa-10)\"><g><rect id=\"node-10\" class=\"node-bkg node-rounded-rect\" height=\"47.8\" rx=\"20\" ry=\"20\" width=\"186\"/></g><g dy=\"1em\" alignment-baseline=\"middle\" dominant-baseline=\"middle\" text-anchor=\"middle\" transform=\"translate(93, 10)\"><g><rect class=\"background\"/><text y=\"-10.1\"><tspan class=\"text-outer-tspan\" x=\"0\" y=\"-0.1em\" dy=\"1.1em\"><tspan font-style=\"normal\" class=\"text-inner-tspan\" font-weight=\"normal\">Direct</tspan><tspan font-style=\"normal\" class=\"text-inner-tspan\" font-weight=\"bold\"> DeepL</tspan><tspan font-style=\"normal\" class=\"text-inner-tspan\" font-weight=\"normal\"> access</tspan></tspan></text></g></g></g><g class=\"mindmap-node section-1\" transform=\"translate(477.836905146149, 233.18370846804066)\" attr=\"apa-11)\"><g><path id=\"node-11\" class=\"node-bkg node-no-border\" d=\"M0 32.8 v-27.799999999999997 q0,-5 5,-5 h125.65625 q5,0 5,5 v32.8 H0 Z\"/><line class=\"node-line-1\" x1=\"0\" y1=\"37.8\" x2=\"135.65625\" y2=\"37.8\"/></g><g dy=\"1em\" alignment-baseline=\"middle\" dominant-baseline=\"middle\" text-anchor=\"middle\" transform=\"translate(67.828125, 5)\"><g><rect class=\"background\"/><text y=\"-10.1\"><tspan class=\"text-outer-tspan\" x=\"0\" y=\"-0.1em\" dy=\"1.1em\"><tspan font-style=\"normal\" class=\"text-inner-tspan\" font-weight=\"normal\">Plain</tspan><tspan font-style=\"normal\" class=\"text-inner-tspan\" font-weight=\"normal\"> text</tspan><tspan font-style=\"normal\" class=\"text-inner-tspan\" font-weight=\"normal\"> result</tspan></tspan></text></g></g></g><g class=\"mindmap-node section-1\" transform=\"translate(904.813767903631, 302.96649418036293)\" attr=\"apa-12)\"><g><path id=\"node-12\" class=\"node-bkg node-no-border\" d=\"M0 32.8 v-27.799999999999997 q0,-5 5,-5 h92.359375 q5,0 5,5 v32.8 H0 Z\"/><line class=\"node-line-1\" x1=\"0\" y1=\"37.8\" x2=\"102.359375\" y2=\"37.8\"/></g><g dy=\"1em\" alignment-baseline=\"middle\" dominant-baseline=\"middle\" text-anchor=\"middle\" transform=\"translate(51.1796875, 5)\"><g><rect class=\"background\"/><text y=\"-10.1\"><tspan class=\"text-outer-tspan\" x=\"0\" y=\"-0.1em\" dy=\"1.1em\"><tspan font-style=\"normal\" class=\"text-inner-tspan\" font-weight=\"normal\">JSON</tspan><tspan font-style=\"normal\" class=\"text-inner-tspan\" font-weight=\"normal\"> result</tspan></tspan></text></g></g></g><g class=\"mindmap-node section-2\" transform=\"translate(543.9117874055227, 175.28183852551263)\" attr=\"apa-13)\"><g><rect id=\"node-13\" class=\"node-bkg node-rounded-rect\" height=\"47.8\" rx=\"20\" ry=\"20\" width=\"197.484375\"/></g><g dy=\"1em\" alignment-baseline=\"middle\" dominant-baseline=\"middle\" text-anchor=\"middle\" transform=\"translate(98.7421875, 10)\"><g><rect class=\"background\"/><text y=\"-10.1\"><tspan class=\"text-outer-tspan\" x=\"0\" y=\"-0.1em\" dy=\"1.1em\"><tspan font-style=\"normal\" class=\"text-inner-tspan\" font-weight=\"bold\">Notebook-wide</tspan><tspan font-style=\"normal\" class=\"text-inner-tspan\" font-weight=\"bold\"> chats</tspan></tspan></text></g></g></g><g class=\"mindmap-node section-2\" transform=\"translate(509.35934182365907, 92.26852588844577)\" attr=\"apa-14)\"><g><path id=\"node-14\" class=\"node-bkg node-no-border\" d=\"M0 32.8 v-27.799999999999997 q0,-5 5,-5 h100.71875 q5,0 5,5 v32.8 H0 Z\"/><line class=\"node-line-2\" x1=\"0\" y1=\"37.8\" x2=\"110.71875\" y2=\"37.8\"/></g><g dy=\"1em\" alignment-baseline=\"middle\" dominant-baseline=\"middle\" text-anchor=\"middle\" transform=\"translate(55.359375, 5)\"><g><rect class=\"background\"/><text y=\"-10.1\"><tspan class=\"text-outer-tspan\" x=\"0\" y=\"-0.1em\" dy=\"1.1em\"><tspan font-style=\"normal\" class=\"text-inner-tspan\" font-weight=\"normal\">Chat</tspan><tspan font-style=\"normal\" class=\"text-inner-tspan\" font-weight=\"normal\"> objects</tspan></tspan></text></g></g></g><g class=\"mindmap-node section-2\" transform=\"translate(456.0429641646102, 15)\" attr=\"apa-15)\"><g><path id=\"node-15\" class=\"node-bkg node-no-border\" d=\"M0 32.8 v-27.799999999999997 q0,-5 5,-5 h59.546875 q5,0 5,5 v32.8 H0 Z\"/><line class=\"node-line-2\" x1=\"0\" y1=\"37.8\" x2=\"69.546875\" y2=\"37.8\"/></g><g dy=\"1em\" alignment-baseline=\"middle\" dominant-baseline=\"middle\" text-anchor=\"middle\" transform=\"translate(34.7734375, 5)\"><g><rect class=\"background\"/><text y=\"-10.1\"><tspan class=\"text-outer-tspan\" x=\"0\" y=\"-0.1em\" dy=\"1.1em\"><tspan font-style=\"normal\" class=\"text-inner-tspan\" font-weight=\"normal\">Named</tspan></tspan></text></g></g></g><g class=\"mindmap-node section-2\" transform=\"translate(594.2849909712762, 16.488357147630836)\" attr=\"apa-16)\"><g><path id=\"node-16\" class=\"node-bkg node-no-border\" d=\"M0 32.8 v-27.799999999999997 q0,-5 5,-5 h90.484375 q5,0 5,5 v32.8 H0 Z\"/><line class=\"node-line-2\" x1=\"0\" y1=\"37.8\" x2=\"100.484375\" y2=\"37.8\"/></g><g dy=\"1em\" alignment-baseline=\"middle\" dominant-baseline=\"middle\" text-anchor=\"middle\" transform=\"translate(50.2421875, 5)\"><g><rect class=\"background\"/><text y=\"-10.1\"><tspan class=\"text-outer-tspan\" x=\"0\" y=\"-0.1em\" dy=\"1.1em\"><tspan font-style=\"normal\" class=\"text-inner-tspan\" font-weight=\"normal\">Anonymous</tspan></tspan></text></g></g></g><g class=\"mindmap-node section-2\" transform=\"translate(378.14404324602276, 152.62460420695174)\" attr=\"apa-17)\"><g><path id=\"node-17\" class=\"node-bkg node-no-border\" d=\"M0 32.8 v-27.799999999999997 q0,-5 5,-5 h122.03125 q5,0 5,5 v32.8 H0 Z\"/><line class=\"node-line-2\" x1=\"0\" y1=\"37.8\" x2=\"132.03125\" y2=\"37.8\"/></g><g dy=\"1em\" alignment-baseline=\"middle\" dominant-baseline=\"middle\" text-anchor=\"middle\" transform=\"translate(66.015625, 5)\"><g><rect class=\"background\"/><text y=\"-10.1\"><tspan class=\"text-outer-tspan\" x=\"0\" y=\"-0.1em\" dy=\"1.1em\"><tspan font-style=\"normal\" class=\"text-inner-tspan\" font-weight=\"normal\">Chat</tspan><tspan font-style=\"normal\" class=\"text-inner-tspan\" font-weight=\"normal\"> meta</tspan><tspan font-style=\"normal\" class=\"text-inner-tspan\" font-weight=\"normal\"> cells</tspan></tspan></text></g></g></g><g class=\"mindmap-node section-2\" transform=\"translate(651.9094592044784, 105.13579170218861)\" attr=\"apa-18)\"><g><path id=\"node-18\" class=\"node-bkg node-no-border\" d=\"M0 32.8 v-27.799999999999997 q0,-5 5,-5 h167.359375 q5,0 5,5 v32.8 H0 Z\"/><line class=\"node-line-2\" x1=\"0\" y1=\"37.8\" x2=\"177.359375\" y2=\"37.8\"/></g><g dy=\"1em\" alignment-baseline=\"middle\" dominant-baseline=\"middle\" text-anchor=\"middle\" transform=\"translate(88.6796875, 5)\"><g><rect class=\"background\"/><text y=\"-10.1\"><tspan class=\"text-outer-tspan\" x=\"0\" y=\"-0.1em\" dy=\"1.1em\"><tspan font-style=\"normal\" class=\"text-inner-tspan\" font-weight=\"normal\">Prompt</tspan><tspan font-style=\"normal\" class=\"text-inner-tspan\" font-weight=\"normal\"> DSL</tspan><tspan font-style=\"normal\" class=\"text-inner-tspan\" font-weight=\"normal\"> expansion</tspan></tspan></text></g></g></g><g class=\"mindmap-node section-3\" transform=\"translate(697.5231561845436, 353.05960575368465)\" attr=\"apa-19)\"><g><rect id=\"node-19\" class=\"node-bkg node-rounded-rect\" height=\"47.8\" rx=\"20\" ry=\"20\" width=\"226.125\"/></g><g dy=\"1em\" alignment-baseline=\"middle\" dominant-baseline=\"middle\" text-anchor=\"middle\" transform=\"translate(113.0625, 10)\"><g><rect class=\"background\"/><text y=\"-10.1\"><tspan class=\"text-outer-tspan\" x=\"0\" y=\"-0.1em\" dy=\"1.1em\"><tspan font-style=\"normal\" class=\"text-inner-tspan\" font-weight=\"normal\">Direct</tspan><tspan font-style=\"normal\" class=\"text-inner-tspan\" font-weight=\"bold\"> MermaidInk</tspan><tspan font-style=\"normal\" class=\"text-inner-tspan\" font-weight=\"normal\"> access</tspan></tspan></text></g></g></g><g class=\"mindmap-node section-3\" transform=\"translate(986.3145294004694, 375.549340845812)\" attr=\"apa-20)\"><g><path id=\"node-20\" class=\"node-bkg node-no-border\" d=\"M0 32.8 v-27.799999999999997 q0,-5 5,-5 h83.96875 q5,0 5,5 v32.8 H0 Z\"/><line class=\"node-line-3\" x1=\"0\" y1=\"37.8\" x2=\"93.96875\" y2=\"37.8\"/></g><g dy=\"1em\" alignment-baseline=\"middle\" dominant-baseline=\"middle\" text-anchor=\"middle\" transform=\"translate(46.984375, 5)\"><g><rect class=\"background\"/><text y=\"-10.1\"><tspan class=\"text-outer-tspan\" x=\"0\" y=\"-0.1em\" dy=\"1.1em\"><tspan font-style=\"normal\" class=\"text-inner-tspan\" font-weight=\"normal\">SVG</tspan><tspan font-style=\"normal\" class=\"text-inner-tspan\" font-weight=\"normal\"> result</tspan></tspan></text></g></g></g><g class=\"mindmap-node section-3\" transform=\"translate(882.1717586064862, 431.48723603007363)\" attr=\"apa-21)\"><g><path id=\"node-21\" class=\"node-bkg node-no-border\" d=\"M0 32.8 v-27.799999999999997 q0,-5 5,-5 h86 q5,0 5,5 v32.8 H0 Z\"/><line class=\"node-line-3\" x1=\"0\" y1=\"37.8\" x2=\"96\" y2=\"37.8\"/></g><g dy=\"1em\" alignment-baseline=\"middle\" dominant-baseline=\"middle\" text-anchor=\"middle\" transform=\"translate(48, 5)\"><g><rect class=\"background\"/><text y=\"-10.1\"><tspan class=\"text-outer-tspan\" x=\"0\" y=\"-0.1em\" dy=\"1.1em\"><tspan font-style=\"normal\" class=\"text-inner-tspan\" font-weight=\"normal\">PNG</tspan><tspan font-style=\"normal\" class=\"text-inner-tspan\" font-weight=\"normal\"> result</tspan></tspan></text></g></g></g><g class=\"mindmap-node section-4\" transform=\"translate(758.8466946419575, 212.42380215619858)\" attr=\"apa-22)\"><g><rect id=\"node-22\" class=\"node-bkg node-rounded-rect\" height=\"65.39999847412109\" rx=\"20\" ry=\"20\" width=\"202.59375\"/></g><g dy=\"1em\" alignment-baseline=\"middle\" dominant-baseline=\"middle\" text-anchor=\"middle\" transform=\"translate(101.296875, 10)\"><g><rect class=\"background\"/><text y=\"-10.1\"><tspan class=\"text-outer-tspan\" x=\"0\" y=\"-0.1em\" dy=\"1.1em\"><tspan font-style=\"normal\" class=\"text-inner-tspan\" font-weight=\"normal\">Direct</tspan><tspan font-style=\"normal\" class=\"text-inner-tspan\" font-weight=\"bold\"> Wolfram|Alpha</tspan></tspan><tspan class=\"text-outer-tspan\" x=\"0\" y=\"1em\" dy=\"1.1em\"><tspan font-style=\"normal\" class=\"text-inner-tspan\" font-weight=\"normal\">access</tspan></tspan></text></g></g></g><g class=\"mindmap-node section-4\" transform=\"translate(1020.0998195634311, 146.6808239424156)\" attr=\"apa-23)\"><g><rect id=\"node-23\" class=\"node-bkg node-rect\" height=\"47.8\" width=\"155.65625\"/></g><g dy=\"1em\" alignment-baseline=\"middle\" dominant-baseline=\"middle\" text-anchor=\"middle\" transform=\"translate(77.828125, 10)\"><g><rect class=\"background\"/><text y=\"-10.1\"><tspan class=\"text-outer-tspan\" x=\"0\" y=\"-0.1em\" dy=\"1.1em\"><tspan font-style=\"normal\" class=\"text-inner-tspan\" font-weight=\"normal\">Plain</tspan><tspan font-style=\"normal\" class=\"text-inner-tspan\" font-weight=\"normal\"> text</tspan><tspan font-style=\"normal\" class=\"text-inner-tspan\" font-weight=\"normal\"> result</tspan></tspan></text></g></g></g><g class=\"mindmap-node section-4\" transform=\"translate(859.5275947488263, 119.19505671608852)\" attr=\"apa-24)\"><g><rect id=\"node-24\" class=\"node-bkg node-rect\" height=\"47.8\" width=\"128.953125\"/></g><g dy=\"1em\" alignment-baseline=\"middle\" dominant-baseline=\"middle\" text-anchor=\"middle\" transform=\"translate(64.4765625, 10)\"><g><rect class=\"background\"/><text y=\"-10.1\"><tspan class=\"text-outer-tspan\" x=\"0\" y=\"-0.1em\" dy=\"1.1em\"><tspan font-style=\"normal\" class=\"text-inner-tspan\" font-weight=\"normal\">Image</tspan><tspan font-style=\"normal\" class=\"text-inner-tspan\" font-weight=\"normal\"> result</tspan></tspan></text></g></g></g><g class=\"mindmap-node section-4\" transform=\"translate(1021.0115556613905, 239.45863832747122)\" attr=\"apa-25)\"><g><rect id=\"node-25\" class=\"node-bkg node-rect\" height=\"47.8\" width=\"118.203125\"/></g><g dy=\"1em\" alignment-baseline=\"middle\" dominant-baseline=\"middle\" text-anchor=\"middle\" transform=\"translate(59.1015625, 10)\"><g><rect class=\"background\"/><text y=\"-10.1\"><tspan class=\"text-outer-tspan\" x=\"0\" y=\"-0.1em\" dy=\"1.1em\"><tspan font-style=\"normal\" class=\"text-inner-tspan\" font-weight=\"normal\">Pods</tspan><tspan font-style=\"normal\" class=\"text-inner-tspan\" font-weight=\"normal\"> result</tspan></tspan></text></g></g></g><g class=\"mindmap-node section-5\" transform=\"translate(333.7307836134386, 411.4641376266071)\" attr=\"apa-26)\"><g><rect id=\"node-26\" class=\"node-bkg node-rounded-rect\" height=\"47.8\" rx=\"20\" ry=\"20\" width=\"193.2421875\"/></g><g dy=\"1em\" alignment-baseline=\"middle\" dominant-baseline=\"middle\" text-anchor=\"middle\" transform=\"translate(96.62109375, 10)\"><g><rect class=\"background\"/><text y=\"-10.1\"><tspan class=\"text-outer-tspan\" x=\"0\" y=\"-0.1em\" dy=\"1.1em\"><tspan font-style=\"normal\" class=\"text-inner-tspan\" font-weight=\"bold\">Pre-loaded</tspan><tspan font-style=\"normal\" class=\"text-inner-tspan\" font-weight=\"bold\"> packages</tspan></tspan></text></g></g></g><g class=\"mindmap-node section-5\" transform=\"translate(190.44238143826794, 444.3305327523718)\" attr=\"apa-27)\"><g><path id=\"node-27\" class=\"node-bkg node-no-border\" d=\"M0 32.8 v-27.799999999999997 q0,-5 5,-5 h117.828125 q5,0 5,5 v32.8 H0 Z\"/><line class=\"node-line-5\" x1=\"0\" y1=\"37.8\" x2=\"127.828125\" y2=\"37.8\"/></g><g dy=\"1em\" alignment-baseline=\"middle\" dominant-baseline=\"middle\" text-anchor=\"middle\" transform=\"translate(63.9140625, 5)\"><g><rect class=\"background\"/><text y=\"-10.1\"><tspan class=\"text-outer-tspan\" x=\"0\" y=\"-0.1em\" dy=\"1.1em\"><tspan font-style=\"normal\" class=\"text-inner-tspan\" font-weight=\"normal\">LLM::Functions</tspan></tspan></text></g></g></g><g class=\"mindmap-node section-5\" transform=\"translate(410.05060579046324, 294.35142965168905)\" attr=\"apa-28)\"><g><path id=\"node-28\" class=\"node-bkg node-no-border\" d=\"M0 32.8 v-27.799999999999997 q0,-5 5,-5 h107.296875 q5,0 5,5 v32.8 H0 Z\"/><line class=\"node-line-5\" x1=\"0\" y1=\"37.8\" x2=\"117.296875\" y2=\"37.8\"/></g><g dy=\"1em\" alignment-baseline=\"middle\" dominant-baseline=\"middle\" text-anchor=\"middle\" transform=\"translate(58.6484375, 5)\"><g><rect class=\"background\"/><text y=\"-10.1\"><tspan class=\"text-outer-tspan\" x=\"0\" y=\"-0.1em\" dy=\"1.1em\"><tspan font-style=\"normal\" class=\"text-inner-tspan\" font-weight=\"normal\">LLM::Prompts</tspan></tspan></text></g></g></g><g class=\"mindmap-node section-5\" transform=\"translate(242.68940528446467, 534.5175478556818)\" attr=\"apa-29)\"><g><path id=\"node-29\" class=\"node-bkg node-no-border\" d=\"M0 32.8 v-27.799999999999997 q0,-5 5,-5 h128.1875 q5,0 5,5 v32.8 H0 Z\"/><line class=\"node-line-5\" x1=\"0\" y1=\"37.8\" x2=\"138.1875\" y2=\"37.8\"/></g><g dy=\"1em\" alignment-baseline=\"middle\" dominant-baseline=\"middle\" text-anchor=\"middle\" transform=\"translate(69.09375, 5)\"><g><rect class=\"background\"/><text y=\"-10.1\"><tspan class=\"text-outer-tspan\" x=\"0\" y=\"-0.1em\" dy=\"1.1em\"><tspan font-style=\"normal\" class=\"text-inner-tspan\" font-weight=\"normal\">Text::SubParsers</tspan></tspan></text></g></g></g><g class=\"mindmap-node section-5\" transform=\"translate(556.8075270581118, 406.05595045938514)\" attr=\"apa-30)\"><g><path id=\"node-30\" class=\"node-bkg node-no-border\" d=\"M0 32.8 v-27.799999999999997 q0,-5 5,-5 h132.84375 q5,0 5,5 v32.8 H0 Z\"/><line class=\"node-line-5\" x1=\"0\" y1=\"37.8\" x2=\"142.84375\" y2=\"37.8\"/></g><g dy=\"1em\" alignment-baseline=\"middle\" dominant-baseline=\"middle\" text-anchor=\"middle\" transform=\"translate(71.421875, 5)\"><g><rect class=\"background\"/><text y=\"-10.1\"><tspan class=\"text-outer-tspan\" x=\"0\" y=\"-0.1em\" dy=\"1.1em\"><tspan font-style=\"normal\" class=\"text-inner-tspan\" font-weight=\"normal\">Data::Translators</tspan></tspan></text></g></g></g><g class=\"mindmap-node section-5\" transform=\"translate(199.32233451761329, 361.55616444970326)\" attr=\"apa-31)\"><g><path id=\"node-31\" class=\"node-bkg node-no-border\" d=\"M0 32.8 v-27.799999999999997 q0,-5 5,-5 h138.109375 q5,0 5,5 v32.8 H0 Z\"/><line class=\"node-line-5\" x1=\"0\" y1=\"37.8\" x2=\"148.109375\" y2=\"37.8\"/></g><g dy=\"1em\" alignment-baseline=\"middle\" dominant-baseline=\"middle\" text-anchor=\"middle\" transform=\"translate(74.0546875, 5)\"><g><rect class=\"background\"/><text y=\"-10.1\"><tspan class=\"text-outer-tspan\" x=\"0\" y=\"-0.1em\" dy=\"1.1em\"><tspan font-style=\"normal\" class=\"text-inner-tspan\" font-weight=\"normal\">Data::TypeSystem</tspan></tspan></text></g></g></g><g class=\"mindmap-node section-5\" transform=\"translate(413.3846797236296, 349.1587526250263)\" attr=\"apa-32)\"><g><path id=\"node-32\" class=\"node-bkg node-no-border\" d=\"M0 32.8 v-27.799999999999997 q0,-5 5,-5 h78.8125 q5,0 5,5 v32.8 H0 Z\"/><line class=\"node-line-5\" x1=\"0\" y1=\"37.8\" x2=\"88.8125\" y2=\"37.8\"/></g><g dy=\"1em\" alignment-baseline=\"middle\" dominant-baseline=\"middle\" text-anchor=\"middle\" transform=\"translate(44.40625, 5)\"><g><rect class=\"background\"/><text y=\"-10.1\"><tspan class=\"text-outer-tspan\" x=\"0\" y=\"-0.1em\" dy=\"1.1em\"><tspan font-style=\"normal\" class=\"text-inner-tspan\" font-weight=\"normal\">Clipboard</tspan></tspan></text></g></g></g><g class=\"mindmap-node section-5\" transform=\"translate(523.782477329963, 355.4175503478235)\" attr=\"apa-33)\"><g><path id=\"node-33\" class=\"node-bkg node-no-border\" d=\"M0 32.8 v-27.799999999999997 q0,-5 5,-5 h80.703125 q5,0 5,5 v32.8 H0 Z\"/><line class=\"node-line-5\" x1=\"0\" y1=\"37.8\" x2=\"90.703125\" y2=\"37.8\"/></g><g dy=\"1em\" alignment-baseline=\"middle\" dominant-baseline=\"middle\" text-anchor=\"middle\" transform=\"translate(45.3515625, 5)\"><g><rect class=\"background\"/><text y=\"-10.1\"><tspan class=\"text-outer-tspan\" x=\"0\" y=\"-0.1em\" dy=\"1.1em\"><tspan font-style=\"normal\" class=\"text-inner-tspan\" font-weight=\"normal\">Text::Plot</tspan></tspan></text></g></g></g><g class=\"mindmap-node section-5\" transform=\"translate(92.3704108819021, 489.9058090849195)\" attr=\"apa-34)\"><g><path id=\"node-34\" class=\"node-bkg node-no-border\" d=\"M0 32.8 v-27.799999999999997 q0,-5 5,-5 h184.78125 q5,0 5,5 v32.8 H0 Z\"/><line class=\"node-line-5\" x1=\"0\" y1=\"37.8\" x2=\"194.78125\" y2=\"37.8\"/></g><g dy=\"1em\" alignment-baseline=\"middle\" dominant-baseline=\"middle\" text-anchor=\"middle\" transform=\"translate(97.390625, 5)\"><g><rect class=\"background\"/><text y=\"-10.1\"><tspan class=\"text-outer-tspan\" x=\"0\" y=\"-0.1em\" dy=\"1.1em\"><tspan font-style=\"normal\" class=\"text-inner-tspan\" font-weight=\"normal\">Image::Markup::Utilities</tspan></tspan></text></g></g></g><g class=\"mindmap-node section-5\" transform=\"translate(275.15821033445775, 314.74461314653615)\" attr=\"apa-35)\"><g><path id=\"node-35\" class=\"node-bkg node-no-border\" d=\"M0 32.8 v-27.799999999999997 q0,-5 5,-5 h108.3203125 q5,0 5,5 v32.8 H0 Z\"/><line class=\"node-line-5\" x1=\"0\" y1=\"37.8\" x2=\"118.3203125\" y2=\"37.8\"/></g><g dy=\"1em\" alignment-baseline=\"middle\" dominant-baseline=\"middle\" text-anchor=\"middle\" transform=\"translate(59.16015625, 5)\"><g><rect class=\"background\"/><text y=\"-10.1\"><tspan class=\"text-outer-tspan\" x=\"0\" y=\"-0.1em\" dy=\"1.1em\"><tspan font-style=\"normal\" class=\"text-inner-tspan\" font-weight=\"normal\">WWW::LLaMA</tspan></tspan></text></g></g></g><g class=\"mindmap-node section-5\" transform=\"translate(33.19104854274235, 403.0936266144264)\" attr=\"apa-36)\"><g><path id=\"node-36\" class=\"node-bkg node-no-border\" d=\"M0 32.8 v-27.799999999999997 q0,-5 5,-5 h146.015625 q5,0 5,5 v32.8 H0 Z\"/><line class=\"node-line-5\" x1=\"0\" y1=\"37.8\" x2=\"156.015625\" y2=\"37.8\"/></g><g dy=\"1em\" alignment-baseline=\"middle\" dominant-baseline=\"middle\" text-anchor=\"middle\" transform=\"translate(78.0078125, 5)\"><g><rect class=\"background\"/><text y=\"-10.1\"><tspan class=\"text-outer-tspan\" x=\"0\" y=\"-0.1em\" dy=\"1.1em\"><tspan font-style=\"normal\" class=\"text-inner-tspan\" font-weight=\"normal\">WWW::MermaidInk</tspan></tspan></text></g></g></g><g class=\"mindmap-node section-5\" transform=\"translate(358.0316878288651, 489.4227467183756)\" attr=\"apa-37)\"><g><path id=\"node-37\" class=\"node-bkg node-no-border\" d=\"M0 32.8 v-27.799999999999997 q0,-5 5,-5 h113.421875 q5,0 5,5 v32.8 H0 Z\"/><line class=\"node-line-5\" x1=\"0\" y1=\"37.8\" x2=\"123.421875\" y2=\"37.8\"/></g><g dy=\"1em\" alignment-baseline=\"middle\" dominant-baseline=\"middle\" text-anchor=\"middle\" transform=\"translate(61.7109375, 5)\"><g><rect class=\"background\"/><text y=\"-10.1\"><tspan class=\"text-outer-tspan\" x=\"0\" y=\"-0.1em\" dy=\"1.1em\"><tspan font-style=\"normal\" class=\"text-inner-tspan\" font-weight=\"normal\">WWW::OpenAI</tspan></tspan></text></g></g></g><g class=\"mindmap-node section-5\" transform=\"translate(595.0216596556221, 508.7829334256668)\" attr=\"apa-38)\"><g><path id=\"node-38\" class=\"node-bkg node-no-border\" d=\"M0 32.8 v-27.799999999999997 q0,-5 5,-5 h99.0390625 q5,0 5,5 v32.8 H0 Z\"/><line class=\"node-line-5\" x1=\"0\" y1=\"37.8\" x2=\"109.0390625\" y2=\"37.8\"/></g><g dy=\"1em\" alignment-baseline=\"middle\" dominant-baseline=\"middle\" text-anchor=\"middle\" transform=\"translate(54.51953125, 5)\"><g><rect class=\"background\"/><text y=\"-10.1\"><tspan class=\"text-outer-tspan\" x=\"0\" y=\"-0.1em\" dy=\"1.1em\"><tspan font-style=\"normal\" class=\"text-inner-tspan\" font-weight=\"normal\">WWW::PaLM</tspan></tspan></text></g></g></g><g class=\"mindmap-node section-5\" transform=\"translate(497.7131997983266, 466.1137125125248)\" attr=\"apa-39)\"><g><path id=\"node-39\" class=\"node-bkg node-no-border\" d=\"M0 32.8 v-27.799999999999997 q0,-5 5,-5 h113.0625 q5,0 5,5 v32.8 H0 Z\"/><line class=\"node-line-5\" x1=\"0\" y1=\"37.8\" x2=\"123.0625\" y2=\"37.8\"/></g><g dy=\"1em\" alignment-baseline=\"middle\" dominant-baseline=\"middle\" text-anchor=\"middle\" transform=\"translate(61.53125, 5)\"><g><rect class=\"background\"/><text y=\"-10.1\"><tspan class=\"text-outer-tspan\" x=\"0\" y=\"-0.1em\" dy=\"1.1em\"><tspan font-style=\"normal\" class=\"text-inner-tspan\" font-weight=\"normal\">WWW::Gemini</tspan></tspan></text></g></g></g><g class=\"mindmap-node section-5\" transform=\"translate(402.7406488741136, 538.6953150423573)\" attr=\"apa-40)\"><g><path id=\"node-40\" class=\"node-bkg node-no-border\" d=\"M0 32.8 v-27.799999999999997 q0,-5 5,-5 h162.609375 q5,0 5,5 v32.8 H0 Z\"/><line class=\"node-line-5\" x1=\"0\" y1=\"37.8\" x2=\"172.609375\" y2=\"37.8\"/></g><g dy=\"1em\" alignment-baseline=\"middle\" dominant-baseline=\"middle\" text-anchor=\"middle\" transform=\"translate(86.3046875, 5)\"><g><rect class=\"background\"/><text y=\"-10.1\"><tspan class=\"text-outer-tspan\" x=\"0\" y=\"-0.1em\" dy=\"1.1em\"><tspan font-style=\"normal\" class=\"text-inner-tspan\" font-weight=\"normal\">WWW::WolframAlpha</tspan></tspan></text></g></g></g><g class=\"mindmap-node section-5\" transform=\"translate(637.8602421043389, 449.4501721054986)\" attr=\"apa-41)\"><g><path id=\"node-41\" class=\"node-bkg node-no-border\" d=\"M0 32.8 v-27.799999999999997 q0,-5 5,-5 h203.109375 q5,0 5,5 v32.8 H0 Z\"/><line class=\"node-line-5\" x1=\"0\" y1=\"37.8\" x2=\"213.109375\" y2=\"37.8\"/></g><g dy=\"1em\" alignment-baseline=\"middle\" dominant-baseline=\"middle\" text-anchor=\"middle\" transform=\"translate(106.5546875, 5)\"><g><rect class=\"background\"/><text y=\"-10.1\"><tspan class=\"text-outer-tspan\" x=\"0\" y=\"-0.1em\" dy=\"1.1em\"><tspan font-style=\"normal\" class=\"text-inner-tspan\" font-weight=\"normal\">Lingua::Translation::DeepL</tspan></tspan></text></g></g></g></g></svg>"
      ]
     },
     "execution_count": 68,
     "metadata": {},
     "output_type": "execute_result"
    }
   ],
   "source": [
    "#% mermaid, format=svg, background=SlateGray\n",
    "mindmap\n",
    "((**Chatbook**))\n",
    "    (Direct **LLM** access)\n",
    "        OpenAI\n",
    "            ChatGPT\n",
    "            DALL-E\n",
    "        Google\n",
    "            PaLM\n",
    "            Gemini\n",
    "        MistralAI\n",
    "        LLaMA\n",
    "    (Direct **DeepL** access)\n",
    "        Plain text result\n",
    "        JSON result\n",
    "    (**Notebook-wide chats**)\n",
    "        Chat objects\n",
    "           Named\n",
    "           Anonymous\n",
    "        Chat meta cells              \n",
    "        Prompt DSL expansion \n",
    "    (Direct **MermaidInk** access)\n",
    "        SVG result\n",
    "        PNG result\n",
    "    (Direct **Wolfram|Alpha** access)\n",
    "        wa1[\"Plain text result\"]\n",
    "        wa2[\"Image result\"]\n",
    "        wa3[\"Pods result\"]\n",
    "    (**Pre-loaded packages**)\n",
    "        LLM::Functions\n",
    "        LLM::Prompts\n",
    "        Text::SubParsers\n",
    "        Data::Translators\n",
    "        Data::TypeSystem\n",
    "        Clipboard\n",
    "        Text::Plot\n",
    "        Image::Markup::Utilities\n",
    "        WWW::LLaMA\n",
    "        WWW::MermaidInk\n",
    "        WWW::OpenAI\n",
    "        WWW::PaLM\n",
    "        WWW::Gemini\n",
    "        WWW::WolframAlpha\n",
    "        Lingua::Translation::DeepL"
   ]
  },
  {
   "cell_type": "markdown",
   "metadata": {},
   "source": [
    "**Remark:** Recent improvement is Mermaid-JS cells to have argument for output format and background. \n",
    "Since two months aga (beginning of March, 2024) by default the output format is SVG. In that way diagrams are obtained 2-3 times faster. \n",
    "Before March 9, 2023, \"PNG\" was the default format (and the only one available.)"
   ]
  },
  {
   "cell_type": "markdown",
   "metadata": {},
   "source": [
    "The structure of the rest of the notebook:\n",
    "\n",
    "- **DeepL**   \n",
    "  Translation from multiple languages into multiple other languages   \n",
    "- **Google's Gemini**   \n",
    "  Replaces both PaLM and Bard\n",
    "- **Wolfram|Alpha**   \n",
    "  Computational search engine  "
   ]
  },
  {
   "cell_type": "markdown",
   "metadata": {},
   "source": [
    "------\n",
    "\n",
    "## [DeepL](https://www.deepl.com)"
   ]
  },
  {
   "cell_type": "markdown",
   "metadata": {},
   "source": [
    "In this section we show magic cells for _direct_ access of the translation service [DeepL](https://www.deepl.com/translator).\n",
    "The API key can be set as a magic cell argument; without such key setting the env variable `DEEPL_AUTH_KEY` is used. \n",
    "See [\"Lingua::Translation::DeepL\"](https://raku.land/zef:antononcube/Lingua::Translation::DeepL), [AAp1], for more details."
   ]
  },
  {
   "cell_type": "code",
   "execution_count": 2,
   "metadata": {},
   "outputs": [
    {
     "data": {
      "text/plain": [
       "Ich habe dir gesagt, du sollst die Rahmen aus dem anderen Lager holen!"
      ]
     },
     "execution_count": 2,
     "metadata": {},
     "output_type": "execute_result"
    }
   ],
   "source": [
    "#% deepl, to-lang=German, formality=less, format=text\n",
    "I told you to get the frames from the other warehouse!"
   ]
  },
  {
   "cell_type": "code",
   "execution_count": 3,
   "metadata": {},
   "outputs": [
    {
     "data": {
      "text/plain": [
       "Я же просил Вас взять рамки с другого склада!"
      ]
     },
     "execution_count": 3,
     "metadata": {},
     "output_type": "execute_result"
    }
   ],
   "source": [
    "#% deepl, to-lang=Russian, formality=more, format=text\n",
    "I told you to get the frames from the other warehouse!"
   ]
  },
  {
   "cell_type": "markdown",
   "metadata": {},
   "source": [
    "DeepL's source languages:"
   ]
  },
  {
   "cell_type": "code",
   "execution_count": 4,
   "metadata": {},
   "outputs": [
    {
     "data": {
      "text/html": [
       "<table border=\"1\"><tbody><tr><td>bulgarian\tBG</td><td>finnish\tFI</td><td>japanese\tJA</td><td>slovak\tSK</td></tr><tr><td>chinese\tZH</td><td>french\tFR</td><td>latvian\tLV</td><td>slovenian\tSL</td></tr><tr><td>czech\tCS</td><td>german\tDE</td><td>lithuanian\tLT</td><td>spanish\tES</td></tr><tr><td>danish\tDA</td><td>greek\tEL</td><td>polish\tPL</td><td>swedish\tSV</td></tr><tr><td>dutch\tNL</td><td>hungarian\tHU</td><td>portuguese\tPT</td><td>turkish\tTR</td></tr><tr><td>english\tEN</td><td>indonesian\tID</td><td>romanian\tRO</td><td>ukrainian\tUK</td></tr><tr><td>estonian\tET</td><td>italian\tIT</td><td>russian\tRU</td><td>(Any)</td></tr></tbody></table>"
      ]
     },
     "execution_count": 4,
     "metadata": {},
     "output_type": "execute_result"
    }
   ],
   "source": [
    "#% html\n",
    "deepl-source-languages().pairs>>.Str.sort.List ==> to-html(:multicolumn, columns => 4)"
   ]
  },
  {
   "cell_type": "markdown",
   "metadata": {},
   "source": [
    "DeepL's target languages:"
   ]
  },
  {
   "cell_type": "code",
   "execution_count": 5,
   "metadata": {},
   "outputs": [
    {
     "data": {
      "text/html": [
       "<table border=\"1\"><tbody><tr><td>bulgarian\tBG</td><td>estonian\tET</td><td>japanese\tJA</td><td>russian\tRU</td></tr><tr><td>chinese simplified\tZH</td><td>finnish\tFI</td><td>latvian\tLV</td><td>slovak\tSK</td></tr><tr><td>czech\tCS</td><td>french\tFR</td><td>lithuanian\tLT</td><td>slovenian\tSL</td></tr><tr><td>danish\tDA</td><td>german\tDE</td><td>polish\tPL</td><td>spanish\tES</td></tr><tr><td>dutch\tNL</td><td>greek\tEL</td><td>portuguese\tPT</td><td>swedish\tSV</td></tr><tr><td>english\tEN</td><td>hungarian\tHU</td><td>portuguese brazilian\tPT-BR</td><td>turkish\tTR</td></tr><tr><td>english american\tEN-US</td><td>indonesian\tID</td><td>portuguese non-brazilian\tPT-PT</td><td>ukrainian\tUK</td></tr><tr><td>english british\tEN-GB</td><td>italian\tIT</td><td>romanian\tRO</td><td>(Any)</td></tr></tbody></table>"
      ]
     },
     "execution_count": 5,
     "metadata": {},
     "output_type": "execute_result"
    }
   ],
   "source": [
    "#% html\n",
    "deepl-target-languages().pairs>>.Str.sort.List ==> to-html(:multicolumn, columns => 4)"
   ]
  },
  {
   "cell_type": "markdown",
   "metadata": {},
   "source": [
    "------\n",
    "\n",
    "## [Google's Gemini](https://ai.google.dev)"
   ]
  },
  {
   "cell_type": "markdown",
   "metadata": {},
   "source": [
    "In this section we show magic cells for _direct_ access of the LLM service [Gemini](https://ai.google.dev) by Google.\n",
    "The API key can be set as a magic cell argument; without such key setting the env variable `GEMINI_API_KEY` is used. \n",
    "See [\"WWW::Gemini\"](https://raku.land/zef:antononcube/WWW::Gemini), [AAp2], for more details."
   ]
  },
  {
   "cell_type": "markdown",
   "metadata": {},
   "source": [
    "### Using the default model"
   ]
  },
  {
   "cell_type": "code",
   "execution_count": 6,
   "metadata": {},
   "outputs": [
    {
     "data": {
      "text/plain": [
       "I am Gemini, a multi-modal AI language model developed by Google."
      ]
     },
     "execution_count": 6,
     "metadata": {},
     "output_type": "execute_result"
    }
   ],
   "source": [
    "#% gemini\n",
    "Which LLM you are and what is your model?"
   ]
  },
  {
   "cell_type": "code",
   "execution_count": 7,
   "metadata": {},
   "outputs": [
    {
     "data": {
      "text/plain": [
       "I have been trained on a massive dataset of text and code up until April 2023. However, I do not have real-time access to the internet, so I cannot access information beyond that date. If you have any questions about events or information after April 2023, I recommend checking a reliable, up-to-date source."
      ]
     },
     "execution_count": 7,
     "metadata": {},
     "output_type": "execute_result"
    }
   ],
   "source": [
    "#% gemini\n",
    "Up to which date you have been trained? "
   ]
  },
  {
   "cell_type": "markdown",
   "metadata": {},
   "source": [
    "### Using a specific model"
   ]
  },
  {
   "cell_type": "markdown",
   "metadata": {},
   "source": [
    "In this subsection we repeat the questions above, and redirect the output to formatted as Markdown."
   ]
  },
  {
   "cell_type": "code",
   "execution_count": 8,
   "metadata": {},
   "outputs": [
    {
     "data": {
      "text/markdown": [
       "I'm currently running on the Gemini Pro model. \n",
       "\n",
       "I can't share private information that could identify me specifically, but I can tell you that I am a large language model created by Google AI. \n"
      ]
     },
     "execution_count": 8,
     "metadata": {},
     "output_type": "execute_result"
    }
   ],
   "source": [
    "#% gemini > markdown, model=gemini-1.5-pro-latest\n",
    "Which LLM are you? What is the name of the model you use?"
   ]
  },
  {
   "cell_type": "code",
   "execution_count": 9,
   "metadata": {},
   "outputs": [
    {
     "data": {
      "text/markdown": [
       "I can access pretty up-to-date information, which means I don't really have a \"knowledge cut-off\" date like some older models. \n",
       "\n",
       "However, it's important to remember:\n",
       "\n",
       "* **I am not constantly updating.** My knowledge is based on a snapshot of the internet taken at a certain point in time. \n",
       "* **I don't have access to real-time information.** I can't tell you what happened this morning, or what the stock market is doing right now.\n",
       "* **The world is constantly changing.**  Even if I had information up to a very recent date, things would still be outdated quickly!\n",
       "\n",
       "If you need very specific and current information, it's always best to consult reliable and up-to-date sources. \n"
      ]
     },
     "execution_count": 9,
     "metadata": {},
     "output_type": "execute_result"
    }
   ],
   "source": [
    "#% gemini > markdown, model=gemini-1.5-pro-latest\n",
    "Up to which date you have been trained? "
   ]
  },
  {
   "cell_type": "markdown",
   "metadata": {},
   "source": [
    "-------\n",
    "\n",
    "## [Wolfram|Alpha](https://www.wolframalpha.com)"
   ]
  },
  {
   "cell_type": "markdown",
   "metadata": {},
   "source": [
    "In this section we show magic cells for _direct_ access to [Wolfram|Alpha](https://www.wolframalpha.com) by Wolfram Research, Inc.\n",
    "The API key can be set as a magic cell argument; without such key setting the env variable `WOLFRAM_ALPHA_API_KEY` is used. \n",
    "See [\"WWW::WolframAlpha\"](https://raku.land/zef:antononcube/WWW::WolframAlpha), [AAp3], for more details."
   ]
  },
  {
   "cell_type": "markdown",
   "metadata": {},
   "source": [
    "### Simple *(image output)*"
   ]
  },
  {
   "cell_type": "markdown",
   "metadata": {},
   "source": [
    "When using the W|A's API `/simple` endpoint [we get images as results](https://products.wolframalpha.com/simple-api/documentation)."
   ]
  },
  {
   "cell_type": "code",
   "execution_count": null,
   "metadata": {},
   "outputs": [],
   "source": [
    "#% wolfram-alpha\n",
    "Calories in 5 servings of potato salad."
   ]
  },
  {
   "cell_type": "markdown",
   "metadata": {},
   "source": [
    "Here is how the image above can be generated and saved in a regular code cell:"
   ]
  },
  {
   "cell_type": "code",
   "execution_count": 4,
   "metadata": {},
   "outputs": [
    {
     "data": {
      "text/plain": [
       "WA-calories.png"
      ]
     },
     "execution_count": 4,
     "metadata": {},
     "output_type": "execute_result"
    }
   ],
   "source": [
    "my $imgWA = wolfram-alpha('Calories in 5 servings of potato salad.', path => 'simple', format => 'md-image');\n",
    "image-export('WA-calories.png', $imgWA)"
   ]
  },
  {
   "cell_type": "markdown",
   "metadata": {},
   "source": [
    "### Result *(plaintext output)*"
   ]
  },
  {
   "cell_type": "code",
   "execution_count": 11,
   "metadata": {},
   "outputs": [
    {
     "data": {
      "text/plain": [
       " the biggest administrative division in  China by area is Xinjiang, China. The area of Xinjiang, China is about 629869 square miles"
      ]
     },
     "execution_count": 11,
     "metadata": {},
     "output_type": "execute_result"
    }
   ],
   "source": [
    "#% w|a, type=result\n",
    "Biggest province in China"
   ]
  },
  {
   "cell_type": "markdown",
   "metadata": {},
   "source": [
    "### Pods *(Markdown output)*"
   ]
  },
  {
   "cell_type": "code",
   "execution_count": 1,
   "metadata": {},
   "outputs": [
    {
     "data": {
      "text/markdown": [
       "#### Input interpretation\n",
       "\n",
       "**scanner:** Data\n",
       "\n",
       "\n",
       "\n",
       "![](https://www6b3.wolframalpha.com/Calculate/MSP/MSP954214e2h1dci8bfe7ig00006670e274g3ddiidc?MSPStoreType=image/gif&s=11)\n",
       "\n",
       "China\n",
       "United States | GDP | nominal\n",
       "2023\n",
       "\n",
       "#### Results\n",
       "\n",
       "**scanner:** Data\n",
       "\n",
       "\n",
       "\n",
       "![](https://www6b3.wolframalpha.com/Calculate/MSP/MSP954314e2h1dci8bfe7ig00004569g70h3e9af489?MSPStoreType=image/gif&s=11)\n",
       "\n",
       "China | $17.96 trillion per year\n",
       "United States | $25.46 trillion per year\n",
       "(2022 estimates)\n",
       "\n",
       "#### Relative values\n",
       "\n",
       "**scanner:** Data\n",
       "\n",
       "\n",
       "\n",
       "![](https://www6b3.wolframalpha.com/Calculate/MSP/MSP954414e2h1dci8bfe7ig000019bbe9bc457ci82d?MSPStoreType=image/gif&s=11)\n",
       "\n",
       " | visual | ratios | | comparisons\n",
       "United States | | 1.417 | 1 | 41.75% larger\n",
       "China | | 1 | 0.7055 | 29.45% smaller\n",
       "\n",
       "#### GDP history\n",
       "\n",
       "**scanner:** Data\n",
       "\n",
       "\n",
       "\n",
       "![](https://www6b3.wolframalpha.com/Calculate/MSP/MSP954514e2h1dci8bfe7ig00005e7gi622c28fg6d0?MSPStoreType=image/gif&s=11)\n",
       "\n",
       "\n",
       "\n",
       "#### Economic properties\n",
       "\n",
       "**scanner:** Data\n",
       "\n",
       "\n",
       "\n",
       "![](https://www6b3.wolframalpha.com/Calculate/MSP/MSP954614e2h1dci8bfe7ig00003b82164cg0e765ih?MSPStoreType=image/gif&s=11)\n",
       "\n",
       " | China | United States\n",
       "GDP at exchange rate | $17.96 trillion per year (world rank: 2nd) | $25.46 trillion per year (world rank: 1st)\n",
       "GDP at parity | $30.33 trillion per year (world rank: 1st) | $25.46 trillion per year (world rank: 2nd)\n",
       "real GDP | $16.33 trillion per year (price-adjusted to year-2000 US dollars) (world rank: 2nd) | $20.95 trillion per year (price-adjusted to year-2000 US dollars) (world rank: 1st)\n",
       "GDP in local currency | ￥121 trillion per year | $25.46 trillion per year\n",
       "GDP per capita | $12720 per year per person (world rank: 93rd) | $76399 per year per person (world rank: 12th)\n",
       "GDP real growth | +2.991% per year (world rank: 131st) | +2.062% per year (world rank: 158th)\n",
       "consumer price inflation | +1.97% per year (world rank: 175th) | +8% per year (world rank: 91st)\n",
       "unemployment rate | 4.89% (world rank: 123rd highest) | 3.61% (world rank: 157th highest)\n",
       "(2022 estimate)\n",
       "\n",
       "#### GDP components\n",
       "\n",
       "**scanner:** Data\n",
       "\n",
       "\n",
       "\n",
       "![](https://www6b3.wolframalpha.com/Calculate/MSP/MSP954814e2h1dci8bfe7ig00004ici6852cidc99ah?MSPStoreType=image/gif&s=11)\n",
       "\n",
       " | China | United States\n",
       "final consumption expenditure | $9.609 trillion per year (53.49%) (world rank: 2nd) (2021) | $17.54 trillion per year (68.88%) (world rank: 1st) (2019)\n",
       "gross capital formation | $7.688 trillion per year (42.8%) (world rank: 1st) (2021) | $4.504 trillion per year (17.69%) (world rank: 2nd) (2019)\n",
       "external balance on goods and services | $576.7 billion per year (3.21%) (world rank: 1st) (2022) | -$610.5 billion per year (-2.4%) (world rank: 206th) (2019)\n",
       "GDP | $17.96 trillion per year (100%) (world rank: 2nd) (2022) | $25.46 trillion per year (100%) (world rank: 1st) (2022)\n",
       "\n",
       "#### Value added by sector\n",
       "\n",
       "**scanner:** Data\n",
       "\n",
       "\n",
       "\n",
       "![](https://www6b3.wolframalpha.com/Calculate/MSP/MSP954914e2h1dci8bfe7ig00003c905c9fd8ih310a?MSPStoreType=image/gif&s=11)\n",
       "\n",
       " | China | United States\n",
       "agriculture | $1.311 trillion per year (world rank: 1st) (2022) | $223.7 billion per year (world rank: 3rd) (2021)\n",
       "industry | $7.172 trillion per year (world rank: 1st) (2022) | $4.17 trillion per year (world rank: 2nd) (2021)\n",
       "manufacturing | $4.976 trillion per year (world rank: 1st) (2022) | $2.497 trillion per year (world rank: 2nd) (2021)\n",
       "services, etc. | $5.783 trillion per year (world rank: 2nd) (2016) | $13.78 trillion per year (world rank: 1st) (2015)"
      ]
     },
     "execution_count": 1,
     "metadata": {},
     "output_type": "execute_result"
    }
   ],
   "source": [
    "#% wa, path=query\n",
    "GDP of China vs USA in 2023"
   ]
  },
  {
   "cell_type": "code",
   "execution_count": 13,
   "metadata": {},
   "outputs": [
    {
     "data": {
      "text/markdown": [
       "No available answer."
      ]
     },
     "execution_count": 13,
     "metadata": {},
     "output_type": "execute_result"
    }
   ],
   "source": [
    "#% wa, path=query\n",
    "Number of STEM graduates of China vs USA in 2023"
   ]
  },
  {
   "cell_type": "markdown",
   "metadata": {},
   "source": [
    "### Download and export pods images"
   ]
  },
  {
   "cell_type": "markdown",
   "metadata": {},
   "source": [
    "W|A's query-pods contain URLs to images (which expire within a day.) We might want to download and save those images. \n",
    "Here is a way to do it:"
   ]
  },
  {
   "cell_type": "code",
   "execution_count": null,
   "metadata": {},
   "outputs": [],
   "source": [
    "# Pods as JSON text -- easier to extract links from\n",
    "my $pods = wolfram-alpha-query('GDP of China vs USA in 2023', format => 'json');"
   ]
  },
  {
   "cell_type": "code",
   "execution_count": 66,
   "metadata": {},
   "outputs": [
    {
     "data": {
      "text/plain": [
       "(wa-0.png wa-1.png wa-2.png wa-3.png wa-4.png wa-5.png wa-6.png wa-7.png)"
      ]
     },
     "execution_count": 66,
     "metadata": {},
     "output_type": "execute_result"
    }
   ],
   "source": [
    "# Extract URLs\n",
    "my @urls = do with $pods.match(/ '\"src\":' \\h* '\"' (<-[\"]>+) '\"'/, :g) {\n",
    "    $/.map({ $_[0].Str })\n",
    "};\n",
    "\n",
    "# Download images as Markdown images (that can be shown in Jupyter notebooks or Markdown files)\n",
    "my @imgs = @urls.map({ image-import($_, format => 'md-image') });\n",
    "\n",
    "# Export images\n",
    "for ^@imgs.elems -> $i { image-export(\"wa-$i.png\", @imgs[$i] ) }"
   ]
  },
  {
   "cell_type": "markdown",
   "metadata": {},
   "source": [
    "---- \n",
    "\n",
    "## References"
   ]
  },
  {
   "cell_type": "markdown",
   "metadata": {},
   "source": [
    "### Articles\n",
    "\n",
    "[AA1] Anton Antonov, [\"Jupyter::Chatbook\"](https://rakuforprediction.wordpress.com/2023/09/03/jupyterchatbook/), (2023), [RakuForPrediction at WordPress](https://rakuforprediction.wordpress.com)."
   ]
  },
  {
   "cell_type": "markdown",
   "metadata": {},
   "source": [
    "### Packages\n",
    "\n",
    "[AAp1] Anton Antonov, \n",
    "[Lingua::Translation::DeepL Raku package](https://github.com/antononcube/Raku-Lingua-Translation-DeepL), \n",
    "(2024),\n",
    "[GitHub/antononcube](https://github.com/antononcube).\n",
    "\n",
    "[AAp2] Anton Antonov, \n",
    "[WWW::Gemini Raku package](https://github.com/antononcube/Raku-WWW-Gemini), \n",
    "(2024),\n",
    "[GitHub/antononcube](https://github.com/antononcube).\n",
    "\n",
    "[AAp3] Anton Antonov, \n",
    "[WWW::WolframAlpha Raku package](https://github.com/antononcube/Raku-WWW-WolframAlpha), \n",
    "(2024),\n",
    "[GitHub/antononcube](https://github.com/antononcube).\n",
    "\n",
    "[AAp4] Anton Antonov, \n",
    "[WWW::OpenAI Raku package](https://github.com/antononcube/Raku-WWW-OpenAI), \n",
    "(2024),\n",
    "[GitHub/antononcube](https://github.com/antononcube).\n",
    "\n",
    "[AAp5] Anton Antonov, \n",
    "[Jupyter::Chatbook Raku package](https://github.com/antononcube/Raku-Jupyter-Chatbook), \n",
    "(2024),\n",
    "[GitHub/antononcube](https://github.com/antononcube).\n",
    "\n",
    "[BDp1] Brian Duggan, \n",
    "[Jupyter::Kernel Raku package](https://github.com/bduggan/p6-jupyter-kernel), \n",
    "(2017),\n",
    "[GitHub/bduggan](https://github.com/bduggan)."
   ]
  },
  {
   "cell_type": "markdown",
   "metadata": {},
   "source": [
    "### Videos\n",
    "\n",
    "[AAv1] Anton Antonov, [\"Integrating Large Language Models with Raku\"](https://www.youtube.com/watch?v=-OxKqRrQvh0), (2023), [YouTube/@therakuconference6823](https://www.youtube.com/@therakuconference6823)."
   ]
  }
 ],
 "metadata": {
  "kernelspec": {
   "display_name": "RakuChatbook",
   "language": "raku",
   "name": "raku"
  },
  "language_info": {
   "file_extension": ".raku",
   "mimetype": "text/x-raku",
   "name": "raku",
   "version": "6.d"
  }
 },
 "nbformat": 4,
 "nbformat_minor": 4
}
