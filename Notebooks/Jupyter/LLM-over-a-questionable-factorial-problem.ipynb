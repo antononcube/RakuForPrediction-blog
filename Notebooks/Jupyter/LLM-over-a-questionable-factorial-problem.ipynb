{
 "cells": [
  {
   "cell_type": "markdown",
   "metadata": {},
   "source": [
    "-----\n",
    "\n",
    "## Introduction"
   ]
  },
  {
   "cell_type": "markdown",
   "metadata": {},
   "source": [
    "In this notebook we convert the transcript of the video lecture [\"A questionable factorial problem\"](https://www.youtube.com/watch?v=S28cZjEQm10) into an Markdown article with LaTeX code."
   ]
  },
  {
   "cell_type": "markdown",
   "metadata": {},
   "source": [
    "----\n",
    "\n",
    "## Setup"
   ]
  },
  {
   "cell_type": "code",
   "execution_count": 3,
   "metadata": {},
   "outputs": [],
   "source": [
    "use LLM::Configurations;\n",
    "use Math::NumberTheory :ALL;"
   ]
  },
  {
   "cell_type": "markdown",
   "metadata": {},
   "source": [
    "-----\n",
    "\n",
    "## Ingestion"
   ]
  },
  {
   "cell_type": "code",
   "execution_count": 4,
   "metadata": {},
   "outputs": [
    {
     "data": {
      "text/plain": [
       "(chars => 13223 words => 2765 lines => 360)"
      ]
     },
     "execution_count": 4,
     "metadata": {},
     "output_type": "execute_result"
    }
   ],
   "source": [
    "my $fileName = '../../Data/A-questionable-factorial-problem-YouTube.txt';\n",
    "my $txtEN = data-import($fileName);\n",
    "\n",
    "text-stats($txtEN)"
   ]
  },
  {
   "cell_type": "code",
   "execution_count": 5,
   "metadata": {},
   "outputs": [
    {
     "data": {
      "text/plain": [
       "{ExtractArticleWisdom => Extracts ideas, quotes, and references from any text}"
      ]
     },
     "execution_count": 5,
     "metadata": {},
     "output_type": "execute_result"
    }
   ],
   "source": [
    "llm-prompt-data(/Wisdom/)"
   ]
  },
  {
   "cell_type": "code",
   "execution_count": null,
   "metadata": {},
   "outputs": [],
   "source": [
    "llm-prompt('ExtractArticleWisdom')($txtEN)"
   ]
  },
  {
   "cell_type": "code",
   "execution_count": null,
   "metadata": {},
   "outputs": [],
   "source": [
    "my $txt = llm-synthesize([\n",
    "    \"Write a mathematical article in Markdown based on the following text\",\n",
    "    \"Use LaTeX for the mathematical formulas.\",\n",
    "    \"TEXT:\\n\",\n",
    "    $txtEN\n",
    "],\n",
    "e => $conf4o\n",
    ");\n",
    "\n",
    "text-stats($xt)"
   ]
  },
  {
   "cell_type": "code",
   "execution_count": 11,
   "metadata": {},
   "outputs": [
    {
     "data": {
      "text/markdown": [
       "# Determining the 2,500th Digit of 10,000 Factorial\n",
       "\n",
       "In this article, we will explore a fascinating problem: determining the 2,500th digit of $10,000!$ (10,000 factorial). At first glance, this problem may seem insurmountable due to the sheer size of the number involved. However, the numbers 10,000 and 2,500 have been chosen to work nicely together in this context, allowing us to solve the problem with some clever mathematical insights.\n",
       "\n",
       "## Trailing Zeros in Factorials\n",
       "\n",
       "The first step in our solution is to determine how many trailing zeros are in $10,000!$. Trailing zeros in a factorial are determined by the number of times 10 divides into the factorial. Since 10 is the product of 2 and 5, we need to count how many times 5 divides into $10,000!$, as multiples of 5 are less frequent than multiples of 2.\n",
       "\n",
       "The number of times a prime $p$ divides into $n!$ is given by the formula:\n",
       "\n",
       "$$\n",
       "\\sum_{k=1}^{\\infty} \\left\\lfloor \\frac{n}{p^k} \\right\\rfloor\n",
       "$$\n",
       "\n",
       "This sum is finite because eventually, $p^k$ will exceed $n$, making the floor function zero.\n",
       "\n",
       "For our problem, we set $n = 10,000$ and $p = 5$. Thus, we calculate:\n",
       "\n",
       "$$\n",
       "\\left\\lfloor \\frac{10,000}{5} \\right\\rfloor + \\left\\lfloor \\frac{10,000}{25} \\right\\rfloor + \\left\\lfloor \\frac{10,000}{125} \\right\\rfloor + \\left\\lfloor \\frac{10,000}{625} \\right\\rfloor + \\left\\lfloor \\frac{10,000}{3,125} \\right\\rfloor\n",
       "$$\n",
       "\n",
       "Calculating each term, we get:\n",
       "\n",
       "- $\\left\\lfloor \\frac{10,000}{5} \\right\\rfloor = 2,000$\n",
       "- $\\left\\lfloor \\frac{10,000}{25} \\right\\rfloor = 400$\n",
       "- $\\left\\lfloor \\frac{10,000}{125} \\right\\rfloor = 80$\n",
       "- $\\left\\lfloor \\frac{10,000}{625} \\right\\rfloor = 16$\n",
       "- $\\left\\lfloor \\frac{10,000}{3,125} \\right\\rfloor = 3$\n",
       "\n",
       "Adding these, we find that there are 2,499 trailing zeros in $10,000!$.\n",
       "\n",
       "## Finding the First Non-Zero Digit\n",
       "\n",
       "Since there are 2,499 trailing zeros, we need the first non-zero digit of $\\frac{10,000!}{10^{2,499}}$. We aim to determine this modulo 10.\n",
       "\n",
       "### Factorial Representation with a New Notation\n",
       "\n",
       "To facilitate our calculations, we introduce a notational tool: the question mark operator, denoted as $n?$, which represents the product of all integers from 1 to $n$ excluding multiples of 5:\n",
       "\n",
       "$$\n",
       "n? = \\prod_{\\substack{k=1 \\\\ 5 \\nmid k}}^n k\n",
       "$$\n",
       "\n",
       "For example:\n",
       "\n",
       "$$\n",
       "12? = 12 \\times 11 \\times 9 \\times 8 \\times 7 \\times 6 \\times 4 \\times 3 \\times 2 \\times 1\n",
       "$$\n",
       "\n",
       "We can express $n!$ in terms of this notation:\n",
       "\n",
       "$$\n",
       "n! = 5^{\\left\\lfloor \\frac{n}{5} \\right\\rfloor} \\times n? \\times \\left(\\left\\lfloor \\frac{n}{5} \\right\\rfloor!\\right)\n",
       "$$\n",
       "\n",
       "Applying this recursively, we can express $10,000!$ as:\n",
       "\n",
       "$$\n",
       "10,000! = 5^{2,499} \\times 10,000? \\times 2,000? \\times 400? \\times 80? \\times 16? \\times 3?\n",
       "$$\n",
       "\n",
       "### Calculating Modulo 10\n",
       "\n",
       "Define $N = \\frac{10,000!}{10^{2,499}}$. We need $N \\mod 10$. We know $N$ is even because it still contains powers of 2.\n",
       "\n",
       "Consider $2^{2,499} \\times N = \\frac{10,000!}{5^{2,499}}$, which simplifies to:\n",
       "\n",
       "$$\n",
       "2^{2,499} \\times N = 10,000? \\times 2,000? \\times 400? \\times 80? \\times 16? \\times 3?\n",
       "$$\n",
       "\n",
       "### Reduction Modulo 5\n",
       "\n",
       "Each $n?$ can be reduced modulo 5. For instance, $10,000?$ consists of 2,000 groups of four numbers (1, 2, 3, 4 mod 5), each contributing $(-1)$ to the product due to Wilson's theorem ($4! \\equiv -1 \\mod 5$).\n",
       "\n",
       "Thus, reducing all $n?$ terms modulo 5, we find:\n",
       "\n",
       "$$\n",
       "2^{2,499} \\times N \\equiv -1 \\mod 5\n",
       "$$\n",
       "\n",
       "### Solving for $N$\n",
       "\n",
       "Since $2^{2,499} \\equiv 3 \\mod 5$ (as $2^3 \\equiv 3 \\mod 5$), we have:\n",
       "\n",
       "$$\n",
       "3N \\equiv -1 \\mod 5\n",
       "$$\n",
       "\n",
       "Multiplying by the modular inverse of 3, which is 2, we find:\n",
       "\n",
       "$$\n",
       "N \\equiv 3 \\mod 5\n",
       "$$\n",
       "\n",
       "Given $N$ is even, we conclude:\n",
       "\n",
       "$$\n",
       "N \\equiv 8 \\mod 10\n",
       "$$\n",
       "\n",
       "Therefore, the 2,500th digit of $10,000!$ is 8."
      ]
     },
     "execution_count": 11,
     "metadata": {},
     "output_type": "execute_result"
    }
   ],
   "source": [
    "#% markdown\n",
    "$txt.trans(<\\[ \\] \\( \\)> => <$$ $$ $ $>)"
   ]
  }
 ],
 "metadata": {
  "kernelspec": {
   "display_name": "RakuChatbook",
   "language": "raku",
   "name": "raku"
  },
  "language_info": {
   "file_extension": ".raku",
   "mimetype": "text/x-raku",
   "name": "raku",
   "version": "6.d"
  }
 },
 "nbformat": 4,
 "nbformat_minor": 2
}
