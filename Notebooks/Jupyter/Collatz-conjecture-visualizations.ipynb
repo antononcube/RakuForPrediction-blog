{
 "cells": [
  {
   "cell_type": "markdown",
   "id": "053b6a30",
   "metadata": {},
   "source": [
    "# Collatz conjecture visualizations\n",
    "\n",
    "Anton Antonov   \n",
    "RakuForPrediction blog at WordPress   \n",
    "May 2025"
   ]
  },
  {
   "cell_type": "markdown",
   "id": "c2a2d573",
   "metadata": {},
   "source": [
    "-----\n",
    "\n",
    "## Introduction"
   ]
  },
  {
   "cell_type": "markdown",
   "id": "f21c19782c4ea0e9",
   "metadata": {},
   "source": [
    "This notebook presents various visualizations related to the [Collatz conjecture](https://en.wikipedia.org/wiki/Collatz_conjecture) using Raku."
   ]
  },
  {
   "cell_type": "markdown",
   "id": "1195a851cd7338c5",
   "metadata": {},
   "source": [
    "The Raku subs for the Collatz sequences are easy to define. The visualizations are done with the packages\n",
    "[\"Graph\"](https://raku.land/zef:antononcube/Graph),\n",
    "[\"JavaScript::D3\"](https://raku.land/zef:antononcube/JavaScript::D3), and\n",
    "[\"Math::NumberTheory\"](https://raku.land/zef:antononcube/Math::NumberTheory)."
   ]
  },
  {
   "cell_type": "markdown",
   "id": "25c91d6b",
   "metadata": {},
   "source": [
    "-----\n",
    "\n",
    "## Setup"
   ]
  },
  {
   "cell_type": "code",
   "execution_count": null,
   "id": "7507ea5a",
   "metadata": {},
   "outputs": [],
   "source": [
    "#%javascript\n",
    "\n",
    "require.config({\n",
    "     paths: {\n",
    "     d3: 'https://d3js.org/d3.v7.min'\n",
    "}});\n",
    "\n",
    "require(['d3'], function(d3) {\n",
    "     console.log(d3);\n",
    "});"
   ]
  },
  {
   "cell_type": "code",
   "execution_count": null,
   "id": "6639ebe8",
   "metadata": {},
   "outputs": [],
   "source": [
    "#%js\n",
    "js-d3-list-line-plot(rand xx 100, background => '#1F1F1F')"
   ]
  },
  {
   "cell_type": "code",
   "execution_count": null,
   "id": "5f9e942f",
   "metadata": {},
   "outputs": [],
   "source": [
    "my $background = 'none';\n",
    "my $stroke-color = 'Ivory';\n",
    "my $fill-color = 'none';\n",
    "my $title-color = 'DarkGray';"
   ]
  },
  {
   "cell_type": "code",
   "execution_count": null,
   "id": "76e59b8e",
   "metadata": {},
   "outputs": [],
   "source": [
    "sub darker-shades(Str $hex-color, Int $steps) {\n",
    "    my @rgb = $hex-color.subst(/ ^ '#'/).comb(2).map({ :16($_) });\n",
    "    my @shades;\n",
    "    for 1..$steps -> $step {\n",
    "        my @darker = @rgb.map({ ($_ * (1 - $step / ($steps + 1))).Int });\n",
    "        @shades.push: '#' ~ @darker.map({ sprintf '%02X', $_ }).join;\n",
    "    }\n",
    "    return @shades;\n",
    "}\n",
    "\n",
    "#say darker-shades(\"#34495E\", 5);"
   ]
  },
  {
   "cell_type": "code",
   "execution_count": null,
   "id": "0e390f79",
   "metadata": {},
   "outputs": [],
   "source": [
    "sub blend-colors(Str $color1, Str $color2, Int $steps) {\n",
    "    my @rgb1 = $color1.subst(/ ^ '#'/).comb(2).map({ :16($_) });\n",
    "    my @rgb2 = $color2.subst(/ ^ '#'/).comb(2).map({ :16($_) });\n",
    "    my @blended;\n",
    "\n",
    "    for ^$steps -> $step {\n",
    "        my @blend = (@rgb1 Z @rgb2).map({\n",
    "            ($_[0] + ($step / $steps) * ($_[1] - $_[0])).Int\n",
    "        });\n",
    "        @blended.push: '#' ~ @blend.map({ sprintf '%02X', $_ }).join;\n",
    "    }\n",
    "    \n",
    "    return @blended;\n",
    "}\n",
    "\n",
    "#say blend-colors(\"#34495E\", \"#FFEBCD\", 5);"
   ]
  },
  {
   "cell_type": "markdown",
   "id": "8d05461c",
   "metadata": {},
   "source": [
    "----\n",
    "\n",
    "## Definition"
   ]
  },
  {
   "cell_type": "code",
   "execution_count": null,
   "id": "35380636",
   "metadata": {},
   "outputs": [],
   "source": [
    "sub collatz(UInt $n is copy, Int:D $max-steps = 1000) {\n",
    "    return [] if $n == 0;\n",
    "    my @sequence = $n;\n",
    "    while $n != 1 && @sequence.elems < $max-steps {\n",
    "        $n = ($n %% 2 ?? $n div 2 !! (3 * $n + 1) / 2).Int;\n",
    "        @sequence.push: $n;\n",
    "    }\n",
    "    return @sequence;\n",
    "}"
   ]
  },
  {
   "cell_type": "code",
   "execution_count": null,
   "id": "b6863a00",
   "metadata": {},
   "outputs": [],
   "source": [
    "collatz(27)"
   ]
  },
  {
   "cell_type": "markdown",
   "id": "0e4edfa1",
   "metadata": {},
   "source": [
    "-----\n",
    "\n",
    "## Simple visualizations"
   ]
  },
  {
   "cell_type": "markdown",
   "id": "9768c489",
   "metadata": {},
   "source": [
    "### Collatz sequence numbers"
   ]
  },
  {
   "cell_type": "markdown",
   "id": "d44885f7",
   "metadata": {},
   "source": [
    "Here is the simplest -- and very informative -- Collatz sequence plot:"
   ]
  },
  {
   "cell_type": "code",
   "execution_count": null,
   "id": "97260bb0",
   "metadata": {},
   "outputs": [],
   "source": [
    "#% js\n",
    "js-d3-list-line-plot(collatz(171), :$background)"
   ]
  },
  {
   "cell_type": "markdown",
   "id": "e6e9b82b",
   "metadata": {},
   "source": [
    "Let us make a multi-lines plot for a selection of integers:"
   ]
  },
  {
   "cell_type": "code",
   "execution_count": null,
   "id": "94d972fb",
   "metadata": {},
   "outputs": [],
   "source": [
    "my @data = (1..1_000).map({ collatz($_) }).grep({ 30 ≤ $_.elems ≤ 150 && $_.max ≤ 600 }).pick(10).sort(*.head).map({my $i = $_.head; $_.kv.map(-> $x, $y {%(group => $i, :$x, :$y )}).Array }).map(*.Slip).Array;\n",
    "\n",
    "deduce-type(@data)"
   ]
  },
  {
   "cell_type": "markdown",
   "id": "f7394b03",
   "metadata": {},
   "source": [
    "**Remark:** Using simple sampling like the code block below would generally produce very non-uniform length and max-member sequences.\n",
    "Hence we do the filtering above.\n",
    "\n",
    "```raku\n",
    "my @data = (^100).pick(9).sort.map(-> $i {collatz($i).kv.map(-> $x, $y {%(group => $i, :$x, :$y )}).Array }).map(*.Slip).Array;\n",
    "```"
   ]
  },
  {
   "cell_type": "code",
   "execution_count": null,
   "id": "a2db2c2a",
   "metadata": {},
   "outputs": [],
   "source": [
    "#% js\n",
    "js-d3-list-line-plot(@data.flat, :$background)"
   ]
  },
  {
   "cell_type": "markdown",
   "id": "ddfd79ef",
   "metadata": {},
   "source": [
    "-----\n",
    "\n",
    "## Sequences lengths distribution"
   ]
  },
  {
   "cell_type": "markdown",
   "id": "8e609cc2",
   "metadata": {},
   "source": [
    "Here is a histogram of the Collarz sequences lengths distributions:"
   ]
  },
  {
   "cell_type": "code",
   "execution_count": null,
   "id": "788b0b18",
   "metadata": {},
   "outputs": [],
   "source": [
    "#% js\n",
    "my $m = 100_000;\n",
    "my @cLengths = (^$m).map({ collatz($_).elems });\n",
    "js-d3-histogram(\n",
    "    @cLengths, \n",
    "    100,\n",
    "    :$background,\n",
    "    :600width, \n",
    "    :400height, \n",
    "    title => \"Collatz sequences lengths distribution (up to $m)\",\n",
    "    :$title-color\n",
    "  )"
   ]
  },
  {
   "cell_type": "markdown",
   "id": "15e84cef",
   "metadata": {},
   "source": [
    "Here is a corresponding 2D plot (i.e. number vs. sequence length):"
   ]
  },
  {
   "cell_type": "code",
   "execution_count": null,
   "id": "85eee060",
   "metadata": {},
   "outputs": [],
   "source": [
    "#% js\n",
    "js-d3-list-plot(\n",
    "    @cLengths, \n",
    "    :$background, \n",
    "    :2point-size,\n",
    "    :800width, \n",
    "    :400height, \n",
    "    title => 'Collatz sequences lengths',\n",
    "    x-label => 'integer',\n",
    "    y-label => 'sequence length',\n",
    "    :$title-color\n",
    "  )"
   ]
  },
  {
   "cell_type": "markdown",
   "id": "921af610",
   "metadata": {},
   "source": [
    "-------\n",
    "\n",
    "## Sunflower embedding"
   ]
  },
  {
   "cell_type": "markdown",
   "id": "2a42dd38",
   "metadata": {},
   "source": [
    "A certain concentric pattern emerges in the spiral embedding plots of the Collatz sequences lengths `mod 8`."
   ]
  },
  {
   "cell_type": "code",
   "execution_count": null,
   "id": "59af7f0f",
   "metadata": {},
   "outputs": [],
   "source": [
    "#% js\n",
    "my @sunflower = sunflower-embedding(16_000, with => { collatz($_).elems mod 8 mod 3 + 1}):d;\n",
    "\n",
    "js-d3-list-plot(@sunflower, \n",
    "    background => 'none',\n",
    "    point-size => 4,\n",
    "    width => 900, height => 440, \n",
    "    :!axes, \n",
    "    :!legends,\n",
    "    color-scheme => 'Observable10',\n",
    "    margins => {:20top, :20bottom, :250left, :250right}\n",
    " )"
   ]
  },
  {
   "cell_type": "markdown",
   "id": "d357d6b3",
   "metadata": {},
   "source": [
    "----\n",
    "\n",
    "## Graphs"
   ]
  },
  {
   "cell_type": "markdown",
   "id": "de97507e",
   "metadata": {},
   "source": [
    "Define a sub for graph-edge relationship between consecutive integers in Collatz sequences:"
   ]
  },
  {
   "cell_type": "code",
   "execution_count": null,
   "id": "077637b9",
   "metadata": {},
   "outputs": [],
   "source": [
    "proto sub collatz-edges(|) {*}\n",
    "\n",
    "multi sub collatz-edges(Int:D $n) {\n",
    "    ($n mod 3 == 2) ?? [$n => 2 * $n, $n => (2 * $n - 1) / 3] !! [$n => 2 * $n,]\n",
    "}\n",
    "\n",
    "multi sub collatz-edges(@edges where @edges.all ~~ Pair:D) {\n",
    "    my @leafs = @edges».value.unique;\n",
    "    @edges.append(@leafs.map({ collatz-edges($_.Int) }).flat)\n",
    "}"
   ]
  },
  {
   "cell_type": "markdown",
   "id": "f9440d17",
   "metadata": {},
   "source": [
    "### Small graph"
   ]
  },
  {
   "cell_type": "markdown",
   "id": "8f61a91d",
   "metadata": {},
   "source": [
    "For didactic purposes let use derive the edges of a graph using a certain _small_ number of iterations:"
   ]
  },
  {
   "cell_type": "code",
   "execution_count": null,
   "id": "727d46e3",
   "metadata": {},
   "outputs": [],
   "source": [
    "my @edges = Pair.new(2, 4);\n",
    "\n",
    "for ^12 { @edges = collatz-edges(@edges) }\n",
    "\n",
    "deduce-type(@edges)"
   ]
  },
  {
   "cell_type": "markdown",
   "id": "e0ff1885",
   "metadata": {},
   "source": [
    "Make the graph:"
   ]
  },
  {
   "cell_type": "code",
   "execution_count": null,
   "id": "3901c900",
   "metadata": {},
   "outputs": [],
   "source": [
    "my $g = Graph.new(@edges.map({ $_.value.Str => $_.key.Str })):directed"
   ]
  },
  {
   "cell_type": "markdown",
   "id": "1fce2912",
   "metadata": {},
   "source": [
    "Plot the graph using suitable embedding:"
   ]
  },
  {
   "cell_type": "code",
   "execution_count": null,
   "id": "c9360233",
   "metadata": {},
   "outputs": [],
   "source": [
    "#% html\n",
    "$g.dot(\n",
    "    engine => 'dot',\n",
    "    :$background,\n",
    "    vertex-label-color => 'Gray',\n",
    "    vertex-shape => 'circle',\n",
    "    vertex-width => 0.6,\n",
    "    :24vertex-font-size,\n",
    "    edge-thickness => 6,\n",
    "    graph-size => 10\n",
    "):svg"
   ]
  },
  {
   "cell_type": "markdown",
   "id": "18259bbc",
   "metadata": {},
   "source": [
    "We clearly follow the Collatz sequence paths in the tree graph."
   ]
  },
  {
   "cell_type": "markdown",
   "id": "09ea17bd",
   "metadata": {},
   "source": [
    "### Big graph"
   ]
  },
  {
   "cell_type": "markdown",
   "id": "46468288",
   "metadata": {},
   "source": [
    "Let us make a bigger, visually compelling graph:"
   ]
  },
  {
   "cell_type": "code",
   "execution_count": null,
   "id": "aab5e540",
   "metadata": {},
   "outputs": [],
   "source": [
    "#% chat raku\n",
    "Make progressive blending of two hex colors, like, \"#34495E\" and \"#FFEBCD\" for a given total number colors."
   ]
  },
  {
   "cell_type": "code",
   "execution_count": null,
   "id": "9416e42c",
   "metadata": {},
   "outputs": [],
   "source": [
    "#% html\n",
    "my @edges = Pair.new(40, 80);\n",
    "for ^22 { @edges = collatz-edges(@edges) }\n",
    "my $gBig = Graph.new(@edges.map({ $_.value.Str => $_.key.Str })):!directed;\n",
    "\n",
    "my @highlight = $gBig.vertex-list.classify({ $_.Int mod 3 }).map(*.value);\n",
    "my %highlight = <Indigo MediumSlateBlue DarkSlateBlue> Z=> @highlight;\n",
    "#my %highlight = <#4682B4 #FFD700 #FF6347> Z=> @highlight;\n",
    "#my %highlight = <#F0FFFF #E6E6FA #B0E0E6> Z=> @highlight;\n",
    "#my %highlight = <#2C3E50 #34495E #4A6FA5> Z=> @highlight;\n",
    "\n",
    "$gBig.dot(\n",
    "    engine => 'neato',\n",
    "    :%highlight,\n",
    "    :$background,\n",
    "    vertex-shape => 'circle',\n",
    "    vertex-width => 0.45,\n",
    "    :0vertex-font-size,\n",
    "    vertex-fill-color => 'Indigo',\n",
    "    edge-thickness => 8,\n",
    "    edge-color => 'SlateBlue',\n",
    "    graph-size => 10\n",
    "):svg"
   ]
  },
  {
   "cell_type": "code",
   "execution_count": null,
   "id": "d4a98950",
   "metadata": {},
   "outputs": [],
   "source": [
    "my %path-lengths = $gBig.vertex-list.map({ $_ => $gBig.find-path($_, '40').head.elems });\n",
    "\n",
    "my $d = %path-lengths.values.unique.sort"
   ]
  },
  {
   "cell_type": "code",
   "execution_count": null,
   "id": "6711de2c",
   "metadata": {},
   "outputs": [],
   "source": [
    "#% html\n",
    "my $root = 64;\n",
    "my @edges = Pair.new($root, 2 * $root);\n",
    "for ^22 { @edges = collatz-edges(@edges) }\n",
    "my $gBig = Graph.new(@edges.map({ $_.value.Str => $_.key.Str })):!directed;\n",
    "my %path-lengths = $gBig.vertex-list.race(:4degree).map({ $_ => $gBig.find-path($_, $root.Str).head.elems });\n",
    "\n",
    "%path-lengths.values.unique.elems"
   ]
  },
  {
   "cell_type": "code",
   "execution_count": null,
   "id": "50a23df4",
   "metadata": {},
   "outputs": [],
   "source": [
    "%path-lengths.values.unique.sort"
   ]
  },
  {
   "cell_type": "code",
   "execution_count": null,
   "id": "aa6409fd",
   "metadata": {},
   "outputs": [],
   "source": [
    "#%html\n",
    "my %classes = $gBig.vertex-list.classify({ %path-lengths{$_} });\n",
    "#my @colors = darker-shades(\"#FF7F50\", %classes.elems).reverse;\n",
    "#my @colors = blend-colors(\"#8B0000\", \"#FFFF00\", %classes.elems);\n",
    "#my @colors = |(\"#FFA500\" xx 16), |blend-colors(\"#FFA500\", \"#FFFF00\", %classes.elems - 16);\n",
    "my @colors = |blend-colors(\"#8B0000\", \"#FFA500\", 16), |blend-colors(\"#FFA500\", \"#FFFF00\", %classes.elems - 16);\n",
    "my %highlight = %classes.map({ @colors[$_.key - 1] => $_.value });\n",
    "\n",
    "$gBig.dot(\n",
    "    engine => 'neato',\n",
    "    :%highlight,\n",
    "    :$background,\n",
    "    vertex-shape => 'circle',\n",
    "    vertex-width => 0.4,\n",
    "    :0vertex-font-size,\n",
    "    vertex-fill-color => 'Maroon',\n",
    "    edge-thickness => 8,\n",
    "    edge-color => 'Purple',\n",
    "    graph-size => 10\n",
    "):svg"
   ]
  },
  {
   "cell_type": "markdown",
   "id": "f2e4ae76aa25ef2",
   "metadata": {},
   "source": [
    "----\n",
    "\n",
    "## References"
   ]
  },
  {
   "cell_type": "markdown",
   "id": "6c3f12b3b6373c7",
   "metadata": {},
   "source": [
    "[AAp1] Anton Antonov,\n",
    "[Graph Raku package](https://github.com/antononcube/Raku-Graph),\n",
    "(2024-2025),\n",
    "[GitHub/antononcube](https://github.com/antononcube).\n",
    "\n",
    "[AAp2] Anton Antonov,\n",
    "[JavaScript::D3 Raku package](https://github.com/antononcube/Raku-JavaScript-D3),\n",
    "(2022-2025),\n",
    "[GitHub/antononcube](https://github.com/antononcube).\n",
    "\n",
    "[AAp3] Anton Antonov,\n",
    "[Math::NumberTheory Raku package](https://github.com/antononcube/Raku-Math-NumberTheory),\n",
    "(2025),\n",
    "[GitHub/antononcube](https://github.com/antononcube)."
   ]
  }
 ],
 "metadata": {
  "kernelspec": {
   "display_name": "RakuChatbook",
   "language": "raku",
   "name": "raku"
  },
  "language_info": {
   "file_extension": ".raku",
   "mimetype": "text/x-raku",
   "name": "raku",
   "version": "6.d"
  }
 },
 "nbformat": 4,
 "nbformat_minor": 5
}
