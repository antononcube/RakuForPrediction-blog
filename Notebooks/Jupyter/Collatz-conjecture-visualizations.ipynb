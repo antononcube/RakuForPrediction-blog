{
 "cells": [
  {
   "cell_type": "markdown",
   "id": "053b6a30",
   "metadata": {},
   "source": [
    "# Collatz conjecture visualizations\n",
    "\n",
    "Anton Antonov   \n",
    "RakuForPrediction blog at WordPress   \n",
    "May 2025"
   ]
  },
  {
   "cell_type": "markdown",
   "id": "c2a2d573",
   "metadata": {},
   "source": [
    "-----\n",
    "\n",
    "## Introduction"
   ]
  },
  {
   "cell_type": "markdown",
   "id": "f21c19782c4ea0e9",
   "metadata": {},
   "source": [
    "This notebook presents various visualizations related to the [Collatz conjecture](https://en.wikipedia.org/wiki/Collatz_conjecture), [WMW1, Wk1] using Raku. \n",
    "\n",
    "The Collatz conjecture, a renowned, _unsolved_ mathematical problem, questions whether iteratively applying two basic arithmetic operations will lead every positive integer to ultimately reach the value of 1."
   ]
  },
  {
   "cell_type": "markdown",
   "id": "ed0265e0",
   "metadata": {},
   "source": [
    "There are many articles, blog posts, and videos dedicated to visualizations of the Collatz conjecture. (For example, [KJR1, PZ1, Vv1]).\n",
    "\n",
    "**Remark:** Consider following the [warnings in [Vv1]](https://youtu.be/094y1Z2wpJg?si=mb2daU4CW3y4gKWj&t=225) and elsewhere:\n",
    "\n",
    "> Do not work on the this (Collatz) problem! (Do a real math instead.)"
   ]
  },
  {
   "cell_type": "markdown",
   "id": "cca565de",
   "metadata": {},
   "source": [
    "In this notebook the so called [\"shortcut\" version](https://en.wikipedia.org/wiki/Collatz_conjecture#Statement_of_the_problem) of the Collatz function is used:\n",
    "\n",
    "$\n",
    "f(n) = \\left\\{\n",
    "\\begin{array}{ll}\n",
    "   \\frac{n}{2} & \\text{if } n \\equiv 0 \\pmod{2}, \\\\\n",
    "   \\frac{3n + 1}{2} & \\text{if } n \\equiv 1 \\pmod{2}.\n",
    "\\end{array}\n",
    "\\right.\n",
    "$\n"
   ]
  },
  {
   "cell_type": "markdown",
   "id": "1195a851cd7338c5",
   "metadata": {},
   "source": [
    "The Raku subs for the Collatz sequences are easy to define. The visualizations are done with the packages\n",
    "[\"Graph\"](https://raku.land/zef:antononcube/Graph), [AAp1],\n",
    "[\"JavaScript::D3\"](https://raku.land/zef:antononcube/JavaScript::D3), [AAp2], and\n",
    "[\"Math::NumberTheory\"](https://raku.land/zef:antononcube/Math::NumberTheory), [AAp3].\n",
    "\n",
    "Additional subs are defined for color-blending sequences.\n",
    "\n",
    "**Remark:** Notebook's visualizations based on \"JavaScript::D3\" look a lot like the visualizations in [PZ1] -- [D3js](https://d3js.org) is used in both."
   ]
  },
  {
   "cell_type": "markdown",
   "id": "25c91d6b",
   "metadata": {},
   "source": [
    "-----\n",
    "\n",
    "## Setup"
   ]
  },
  {
   "cell_type": "code",
   "execution_count": null,
   "id": "7507ea5a",
   "metadata": {},
   "outputs": [],
   "source": [
    "#%javascript\n",
    "\n",
    "require.config({\n",
    "     paths: {\n",
    "     d3: 'https://d3js.org/d3.v7.min'\n",
    "}});\n",
    "\n",
    "require(['d3'], function(d3) {\n",
    "     console.log(d3);\n",
    "});"
   ]
  },
  {
   "cell_type": "code",
   "execution_count": null,
   "id": "6639ebe8",
   "metadata": {},
   "outputs": [],
   "source": [
    "#%js\n",
    "js-d3-list-line-plot(rand xx 100, background => '#1F1F1F')"
   ]
  },
  {
   "cell_type": "code",
   "execution_count": null,
   "id": "5f9e942f",
   "metadata": {},
   "outputs": [],
   "source": [
    "my $background = 'none';\n",
    "my $stroke-color = 'Ivory';\n",
    "my $fill-color = 'none';\n",
    "my $title-color = 'DarkGray';"
   ]
  },
  {
   "cell_type": "code",
   "execution_count": null,
   "id": "76e59b8e",
   "metadata": {},
   "outputs": [],
   "source": [
    "sub darker-shades(Str $hex-color, Int $steps) {\n",
    "    my @rgb = $hex-color.subst(/ ^ '#'/).comb(2).map({ :16($_) });\n",
    "    my @shades;\n",
    "    for 1..$steps -> $step {\n",
    "        my @darker = @rgb.map({ ($_ * (1 - $step / ($steps + 1))).Int });\n",
    "        @shades.push: '#' ~ @darker.map({ sprintf '%02X', $_ }).join;\n",
    "    }\n",
    "    return @shades;\n",
    "}\n",
    "\n",
    "#say darker-shades(\"#34495E\", 5);"
   ]
  },
  {
   "cell_type": "code",
   "execution_count": null,
   "id": "0e390f79",
   "metadata": {},
   "outputs": [],
   "source": [
    "sub blend-colors(Str $color1, Str $color2, Int $steps) {\n",
    "    my @rgb1 = $color1.subst(/ ^ '#'/).comb(2).map({ :16($_) });\n",
    "    my @rgb2 = $color2.subst(/ ^ '#'/).comb(2).map({ :16($_) });\n",
    "    my @blended;\n",
    "\n",
    "    for ^$steps -> $step {\n",
    "        my @blend = (@rgb1 Z @rgb2).map({\n",
    "            ($_[0] + ($step / $steps) * ($_[1] - $_[0])).Int\n",
    "        });\n",
    "        @blended.push: '#' ~ @blend.map({ sprintf '%02X', $_ }).join;\n",
    "    }\n",
    "    \n",
    "    return @blended;\n",
    "}\n",
    "\n",
    "#say blend-colors(\"#34495E\", \"#FFEBCD\", 5);"
   ]
  },
  {
   "cell_type": "markdown",
   "id": "8d05461c",
   "metadata": {},
   "source": [
    "----\n",
    "\n",
    "## Collatz function definition"
   ]
  },
  {
   "cell_type": "markdown",
   "id": "92a690fa",
   "metadata": {},
   "source": [
    "Here is a sub for the shortcut version of the Collatz function:"
   ]
  },
  {
   "cell_type": "code",
   "execution_count": null,
   "id": "35380636",
   "metadata": {},
   "outputs": [],
   "source": [
    "sub collatz(UInt $n is copy, Int:D $max-steps = 1000) {\n",
    "    return [] if $n == 0;\n",
    "    my @sequence = $n;\n",
    "    while $n != 1 && @sequence.elems < $max-steps {\n",
    "        $n = ($n %% 2 ?? $n div 2 !! (3 * $n + 1) / 2).Int;\n",
    "        @sequence.push: $n;\n",
    "    }\n",
    "    return @sequence;\n",
    "}"
   ]
  },
  {
   "cell_type": "markdown",
   "id": "35a6cd1d",
   "metadata": {},
   "source": [
    "Here is an example using $26$ as a sequence _seed_ (i.e. starting value):"
   ]
  },
  {
   "cell_type": "code",
   "execution_count": null,
   "id": "b6863a00",
   "metadata": {},
   "outputs": [],
   "source": [
    "collatz(26)"
   ]
  },
  {
   "cell_type": "markdown",
   "id": "b79010d8",
   "metadata": {},
   "source": [
    "The next integer, $27$, produces a much longer sequence:"
   ]
  },
  {
   "cell_type": "code",
   "execution_count": null,
   "id": "18b28c9b",
   "metadata": {},
   "outputs": [],
   "source": [
    "collatz(27).elems"
   ]
  },
  {
   "cell_type": "markdown",
   "id": "0e4edfa1",
   "metadata": {},
   "source": [
    "-----\n",
    "\n",
    "## Simple visualizations"
   ]
  },
  {
   "cell_type": "markdown",
   "id": "9768c489",
   "metadata": {},
   "source": [
    "### Collatz sequence numbers"
   ]
  },
  {
   "cell_type": "markdown",
   "id": "d44885f7",
   "metadata": {},
   "source": [
    "Here is the simplest, informative Collatz sequence -- or [hailstone numbers](https://mathworld.wolfram.com/HailstoneNumber.html) -- plot:"
   ]
  },
  {
   "cell_type": "code",
   "execution_count": null,
   "id": "97260bb0",
   "metadata": {},
   "outputs": [],
   "source": [
    "#% js\n",
    "js-d3-list-line-plot(collatz(171), :$background, :$title-color, title => 'Hailstone numbers of 171')"
   ]
  },
  {
   "cell_type": "markdown",
   "id": "e6e9b82b",
   "metadata": {},
   "source": [
    "Let us make a multi-lines plot for a selection of integers:"
   ]
  },
  {
   "cell_type": "code",
   "execution_count": null,
   "id": "94d972fb",
   "metadata": {},
   "outputs": [],
   "source": [
    "my @data = (1..1_000).map({ collatz($_) }).grep({ 30 ≤ $_.elems ≤ 150 && $_.max ≤ 600 }).pick(10).sort(*.head).map({my $i = $_.head; $_.kv.map(-> $x, $y {%(group => $i, :$x, :$y )}).Array }).map(*.Slip).Array;\n",
    "\n",
    "deduce-type(@data)"
   ]
  },
  {
   "cell_type": "markdown",
   "id": "f7394b03",
   "metadata": {},
   "source": [
    "**Remark:** Using simple sampling like the code block below would generally produce very non-uniform length and max-member sequences.\n",
    "Hence we do the filtering above.\n",
    "\n",
    "```raku\n",
    "my @data = (^100).pick(9).sort.map(-> $i {collatz($i).kv.map(-> $x, $y {%(group => $i, :$x, :$y )}).Array }).map(*.Slip).Array;\n",
    "```"
   ]
  },
  {
   "cell_type": "code",
   "execution_count": null,
   "id": "a2db2c2a",
   "metadata": {},
   "outputs": [],
   "source": [
    "#% js\n",
    "js-d3-list-line-plot(@data.flat, :$background)"
   ]
  },
  {
   "cell_type": "markdown",
   "id": "ddfd79ef",
   "metadata": {},
   "source": [
    "-----\n",
    "\n",
    "## Distributions"
   ]
  },
  {
   "cell_type": "markdown",
   "id": "3a570d1f",
   "metadata": {},
   "source": [
    "Here are Collatz sequences and their corresponding lengths and max-values:"
   ]
  },
  {
   "cell_type": "code",
   "execution_count": null,
   "id": "c562f1f0",
   "metadata": {},
   "outputs": [],
   "source": [
    "my $m = 100_000;\n",
    "my @cSequences = (1..$m).map({ collatz($_) });\n",
    "my @cLengths = @cSequences».elems;\n",
    "my @cMaxes = @cSequences».max;\n",
    "\n",
    "my @dsCollatz = (1...$m) Z @cLengths Z @cMaxes;\n",
    "@dsCollatz = @dsCollatz.map({ <seed length max>.Array Z=> $_.Array })».Hash;\n",
    "\n",
    "sink records-summary(@dsCollatz, field-names => <seed length max>)"
   ]
  },
  {
   "cell_type": "markdown",
   "id": "8e609cc2",
   "metadata": {},
   "source": [
    "Here are histograms of the Collarz sequences lengths and max-value distributions:"
   ]
  },
  {
   "cell_type": "code",
   "execution_count": null,
   "id": "788b0b18",
   "metadata": {},
   "outputs": [],
   "source": [
    "#% js\n",
    "js-d3-histogram(\n",
    "    @cLengths, \n",
    "    100,\n",
    "    :$background,\n",
    "    :600width, \n",
    "    :400height, \n",
    "    title => \"Collatz sequences lengths distribution (up to $m)\",\n",
    "    :$title-color\n",
    "  )\n",
    "~\n",
    "js-d3-histogram(\n",
    "    @cMaxes».log(10), \n",
    "    100,\n",
    "    :$background,\n",
    "    :600width, \n",
    "    :400height, \n",
    "    title => \"Collatz sequences lg(max-value) distribution (up to $m)\",\n",
    "    :$title-color\n",
    "  )"
   ]
  },
  {
   "cell_type": "markdown",
   "id": "15e84cef",
   "metadata": {},
   "source": [
    "Here is a scatter plot of seed vs. sequence length:"
   ]
  },
  {
   "cell_type": "code",
   "execution_count": null,
   "id": "85eee060",
   "metadata": {},
   "outputs": [],
   "source": [
    "#% js\n",
    "js-d3-list-plot(\n",
    "    @cLengths, \n",
    "    :$background, \n",
    "    :2point-size,\n",
    "    :800width, \n",
    "    :400height, \n",
    "    title => 'Collatz sequences lengths',\n",
    "    x-label => 'integer',\n",
    "    y-label => 'sequence length',\n",
    "    :$title-color\n",
    "  )"
   ]
  },
  {
   "cell_type": "markdown",
   "id": "921af610",
   "metadata": {},
   "source": [
    "-------\n",
    "\n",
    "## Sunflower embedding"
   ]
  },
  {
   "cell_type": "markdown",
   "id": "2a42dd38",
   "metadata": {},
   "source": [
    "A certain concentric pattern emerges in the spiral embedding plots of the Collatz sequences lengths `mod 8`. (Using `mod 3` makes the pattern clearer.)\n",
    "Similarly, a clear spiral pattern is seen for the maximum values."
   ]
  },
  {
   "cell_type": "code",
   "execution_count": null,
   "id": "59af7f0f",
   "metadata": {},
   "outputs": [],
   "source": [
    "#% js\n",
    "my @sunflowerLengths = sunflower-embedding(16_000, with => { collatz($_).elems mod 8 mod 3 + 1}):d;\n",
    "my @sunflowerMaxes = sunflower-embedding(16_000, with => { collatz($_).max mod 8 mod 3 + 1}):d;\n",
    "\n",
    "js-d3-list-plot(@sunflowerLengths, \n",
    "    background => 'none',\n",
    "    point-size => 4,\n",
    "    width => 500, height => 440, \n",
    "    :!axes, \n",
    "    :!legends,\n",
    "    color-scheme => 'Observable10',\n",
    "    margins => {:20top, :20bottom, :50left, :50right}\n",
    " )\n",
    "\n",
    "~\n",
    "\n",
    "js-d3-list-plot(@sunflowerMaxes, \n",
    "    background => 'none',\n",
    "    point-size => 4,\n",
    "    width => 500, height => 440, \n",
    "    :!axes, \n",
    "    :!legends,\n",
    "    color-scheme => 'Observable10',\n",
    "    margins => {:20top, :20bottom, :50left, :50right}\n",
    " )"
   ]
  },
  {
   "cell_type": "markdown",
   "id": "d357d6b3",
   "metadata": {},
   "source": [
    "----\n",
    "\n",
    "## Small graphs"
   ]
  },
  {
   "cell_type": "markdown",
   "id": "de97507e",
   "metadata": {},
   "source": [
    "Define a sub for [graph-edge relationship](https://en.wikipedia.org/wiki/Collatz_conjecture#Other_formulations_of_the_conjecture) between consecutive integers in Collatz sequences:"
   ]
  },
  {
   "cell_type": "code",
   "execution_count": null,
   "id": "077637b9",
   "metadata": {},
   "outputs": [],
   "source": [
    "proto sub collatz-edges(|) {*}\n",
    "\n",
    "multi sub collatz-edges(Int:D $n) {\n",
    "    ($n mod 3 == 2) ?? [$n => 2 * $n, $n => (2 * $n - 1) / 3] !! [$n => 2 * $n,]\n",
    "}\n",
    "\n",
    "multi sub collatz-edges(@edges where @edges.all ~~ Pair:D) {\n",
    "    my @leafs = @edges».value.unique;\n",
    "    @edges.append(@leafs.map({ collatz-edges($_.Int) }).flat)\n",
    "}"
   ]
  },
  {
   "cell_type": "markdown",
   "id": "8f61a91d",
   "metadata": {},
   "source": [
    "For _didactic_ purposes let use derive the edges of a graph using a certain _small_ number of iterations:"
   ]
  },
  {
   "cell_type": "code",
   "execution_count": null,
   "id": "727d46e3",
   "metadata": {},
   "outputs": [],
   "source": [
    "my @edges = Pair.new(2, 4);\n",
    "\n",
    "for ^12 { @edges = collatz-edges(@edges) }\n",
    "\n",
    "deduce-type(@edges)"
   ]
  },
  {
   "cell_type": "markdown",
   "id": "e0ff1885",
   "metadata": {},
   "source": [
    "Make the graph:"
   ]
  },
  {
   "cell_type": "code",
   "execution_count": null,
   "id": "3901c900",
   "metadata": {},
   "outputs": [],
   "source": [
    "my $g = Graph.new(@edges.map({ $_.value.Str => $_.key.Str })):directed"
   ]
  },
  {
   "cell_type": "markdown",
   "id": "1fce2912",
   "metadata": {},
   "source": [
    "Plot the graph using suitable embedding:"
   ]
  },
  {
   "cell_type": "code",
   "execution_count": null,
   "id": "c9360233",
   "metadata": {},
   "outputs": [],
   "source": [
    "#% html\n",
    "$g.dot(\n",
    "    engine => 'dot',\n",
    "    :$background,\n",
    "    vertex-label-color => 'Gray',\n",
    "    vertex-shape => 'ellipse',\n",
    "    vertex-width => 0.8,\n",
    "    vertex-height => 0.6,\n",
    "    :24vertex-font-size,\n",
    "    edge-thickness => 6,\n",
    "    graph-size => 12\n",
    "):svg"
   ]
  },
  {
   "cell_type": "markdown",
   "id": "18259bbc",
   "metadata": {},
   "source": [
    "The Collatz sequence paths can be easily followed in the tree graph."
   ]
  },
  {
   "cell_type": "markdown",
   "id": "09ea17bd",
   "metadata": {},
   "source": [
    "-----\n",
    "\n",
    "## Big graph"
   ]
  },
  {
   "cell_type": "markdown",
   "id": "46468288",
   "metadata": {},
   "source": [
    "Let us make a bigger, visually compelling graph:"
   ]
  },
  {
   "cell_type": "code",
   "execution_count": null,
   "id": "6711de2c",
   "metadata": {},
   "outputs": [],
   "source": [
    "my $root = 64;\n",
    "my @edges = Pair.new($root, 2 * $root);\n",
    "for ^20 { @edges = collatz-edges(@edges) }\n",
    "my $gBig = Graph.new(@edges.map({ $_.value.Str => $_.key.Str })):!directed;"
   ]
  },
  {
   "cell_type": "markdown",
   "id": "49dd666e",
   "metadata": {},
   "source": [
    "Next we find the path lengths from the root to each vertex in order to do some sort concentric coloring: "
   ]
  },
  {
   "cell_type": "code",
   "execution_count": null,
   "id": "842fb8ea",
   "metadata": {},
   "outputs": [],
   "source": [
    "my %path-lengths = $gBig.vertex-list.race(:4degree).map({ $_ => $gBig.find-path($_, $root.Str).head.elems });\n",
    "%path-lengths.values.unique.elems"
   ]
  },
  {
   "cell_type": "markdown",
   "id": "2eba419c",
   "metadata": {},
   "source": [
    "We make a blend of these colors:"
   ]
  },
  {
   "cell_type": "code",
   "execution_count": null,
   "id": "5b7b14c1",
   "metadata": {},
   "outputs": [],
   "source": [
    "JavaScript::D3::Utilities::get-named-colors()<darkred plum orange>"
   ]
  },
  {
   "cell_type": "markdown",
   "id": "e3e1cfd2",
   "metadata": {},
   "source": [
    "Here is the graph plot:"
   ]
  },
  {
   "cell_type": "code",
   "execution_count": null,
   "id": "aa6409fd",
   "metadata": {},
   "outputs": [],
   "source": [
    "#%html\n",
    "my %classes = $gBig.vertex-list.classify({ %path-lengths{$_} });\n",
    "my @colors = |blend-colors(\"#8B0000\", \"#DDA0DD\", 16), |blend-colors(\"#DDA0DD\", \"#FFA500\", %classes.elems - 16);\n",
    "my %highlight = %classes.map({ @colors[$_.key - 1] => $_.value });\n",
    "\n",
    "$gBig.dot(\n",
    "    engine => 'neato',\n",
    "    :%highlight,\n",
    "    :$background,\n",
    "    vertex-shape => 'circle',\n",
    "    vertex-width => 0.55,\n",
    "    :0vertex-font-size,\n",
    "    vertex-color => 'Red',\n",
    "    vertex-stroke-width => 2,\n",
    "    edge-thickness => 8,\n",
    "    edge-color => 'Purple',\n",
    "    graph-size => 10\n",
    "):svg"
   ]
  },
  {
   "cell_type": "markdown",
   "id": "f2e4ae76aa25ef2",
   "metadata": {},
   "source": [
    "----\n",
    "\n",
    "## References"
   ]
  },
  {
   "cell_type": "markdown",
   "id": "61736f28",
   "metadata": {},
   "source": [
    "### Articles, blog posts\n",
    "\n",
    "[KJR1] KJ Runia,\n",
    "[\"The Collatz Conjecture\"](https://opencurve.info/the-collatz-conjecture/),\n",
    "(2020),\n",
    "[OpenCurve.info](https://opencurve.info).\n",
    "\n",
    "[PZ1] Parker Ziegler\n",
    "[\"Playing with the Collatz Conjecture\"](https://observablehq.com/@parkerziegler/playing-with-the-collatz-conjecture),\n",
    "(2021),\n",
    "[ObservableHQ](https://observablehq.com/).\n",
    "\n",
    "[Wk1] Wikipedia entry,\n",
    "[\"Collatz conjecture\"](https://en.wikipedia.org/wiki/Collatz_conjecture).\n",
    "\n",
    "[WMW1] Wolfram Math World entry, \n",
    "[\"Collatz Problem\"](https://mathworld.wolfram.com/CollatzProblem.html)."
   ]
  },
  {
   "cell_type": "markdown",
   "id": "6c3f12b3b6373c7",
   "metadata": {},
   "source": [
    "### Packages\n",
    "\n",
    "[AAp1] Anton Antonov,\n",
    "[Graph Raku package](https://github.com/antononcube/Raku-Graph),\n",
    "(2024-2025),\n",
    "[GitHub/antononcube](https://github.com/antononcube).\n",
    "\n",
    "[AAp2] Anton Antonov,\n",
    "[JavaScript::D3 Raku package](https://github.com/antononcube/Raku-JavaScript-D3),\n",
    "(2022-2025),\n",
    "[GitHub/antononcube](https://github.com/antononcube).\n",
    "\n",
    "[AAp3] Anton Antonov,\n",
    "[Math::NumberTheory Raku package](https://github.com/antononcube/Raku-Math-NumberTheory),\n",
    "(2025),\n",
    "[GitHub/antononcube](https://github.com/antononcube)."
   ]
  },
  {
   "cell_type": "markdown",
   "id": "38f3e658",
   "metadata": {},
   "source": [
    "### Videos\n",
    "\n",
    "[Vv1] Veritasium,\n",
    "[\"The Simplest Math Problem No One Can Solve - Collatz Conjecture\"](https://www.youtube.com/watch?v=094y1Z2wpJg),\n",
    "(2021),\n",
    "[YouTube@Veritasium](https://www.youtube.com/@veritasium)."
   ]
  }
 ],
 "metadata": {
  "kernelspec": {
   "display_name": "RakuChatbook",
   "language": "raku",
   "name": "raku"
  },
  "language_info": {
   "file_extension": ".raku",
   "mimetype": "text/x-raku",
   "name": "raku",
   "version": "6.d"
  }
 },
 "nbformat": 4,
 "nbformat_minor": 5
}
