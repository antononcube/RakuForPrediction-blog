{
 "cells": [
  {
   "cell_type": "markdown",
   "id": "053b6a30",
   "metadata": {},
   "source": [
    "# Collatz conjecture visualizations\n",
    "\n",
    "Anton Antonov   \n",
    "RakuForPrediction blog at WordPress   \n",
    "May 2025"
   ]
  },
  {
   "cell_type": "markdown",
   "id": "c2a2d573",
   "metadata": {},
   "source": [
    "-----\n",
    "\n",
    "## Introduction"
   ]
  },
  {
   "metadata": {},
   "cell_type": "markdown",
   "source": "This notebook presents various visualizations related to the [Collatz conjecture](https://en.wikipedia.org/wiki/Collatz_conjecture) using Raku.",
   "id": "f21c19782c4ea0e9"
  },
  {
   "metadata": {},
   "cell_type": "markdown",
   "source": [
    "The Raku subs for the Collatz sequences are easy to define. The visualizations are done with the packages\n",
    "[\"Graph\"](https://raku.land/zef:antononcube/Graph),\n",
    "[\"JavaScript::D3\"](https://raku.land/zef:antononcube/JavaScript::D3), and\n",
    "[\"Math::NumberTheory\"](https://raku.land/zef:antononcube/Math::NumberTheory)."
   ],
   "id": "1195a851cd7338c5"
  },
  {
   "cell_type": "markdown",
   "id": "25c91d6b",
   "metadata": {},
   "source": [
    "-----\n",
    "\n",
    "## Setup"
   ]
  },
  {
   "cell_type": "code",
   "id": "7507ea5a",
   "metadata": {},
   "source": [
    "#%javascript\n",
    "\n",
    "require.config({\n",
    "     paths: {\n",
    "     d3: 'https://d3js.org/d3.v7.min'\n",
    "}});\n",
    "\n",
    "require(['d3'], function(d3) {\n",
    "     console.log(d3);\n",
    "});"
   ],
   "outputs": [],
   "execution_count": null
  },
  {
   "cell_type": "code",
   "id": "6639ebe8",
   "metadata": {},
   "source": [
    "#%js\n",
    "js-d3-list-line-plot(rand xx 100, background => '#1F1F1F')"
   ],
   "outputs": [],
   "execution_count": null
  },
  {
   "cell_type": "code",
   "id": "5f9e942f",
   "metadata": {},
   "source": [
    "my $background = 'none';\n",
    "my $stroke-color = 'Ivory';\n",
    "my $fill-color = 'none';\n",
    "my $title-color = 'DarkGray';"
   ],
   "outputs": [],
   "execution_count": null
  },
  {
   "cell_type": "markdown",
   "id": "8d05461c",
   "metadata": {},
   "source": [
    "----\n",
    "\n",
    "## Definition"
   ]
  },
  {
   "cell_type": "code",
   "id": "35380636",
   "metadata": {},
   "source": [
    "sub collatz(UInt $n is copy, Int:D $max-steps = 1000) {\n",
    "    return [] if $n == 0;\n",
    "    my @sequence = $n;\n",
    "    while $n != 1 && @sequence.elems < $max-steps {\n",
    "        $n = $n %% 2 ?? $n div 2 !! 3 * $n + 1;\n",
    "        @sequence.push: $n;\n",
    "    }\n",
    "    return @sequence;\n",
    "}"
   ],
   "outputs": [],
   "execution_count": null
  },
  {
   "cell_type": "code",
   "id": "b6863a00",
   "metadata": {},
   "source": [
    "collatz(12)"
   ],
   "outputs": [],
   "execution_count": null
  },
  {
   "cell_type": "markdown",
   "id": "0e4edfa1",
   "metadata": {},
   "source": [
    "-----\n",
    "\n",
    "## Simple visualizations"
   ]
  },
  {
   "cell_type": "markdown",
   "id": "9768c489",
   "metadata": {},
   "source": [
    "### Collatz sequence numbers"
   ]
  },
  {
   "cell_type": "markdown",
   "id": "d44885f7",
   "metadata": {},
   "source": [
    "Here is the simplest -- and very informative -- Collatz sequence plot:"
   ]
  },
  {
   "cell_type": "code",
   "id": "97260bb0",
   "metadata": {},
   "source": [
    "#% js\n",
    "js-d3-list-line-plot(collatz(27), :$background)"
   ],
   "outputs": [],
   "execution_count": null
  },
  {
   "cell_type": "markdown",
   "id": "e6e9b82b",
   "metadata": {},
   "source": [
    "Let us make a multi-lines plot for a selection of integers:"
   ]
  },
  {
   "cell_type": "code",
   "id": "94d972fb",
   "metadata": {},
   "source": [
    "my @data = (1..1_000).map({ collatz($_) }).grep({ 30 ≤ $_.elems ≤ 150 && $_.max ≤ 600 }).pick(10).sort(*.head).map({my $i = $_.head; $_.kv.map(-> $x, $y {%(group => $i, :$x, :$y )}).Array }).map(*.Slip).Array;\n",
    "\n",
    "deduce-type(@data)"
   ],
   "outputs": [],
   "execution_count": null
  },
  {
   "cell_type": "markdown",
   "id": "f7394b03",
   "metadata": {},
   "source": [
    "**Remark:** Using simple sampling like the code block below would generally produce very non-uniform length and max-member sequences.\n",
    "Hence we do the filtering above.\n",
    "\n",
    "```raku\n",
    "my @data = (^100).pick(9).sort.map(-> $i {collatz($i).kv.map(-> $x, $y {%(group => $i, :$x, :$y )}).Array }).map(*.Slip).Array;\n",
    "```"
   ]
  },
  {
   "cell_type": "code",
   "id": "a2db2c2a",
   "metadata": {},
   "source": [
    "#% js\n",
    "js-d3-list-line-plot(@data.flat, :$background)"
   ],
   "outputs": [],
   "execution_count": null
  },
  {
   "cell_type": "markdown",
   "id": "ddfd79ef",
   "metadata": {},
   "source": [
    "-----\n",
    "\n",
    "## Sequences lengths distribution"
   ]
  },
  {
   "cell_type": "markdown",
   "id": "8e609cc2",
   "metadata": {},
   "source": [
    "Here is a histogram of the Collarz sequences lengths distributions:"
   ]
  },
  {
   "cell_type": "code",
   "id": "788b0b18",
   "metadata": {},
   "source": [
    "#% js\n",
    "my $m = 100_000;\n",
    "my @cLengths = (^$m).map({ collatz($_).elems });\n",
    "js-d3-histogram(\n",
    "    @cLengths, \n",
    "    100,\n",
    "    :$background,\n",
    "    :600width, \n",
    "    :400height, \n",
    "    title => \"Collatz sequences lengths distribution (up to $m)\",\n",
    "    :$title-color\n",
    "  )"
   ],
   "outputs": [],
   "execution_count": null
  },
  {
   "cell_type": "markdown",
   "id": "15e84cef",
   "metadata": {},
   "source": [
    "Here is a corresponding 2D plot (i.e. number vs. sequence length):"
   ]
  },
  {
   "cell_type": "code",
   "id": "85eee060",
   "metadata": {},
   "source": [
    "#% js\n",
    "js-d3-list-plot(\n",
    "    @cLengths, \n",
    "    :$background, \n",
    "    :2point-size,\n",
    "    :800width, \n",
    "    :400height, \n",
    "    title => 'Collatz sequences lengths',\n",
    "    x-label => 'integer',\n",
    "    y-label => 'sequence length',\n",
    "    :$title-color\n",
    "  )"
   ],
   "outputs": [],
   "execution_count": null
  },
  {
   "cell_type": "markdown",
   "id": "921af610",
   "metadata": {},
   "source": [
    "-------\n",
    "\n",
    "## Spiral embedding"
   ]
  },
  {
   "cell_type": "markdown",
   "id": "2a42dd38",
   "metadata": {},
   "source": [
    "A certain concentric pattern emerges in the spiral embedding plots of the Collatz sequences lengths `mod 8`."
   ]
  },
  {
   "cell_type": "code",
   "id": "59af7f0f",
   "metadata": {},
   "source": [
    "#% js\n",
    "#my @sunflower = sunflower-embedding(12_000, with => { collatz($_).elems mod 8 + 1}):d;\n",
    "my @sunflower = sunflower-embedding(12_000, with => { collatz($_).elems }):d;\n",
    "\n",
    "js-d3-list-plot(@sunflower, \n",
    "    background => 'none',\n",
    "    point-size => 4,\n",
    "    width => 900, height => 440, \n",
    "    :!axes, \n",
    "    :!legends,\n",
    "    color-scheme => 'Tableau10',\n",
    "    margins => {:20top, :20bottom, :250left, :250right}\n",
    " )"
   ],
   "outputs": [],
   "execution_count": null
  },
  {
   "cell_type": "markdown",
   "id": "d357d6b3",
   "metadata": {},
   "source": [
    "----\n",
    "\n",
    "## Graphs"
   ]
  },
  {
   "cell_type": "code",
   "id": "077637b9",
   "metadata": {},
   "source": [
    "proto sub collatz-edges(|) {*}\n",
    "\n",
    "multi sub collatz-edges(Int:D $n) {\n",
    "    ($n mod 3 == 2) ?? [$n => 2 * $n, $n => (2 * $n - 1) / 3] !! [$n => 2 * $n,]\n",
    "}\n",
    "\n",
    "multi sub collatz-edges(@edges where @edges.all ~~ Pair:D) {\n",
    "    my @leafs = @edges».value.unique;\n",
    "    @edges.append(@leafs.map({ collatz-edges($_.Int) }).flat)\n",
    "}"
   ],
   "outputs": [],
   "execution_count": null
  },
  {
   "cell_type": "code",
   "id": "727d46e3",
   "metadata": {},
   "source": [
    "my @edges = Pair.new(1, 2);\n",
    "\n",
    "for ^16 { @edges = collatz-edges(@edges) }\n",
    "\n",
    "deduce-type(@edges)"
   ],
   "outputs": [],
   "execution_count": null
  },
  {
   "cell_type": "code",
   "id": "3901c900",
   "metadata": {},
   "source": [
    "my $g = Graph.new(@edges.map({ $_.key.Str => $_.value.Str })):d"
   ],
   "outputs": [],
   "execution_count": null
  },
  {
   "cell_type": "code",
   "id": "c9360233",
   "metadata": {},
   "source": [
    "#% html\n",
    "$g.dot(\n",
    "    engine => 'twopi',\n",
    "    :$background,\n",
    "    vertex-label-color => 'Gray',\n",
    "    vertex-width => 0.7,\n",
    "    :24vertex-font-size,\n",
    "    edge-thickness => 6,\n",
    "    graph-size => 10\n",
    "):svg"
   ],
   "outputs": [],
   "execution_count": null
  },
  {
   "cell_type": "code",
   "id": "a5f58c37",
   "metadata": {},
   "source": [
    "#% js\n",
    "# my %force = y => {strength => 0.5},  charge => {strength => -10, iterations => 2}, collision => {radius => 25, iterations => 4}, link => {distance => 0};\n",
    "\n",
    "# js-d3-graph-plot(\n",
    "#     $g.edges,\n",
    "#     :directed,\n",
    "#     :$background,\n",
    "#     vertex-label-color => 'Gray',\n",
    "#     :1200width, :600height,\n",
    "#     :%force\n",
    "# )"
   ],
   "outputs": [],
   "execution_count": null
  },
  {
   "metadata": {},
   "cell_type": "markdown",
   "source": [
    "----\n",
    "\n",
    "## References"
   ],
   "id": "f2e4ae76aa25ef2"
  },
  {
   "metadata": {},
   "cell_type": "markdown",
   "source": [
    "[AAp1] Anton Antonov,\n",
    "[Graph Raku package](https://github.com/antononcube/Raku-Graph),\n",
    "(2024-2025),\n",
    "[GitHub/antononcube](https://github.com/antononcube).\n",
    "\n",
    "[AAp2] Anton Antonov,\n",
    "[JavaScript::D3 Raku package](https://github.com/antononcube/Raku-JavaScript-D3),\n",
    "(2022-2025),\n",
    "[GitHub/antononcube](https://github.com/antononcube).\n",
    "\n",
    "[AAp3] Anton Antonov,\n",
    "[Math::NumberTheory Raku package](https://github.com/antononcube/Raku-Math-NumberTheory),\n",
    "(2025),\n",
    "[GitHub/antononcube](https://github.com/antononcube)."
   ],
   "id": "6c3f12b3b6373c7"
  }
 ],
 "metadata": {
  "kernelspec": {
   "display_name": "RakuChatbook",
   "language": "raku",
   "name": "raku"
  },
  "language_info": {
   "file_extension": ".raku",
   "mimetype": "text/x-raku",
   "name": "raku",
   "version": "6.d"
  }
 },
 "nbformat": 4,
 "nbformat_minor": 5
}
