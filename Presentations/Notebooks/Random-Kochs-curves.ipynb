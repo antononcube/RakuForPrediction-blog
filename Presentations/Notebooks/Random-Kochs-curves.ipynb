{
 "cells": [
  {
   "cell_type": "markdown",
   "metadata": {},
   "source": [
    "# Random Koch curves\n",
    "\n",
    "### ... ***generations in Raku***\n",
    "\n",
    "Anton Antonov   \n",
    "[RakuForPrediction at WordPress](https://rakuforprediction.wordpress.com)   \n",
    "[RakuForPrediction-book at GitHub](https://github.com/antononcube/RakuForPrediction-book)      \n",
    "July, September 2024 \n"
   ]
  },
  {
   "cell_type": "code",
   "execution_count": null,
   "metadata": {},
   "outputs": [],
   "source": [
    "#% js\n",
    "    use JavaScript::D3;\n",
    "    use Statistics::Distributions;\n",
    "\n",
    "    [js-d3-random-koch-curve(\n",
    "        Whatever, 1/2, NormalDistribution.new(1/3, 0.1), NormalDistribution.new(1/3, 0.1), 4,\n",
    "        width => 1000,\n",
    "        stroke-color => 'Ivory',\n",
    "        fill-color => 'Silver',\n",
    "        background => '#1F1F1F',\n",
    "        stroke-width => 1,\n",
    "        :!axes,\n",
    "        :filled,\n",
    "        margins => {bottom => 0}\n",
    "    ),\n",
    "    js-d3-random-koch-curve(\n",
    "        Whatever, 1/2, 1/3, sqrt(3)/6, 4,\n",
    "        width => 1000,\n",
    "        stroke-color => 'Ivory',\n",
    "        fill-color => 'Silver',\n",
    "        background => '#1F1F1F',\n",
    "        stroke-width => 1,\n",
    "        :!axes,\n",
    "        :filled,\n",
    "        margins => {top => 0},\n",
    "        :flip\n",
    "    )\n",
    "    ].join(\"\\n\")"
   ]
  },
  {
   "metadata": {},
   "cell_type": "markdown",
   "source": "[Presentation video](https://youtu.be/pcGH6CeptJE)"
  },
  {
   "cell_type": "markdown",
   "metadata": {},
   "source": [
    "------\n",
    "\n",
    "## Setup"
   ]
  },
  {
   "cell_type": "code",
   "execution_count": null,
   "metadata": {},
   "outputs": [],
   "source": [
    "use Data::Generators;\n",
    "use Data::Summarizers;\n",
    "use Data::Importers;\n",
    "use JavaScript::D3;\n",
    "use JavaScript::D3::Random;"
   ]
  },
  {
   "cell_type": "code",
   "execution_count": null,
   "metadata": {},
   "outputs": [],
   "source": [
    "#% javascript\n",
    "require.config({\n",
    "     paths: {\n",
    "     d3: 'https://d3js.org/d3.v7.min'\n",
    "}});\n",
    "\n",
    "require(['d3'], function(d3) {\n",
    "     console.log(d3);\n",
    "});"
   ]
  },
  {
   "cell_type": "code",
   "execution_count": null,
   "metadata": {},
   "outputs": [],
   "source": [
    "#% js\n",
    "js-d3-list-line-plot(10.rand xx 40, background => 'none', stroke-width => 2)"
   ]
  },
  {
   "cell_type": "code",
   "execution_count": null,
   "metadata": {},
   "outputs": [],
   "source": [
    "my $background = \"#1F1F1F\";\n",
    "my $stroke-color = 'White';"
   ]
  },
  {
   "cell_type": "markdown",
   "metadata": {},
   "source": [
    "--------\n",
    "\n",
    "## Classical Koch snowflake curve"
   ]
  },
  {
   "cell_type": "markdown",
   "metadata": {},
   "source": [
    "Starting with a piecewise linear curve we recursively replace the line segments with a scaled copy of the original."
   ]
  },
  {
   "cell_type": "code",
   "execution_count": null,
   "metadata": {},
   "outputs": [],
   "source": [
    "#% js\n",
    "js-d3-random-koch-curve(\n",
    "    Whatever, 1/2, 1/3, sqrt(3)/6, 1,\n",
    "    width => 1200,\n",
    "    :$stroke-color,\n",
    "    fill-color => 'Silver',\n",
    "    :$background,\n",
    "    stroke-width => 1,\n",
    "    :!axes,\n",
    "    :!filled,\n",
    "    :!flip\n",
    ")"
   ]
  },
  {
   "cell_type": "markdown",
   "metadata": {},
   "source": [
    "-----\n",
    "\n",
    "## Random Koch curve parameters and properties"
   ]
  },
  {
   "cell_type": "markdown",
   "metadata": {},
   "source": [
    "The idea and general algorithm were borrowed from [`RandomKochCurve`](https://resources.wolframcloud.com/FunctionRepository/resources/RandomKochCurve)."
   ]
  },
  {
   "cell_type": "markdown",
   "metadata": {},
   "source": [
    "- The position, width, and height specifications determine the geometry:"
   ]
  },
  {
   "cell_type": "code",
   "execution_count": null,
   "metadata": {},
   "outputs": [],
   "source": [
    "#%js\n",
    " js-d3-image-display($*CWD ~ \"/Random-Koch-curves/KochCurveParameters.png\")"
   ]
  },
  {
   "cell_type": "markdown",
   "metadata": {},
   "source": [
    "- Distributions can be any parametrized distribution such as `UniformDistribution` or `NormalDistribution` or can be a constant.\n",
    "\n",
    "    - From [\"Statistics::Distributions\"](https://raku.land/zef:antononcube/Statistics::Distributions).\n",
    "\n",
    "- The three distributions are scaled from 0 to 1 to correspond to the length between the beginning and ending points.\n",
    "\n",
    "- `js-d3-random-koch-curve` returns visualizing JavaScript code that can be rendered with web browsers.\n",
    "\n",
    "    - From [\"JavaScript::D3\"](https://raku.land/zef:antononcube/JavaScript::D3)."
   ]
  },
  {
   "cell_type": "markdown",
   "metadata": {},
   "source": [
    "-------\n",
    "\n",
    "## CLI"
   ]
  },
  {
   "cell_type": "code",
   "execution_count": null,
   "metadata": {},
   "outputs": [],
   "source": [
    "#%bash\n",
    "js-d3-graphics random-koch-curve 4 --margins=60 -h=600 -w=1800 --color=ivory --background='#1f1f1f' > out.html && open out.html"
   ]
  },
  {
   "cell_type": "markdown",
   "metadata": {},
   "source": [
    "--------\n",
    "\n",
    "## Constant distribution"
   ]
  },
  {
   "cell_type": "code",
   "execution_count": null,
   "metadata": {},
   "outputs": [],
   "source": [
    "#% js\n",
    "js-d3-random-koch-curve(\n",
    "    Whatever, 1/4, 0.2, 0.3, 6,\n",
    "    width => 1200,\n",
    "    :$stroke-color,\n",
    "    :$background,\n",
    "    stroke-width => 1,\n",
    "    :!axes,\n",
    "    :!filled\n",
    ")"
   ]
  },
  {
   "cell_type": "markdown",
   "metadata": {},
   "source": [
    "-------\n",
    "\n",
    "## Normal distribution"
   ]
  },
  {
   "cell_type": "code",
   "execution_count": null,
   "metadata": {},
   "outputs": [],
   "source": [
    "#% js\n",
    "js-d3-random-koch-curve(\n",
    "    Whatever, 1/2, NormalDistribution.new(1/3, 0.1), NormalDistribution.new(1/3, 0.1), 5,\n",
    "    width => 1200,\n",
    "    :$stroke-color,\n",
    "    fill-color => 'Gray',\n",
    "    :$background,\n",
    "    stroke-width => 1,\n",
    "    :!axes,\n",
    "    :filled\n",
    ")"
   ]
  },
  {
   "cell_type": "markdown",
   "metadata": {},
   "source": [
    "Just the points:"
   ]
  },
  {
   "cell_type": "code",
   "execution_count": null,
   "metadata": {},
   "outputs": [],
   "source": [
    "#my @kochPoints = JavaScript::D3::Random::KochCurve(Whatever, 1/2, NormalDistribution.new(1/3, 0.1), NormalDistribution.new(1/3, 0.1), 5)\n",
    "my @kochPoints = JavaScript::D3::Random::KochCurve(Whatever, 1/2, 1/3, sqrt(3)/6, 3)"
   ]
  },
  {
   "cell_type": "markdown",
   "metadata": {},
   "source": [
    "Alternative plotting:"
   ]
  },
  {
   "cell_type": "code",
   "execution_count": null,
   "metadata": {},
   "outputs": [],
   "source": [
    "text-list-plot(@kochPoints, width => 120, height => 20)"
   ]
  },
  {
   "cell_type": "markdown",
   "metadata": {},
   "source": [
    "-------\n",
    "\n",
    "## Forest"
   ]
  },
  {
   "cell_type": "code",
   "execution_count": null,
   "metadata": {},
   "outputs": [],
   "source": [
    "#% js\n",
    "js-d3-random-koch-curve(\n",
    "    Whatever,\n",
    "    p => UniformDistribution.new(min => 0.3, max => 0.37), \n",
    "    w => random-real([0.01, 0.05]), \n",
    "    h => UniformDistribution.new(min => 0.2, max => 0.45), \n",
    "    n => (5..7).pick,\n",
    "    width => 1400,\n",
    "    stroke-color => <GreenYellow PaleGreen ForestGreen Green YellowGreen OliveDrab Olive Teal>.pick,\n",
    "    fill-color => <BlanchedAlmond Wheat Tan SandyBrown Peru SaddleBrown Sienna Brown Maroon>.pick,\n",
    "    background => 'none',\n",
    "    stroke-width => [1, 2].pick,\n",
    "    :!axes,\n",
    "    :filled\n",
    ")"
   ]
  },
  {
   "cell_type": "markdown",
   "metadata": {},
   "source": [
    "------\n",
    "\n",
    "## Many"
   ]
  },
  {
   "cell_type": "markdown",
   "metadata": {},
   "source": [
    "### Funguses"
   ]
  },
  {
   "cell_type": "code",
   "execution_count": null,
   "metadata": {},
   "outputs": [],
   "source": [
    "#% js\n",
    "(^9).map({\n",
    "    js-d3-random-koch-curve(\n",
    "        Whatever, \n",
    "        p => 1/2, \n",
    "        w => NormalDistribution.new(1/3, 0.1), \n",
    "        h => NormalDistribution.new(1/3, 0.1), \n",
    "        n => 5,\n",
    "        width => 400,\n",
    "        height => 200,\n",
    "        :$stroke-color,\n",
    "        fill-color => <Gray Silver Ivory MintWhite>.pick,\n",
    "        :$background,\n",
    "        stroke-width => 1,\n",
    "        :!axes,\n",
    "        :filled \n",
    "    )\n",
    "}).join(\"\\n\")"
   ]
  },
  {
   "cell_type": "markdown",
   "metadata": {},
   "source": [
    "### Forests"
   ]
  },
  {
   "cell_type": "code",
   "execution_count": null,
   "metadata": {},
   "outputs": [],
   "source": [
    "#% js\n",
    "(^6).map({\n",
    "    js-d3-random-koch-curve(\n",
    "        Whatever,\n",
    "        p => UniformDistribution.new(min => 0.3, max => 0.37), \n",
    "        w => random-real([0.01, 0.05]), \n",
    "        h => UniformDistribution.new(min => 0.2, max => 0.45), \n",
    "        n => (5..6).pick,\n",
    "        width => 600,\n",
    "        height => 300,\n",
    "        stroke-color => <GreenYellow PaleGreen ForestGreen Green YellowGreen OliveDrab Olive Teal>.pick,\n",
    "        fill-color => <BlanchedAlmond Wheat Tan SandyBrown Peru SaddleBrown Sienna Brown Maroon>.pick,\n",
    "        background => 'none',\n",
    "        stroke-width => [1, 2].pick,\n",
    "        :!axes,\n",
    "        :filled\n",
    "    )\n",
    "}).join(\"\\n\")"
   ]
  },
  {
   "cell_type": "markdown",
   "metadata": {},
   "source": [
    "------\n",
    "\n",
    "## LLM derived over Raku code"
   ]
  },
  {
   "cell_type": "markdown",
   "metadata": {},
   "source": [
    "Let us feed the Raku code of `JavaScript::D3::Random::KochCurve` to generative AIs."
   ]
  },
  {
   "cell_type": "markdown",
   "metadata": {},
   "source": [
    "### Package code"
   ]
  },
  {
   "cell_type": "code",
   "execution_count": null,
   "metadata": {},
   "outputs": [],
   "source": [
    "#% dalle, style=vivid, size=square\n",
    "Analyze the following code carefully and make an artistic rendering of how you think the result would look like:\n",
    "\n",
    "\n",
    "```raku\n",
    "#-----------------------------------------------------------\n",
    "sub random-koch-curve-helper(@spec, @points) {\n",
    "    my ($posspec, $widthspec, $heightspec) = @spec;\n",
    "    my ($p1, $p5) = @points;\n",
    "    my $alpha1 = $posspec - $widthspec / 2;\n",
    "    my $alpha2 = $posspec + $widthspec / 2;\n",
    "    my $p2 = (1 - $alpha1) <<*<< $p1 <<+>> $alpha1 <<*<< $p5;\n",
    "    my $p4 = (1 - $alpha2) <<*<< $p1 <<+>> $alpha2 <<*<< $p5;\n",
    "    my $p3 = (1 - $posspec) <<*<< $p1 <<+>> $posspec <<*<< $p5 <<+>> ($p5 <<->> $p1).&cross >>*>> $heightspec;\n",
    "    return ($p1, $p2, $p3, $p4, $p5);\n",
    "}\n",
    "\n",
    "#-----------------------------------------------------------\n",
    "multi sub KochCurve(@pts, $possdist, $widthdist, $heightdist, Int $n) {\n",
    "    my @out = @pts;\n",
    "    for ^$n {\n",
    "        @out = @out.rotor(2 => -1);\n",
    "\n",
    "        my @ps = $possdist ~~ Numeric:D ?? $possdist xx @out.elems !! random-variate($possdist, @out.elems);\n",
    "        my @ws = $widthdist ~~ Numeric:D ?? $widthdist xx @out.elems !! random-variate($widthdist, @out.elems);\n",
    "        my @hs = $heightdist ~~ Numeric:D ?? $heightdist xx @out.elems !! random-variate($heightdist, @out.elems);\n",
    "\n",
    "        @out = do for ^@out.elems -> $i {\n",
    "            random-koch-curve-helper([ @ps[$i], @ws[$i], @hs[$i] ], @out[$i])\n",
    "        }\n",
    "\n",
    "        @out = [@out.head, |@out.tail(*-1).map({ $_.tail(*-1) })];\n",
    "        @out .= map(*.Slip);\n",
    "    }\n",
    "    return @out;\n",
    "}\n",
    "\n",
    "```"
   ]
  },
  {
   "cell_type": "code",
   "execution_count": null,
   "metadata": {},
   "outputs": [],
   "source": [
    "#%js\n",
    "js-d3-image-display(@files.head.Str)"
   ]
  },
  {
   "cell_type": "markdown",
   "metadata": {},
   "source": [
    "### \"Anonymized\" code"
   ]
  },
  {
   "cell_type": "code",
   "execution_count": null,
   "metadata": {},
   "outputs": [],
   "source": [
    "#% dalle, style=vivid, size=square\n",
    "Analyze the following code carefully and make an artistic rendering of how you think the result would look like:\n",
    "\n",
    "\n",
    "```raku\n",
    "#-----------------------------------------------------------\n",
    "sub func-helper(@spec, @points) {\n",
    "    my ($posspec, $widthspec, $heightspec) = @spec;\n",
    "    my ($p1, $p5) = @points;\n",
    "    my $alpha1 = $posspec - $widthspec / 2;\n",
    "    my $alpha2 = $posspec + $widthspec / 2;\n",
    "    my $p2 = (1 - $alpha1) <<*<< $p1 <<+>> $alpha1 <<*<< $p5;\n",
    "    my $p4 = (1 - $alpha2) <<*<< $p1 <<+>> $alpha2 <<*<< $p5;\n",
    "    my $p3 = (1 - $posspec) <<*<< $p1 <<+>> $posspec <<*<< $p5 <<+>> ($p5 <<->> $p1).&cross >>*>> $heightspec;\n",
    "    return ($p1, $p2, $p3, $p4, $p5);\n",
    "}\n",
    "\n",
    "#-----------------------------------------------------------\n",
    "multi sub Func(@pts, $possdist, $widthdist, $heightdist, Int $n) {\n",
    "    my @out = @pts;\n",
    "    for ^$n {\n",
    "        @out = @out.rotor(2 => -1);\n",
    "\n",
    "        my @ps = $possdist ~~ Numeric:D ?? $possdist xx @out.elems !! random-variate($possdist, @out.elems);\n",
    "        my @ws = $widthdist ~~ Numeric:D ?? $widthdist xx @out.elems !! random-variate($widthdist, @out.elems);\n",
    "        my @hs = $heightdist ~~ Numeric:D ?? $heightdist xx @out.elems !! random-variate($heightdist, @out.elems);\n",
    "\n",
    "        @out = do for ^@out.elems -> $i {\n",
    "            func-helper([ @ps[$i], @ws[$i], @hs[$i] ], @out[$i])\n",
    "        }\n",
    "\n",
    "        @out = [@out.head, |@out.tail(*-1).map({ $_.tail(*-1) })];\n",
    "        @out .= map(*.Slip);\n",
    "    }\n",
    "    return @out;\n",
    "}\n",
    "```"
   ]
  },
  {
   "cell_type": "markdown",
   "metadata": {},
   "source": [
    "------\n",
    "\n",
    "## LLM derived"
   ]
  },
  {
   "cell_type": "code",
   "execution_count": null,
   "metadata": {},
   "outputs": [],
   "source": [
    "# % dalle, size=square, style=natural\n",
    "# Generate a fractal Koch snowflake in H.R.Giger style. Make sure the whole snowflake is seen in the image."
   ]
  },
  {
   "cell_type": "code",
   "execution_count": null,
   "metadata": {},
   "outputs": [],
   "source": [
    "#% dalle export, index=all, prefix=Random-KochCurves"
   ]
  },
  {
   "cell_type": "code",
   "execution_count": null,
   "metadata": {},
   "outputs": [],
   "source": [
    "# % dalle clear"
   ]
  },
  {
   "cell_type": "markdown",
   "metadata": {},
   "source": [
    "Get image files names:"
   ]
  },
  {
   "cell_type": "code",
   "execution_count": null,
   "metadata": {},
   "outputs": [],
   "source": [
    "my @files = dir($*CWD ~ '/Random-Koch-curves/By-code').grep({ !$_.Str.contains('Parameters')});\n",
    "@files.elems"
   ]
  },
  {
   "cell_type": "markdown",
   "metadata": {},
   "source": [
    "Display images:"
   ]
  },
  {
   "cell_type": "code",
   "execution_count": null,
   "metadata": {},
   "outputs": [],
   "source": [
    "#%js\n",
    "@files.map({ js-d3-image-display($_.Str) }).join(\"\\n\")"
   ]
  }
 ],
 "metadata": {
  "kernelspec": {
   "display_name": "RakuChatbook",
   "language": "raku",
   "name": "raku"
  },
  "language_info": {
   "file_extension": ".raku",
   "mimetype": "text/x-raku",
   "name": "raku",
   "version": "6.d"
  }
 },
 "nbformat": 4,
 "nbformat_minor": 2
}
