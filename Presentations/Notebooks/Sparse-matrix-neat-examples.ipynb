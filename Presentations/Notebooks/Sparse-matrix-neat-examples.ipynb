{
 "cells": [
  {
   "cell_type": "markdown",
   "metadata": {},
   "source": [
    "# Sparse matrix neat examples\n",
    "\n",
    "### ...in Raku\n",
    "\n",
    "Anton Antonov   \n",
    "[RakuForPrediction at WordPress](https://rakuforprediction.wordpress.com)   \n",
    "[RakuForPrediction-book at GitHub](https://github.com/antononcube/RakuForPrediction-book)      \n",
    "October 2024 "
   ]
  },
  {
   "cell_type": "code",
   "execution_count": null,
   "metadata": {},
   "outputs": [],
   "source": [
    "#%js\n",
    "    use Math::SparseMatrix;\n",
    "    use Math::SparseMatrix::Utilities;\n",
    "    \n",
    "    my $nrow = 5;\n",
    "    my $ncol = 24;\n",
    "    my $density = 0.35;\n",
    "    my $tol = 0.001;\n",
    "    my $type = 'CSR';\n",
    "\n",
    "    my $mRand = generate-random-sparse-matrix($nrow, $ncol, :$density, :$type, :$tol);\n",
    "    js-d3-matrix-plot($mRand.Array, width => 1000, margins => 1, tick-labels-font-size => 10, color-palette => 'Inferno')"
   ]
  },
  {
   "cell_type": "markdown",
   "metadata": {},
   "source": [
    "----\n",
    "\n",
    "## Introduction"
   ]
  },
  {
   "cell_type": "markdown",
   "metadata": {},
   "source": [
    "In this notebook we consider a few examples of sparse matrices utilization.\n",
    "\n",
    "1. Random graph \n",
    "    - Adjacency matrix of random graph `G`\n",
    "        - From a model of social interactions\n",
    "    - Over-imposed adjacency matrices with `G` and a shortest path in `G`\n",
    "\n",
    "2. Movie-actor bipartite graph \n",
    "    - Ingesting data for relationships of actors starring in movies.\n",
    "    - Sparse matrix algebra can help doing certain information retrieval tasks\n",
    "\n",
    "3. Sparse matrices visualization discussion"
   ]
  },
  {
   "cell_type": "markdown",
   "metadata": {},
   "source": [
    "Support of sparse matrix linear algebra is a sign of maturity of the corresponding systems for technological computations."
   ]
  },
  {
   "cell_type": "markdown",
   "metadata": {},
   "source": [
    "| Language                  | Initial Introduction      | Confirmed Update          |\n",
    "|---------------------------|---------------------------|---------------------------|\n",
    "| MATLAB                    | 1992                      | ~                         |\n",
    "| Mathematica / Wolfram Language | 2003                 | updated 2007              |\n",
    "| Python                    | maybe since 2004          | updated 2006              |\n",
    "| R                         | maybe since 2011          | updated 2014              |\n"
   ]
  },
  {
   "cell_type": "markdown",
   "metadata": {},
   "source": [
    "-----\n",
    "\n",
    "## Setup"
   ]
  },
  {
   "cell_type": "code",
   "execution_count": 4,
   "metadata": {},
   "outputs": [],
   "source": [
    "use Math::SparseMatrix;\n",
    "use Math::SparseMatrix::Utilities;\n",
    "\n",
    "use Data::Importers;\n",
    "use Data::Reshapers;\n",
    "use Data::Summarizers;\n",
    "use Data::Generators;\n",
    "\n",
    "use Graph;\n",
    "use Graph::Distribution;\n",
    "use Graph::Random;\n",
    "use Graph::Path;\n",
    "\n",
    "use Hash::Merge;\n",
    "use JavaScript::D3;"
   ]
  },
  {
   "cell_type": "markdown",
   "metadata": {},
   "source": [
    "### JavaScript"
   ]
  },
  {
   "cell_type": "markdown",
   "metadata": {},
   "source": [
    "Here we prepare the notebook to visualize with JavaScript:"
   ]
  },
  {
   "cell_type": "code",
   "execution_count": null,
   "metadata": {},
   "outputs": [],
   "source": [
    "#% javascript\n",
    "require.config({\n",
    "     paths: {\n",
    "     d3: 'https://d3js.org/d3.v7.min'\n",
    "}});\n",
    "\n",
    "require(['d3'], function(d3) {\n",
    "     console.log(d3);\n",
    "});"
   ]
  },
  {
   "cell_type": "markdown",
   "metadata": {},
   "source": [
    "Verification:"
   ]
  },
  {
   "cell_type": "code",
   "execution_count": null,
   "metadata": {},
   "outputs": [],
   "source": [
    "#% js\n",
    "js-d3-list-line-plot(10.rand xx 40, background => 'none', stroke-width => 2)"
   ]
  },
  {
   "cell_type": "markdown",
   "metadata": {},
   "source": [
    "Here we set a collection of visualization variables:"
   ]
  },
  {
   "cell_type": "code",
   "execution_count": null,
   "metadata": {},
   "outputs": [],
   "source": [
    "my $title-color = 'Silver';\n",
    "my $stroke-color = 'SlateGray';\n",
    "my $tooltip-color = 'LightBlue';\n",
    "my $tooltip-background-color = 'none';\n",
    "my $tick-labels-font-size = 10;\n",
    "my $tick-labels-color = 'Silver';\n",
    "my $tick-labels-font-family = 'Helvetica';\n",
    "my $background = '#1F1F1F';\n",
    "my $color-scheme = 'schemeTableau10';\n",
    "my $edge-thickness = 3;\n",
    "my $vertex-size = 6;\n",
    "my $mmd-theme = q:to/END/;\n",
    "%%{\n",
    "  init: {\n",
    "    'theme': 'forest',\n",
    "    'themeVariables': {\n",
    "      'lineColor': 'Ivory'\n",
    "    }\n",
    "  }\n",
    "}%%\n",
    "END\n",
    "my %force = collision => {iterations => 0, radius => 10},link => {distance => 180};\n",
    "my %force2 = charge => {strength => -30, iterations => 4}, collision => {radius => 50, iterations => 4}, link => {distance => 30};\n",
    "\n",
    "my %opts = :$background, :$title-color, :$edge-thickness, :$vertex-size;"
   ]
  },
  {
   "cell_type": "markdown",
   "metadata": {},
   "source": [
    "------\n",
    "\n",
    "## Random graph matrix"
   ]
  },
  {
   "cell_type": "markdown",
   "metadata": {},
   "source": [
    "Here is a random graph using the Watts-Strogatz model:"
   ]
  },
  {
   "cell_type": "code",
   "execution_count": null,
   "metadata": {},
   "outputs": [],
   "source": [
    "#% js\n",
    "my $gl = Graph::Random.new: Graph::Distribution::WattsStrogatz.new(20,0.06);\n",
    "\n",
    "my $gp = Graph::Path.new: $gl.find-shortest-path('0','12'), :directed;\n",
    "\n",
    "my $grPlot = \n",
    "js-d3-graph-plot(\n",
    "    $gl.edges(:dataset),\n",
    "    highlight => [|$gp.vertex-list, |$gp.edge-list],\n",
    "    background => '1F1F1F', \n",
    "    title-color => 'Silver', \n",
    "    edge-thickness => 3,\n",
    "    vertex-size => 6,\n",
    "    width => 600,\n",
    "    force => {charge => {strength => -260, iterations => 2}, y => {strength => 0.2}, collision => {radius => 6, iterations => 10}, link => {distance => 4}}\n",
    "    )"
   ]
  },
  {
   "cell_type": "markdown",
   "metadata": {},
   "source": [
    "Here is the corresponding matrix:"
   ]
  },
  {
   "cell_type": "code",
   "execution_count": null,
   "metadata": {},
   "outputs": [],
   "source": [
    "#% js\n",
    "my $m = Math::SparseMatrix.new(edge-dataset => $gl.edges(:dataset), row-names => $gl.vertex-list.sort(*.Int));\n",
    "say $m;\n",
    "$m.Array ==> js-d3-matrix-plot(width => 400, margins => 15, :$tick-labels-font-size)"
   ]
  },
  {
   "cell_type": "markdown",
   "metadata": {},
   "source": [
    "Here the plots:\n",
    "- Graph matrix\n",
    "- Shortest path matrix\n",
    "- Sum of the corresponding matrices"
   ]
  },
  {
   "cell_type": "code",
   "execution_count": null,
   "metadata": {},
   "outputs": [],
   "source": [
    "#% js\n",
    "my $m2 = Math::SparseMatrix.new(edge-dataset => $gp.edges(:dataset), row-names => $m.row-names);\n",
    "\n",
    "my $m3 = $m.add($m2.multiply(0.75));\n",
    "\n",
    "# Vusualize\n",
    " my %opts = width => 350, margins => {top => 30, left => 16, right => 16, bottom => 16}, :$tick-labels-font-size, :$tick-labels-color, :$title-color, :!tooltip, color-palette => 'Inferno';\n",
    " [\n",
    "   js-d3-matrix-plot($m.Array, |%opts, title => 'Graph'),\n",
    "   js-d3-matrix-plot($m2.Array, |%opts, title => 'Shortest path graph'),\n",
    "   js-d3-matrix-plot($m3.Array, |%opts, title => 'Sum')\n",
    " ].join(\"\\n\")"
   ]
  },
  {
   "cell_type": "markdown",
   "metadata": {},
   "source": [
    "Here is \"plain\" print of the element-sum matrix:"
   ]
  },
  {
   "cell_type": "code",
   "execution_count": null,
   "metadata": {},
   "outputs": [],
   "source": [
    "$m3.print"
   ]
  },
  {
   "cell_type": "markdown",
   "metadata": {},
   "source": [
    "Let us compare the graph and the \"sum matrix\" side-by-side:"
   ]
  },
  {
   "cell_type": "code",
   "execution_count": null,
   "metadata": {},
   "outputs": [],
   "source": [
    "#% js\n",
    "[\n",
    "    $grPlot,\n",
    "    js-d3-matrix-plot($m3.Array, margins => 16, :$tick-labels-font-size, :$tick-labels-color, width => 400, color-palette => 'Inferno')\n",
    "].join(\"\\n\")"
   ]
  },
  {
   "cell_type": "markdown",
   "metadata": {},
   "source": [
    "-----\n",
    "\n",
    "## Ingest data movie-actor data"
   ]
  },
  {
   "cell_type": "markdown",
   "metadata": {},
   "source": [
    "Here we ingest a CSV file with movie data:"
   ]
  },
  {
   "cell_type": "code",
   "execution_count": null,
   "metadata": {},
   "outputs": [],
   "source": [
    "my $file = $*CWD ~ '/Sparse-matrices/dsMovieRecords.csv';\n",
    "my @dsMovieRecords = data-import($file, 'csv', headers => 'auto');\n",
    "\n",
    "deduce-type(@dsMovieRecords)"
   ]
  },
  {
   "cell_type": "markdown",
   "metadata": {},
   "source": [
    "Tabular form of the movie data:"
   ]
  },
  {
   "cell_type": "code",
   "execution_count": null,
   "metadata": {},
   "outputs": [],
   "source": [
    "#% html\n",
    "my @field-names = <Movie Actor Genre1 Genre2 Genre3 BoxOffice>;\n",
    "@dsMovieRecords ==> to-html(:@field-names)"
   ]
  },
  {
   "cell_type": "markdown",
   "metadata": {},
   "source": [
    "Summary:"
   ]
  },
  {
   "cell_type": "code",
   "execution_count": null,
   "metadata": {},
   "outputs": [],
   "source": [
    "sink records-summary(@dsMovieRecords, :@field-names, :8max-tallies)"
   ]
  },
  {
   "cell_type": "markdown",
   "metadata": {},
   "source": [
    "-----\n",
    "\n",
    "## Bipartite graph"
   ]
  },
  {
   "cell_type": "markdown",
   "metadata": {},
   "source": [
    "Here we make a graph based on the movie-actor relationships:"
   ]
  },
  {
   "cell_type": "code",
   "execution_count": null,
   "metadata": {},
   "outputs": [],
   "source": [
    "my @rules = @dsMovieRecords.map({ $_<Movie> => $_<Actor> });\n",
    "my $g = Graph.new(@rules) "
   ]
  },
  {
   "cell_type": "markdown",
   "metadata": {},
   "source": [
    "The graph is bi-partite:"
   ]
  },
  {
   "cell_type": "code",
   "execution_count": null,
   "metadata": {},
   "outputs": [],
   "source": [
    "$g.is-bipartite"
   ]
  },
  {
   "cell_type": "markdown",
   "metadata": {},
   "source": [
    "Here is the coloring:"
   ]
  },
  {
   "cell_type": "code",
   "execution_count": null,
   "metadata": {},
   "outputs": [],
   "source": [
    ".say for $g.bipartite-coloring.classify(*.value)"
   ]
  },
  {
   "cell_type": "code",
   "execution_count": null,
   "metadata": {},
   "outputs": [],
   "source": [
    "#% js\n",
    "\n",
    "$g.edges(:dataset) \n",
    "==> js-d3-graph-plot(\n",
    "        highlight => @dsMovieRecords.map(*<Actor>).List,\n",
    "        :$background, \n",
    "        title-color => 'silver',  \n",
    "        width => 1000, \n",
    "        :$edge-thickness,\n",
    "        :$vertex-size,\n",
    "        vertex-color => 'Red',\n",
    "        vertex-label-font-size => 12,\n",
    "        vertex-label-color => 'Grey',\n",
    "        vertex-label-font-family => 'Helvetica',\n",
    "        :!directed,\n",
    "        force => {charge => {strength => -600, iterations => 2}, collision => {radius => 10, iterations => 1}, link => {minDistance => 10}}\n",
    "    )"
   ]
  },
  {
   "cell_type": "markdown",
   "metadata": {},
   "source": [
    "------\n",
    "\n",
    "## Sparse matrix"
   ]
  },
  {
   "cell_type": "markdown",
   "metadata": {},
   "source": [
    "Here we make the sparse matrix for movie-actor starring relationship:"
   ]
  },
  {
   "cell_type": "code",
   "execution_count": null,
   "metadata": {},
   "outputs": [],
   "source": [
    "my @allVertexNames = [|@dsMovieRecords.map(*<Movie>).unique.sort, |@dsMovieRecords.map(*<Actor>).unique.sort];\n",
    "my %h = @allVertexNames Z=> ^@allVertexNames.elems;"
   ]
  },
  {
   "cell_type": "code",
   "execution_count": null,
   "metadata": {},
   "outputs": [],
   "source": [
    ".say for @allVertexNames"
   ]
  },
  {
   "cell_type": "markdown",
   "metadata": {},
   "source": [
    "Here we make the sparse matrix of the bi-partite graph:"
   ]
  },
  {
   "cell_type": "code",
   "execution_count": null,
   "metadata": {},
   "outputs": [],
   "source": [
    "my $m = Math::SparseMatrix.new(edge-dataset => $g.edges(:dataset))\n",
    "#my $m = Math::SparseMatrix.new(edge-dataset => $g.edges(:dataset), row-names => @allVertexNames)"
   ]
  },
  {
   "cell_type": "code",
   "execution_count": null,
   "metadata": {},
   "outputs": [],
   "source": [
    "#%js\n",
    "$m.Array ==> js-d3-matrix-plot(width=>400)"
   ]
  },
  {
   "cell_type": "markdown",
   "metadata": {},
   "source": [
    "It is not obvious that the matrix represents bipartite graph, hence we \"restructure\" it by using pre-arranged movie-actor row- and column-names:"
   ]
  },
  {
   "cell_type": "code",
   "execution_count": null,
   "metadata": {},
   "outputs": [],
   "source": [
    "$m = $m[@allVertexNames; @allVertexNames]"
   ]
  },
  {
   "cell_type": "markdown",
   "metadata": {},
   "source": [
    "Now the matrix plot clearly shows the corresponding graph is bipartite:"
   ]
  },
  {
   "cell_type": "code",
   "execution_count": null,
   "metadata": {},
   "outputs": [],
   "source": [
    "#%js\n",
    "$m.Array ==> js-d3-matrix-plot(width=>400)"
   ]
  },
  {
   "cell_type": "markdown",
   "metadata": {},
   "source": [
    "Instead of a matrix plot we can make an HTML \"pretty print\" of the sparse matrix:"
   ]
  },
  {
   "cell_type": "code",
   "execution_count": null,
   "metadata": {},
   "outputs": [],
   "source": [
    "#% html\n",
    "\n",
    "$m\n",
    ".to-html(:v)\n",
    ".subst('<td>1</td>', '<td><b>●</b></td>', :g)"
   ]
  },
  {
   "cell_type": "markdown",
   "metadata": {},
   "source": [
    "----\n",
    "\n",
    "## Fundamental information retrieval operation"
   ]
  },
  {
   "cell_type": "markdown",
   "metadata": {},
   "source": [
    "- Get row / vector corresponding to an actor \n",
    "- Transpose it"
   ]
  },
  {
   "cell_type": "code",
   "execution_count": null,
   "metadata": {},
   "outputs": [],
   "source": [
    "#%html\n",
    "my $m-actor = $m['Orlando Bloom'].transpose;\n",
    "$m-actor.to-html.subst('<td>0</td>','<td> </td>'):g"
   ]
  },
  {
   "cell_type": "markdown",
   "metadata": {},
   "source": [
    "Multiply the incidence matrix with the actor-vector:"
   ]
  },
  {
   "cell_type": "code",
   "execution_count": null,
   "metadata": {},
   "outputs": [],
   "source": [
    "#% html\n",
    "$m.dot($m-actor).to-html"
   ]
  },
  {
   "cell_type": "markdown",
   "metadata": {},
   "source": [
    "-----\n",
    "\n",
    "## Matrix plot (*details*)"
   ]
  },
  {
   "cell_type": "markdown",
   "metadata": {},
   "source": [
    "Two ways to plot sparse matrices."
   ]
  },
  {
   "cell_type": "markdown",
   "metadata": {},
   "source": [
    "### Via tuples"
   ]
  },
  {
   "cell_type": "markdown",
   "metadata": {},
   "source": [
    "Essentially, using a heatmap plot spec:"
   ]
  },
  {
   "cell_type": "code",
   "execution_count": null,
   "metadata": {},
   "outputs": [],
   "source": [
    "#% js\n",
    "my @ds3D = $m.tuples.map({ <x y z tooltip>.Array Z=> [|$_.Array, \"⎡{$m.row-names[$_[0]]}⎦ : ⎡{$m.column-names[$_[1]]}⎦ : {$_.tail}\"] })».Hash;\n",
    "js-d3-matrix-plot(\n",
    "    @ds3D, \n",
    "    :$tooltip-background-color, \n",
    "    :$tooltip-color, \n",
    "    :$background, \n",
    "    width => 400)"
   ]
  },
  {
   "cell_type": "markdown",
   "metadata": {},
   "source": [
    "Here is the corresponding (\"coordinates\") list plot:"
   ]
  },
  {
   "cell_type": "code",
   "execution_count": null,
   "metadata": {},
   "outputs": [],
   "source": [
    "#%js\n",
    "$m.tuples\n",
    "==> js-d3-list-plot( :$background, width => 400, :!grid-lines)"
   ]
  },
  {
   "cell_type": "markdown",
   "metadata": {},
   "source": [
    "### As dense matrix"
   ]
  },
  {
   "cell_type": "code",
   "execution_count": null,
   "metadata": {},
   "outputs": [],
   "source": [
    "#%js\n",
    "$m.Array\n",
    "==> js-d3-matrix-plot(width => 400)"
   ]
  },
  {
   "cell_type": "markdown",
   "metadata": {},
   "source": [
    "### Larger sparse matrix"
   ]
  },
  {
   "cell_type": "markdown",
   "metadata": {},
   "source": [
    "Large sparse matrix:"
   ]
  },
  {
   "cell_type": "code",
   "execution_count": null,
   "metadata": {},
   "outputs": [],
   "source": [
    "my $gLarge = Graph::Random.new: Graph::Distribution::WattsStrogatz.new(2000,0.1);\n",
    "my $mLarge = Math::SparseMatrix.new(edge-dataset => $gLarge.edges(:dataset));"
   ]
  },
  {
   "cell_type": "markdown",
   "metadata": {},
   "source": [
    "Corresponding graph:"
   ]
  },
  {
   "cell_type": "code",
   "execution_count": null,
   "metadata": {},
   "outputs": [],
   "source": [
    "#% js\n",
    "$mLarge.tuples\n",
    "==> js-d3-list-plot( :$background, width => 600, height => 600, :!grid-lines)"
   ]
  },
  {
   "cell_type": "markdown",
   "metadata": {},
   "source": [
    "**Remark:** The list plot might be much more useful for large matrices with (relatively) high density."
   ]
  },
  {
   "cell_type": "markdown",
   "metadata": {},
   "source": [
    "Tuples dataset:"
   ]
  },
  {
   "cell_type": "code",
   "execution_count": null,
   "metadata": {},
   "outputs": [],
   "source": [
    "#%js\n",
    "$mLarge.tuples(:dataset)\n",
    "==> {rename-columns($_, (<i j x> Z=> <x y z>).Hash)}()\n",
    "==> js-d3-matrix-plot(:$background, width => 600)"
   ]
  },
  {
   "cell_type": "markdown",
   "metadata": {},
   "source": [
    "### Random dense matrix"
   ]
  },
  {
   "cell_type": "markdown",
   "metadata": {},
   "source": [
    "Another example with a dense matrix:"
   ]
  },
  {
   "cell_type": "code",
   "execution_count": null,
   "metadata": {},
   "outputs": [],
   "source": [
    "#%js\n",
    "my @a = random-real(10, 48) xx 12;\n",
    "@a = rand > 0.5 ?? @a.map(*.sort) !! @a.&transpose.map(*.sort.Array).&transpose;\n",
    "say \"dimensions : \", dimensions(@a);\n",
    "js-d3-matrix-plot(@a, width => 1600, margins => 16, tick-labels-font-size => 10, color-palette => <Turbo Plasma Warm Inferno>.pick, :$background)"
   ]
  },
  {
   "cell_type": "code",
   "execution_count": null,
   "metadata": {},
   "outputs": [],
   "source": []
  }
 ],
 "metadata": {
  "kernelspec": {
   "display_name": "RakuChatbook",
   "language": "raku",
   "name": "raku"
  },
  "language_info": {
   "file_extension": ".raku",
   "mimetype": "text/x-raku",
   "name": "raku",
   "version": "6.d"
  }
 },
 "nbformat": 4,
 "nbformat_minor": 2
}
