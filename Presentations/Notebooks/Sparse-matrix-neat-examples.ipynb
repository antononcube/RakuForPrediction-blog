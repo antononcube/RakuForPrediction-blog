{
 "cells": [
  {
   "cell_type": "markdown",
   "metadata": {},
   "source": [
    "# Sparse matrix neat examples\n",
    "\n",
    "### ...in Raku\n",
    "\n",
    "Anton Antonov   \n",
    "[RakuForPrediction at WordPress](https://rakuforprediction.wordpress.com)   \n",
    "[RakuForPrediction-book at GitHub](https://github.com/antononcube/RakuForPrediction-book)      \n",
    "October 2024 "
   ]
  },
  {
   "cell_type": "code",
   "execution_count": null,
   "metadata": {},
   "outputs": [],
   "source": [
    "#%js\n",
    "    use Math::SparseMatrix;\n",
    "    use Math::SparseMatrix::Utilities;\n",
    "    use JavaScript::D3;\n",
    "    \n",
    "    my $nrow = 5;\n",
    "    my $ncol = 24;\n",
    "    my $density = 0.35;\n",
    "    my $tol = 0.001;\n",
    "    my $type = 'CSR';\n",
    "\n",
    "    my $mRand = generate-random-sparse-matrix($nrow, $ncol, :$density, :$type, :$tol);\n",
    "    js-d3-matrix-plot($mRand.Array, width => 1000, margins => 1, tick-labels-font-size => 10, color-palette => 'Inferno')"
   ]
  },
  {
   "cell_type": "markdown",
   "metadata": {},
   "source": [
    "----\n",
    "\n",
    "## Introduction"
   ]
  },
  {
   "cell_type": "markdown",
   "metadata": {},
   "source": [
    "In this notebook we consider a few examples of sparse matrices utilization.\n",
    "\n",
    "1. Random graph \n",
    "    - Adjacency matrix of random graph `G`\n",
    "        - From a model of social interactions\n",
    "    - Over-imposed adjacency matrices with `G` and a shortest path in `G`\n",
    "\n",
    "2. Movie-actor bipartite graph \n",
    "    - Ingesting data for relationships of actors starring in movies.\n",
    "    - Sparse matrix algebra can help doing certain information retrieval tasks\n",
    "\n",
    "3. Sparse matrices visualization discussion"
   ]
  },
  {
   "cell_type": "markdown",
   "metadata": {},
   "source": [
    "Support of sparse matrix linear algebra is a sign of maturity of the corresponding systems for technological computations."
   ]
  },
  {
   "cell_type": "markdown",
   "metadata": {},
   "source": [
    "| Language                  | Initial Introduction      | Confirmed Update          |\n",
    "|---------------------------|---------------------------|---------------------------|\n",
    "| MATLAB                    | 1992                      | ~                         |\n",
    "| Mathematica / Wolfram Language | 2003                 | updated 2007              |\n",
    "| Python                    | maybe since 2004          | updated 2006              |\n",
    "| R                         | maybe since 2011          | updated 2014              |\n"
   ]
  },
  {
   "cell_type": "markdown",
   "metadata": {},
   "source": [
    "-----\n",
    "\n",
    "## Setup"
   ]
  },
  {
   "cell_type": "code",
   "execution_count": 40,
   "metadata": {},
   "outputs": [],
   "source": [
    "use Math::SparseMatrix;\n",
    "use Math::SparseMatrix::Utilities;\n",
    "\n",
    "use Data::Importers;\n",
    "use Data::Reshapers;\n",
    "use Data::Summarizers;\n",
    "use Data::Generators;\n",
    "\n",
    "use Graph;\n",
    "use Graph::Distribution;\n",
    "use Graph::Random;\n",
    "use Graph::Path;\n",
    "\n",
    "use Hash::Merge;\n",
    "use JavaScript::D3;"
   ]
  },
  {
   "cell_type": "markdown",
   "metadata": {},
   "source": [
    "### JavaScript"
   ]
  },
  {
   "cell_type": "markdown",
   "metadata": {},
   "source": [
    "Here we prepare the notebook to visualize with JavaScript:"
   ]
  },
  {
   "cell_type": "code",
   "execution_count": 41,
   "metadata": {},
   "outputs": [
    {
     "data": {
      "application/javascript": "require.config({\n     paths: {\n     d3: 'https://d3js.org/d3.v7.min'\n}});\n\nrequire(['d3'], function(d3) {\n     console.log(d3);\n});"
     },
     "execution_count": 41,
     "metadata": {},
     "output_type": "execute_result"
    }
   ],
   "source": [
    "#% javascript\n",
    "require.config({\n",
    "     paths: {\n",
    "     d3: 'https://d3js.org/d3.v7.min'\n",
    "}});\n",
    "\n",
    "require(['d3'], function(d3) {\n",
    "     console.log(d3);\n",
    "});"
   ]
  },
  {
   "cell_type": "markdown",
   "metadata": {},
   "source": [
    "Verification:"
   ]
  },
  {
   "cell_type": "code",
   "execution_count": 42,
   "metadata": {},
   "outputs": [
    {
     "data": {
      "application/javascript": "(function(element) { require(['d3'], function(d3) {\n\n// set the dimensions and margins of the graph\nvar margin = {\"bottom\":40,\"top\":40,\"left\":40,\"right\":40},\n    width = 600 - margin.left - margin.right,\n    height = 400 - margin.top - margin.bottom;\n\n// append the svg object to the body of the page\nvar svg = d3\n   .select(element.get(0))\n  .append(\"svg\")\n    .attr(\"width\", width + margin.left + margin.right)\n    .attr(\"height\", height + margin.top + margin.bottom)\n    .style(\"background\", \"none\")\n  .append(\"g\")\n    .attr(\"transform\",\n          \"translate(\" + margin.left + \",\" + margin.top + \")\")\n\n// Obtain title\nvar title = \"\"\nvar titleFontSize = 16\n\nif ( title.length > 0 ) {\n    svg.append(\"text\")\n        .attr(\"x\", (width / 2))\n        .attr(\"y\", 0 - (margin.top / 2))\n        .attr(\"text-anchor\", \"middle\")\n        .style(\"font-size\", titleFontSize.toString() + \"px\")\n        .style(\"fill\", \"Black\")\n        .text(title);\n}\n\n// Obtain x-axis label\nvar xAxisLabel = \"\"\nvar xAxisLabelFontSize = 12\n\nif ( xAxisLabel.length > 0 ) {\n    svg.append(\"text\")\n        .attr(\"x\", (width / 2))\n        .attr(\"y\", height + margin.bottom - xAxisLabelFontSize/2)\n        .attr(\"text-anchor\", \"middle\")\n        .style(\"font-size\", xAxisLabelFontSize.toString() + \"px\")\n        .style(\"fill\", \"Black\")\n        .text(xAxisLabel);\n}\n\n// Obtain y-axis label\nvar yAxisLabel = \"\"\nvar yAxisLabelFontSize = 12\n\nif ( yAxisLabel.length > 0 ) {\n    svg.append(\"text\")\n        .attr(\"transform\", \"rotate(-90)\")\n        .attr(\"x\", - (height / 2))\n        .attr(\"y\", 0 - margin.left + yAxisLabelFontSize)\n        .attr(\"text-anchor\", \"middle\")\n        .style(\"font-size\", yAxisLabelFontSize.toString() + \"px\")\n        .style(\"fill\", \"Black\")\n        .text(yAxisLabel);\n}\n\n\n// Obtain data\nvar data = [{\"x\":1,\"y\":2.9595092557080447e0},{\"x\":2,\"y\":8.531767643383239e0},{\"y\":1.594960735443085e0,\"x\":3},{\"y\":3.9006955684619715e0,\"x\":4},{\"x\":5,\"y\":8.645950044446373e0},{\"y\":9.70469598048775e0,\"x\":6},{\"y\":5.931018683851919e0,\"x\":7},{\"y\":8.055138048285688e0,\"x\":8},{\"y\":4.995271598675579e0,\"x\":9},{\"y\":5.7083377507208475e0,\"x\":10},{\"x\":11,\"y\":3.9869767240089873e0},{\"y\":7.347067886768319e0,\"x\":12},{\"y\":8.319671590583793e0,\"x\":13},{\"y\":2.9669569546810806e0,\"x\":14},{\"x\":15,\"y\":0.08401084643227641e0},{\"x\":16,\"y\":2.911715572691035e0},{\"y\":2.109352542948394e0,\"x\":17},{\"y\":6.0946255873841695e0,\"x\":18},{\"y\":8.277230094414964e0,\"x\":19},{\"x\":20,\"y\":1.9093910793027735e0},{\"y\":0.2173121525394206e0,\"x\":21},{\"x\":22,\"y\":6.1471965155474875e0},{\"x\":23,\"y\":1.6132494209418213e0},{\"y\":7.322929946585203e0,\"x\":24},{\"y\":1.9780958392053938e0,\"x\":25},{\"x\":26,\"y\":9.117063938627227e0},{\"x\":27,\"y\":6.362417014229712e0},{\"y\":4.69267749793217e0,\"x\":28},{\"y\":5.19000101661276e0,\"x\":29},{\"y\":3.313901039945989e0,\"x\":30},{\"x\":31,\"y\":2.194327225357661e0},{\"y\":1.0086916582527339e0,\"x\":32},{\"y\":9.551441921928891e0,\"x\":33},{\"x\":34,\"y\":3.4788013865359835e0},{\"y\":3.1788897281363693e0,\"x\":35},{\"x\":36,\"y\":2.5696471952148645e0},{\"y\":5.095437362210991e0,\"x\":37},{\"x\":38,\"y\":5.105173634019245e0},{\"y\":8.56316155748418e0,\"x\":39},{\"y\":2.3822234386586425e0,\"x\":40}]\n\nvar xMin = Math.min.apply(Math, data.map(function(o) { return o.x; }))\nvar xMax = Math.max.apply(Math, data.map(function(o) { return o.x; }))\n\nvar yMin = Math.min.apply(Math, data.map(function(o) { return o.y; }))\nvar yMax = Math.max.apply(Math, data.map(function(o) { return o.y; }))\n\n// X scale and Axis\nvar x = d3.scaleLinear()\n    .domain([xMin, xMax])\n    .range([0, width]);\n\n// Y scale and Axis\nvar y = d3.scaleLinear()\n    .domain([yMin, yMax])\n    .range([height, 0]);\n\nsvg\n  .append('g')\n  .attr(\"transform\", \"translate(0,\" + height + \")\")\n  .call(d3.axisBottom(x))\n\nsvg\n  .append('g')\n  .call(d3.axisLeft(y));\n\n// prepare a helper function\nvar lineFunc = d3.line()\n  .x(function(d) { return x(d.x) })\n  .y(function(d) { return y(d.y) })\n\n// Add the path using this helper function\nsvg.append('path')\n  .attr('d', lineFunc(data))\n  .attr(\"stroke-width\", 2)\n  .attr('stroke', \"steelblue\")\n  .attr('fill', 'none');\n\n}) })(element);\n"
     },
     "execution_count": 42,
     "metadata": {},
     "output_type": "execute_result"
    }
   ],
   "source": [
    "#% js\n",
    "js-d3-list-line-plot(10.rand xx 40, background => 'none', stroke-width => 2)"
   ]
  },
  {
   "cell_type": "markdown",
   "metadata": {},
   "source": [
    "Here we set a collection of visualization variables:"
   ]
  },
  {
   "cell_type": "code",
   "execution_count": 43,
   "metadata": {},
   "outputs": [
    {
     "data": {
      "text/plain": [
       "{background => #1F1F1F, edge-thickness => 3, title-color => Silver, vertex-size => 6}"
      ]
     },
     "execution_count": 43,
     "metadata": {},
     "output_type": "execute_result"
    }
   ],
   "source": [
    "my $title-color = 'Silver';\n",
    "my $stroke-color = 'SlateGray';\n",
    "my $tooltip-color = 'LightBlue';\n",
    "my $tooltip-background-color = 'none';\n",
    "my $tick-labels-font-size = 10;\n",
    "my $tick-labels-color = 'Silver';\n",
    "my $tick-labels-font-family = 'Helvetica';\n",
    "my $background = '#1F1F1F';\n",
    "my $color-scheme = 'schemeTableau10';\n",
    "my $edge-thickness = 3;\n",
    "my $vertex-size = 6;\n",
    "my $mmd-theme = q:to/END/;\n",
    "%%{\n",
    "  init: {\n",
    "    'theme': 'forest',\n",
    "    'themeVariables': {\n",
    "      'lineColor': 'Ivory'\n",
    "    }\n",
    "  }\n",
    "}%%\n",
    "END\n",
    "my %force = collision => {iterations => 0, radius => 10},link => {distance => 180};\n",
    "my %force2 = charge => {strength => -30, iterations => 4}, collision => {radius => 50, iterations => 4}, link => {distance => 30};\n",
    "\n",
    "my %opts = :$background, :$title-color, :$edge-thickness, :$vertex-size;"
   ]
  },
  {
   "cell_type": "markdown",
   "metadata": {},
   "source": [
    "------\n",
    "\n",
    "## Random graph matrix"
   ]
  },
  {
   "cell_type": "markdown",
   "metadata": {},
   "source": [
    "Here is a random graph using the Watts-Strogatz model:"
   ]
  },
  {
   "cell_type": "code",
   "execution_count": null,
   "metadata": {},
   "outputs": [],
   "source": [
    "#% js\n",
    "my $gl = Graph::Random.new: Graph::Distribution::WattsStrogatz.new(20,0.06);\n",
    "\n",
    "my $gp = Graph::Path.new: $gl.find-shortest-path('0','12'), :directed;\n",
    "\n",
    "my $grPlot = \n",
    "js-d3-graph-plot(\n",
    "    $gl.edges(:dataset),\n",
    "    highlight => [|$gp.vertex-list, |$gp.edge-list],\n",
    "    background => '1F1F1F', \n",
    "    title-color => 'Silver', \n",
    "    edge-thickness => 3,\n",
    "    vertex-size => 6,\n",
    "    width => 600,\n",
    "    force => {charge => {strength => -260, iterations => 2}, y => {strength => 0.2}, collision => {radius => 6, iterations => 10}, link => {distance => 4}}\n",
    "    )"
   ]
  },
  {
   "cell_type": "markdown",
   "metadata": {},
   "source": [
    "Here is the corresponding matrix:"
   ]
  },
  {
   "cell_type": "code",
   "execution_count": null,
   "metadata": {},
   "outputs": [],
   "source": [
    "#% js\n",
    "my $m = Math::SparseMatrix.new(edge-dataset => $gl.edges(:dataset), row-names => $gl.vertex-list.sort(*.Int));\n",
    "say $m;\n",
    "$m.Array ==> js-d3-matrix-plot(width => 400, margins => 15, :$tick-labels-font-size)"
   ]
  },
  {
   "cell_type": "markdown",
   "metadata": {},
   "source": [
    "Here the plots:\n",
    "- Graph matrix\n",
    "- Shortest path matrix\n",
    "- Sum of the corresponding matrices"
   ]
  },
  {
   "cell_type": "code",
   "execution_count": null,
   "metadata": {},
   "outputs": [],
   "source": [
    "#% js\n",
    "my $m2 = Math::SparseMatrix.new(edge-dataset => $gp.edges(:dataset), row-names => $m.row-names);\n",
    "\n",
    "my $m3 = $m.add($m2.multiply(0.75));\n",
    "\n",
    "# Vusualize\n",
    " my %opts = width => 350, margins => {top => 30, left => 16, right => 16, bottom => 16}, :$tick-labels-font-size, :$tick-labels-color, :$title-color, :!tooltip, color-palette => 'Inferno';\n",
    " [\n",
    "   js-d3-matrix-plot($m.Array, |%opts, title => 'Graph'),\n",
    "   js-d3-matrix-plot($m2.Array, |%opts, title => 'Shortest path graph'),\n",
    "   js-d3-matrix-plot($m3.Array, |%opts, title => 'Sum')\n",
    " ].join(\"\\n\")"
   ]
  },
  {
   "cell_type": "markdown",
   "metadata": {},
   "source": [
    "Here is \"plain\" print of the element-sum matrix:"
   ]
  },
  {
   "cell_type": "code",
   "execution_count": 47,
   "metadata": {},
   "outputs": [
    {
     "name": "stdout",
     "output_type": "stream",
     "text": [
      "––––––––––––––––––––––––––––––––––––––––––––––––––––––––––––––––––––––––––––––––––––––––––––––––––––––––\n",
      "     0    1    2    3    4    5    6    7    8    9    10   11   12   13   14   15   16   17   18   19  \n",
      "–––┼––––––––––––––––––––––––––––––––––––––––––––––––––––––––––––––––––––––––––––––––––––––––––––––––––––\n",
      "0  │ .    1.75 1    .    .    .    .    .    .    .    .    .    .    .    .    .    .    .    1    1   \n",
      "1  │ 1.75 .    1    1    .    .    .    .    .    .    .    .    1.75 .    .    .    .    .    .    1   \n",
      "2  │ 1    1    .    1    1    .    .    .    .    .    .    .    .    .    .    .    1    .    .    .   \n",
      "3  │ .    1    1    .    1    1    .    .    .    .    .    .    .    .    .    .    .    .    .    .   \n",
      "4  │ .    .    1    1    .    1    1    .    .    .    .    .    .    .    .    .    .    .    1    .   \n",
      "5  │ .    .    .    1    1    .    1    1    .    .    .    .    .    .    .    .    .    .    .    .   \n",
      "6  │ .    .    .    .    1    1    .    1    1    .    .    .    .    .    .    .    .    .    .    .   \n",
      "7  │ .    .    .    .    .    1    1    .    1    1    .    .    .    .    .    .    .    .    .    .   \n",
      "8  │ .    .    .    .    .    .    1    1    .    1    1    .    .    .    .    .    .    .    .    .   \n",
      "9  │ .    .    .    .    .    .    .    1    1    .    1    1    .    .    .    .    .    .    .    .   \n",
      "10 │ .    .    .    .    .    .    .    .    1    1    .    1    1    .    .    .    .    .    1    .   \n",
      "11 │ .    .    .    .    .    .    .    .    .    1    1    .    1    1    .    .    .    .    .    .   \n",
      "12 │ .    1.75 .    .    .    .    .    .    .    .    1    1    .    1    1    .    .    .    .    .   \n",
      "13 │ .    .    .    .    .    .    .    .    .    .    .    1    1    .    1    1    .    .    .    .   \n",
      "14 │ .    .    .    .    .    .    .    .    .    .    .    .    1    1    .    1    1    .    .    .   \n",
      "15 │ .    .    .    .    .    .    .    .    .    .    .    .    .    1    1    .    1    1    .    .   \n",
      "16 │ .    .    1    .    .    .    .    .    .    .    .    .    .    .    1    1    .    1    1    .   \n",
      "17 │ .    .    .    .    .    .    .    .    .    .    .    .    .    .    .    1    1    .    1    1   \n",
      "18 │ 1    .    .    .    1    .    .    .    .    .    1    .    .    .    .    .    1    1    .    1   \n",
      "19 │ 1    1    .    .    .    .    .    .    .    .    .    .    .    .    .    .    .    1    1    .   \n"
     ]
    }
   ],
   "source": [
    "$m3.print"
   ]
  },
  {
   "cell_type": "markdown",
   "metadata": {},
   "source": [
    "Let us compare the graph and the \"sum matrix\" side-by-side:"
   ]
  },
  {
   "cell_type": "code",
   "execution_count": null,
   "metadata": {},
   "outputs": [],
   "source": [
    "#% js\n",
    "[\n",
    "    $grPlot,\n",
    "    js-d3-matrix-plot($m3.Array, margins => 16, :$tick-labels-font-size, :$tick-labels-color, width => 400, color-palette => 'Inferno')\n",
    "].join(\"\\n\")"
   ]
  },
  {
   "cell_type": "markdown",
   "metadata": {},
   "source": [
    "-----\n",
    "\n",
    "## Ingest data movie-actor data"
   ]
  },
  {
   "cell_type": "markdown",
   "metadata": {},
   "source": [
    "Here we ingest a CSV file with movie data:"
   ]
  },
  {
   "cell_type": "code",
   "execution_count": 49,
   "metadata": {},
   "outputs": [
    {
     "data": {
      "text/plain": [
       "Vector(Assoc(Atom((Str)), Atom((Str)), 6), 40)"
      ]
     },
     "execution_count": 49,
     "metadata": {},
     "output_type": "execute_result"
    }
   ],
   "source": [
    "my $file = $*CWD ~ '/Sparse-matrices/dsMovieRecords.csv';\n",
    "my @dsMovieRecords = data-import($file, 'csv', headers => 'auto');\n",
    "\n",
    "deduce-type(@dsMovieRecords)"
   ]
  },
  {
   "cell_type": "markdown",
   "metadata": {},
   "source": [
    "Tabular form of the movie data:"
   ]
  },
  {
   "cell_type": "code",
   "execution_count": 50,
   "metadata": {},
   "outputs": [
    {
     "data": {
      "text/html": [
       "<table border=\"1\"><thead><tr><th>Movie</th><th>Actor</th><th>Genre1</th><th>Genre2</th><th>Genre3</th><th>BoxOffice</th></tr></thead><tbody><tr><td>The Lord of the Rings: The Fellowship of the Ring</td><td>Elijah Wood</td><td>fantasy</td><td>adventure</td><td>action</td><td>3.148e8</td></tr><tr><td>The Lord of the Rings: The Fellowship of the Ring</td><td>Ian McKellen</td><td>fantasy</td><td>adventure</td><td>action</td><td>3.148e8</td></tr><tr><td>The Lord of the Rings: The Fellowship of the Ring</td><td>Viggo Mortensen</td><td>fantasy</td><td>adventure</td><td>action</td><td>3.148e8</td></tr><tr><td>The Lord of the Rings: The Fellowship of the Ring</td><td>Liv Tyler</td><td>fantasy</td><td>adventure</td><td>action</td><td>3.148e8</td></tr><tr><td>The Lord of the Rings: The Fellowship of the Ring</td><td>Sean Astin</td><td>fantasy</td><td>adventure</td><td>action</td><td>3.148e8</td></tr><tr><td>The Lord of the Rings: The Two Towers</td><td>Elijah Wood</td><td>fantasy</td><td>adventure</td><td>action</td><td>3.418e8</td></tr><tr><td>The Lord of the Rings: The Two Towers</td><td>Sean Astin</td><td>fantasy</td><td>adventure</td><td>action</td><td>3.418e8</td></tr><tr><td>The Lord of the Rings: The Two Towers</td><td>Viggo Mortensen</td><td>fantasy</td><td>adventure</td><td>action</td><td>3.418e8</td></tr><tr><td>The Lord of the Rings: The Two Towers</td><td>Orlando Bloom</td><td>fantasy</td><td>adventure</td><td>action</td><td>3.418e8</td></tr><tr><td>The Lord of the Rings: The Two Towers</td><td>Andy Serkis</td><td>fantasy</td><td>adventure</td><td>action</td><td>3.418e8</td></tr><tr><td>The Lord of the Rings: The Return of the King</td><td>Elijah Wood</td><td>fantasy</td><td>adventure</td><td>action</td><td>3.77e8</td></tr><tr><td>The Lord of the Rings: The Return of the King</td><td>Sean Astin</td><td>fantasy</td><td>adventure</td><td>action</td><td>3.77e8</td></tr><tr><td>The Lord of the Rings: The Return of the King</td><td>Viggo Mortensen</td><td>fantasy</td><td>adventure</td><td>action</td><td>3.77e8</td></tr><tr><td>The Lord of the Rings: The Return of the King</td><td>Ian McKellen</td><td>fantasy</td><td>adventure</td><td>action</td><td>3.77e8</td></tr><tr><td>The Lord of the Rings: The Return of the King</td><td>Orlando Bloom</td><td>fantasy</td><td>adventure</td><td>action</td><td>3.77e8</td></tr><tr><td>X2</td><td>Patrick Stewart</td><td>sci-fi</td><td>action</td><td>thriller</td><td>2.149e8</td></tr><tr><td>X2</td><td>Hugh Jackman</td><td>sci-fi</td><td>action</td><td>thriller</td><td>2.149e8</td></tr><tr><td>X2</td><td>Ian McKellen</td><td>sci-fi</td><td>action</td><td>thriller</td><td>2.149e8</td></tr><tr><td>X2</td><td>Halle Berry</td><td>sci-fi</td><td>action</td><td>thriller</td><td>2.149e8</td></tr><tr><td>X2</td><td>Rebecca Romijn</td><td>sci-fi</td><td>action</td><td>thriller</td><td>2.149e8</td></tr><tr><td>X-Men: The Last Stand</td><td>Patrick Stewart</td><td>sci-fi</td><td>action</td><td>thriller</td><td>2.344e8</td></tr><tr><td>X-Men: The Last Stand</td><td>Halle Berry</td><td>sci-fi</td><td>action</td><td>thriller</td><td>2.344e8</td></tr><tr><td>X-Men: The Last Stand</td><td>Ian McKellen</td><td>sci-fi</td><td>action</td><td>thriller</td><td>2.344e8</td></tr><tr><td>X-Men: The Last Stand</td><td>Famke Janssen</td><td>sci-fi</td><td>action</td><td>thriller</td><td>2.344e8</td></tr><tr><td>X-Men: The Last Stand</td><td>Anna Paquin</td><td>sci-fi</td><td>action</td><td>thriller</td><td>2.344e8</td></tr><tr><td>Pirates of the Caribbean: The Curse of the Black Pearl</td><td>Johnny Depp</td><td>fantasy</td><td>adventure</td><td>action</td><td>3.054e8</td></tr><tr><td>Pirates of the Caribbean: The Curse of the Black Pearl</td><td>Geoffrey Rush</td><td>fantasy</td><td>adventure</td><td>action</td><td>3.054e8</td></tr><tr><td>Pirates of the Caribbean: The Curse of the Black Pearl</td><td>Orlando Bloom</td><td>fantasy</td><td>adventure</td><td>action</td><td>3.054e8</td></tr><tr><td>Pirates of the Caribbean: The Curse of the Black Pearl</td><td>Keira Knightley</td><td>fantasy</td><td>adventure</td><td>action</td><td>3.054e8</td></tr><tr><td>Pirates of the Caribbean: The Curse of the Black Pearl</td><td>Jack Davenport</td><td>fantasy</td><td>adventure</td><td>action</td><td>3.054e8</td></tr><tr><td>Pirates of the Caribbean: Dead Man&#39;s Chest</td><td>Johnny Depp</td><td>fantasy</td><td>adventure</td><td>action</td><td>4.2329999999999994e8</td></tr><tr><td>Pirates of the Caribbean: Dead Man&#39;s Chest</td><td>Orlando Bloom</td><td>fantasy</td><td>adventure</td><td>action</td><td>4.2329999999999994e8</td></tr><tr><td>Pirates of the Caribbean: Dead Man&#39;s Chest</td><td>Keira Knightley</td><td>fantasy</td><td>adventure</td><td>action</td><td>4.2329999999999994e8</td></tr><tr><td>Pirates of the Caribbean: Dead Man&#39;s Chest</td><td>Bill Nighy</td><td>fantasy</td><td>adventure</td><td>action</td><td>4.2329999999999994e8</td></tr><tr><td>Pirates of the Caribbean: Dead Man&#39;s Chest</td><td>Stellan Skarsgård</td><td>fantasy</td><td>adventure</td><td>action</td><td>4.2329999999999994e8</td></tr><tr><td>Pirates of the Caribbean: At World&#39;s End</td><td>Johnny Depp</td><td>fantasy</td><td>adventure</td><td>action</td><td>3.094e8</td></tr><tr><td>Pirates of the Caribbean: At World&#39;s End</td><td>Bill Nighy</td><td>fantasy</td><td>adventure</td><td>action</td><td>3.094e8</td></tr><tr><td>Pirates of the Caribbean: At World&#39;s End</td><td>Orlando Bloom</td><td>fantasy</td><td>adventure</td><td>action</td><td>3.094e8</td></tr><tr><td>Pirates of the Caribbean: At World&#39;s End</td><td>Geoffrey Rush</td><td>fantasy</td><td>adventure</td><td>action</td><td>3.094e8</td></tr><tr><td>Pirates of the Caribbean: At World&#39;s End</td><td>Keira Knightley</td><td>fantasy</td><td>adventure</td><td>action</td><td>3.094e8</td></tr></tbody></table>"
      ]
     },
     "execution_count": 50,
     "metadata": {},
     "output_type": "execute_result"
    }
   ],
   "source": [
    "#% html\n",
    "my @field-names = <Movie Actor Genre1 Genre2 Genre3 BoxOffice>;\n",
    "@dsMovieRecords ==> to-html(:@field-names)"
   ]
  },
  {
   "cell_type": "markdown",
   "metadata": {},
   "source": [
    "Summary:"
   ]
  },
  {
   "cell_type": "code",
   "execution_count": 53,
   "metadata": {},
   "outputs": [
    {
     "name": "stdout",
     "output_type": "stream",
     "text": [
      "+-------------------------------------------------------------+-----------------------+---------------+-----------------+----------------+---------------------------+\n",
      "| Movie                                                       | Actor                 | Genre1        | Genre2          | Genre3         | BoxOffice                 |\n",
      "+-------------------------------------------------------------+-----------------------+---------------+-----------------+----------------+---------------------------+\n",
      "| Pirates of the Caribbean: At World's End               => 5 | Orlando Bloom   => 5  | fantasy => 30 | adventure => 30 | action   => 30 | 2.344e8              => 5 |\n",
      "| X2                                                     => 5 | Ian McKellen    => 4  | sci-fi  => 10 | action    => 10 | thriller => 10 | 3.418e8              => 5 |\n",
      "| Pirates of the Caribbean: The Curse of the Black Pearl => 5 | Johnny Depp     => 3  |               |                 |                | 3.054e8              => 5 |\n",
      "| The Lord of the Rings: The Fellowship of the Ring      => 5 | Sean Astin      => 3  |               |                 |                | 4.2329999999999994e8 => 5 |\n",
      "| The Lord of the Rings: The Return of the King          => 5 | Viggo Mortensen => 3  |               |                 |                | 2.149e8              => 5 |\n",
      "| X-Men: The Last Stand                                  => 5 | Elijah Wood     => 3  |               |                 |                | 3.77e8               => 5 |\n",
      "| Pirates of the Caribbean: Dead Man's Chest             => 5 | Keira Knightley => 3  |               |                 |                | 3.148e8              => 5 |\n",
      "| The Lord of the Rings: The Two Towers                  => 5 | Patrick Stewart => 2  |               |                 |                | 3.094e8              => 5 |\n",
      "|                                                             | (Other)         => 14 |               |                 |                |                           |\n",
      "+-------------------------------------------------------------+-----------------------+---------------+-----------------+----------------+---------------------------+\n"
     ]
    }
   ],
   "source": [
    "sink records-summary(@dsMovieRecords, :@field-names, :8max-tallies)"
   ]
  },
  {
   "cell_type": "markdown",
   "metadata": {},
   "source": [
    "-----\n",
    "\n",
    "## Bipartite graph"
   ]
  },
  {
   "cell_type": "markdown",
   "metadata": {},
   "source": [
    "Here we make a graph based on the movie-actor relationships:"
   ]
  },
  {
   "cell_type": "code",
   "execution_count": 14,
   "metadata": {},
   "outputs": [
    {
     "data": {
      "text/plain": [
       "Graph(vertexes => 27, edges => 40, directed => False)"
      ]
     },
     "execution_count": 14,
     "metadata": {},
     "output_type": "execute_result"
    }
   ],
   "source": [
    "my @rules = @dsMovieRecords.map({ $_<Movie> => $_<Actor> });\n",
    "my $g = Graph.new(@rules) "
   ]
  },
  {
   "cell_type": "markdown",
   "metadata": {},
   "source": [
    "The graph is bi-partite:"
   ]
  },
  {
   "cell_type": "code",
   "execution_count": 15,
   "metadata": {},
   "outputs": [
    {
     "data": {
      "text/plain": [
       "True"
      ]
     },
     "execution_count": 15,
     "metadata": {},
     "output_type": "execute_result"
    }
   ],
   "source": [
    "$g.is-bipartite"
   ]
  },
  {
   "cell_type": "markdown",
   "metadata": {},
   "source": [
    "Here is the coloring:"
   ]
  },
  {
   "cell_type": "code",
   "execution_count": 16,
   "metadata": {},
   "outputs": [
    {
     "name": "stdout",
     "output_type": "stream",
     "text": [
      "1 => [X2 => 1 Pirates of the Caribbean: Dead Man's Chest => 1 Pirates of the Caribbean: At World's End => 1 The Lord of the Rings: The Two Towers => 1 X-Men: The Last Stand => 1 The Lord of the Rings: The Return of the King => 1 Pirates of the Caribbean: The Curse of the Black Pearl => 1 The Lord of the Rings: The Fellowship of the Ring => 1]\n",
      "0 => [Jack Davenport => 0 Halle Berry => 0 Geoffrey Rush => 0 Johnny Depp => 0 Viggo Mortensen => 0 Bill Nighy => 0 Rebecca Romijn => 0 Ian McKellen => 0 Hugh Jackman => 0 Orlando Bloom => 0 Anna Paquin => 0 Patrick Stewart => 0 Elijah Wood => 0 Andy Serkis => 0 Famke Janssen => 0 Liv Tyler => 0 Stellan Skarsgård => 0 Keira Knightley => 0 Sean Astin => 0]\n"
     ]
    }
   ],
   "source": [
    ".say for $g.bipartite-coloring.classify(*.value)"
   ]
  },
  {
   "cell_type": "code",
   "execution_count": null,
   "metadata": {},
   "outputs": [],
   "source": [
    "#% js\n",
    "\n",
    "$g.edges(:dataset) \n",
    "==> js-d3-graph-plot(\n",
    "        highlight => @dsMovieRecords.map(*<Actor>).List,\n",
    "        :$background, \n",
    "        title-color => 'silver',  \n",
    "        width => 1000, \n",
    "        :$edge-thickness,\n",
    "        :$vertex-size,\n",
    "        vertex-color => 'Red',\n",
    "        vertex-label-font-size => 12,\n",
    "        vertex-label-color => 'Grey',\n",
    "        vertex-label-font-family => 'Helvetica',\n",
    "        :!directed,\n",
    "        force => {charge => {strength => -680, iterations => 2}, collision => {radius => 10, iterations => 1}, link => {minDistance => 10}}\n",
    "    )"
   ]
  },
  {
   "cell_type": "markdown",
   "metadata": {},
   "source": [
    "------\n",
    "\n",
    "## Sparse matrix"
   ]
  },
  {
   "cell_type": "markdown",
   "metadata": {},
   "source": [
    "Here we make the sparse matrix for movie-actor starring relationship:"
   ]
  },
  {
   "cell_type": "code",
   "execution_count": 18,
   "metadata": {},
   "outputs": [
    {
     "data": {
      "text/plain": [
       "{Andy Serkis => 8, Anna Paquin => 9, Bill Nighy => 10, Elijah Wood => 11, Famke Janssen => 12, Geoffrey Rush => 13, Halle Berry => 14, Hugh Jackman => 15, Ian McKellen => 16, Jack Davenport => 17, Johnny Depp => 18, Keira Knightley => 19, Liv Tyler => 20, Orlando Bloom => 21, Patrick Stewart => 22, Pirates of the Caribbean: At World's End => 0, Pirates of the Caribbean: Dead Man's Chest => 1, Pirates of the Caribbean: The Curse of the Black Pearl => 2, Rebecca Romijn => 23, Sean Astin => 24, Stellan Skarsgård => 25, The Lord of the Rings: The Fellowship of the Ring => 3, The Lord of the Rings: The Return of the King => 4, The Lord of the Rings: The Two Towers => 5, Viggo Mortensen => 26, X-Men: The Last Stand => 6, X2 => 7}"
      ]
     },
     "execution_count": 18,
     "metadata": {},
     "output_type": "execute_result"
    }
   ],
   "source": [
    "my @allVertexNames = [|@dsMovieRecords.map(*<Movie>).unique.sort, |@dsMovieRecords.map(*<Actor>).unique.sort];\n",
    "my %h = @allVertexNames Z=> ^@allVertexNames.elems;"
   ]
  },
  {
   "cell_type": "code",
   "execution_count": 19,
   "metadata": {},
   "outputs": [
    {
     "name": "stdout",
     "output_type": "stream",
     "text": [
      "Pirates of the Caribbean: At World's End\n",
      "Pirates of the Caribbean: Dead Man's Chest\n",
      "Pirates of the Caribbean: The Curse of the Black Pearl\n",
      "The Lord of the Rings: The Fellowship of the Ring\n",
      "The Lord of the Rings: The Return of the King\n",
      "The Lord of the Rings: The Two Towers\n",
      "X-Men: The Last Stand\n",
      "X2\n",
      "Andy Serkis\n",
      "Anna Paquin\n",
      "Bill Nighy\n",
      "Elijah Wood\n",
      "Famke Janssen\n",
      "Geoffrey Rush\n",
      "Halle Berry\n",
      "Hugh Jackman\n",
      "Ian McKellen\n",
      "Jack Davenport\n",
      "Johnny Depp\n",
      "Keira Knightley\n",
      "Liv Tyler\n",
      "Orlando Bloom\n",
      "Patrick Stewart\n",
      "Rebecca Romijn\n",
      "Sean Astin\n",
      "Stellan Skarsgård\n",
      "Viggo Mortensen\n"
     ]
    }
   ],
   "source": [
    ".say for @allVertexNames"
   ]
  },
  {
   "cell_type": "markdown",
   "metadata": {},
   "source": [
    "Here we make the sparse matrix of the bi-partite graph:"
   ]
  },
  {
   "cell_type": "code",
   "execution_count": 20,
   "metadata": {},
   "outputs": [
    {
     "data": {
      "text/plain": [
       "Math::SparseMatrix(:specified-elements(80), :dimensions((27, 27)), :density(<80/729>))"
      ]
     },
     "execution_count": 20,
     "metadata": {},
     "output_type": "execute_result"
    }
   ],
   "source": [
    "my $m = Math::SparseMatrix.new(edge-dataset => $g.edges(:dataset))\n",
    "#my $m = Math::SparseMatrix.new(edge-dataset => $g.edges(:dataset), row-names => @allVertexNames)"
   ]
  },
  {
   "cell_type": "code",
   "execution_count": null,
   "metadata": {},
   "outputs": [],
   "source": [
    "#%js\n",
    "$m.Array ==> js-d3-matrix-plot(width=>400)"
   ]
  },
  {
   "cell_type": "markdown",
   "metadata": {},
   "source": [
    "It is not obvious that the matrix represents bipartite graph, hence we \"restructure\" it by using pre-arranged movie-actor row- and column-names:"
   ]
  },
  {
   "cell_type": "code",
   "execution_count": 22,
   "metadata": {},
   "outputs": [
    {
     "data": {
      "text/plain": [
       "Math::SparseMatrix(:specified-elements(80), :dimensions((27, 27)), :density(<80/729>))"
      ]
     },
     "execution_count": 22,
     "metadata": {},
     "output_type": "execute_result"
    }
   ],
   "source": [
    "$m = $m[@allVertexNames; @allVertexNames]"
   ]
  },
  {
   "cell_type": "markdown",
   "metadata": {},
   "source": [
    "Now the matrix plot clearly shows the corresponding graph is bipartite:"
   ]
  },
  {
   "cell_type": "code",
   "execution_count": null,
   "metadata": {},
   "outputs": [],
   "source": [
    "#%js\n",
    "$m.Array ==> js-d3-matrix-plot(width=>400)"
   ]
  },
  {
   "cell_type": "markdown",
   "metadata": {},
   "source": [
    "Instead of a matrix plot we can make an HTML \"pretty print\" of the sparse matrix:"
   ]
  },
  {
   "cell_type": "code",
   "execution_count": 24,
   "metadata": {},
   "outputs": [
    {
     "data": {
      "text/html": [
       "<table border=\"1\"><thead><tr><th></th><th style=\"writing-mode: vertical-rl; white-space: nowrap; vertical-align: bottom;\">Pirates of the Caribbean: At World's End</th><th style=\"writing-mode: vertical-rl; white-space: nowrap; vertical-align: bottom;\">Pirates of the Caribbean: Dead Man's Chest</th><th style=\"writing-mode: vertical-rl; white-space: nowrap; vertical-align: bottom;\">Pirates of the Caribbean: The Curse of the Black Pearl</th><th style=\"writing-mode: vertical-rl; white-space: nowrap; vertical-align: bottom;\">The Lord of the Rings: The Fellowship of the Ring</th><th style=\"writing-mode: vertical-rl; white-space: nowrap; vertical-align: bottom;\">The Lord of the Rings: The Return of the King</th><th style=\"writing-mode: vertical-rl; white-space: nowrap; vertical-align: bottom;\">The Lord of the Rings: The Two Towers</th><th style=\"writing-mode: vertical-rl; white-space: nowrap; vertical-align: bottom;\">X-Men: The Last Stand</th><th style=\"writing-mode: vertical-rl; white-space: nowrap; vertical-align: bottom;\">X2</th><th style=\"writing-mode: vertical-rl; white-space: nowrap; vertical-align: bottom;\">Andy Serkis</th><th style=\"writing-mode: vertical-rl; white-space: nowrap; vertical-align: bottom;\">Anna Paquin</th><th style=\"writing-mode: vertical-rl; white-space: nowrap; vertical-align: bottom;\">Bill Nighy</th><th style=\"writing-mode: vertical-rl; white-space: nowrap; vertical-align: bottom;\">Elijah Wood</th><th style=\"writing-mode: vertical-rl; white-space: nowrap; vertical-align: bottom;\">Famke Janssen</th><th style=\"writing-mode: vertical-rl; white-space: nowrap; vertical-align: bottom;\">Geoffrey Rush</th><th style=\"writing-mode: vertical-rl; white-space: nowrap; vertical-align: bottom;\">Halle Berry</th><th style=\"writing-mode: vertical-rl; white-space: nowrap; vertical-align: bottom;\">Hugh Jackman</th><th style=\"writing-mode: vertical-rl; white-space: nowrap; vertical-align: bottom;\">Ian McKellen</th><th style=\"writing-mode: vertical-rl; white-space: nowrap; vertical-align: bottom;\">Jack Davenport</th><th style=\"writing-mode: vertical-rl; white-space: nowrap; vertical-align: bottom;\">Johnny Depp</th><th style=\"writing-mode: vertical-rl; white-space: nowrap; vertical-align: bottom;\">Keira Knightley</th><th style=\"writing-mode: vertical-rl; white-space: nowrap; vertical-align: bottom;\">Liv Tyler</th><th style=\"writing-mode: vertical-rl; white-space: nowrap; vertical-align: bottom;\">Orlando Bloom</th><th style=\"writing-mode: vertical-rl; white-space: nowrap; vertical-align: bottom;\">Patrick Stewart</th><th style=\"writing-mode: vertical-rl; white-space: nowrap; vertical-align: bottom;\">Rebecca Romijn</th><th style=\"writing-mode: vertical-rl; white-space: nowrap; vertical-align: bottom;\">Sean Astin</th><th style=\"writing-mode: vertical-rl; white-space: nowrap; vertical-align: bottom;\">Stellan Skarsgård</th><th style=\"writing-mode: vertical-rl; white-space: nowrap; vertical-align: bottom;\">Viggo Mortensen</th></tr></thead><tr><th>Pirates of the Caribbean: At World's End</th><td>.</td><td>.</td><td>.</td><td>.</td><td>.</td><td>.</td><td>.</td><td>.</td><td>.</td><td>.</td><td><b>●</b></td><td>.</td><td>.</td><td><b>●</b></td><td>.</td><td>.</td><td>.</td><td>.</td><td><b>●</b></td><td><b>●</b></td><td>.</td><td><b>●</b></td><td>.</td><td>.</td><td>.</td><td>.</td><td>.</td></tr><tr><th>Pirates of the Caribbean: Dead Man's Chest</th><td>.</td><td>.</td><td>.</td><td>.</td><td>.</td><td>.</td><td>.</td><td>.</td><td>.</td><td>.</td><td><b>●</b></td><td>.</td><td>.</td><td>.</td><td>.</td><td>.</td><td>.</td><td>.</td><td><b>●</b></td><td><b>●</b></td><td>.</td><td><b>●</b></td><td>.</td><td>.</td><td>.</td><td><b>●</b></td><td>.</td></tr><tr><th>Pirates of the Caribbean: The Curse of the Black Pearl</th><td>.</td><td>.</td><td>.</td><td>.</td><td>.</td><td>.</td><td>.</td><td>.</td><td>.</td><td>.</td><td>.</td><td>.</td><td>.</td><td><b>●</b></td><td>.</td><td>.</td><td>.</td><td><b>●</b></td><td><b>●</b></td><td><b>●</b></td><td>.</td><td><b>●</b></td><td>.</td><td>.</td><td>.</td><td>.</td><td>.</td></tr><tr><th>The Lord of the Rings: The Fellowship of the Ring</th><td>.</td><td>.</td><td>.</td><td>.</td><td>.</td><td>.</td><td>.</td><td>.</td><td>.</td><td>.</td><td>.</td><td><b>●</b></td><td>.</td><td>.</td><td>.</td><td>.</td><td><b>●</b></td><td>.</td><td>.</td><td>.</td><td><b>●</b></td><td>.</td><td>.</td><td>.</td><td><b>●</b></td><td>.</td><td><b>●</b></td></tr><tr><th>The Lord of the Rings: The Return of the King</th><td>.</td><td>.</td><td>.</td><td>.</td><td>.</td><td>.</td><td>.</td><td>.</td><td>.</td><td>.</td><td>.</td><td><b>●</b></td><td>.</td><td>.</td><td>.</td><td>.</td><td><b>●</b></td><td>.</td><td>.</td><td>.</td><td>.</td><td><b>●</b></td><td>.</td><td>.</td><td><b>●</b></td><td>.</td><td><b>●</b></td></tr><tr><th>The Lord of the Rings: The Two Towers</th><td>.</td><td>.</td><td>.</td><td>.</td><td>.</td><td>.</td><td>.</td><td>.</td><td><b>●</b></td><td>.</td><td>.</td><td><b>●</b></td><td>.</td><td>.</td><td>.</td><td>.</td><td>.</td><td>.</td><td>.</td><td>.</td><td>.</td><td><b>●</b></td><td>.</td><td>.</td><td><b>●</b></td><td>.</td><td><b>●</b></td></tr><tr><th>X-Men: The Last Stand</th><td>.</td><td>.</td><td>.</td><td>.</td><td>.</td><td>.</td><td>.</td><td>.</td><td>.</td><td><b>●</b></td><td>.</td><td>.</td><td><b>●</b></td><td>.</td><td><b>●</b></td><td>.</td><td><b>●</b></td><td>.</td><td>.</td><td>.</td><td>.</td><td>.</td><td><b>●</b></td><td>.</td><td>.</td><td>.</td><td>.</td></tr><tr><th>X2</th><td>.</td><td>.</td><td>.</td><td>.</td><td>.</td><td>.</td><td>.</td><td>.</td><td>.</td><td>.</td><td>.</td><td>.</td><td>.</td><td>.</td><td><b>●</b></td><td><b>●</b></td><td><b>●</b></td><td>.</td><td>.</td><td>.</td><td>.</td><td>.</td><td><b>●</b></td><td><b>●</b></td><td>.</td><td>.</td><td>.</td></tr><tr><th>Andy Serkis</th><td>.</td><td>.</td><td>.</td><td>.</td><td>.</td><td><b>●</b></td><td>.</td><td>.</td><td>.</td><td>.</td><td>.</td><td>.</td><td>.</td><td>.</td><td>.</td><td>.</td><td>.</td><td>.</td><td>.</td><td>.</td><td>.</td><td>.</td><td>.</td><td>.</td><td>.</td><td>.</td><td>.</td></tr><tr><th>Anna Paquin</th><td>.</td><td>.</td><td>.</td><td>.</td><td>.</td><td>.</td><td><b>●</b></td><td>.</td><td>.</td><td>.</td><td>.</td><td>.</td><td>.</td><td>.</td><td>.</td><td>.</td><td>.</td><td>.</td><td>.</td><td>.</td><td>.</td><td>.</td><td>.</td><td>.</td><td>.</td><td>.</td><td>.</td></tr><tr><th>Bill Nighy</th><td><b>●</b></td><td><b>●</b></td><td>.</td><td>.</td><td>.</td><td>.</td><td>.</td><td>.</td><td>.</td><td>.</td><td>.</td><td>.</td><td>.</td><td>.</td><td>.</td><td>.</td><td>.</td><td>.</td><td>.</td><td>.</td><td>.</td><td>.</td><td>.</td><td>.</td><td>.</td><td>.</td><td>.</td></tr><tr><th>Elijah Wood</th><td>.</td><td>.</td><td>.</td><td><b>●</b></td><td><b>●</b></td><td><b>●</b></td><td>.</td><td>.</td><td>.</td><td>.</td><td>.</td><td>.</td><td>.</td><td>.</td><td>.</td><td>.</td><td>.</td><td>.</td><td>.</td><td>.</td><td>.</td><td>.</td><td>.</td><td>.</td><td>.</td><td>.</td><td>.</td></tr><tr><th>Famke Janssen</th><td>.</td><td>.</td><td>.</td><td>.</td><td>.</td><td>.</td><td><b>●</b></td><td>.</td><td>.</td><td>.</td><td>.</td><td>.</td><td>.</td><td>.</td><td>.</td><td>.</td><td>.</td><td>.</td><td>.</td><td>.</td><td>.</td><td>.</td><td>.</td><td>.</td><td>.</td><td>.</td><td>.</td></tr><tr><th>Geoffrey Rush</th><td><b>●</b></td><td>.</td><td><b>●</b></td><td>.</td><td>.</td><td>.</td><td>.</td><td>.</td><td>.</td><td>.</td><td>.</td><td>.</td><td>.</td><td>.</td><td>.</td><td>.</td><td>.</td><td>.</td><td>.</td><td>.</td><td>.</td><td>.</td><td>.</td><td>.</td><td>.</td><td>.</td><td>.</td></tr><tr><th>Halle Berry</th><td>.</td><td>.</td><td>.</td><td>.</td><td>.</td><td>.</td><td><b>●</b></td><td><b>●</b></td><td>.</td><td>.</td><td>.</td><td>.</td><td>.</td><td>.</td><td>.</td><td>.</td><td>.</td><td>.</td><td>.</td><td>.</td><td>.</td><td>.</td><td>.</td><td>.</td><td>.</td><td>.</td><td>.</td></tr><tr><th>Hugh Jackman</th><td>.</td><td>.</td><td>.</td><td>.</td><td>.</td><td>.</td><td>.</td><td><b>●</b></td><td>.</td><td>.</td><td>.</td><td>.</td><td>.</td><td>.</td><td>.</td><td>.</td><td>.</td><td>.</td><td>.</td><td>.</td><td>.</td><td>.</td><td>.</td><td>.</td><td>.</td><td>.</td><td>.</td></tr><tr><th>Ian McKellen</th><td>.</td><td>.</td><td>.</td><td><b>●</b></td><td><b>●</b></td><td>.</td><td><b>●</b></td><td><b>●</b></td><td>.</td><td>.</td><td>.</td><td>.</td><td>.</td><td>.</td><td>.</td><td>.</td><td>.</td><td>.</td><td>.</td><td>.</td><td>.</td><td>.</td><td>.</td><td>.</td><td>.</td><td>.</td><td>.</td></tr><tr><th>Jack Davenport</th><td>.</td><td>.</td><td><b>●</b></td><td>.</td><td>.</td><td>.</td><td>.</td><td>.</td><td>.</td><td>.</td><td>.</td><td>.</td><td>.</td><td>.</td><td>.</td><td>.</td><td>.</td><td>.</td><td>.</td><td>.</td><td>.</td><td>.</td><td>.</td><td>.</td><td>.</td><td>.</td><td>.</td></tr><tr><th>Johnny Depp</th><td><b>●</b></td><td><b>●</b></td><td><b>●</b></td><td>.</td><td>.</td><td>.</td><td>.</td><td>.</td><td>.</td><td>.</td><td>.</td><td>.</td><td>.</td><td>.</td><td>.</td><td>.</td><td>.</td><td>.</td><td>.</td><td>.</td><td>.</td><td>.</td><td>.</td><td>.</td><td>.</td><td>.</td><td>.</td></tr><tr><th>Keira Knightley</th><td><b>●</b></td><td><b>●</b></td><td><b>●</b></td><td>.</td><td>.</td><td>.</td><td>.</td><td>.</td><td>.</td><td>.</td><td>.</td><td>.</td><td>.</td><td>.</td><td>.</td><td>.</td><td>.</td><td>.</td><td>.</td><td>.</td><td>.</td><td>.</td><td>.</td><td>.</td><td>.</td><td>.</td><td>.</td></tr><tr><th>Liv Tyler</th><td>.</td><td>.</td><td>.</td><td><b>●</b></td><td>.</td><td>.</td><td>.</td><td>.</td><td>.</td><td>.</td><td>.</td><td>.</td><td>.</td><td>.</td><td>.</td><td>.</td><td>.</td><td>.</td><td>.</td><td>.</td><td>.</td><td>.</td><td>.</td><td>.</td><td>.</td><td>.</td><td>.</td></tr><tr><th>Orlando Bloom</th><td><b>●</b></td><td><b>●</b></td><td><b>●</b></td><td>.</td><td><b>●</b></td><td><b>●</b></td><td>.</td><td>.</td><td>.</td><td>.</td><td>.</td><td>.</td><td>.</td><td>.</td><td>.</td><td>.</td><td>.</td><td>.</td><td>.</td><td>.</td><td>.</td><td>.</td><td>.</td><td>.</td><td>.</td><td>.</td><td>.</td></tr><tr><th>Patrick Stewart</th><td>.</td><td>.</td><td>.</td><td>.</td><td>.</td><td>.</td><td><b>●</b></td><td><b>●</b></td><td>.</td><td>.</td><td>.</td><td>.</td><td>.</td><td>.</td><td>.</td><td>.</td><td>.</td><td>.</td><td>.</td><td>.</td><td>.</td><td>.</td><td>.</td><td>.</td><td>.</td><td>.</td><td>.</td></tr><tr><th>Rebecca Romijn</th><td>.</td><td>.</td><td>.</td><td>.</td><td>.</td><td>.</td><td>.</td><td><b>●</b></td><td>.</td><td>.</td><td>.</td><td>.</td><td>.</td><td>.</td><td>.</td><td>.</td><td>.</td><td>.</td><td>.</td><td>.</td><td>.</td><td>.</td><td>.</td><td>.</td><td>.</td><td>.</td><td>.</td></tr><tr><th>Sean Astin</th><td>.</td><td>.</td><td>.</td><td><b>●</b></td><td><b>●</b></td><td><b>●</b></td><td>.</td><td>.</td><td>.</td><td>.</td><td>.</td><td>.</td><td>.</td><td>.</td><td>.</td><td>.</td><td>.</td><td>.</td><td>.</td><td>.</td><td>.</td><td>.</td><td>.</td><td>.</td><td>.</td><td>.</td><td>.</td></tr><tr><th>Stellan Skarsgård</th><td>.</td><td><b>●</b></td><td>.</td><td>.</td><td>.</td><td>.</td><td>.</td><td>.</td><td>.</td><td>.</td><td>.</td><td>.</td><td>.</td><td>.</td><td>.</td><td>.</td><td>.</td><td>.</td><td>.</td><td>.</td><td>.</td><td>.</td><td>.</td><td>.</td><td>.</td><td>.</td><td>.</td></tr><tr><th>Viggo Mortensen</th><td>.</td><td>.</td><td>.</td><td><b>●</b></td><td><b>●</b></td><td><b>●</b></td><td>.</td><td>.</td><td>.</td><td>.</td><td>.</td><td>.</td><td>.</td><td>.</td><td>.</td><td>.</td><td>.</td><td>.</td><td>.</td><td>.</td><td>.</td><td>.</td><td>.</td><td>.</td><td>.</td><td>.</td><td>.</td></tr></table>"
      ]
     },
     "execution_count": 24,
     "metadata": {},
     "output_type": "execute_result"
    }
   ],
   "source": [
    "#% html\n",
    "\n",
    "$m\n",
    ".to-html(:v)\n",
    ".subst('<td>1</td>', '<td><b>●</b></td>', :g)"
   ]
  },
  {
   "cell_type": "markdown",
   "metadata": {},
   "source": [
    "----\n",
    "\n",
    "## Fundamental information retrieval operation"
   ]
  },
  {
   "cell_type": "markdown",
   "metadata": {},
   "source": [
    "- Get row / vector corresponding to an actor \n",
    "- Transpose it"
   ]
  },
  {
   "cell_type": "code",
   "execution_count": 25,
   "metadata": {},
   "outputs": [
    {
     "data": {
      "text/html": [
       "<table border=\"1\"><thead><tr><th></th><th>Orlando Bloom</th></tr></thead><tr><th>Pirates of the Caribbean: At World's End</th><td>1</td></tr><tr><th>Pirates of the Caribbean: Dead Man's Chest</th><td>1</td></tr><tr><th>Pirates of the Caribbean: The Curse of the Black Pearl</th><td>1</td></tr><tr><th>The Lord of the Rings: The Fellowship of the Ring</th><td>.</td></tr><tr><th>The Lord of the Rings: The Return of the King</th><td>1</td></tr><tr><th>The Lord of the Rings: The Two Towers</th><td>1</td></tr><tr><th>X-Men: The Last Stand</th><td>.</td></tr><tr><th>X2</th><td>.</td></tr><tr><th>Andy Serkis</th><td>.</td></tr><tr><th>Anna Paquin</th><td>.</td></tr><tr><th>Bill Nighy</th><td>.</td></tr><tr><th>Elijah Wood</th><td>.</td></tr><tr><th>Famke Janssen</th><td>.</td></tr><tr><th>Geoffrey Rush</th><td>.</td></tr><tr><th>Halle Berry</th><td>.</td></tr><tr><th>Hugh Jackman</th><td>.</td></tr><tr><th>Ian McKellen</th><td>.</td></tr><tr><th>Jack Davenport</th><td>.</td></tr><tr><th>Johnny Depp</th><td>.</td></tr><tr><th>Keira Knightley</th><td>.</td></tr><tr><th>Liv Tyler</th><td>.</td></tr><tr><th>Orlando Bloom</th><td>.</td></tr><tr><th>Patrick Stewart</th><td>.</td></tr><tr><th>Rebecca Romijn</th><td>.</td></tr><tr><th>Sean Astin</th><td>.</td></tr><tr><th>Stellan Skarsgård</th><td>.</td></tr><tr><th>Viggo Mortensen</th><td>.</td></tr></table>"
      ]
     },
     "execution_count": 25,
     "metadata": {},
     "output_type": "execute_result"
    }
   ],
   "source": [
    "#%html\n",
    "my $m-actor = $m['Orlando Bloom'].transpose;\n",
    "$m-actor.to-html.subst('<td>0</td>','<td> </td>'):g"
   ]
  },
  {
   "cell_type": "markdown",
   "metadata": {},
   "source": [
    "Multiply the incidence matrix with the actor-vector:"
   ]
  },
  {
   "cell_type": "code",
   "execution_count": 26,
   "metadata": {},
   "outputs": [
    {
     "data": {
      "text/html": [
       "<table border=\"1\"><thead><tr><th></th><th>Orlando Bloom</th></tr></thead><tr><th>Pirates of the Caribbean: At World's End</th><td>.</td></tr><tr><th>Pirates of the Caribbean: Dead Man's Chest</th><td>.</td></tr><tr><th>Pirates of the Caribbean: The Curse of the Black Pearl</th><td>.</td></tr><tr><th>The Lord of the Rings: The Fellowship of the Ring</th><td>.</td></tr><tr><th>The Lord of the Rings: The Return of the King</th><td>.</td></tr><tr><th>The Lord of the Rings: The Two Towers</th><td>.</td></tr><tr><th>X-Men: The Last Stand</th><td>.</td></tr><tr><th>X2</th><td>.</td></tr><tr><th>Andy Serkis</th><td>1</td></tr><tr><th>Anna Paquin</th><td>.</td></tr><tr><th>Bill Nighy</th><td>2</td></tr><tr><th>Elijah Wood</th><td>2</td></tr><tr><th>Famke Janssen</th><td>.</td></tr><tr><th>Geoffrey Rush</th><td>2</td></tr><tr><th>Halle Berry</th><td>.</td></tr><tr><th>Hugh Jackman</th><td>.</td></tr><tr><th>Ian McKellen</th><td>1</td></tr><tr><th>Jack Davenport</th><td>1</td></tr><tr><th>Johnny Depp</th><td>3</td></tr><tr><th>Keira Knightley</th><td>3</td></tr><tr><th>Liv Tyler</th><td>.</td></tr><tr><th>Orlando Bloom</th><td>5</td></tr><tr><th>Patrick Stewart</th><td>.</td></tr><tr><th>Rebecca Romijn</th><td>.</td></tr><tr><th>Sean Astin</th><td>2</td></tr><tr><th>Stellan Skarsgård</th><td>1</td></tr><tr><th>Viggo Mortensen</th><td>2</td></tr></table>"
      ]
     },
     "execution_count": 26,
     "metadata": {},
     "output_type": "execute_result"
    }
   ],
   "source": [
    "#% html\n",
    "$m.dot($m-actor).to-html"
   ]
  },
  {
   "cell_type": "markdown",
   "metadata": {},
   "source": [
    "-----\n",
    "\n",
    "## Matrix plot (*details*)"
   ]
  },
  {
   "cell_type": "markdown",
   "metadata": {},
   "source": [
    "Two ways to plot sparse matrices."
   ]
  },
  {
   "cell_type": "markdown",
   "metadata": {},
   "source": [
    "### Via tuples"
   ]
  },
  {
   "cell_type": "markdown",
   "metadata": {},
   "source": [
    "Essentially, using a heatmap plot spec:"
   ]
  },
  {
   "cell_type": "code",
   "execution_count": null,
   "metadata": {},
   "outputs": [],
   "source": [
    "#% js\n",
    "my @ds3D = $m.tuples.map({ <x y z tooltip>.Array Z=> [|$_.Array, \"⎡{$m.row-names[$_[0]]}⎦ : ⎡{$m.column-names[$_[1]]}⎦ : {$_.tail}\"] })».Hash;\n",
    "js-d3-matrix-plot(\n",
    "    @ds3D, \n",
    "    :$tooltip-background-color, \n",
    "    :$tooltip-color, \n",
    "    :$background, \n",
    "    width => 400)"
   ]
  },
  {
   "cell_type": "markdown",
   "metadata": {},
   "source": [
    "Here is the corresponding (\"coordinates\") list plot:"
   ]
  },
  {
   "cell_type": "code",
   "execution_count": null,
   "metadata": {},
   "outputs": [],
   "source": [
    "#%js\n",
    "$m.tuples\n",
    "==> js-d3-list-plot( :$background, width => 400, :!grid-lines)"
   ]
  },
  {
   "cell_type": "markdown",
   "metadata": {},
   "source": [
    "### As dense matrix"
   ]
  },
  {
   "cell_type": "code",
   "execution_count": null,
   "metadata": {},
   "outputs": [],
   "source": [
    "#%js\n",
    "$m.Array\n",
    "==> js-d3-matrix-plot(width => 400)"
   ]
  },
  {
   "cell_type": "markdown",
   "metadata": {},
   "source": [
    "### Larger sparse matrix"
   ]
  },
  {
   "cell_type": "markdown",
   "metadata": {},
   "source": [
    "Large sparse matrix:"
   ]
  },
  {
   "cell_type": "code",
   "execution_count": 30,
   "metadata": {},
   "outputs": [
    {
     "data": {
      "text/plain": [
       "Math::SparseMatrix(:specified-elements(434), :dimensions((100, 100)), :density(0.0434))"
      ]
     },
     "execution_count": 30,
     "metadata": {},
     "output_type": "execute_result"
    }
   ],
   "source": [
    "my $gLarge = Graph::Random.new: Graph::Distribution::WattsStrogatz.new(100,0.1);\n",
    "my $mLarge = Math::SparseMatrix.new(edge-dataset => $gLarge.edges(:dataset));"
   ]
  },
  {
   "cell_type": "markdown",
   "metadata": {},
   "source": [
    "Corresponding graph:"
   ]
  },
  {
   "cell_type": "code",
   "execution_count": null,
   "metadata": {},
   "outputs": [],
   "source": [
    "#% js\n",
    "$mLarge.tuples\n",
    "==> js-d3-list-plot( :$background, width => 600, height => 600, :!grid-lines)"
   ]
  },
  {
   "cell_type": "markdown",
   "metadata": {},
   "source": [
    "**Remark:** The list plot might be much more useful for large matrices with (relatively) high density."
   ]
  },
  {
   "cell_type": "markdown",
   "metadata": {},
   "source": [
    "Tuples dataset:"
   ]
  },
  {
   "cell_type": "code",
   "execution_count": null,
   "metadata": {},
   "outputs": [],
   "source": [
    "#%js\n",
    "$mLarge.tuples(:dataset)\n",
    "==> {rename-columns($_, (<i j x> Z=> <x y z>).Hash)}()\n",
    "==> js-d3-matrix-plot(:$background, width => 600)"
   ]
  },
  {
   "cell_type": "markdown",
   "metadata": {},
   "source": [
    "### Random dense matrix"
   ]
  },
  {
   "cell_type": "markdown",
   "metadata": {},
   "source": [
    "Another example with a dense matrix:"
   ]
  },
  {
   "cell_type": "code",
   "execution_count": null,
   "metadata": {},
   "outputs": [],
   "source": [
    "#%js\n",
    "my @a = random-real(10, 48) xx 12;\n",
    "@a = rand > 0.5 ?? @a.map(*.sort) !! @a.&transpose.map(*.sort.Array).&transpose;\n",
    "say \"dimensions : \", dimensions(@a);\n",
    "js-d3-matrix-plot(@a, width => 1600, margins => 1, :$tick-labels-font-size, color-palette => <Turbo Plasma Warm Inferno>.pick, :$background)"
   ]
  },
  {
   "cell_type": "markdown",
   "metadata": {},
   "source": [
    "-------\n",
    "\n",
    "## Reference"
   ]
  },
  {
   "cell_type": "markdown",
   "metadata": {},
   "source": [
    "### Articles\n",
    "\n",
    "[AA1] Anton Antonov,\n",
    "[\"RSparseMatrix for sparse matrices with named rows and columns\"](https://mathematicaforprediction.wordpress.com/2015/10/08/rsparsematrix-for-sparse-matrices-with-named-rows-and-columns/),\n",
    "(2015),\n",
    "[MathematicaForPrediction at WordPress](https://mathematicaforprediction.wordpress.com)."
   ]
  },
  {
   "cell_type": "markdown",
   "metadata": {},
   "source": [
    "### Packages\n",
    "\n",
    "[AAp1] Anton Antonov,\n",
    "[Math::SparseMatrix Raku package](https://github.com/antononcube/Raku-Math-SparseMatrix),\n",
    "(2024),\n",
    "[GitHub/antononcube](https://github.com/antononcube).\n",
    "\n",
    "[AAp2] Anton Antonov,\n",
    "[Math::SparseMatrix::Native Raku package](https://github.com/antononcube/Raku-Math-SparseMatrix-Native),\n",
    "(2024),\n",
    "[GitHub/antononcube](https://github.com/antononcube).\n",
    "\n",
    "[AAp3] Anton Antonov,\n",
    "[JavaScript::D3 Raku package](https://github.com/antononcube/Raku-JavaScript-D3),\n",
    "(2022-2024),\n",
    "[GitHub/antononcube](https://github.com/antononcube)."
   ]
  }
 ],
 "metadata": {
  "kernelspec": {
   "display_name": "RakuChatbook",
   "language": "raku",
   "name": "raku"
  },
  "language_info": {
   "file_extension": ".raku",
   "mimetype": "text/x-raku",
   "name": "raku",
   "version": "6.d"
  }
 },
 "nbformat": 4,
 "nbformat_minor": 2
}
