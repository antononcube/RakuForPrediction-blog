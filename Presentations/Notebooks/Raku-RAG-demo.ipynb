{
 "cells": [
  {
   "cell_type": "markdown",
   "metadata": {},
   "source": [
    "# Raku RAG demo\n",
    "\n",
    "### ... and *Semantic Nearest Neighbors Graphs*\n",
    "\n",
    "Anton Antonov   \n",
    "[RakuForPrediction at WordPress](https://rakuforprediction.wordpress.com)   \n",
    "[RakuForPrediction-book at GitHub](https://github.com/antononcube/RakuForPrediction-book)      \n",
    "September 2024 \n"
   ]
  },
  {
   "cell_type": "markdown",
   "metadata": {},
   "source": [
    "-----\n",
    "\n",
    "## Introduction"
   ]
  },
  {
   "cell_type": "markdown",
   "metadata": {},
   "source": [
    "The so called ***Retrieval Augmented Generation (RAG)*** functionalities of Large Language Models (LLMs) are demonstrated using semantic nearest neighbors graphs.\n",
    "\n",
    "Vector Databases (VDBs) made with the Raku package [\"LLM::RetrievalAugmentedGeneration\"](https://raku.land/zef:antononcube/LLM::RetrievalAugmentedGeneration) are used."
   ]
  },
  {
   "cell_type": "markdown",
   "metadata": {},
   "source": [
    "1. Semantic graph for words \n",
    "    - Select a set of words\n",
    "    - Find LLM embeddings for the those words\n",
    "    - Find nearest neighbor graph for the obtained vectors\n",
    "\n",
    "2. Nearest neighbor graph -- joined VDBs\n",
    "    - Ingest VDBs corresponding to (long) podcast interviews\n",
    "        - \"Modern Wisdom\" with [Eric Weinstein](https://en.wikipedia.org/wiki/Eric_Weinstein)\n",
    "        - Eclectic and long interviews (≈3.5 hours each)\n",
    "        - Heterogeneous content (wide variety of topics)\n",
    "        - *(Hence, suitable for semantic similarities demos)*\n",
    "    - Merge VDBs\n",
    "    - Make a corresponding semantic graph\n",
    "        - Nearest neighbor graph\n",
    "        - Connected components\n",
    "\n",
    "3. Nearest neighbor graph and RAG \n",
    "    - Create a semantic relationship graph for an interview\n",
    "    - LLM-derivation of summaries for top connected components\n",
    "    - Graph plot traces \n",
    "        - Using suitable graph tooltips\n",
    "    - Do a retrieval based LLM summary for a query"
   ]
  },
  {
   "cell_type": "markdown",
   "metadata": {},
   "source": [
    "-----\n",
    "\n",
    "## Setup"
   ]
  },
  {
   "cell_type": "code",
   "execution_count": 2,
   "metadata": {},
   "outputs": [],
   "source": [
    "use Data::Importers;\n",
    "use LLM::Functions;\n",
    "use XDG::BaseDirectory :terms;\n",
    "\n",
    "use LLM::RetrievalAugmentedGeneration;\n",
    "use LLM::RetrievalAugmentedGeneration::VectorDatabase;\n",
    "\n",
    "use Data::Reshapers;\n",
    "use Data::Summarizers;\n",
    "use Math::Nearest;\n",
    "use Math::DistanceFunctions::Native;\n",
    "use Statistics::OutlierIdentifiers;\n",
    "\n",
    "use NativeCall;\n",
    "\n",
    "use Math::Nearest;\n",
    "use Graph;\n",
    "use JavaScript::D3;"
   ]
  },
  {
   "cell_type": "markdown",
   "metadata": {},
   "source": [
    "### JavaScript"
   ]
  },
  {
   "cell_type": "markdown",
   "metadata": {},
   "source": [
    "Here we prepare the notebook to visualize with JavaScript:"
   ]
  },
  {
   "cell_type": "code",
   "execution_count": null,
   "metadata": {},
   "outputs": [],
   "source": [
    "#% javascript\n",
    "require.config({\n",
    "     paths: {\n",
    "     d3: 'https://d3js.org/d3.v7.min'\n",
    "}});\n",
    "\n",
    "require(['d3'], function(d3) {\n",
    "     console.log(d3);\n",
    "});"
   ]
  },
  {
   "cell_type": "markdown",
   "metadata": {},
   "source": [
    "Verification:"
   ]
  },
  {
   "cell_type": "code",
   "execution_count": null,
   "metadata": {},
   "outputs": [],
   "source": [
    "#% js\n",
    "js-d3-list-line-plot(10.rand xx 40, background => 'none', stroke-width => 2)"
   ]
  },
  {
   "cell_type": "markdown",
   "metadata": {},
   "source": [
    "Here we set a collection of visualization variables:"
   ]
  },
  {
   "cell_type": "code",
   "execution_count": null,
   "metadata": {},
   "outputs": [],
   "source": [
    "my $title-color = 'Ivory';\n",
    "my $stroke-color = 'SlateGray';\n",
    "my $tooltip-color = 'LightBlue';\n",
    "my $tooltip-background-color = 'none';\n",
    "my $background = '1F1F1F';\n",
    "my $color-scheme = 'schemeTableau10';\n",
    "my $edge-thickness = 3;\n",
    "my $vertex-size = 6;\n",
    "my $mmd-theme = q:to/END/;\n",
    "%%{\n",
    "  init: {\n",
    "    'theme': 'forest',\n",
    "    'themeVariables': {\n",
    "      'lineColor': 'Ivory'\n",
    "    }\n",
    "  }\n",
    "}%%\n",
    "END\n",
    "my %force = collision => {iterations => 0, radius => 10},link => {distance => 180};\n",
    "my %force2 = charge => {strength => -30, iterations => 4}, collision => {radius => 50, iterations => 4}, link => {distance => 30};"
   ]
  },
  {
   "cell_type": "markdown",
   "metadata": {},
   "source": [
    "-------\n",
    "\n",
    "## Words semantic graph"
   ]
  },
  {
   "cell_type": "markdown",
   "metadata": {},
   "source": [
    "```mermaid\n",
    "flowchart LR\n",
    "    WS[Words set selection] --> WE[Word embeddings]\n",
    "    WE --> WNN\n",
    "    WNN[Nearest neighbor graph<br>one neighbor] --> WCC[Connected component<br>to focus on]\n",
    "    WCC --> WNN2[Nearest neighbor graph<br>two neighbors]\n",
    "    WNN2 --> WGP[Graph plot]\n",
    "    WE <-.-> LLMs\n",
    "    \n",
    "    subgraph WGraph[Words Graph]\n",
    "        WS\n",
    "        WE\n",
    "        WNN\n",
    "        WNN2\n",
    "        WCC\n",
    "        WGP\n",
    "    end\n",
    "\n",
    "    subgraph LLMs\n",
    "        OpenAI{{OpenAI}}\n",
    "        Gemini{{Gemini}}\n",
    "        MistralAI{{MistralAI}}\n",
    "        LLaMA{{LLaMA}}\n",
    "    end\n",
    "```"
   ]
  },
  {
   "cell_type": "markdown",
   "metadata": {},
   "source": [
    "-------\n",
    "\n",
    "## Words graph making"
   ]
  },
  {
   "cell_type": "markdown",
   "metadata": {},
   "source": [
    "Here is a set of words:"
   ]
  },
  {
   "cell_type": "code",
   "execution_count": null,
   "metadata": {},
   "outputs": [],
   "source": [
    "my @content = <angel apple ardvark bible car cat cherry plum chocolate cookie cow devil film horse house movie projector raccoon tiger tree>;\n",
    "\n",
    "@content.elems"
   ]
  },
  {
   "cell_type": "markdown",
   "metadata": {},
   "source": [
    "Here we specify an LLM-access configuration:"
   ]
  },
  {
   "cell_type": "code",
   "execution_count": null,
   "metadata": {},
   "outputs": [],
   "source": [
    "my $conf = llm-configuration('Gemini');\n",
    "$conf.Hash.elems"
   ]
  },
  {
   "cell_type": "markdown",
   "metadata": {},
   "source": [
    "Here we create semantic search index:"
   ]
  },
  {
   "cell_type": "code",
   "execution_count": null,
   "metadata": {},
   "outputs": [],
   "source": [
    "my $vdbObjSmall = create-semantic-search-index(@content, e => $conf, name => 'words')"
   ]
  },
  {
   "cell_type": "markdown",
   "metadata": {},
   "source": [
    "Here we see the dimensions of the obtained vectors:"
   ]
  },
  {
   "cell_type": "code",
   "execution_count": null,
   "metadata": {},
   "outputs": [],
   "source": [
    "$vdbObjSmall.vectors».elems"
   ]
  },
  {
   "cell_type": "markdown",
   "metadata": {},
   "source": [
    "Here we find the embedding of a certain word (using the same LLM model as above):"
   ]
  },
  {
   "cell_type": "code",
   "execution_count": null,
   "metadata": {},
   "outputs": [],
   "source": [
    "my $vec = llm-embedding(\"coffee\", e => $conf).head;\n",
    "$vec.elems"
   ]
  },
  {
   "cell_type": "markdown",
   "metadata": {},
   "source": [
    "Here we find the closest Nearest Neighbors (NNs) of that word:"
   ]
  },
  {
   "cell_type": "code",
   "execution_count": null,
   "metadata": {},
   "outputs": [],
   "source": [
    "my @nns = $vdbObjSmall.nearest($vec, 3, prop => 'label' ).map(*.Slip)"
   ]
  },
  {
   "cell_type": "markdown",
   "metadata": {},
   "source": [
    "Here are the corresponding words:"
   ]
  },
  {
   "cell_type": "code",
   "execution_count": null,
   "metadata": {},
   "outputs": [],
   "source": [
    "$vdbObjSmall.items{@nns}"
   ]
  },
  {
   "cell_type": "markdown",
   "metadata": {},
   "source": [
    "Here we find the corresponding NNs graph with 1 and 2 nns per vertex:"
   ]
  },
  {
   "cell_type": "code",
   "execution_count": null,
   "metadata": {},
   "outputs": [],
   "source": [
    "my ($gr1, $gr2) = [1, 2].map({ \n",
    "        # NNs graph edges\n",
    "        my @edges = nearest-neighbor-graph(\n",
    "            $vdbObjSmall.vectors.pairs, \n",
    "            $_, \n",
    "            method => 'Scan', \n",
    "            distance-function => &euclidean-distance, \n",
    "            format => 'dataset'\n",
    "        );\n",
    "\n",
    "        # Replace IDs with names\n",
    "        @edges .= map({ $_<from> = $vdbObjSmall.items{$_<from>}; $_<to> = $vdbObjSmall.items{$_<to>}; $_ });\n",
    "        \n",
    "        # Make the graph\n",
    "        Graph.new(@edges)\n",
    "}).flat;\n",
    "\n",
    ".say for ($gr1, $gr2)\n"
   ]
  },
  {
   "cell_type": "markdown",
   "metadata": {},
   "source": [
    "Find 1-nns graph's connected components:"
   ]
  },
  {
   "cell_type": "code",
   "execution_count": null,
   "metadata": {},
   "outputs": [],
   "source": [
    "my @comps = $gr1.connected-components.sort(-*.elems)"
   ]
  },
  {
   "cell_type": "code",
   "execution_count": null,
   "metadata": {},
   "outputs": [],
   "source": [
    "#%js\n",
    "\n",
    "$gr2.edges(:dataset)\n",
    "==> js-d3-graph-plot(\n",
    "        :$background,\n",
    "        highlight => [|@comps.head, |$gr1.subgraph(@comps.head).edges],\n",
    "        width => 600,\n",
    "        vertex-label-color => 'Ivory',\n",
    "        edge-thickness => 2,\n",
    "        vertex-size => 3,\n",
    "        vertex-color => 'Blue',\n",
    "        edge-color => 'SteelBlue',\n",
    "        force => { charge => {strength => -200, iterations => 4}, collision => {iterations => 1, radius => 10} }\n",
    "    )"
   ]
  },
  {
   "cell_type": "markdown",
   "metadata": {},
   "source": [
    "------\n",
    "\n",
    "## Semantic nearest neighbors graph"
   ]
  },
  {
   "cell_type": "markdown",
   "metadata": {},
   "source": [
    "```mermaid\n",
    "flowchart LR\n",
    "    subgraph LocalVDB[Local Folder]\n",
    "        direction LR\n",
    "        A(Vector Database 1)\n",
    "        B(Vector Database 2)\n",
    "        C(Vector Database N)\n",
    "    end\n",
    "\n",
    "    subgraph Creation\n",
    "        ID\n",
    "        SD\n",
    "        EV\n",
    "        CD\n",
    "    end\n",
    "\n",
    "    subgraph NNGraph[Semantic Graph]\n",
    "        D \n",
    "        E\n",
    "        CC\n",
    "        T \n",
    "        GP   \n",
    "    end\n",
    "\n",
    "    ID[Ingest document collection]\n",
    "    SD[Split Documents]\n",
    "    EV[Get LLM Embedding Vectors]\n",
    "    CD[Create Vector Database]\n",
    "    ID --> SD --> EV --> CD\n",
    "\n",
    "    EV <-.-> LLMs\n",
    "    \n",
    "    CD -.- CArray[[CArray<br>representation]]\n",
    "\n",
    "    CD -.-> |export| LocalVDB\n",
    "\n",
    "    LocalVDB -.- JSON[[JSON<br>representation]]\n",
    "\n",
    "    LocalVDB -.-> |import|D[Ingest Vector Database]\n",
    " \n",
    "    D -.- CArray\n",
    "    D --> E\n",
    "    E[Nearest neighbor graph] --> CC[Connected Components]\n",
    "    E -.- |nearest neighbors<br>distance function|CArray\n",
    "    CC --> T[LLM-derived titles<br>per component]\n",
    "    T --> GP[Graph plot]\n",
    "\n",
    "    subgraph LLMs\n",
    "        OpenAI{{OpenAI}}\n",
    "        Gemini{{Gemini}}\n",
    "        MistralAI{{MistralAI}}\n",
    "        LLaMA{{LLaMA}}\n",
    "    end\n",
    "```"
   ]
  },
  {
   "cell_type": "markdown",
   "metadata": {},
   "source": [
    "------\n",
    "\n",
    "## Ingest vector databases"
   ]
  },
  {
   "cell_type": "markdown",
   "metadata": {},
   "source": [
    "Ingest vector database from the default directory and show a summary:"
   ]
  },
  {
   "cell_type": "code",
   "execution_count": null,
   "metadata": {},
   "outputs": [],
   "source": [
    "#% html\n",
    "my @field-names = <id name item-count dimension version llm-service llm-embedding-model created>;\n",
    "\n",
    "vector-database-objects(f=>'hash', :flat)\n",
    "\n",
    "==> { $_.map({ $_<created> = $_<file>.IO.created.DateTime.Str.subst('T',' ').substr(^19); $_}).sort(*<created>).reverse }()\n",
    "==> to-html(:@field-names)"
   ]
  },
  {
   "cell_type": "markdown",
   "metadata": {},
   "source": [
    "Get specific databases:"
   ]
  },
  {
   "cell_type": "code",
   "execution_count": null,
   "metadata": {},
   "outputs": [],
   "source": [
    "#my @vdbs = vector-database-objects(f=>'hash', :flat).grep({ $_<name> ∈ <No833 No747> && $_<llm-service> eq 'gemini' }).map({ create-vector-database(file => $_<file>) })\n",
    "\n",
    "my @vdbs = vector-database-objects(f=>'hash', :flat).grep({ $_<id> ∈ <266b20ca-d917-4ac0-9b0a-7c420625666c d2effebc-2cef-4b2b-84ca-5dcfa3c1864b> }).map({ create-vector-database(file => $_<file>) })"
   ]
  },
  {
   "cell_type": "markdown",
   "metadata": {},
   "source": [
    "Sample vectors:"
   ]
  },
  {
   "cell_type": "code",
   "execution_count": null,
   "metadata": {},
   "outputs": [],
   "source": [
    ".say for @vdbs.head.vectors.pick(3)"
   ]
  },
  {
   "cell_type": "markdown",
   "metadata": {},
   "source": [
    "Sample items:"
   ]
  },
  {
   "cell_type": "code",
   "execution_count": null,
   "metadata": {},
   "outputs": [],
   "source": [
    "#% html\n",
    "@vdbs.head.items.pick(3).map({ <key value> Z=> $_.kv })».Hash.Array \n",
    "==> to-html(field-names => <key value>, align => 'left')"
   ]
  },
  {
   "cell_type": "markdown",
   "metadata": {},
   "source": [
    "-----\n",
    "\n",
    "## Combined databases graph"
   ]
  },
  {
   "cell_type": "markdown",
   "metadata": {},
   "source": [
    "Here we join the selected databases:"
   ]
  },
  {
   "cell_type": "code",
   "execution_count": null,
   "metadata": {},
   "outputs": [],
   "source": [
    "my $vdbObj2 = vector-database-join(@vdbs)"
   ]
  },
  {
   "cell_type": "markdown",
   "metadata": {},
   "source": [
    "Find a nearest neighbors graph:"
   ]
  },
  {
   "cell_type": "code",
   "execution_count": null,
   "metadata": {},
   "outputs": [],
   "source": [
    "my @edges2 = nearest-neighbor-graph($vdbObj2.vectors.pairs, 1, method => 'Scan', distance-function => &euclidean-distance, format => 'raku');\n",
    "\n",
    "my $gr2 = Graph.new(@edges2)"
   ]
  },
  {
   "cell_type": "code",
   "execution_count": null,
   "metadata": {},
   "outputs": [],
   "source": [
    "my @comps2 = $gr2.connected-components.sort(-*.elems).head(8);\n",
    "\n",
    "@comps2.elems"
   ]
  },
  {
   "cell_type": "code",
   "execution_count": null,
   "metadata": {},
   "outputs": [],
   "source": [
    "#% js\n",
    "@edges2\n",
    "==> js-d3-graph-plot(\n",
    "        :$background,\n",
    "        highlight => @comps2.map({[|$_, |$gr2.subgraph($_).edges]}),\n",
    "        vertex-label-color => 'none',\n",
    "        edge-thickness => 2,\n",
    "        vertex-size => 4,\n",
    "        vertex-color => 'Blue',\n",
    "        width => 1100,\n",
    "        height => 950,\n",
    "        edge-color => 'Gray',\n",
    "        vertex-color => 'DarkGray',\n",
    "        #force => {charge => {strength => -3, iterations => 4}, collision => {radius => 14, iterations => 4}, link => {distance => 1};}\n",
    "    )"
   ]
  },
  {
   "cell_type": "markdown",
   "metadata": {},
   "source": [
    "-----\n",
    "\n",
    "## Nearest neighbor graph"
   ]
  },
  {
   "cell_type": "markdown",
   "metadata": {},
   "source": [
    "Take one of the vector databases:"
   ]
  },
  {
   "cell_type": "code",
   "execution_count": null,
   "metadata": {},
   "outputs": [],
   "source": [
    "my $vdbObj = @vdbs.head"
   ]
  },
  {
   "cell_type": "code",
   "execution_count": null,
   "metadata": {},
   "outputs": [],
   "source": [
    ".say for $vdbObj.items.pick(3)"
   ]
  },
  {
   "cell_type": "markdown",
   "metadata": {},
   "source": [
    "Make the nearest neighbor graph for the vectors in the vector database:"
   ]
  },
  {
   "cell_type": "code",
   "execution_count": null,
   "metadata": {},
   "outputs": [],
   "source": [
    "my @edges = nearest-neighbor-graph($vdbObj.vectors.pairs, 1, method => 'Scan', distance-function => &euclidean-distance, format => 'raku')"
   ]
  },
  {
   "cell_type": "markdown",
   "metadata": {},
   "source": [
    "Make the graph:"
   ]
  },
  {
   "cell_type": "code",
   "execution_count": null,
   "metadata": {},
   "outputs": [],
   "source": [
    "my $gr = Graph.new(@edges)"
   ]
  },
  {
   "cell_type": "markdown",
   "metadata": {},
   "source": [
    "Get graph's connected components:"
   ]
  },
  {
   "cell_type": "code",
   "execution_count": null,
   "metadata": {},
   "outputs": [],
   "source": [
    "my @comps = $gr.connected-components.sort(-*.elems);\n",
    ".say for @comps.head(12)"
   ]
  },
  {
   "cell_type": "markdown",
   "metadata": {},
   "source": [
    "Example paragraph:"
   ]
  },
  {
   "cell_type": "code",
   "execution_count": null,
   "metadata": {},
   "outputs": [],
   "source": [
    "#% markdown\n",
    "\n",
    "$vdbObj.items<170.0>"
   ]
  },
  {
   "cell_type": "markdown",
   "metadata": {},
   "source": [
    "LLM function for naming a set of paragraphs:"
   ]
  },
  {
   "cell_type": "code",
   "execution_count": null,
   "metadata": {},
   "outputs": [],
   "source": [
    "my &fNamer = llm-function({\"Summarize the text into a very short sentence that has at most 8 words: \\n\\n $_\"})"
   ]
  },
  {
   "cell_type": "markdown",
   "metadata": {},
   "source": [
    "Example title finding:"
   ]
  },
  {
   "cell_type": "code",
   "execution_count": null,
   "metadata": {},
   "outputs": [],
   "source": [
    "@comps[5]"
   ]
  },
  {
   "cell_type": "code",
   "execution_count": null,
   "metadata": {},
   "outputs": [],
   "source": [
    "&fNamer( $vdbObj.items{|@comps[5]}.join(\"\\n\") )"
   ]
  },
  {
   "cell_type": "markdown",
   "metadata": {},
   "source": [
    "Find titles for some of the largest components:"
   ]
  },
  {
   "cell_type": "code",
   "execution_count": null,
   "metadata": {},
   "outputs": [],
   "source": [
    "my @titles = @comps.head(6).map({ &fNamer( $vdbObj.items{|$_}.join(\"\\n\") ) });\n",
    "\n",
    "@titles.elems"
   ]
  },
  {
   "cell_type": "code",
   "execution_count": null,
   "metadata": {},
   "outputs": [],
   "source": [
    ".say for @titles"
   ]
  },
  {
   "cell_type": "markdown",
   "metadata": {},
   "source": [
    "Make rules for all components and titles:"
   ]
  },
  {
   "cell_type": "code",
   "execution_count": null,
   "metadata": {},
   "outputs": [],
   "source": [
    "my @res = do for ^@titles.elems -> $i {\n",
    "    my @vals = @comps[$i].Array X~ ' : ' X~  @titles[$i];\n",
    "    @comps[$i].Array Z=> @vals\n",
    "}\n",
    "\n",
    "my %rules = @res.map(*.Slip);\n",
    "\n",
    "%rules.elems\n"
   ]
  },
  {
   "cell_type": "markdown",
   "metadata": {},
   "source": [
    "Make graph highlight specification:"
   ]
  },
  {
   "cell_type": "code",
   "execution_count": null,
   "metadata": {},
   "outputs": [],
   "source": [
    "my @colors = <#1f77b4 #ff7f0e #2ca02c #d62728 #9467bd #8c564b #e377c2 #7f7f7f #bcbd22 #17becf>;\n",
    "\n",
    "my $highlight = (@colors.head(6).Array Z=> @comps.head(6).map({ [ |$_.map({ %rules{$_} // $_ }), |$gr.subgraph($_).edges.map({ ( %rules{$_.key} // $vdbObj.items{$_.key} ) => ( %rules{$_.value} // $vdbObj.items{$_.value} ) }) ]})).Hash;"
   ]
  },
  {
   "cell_type": "markdown",
   "metadata": {},
   "source": [
    "Semantic graph:"
   ]
  },
  {
   "cell_type": "code",
   "execution_count": null,
   "metadata": {},
   "outputs": [],
   "source": [
    "#%js\n",
    "my @edges2 = @edges.map({ ( %rules{$_.key} // $vdbObj.items{$_.key} ) => ( %rules{$_.value} // $vdbObj.items{$_.value} ) });\n",
    "\n",
    "@edges2\n",
    "==> js-d3-graph-plot(\n",
    "        :$background,\n",
    "        :$highlight,\n",
    "        vertex-label-color => 'none',\n",
    "        edge-thickness => 2,\n",
    "        vertex-size => 4,\n",
    "        vertex-color => 'Blue',\n",
    "        width => 1100,\n",
    "        height => 700,\n",
    "        edge-color => 'Gray',\n",
    "        vertex-color => 'DarkGray',\n",
    "    )"
   ]
  },
  {
   "cell_type": "markdown",
   "metadata": {},
   "source": [
    "Generate LLM based on one of components:"
   ]
  },
  {
   "cell_type": "code",
   "execution_count": null,
   "metadata": {},
   "outputs": [],
   "source": [
    "#% markdown\n",
    "\n",
    "llm-synthesize([ \n",
    "    \"Summarize the following text into a list of three-four points, each with no more than 8 words:\",\n",
    "    $vdbObj.items{|@comps[5].sort}.join(\" \"),\n",
    "], e => $conf)"
   ]
  },
  {
   "cell_type": "markdown",
   "metadata": {},
   "source": [
    "-------\n",
    "\n",
    "## References"
   ]
  },
  {
   "cell_type": "markdown",
   "metadata": {},
   "source": [
    "### Articles\n",
    "\n",
    "[AA1] Anton Antonov, \n",
    "[\"Outlier detection in a list of numbers\"](https://rakuforprediction.wordpress.com/2022/05/29/outlier-detection-in-a-list-of-numbers/),\n",
    "(2022),\n",
    "[RakuForPrediction at WordPress](https://rakuforprediction.wordpress.com)."
   ]
  },
  {
   "cell_type": "markdown",
   "metadata": {},
   "source": [
    "### Packages\n",
    "\n",
    "[AAp1] Anton Antonov,\n",
    "[WWW::OpenAI Raku package](https://github.com/antononcube/Raku-WWW-OpenAI),\n",
    "(2023),\n",
    "[GitHub/antononcube](https://github.com/antononcube).\n",
    "\n",
    "[AAp2] Anton Antonov,\n",
    "[WWW::PaLM Raku package](https://github.com/antononcube/Raku-WWW-PaLM),\n",
    "(2023),\n",
    "[GitHub/antononcube](https://github.com/antononcube).\n",
    "\n",
    "[AAp3] Anton Antonov,\n",
    "[LLM::Functions Raku package](https://github.com/antononcube/Raku-LLM-Functions),\n",
    "(2023-2024),\n",
    "[GitHub/antononcube](https://github.com/antononcube).\n",
    "\n",
    "[AAp4] Anton Antonov,\n",
    "[LLM::Prompts Raku package](https://github.com/antononcube/Raku-LLM-Prompts),\n",
    "(2023-2024),\n",
    "[GitHub/antononcube](https://github.com/antononcube).\n",
    "\n",
    "[AAp5] Anton Antonov,\n",
    "[ML::FindTextualAnswer Raku package](https://github.com/antononcube/Raku-ML-FindTextualAnswer),\n",
    "(2023-2024),\n",
    "[GitHub/antononcube](https://github.com/antononcube).\n",
    "\n",
    "[AAp6] Anton Antonov,\n",
    "[Math::Nearest Raku package](https://github.com/antononcube/Raku-Math-Nearest),\n",
    "(2024),\n",
    "[GitHub/antononcube](https://github.com/antononcube).\n",
    "\n",
    "[AAp7] Anton Antonov,\n",
    "[Math::DistanceFunctions Raku package](https://github.com/antononcube/Raku-Math-DistanceFunctions),\n",
    "(2024),\n",
    "[GitHub/antononcube](https://github.com/antononcube).\n",
    "\n",
    "[AAp8] Anton Antonov,\n",
    "[Statistics::OutlierIdentifiers Raku package](https://github.com/antononcube/Raku-Statistics-OutlierIdentifiers),\n",
    "(2022),\n",
    "[GitHub/antononcube](https://github.com/antononcube)."
   ]
  },
  {
   "cell_type": "markdown",
   "metadata": {},
   "source": [
    "## Videos\n",
    "\n",
    "[CWv1] Chris Williamson,\n",
    "[\"Eric Weinstein - Why Does The Modern World Make No Sense? (4K)\"](https://www.youtube.com/watch?v=p_swB_KS8Hw),\n",
    "(2024),\n",
    "[YouTube/@ChrisWillx](https://www.youtube.com/@ChrisWillx).   \n",
    "([transcript](https://podscripts.co/podcasts/modern-wisdom/747-eric-weinstein-why-does-the-modern-world-make-no-sense).)\n",
    "\n",
    "[CWv2] Chris Williamson,\n",
    "[\"Eric Weinstein - Are We On The Brink Of A Revolution? (4K)\"](https://www.youtube.com/watch?v=PYRYXhU4kxM),\n",
    "(2024),\n",
    "[YouTube/@ChrisWillx](https://www.youtube.com/@ChrisWillx).   \n",
    "([transcript](https://podscripts.co/podcasts/modern-wisdom/833-eric-weinstein-are-we-on-the-brink-of-a-revolution).)"
   ]
  }
 ],
 "metadata": {
  "kernelspec": {
   "display_name": "RakuChatbook",
   "language": "raku",
   "name": "raku"
  },
  "language_info": {
   "file_extension": ".raku",
   "mimetype": "text/x-raku",
   "name": "raku",
   "version": "6.d"
  }
 },
 "nbformat": 4,
 "nbformat_minor": 2
}
