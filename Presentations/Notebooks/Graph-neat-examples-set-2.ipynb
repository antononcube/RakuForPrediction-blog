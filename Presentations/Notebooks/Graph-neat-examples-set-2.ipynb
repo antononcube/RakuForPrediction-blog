{
 "cells": [
  {
   "cell_type": "markdown",
   "metadata": {},
   "source": [
    "# Graph neat examples in Raku\n",
    "\n",
    "### ***Set 2***\n",
    "\n",
    "Anton Antonov   \n",
    "[RakuForPrediction at WordPress](https://rakuforprediction.wordpress.com)   \n",
    "[RakuForPrediction-book at GitHub](https://github.com/antononcube/RakuForPrediction-book)      \n",
    "July, November 2024   "
   ]
  },
  {
   "cell_type": "code",
   "execution_count": null,
   "metadata": {},
   "outputs": [],
   "source": [
    "#% js\n",
    " use Graph::TriangularGrid;\n",
    " use JavaScript::D3;\n",
    " \n",
    " my $g = Graph::TriangularGrid.new(4, 4);\n",
    " my @highlight = ($g.vertex-list Z=> $g.vertex-degree).classify(*.value).map({ $_.value».key });\n",
    "\n",
    "\n",
    "  js-d3-graph-plot( $g.edges(:dataset),\n",
    "        :@highlight,\n",
    "        background => '#1F1F1F', \n",
    "        edge-thickness => 3,\n",
    "        vertex-size => 10,\n",
    "        vertex-label-color => 'none',\n",
    "        width => 1000,\n",
    "        height => 300, \n",
    "        margins => 5,\n",
    "        edge-color => 'SteelBlue',\n",
    "        force => {charge => {strength => -300}, y => {strength => 0.2}, link => {minDistance => 4}}\n",
    "    ) "
   ]
  },
  {
   "cell_type": "code",
   "execution_count": null,
   "metadata": {},
   "outputs": [],
   "source": [
    "#% js\n",
    "  use Math::SparseMatrix;\n",
    "  use Data::Reshapers;\n",
    "\n",
    "  my ($amat, $imat) = $g.adjacency-matrix, $g.incidence-matrix;\n",
    "  \n",
    "  my %opts = grid-lines => {width => 0.25, color => 'DimGray'}, title-color => 'Silver', color-palette => 'Inferno', :!tooltip, background => '#1F1F1F', height => 300;\n",
    "\n",
    "  js-d3-matrix-plot($amat, plot-label => 'Adjacency matrix', |%opts, width => 300+80, margins => {:2left, :40top, :2bottom, :80right})\n",
    "  ~ \"\\n\" ~ \n",
    "  js-d3-matrix-plot($imat, plot-label => 'Incidence matrix', |%opts, width => 600, margins => {:2left, :40top, :2bottom, :2right})"
   ]
  },
  {
   "cell_type": "markdown",
   "metadata": {},
   "source": [
    "----\n",
    "\n",
    "## Introduction"
   ]
  },
  {
   "cell_type": "markdown",
   "metadata": {},
   "source": [
    "**What is a neat example?** : Concise or straightforward code that produces compelling visual or textual outputs."
   ]
  },
  {
   "cell_type": "markdown",
   "metadata": {},
   "source": [
    "**Maybe:** We know *neat* when we see it?"
   ]
  },
  {
   "cell_type": "markdown",
   "metadata": {},
   "source": [
    "The neat examples:\n",
    "\n",
    "- Showcase Raku programming.\n",
    "- Use functionalities of different Raku modules.\n",
    "- Give interesting perspectives on what is computationally possible."
   ]
  },
  {
   "cell_type": "markdown",
   "metadata": {},
   "source": [
    "Showcased:\n",
    "- All computational graph features discussed here are provided by [\"Graph\"](https://raku.land/zef:antononcube/Graph).   \n",
    "- Graph plotting with:\n",
    "    - `js-d3-graph-plot`, provided by [\"JavaScript::D3\"](https://raku.land/zef:antononcube/JavaScript::D3).\n",
    "    -  `Graph.dot`, that makes SVG images via [Graphviz](https://graphviz.org)."
   ]
  },
  {
   "cell_type": "markdown",
   "metadata": {},
   "source": [
    "------\n",
    "\n",
    "## Setup"
   ]
  },
  {
   "cell_type": "markdown",
   "metadata": {},
   "source": [
    "Here are loaded the packages used in the rest of notebook:"
   ]
  },
  {
   "cell_type": "code",
   "execution_count": null,
   "metadata": {},
   "outputs": [],
   "source": [
    "use Graph;\n",
    "\n",
    "use Graph::Circulant;\n",
    "use Graph::Complete;\n",
    "use Graph::CompleteKaryTree;\n",
    "use Graph::Cycle;\n",
    "use Graph::Grid;\n",
    "use Graph::HexagonalGrid;\n",
    "use Graph::Hypercube;\n",
    "use Graph::KnightTour;\n",
    "use Graph::Path;\n",
    "use Graph::Petersen;\n",
    "use Graph::Star;\n",
    "use Graph::TriangularGrid;\n",
    "use Graph::Wheel;\n",
    "\n",
    "use Graph::Distribution;\n",
    "use Graph::Random;\n",
    "\n",
    "use Data::Reshapers;\n",
    "use Data::Summarizers;\n",
    "use Data::Generators;\n",
    "use Data::TypeSystem;\n",
    "use Data::Translators;\n",
    "use Data::Geographics;\n",
    "\n",
    "use Math::DistanceFunctions;\n",
    "use Math::Nearest;\n",
    "use Text::Levenshtein::Damerau;\n",
    "\n",
    "use Hash::Merge;\n",
    "use FunctionalParsers;\n",
    "use FunctionalParsers::EBNF;\n",
    "use EBNF::Grammar;\n",
    "\n",
    "use JavaScript::D3;\n",
    "use WWW::MermaidInk;"
   ]
  },
  {
   "cell_type": "markdown",
   "metadata": {},
   "source": [
    "### JavaScript"
   ]
  },
  {
   "cell_type": "markdown",
   "metadata": {},
   "source": [
    "Here we prepare the notebook to visualize with JavaScript:"
   ]
  },
  {
   "cell_type": "code",
   "execution_count": null,
   "metadata": {},
   "outputs": [],
   "source": [
    "#% javascript\n",
    "require.config({\n",
    "     paths: {\n",
    "     d3: 'https://d3js.org/d3.v7.min'\n",
    "}});\n",
    "\n",
    "require(['d3'], function(d3) {\n",
    "     console.log(d3);\n",
    "});"
   ]
  },
  {
   "cell_type": "markdown",
   "metadata": {},
   "source": [
    "Verification:"
   ]
  },
  {
   "cell_type": "code",
   "execution_count": null,
   "metadata": {},
   "outputs": [],
   "source": [
    "#% js\n",
    "js-d3-list-line-plot(10.rand xx 40, background => 'none', stroke-width => 2)"
   ]
  },
  {
   "cell_type": "markdown",
   "metadata": {},
   "source": [
    "Here we set a collection of visualization variables:"
   ]
  },
  {
   "cell_type": "code",
   "execution_count": null,
   "metadata": {},
   "outputs": [],
   "source": [
    "my $title-color = 'Silver';\n",
    "my $stroke-color = 'SlateGray';\n",
    "my $tooltip-color = 'LightBlue';\n",
    "my $tooltip-background-color = 'none';\n",
    "my $background = '1F1F1F';\n",
    "my $color-scheme = 'schemeTableau10';\n",
    "my $edge-thickness = 3;\n",
    "my $vertex-size = 6;\n",
    "my $mmd-theme = q:to/END/;\n",
    "%%{\n",
    "  init: {\n",
    "    'theme': 'forest',\n",
    "    'themeVariables': {\n",
    "      'lineColor': 'Ivory'\n",
    "    }\n",
    "  }\n",
    "}%%\n",
    "END\n",
    "my %force = collision => {iterations => 0, radius => 10},link => {distance => 180};\n",
    "my %force2 = charge => {strength => -30, iterations => 4}, collision => {radius => 50, iterations => 4}, link => {distance => 30};\n",
    "\n",
    "my %opts = :$background, :$title-color, :$edge-thickness, :$vertex-size;"
   ]
  },
  {
   "cell_type": "markdown",
   "metadata": {},
   "source": [
    "--------\n",
    "\n",
    "## Bipartite graph coloring"
   ]
  },
  {
   "cell_type": "markdown",
   "metadata": {},
   "source": [
    "*Maybe this example is not that neat, since it might see too regular or basic.*    \n",
    "*But it is a good warm up.*"
   ]
  },
  {
   "cell_type": "markdown",
   "metadata": {},
   "source": [
    "Make grid graph:"
   ]
  },
  {
   "cell_type": "code",
   "execution_count": null,
   "metadata": {},
   "outputs": [],
   "source": [
    "my $gg = Graph::Grid.new(6, 16);"
   ]
  },
  {
   "cell_type": "code",
   "execution_count": null,
   "metadata": {},
   "outputs": [],
   "source": [
    "$gg.is-bipartite"
   ]
  },
  {
   "cell_type": "markdown",
   "metadata": {},
   "source": [
    "Show bipartite coloring of the grid graph:"
   ]
  },
  {
   "cell_type": "code",
   "execution_count": null,
   "metadata": {},
   "outputs": [],
   "source": [
    "$gg.bipartite-coloring"
   ]
  },
  {
   "cell_type": "markdown",
   "metadata": {},
   "source": [
    "Prepare graph highlight code:"
   ]
  },
  {
   "cell_type": "code",
   "execution_count": null,
   "metadata": {},
   "outputs": [],
   "source": [
    "my %highlight = <SlateBlue Orange> Z=> $gg.bipartite-coloring.classify(*.value).nodemap(*».key).values;\n",
    "\n",
    ".say for %highlight"
   ]
  },
  {
   "cell_type": "markdown",
   "metadata": {},
   "source": [
    "Plot grid graph as a bipartite graph:"
   ]
  },
  {
   "cell_type": "code",
   "execution_count": null,
   "metadata": {},
   "outputs": [],
   "source": [
    "#%js\n",
    "$gg.edges(:dataset) ==>\n",
    "    js-d3-graph-plot(\n",
    "        :%highlight,\n",
    "        vertex-coordinates => $gg.vertex-coordinates,\n",
    "        :$background, :$title-color,\n",
    "        edge-thickness => 5,\n",
    "        vertex-size => 12,\n",
    "        vertex-label-color => 'none',\n",
    "        directed => $g.directed,\n",
    "        title => 'Grid graph bipartite coloring', \n",
    "        width => 1000,\n",
    "        height => 400, \n",
    "        margins => {top => 80},\n",
    "        force => {charge => {strength => -300}, x => {strength => 0.12}, link => {minDistance => 4}}\n",
    "        )"
   ]
  },
  {
   "cell_type": "markdown",
   "metadata": {},
   "source": [
    "------\n",
    "\n",
    "## Highlight connected components"
   ]
  },
  {
   "cell_type": "markdown",
   "metadata": {},
   "source": [
    "Make a grid graph with randomly directed edges:"
   ]
  },
  {
   "cell_type": "code",
   "execution_count": null,
   "metadata": {},
   "outputs": [],
   "source": [
    "my $g = Graph::Grid.new(10, 20, :!directed);\n",
    "my $g2 = $g.directed-graph(method => 'random');"
   ]
  },
  {
   "cell_type": "markdown",
   "metadata": {},
   "source": [
    "Find the connected components in the graph:"
   ]
  },
  {
   "cell_type": "code",
   "execution_count": null,
   "metadata": {},
   "outputs": [],
   "source": [
    "my @components = $g2.connected-components.grep(*.elems - 1);\n",
    "@components».elems;"
   ]
  },
  {
   "cell_type": "markdown",
   "metadata": {},
   "source": [
    "Highlight the connected components in a graph:"
   ]
  },
  {
   "cell_type": "code",
   "execution_count": null,
   "metadata": {},
   "outputs": [],
   "source": [
    "#% js\n",
    "$g2.edges(:dataset) ==> \n",
    "js-d3-graph-plot(\n",
    "    vertex-coordinates => $g2.vertex-coordinates,\n",
    "    highlight => @components,\n",
    "    directed => $g2.directed,\n",
    "    :$background, \n",
    "    :$title-color, \n",
    "    width => 1000, \n",
    "    height => 500, \n",
    "    vertex-label-color => 'none',\n",
    "    vertex-fill-color => 'SteelBlue',\n",
    "    :$edge-thickness,\n",
    "    edge-color => 'Gray',\n",
    "    vertex-size => 14,\n",
    "    arrowhead-size => 4,\n",
    "    force => {charge => {strength => -160, iterations => 2}, collision => {radius => 1, iterations => 1}, link => {minDistance => 1}}\n",
    ")"
   ]
  },
  {
   "cell_type": "markdown",
   "metadata": {},
   "source": [
    "### Visualize via ***Graphviz DOT***"
   ]
  },
  {
   "cell_type": "markdown",
   "metadata": {},
   "source": [
    "Make a triagular grid graph:"
   ]
  },
  {
   "cell_type": "code",
   "execution_count": null,
   "metadata": {},
   "outputs": [],
   "source": [
    "my $g3 = Graph::TriangularGrid.new(8, 16, scale => 0.3, :!directed);\n",
    "$g3 = $g3.directed-graph(method => 'random', flip-threshold => 0.25);"
   ]
  },
  {
   "cell_type": "markdown",
   "metadata": {},
   "source": [
    "Visualize using the [Graphviz DOT language](https://graphviz.org/doc/info/lang.html):"
   ]
  },
  {
   "cell_type": "code",
   "execution_count": null,
   "metadata": {},
   "outputs": [],
   "source": [
    "#% html\n",
    "$g3.dot( \n",
    "    highlight => $g3.connected-components.grep(*.elems - 1),\n",
    "    :!node-labels,\n",
    "    node-shape => <hexagon triangle>.pick, \n",
    "    node-height => 0.7, \n",
    "    node-width => 0.7, \n",
    "    edge-thickness => 4, \n",
    "    edge-color => 'Gray',\n",
    "    size => '10,6!',\n",
    "    engine => 'neato' \n",
    "):svg"
   ]
  },
  {
   "cell_type": "markdown",
   "metadata": {},
   "source": [
    "---------\n",
    "\n",
    "## Collage of star graphs"
   ]
  },
  {
   "cell_type": "code",
   "execution_count": null,
   "metadata": {},
   "outputs": [],
   "source": [
    "my @graphs = (^40).map({ Graph::Star.new(n => (8..16).pick, prefix => \"$_-\") });\n",
    "my $bigGraph = Graph.new( @graphs.map(*.edges).flat )"
   ]
  },
  {
   "cell_type": "markdown",
   "metadata": {},
   "source": [
    "Get a range of colors:"
   ]
  },
  {
   "cell_type": "code",
   "execution_count": null,
   "metadata": {},
   "outputs": [],
   "source": [
    "my @colors = (^14).map: { sprintf \"#%02X%02X%02X\", 250 - $_*10, 128 - $_*5, 114 + $_*10 };"
   ]
  },
  {
   "cell_type": "markdown",
   "metadata": {},
   "source": [
    "Plot the collage of graphs:"
   ]
  },
  {
   "cell_type": "code",
   "execution_count": 204,
   "metadata": {},
   "outputs": [
    {
     "data": {
      "application/javascript": "(function(element) { require(['d3'], function(d3) {\n\n// set the dimensions and margins of the graph\nvar margin = {\"right\":40,\"bottom\":40,\"left\":40,\"top\":40},\n    width = 1200 - margin.left - margin.right,\n    height = 700 - margin.top - margin.bottom;\n\n// append the svg object to the body of the page\nvar svg = d3\n   .select(element.get(0))\n  .append(\"svg\")\n    .attr(\"width\", width + margin.left + margin.right)\n    .attr(\"height\", height + margin.top + margin.bottom)\n    .style(\"background\", \"1F1F1F\")\n  .append(\"g\")\n    .attr(\"transform\",\n          \"translate(\" + margin.left + \",\" + margin.top + \")\")\n\n// Obtain title\nvar title = \"Collage graph\"\nvar titleFontSize = 16\n\nif ( title.length > 0 ) {\n    svg.append(\"text\")\n        .attr(\"x\", (width / 2))\n        .attr(\"y\", 0 - (margin.top / 2))\n        .attr(\"text-anchor\", \"middle\")\n        .style(\"font-size\", titleFontSize.toString() + \"px\")\n        .style(\"fill\", \"Silver\")\n        .text(title);\n}\n\nconst edges = [{\"to\":\"16-13\",\"label\":\"\",\"from\":\"16-0\",\"weight\":1},{\"from\":\"16-0\",\"to\":\"16-11\",\"weight\":1,\"label\":\"\"},{\"from\":\"16-0\",\"label\":\"\",\"to\":\"16-7\",\"weight\":1},{\"weight\":1,\"label\":\"\",\"to\":\"16-14\",\"from\":\"16-0\"},{\"weight\":1,\"to\":\"16-8\",\"label\":\"\",\"from\":\"16-0\"},{\"weight\":1,\"label\":\"\",\"to\":\"16-1\",\"from\":\"16-0\"},{\"to\":\"16-5\",\"from\":\"16-0\",\"weight\":1,\"label\":\"\"},{\"from\":\"16-0\",\"label\":\"\",\"weight\":1,\"to\":\"16-15\"},{\"to\":\"16-6\",\"label\":\"\",\"weight\":1,\"from\":\"16-0\"},{\"weight\":1,\"label\":\"\",\"from\":\"16-0\",\"to\":\"16-9\"},{\"from\":\"16-0\",\"to\":\"16-4\",\"weight\":1,\"label\":\"\"},{\"to\":\"16-3\",\"weight\":1,\"label\":\"\",\"from\":\"16-0\"},{\"label\":\"\",\"to\":\"16-12\",\"from\":\"16-0\",\"weight\":1},{\"from\":\"16-0\",\"to\":\"16-2\",\"label\":\"\",\"weight\":1},{\"weight\":1,\"label\":\"\",\"to\":\"16-10\",\"from\":\"16-0\"},{\"weight\":1,\"to\":\"15-13\",\"from\":\"15-0\",\"label\":\"\"},{\"label\":\"\",\"weight\":1,\"from\":\"25-0\",\"to\":\"25-2\"},{\"from\":\"0-0\",\"weight\":1,\"label\":\"\",\"to\":\"0-9\"},{\"weight\":1,\"from\":\"26-0\",\"to\":\"26-5\",\"label\":\"\"},{\"weight\":1,\"to\":\"18-12\",\"from\":\"18-0\",\"label\":\"\"},{\"weight\":1,\"to\":\"26-15\",\"label\":\"\",\"from\":\"26-0\"},{\"to\":\"0-1\",\"weight\":1,\"from\":\"0-0\",\"label\":\"\"},{\"label\":\"\",\"to\":\"12-8\",\"from\":\"12-0\",\"weight\":1},{\"weight\":1,\"to\":\"18-11\",\"label\":\"\",\"from\":\"18-0\"},{\"to\":\"22-1\",\"label\":\"\",\"from\":\"22-0\",\"weight\":1},{\"from\":\"29-0\",\"weight\":1,\"label\":\"\",\"to\":\"29-16\"},{\"to\":\"33-9\",\"label\":\"\",\"weight\":1,\"from\":\"33-0\"},{\"label\":\"\",\"from\":\"30-0\",\"to\":\"30-2\",\"weight\":1},{\"from\":\"22-0\",\"weight\":1,\"to\":\"22-4\",\"label\":\"\"},{\"weight\":1,\"to\":\"20-8\",\"label\":\"\",\"from\":\"20-0\"},{\"weight\":1,\"label\":\"\",\"from\":\"7-0\",\"to\":\"7-14\"},{\"weight\":1,\"to\":\"5-5\",\"from\":\"5-0\",\"label\":\"\"},{\"to\":\"26-8\",\"label\":\"\",\"from\":\"26-0\",\"weight\":1},{\"weight\":1,\"to\":\"32-5\",\"from\":\"32-0\",\"label\":\"\"},{\"from\":\"14-0\",\"weight\":1,\"to\":\"14-11\",\"label\":\"\"},{\"from\":\"21-0\",\"weight\":1,\"to\":\"21-9\",\"label\":\"\"},{\"label\":\"\",\"weight\":1,\"to\":\"27-3\",\"from\":\"27-0\"},{\"from\":\"7-0\",\"to\":\"7-12\",\"weight\":1,\"label\":\"\"},{\"label\":\"\",\"from\":\"33-0\",\"weight\":1,\"to\":\"33-6\"},{\"weight\":1,\"to\":\"38-3\",\"label\":\"\",\"from\":\"38-0\"},{\"from\":\"28-0\",\"weight\":1,\"to\":\"28-2\",\"label\":\"\"},{\"label\":\"\",\"weight\":1,\"from\":\"0-0\",\"to\":\"0-6\"},{\"from\":\"12-0\",\"weight\":1,\"label\":\"\",\"to\":\"12-11\"},{\"from\":\"36-0\",\"label\":\"\",\"to\":\"36-2\",\"weight\":1},{\"label\":\"\",\"to\":\"34-4\",\"weight\":1,\"from\":\"34-0\"},{\"from\":\"12-0\",\"weight\":1,\"to\":\"12-2\",\"label\":\"\"},{\"from\":\"6-0\",\"weight\":1,\"label\":\"\",\"to\":\"6-11\"},{\"weight\":1,\"to\":\"5-2\",\"label\":\"\",\"from\":\"5-0\"},{\"label\":\"\",\"from\":\"38-0\",\"to\":\"38-2\",\"weight\":1},{\"to\":\"17-2\",\"label\":\"\",\"from\":\"17-0\",\"weight\":1},{\"label\":\"\",\"weight\":1,\"to\":\"12-16\",\"from\":\"12-0\"},{\"from\":\"36-0\",\"weight\":1,\"to\":\"36-5\",\"label\":\"\"},{\"weight\":1,\"label\":\"\",\"to\":\"2-2\",\"from\":\"2-0\"},{\"from\":\"28-0\",\"to\":\"28-5\",\"weight\":1,\"label\":\"\"},{\"label\":\"\",\"from\":\"21-0\",\"weight\":1,\"to\":\"21-10\"},{\"to\":\"25-11\",\"weight\":1,\"label\":\"\",\"from\":\"25-0\"},{\"weight\":1,\"to\":\"7-9\",\"from\":\"7-0\",\"label\":\"\"},{\"to\":\"4-12\",\"label\":\"\",\"from\":\"4-0\",\"weight\":1},{\"weight\":1,\"to\":\"15-9\",\"from\":\"15-0\",\"label\":\"\"},{\"weight\":1,\"from\":\"26-0\",\"to\":\"26-4\",\"label\":\"\"},{\"weight\":1,\"label\":\"\",\"from\":\"39-0\",\"to\":\"39-5\"},{\"to\":\"14-7\",\"label\":\"\",\"from\":\"14-0\",\"weight\":1},{\"from\":\"2-0\",\"weight\":1,\"label\":\"\",\"to\":\"2-7\"},{\"from\":\"20-0\",\"label\":\"\",\"weight\":1,\"to\":\"20-11\"},{\"to\":\"29-3\",\"label\":\"\",\"weight\":1,\"from\":\"29-0\"},{\"to\":\"4-3\",\"label\":\"\",\"weight\":1,\"from\":\"4-0\"},{\"from\":\"14-0\",\"to\":\"14-2\",\"weight\":1,\"label\":\"\"},{\"label\":\"\",\"from\":\"38-0\",\"weight\":1,\"to\":\"38-1\"},{\"from\":\"11-0\",\"weight\":1,\"label\":\"\",\"to\":\"11-8\"},{\"weight\":1,\"label\":\"\",\"from\":\"17-0\",\"to\":\"17-1\"},{\"to\":\"26-6\",\"from\":\"26-0\",\"label\":\"\",\"weight\":1},{\"label\":\"\",\"to\":\"35-1\",\"weight\":1,\"from\":\"35-0\"},{\"from\":\"31-0\",\"weight\":1,\"label\":\"\",\"to\":\"31-5\"},{\"weight\":1,\"label\":\"\",\"to\":\"24-9\",\"from\":\"24-0\"},{\"label\":\"\",\"weight\":1,\"from\":\"32-0\",\"to\":\"32-12\"},{\"label\":\"\",\"from\":\"17-0\",\"to\":\"17-11\",\"weight\":1},{\"from\":\"13-0\",\"weight\":1,\"to\":\"13-4\",\"label\":\"\"},{\"to\":\"5-6\",\"weight\":1,\"label\":\"\",\"from\":\"5-0\"},{\"label\":\"\",\"weight\":1,\"from\":\"14-0\",\"to\":\"14-9\"},{\"from\":\"24-0\",\"to\":\"24-5\",\"label\":\"\",\"weight\":1},{\"to\":\"39-6\",\"label\":\"\",\"weight\":1,\"from\":\"39-0\"},{\"label\":\"\",\"from\":\"22-0\",\"to\":\"22-6\",\"weight\":1},{\"to\":\"9-10\",\"label\":\"\",\"weight\":1,\"from\":\"9-0\"},{\"to\":\"9-12\",\"weight\":1,\"label\":\"\",\"from\":\"9-0\"},{\"from\":\"9-0\",\"weight\":1,\"label\":\"\",\"to\":\"9-8\"},{\"weight\":1,\"from\":\"9-0\",\"to\":\"9-11\",\"label\":\"\"},{\"to\":\"9-3\",\"label\":\"\",\"weight\":1,\"from\":\"9-0\"},{\"to\":\"9-6\",\"label\":\"\",\"from\":\"9-0\",\"weight\":1},{\"label\":\"\",\"weight\":1,\"from\":\"9-0\",\"to\":\"9-1\"},{\"from\":\"9-0\",\"label\":\"\",\"to\":\"9-5\",\"weight\":1},{\"to\":\"9-7\",\"label\":\"\",\"from\":\"9-0\",\"weight\":1},{\"weight\":1,\"from\":\"9-0\",\"to\":\"9-9\",\"label\":\"\"},{\"weight\":1,\"label\":\"\",\"to\":\"9-2\",\"from\":\"9-0\"},{\"to\":\"9-4\",\"label\":\"\",\"from\":\"9-0\",\"weight\":1},{\"from\":\"21-0\",\"weight\":1,\"to\":\"21-7\",\"label\":\"\"},{\"from\":\"38-0\",\"label\":\"\",\"to\":\"38-4\",\"weight\":1},{\"weight\":1,\"from\":\"39-0\",\"to\":\"39-14\",\"label\":\"\"},{\"weight\":1,\"to\":\"29-15\",\"label\":\"\",\"from\":\"29-0\"},{\"weight\":1,\"label\":\"\",\"to\":\"5-8\",\"from\":\"5-0\"},{\"from\":\"26-0\",\"to\":\"26-7\",\"label\":\"\",\"weight\":1},{\"label\":\"\",\"to\":\"0-2\",\"from\":\"0-0\",\"weight\":1},{\"weight\":1,\"from\":\"37-0\",\"label\":\"\",\"to\":\"37-1\"},{\"to\":\"33-12\",\"label\":\"\",\"weight\":1,\"from\":\"33-0\"},{\"to\":\"26-1\",\"weight\":1,\"label\":\"\",\"from\":\"26-0\"},{\"label\":\"\",\"to\":\"0-8\",\"weight\":1,\"from\":\"0-0\"},{\"weight\":1,\"from\":\"21-0\",\"to\":\"21-4\",\"label\":\"\"},{\"from\":\"18-0\",\"weight\":1,\"to\":\"18-9\",\"label\":\"\"},{\"weight\":1,\"label\":\"\",\"from\":\"8-0\",\"to\":\"8-3\"},{\"from\":\"1-0\",\"label\":\"\",\"weight\":1,\"to\":\"1-3\"},{\"from\":\"18-0\",\"label\":\"\",\"to\":\"18-3\",\"weight\":1},{\"weight\":1,\"to\":\"4-14\",\"label\":\"\",\"from\":\"4-0\"},{\"to\":\"25-13\",\"weight\":1,\"from\":\"25-0\",\"label\":\"\"},{\"label\":\"\",\"from\":\"39-0\",\"weight\":1,\"to\":\"39-3\"},{\"from\":\"18-0\",\"weight\":1,\"label\":\"\",\"to\":\"18-2\"},{\"label\":\"\",\"from\":\"18-0\",\"weight\":1,\"to\":\"18-6\"},{\"to\":\"18-7\",\"from\":\"18-0\",\"label\":\"\",\"weight\":1},{\"from\":\"18-0\",\"label\":\"\",\"weight\":1,\"to\":\"18-8\"},{\"label\":\"\",\"from\":\"18-0\",\"to\":\"18-10\",\"weight\":1},{\"to\":\"18-4\",\"weight\":1,\"from\":\"18-0\",\"label\":\"\"},{\"to\":\"18-1\",\"from\":\"18-0\",\"label\":\"\",\"weight\":1},{\"from\":\"18-0\",\"label\":\"\",\"to\":\"18-5\",\"weight\":1},{\"weight\":1,\"to\":\"8-10\",\"from\":\"8-0\",\"label\":\"\"},{\"from\":\"34-0\",\"label\":\"\",\"weight\":1,\"to\":\"34-7\"},{\"label\":\"\",\"weight\":1,\"to\":\"35-9\",\"from\":\"35-0\"},{\"weight\":1,\"label\":\"\",\"from\":\"8-0\",\"to\":\"8-13\"},{\"weight\":1,\"label\":\"\",\"to\":\"19-8\",\"from\":\"19-0\"},{\"label\":\"\",\"from\":\"24-0\",\"weight\":1,\"to\":\"24-4\"},{\"to\":\"12-13\",\"weight\":1,\"label\":\"\",\"from\":\"12-0\"},{\"weight\":1,\"from\":\"38-0\",\"to\":\"38-6\",\"label\":\"\"},{\"weight\":1,\"to\":\"24-12\",\"from\":\"24-0\",\"label\":\"\"},{\"weight\":1,\"to\":\"37-6\",\"label\":\"\",\"from\":\"37-0\"},{\"from\":\"11-0\",\"label\":\"\",\"weight\":1,\"to\":\"11-5\"},{\"weight\":1,\"to\":\"31-11\",\"from\":\"31-0\",\"label\":\"\"},{\"from\":\"3-0\",\"to\":\"3-12\",\"label\":\"\",\"weight\":1},{\"to\":\"20-1\",\"label\":\"\",\"weight\":1,\"from\":\"20-0\"},{\"label\":\"\",\"to\":\"36-4\",\"weight\":1,\"from\":\"36-0\"},{\"label\":\"\",\"from\":\"36-0\",\"weight\":1,\"to\":\"36-3\"},{\"from\":\"36-0\",\"label\":\"\",\"weight\":1,\"to\":\"36-6\"},{\"to\":\"36-1\",\"from\":\"36-0\",\"weight\":1,\"label\":\"\"},{\"to\":\"36-10\",\"from\":\"36-0\",\"label\":\"\",\"weight\":1},{\"from\":\"36-0\",\"weight\":1,\"label\":\"\",\"to\":\"36-9\"},{\"to\":\"36-11\",\"weight\":1,\"from\":\"36-0\",\"label\":\"\"},{\"label\":\"\",\"from\":\"36-0\",\"to\":\"36-8\",\"weight\":1},{\"to\":\"36-7\",\"label\":\"\",\"from\":\"36-0\",\"weight\":1},{\"from\":\"23-0\",\"weight\":1,\"to\":\"23-6\",\"label\":\"\"},{\"weight\":1,\"label\":\"\",\"from\":\"12-0\",\"to\":\"12-15\"},{\"label\":\"\",\"from\":\"11-0\",\"to\":\"11-6\",\"weight\":1},{\"from\":\"33-0\",\"weight\":1,\"label\":\"\",\"to\":\"33-4\"},{\"to\":\"27-7\",\"label\":\"\",\"from\":\"27-0\",\"weight\":1},{\"from\":\"27-0\",\"label\":\"\",\"to\":\"27-8\",\"weight\":1},{\"to\":\"27-9\",\"weight\":1,\"from\":\"27-0\",\"label\":\"\"},{\"label\":\"\",\"from\":\"27-0\",\"weight\":1,\"to\":\"27-4\"},{\"to\":\"27-5\",\"label\":\"\",\"from\":\"27-0\",\"weight\":1},{\"from\":\"27-0\",\"to\":\"27-6\",\"weight\":1,\"label\":\"\"},{\"to\":\"27-2\",\"weight\":1,\"label\":\"\",\"from\":\"27-0\"},{\"label\":\"\",\"to\":\"27-1\",\"weight\":1,\"from\":\"27-0\"},{\"weight\":1,\"label\":\"\",\"to\":\"15-4\",\"from\":\"15-0\"},{\"weight\":1,\"label\":\"\",\"from\":\"19-0\",\"to\":\"19-6\"},{\"weight\":1,\"label\":\"\",\"from\":\"28-0\",\"to\":\"28-1\"},{\"weight\":1,\"from\":\"7-0\",\"label\":\"\",\"to\":\"7-6\"},{\"weight\":1,\"from\":\"25-0\",\"to\":\"25-7\",\"label\":\"\"},{\"from\":\"14-0\",\"to\":\"14-3\",\"weight\":1,\"label\":\"\"},{\"weight\":1,\"label\":\"\",\"to\":\"6-10\",\"from\":\"6-0\"},{\"to\":\"17-9\",\"label\":\"\",\"from\":\"17-0\",\"weight\":1},{\"weight\":1,\"from\":\"8-0\",\"to\":\"8-11\",\"label\":\"\"},{\"label\":\"\",\"from\":\"35-0\",\"weight\":1,\"to\":\"35-7\"},{\"label\":\"\",\"from\":\"35-0\",\"weight\":1,\"to\":\"35-8\"},{\"label\":\"\",\"from\":\"35-0\",\"weight\":1,\"to\":\"35-3\"},{\"to\":\"35-10\",\"weight\":1,\"from\":\"35-0\",\"label\":\"\"},{\"from\":\"35-0\",\"label\":\"\",\"weight\":1,\"to\":\"35-4\"},{\"from\":\"35-0\",\"to\":\"35-6\",\"weight\":1,\"label\":\"\"},{\"to\":\"35-2\",\"weight\":1,\"label\":\"\",\"from\":\"35-0\"},{\"from\":\"35-0\",\"label\":\"\",\"weight\":1,\"to\":\"35-5\"},{\"weight\":1,\"label\":\"\",\"to\":\"11-9\",\"from\":\"11-0\"},{\"from\":\"28-0\",\"weight\":1,\"label\":\"\",\"to\":\"28-4\"},{\"to\":\"1-5\",\"from\":\"1-0\",\"weight\":1,\"label\":\"\"},{\"from\":\"3-0\",\"weight\":1,\"to\":\"3-3\",\"label\":\"\"},{\"to\":\"6-3\",\"weight\":1,\"label\":\"\",\"from\":\"6-0\"},{\"label\":\"\",\"to\":\"6-1\",\"weight\":1,\"from\":\"6-0\"},{\"weight\":1,\"to\":\"6-13\",\"label\":\"\",\"from\":\"6-0\"},{\"label\":\"\",\"to\":\"6-4\",\"from\":\"6-0\",\"weight\":1},{\"to\":\"6-12\",\"weight\":1,\"from\":\"6-0\",\"label\":\"\"},{\"label\":\"\",\"to\":\"6-8\",\"weight\":1,\"from\":\"6-0\"},{\"to\":\"6-2\",\"label\":\"\",\"from\":\"6-0\",\"weight\":1},{\"to\":\"6-5\",\"weight\":1,\"from\":\"6-0\",\"label\":\"\"},{\"to\":\"6-7\",\"from\":\"6-0\",\"weight\":1,\"label\":\"\"},{\"from\":\"6-0\",\"weight\":1,\"to\":\"6-9\",\"label\":\"\"},{\"weight\":1,\"from\":\"6-0\",\"label\":\"\",\"to\":\"6-14\"},{\"weight\":1,\"label\":\"\",\"from\":\"6-0\",\"to\":\"6-6\"},{\"weight\":1,\"label\":\"\",\"from\":\"38-0\",\"to\":\"38-9\"},{\"from\":\"32-0\",\"to\":\"32-10\",\"weight\":1,\"label\":\"\"},{\"label\":\"\",\"from\":\"34-0\",\"to\":\"34-2\",\"weight\":1},{\"weight\":1,\"to\":\"15-3\",\"from\":\"15-0\",\"label\":\"\"},{\"to\":\"14-10\",\"weight\":1,\"from\":\"14-0\",\"label\":\"\"},{\"from\":\"21-0\",\"weight\":1,\"label\":\"\",\"to\":\"21-3\"},{\"to\":\"19-1\",\"weight\":1,\"from\":\"19-0\",\"label\":\"\"},{\"from\":\"32-0\",\"label\":\"\",\"weight\":1,\"to\":\"32-1\"},{\"to\":\"8-12\",\"label\":\"\",\"from\":\"8-0\",\"weight\":1},{\"weight\":1,\"label\":\"\",\"from\":\"7-0\",\"to\":\"7-10\"},{\"from\":\"21-0\",\"weight\":1,\"label\":\"\",\"to\":\"21-6\"},{\"from\":\"12-0\",\"label\":\"\",\"to\":\"12-9\",\"weight\":1},{\"to\":\"4-8\",\"from\":\"4-0\",\"label\":\"\",\"weight\":1},{\"to\":\"24-8\",\"label\":\"\",\"weight\":1,\"from\":\"24-0\"},{\"from\":\"4-0\",\"weight\":1,\"to\":\"4-6\",\"label\":\"\"},{\"from\":\"23-0\",\"weight\":1,\"label\":\"\",\"to\":\"23-4\"},{\"label\":\"\",\"weight\":1,\"from\":\"33-0\",\"to\":\"33-11\"},{\"label\":\"\",\"from\":\"8-0\",\"to\":\"8-14\",\"weight\":1},{\"weight\":1,\"to\":\"4-11\",\"label\":\"\",\"from\":\"4-0\"},{\"weight\":1,\"to\":\"34-5\",\"from\":\"34-0\",\"label\":\"\"},{\"weight\":1,\"from\":\"22-0\",\"to\":\"22-3\",\"label\":\"\"},{\"weight\":1,\"to\":\"22-9\",\"label\":\"\",\"from\":\"22-0\"},{\"label\":\"\",\"weight\":1,\"to\":\"22-7\",\"from\":\"22-0\"},{\"label\":\"\",\"to\":\"22-2\",\"from\":\"22-0\",\"weight\":1},{\"to\":\"22-5\",\"from\":\"22-0\",\"weight\":1,\"label\":\"\"},{\"to\":\"22-10\",\"label\":\"\",\"from\":\"22-0\",\"weight\":1},{\"from\":\"22-0\",\"weight\":1,\"label\":\"\",\"to\":\"22-8\"},{\"weight\":1,\"label\":\"\",\"to\":\"12-12\",\"from\":\"12-0\"},{\"weight\":1,\"to\":\"23-8\",\"from\":\"23-0\",\"label\":\"\"},{\"from\":\"34-0\",\"to\":\"34-1\",\"label\":\"\",\"weight\":1},{\"from\":\"34-0\",\"weight\":1,\"to\":\"34-8\",\"label\":\"\"},{\"from\":\"34-0\",\"label\":\"\",\"to\":\"34-3\",\"weight\":1},{\"label\":\"\",\"from\":\"34-0\",\"to\":\"34-6\",\"weight\":1},{\"from\":\"32-0\",\"label\":\"\",\"to\":\"32-4\",\"weight\":1},{\"from\":\"13-0\",\"weight\":1,\"label\":\"\",\"to\":\"13-2\"},{\"from\":\"13-0\",\"label\":\"\",\"weight\":1,\"to\":\"13-11\"},{\"label\":\"\",\"to\":\"13-6\",\"from\":\"13-0\",\"weight\":1},{\"label\":\"\",\"from\":\"13-0\",\"to\":\"13-12\",\"weight\":1},{\"label\":\"\",\"from\":\"13-0\",\"to\":\"13-8\",\"weight\":1},{\"from\":\"13-0\",\"weight\":1,\"label\":\"\",\"to\":\"13-14\"},{\"label\":\"\",\"weight\":1,\"from\":\"13-0\",\"to\":\"13-3\"},{\"to\":\"13-13\",\"label\":\"\",\"from\":\"13-0\",\"weight\":1},{\"to\":\"13-1\",\"weight\":1,\"from\":\"13-0\",\"label\":\"\"},{\"from\":\"13-0\",\"label\":\"\",\"weight\":1,\"to\":\"13-10\"},{\"label\":\"\",\"to\":\"13-7\",\"weight\":1,\"from\":\"13-0\"},{\"weight\":1,\"from\":\"13-0\",\"to\":\"13-5\",\"label\":\"\"},{\"weight\":1,\"label\":\"\",\"to\":\"13-9\",\"from\":\"13-0\"},{\"to\":\"4-13\",\"weight\":1,\"from\":\"4-0\",\"label\":\"\"},{\"to\":\"2-3\",\"from\":\"2-0\",\"weight\":1,\"label\":\"\"},{\"label\":\"\",\"weight\":1,\"from\":\"5-0\",\"to\":\"5-3\"},{\"from\":\"33-0\",\"label\":\"\",\"to\":\"33-1\",\"weight\":1},{\"from\":\"29-0\",\"weight\":1,\"to\":\"29-4\",\"label\":\"\"},{\"to\":\"20-6\",\"weight\":1,\"from\":\"20-0\",\"label\":\"\"},{\"from\":\"30-0\",\"weight\":1,\"label\":\"\",\"to\":\"30-7\"},{\"from\":\"8-0\",\"weight\":1,\"to\":\"8-6\",\"label\":\"\"},{\"from\":\"10-0\",\"label\":\"\",\"to\":\"10-1\",\"weight\":1},{\"weight\":1,\"label\":\"\",\"to\":\"39-1\",\"from\":\"39-0\"},{\"to\":\"39-11\",\"label\":\"\",\"from\":\"39-0\",\"weight\":1},{\"from\":\"39-0\",\"to\":\"39-10\",\"weight\":1,\"label\":\"\"},{\"weight\":1,\"from\":\"39-0\",\"to\":\"39-12\",\"label\":\"\"},{\"from\":\"39-0\",\"label\":\"\",\"weight\":1,\"to\":\"39-7\"},{\"to\":\"39-13\",\"from\":\"39-0\",\"weight\":1,\"label\":\"\"},{\"to\":\"39-4\",\"from\":\"39-0\",\"weight\":1,\"label\":\"\"},{\"to\":\"39-8\",\"from\":\"39-0\",\"weight\":1,\"label\":\"\"},{\"from\":\"39-0\",\"to\":\"39-9\",\"label\":\"\",\"weight\":1},{\"to\":\"39-2\",\"weight\":1,\"from\":\"39-0\",\"label\":\"\"},{\"weight\":1,\"to\":\"37-8\",\"label\":\"\",\"from\":\"37-0\"},{\"to\":\"3-5\",\"from\":\"3-0\",\"weight\":1,\"label\":\"\"},{\"label\":\"\",\"to\":\"1-1\",\"weight\":1,\"from\":\"1-0\"},{\"label\":\"\",\"from\":\"19-0\",\"to\":\"19-7\",\"weight\":1},{\"label\":\"\",\"to\":\"19-5\",\"weight\":1,\"from\":\"19-0\"},{\"from\":\"19-0\",\"weight\":1,\"label\":\"\",\"to\":\"19-2\"},{\"weight\":1,\"to\":\"19-3\",\"from\":\"19-0\",\"label\":\"\"},{\"label\":\"\",\"from\":\"19-0\",\"weight\":1,\"to\":\"19-4\"},{\"label\":\"\",\"to\":\"15-7\",\"from\":\"15-0\",\"weight\":1},{\"from\":\"15-0\",\"to\":\"15-1\",\"label\":\"\",\"weight\":1},{\"weight\":1,\"to\":\"15-10\",\"label\":\"\",\"from\":\"15-0\"},{\"label\":\"\",\"from\":\"15-0\",\"weight\":1,\"to\":\"15-5\"},{\"from\":\"15-0\",\"label\":\"\",\"to\":\"15-11\",\"weight\":1},{\"label\":\"\",\"to\":\"15-6\",\"from\":\"15-0\",\"weight\":1},{\"weight\":1,\"from\":\"15-0\",\"label\":\"\",\"to\":\"15-8\"},{\"to\":\"15-2\",\"from\":\"15-0\",\"weight\":1,\"label\":\"\"},{\"from\":\"15-0\",\"label\":\"\",\"weight\":1,\"to\":\"15-12\"},{\"from\":\"37-0\",\"weight\":1,\"to\":\"37-5\",\"label\":\"\"},{\"weight\":1,\"label\":\"\",\"from\":\"17-0\",\"to\":\"17-8\"},{\"label\":\"\",\"from\":\"23-0\",\"to\":\"23-2\",\"weight\":1},{\"weight\":1,\"to\":\"14-1\",\"label\":\"\",\"from\":\"14-0\"},{\"from\":\"14-0\",\"to\":\"14-6\",\"weight\":1,\"label\":\"\"},{\"from\":\"7-0\",\"weight\":1,\"to\":\"7-3\",\"label\":\"\"},{\"label\":\"\",\"weight\":1,\"from\":\"23-0\",\"to\":\"23-5\"},{\"from\":\"28-0\",\"weight\":1,\"to\":\"28-8\",\"label\":\"\"},{\"from\":\"28-0\",\"weight\":1,\"label\":\"\",\"to\":\"28-6\"},{\"label\":\"\",\"weight\":1,\"from\":\"28-0\",\"to\":\"28-7\"},{\"from\":\"28-0\",\"label\":\"\",\"to\":\"28-3\",\"weight\":1},{\"from\":\"4-0\",\"weight\":1,\"label\":\"\",\"to\":\"4-4\"},{\"to\":\"2-12\",\"weight\":1,\"from\":\"2-0\",\"label\":\"\"},{\"label\":\"\",\"to\":\"25-12\",\"from\":\"25-0\",\"weight\":1},{\"from\":\"17-0\",\"to\":\"17-7\",\"weight\":1,\"label\":\"\"},{\"from\":\"0-0\",\"weight\":1,\"label\":\"\",\"to\":\"0-10\"},{\"from\":\"1-0\",\"label\":\"\",\"to\":\"1-2\",\"weight\":1},{\"from\":\"25-0\",\"weight\":1,\"to\":\"25-6\",\"label\":\"\"},{\"weight\":1,\"label\":\"\",\"to\":\"20-12\",\"from\":\"20-0\"},{\"weight\":1,\"to\":\"20-7\",\"label\":\"\",\"from\":\"20-0\"},{\"weight\":1,\"label\":\"\",\"from\":\"20-0\",\"to\":\"20-3\"},{\"weight\":1,\"to\":\"20-13\",\"from\":\"20-0\",\"label\":\"\"},{\"weight\":1,\"to\":\"20-5\",\"from\":\"20-0\",\"label\":\"\"},{\"label\":\"\",\"from\":\"20-0\",\"to\":\"20-10\",\"weight\":1},{\"to\":\"20-2\",\"label\":\"\",\"weight\":1,\"from\":\"20-0\"},{\"label\":\"\",\"to\":\"20-4\",\"weight\":1,\"from\":\"20-0\"},{\"label\":\"\",\"from\":\"20-0\",\"to\":\"20-9\",\"weight\":1},{\"weight\":1,\"from\":\"14-0\",\"to\":\"14-15\",\"label\":\"\"},{\"weight\":1,\"from\":\"2-0\",\"label\":\"\",\"to\":\"2-10\"},{\"to\":\"10-3\",\"weight\":1,\"from\":\"10-0\",\"label\":\"\"},{\"to\":\"25-10\",\"from\":\"25-0\",\"weight\":1,\"label\":\"\"},{\"label\":\"\",\"to\":\"32-14\",\"weight\":1,\"from\":\"32-0\"},{\"label\":\"\",\"from\":\"24-0\",\"to\":\"24-15\",\"weight\":1},{\"from\":\"33-0\",\"weight\":1,\"label\":\"\",\"to\":\"33-5\"},{\"label\":\"\",\"from\":\"26-0\",\"weight\":1,\"to\":\"26-9\"},{\"weight\":1,\"from\":\"21-0\",\"label\":\"\",\"to\":\"21-1\"},{\"to\":\"17-14\",\"from\":\"17-0\",\"weight\":1,\"label\":\"\"},{\"label\":\"\",\"from\":\"29-0\",\"weight\":1,\"to\":\"29-13\"},{\"weight\":1,\"from\":\"31-0\",\"label\":\"\",\"to\":\"31-10\"},{\"weight\":1,\"label\":\"\",\"to\":\"14-12\",\"from\":\"14-0\"},{\"to\":\"24-13\",\"from\":\"24-0\",\"weight\":1,\"label\":\"\"},{\"to\":\"24-3\",\"weight\":1,\"label\":\"\",\"from\":\"24-0\"},{\"from\":\"24-0\",\"weight\":1,\"to\":\"24-16\",\"label\":\"\"},{\"from\":\"24-0\",\"weight\":1,\"to\":\"24-2\",\"label\":\"\"},{\"from\":\"24-0\",\"label\":\"\",\"to\":\"24-11\",\"weight\":1},{\"label\":\"\",\"weight\":1,\"to\":\"24-7\",\"from\":\"24-0\"},{\"to\":\"24-6\",\"from\":\"24-0\",\"weight\":1,\"label\":\"\"},{\"label\":\"\",\"from\":\"24-0\",\"to\":\"24-14\",\"weight\":1},{\"to\":\"24-1\",\"from\":\"24-0\",\"label\":\"\",\"weight\":1},{\"from\":\"24-0\",\"to\":\"24-10\",\"weight\":1,\"label\":\"\"},{\"label\":\"\",\"weight\":1,\"from\":\"11-0\",\"to\":\"11-2\"},{\"weight\":1,\"label\":\"\",\"to\":\"3-9\",\"from\":\"3-0\"},{\"weight\":1,\"from\":\"3-0\",\"label\":\"\",\"to\":\"3-10\"},{\"from\":\"3-0\",\"weight\":1,\"label\":\"\",\"to\":\"3-2\"},{\"weight\":1,\"to\":\"3-8\",\"label\":\"\",\"from\":\"3-0\"},{\"weight\":1,\"from\":\"3-0\",\"to\":\"3-6\",\"label\":\"\"},{\"weight\":1,\"to\":\"3-1\",\"label\":\"\",\"from\":\"3-0\"},{\"label\":\"\",\"weight\":1,\"from\":\"3-0\",\"to\":\"3-7\"},{\"from\":\"3-0\",\"weight\":1,\"label\":\"\",\"to\":\"3-11\"},{\"label\":\"\",\"weight\":1,\"from\":\"3-0\",\"to\":\"3-4\"},{\"weight\":1,\"from\":\"3-0\",\"label\":\"\",\"to\":\"3-14\"},{\"to\":\"3-13\",\"from\":\"3-0\",\"label\":\"\",\"weight\":1},{\"from\":\"29-0\",\"weight\":1,\"to\":\"29-6\",\"label\":\"\"},{\"weight\":1,\"to\":\"23-9\",\"from\":\"23-0\",\"label\":\"\"},{\"from\":\"31-0\",\"label\":\"\",\"weight\":1,\"to\":\"31-6\"},{\"label\":\"\",\"weight\":1,\"to\":\"30-8\",\"from\":\"30-0\"},{\"label\":\"\",\"to\":\"30-4\",\"from\":\"30-0\",\"weight\":1},{\"label\":\"\",\"from\":\"30-0\",\"weight\":1,\"to\":\"30-5\"},{\"to\":\"30-1\",\"weight\":1,\"label\":\"\",\"from\":\"30-0\"},{\"to\":\"30-6\",\"from\":\"30-0\",\"weight\":1,\"label\":\"\"},{\"from\":\"30-0\",\"to\":\"30-3\",\"weight\":1,\"label\":\"\"},{\"from\":\"31-0\",\"label\":\"\",\"weight\":1,\"to\":\"31-9\"},{\"weight\":1,\"to\":\"32-8\",\"from\":\"32-0\",\"label\":\"\"},{\"weight\":1,\"from\":\"8-0\",\"label\":\"\",\"to\":\"8-7\"},{\"weight\":1,\"from\":\"0-0\",\"to\":\"0-3\",\"label\":\"\"},{\"to\":\"0-4\",\"label\":\"\",\"from\":\"0-0\",\"weight\":1},{\"weight\":1,\"to\":\"0-5\",\"label\":\"\",\"from\":\"0-0\"},{\"weight\":1,\"label\":\"\",\"from\":\"0-0\",\"to\":\"0-7\"},{\"from\":\"1-0\",\"weight\":1,\"label\":\"\",\"to\":\"1-8\"},{\"label\":\"\",\"weight\":1,\"to\":\"10-2\",\"from\":\"10-0\"},{\"from\":\"10-0\",\"to\":\"10-8\",\"weight\":1,\"label\":\"\"},{\"from\":\"10-0\",\"to\":\"10-5\",\"weight\":1,\"label\":\"\"},{\"from\":\"10-0\",\"weight\":1,\"to\":\"10-6\",\"label\":\"\"},{\"weight\":1,\"from\":\"10-0\",\"label\":\"\",\"to\":\"10-7\"},{\"from\":\"10-0\",\"weight\":1,\"to\":\"10-4\",\"label\":\"\"},{\"weight\":1,\"to\":\"29-5\",\"from\":\"29-0\",\"label\":\"\"},{\"to\":\"7-5\",\"from\":\"7-0\",\"label\":\"\",\"weight\":1},{\"label\":\"\",\"weight\":1,\"to\":\"21-8\",\"from\":\"21-0\"},{\"to\":\"38-5\",\"from\":\"38-0\",\"weight\":1,\"label\":\"\"},{\"to\":\"4-1\",\"label\":\"\",\"from\":\"4-0\",\"weight\":1},{\"label\":\"\",\"weight\":1,\"from\":\"7-0\",\"to\":\"7-1\"},{\"from\":\"25-0\",\"to\":\"25-3\",\"weight\":1,\"label\":\"\"},{\"from\":\"5-0\",\"weight\":1,\"to\":\"5-9\",\"label\":\"\"},{\"from\":\"29-0\",\"to\":\"29-8\",\"weight\":1,\"label\":\"\"},{\"from\":\"25-0\",\"label\":\"\",\"weight\":1,\"to\":\"25-14\"},{\"to\":\"29-10\",\"label\":\"\",\"from\":\"29-0\",\"weight\":1},{\"to\":\"14-14\",\"from\":\"14-0\",\"label\":\"\",\"weight\":1},{\"label\":\"\",\"from\":\"38-0\",\"weight\":1,\"to\":\"38-8\"},{\"label\":\"\",\"to\":\"33-10\",\"from\":\"33-0\",\"weight\":1},{\"weight\":1,\"label\":\"\",\"from\":\"17-0\",\"to\":\"17-15\"},{\"to\":\"29-11\",\"label\":\"\",\"from\":\"29-0\",\"weight\":1},{\"weight\":1,\"label\":\"\",\"from\":\"29-0\",\"to\":\"29-9\"},{\"label\":\"\",\"weight\":1,\"to\":\"23-1\",\"from\":\"23-0\"},{\"weight\":1,\"label\":\"\",\"to\":\"21-5\",\"from\":\"21-0\"},{\"from\":\"26-0\",\"weight\":1,\"to\":\"26-14\",\"label\":\"\"},{\"from\":\"26-0\",\"to\":\"26-13\",\"label\":\"\",\"weight\":1},{\"to\":\"32-9\",\"label\":\"\",\"from\":\"32-0\",\"weight\":1},{\"label\":\"\",\"from\":\"11-0\",\"to\":\"11-11\",\"weight\":1},{\"weight\":1,\"label\":\"\",\"to\":\"2-8\",\"from\":\"2-0\"},{\"label\":\"\",\"to\":\"11-3\",\"from\":\"11-0\",\"weight\":1},{\"to\":\"25-15\",\"from\":\"25-0\",\"label\":\"\",\"weight\":1},{\"to\":\"5-12\",\"label\":\"\",\"weight\":1,\"from\":\"5-0\"},{\"label\":\"\",\"from\":\"5-0\",\"to\":\"5-4\",\"weight\":1},{\"to\":\"5-7\",\"label\":\"\",\"weight\":1,\"from\":\"5-0\"},{\"label\":\"\",\"from\":\"5-0\",\"to\":\"5-10\",\"weight\":1},{\"from\":\"5-0\",\"to\":\"5-11\",\"weight\":1,\"label\":\"\"},{\"to\":\"5-1\",\"weight\":1,\"from\":\"5-0\",\"label\":\"\"},{\"label\":\"\",\"from\":\"2-0\",\"weight\":1,\"to\":\"2-6\"},{\"to\":\"33-8\",\"from\":\"33-0\",\"label\":\"\",\"weight\":1},{\"weight\":1,\"to\":\"12-7\",\"from\":\"12-0\",\"label\":\"\"},{\"label\":\"\",\"from\":\"4-0\",\"to\":\"4-9\",\"weight\":1},{\"from\":\"21-0\",\"to\":\"21-11\",\"weight\":1,\"label\":\"\"},{\"to\":\"21-2\",\"from\":\"21-0\",\"weight\":1,\"label\":\"\"},{\"label\":\"\",\"to\":\"21-12\",\"weight\":1,\"from\":\"21-0\"},{\"weight\":1,\"label\":\"\",\"from\":\"8-0\",\"to\":\"8-9\"},{\"weight\":1,\"to\":\"29-12\",\"label\":\"\",\"from\":\"29-0\"},{\"to\":\"25-4\",\"label\":\"\",\"from\":\"25-0\",\"weight\":1},{\"to\":\"23-3\",\"weight\":1,\"from\":\"23-0\",\"label\":\"\"},{\"label\":\"\",\"weight\":1,\"from\":\"7-0\",\"to\":\"7-11\"},{\"to\":\"29-2\",\"weight\":1,\"from\":\"29-0\",\"label\":\"\"},{\"from\":\"14-0\",\"label\":\"\",\"to\":\"14-5\",\"weight\":1},{\"weight\":1,\"from\":\"14-0\",\"label\":\"\",\"to\":\"14-4\"},{\"weight\":1,\"to\":\"14-8\",\"label\":\"\",\"from\":\"14-0\"},{\"to\":\"14-13\",\"from\":\"14-0\",\"label\":\"\",\"weight\":1},{\"label\":\"\",\"from\":\"17-0\",\"to\":\"17-4\",\"weight\":1},{\"weight\":1,\"from\":\"12-0\",\"label\":\"\",\"to\":\"12-4\"},{\"to\":\"31-4\",\"label\":\"\",\"weight\":1,\"from\":\"31-0\"},{\"label\":\"\",\"weight\":1,\"from\":\"31-0\",\"to\":\"31-8\"},{\"label\":\"\",\"weight\":1,\"to\":\"31-7\",\"from\":\"31-0\"},{\"label\":\"\",\"to\":\"31-1\",\"weight\":1,\"from\":\"31-0\"},{\"label\":\"\",\"from\":\"31-0\",\"weight\":1,\"to\":\"31-12\"},{\"label\":\"\",\"to\":\"31-2\",\"weight\":1,\"from\":\"31-0\"},{\"label\":\"\",\"to\":\"31-3\",\"from\":\"31-0\",\"weight\":1},{\"to\":\"4-2\",\"weight\":1,\"label\":\"\",\"from\":\"4-0\"},{\"from\":\"33-0\",\"to\":\"33-2\",\"weight\":1,\"label\":\"\"},{\"weight\":1,\"from\":\"32-0\",\"to\":\"32-11\",\"label\":\"\"},{\"weight\":1,\"to\":\"17-10\",\"from\":\"17-0\",\"label\":\"\"},{\"to\":\"17-12\",\"label\":\"\",\"weight\":1,\"from\":\"17-0\"},{\"from\":\"12-0\",\"weight\":1,\"to\":\"12-6\",\"label\":\"\"},{\"label\":\"\",\"from\":\"4-0\",\"weight\":1,\"to\":\"4-10\"},{\"label\":\"\",\"from\":\"4-0\",\"to\":\"4-7\",\"weight\":1},{\"from\":\"4-0\",\"to\":\"4-5\",\"weight\":1,\"label\":\"\"},{\"to\":\"25-8\",\"from\":\"25-0\",\"weight\":1,\"label\":\"\"},{\"label\":\"\",\"from\":\"17-0\",\"weight\":1,\"to\":\"17-13\"},{\"from\":\"17-0\",\"weight\":1,\"to\":\"17-6\",\"label\":\"\"},{\"weight\":1,\"from\":\"17-0\",\"to\":\"17-3\",\"label\":\"\"},{\"label\":\"\",\"to\":\"17-5\",\"weight\":1,\"from\":\"17-0\"},{\"weight\":1,\"from\":\"8-0\",\"label\":\"\",\"to\":\"8-2\"},{\"weight\":1,\"to\":\"12-10\",\"label\":\"\",\"from\":\"12-0\"},{\"from\":\"12-0\",\"to\":\"12-1\",\"label\":\"\",\"weight\":1},{\"weight\":1,\"from\":\"12-0\",\"to\":\"12-14\",\"label\":\"\"},{\"label\":\"\",\"from\":\"12-0\",\"weight\":1,\"to\":\"12-3\"},{\"weight\":1,\"label\":\"\",\"from\":\"12-0\",\"to\":\"12-5\"},{\"to\":\"1-9\",\"from\":\"1-0\",\"weight\":1,\"label\":\"\"},{\"from\":\"23-0\",\"label\":\"\",\"to\":\"23-7\",\"weight\":1},{\"to\":\"32-7\",\"weight\":1,\"from\":\"32-0\",\"label\":\"\"},{\"label\":\"\",\"weight\":1,\"to\":\"8-1\",\"from\":\"8-0\"},{\"from\":\"1-0\",\"label\":\"\",\"to\":\"1-10\",\"weight\":1},{\"from\":\"8-0\",\"label\":\"\",\"weight\":1,\"to\":\"8-4\"},{\"label\":\"\",\"to\":\"32-13\",\"from\":\"32-0\",\"weight\":1},{\"to\":\"1-6\",\"from\":\"1-0\",\"label\":\"\",\"weight\":1},{\"weight\":1,\"from\":\"1-0\",\"to\":\"1-11\",\"label\":\"\"},{\"label\":\"\",\"weight\":1,\"to\":\"1-7\",\"from\":\"1-0\"},{\"weight\":1,\"to\":\"1-12\",\"label\":\"\",\"from\":\"1-0\"},{\"to\":\"1-4\",\"label\":\"\",\"from\":\"1-0\",\"weight\":1},{\"from\":\"32-0\",\"to\":\"32-6\",\"label\":\"\",\"weight\":1},{\"label\":\"\",\"weight\":1,\"to\":\"7-4\",\"from\":\"7-0\"},{\"label\":\"\",\"weight\":1,\"from\":\"26-0\",\"to\":\"26-10\"},{\"to\":\"26-3\",\"from\":\"26-0\",\"label\":\"\",\"weight\":1},{\"from\":\"26-0\",\"to\":\"26-2\",\"weight\":1,\"label\":\"\"},{\"weight\":1,\"label\":\"\",\"to\":\"26-11\",\"from\":\"26-0\"},{\"weight\":1,\"label\":\"\",\"to\":\"26-12\",\"from\":\"26-0\"},{\"weight\":1,\"to\":\"25-5\",\"from\":\"25-0\",\"label\":\"\"},{\"from\":\"25-0\",\"label\":\"\",\"weight\":1,\"to\":\"25-9\"},{\"label\":\"\",\"to\":\"25-1\",\"weight\":1,\"from\":\"25-0\"},{\"from\":\"37-0\",\"to\":\"37-7\",\"label\":\"\",\"weight\":1},{\"label\":\"\",\"to\":\"37-3\",\"weight\":1,\"from\":\"37-0\"},{\"from\":\"37-0\",\"to\":\"37-4\",\"weight\":1,\"label\":\"\"},{\"from\":\"37-0\",\"weight\":1,\"to\":\"37-2\",\"label\":\"\"},{\"weight\":1,\"from\":\"32-0\",\"to\":\"32-3\",\"label\":\"\"},{\"label\":\"\",\"from\":\"32-0\",\"to\":\"32-15\",\"weight\":1},{\"to\":\"32-2\",\"label\":\"\",\"weight\":1,\"from\":\"32-0\"},{\"weight\":1,\"label\":\"\",\"from\":\"11-0\",\"to\":\"11-10\"},{\"weight\":1,\"label\":\"\",\"to\":\"29-14\",\"from\":\"29-0\"},{\"label\":\"\",\"from\":\"29-0\",\"weight\":1,\"to\":\"29-1\"},{\"weight\":1,\"label\":\"\",\"to\":\"11-7\",\"from\":\"11-0\"},{\"label\":\"\",\"to\":\"8-5\",\"weight\":1,\"from\":\"8-0\"},{\"weight\":1,\"label\":\"\",\"to\":\"8-8\",\"from\":\"8-0\"},{\"weight\":1,\"to\":\"33-3\",\"label\":\"\",\"from\":\"33-0\"},{\"to\":\"2-4\",\"from\":\"2-0\",\"weight\":1,\"label\":\"\"},{\"from\":\"2-0\",\"label\":\"\",\"weight\":1,\"to\":\"2-11\"},{\"label\":\"\",\"weight\":1,\"from\":\"33-0\",\"to\":\"33-7\"},{\"label\":\"\",\"to\":\"7-2\",\"from\":\"7-0\",\"weight\":1},{\"label\":\"\",\"from\":\"7-0\",\"to\":\"7-13\",\"weight\":1},{\"to\":\"7-8\",\"from\":\"7-0\",\"label\":\"\",\"weight\":1},{\"weight\":1,\"label\":\"\",\"from\":\"7-0\",\"to\":\"7-7\"},{\"label\":\"\",\"to\":\"11-4\",\"from\":\"11-0\",\"weight\":1},{\"weight\":1,\"label\":\"\",\"to\":\"11-1\",\"from\":\"11-0\"},{\"label\":\"\",\"weight\":1,\"from\":\"2-0\",\"to\":\"2-9\"},{\"weight\":1,\"to\":\"2-5\",\"label\":\"\",\"from\":\"2-0\"},{\"label\":\"\",\"to\":\"2-1\",\"weight\":1,\"from\":\"2-0\"},{\"to\":\"38-7\",\"from\":\"38-0\",\"weight\":1,\"label\":\"\"},{\"from\":\"29-0\",\"to\":\"29-7\",\"label\":\"\",\"weight\":1}];\n\nconst nodes = Array.from(new Set(edges.flatMap(e => [e.from, e.to])), id => ({id}));\n\nconst highlightSpecs = {\"#DC7190\":[\"29-0\",\"29-1\",\"29-10\",\"29-11\",\"29-12\",\"29-13\",\"29-14\",\"29-15\",\"29-16\",\"29-2\",\"29-3\",\"29-4\",\"29-5\",\"29-6\",\"29-7\",\"29-8\",\"29-9\",[\"29-0\",\"29-1\"],[\"29-0\",\"29-10\"],[\"29-0\",\"29-11\"],[\"29-0\",\"29-12\"],[\"29-0\",\"29-13\"],[\"29-0\",\"29-14\"],[\"29-0\",\"29-15\"],[\"29-0\",\"29-16\"],[\"29-0\",\"29-2\"],[\"29-0\",\"29-3\"],[\"29-0\",\"29-4\"],[\"29-0\",\"29-5\"],[\"29-0\",\"29-6\"],[\"29-0\",\"29-7\"],[\"29-0\",\"29-8\"],[\"29-0\",\"29-9\"],[\"29-1\",\"29-0\"],[\"29-10\",\"29-0\"],[\"29-11\",\"29-0\"],[\"29-12\",\"29-0\"],[\"29-13\",\"29-0\"],[\"29-14\",\"29-0\"],[\"29-15\",\"29-0\"],[\"29-16\",\"29-0\"],[\"29-2\",\"29-0\"],[\"29-3\",\"29-0\"],[\"29-4\",\"29-0\"],[\"29-5\",\"29-0\"],[\"29-6\",\"29-0\"],[\"29-7\",\"29-0\"],[\"29-8\",\"29-0\"],[\"29-9\",\"29-0\"]],\"#BE62AE\":[\"2-0\",\"2-1\",\"2-10\",\"2-11\",\"2-12\",\"2-2\",\"2-3\",\"2-4\",\"2-5\",\"2-6\",\"2-7\",\"2-8\",\"2-9\",[\"2-0\",\"2-1\"],[\"2-0\",\"2-10\"],[\"2-0\",\"2-11\"],[\"2-0\",\"2-12\"],[\"2-0\",\"2-2\"],[\"2-0\",\"2-3\"],[\"2-0\",\"2-4\"],[\"2-0\",\"2-5\"],[\"2-0\",\"2-6\"],[\"2-0\",\"2-7\"],[\"2-0\",\"2-8\"],[\"2-0\",\"2-9\"],[\"2-1\",\"2-0\"],[\"2-10\",\"2-0\"],[\"2-11\",\"2-0\"],[\"2-12\",\"2-0\"],[\"2-2\",\"2-0\"],[\"2-3\",\"2-0\"],[\"2-4\",\"2-0\"],[\"2-5\",\"2-0\"],[\"2-6\",\"2-0\"],[\"2-7\",\"2-0\"],[\"2-8\",\"2-0\"],[\"2-9\",\"2-0\"]],\"#8C49E0\":[\"4-0\",\"4-1\",\"4-10\",\"4-11\",\"4-12\",\"4-13\",\"4-14\",\"4-2\",\"4-3\",\"4-4\",\"4-5\",\"4-6\",\"4-7\",\"4-8\",\"4-9\",[\"4-0\",\"4-1\"],[\"4-0\",\"4-10\"],[\"4-0\",\"4-11\"],[\"4-0\",\"4-12\"],[\"4-0\",\"4-13\"],[\"4-0\",\"4-14\"],[\"4-0\",\"4-2\"],[\"4-0\",\"4-3\"],[\"4-0\",\"4-4\"],[\"4-0\",\"4-5\"],[\"4-0\",\"4-6\"],[\"4-0\",\"4-7\"],[\"4-0\",\"4-8\"],[\"4-0\",\"4-9\"],[\"4-1\",\"4-0\"],[\"4-10\",\"4-0\"],[\"4-11\",\"4-0\"],[\"4-12\",\"4-0\"],[\"4-13\",\"4-0\"],[\"4-14\",\"4-0\"],[\"4-2\",\"4-0\"],[\"4-3\",\"4-0\"],[\"4-4\",\"4-0\"],[\"4-5\",\"4-0\"],[\"4-6\",\"4-0\"],[\"4-7\",\"4-0\"],[\"4-8\",\"4-0\"],[\"4-9\",\"4-0\"]],\"#C867A4\":[\"19-0\",\"19-1\",\"19-2\",\"19-3\",\"19-4\",\"19-5\",\"19-6\",\"19-7\",\"19-8\",[\"19-0\",\"19-1\"],[\"19-0\",\"19-2\"],[\"19-0\",\"19-3\"],[\"19-0\",\"19-4\"],[\"19-0\",\"19-5\"],[\"19-0\",\"19-6\"],[\"19-0\",\"19-7\"],[\"19-0\",\"19-8\"],[\"19-1\",\"19-0\"],[\"19-2\",\"19-0\"],[\"19-3\",\"19-0\"],[\"19-4\",\"19-0\"],[\"19-5\",\"19-0\"],[\"19-6\",\"19-0\"],[\"19-7\",\"19-0\"],[\"19-8\",\"19-0\"]],\"#964ED6\":[\"16-0\",\"16-1\",\"16-10\",\"16-11\",\"16-12\",\"16-13\",\"16-14\",\"16-15\",\"16-2\",\"16-3\",\"16-4\",\"16-5\",\"16-6\",\"16-7\",\"16-8\",\"16-9\",[\"16-0\",\"16-1\"],[\"16-0\",\"16-10\"],[\"16-0\",\"16-11\"],[\"16-0\",\"16-12\"],[\"16-0\",\"16-13\"],[\"16-0\",\"16-14\"],[\"16-0\",\"16-15\"],[\"16-0\",\"16-2\"],[\"16-0\",\"16-3\"],[\"16-0\",\"16-4\"],[\"16-0\",\"16-5\"],[\"16-0\",\"16-6\"],[\"16-0\",\"16-7\"],[\"16-0\",\"16-8\"],[\"16-0\",\"16-9\"],[\"16-1\",\"16-0\"],[\"16-10\",\"16-0\"],[\"16-11\",\"16-0\"],[\"16-12\",\"16-0\"],[\"16-13\",\"16-0\"],[\"16-14\",\"16-0\"],[\"16-15\",\"16-0\"],[\"16-2\",\"16-0\"],[\"16-3\",\"16-0\"],[\"16-4\",\"16-0\"],[\"16-5\",\"16-0\"],[\"16-6\",\"16-0\"],[\"16-7\",\"16-0\"],[\"16-8\",\"16-0\"],[\"16-9\",\"16-0\"]],\"#8244EA\":[\"35-0\",\"35-1\",\"35-10\",\"35-2\",\"35-3\",\"35-4\",\"35-5\",\"35-6\",\"35-7\",\"35-8\",\"35-9\",[\"35-0\",\"35-1\"],[\"35-0\",\"35-10\"],[\"35-0\",\"35-2\"],[\"35-0\",\"35-3\"],[\"35-0\",\"35-4\"],[\"35-0\",\"35-5\"],[\"35-0\",\"35-6\"],[\"35-0\",\"35-7\"],[\"35-0\",\"35-8\"],[\"35-0\",\"35-9\"],[\"35-1\",\"35-0\"],[\"35-10\",\"35-0\"],[\"35-2\",\"35-0\"],[\"35-3\",\"35-0\"],[\"35-4\",\"35-0\"],[\"35-5\",\"35-0\"],[\"35-6\",\"35-0\"],[\"35-7\",\"35-0\"],[\"35-8\",\"35-0\"],[\"35-9\",\"35-0\"]],\"#A053CC\":[\"20-0\",\"20-1\",\"20-10\",\"20-11\",\"20-12\",\"20-13\",\"20-2\",\"20-3\",\"20-4\",\"20-5\",\"20-6\",\"20-7\",\"20-8\",\"20-9\",[\"20-0\",\"20-1\"],[\"20-0\",\"20-10\"],[\"20-0\",\"20-11\"],[\"20-0\",\"20-12\"],[\"20-0\",\"20-13\"],[\"20-0\",\"20-2\"],[\"20-0\",\"20-3\"],[\"20-0\",\"20-4\"],[\"20-0\",\"20-5\"],[\"20-0\",\"20-6\"],[\"20-0\",\"20-7\"],[\"20-0\",\"20-8\"],[\"20-0\",\"20-9\"],[\"20-1\",\"20-0\"],[\"20-10\",\"20-0\"],[\"20-11\",\"20-0\"],[\"20-12\",\"20-0\"],[\"20-13\",\"20-0\"],[\"20-2\",\"20-0\"],[\"20-3\",\"20-0\"],[\"20-4\",\"20-0\"],[\"20-5\",\"20-0\"],[\"20-6\",\"20-0\"],[\"20-7\",\"20-0\"],[\"20-8\",\"20-0\"],[\"20-9\",\"20-0\"]],\"#AA58C2\":[\"11-0\",\"11-1\",\"11-10\",\"11-11\",\"11-2\",\"11-3\",\"11-4\",\"11-5\",\"11-6\",\"11-7\",\"11-8\",\"11-9\",[\"11-0\",\"11-1\"],[\"11-0\",\"11-10\"],[\"11-0\",\"11-11\"],[\"11-0\",\"11-2\"],[\"11-0\",\"11-3\"],[\"11-0\",\"11-4\"],[\"11-0\",\"11-5\"],[\"11-0\",\"11-6\"],[\"11-0\",\"11-7\"],[\"11-0\",\"11-8\"],[\"11-0\",\"11-9\"],[\"11-1\",\"11-0\"],[\"11-10\",\"11-0\"],[\"11-11\",\"11-0\"],[\"11-2\",\"11-0\"],[\"11-3\",\"11-0\"],[\"11-4\",\"11-0\"],[\"11-5\",\"11-0\"],[\"11-6\",\"11-0\"],[\"11-7\",\"11-0\"],[\"11-8\",\"11-0\"],[\"11-9\",\"11-0\"]],\"#F07B7C\":[\"6-0\",\"6-1\",\"6-10\",\"6-11\",\"6-12\",\"6-13\",\"6-14\",\"6-2\",\"6-3\",\"6-4\",\"6-5\",\"6-6\",\"6-7\",\"6-8\",\"6-9\",[\"6-0\",\"6-1\"],[\"6-0\",\"6-10\"],[\"6-0\",\"6-11\"],[\"6-0\",\"6-12\"],[\"6-0\",\"6-13\"],[\"6-0\",\"6-14\"],[\"6-0\",\"6-2\"],[\"6-0\",\"6-3\"],[\"6-0\",\"6-4\"],[\"6-0\",\"6-5\"],[\"6-0\",\"6-6\"],[\"6-0\",\"6-7\"],[\"6-0\",\"6-8\"],[\"6-0\",\"6-9\"],[\"6-1\",\"6-0\"],[\"6-10\",\"6-0\"],[\"6-11\",\"6-0\"],[\"6-12\",\"6-0\"],[\"6-13\",\"6-0\"],[\"6-14\",\"6-0\"],[\"6-2\",\"6-0\"],[\"6-3\",\"6-0\"],[\"6-4\",\"6-0\"],[\"6-5\",\"6-0\"],[\"6-6\",\"6-0\"],[\"6-7\",\"6-0\"],[\"6-8\",\"6-0\"],[\"6-9\",\"6-0\"]],\"#D26C9A\":[\"7-0\",\"7-1\",\"7-10\",\"7-11\",\"7-12\",\"7-13\",\"7-14\",\"7-2\",\"7-3\",\"7-4\",\"7-5\",\"7-6\",\"7-7\",\"7-8\",\"7-9\",[\"7-0\",\"7-1\"],[\"7-0\",\"7-10\"],[\"7-0\",\"7-11\"],[\"7-0\",\"7-12\"],[\"7-0\",\"7-13\"],[\"7-0\",\"7-14\"],[\"7-0\",\"7-2\"],[\"7-0\",\"7-3\"],[\"7-0\",\"7-4\"],[\"7-0\",\"7-5\"],[\"7-0\",\"7-6\"],[\"7-0\",\"7-7\"],[\"7-0\",\"7-8\"],[\"7-0\",\"7-9\"],[\"7-1\",\"7-0\"],[\"7-10\",\"7-0\"],[\"7-11\",\"7-0\"],[\"7-12\",\"7-0\"],[\"7-13\",\"7-0\"],[\"7-14\",\"7-0\"],[\"7-2\",\"7-0\"],[\"7-3\",\"7-0\"],[\"7-4\",\"7-0\"],[\"7-5\",\"7-0\"],[\"7-6\",\"7-0\"],[\"7-7\",\"7-0\"],[\"7-8\",\"7-0\"],[\"7-9\",\"7-0\"]],\"#783FF4\":[\"22-0\",\"22-1\",\"22-10\",\"22-2\",\"22-3\",\"22-4\",\"22-5\",\"22-6\",\"22-7\",\"22-8\",\"22-9\",[\"22-0\",\"22-1\"],[\"22-0\",\"22-10\"],[\"22-0\",\"22-2\"],[\"22-0\",\"22-3\"],[\"22-0\",\"22-4\"],[\"22-0\",\"22-5\"],[\"22-0\",\"22-6\"],[\"22-0\",\"22-7\"],[\"22-0\",\"22-8\"],[\"22-0\",\"22-9\"],[\"22-1\",\"22-0\"],[\"22-10\",\"22-0\"],[\"22-2\",\"22-0\"],[\"22-3\",\"22-0\"],[\"22-4\",\"22-0\"],[\"22-5\",\"22-0\"],[\"22-6\",\"22-0\"],[\"22-7\",\"22-0\"],[\"22-8\",\"22-0\"],[\"22-9\",\"22-0\"]],\"#E67686\":[\"0-0\",\"0-1\",\"0-10\",\"0-2\",\"0-3\",\"0-4\",\"0-5\",\"0-6\",\"0-7\",\"0-8\",\"0-9\",[\"0-0\",\"0-1\"],[\"0-0\",\"0-10\"],[\"0-0\",\"0-2\"],[\"0-0\",\"0-3\"],[\"0-0\",\"0-4\"],[\"0-0\",\"0-5\"],[\"0-0\",\"0-6\"],[\"0-0\",\"0-7\"],[\"0-0\",\"0-8\"],[\"0-0\",\"0-9\"],[\"0-1\",\"0-0\"],[\"0-10\",\"0-0\"],[\"0-2\",\"0-0\"],[\"0-3\",\"0-0\"],[\"0-4\",\"0-0\"],[\"0-5\",\"0-0\"],[\"0-6\",\"0-0\"],[\"0-7\",\"0-0\"],[\"0-8\",\"0-0\"],[\"0-9\",\"0-0\"]],\"#FA8072\":[\"3-0\",\"3-1\",\"3-10\",\"3-11\",\"3-12\",\"3-13\",\"3-14\",\"3-2\",\"3-3\",\"3-4\",\"3-5\",\"3-6\",\"3-7\",\"3-8\",\"3-9\",[\"3-0\",\"3-1\"],[\"3-0\",\"3-10\"],[\"3-0\",\"3-11\"],[\"3-0\",\"3-12\"],[\"3-0\",\"3-13\"],[\"3-0\",\"3-14\"],[\"3-0\",\"3-2\"],[\"3-0\",\"3-3\"],[\"3-0\",\"3-4\"],[\"3-0\",\"3-5\"],[\"3-0\",\"3-6\"],[\"3-0\",\"3-7\"],[\"3-0\",\"3-8\"],[\"3-0\",\"3-9\"],[\"3-1\",\"3-0\"],[\"3-10\",\"3-0\"],[\"3-11\",\"3-0\"],[\"3-12\",\"3-0\"],[\"3-13\",\"3-0\"],[\"3-14\",\"3-0\"],[\"3-2\",\"3-0\"],[\"3-3\",\"3-0\"],[\"3-4\",\"3-0\"],[\"3-5\",\"3-0\"],[\"3-6\",\"3-0\"],[\"3-7\",\"3-0\"],[\"3-8\",\"3-0\"],[\"3-9\",\"3-0\"]],\"#B45DB8\":[\"10-0\",\"10-1\",\"10-2\",\"10-3\",\"10-4\",\"10-5\",\"10-6\",\"10-7\",\"10-8\",[\"10-0\",\"10-1\"],[\"10-0\",\"10-2\"],[\"10-0\",\"10-3\"],[\"10-0\",\"10-4\"],[\"10-0\",\"10-5\"],[\"10-0\",\"10-6\"],[\"10-0\",\"10-7\"],[\"10-0\",\"10-8\"],[\"10-1\",\"10-0\"],[\"10-2\",\"10-0\"],[\"10-3\",\"10-0\"],[\"10-4\",\"10-0\"],[\"10-5\",\"10-0\"],[\"10-6\",\"10-0\"],[\"10-7\",\"10-0\"],[\"10-8\",\"10-0\"]]};\n\nconst links = edges.map(e => ({\n  source: e.from,\n  target: e.to,\n  weight: e.weight,\n  label: e.label,\n}));\n\n//.force(\"link\", d3.forceLink(links).id(d => d.id).distance(d => Math.max(d.weight * 20, 8 * 4)))\nconst simulation = d3.forceSimulation(nodes)\n    .force(\"link\", d3.forceLink(links).id(d => d.id).iterations(1))\n    .force(\"charge\", d3.forceManyBody().strength(-40).distanceMin(1).distanceMax(2000))\n    .force(\"x\", d3.forceX())\n    .force(\"y\", d3.forceY().strength(0.2))\n    .force(\"collision\", d3.forceCollide().radius(12))\n    .force(\"center\", d3.forceCenter(width / 2, height / 2));\n\nsvg.append('defs').append('marker')\n    .attr(\"id\",'arrowhead')\n    .attr('viewBox','-0 -5 10 10') //the bound of the SVG viewport for the current SVG fragment. defines a coordinate system 10 wide and 10 high starting on (0,-5)\n     .attr('refX', 16) // x coordinate for the reference point of the marker. If circle is bigger, this need to be bigger.\n     .attr('refY',0)\n     .attr('orient','auto')\n        .attr('markerWidth', 4)\n        .attr('markerHeight', 4)\n        .attr('xoverflow','visible')\n    .append('svg:path')\n    .attr('d', 'M 0,-5 L 10 ,0 L 0,5')\n    .attr('fill', \"SteelBlue\")\n    .style('stroke','none');\n\nconst link = svg.append(\"g\")\n    .attr(\"class\", \"links\")\n  .selectAll(\"line\")\n  .data(links)\n  .enter().append(\"line\")\n    .attr(\"class\", \"link\")\n    .attr(\"stroke\", d => {\n        for (const [color, items] of Object.entries(highlightSpecs)) {\n            if (items.some(item => Array.isArray(item) && item[0] === d.source.id && item[1] === d.target.id)) {\n                return color;\n            }\n        }\n        return \"SteelBlue\";\n    })\n    .attr(\"stroke-width\", 2)\n    \n\nconst node = svg.append(\"g\")\n    .attr(\"class\", \"nodes\")\n  .selectAll(\"circle\")\n  .data(nodes)\n  .enter().append(\"circle\")\n    .attr(\"class\", \"node\")\n    .attr(\"r\", 8)\n    .attr(\"stroke\", d => {\n       for (const [color, items] of Object.entries(highlightSpecs)) {\n         if (items.includes(d.id)) {\n            return color;\n         }\n       }\n       return \"LightSteelBlue\";\n    })\n    .attr(\"fill\", d => {\n       for (const [color, items] of Object.entries(highlightSpecs)) {\n         if (items.includes(d.id)) {\n            return color;\n         }\n       }\n       return \"SteelBlue\";\n    })\n    .call(drag(simulation));\n\nnode.append(\"title\")\n    .text(d => d.id);\n\nconst nodeLabel = svg.append(\"g\")\n    .attr(\"class\", \"node-labels\")\n  .selectAll(\"text\")\n  .data(nodes)\n  .enter().append(\"text\")\n    .attr(\"class\", \"node-label\")\n    .style(\"font-size\", 13)\n    .attr(\"font-family\", \"Courier New\")\n    .attr(\"font-weight\", 100)\n    .attr(\"dy\", -10)\n    .attr('fill', \"none\")\n    .attr('stroke', \"none\")\n    .text(d => d.id);\n\nconst linkLabel = svg.append(\"g\")\n    .attr(\"class\", \"link-labels\")\n  .selectAll(\"text\")\n  .data(links)\n  .enter().append(\"text\")\n    .filter(d => d.label !== \"\")\n    .attr(\"class\", \"link-label\")\n    .style(\"font-size\", 13)\n    .attr(\"font-family\", \"Courier\")\n    .attr('fill', \"none\")\n    .attr('stroke', \"none\")\n    .text(d => d.label);\n\nsimulation.on(\"tick\", () => {\n  link\n      .attr(\"x1\", d => d.source.x)\n      .attr(\"y1\", d => d.source.y)\n      .attr(\"x2\", d => d.target.x)\n      .attr(\"y2\", d => d.target.y);\n\n  node\n      .attr(\"cx\", d => d.x)\n      .attr(\"cy\", d => d.y);\n\n  nodeLabel\n      .attr(\"x\", d => d.x)\n      .attr(\"y\", d => d.y);\n\n  linkLabel\n      .attr(\"x\", d => (d.source.x + d.target.x) / 2)\n      .attr(\"y\", d => (d.source.y + d.target.y) / 2);\n});\n\nfunction drag(simulation) {\n  function dragstarted(event, d) {\n    if (!event.active) simulation.alphaTarget(0.3).restart();\n    d.fx = d.x;\n    d.fy = d.y;\n  }\n\n  function dragged(event, d) {\n    d.fx = event.x;\n    d.fy = event.y;\n  }\n\n  function dragended(event, d) {\n    if (!event.active) simulation.alphaTarget(0);\n    d.fx = null;\n    d.fy = null;\n  }\n\n  return d3.drag()\n      .on(\"start\", dragstarted)\n      .on(\"drag\", dragged)\n      .on(\"end\", dragended);\n}\n\n}) })(element);\n"
     },
     "execution_count": 204,
     "metadata": {},
     "output_type": "execute_result"
    }
   ],
   "source": [
    "#%js\n",
    "$bigGraph.edges(:dataset) ==>\n",
    "js-d3-graph-plot(\n",
    "    highlight => (@colors Z=> @graphs.pick(@colors.elems).map({ [|$_.vertex-list, |$_.edges] })).Hash,\n",
    "    :$background, :$title-color,\n",
    "    edge-thickness => 2, \n",
    "    vertex-stroke-color => 'LightSteelBlue',\n",
    "    vertex-size => 8,\n",
    "    vertex-label-color => 'none',\n",
    "    directed => False,\n",
    "    title => 'Collage graph', \n",
    "    width => 1200,\n",
    "    height => 700, \n",
    "    force => {charge => {strength => -40}, y => {strength => 0.2}, collision => {radius => 12}, link => {minDistance => 4}}\n",
    "    )"
   ]
  },
  {
   "cell_type": "markdown",
   "metadata": {},
   "source": [
    "### Visualize via Graphviz DOT"
   ]
  },
  {
   "cell_type": "code",
   "execution_count": null,
   "metadata": {},
   "outputs": [],
   "source": [
    "#% html\n",
    "my $preamble = q:to/END/;\n",
    "label = \"Collage graph\";\n",
    "labelloc = \"b\";\n",
    "fontcolor = \"Gray\";\n",
    "fontsize = 42;\n",
    "bgcolor = \"#1F1F1F\";\n",
    "graph [size=\"9,9!\"];\n",
    "node [label=\"\", shape=circle, style=\"filled\", fillcolor=\"SteelBlue\", color=\"Ivory\", penwidth=3, width=0.65, height=0.65];\n",
    "edge [color=\"SteelBlue\", penwidth=4]\n",
    "END\n",
    "\n",
    "$bigGraph.dot(\n",
    "    highlight => (@colors Z=> @graphs.pick(@colors.elems).map({ [|$_.vertex-list, |$_.edges] }) ).Hash,\n",
    "    :$preamble,\n",
    "    engine => 'neato'):svg"
   ]
  }
 ],
 "metadata": {
  "kernelspec": {
   "display_name": "RakuChatbook",
   "language": "raku",
   "name": "raku"
  },
  "language_info": {
   "file_extension": ".raku",
   "mimetype": "text/x-raku",
   "name": "raku",
   "version": "6.d"
  }
 },
 "nbformat": 4,
 "nbformat_minor": 2
}
