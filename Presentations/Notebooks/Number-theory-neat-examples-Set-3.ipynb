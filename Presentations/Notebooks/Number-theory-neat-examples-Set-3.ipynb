{
 "cells": [
  {
   "cell_type": "markdown",
   "metadata": {},
   "source": [
    "# Number theory neat examples\n",
    "\n",
    "<span style=\"font-size: 16pt; font-style: italic; font-weight: bold\">Set 2, Gaussian Integers</span>\n",
    "\n",
    "Anton Antonov    \n",
    "[RakuForPrediction at WordPress](https://rakuforprediction.wordpress.com)   \n",
    "January 2025     "
   ]
  },
  {
   "cell_type": "markdown",
   "metadata": {},
   "source": [
    "----\n",
    "\n",
    "## Introduction"
   ]
  },
  {
   "cell_type": "markdown",
   "metadata": {},
   "source": [
    "**What is a neat example?** : Concise or straightforward code that produces compelling visual or textual outputs."
   ]
  },
  {
   "cell_type": "markdown",
   "metadata": {},
   "source": [
    "**Maybe:** We know *neat* when we see it?"
   ]
  },
  {
   "cell_type": "markdown",
   "metadata": {},
   "source": [
    "The neat examples:\n",
    "\n",
    "- Showcase Raku programming.\n",
    "- Use functionalities of different Raku modules.\n",
    "- Give interesting perspectives on what is computationally possible."
   ]
  },
  {
   "cell_type": "markdown",
   "metadata": {},
   "source": [
    "Showcased:\n",
    "- All number theory functions are provided by [\"Math::NumberTheory\"](https://raku.land/zef:antononcube/Math::NumberTheory).   \n",
    "- Visualization functions are provided by [\"JavaScript::D3\"](https://raku.land/zef:antononcube/JavaScript::D3).\n",
    "- Data manipulation functions are provided by [\"Data::Reshapers\"](https://raku.land/zef:antononcube/Data::Reshapers).\n",
    "- Data summarization functions are provided by [\"Data::Summarizers\"](https://raku.land/zef:antononcube/Data::Summarizers).\n",
    "- Data translation functions (like `to-html`) are provided by [\"Data::Translators\"](https://raku.land/zef:antononcube/Data::Translators)."
   ]
  },
  {
   "cell_type": "markdown",
   "metadata": {},
   "source": [
    "-----\n",
    "\n",
    "## Setup"
   ]
  },
  {
   "cell_type": "code",
   "execution_count": 6,
   "metadata": {},
   "outputs": [],
   "source": [
    "use Math::NumberTheory;\n",
    "use Math::NumberTheory::Utilities;"
   ]
  },
  {
   "cell_type": "code",
   "execution_count": null,
   "metadata": {},
   "outputs": [],
   "source": [
    "%% javascript\n",
    "require.config({\n",
    "     paths: {\n",
    "     d3: 'https://d3js.org/d3.v7.min'\n",
    "}});\n",
    "\n",
    "require(['d3'], function(d3) {\n",
    "     console.log(d3);\n",
    "});"
   ]
  },
  {
   "cell_type": "code",
   "execution_count": null,
   "metadata": {},
   "outputs": [],
   "source": [
    "#%js\n",
    "js-d3-list-line-plot(rand xx 40, background => 'none')"
   ]
  },
  {
   "cell_type": "code",
   "execution_count": null,
   "metadata": {},
   "outputs": [],
   "source": [
    "multi sub highlight-html-table(Str:D $s, @highlight, Str:D :$color = 'Orange', :$font-size = Whatever, :$font-weight = 'normal') { \n",
    "    return highlight-html-table($s, :@highlight, :$color, :$font-size);\n",
    "} \n",
    "\n",
    "multi sub highlight-html-table(Str:D $s, :h(:@highlight)!, Str:D :c(:$color) = 'Orange', :s(:$font-size) = Whatever, :w(:$font-weight) = 'normal') { \n",
    "    my $head = $font-size ~~ Numeric:D ?? \"<span style=\\\"color: $color; font-size:{$font-size}pt; font-weight:$font-weight\\\">\" !! \"<span style=\\\"color: $color; font-weight:$font-weight\\\">\";\n",
    "    reduce( \n",
    "        { $^a.subst( / <?after '<td>'> $^b <?before '</td>'> /, $head ~ $^b ~ '</span>', :g) }, \n",
    "        $s, |@highlight) \n",
    "}"
   ]
  },
  {
   "cell_type": "markdown",
   "metadata": {},
   "source": [
    "------\n",
    "\n",
    "## Gaussian primes plot"
   ]
  },
  {
   "cell_type": "markdown",
   "metadata": {},
   "source": [
    "Gaussian primes around $(0, 0)$ plot:"
   ]
  },
  {
   "cell_type": "code",
   "execution_count": null,
   "metadata": {},
   "outputs": [],
   "source": [
    "#% js\n",
    "my $n = 31;\n",
    "my @mat = ((-$n .. $n) X (-$n .. $n)).map({ %( x => $_.head, y => $_.tail, z => is-prime-gaussian($_.head + i * $_.tail) ?? 1 !! 0 ) });\n",
    "js-d3-matrix-plot(@mat, width => 400, height => 400, :!grid-lines, color-palette => 'Inferno', :!tooltip)"
   ]
  }
 ],
 "metadata": {
  "kernelspec": {
   "display_name": "RakuChatbook",
   "language": "raku",
   "name": "raku"
  },
  "language_info": {
   "file_extension": ".raku",
   "mimetype": "text/x-raku",
   "name": "raku",
   "version": "6.d"
  }
 },
 "nbformat": 4,
 "nbformat_minor": 2
}
