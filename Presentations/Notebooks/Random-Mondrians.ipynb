{
 "cells": [
  {
   "cell_type": "markdown",
   "metadata": {},
   "source": [
    "# Random Mondrians\n",
    "\n",
    "Anton Antonov   \n",
    "[RakuForPrediction at WordPress](https://rakuforprediction.wordpress.com)   \n",
    "[RakuForPrediction-book at GitHub](https://github.com/antononcube/RakuForPrediction-book)      \n",
    "July 2024\n"
   ]
  },
  {
   "cell_type": "code",
   "execution_count": null,
   "metadata": {},
   "outputs": [],
   "source": [
    "#%js\n",
    " js-d3-random-mondrian(:$background, :6n, :1100width, :300height, :0margins,\n",
    "    color-palette => {'#000000' => 1, '#878787' => 1, '#194F9A' => 4, '#BC0118' => 4, '#FACA02' => 4, '#FDFDFD' => 4, FloralWhite => 4, MintCream => 4, OldLace => 4},)"
   ]
  },
  {
   "cell_type": "markdown",
   "metadata": {},
   "source": [
    "------\n",
    "\n",
    "## *Setup*"
   ]
  },
  {
   "cell_type": "code",
   "execution_count": null,
   "metadata": {},
   "outputs": [],
   "source": [
    "use Data::Generators;\n",
    "use Data::Summarizers;\n",
    "use Data::Importers;\n",
    "\n",
    "use JavaScript::D3;\n",
    "use JavaScript::D3::Random;\n",
    "\n",
    "use JSON::Fast;"
   ]
  },
  {
   "cell_type": "code",
   "execution_count": null,
   "metadata": {},
   "outputs": [],
   "source": [
    "#% javascript\n",
    "require.config({\n",
    "     paths: {\n",
    "     d3: 'https://d3js.org/d3.v7.min'\n",
    "}});\n",
    "\n",
    "require(['d3'], function(d3) {\n",
    "     console.log(d3);\n",
    "});"
   ]
  },
  {
   "cell_type": "code",
   "execution_count": null,
   "metadata": {},
   "outputs": [],
   "source": [
    "#% js\n",
    "js-d3-list-line-plot(10.rand xx 40, background => 'none', stroke-width => 2)"
   ]
  },
  {
   "cell_type": "code",
   "execution_count": null,
   "metadata": {},
   "outputs": [],
   "source": [
    "my $background = \"#1F1F1F\";\n",
    "#my $background = \"White\";\n",
    "my $stroke-color = 'Ivory';\n",
    "#my $stroke-color = 'Black';"
   ]
  },
  {
   "cell_type": "markdown",
   "metadata": {},
   "source": [
    "-----\n",
    "\n",
    "## Introduction"
   ]
  },
  {
   "cell_type": "markdown",
   "metadata": {},
   "source": [
    "For the question\n",
    "\n",
    "> How do you characterize the artist Mondrian?\n",
    "> Make a list of short points in Markdown.\n",
    "\n",
    "an LLM says:\n",
    "\n",
    "- [Piet Mondrian](https://en.wikipedia.org/wiki/Piet_Mondrian) was a Dutch painter known for his abstract geometric art.\n",
    "- He was a key figure in the development of abstract art and one of the founders of the [De Stijl movement](https://en.wikipedia.org/wiki/De_Stijl).\n",
    "- Mondrian's work is characterized by a strict grid of black lines intersecting with blocks of primary colors.\n",
    "- He believed that art should strive for a universal harmony and balance.\n",
    "- Mondrian's style evolved from early naturalistic landscapes to the iconic abstract compositions he is known for today.\n",
    "- His work influenced many artists and designers, including the fields of architecture and fashion.\n",
    "- Mondrian's art reflects a deep interest in spirituality and the relationship between art and the viewer.\n"
   ]
  },
  {
   "cell_type": "markdown",
   "metadata": {},
   "source": [
    "About [De Stijl](https://www.theartstory.org/movement/de-stijl/):\n",
    "\n",
    "- The Netherlands-based De Stijl movement embraced an abstract, pared-down aesthetic centered in basic visual elements such as geometric forms and primary colors. \n",
    "- Partly a reaction against the decorative excesses of Art Deco, the reduced quality of De Stijl art was envisioned by its creators as a universal visual language appropriate to the modern era, a time of a new, spiritualized world order. \n",
    "  - So, it is like Python and Perl. \n",
    "    - Who / where is Python created?\n",
    "    - [TOOWTDI](https://wiki.python.org/moin/TOOWTDI)"
   ]
  },
  {
   "cell_type": "markdown",
   "metadata": {},
   "source": [
    "Here is a random Mondrian using [\"JavaScript::D3\"](https://raku.land/zef:antononcube/JavaScript::D3):"
   ]
  },
  {
   "cell_type": "code",
   "execution_count": null,
   "metadata": {},
   "outputs": [],
   "source": [
    "#%js\n",
    "js-d3-random-mondrian(:$background, :6n)"
   ]
  },
  {
   "cell_type": "markdown",
   "metadata": {},
   "source": [
    "Using CLI:"
   ]
  },
  {
   "cell_type": "code",
   "execution_count": 371,
   "metadata": {},
   "outputs": [
    {
     "data": {
      "text/plain": []
     },
     "execution_count": 371,
     "metadata": {},
     "output_type": "execute_result"
    }
   ],
   "source": [
    "#%bash\n",
    "js-d3-graphics random-mondrian 1 --margins=60 -h=600 -w=900 --background='#1f1f1f' > out.html && open out.html"
   ]
  },
  {
   "cell_type": "markdown",
   "metadata": {},
   "source": [
    "------\n",
    "\n",
    "## Beta distribution"
   ]
  },
  {
   "cell_type": "markdown",
   "metadata": {},
   "source": [
    "The random Mondrians by \"JavaScript::D3\" use the Beta distribution be default."
   ]
  },
  {
   "cell_type": "markdown",
   "metadata": {},
   "source": [
    "In order to program the [Beta distribution](https://en.wikipedia.org/wiki/Beta_distribution) the [Gamma distribution](https://en.wikipedia.org/wiki/Gamma_distribution) had to be programmed. (Which is not trivial, see [\"Data::Generators\"](https://raku.land/zef:antononcube/Data::Generators).)"
   ]
  },
  {
   "cell_type": "code",
   "execution_count": 380,
   "metadata": {},
   "outputs": [
    {
     "name": "stdout",
     "output_type": "stream",
     "text": [
      "+-------------------------------+\n",
      "| numerical                     |\n",
      "+-------------------------------+\n",
      "| Median => 0.4991583082890725  |\n",
      "| Max    => 0.8301311277006675  |\n",
      "| 3rd-Qu => 0.5760953278665606  |\n",
      "| Mean   => 0.4999918477500302  |\n",
      "| Min    => 0.16905397547433057 |\n",
      "| 1st-Qu => 0.42465026821055485 |\n",
      "+-------------------------------+\n"
     ]
    }
   ],
   "source": [
    "my @vals = random-variate(BetaDistribution.new(10, 10), 1000);\n",
    "\n",
    "sink records-summary(@vals)"
   ]
  },
  {
   "cell_type": "code",
   "execution_count": null,
   "metadata": {},
   "outputs": [],
   "source": [
    "#% js\n",
    "js-d3-histogram(@vals, 30, :$background) ~ \n",
    "js-d3-box-whisker-chart(@vals, :horizontal, :$stroke-color, :$background)"
   ]
  },
  {
   "cell_type": "code",
   "execution_count": 361,
   "metadata": {},
   "outputs": [
    {
     "data": {
      "text/markdown": [
       "**Probability density function:**\n",
       "\n",
       "$$f(x; \\alpha, \\beta) = \\frac{1}{B(\\alpha, \\beta)} x^{\\alpha-1} (1-x)^{\\beta-1}$$\n",
       "\n",
       "where $B(\\alpha, \\beta)$ is the beta function, defined as:\n",
       "\n",
       "$$B(\\alpha, \\beta) = \\frac{\\Gamma(\\alpha) \\Gamma(\\beta)}{\\Gamma(\\alpha + \\beta)}$$\n",
       "\n",
       "**Cumulative distribution function:**\n",
       "\n",
       "$$F(x; \\alpha, \\beta) = \\int_0^x f(t; \\alpha, \\beta) dt = \\frac{B(x; \\alpha, \\beta)}{B(\\alpha, \\beta)}$$\n",
       "\n",
       "where $B(x; \\alpha, \\beta)$ is the incomplete beta function, defined as:\n",
       "\n",
       "$$B(x; \\alpha, \\beta) = \\int_0^x t^{\\alpha-1} (1-t)^{\\beta-1} dt$$\n",
       "\n",
       "**Mean:**\n",
       "\n",
       "$$E(X) = \\frac{\\alpha}{\\alpha + \\beta}$$\n",
       "\n",
       "**Variance:**\n",
       "\n",
       "$$V(X) = \\frac{\\alpha \\beta}{(\\alpha + \\beta)^2 (\\alpha + \\beta + 1)}$$\n",
       "\n",
       "**Mode:**\n",
       "\n",
       "$$mode = \\frac{\\alpha - 1}{\\alpha + \\beta - 2}$$\n",
       "\n",
       "**Median:**\n",
       "\n",
       "$$median = \\frac{\\alpha - 1}{\\alpha + \\beta - 1}$$"
      ]
     },
     "execution_count": 361,
     "metadata": {},
     "output_type": "execute_result"
    }
   ],
   "source": [
    "#% chat stat > markdown, conf=gemini, max-tokens=4096, temperature=0.4\n",
    "Most important formulas for Beta distribution"
   ]
  },
  {
   "cell_type": "markdown",
   "metadata": {},
   "source": [
    "------\n",
    "\n",
    "## Standard Mondrians"
   ]
  },
  {
   "cell_type": "markdown",
   "metadata": {},
   "source": [
    "Since Piet Mondrian made the *white color* very complex in his paintings we can reflect that in the nuanced white colors selection:  "
   ]
  },
  {
   "cell_type": "code",
   "execution_count": null,
   "metadata": {},
   "outputs": [],
   "source": [
    "#% js\n",
    "(^4).map({\n",
    "    js-d3-random-mondrian(\n",
    "        n => [4..7].pick,    \n",
    "        distribition => Whatever,\n",
    "        color-scheme => 'None',\n",
    "        color-palette => {'#000000' => 1, '#878787' => 1, '#194F9A' => 4, '#BC0118' => 4, '#FACA02' => 4, '#FDFDFD' => 4, FloralWhite => 4, MintCream => 4, OldLace => 4},\n",
    "        stroke-width => random-real([2, 12]).floor,\n",
    "        margins => (<top bottom left right> X=> 20).Hash,\n",
    "        :$background,\n",
    "        width => 600,\n",
    "    )\n",
    "}).join(\"\\n\")"
   ]
  },
  {
   "cell_type": "markdown",
   "metadata": {},
   "source": [
    "-------\n",
    "\n",
    "## Using different color schemes"
   ]
  },
  {
   "cell_type": "code",
   "execution_count": null,
   "metadata": {},
   "outputs": [],
   "source": [
    "#% js\n",
    "(^4).map({\n",
    "    my $color-scheme = <schemePastel1 schemeSet2 schemeTableau10>.pick;\n",
    "    my $n = [4..6].pick;\n",
    "    js-d3-random-mondrian(\n",
    "        :$n,    \n",
    "        distribition => NormalDistribution.new(0.6, 0.4),\n",
    "        :$color-scheme,\n",
    "        stroke-width => random-real([4, 10]).floor,\n",
    "        margins => (<top bottom left right> X=> 20).Hash,\n",
    "        :$background,\n",
    "        title => \"$color-scheme : $n\",\n",
    "        title-color => 'Silver',\n",
    "        width => 600,\n",
    "    )\n",
    "}).join(\"\\n\")"
   ]
  },
  {
   "cell_type": "markdown",
   "metadata": {},
   "source": [
    "-----\n",
    "\n",
    "## Jittered rectangles"
   ]
  },
  {
   "cell_type": "code",
   "execution_count": null,
   "metadata": {},
   "outputs": [],
   "source": [
    "#% js\n",
    "(^4).map({\n",
    "    js-d3-random-mondrian(\n",
    "        n => [4..7].pick,    \n",
    "        jitter => [0, 30, 50].pick,\n",
    "        distribition => BetaDistribution.new(3, 1),\n",
    "        color-scheme => 'None', #<None schemePastel1 schemeSet2>.pick,\n",
    "        stroke-width => random-real([4, 10]).floor,\n",
    "        margins => (<top bottom left right> X=> 20).Hash,\n",
    "        background => 'DarkSlateGrey',\n",
    "        stroke-color => 'Black',\n",
    "        width => 600,\n",
    "    )\n",
    "}).join(\"\\n\")"
   ]
  },
  {
   "cell_type": "markdown",
   "metadata": {},
   "source": [
    "--------\n",
    "\n",
    "## Rectangles"
   ]
  },
  {
   "cell_type": "markdown",
   "metadata": {},
   "source": [
    "The plot is with [D3.js](https://d3js.org) but the rectangles are generated in Raku:"
   ]
  },
  {
   "cell_type": "code",
   "execution_count": 398,
   "metadata": {},
   "outputs": [
    {
     "name": "stdout",
     "output_type": "stream",
     "text": [
      "{x1 => 0, x2 => 157.08298965556173, y1 => 0, y2 => 183.80087218174484}\n",
      "{x1 => 157.08298965556173, x2 => 307.7863234445016, y1 => 0, y2 => 79.57190920120755}\n",
      "{x1 => 157.08298965556173, x2 => 307.7863234445016, y1 => 79.57190920120755, y2 => 183.80087218174484}\n",
      "{x1 => 0, x2 => 200.1921086855938, y1 => 183.80087218174484, y2 => 312.46113687991976}\n",
      "{x1 => 0, x2 => 200.1921086855938, y1 => 312.46113687991976, y2 => 400}\n",
      "{x1 => 200.1921086855938, x2 => 307.7863234445016, y1 => 183.80087218174484, y2 => 302.06050388708115}\n",
      "{x1 => 200.1921086855938, x2 => 307.7863234445016, y1 => 302.06050388708115, y2 => 400}\n",
      "{x1 => 307.7863234445016, x2 => 388.7086328719397, y1 => 0, y2 => 191.16415978980828}\n",
      "{x1 => 307.7863234445016, x2 => 388.7086328719397, y1 => 191.16415978980828, y2 => 400}\n",
      "{x1 => 388.7086328719397, x2 => 505.74036679642734, y1 => 0, y2 => 171.40721999710428}\n",
      "{x1 => 388.7086328719397, x2 => 505.74036679642734, y1 => 171.40721999710428, y2 => 400}\n",
      "{x1 => 505.74036679642734, x2 => 600, y1 => 0, y2 => 125.55695074505606}\n",
      "{x1 => 505.74036679642734, x2 => 600, y1 => 125.55695074505606, y2 => 231.26482133723965}\n",
      "{x1 => 505.74036679642734, x2 => 600, y1 => 231.26482133723965, y2 => 300.1362530707777}\n",
      "{x1 => 505.74036679642734, x2 => 600, y1 => 300.1362530707777, y2 => 400}\n"
     ]
    }
   ],
   "source": [
    "my @rects = JavaScript::D3::Random::Mondrian(600, 400, 4);\n",
    "\n",
    ".say for @rects;\n"
   ]
  },
  {
   "cell_type": "markdown",
   "metadata": {},
   "source": [
    "Here is a summary:"
   ]
  },
  {
   "cell_type": "code",
   "execution_count": 399,
   "metadata": {},
   "outputs": [
    {
     "name": "stdout",
     "output_type": "stream",
     "text": [
      "+------------------------------+------------------------------+------------------------------+------------------------------+\n",
      "| x1                           | y1                           | x2                           | y2                           |\n",
      "+------------------------------+------------------------------+------------------------------+------------------------------+\n",
      "| Min    => 0                  | Min    => 0                  | Min    => 157.08298965556173 | Min    => 79.57190920120755  |\n",
      "| 1st-Qu => 157.08298965556173 | 1st-Qu => 0                  | 1st-Qu => 307.7863234445016  | 1st-Qu => 183.80087218174484 |\n",
      "| Mean   => 275.36677176672686 | Mean   => 138.74831328477896 | Mean   => 398.50070000943265 | Mean   => 272.08164661811225 |\n",
      "| Median => 307.7863234445016  | Median => 171.40721999710428 | Median => 388.7086328719397  | Median => 300.1362530707777  |\n",
      "| 3rd-Qu => 505.74036679642734 | 3rd-Qu => 231.26482133723965 | 3rd-Qu => 600                | 3rd-Qu => 400                |\n",
      "| Max    => 505.74036679642734 | Max    => 312.46113687991976 | Max    => 600                | Max    => 400                |\n",
      "+------------------------------+------------------------------+------------------------------+------------------------------+\n"
     ]
    }
   ],
   "source": [
    "sink records-summary(@rects, field-names => <x1 y1 x2 y2>)"
   ]
  },
  {
   "cell_type": "markdown",
   "metadata": {},
   "source": [
    "-----\n",
    "\n",
    "## LLM persona"
   ]
  },
  {
   "cell_type": "markdown",
   "metadata": {},
   "source": [
    "Here is an LLM persona for writing D3.js code:"
   ]
  },
  {
   "cell_type": "code",
   "execution_count": 400,
   "metadata": {},
   "outputs": [
    {
     "data": {
      "text/plain": [
       "Chat object created with ID : cw.\n",
       "Expanded prompt:\n",
       "⎡You are Code Writer and as the coder that you are, you provide clear and concise code only, without explanation nor conversation. \n",
       "Your job is to output code with no accompanying text.\n",
       "Do not explain any code unless asked. Do not provide summaries unless asked.\n",
       "You are the best D3.js programmer in the world but do not converse.\n",
       "You know the D3.js documentation better than anyone but do not converse.\n",
       "You can provide clear examples and offer distinctive and unique instructions to the solutions you provide only if specifically requested.\n",
       "Only code in D3.js unless told otherwise.\n",
       "Unless they ask, you will only give code.⎦"
      ]
     },
     "execution_count": 400,
     "metadata": {},
     "output_type": "execute_result"
    }
   ],
   "source": [
    "#% chat cw prompt, conf=chatgpt, model=gpt-4o, max-tokens=4096, temperature=0.4\n",
    "@CodeWriterX|D3.js"
   ]
  },
  {
   "cell_type": "markdown",
   "metadata": {},
   "source": [
    "------\n",
    "\n",
    "## LLM generated plotting code"
   ]
  },
  {
   "cell_type": "markdown",
   "metadata": {},
   "source": [
    "Convert the rectangles to JSON:"
   ]
  },
  {
   "cell_type": "code",
   "execution_count": 401,
   "metadata": {},
   "outputs": [
    {
     "data": {
      "text/plain": [
       "[{\"x2\":157.08298965556173e0,\"x1\":0,\"y2\":183.80087218174484e0,\"y1\":0},{\"y2\":79.57190920120755e0,\"y1\":0,\"x1\":157.08298965556173e0,\"x2\":307.7863234445016e0},{\"x1\":157.08298965556173e0,\"y1\":79.57190920120755e0,\"y2\":183.80087218174484e0,\"x2\":307.7863234445016e0},{\"x1\":0,\"y2\":312.46113687991976e0,\"x2\":200.1921086855938e0,\"y1\":183.80087218174484e0},{\"y2\":400,\"x2\":200.1921086855938e0,\"x1\":0,\"y1\":312.46113687991976e0},{\"x2\":307.7863234445016e0,\"y1\":183.80087218174484e0,\"y2\":302.06050388708115e0,\"x1\":200.1921086855938e0},{\"x2\":307.7863234445016e0,\"x1\":200.1921086855938e0,\"y2\":400,\"y1\":302.06050388708115e0},{\"x1\":307.7863234445016e0,\"x2\":388.7086328719397e0,\"y2\":191.16415978980828e0,\"y1\":0},{\"x1\":307.7863234445016e0,\"x2\":388.7086328719397e0,\"y1\":191.16415978980828e0,\"y2\":400},{\"y2\":171.40721999710428e0,\"x2\":505.74036679642734e0,\"y1\":0,\"x1\":388.7086328719397e0},{\"y2\":400,\"x1\":388.7086328719397e0,\"x2\":505.74036679642734e0,\"y1\":171.40721999710428e0},{\"x1\":505.74036679642734e0,\"y1\":0,\"y2\":125.55695074505606e0,\"x2\":600},{\"x2\":600,\"x1\":505.74036679642734e0,\"y2\":231.26482133723965e0,\"y1\":125.55695074505606e0},{\"x1\":505.74036679642734e0,\"y2\":300.1362530707777e0,\"y1\":231.26482133723965e0,\"x2\":600},{\"x2\":600,\"y2\":400,\"y1\":300.1362530707777e0,\"x1\":505.74036679642734e0}]"
      ]
     },
     "execution_count": 401,
     "metadata": {},
     "output_type": "execute_result"
    }
   ],
   "source": [
    "to-json(@rects, :!pretty) ==> cbcopy"
   ]
  },
  {
   "cell_type": "code",
   "execution_count": 402,
   "metadata": {},
   "outputs": [
    {
     "data": {
      "text/markdown": [
       "```html\n",
       "<!DOCTYPE html>\n",
       "<html lang=\"en\">\n",
       "<head>\n",
       "    <meta charset=\"UTF-8\">\n",
       "    <title>D3.js Rectangles with Random Colors</title>\n",
       "    <script src=\"https://d3js.org/d3.v7.min.js\"></script>\n",
       "    <style>\n",
       "        .rect {\n",
       "            stroke: #000;\n",
       "            stroke-width: 1px;\n",
       "        }\n",
       "    </style>\n",
       "</head>\n",
       "<body>\n",
       "    <script>\n",
       "        const data = [\n",
       "            {\"x2\":107.63210822295481,\"y1\":0,\"y2\":259.6494585296688,\"x1\":0},\n",
       "            {\"y2\":259.6494585296688,\"y1\":0,\"x1\":107.63210822295481,\"x2\":346.508078102602},\n",
       "            {\"y2\":325.4777981300714,\"x1\":0,\"x2\":346.508078102602,\"y1\":259.6494585296688},\n",
       "            {\"x2\":346.508078102602,\"y1\":325.4777981300714,\"x1\":0,\"y2\":400},\n",
       "            {\"y2\":276.7127909239,\"y1\":0,\"x1\":346.508078102602,\"x2\":600},\n",
       "            {\"x2\":455.5897585436653,\"y2\":400,\"x1\":346.508078102602,\"y1\":276.7127909239},\n",
       "            {\"y2\":400,\"x1\":455.5897585436653,\"y1\":276.7127909239,\"x2\":600}\n",
       "        ];\n",
       "\n",
       "        const colors = d3.schemePaired;\n",
       "\n",
       "        const svg = d3.select(\"body\")\n",
       "            .append(\"svg\")\n",
       "            .attr(\"width\", 600)\n",
       "            .attr(\"height\", 400);\n",
       "\n",
       "        svg.selectAll(\"rect\")\n",
       "            .data(data)\n",
       "            .enter()\n",
       "            .append(\"rect\")\n",
       "            .attr(\"class\", \"rect\")\n",
       "            .attr(\"x\", d => d.x1)\n",
       "            .attr(\"y\", d => d.y1)\n",
       "            .attr(\"width\", d => d.x2 - d.x1)\n",
       "            .attr(\"height\", d => d.y2 - d.y1)\n",
       "            .attr(\"fill\", () => colors[Math.floor(Math.random() * colors.length)]);\n",
       "    </script>\n",
       "</body>\n",
       "</html>\n",
       "```"
      ]
     },
     "execution_count": 402,
     "metadata": {},
     "output_type": "execute_result"
    }
   ],
   "source": [
    "#% chat cw > markdown\n",
    "Generate code for plotting those rectangles using random colors from the color scheme \"schemePaired\":\n",
    "\n",
    "```json\n",
    "[{\"x2\":107.63210822295481e0,\"y1\":0,\"y2\":259.6494585296688e0,\"x1\":0},{\"y2\":259.6494585296688e0,\"y1\":0,\"x1\":107.63210822295481e0,\"x2\":346.508078102602e0},{\"y2\":325.4777981300714e0,\"x1\":0,\"x2\":346.508078102602e0,\"y1\":259.6494585296688e0},{\"x2\":346.508078102602e0,\"y1\":325.4777981300714e0,\"x1\":0,\"y2\":400},{\"y2\":276.7127909239e0,\"y1\":0,\"x1\":346.508078102602e0,\"x2\":600},{\"x2\":455.5897585436653e0,\"y2\":400,\"x1\":346.508078102602e0,\"y1\":276.7127909239e0},{\"y2\":400,\"x1\":455.5897585436653e0,\"y1\":276.7127909239e0,\"x2\":600}]\n",
    "```"
   ]
  },
  {
   "cell_type": "markdown",
   "metadata": {},
   "source": [
    "We have to put the function fences:\n",
    "\n",
    "- `(function(element) { require(['d3'], function(d3) {`\n",
    "- `}) })(element);`\n",
    "\n",
    "And replace the SVG \"body\" element with:\n",
    "- `d3.select(element.get(0)).append('svg')`"
   ]
  },
  {
   "cell_type": "code",
   "execution_count": null,
   "metadata": {},
   "outputs": [],
   "source": [
    "#%javascript\n",
    "(function(element) { require(['d3'], function(d3) {\n",
    "\n",
    "    const data = [{\"x2\":157.08298965556173e0,\"x1\":0,\"y2\":183.80087218174484e0,\"y1\":0},{\"y2\":79.57190920120755e0,\"y1\":0,\"x1\":157.08298965556173e0,\"x2\":307.7863234445016e0},{\"x1\":157.08298965556173e0,\"y1\":79.57190920120755e0,\"y2\":183.80087218174484e0,\"x2\":307.7863234445016e0},{\"x1\":0,\"y2\":312.46113687991976e0,\"x2\":200.1921086855938e0,\"y1\":183.80087218174484e0},{\"y2\":400,\"x2\":200.1921086855938e0,\"x1\":0,\"y1\":312.46113687991976e0},{\"x2\":307.7863234445016e0,\"y1\":183.80087218174484e0,\"y2\":302.06050388708115e0,\"x1\":200.1921086855938e0},{\"x2\":307.7863234445016e0,\"x1\":200.1921086855938e0,\"y2\":400,\"y1\":302.06050388708115e0},{\"x1\":307.7863234445016e0,\"x2\":388.7086328719397e0,\"y2\":191.16415978980828e0,\"y1\":0},{\"x1\":307.7863234445016e0,\"x2\":388.7086328719397e0,\"y1\":191.16415978980828e0,\"y2\":400},{\"y2\":171.40721999710428e0,\"x2\":505.74036679642734e0,\"y1\":0,\"x1\":388.7086328719397e0},{\"y2\":400,\"x1\":388.7086328719397e0,\"x2\":505.74036679642734e0,\"y1\":171.40721999710428e0},{\"x1\":505.74036679642734e0,\"y1\":0,\"y2\":125.55695074505606e0,\"x2\":600},{\"x2\":600,\"x1\":505.74036679642734e0,\"y2\":231.26482133723965e0,\"y1\":125.55695074505606e0},{\"x1\":505.74036679642734e0,\"y2\":300.1362530707777e0,\"y1\":231.26482133723965e0,\"x2\":600},{\"x2\":600,\"y2\":400,\"y1\":300.1362530707777e0,\"x1\":505.74036679642734e0}]\n",
    "\n",
    "\n",
    "    const svg = d3.select(element.get(0))\n",
    "        .append(\"svg\")\n",
    "        .attr(\"width\", 600)\n",
    "        .attr(\"height\", 400);\n",
    "\n",
    "    const color = d3.scaleOrdinal(d3.schemePaired);\n",
    "\n",
    "    svg.selectAll(\"rect\")\n",
    "        .data(data)\n",
    "        .enter()\n",
    "        .append(\"rect\")\n",
    "        .attr(\"x\", d => d.x1)\n",
    "        .attr(\"y\", d => d.y1)\n",
    "        .attr(\"width\", d => d.x2 - d.x1)\n",
    "        .attr(\"height\", d => d.y2 - d.y1)\n",
    "        .attr(\"fill\", (d, i) => color(Math.random()));\n",
    "\n",
    "}) })(element);\n"
   ]
  },
  {
   "cell_type": "markdown",
   "metadata": {},
   "source": [
    "------\n",
    "\n",
    "## LLM generated Mondrians"
   ]
  },
  {
   "cell_type": "markdown",
   "metadata": {},
   "source": [
    "Here we generate a random Mondrian using DALL-E 3:"
   ]
  },
  {
   "cell_type": "code",
   "execution_count": null,
   "metadata": {},
   "outputs": [],
   "source": [
    "# % dalle, size=landscape, style=vivid\n",
    "# Generate a typical Mondrian painting."
   ]
  },
  {
   "cell_type": "markdown",
   "metadata": {},
   "source": [
    "Another prompt:\n",
    "\n",
    "> Generate a typical Mondrian painting. Make the rectangles jitter over their locations."
   ]
  },
  {
   "cell_type": "markdown",
   "metadata": {},
   "source": [
    "Display a generated image using the function `js-d3-image-display` (which is very fast):"
   ]
  },
  {
   "cell_type": "code",
   "execution_count": null,
   "metadata": {},
   "outputs": [],
   "source": [
    "#%js\n",
    "js-d3-image-display($*CWD ~ '/Random-Mondrians/randomized-mondrian.png')"
   ]
  },
  {
   "cell_type": "markdown",
   "metadata": {},
   "source": [
    "It is too slow to use `data-import` from [\"Data::Importers\"](https://raku.land/zef:antononcube/Data::Importers) and render it as a Markdown image: "
   ]
  },
  {
   "cell_type": "code",
   "execution_count": null,
   "metadata": {},
   "outputs": [],
   "source": [
    "#%markdown\n",
    "data-import($*CWD ~ '/Random-Mondrians/randomized-mondrian.png', format => 'md-image')"
   ]
  },
  {
   "cell_type": "markdown",
   "metadata": {},
   "source": [
    "Mondrian dressing up (using [Mage](https://www.mage.space)):"
   ]
  },
  {
   "cell_type": "code",
   "execution_count": null,
   "metadata": {},
   "outputs": [],
   "source": [
    "#%js\n",
    "js-d3-image-display($*CWD ~ '/Random-Mondrians/71c4ebf510e3447d835b91a8b86ac78e-small.jpg')"
   ]
  },
  {
   "cell_type": "code",
   "execution_count": null,
   "metadata": {},
   "outputs": [],
   "source": [
    "# % dalle export, index=all, prefix=Random-Mondrians"
   ]
  },
  {
   "cell_type": "code",
   "execution_count": null,
   "metadata": {},
   "outputs": [],
   "source": [
    "# % dalle clear"
   ]
  }
 ],
 "metadata": {
  "kernelspec": {
   "display_name": "RakuChatbook",
   "language": "raku",
   "name": "raku"
  },
  "language_info": {
   "file_extension": ".raku",
   "mimetype": "text/x-raku",
   "name": "raku",
   "version": "6.d"
  }
 },
 "nbformat": 4,
 "nbformat_minor": 2
}
