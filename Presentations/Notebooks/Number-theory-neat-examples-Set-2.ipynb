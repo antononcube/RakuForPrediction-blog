{
 "cells": [
  {
   "cell_type": "markdown",
   "metadata": {},
   "source": [
    "# Number theory neat examples\n",
    "\n",
    "<span style=\"font-size: 16pt; font-style: italic; font-weight: bold\">Set 2 : </span>\n",
    "<span style=\"font-size: 16pt; font-style: italic;\">modular exponentiation, divisors, totient function</span>\n",
    "\n",
    "Anton Antonov    \n",
    "[RakuForPrediction at WordPress](https://rakuforprediction.wordpress.com)   \n",
    "January 2025     "
   ]
  },
  {
   "cell_type": "code",
   "execution_count": null,
   "metadata": {},
   "outputs": [],
   "source": [
    "#%js\n",
    "    my $m = (12..32).pick;\n",
    "    my $s = 60;\n",
    "    my @a = ((2..$s) X (2 .. 2 * $s)).map({ power-mod(|$_, $m) }).rotor(2 * $s-1);\n",
    "    js-d3-matrix-plot(@a, width => 600, height => 300, :!grid-lines, color-palette => 'Viridis', :!tooltip)"
   ]
  },
  {
   "cell_type": "markdown",
   "metadata": {},
   "source": [
    "----\n",
    "\n",
    "## Introduction"
   ]
  },
  {
   "cell_type": "markdown",
   "metadata": {},
   "source": [
    "**What is a neat example?** : Concise or straightforward code that produces compelling visual or textual outputs."
   ]
  },
  {
   "cell_type": "markdown",
   "metadata": {},
   "source": [
    "**Maybe:** We know *neat* when we see it?"
   ]
  },
  {
   "cell_type": "markdown",
   "metadata": {},
   "source": [
    "The neat examples:\n",
    "\n",
    "- Showcase Raku programming.\n",
    "- Use functionalities of different Raku modules.\n",
    "- Give interesting perspectives on what is computationally possible."
   ]
  },
  {
   "cell_type": "markdown",
   "metadata": {},
   "source": [
    "Showcased:\n",
    "- All number theory functions are provided by [\"Math::NumberTheory\"](https://raku.land/zef:antononcube/Math::NumberTheory).   \n",
    "- Visualization functions are provided by [\"JavaScript::D3\"](https://raku.land/zef:antononcube/JavaScript::D3).\n",
    "- Data manipulation functions are provided by [\"Data::Reshapers\"](https://raku.land/zef:antononcube/Data::Reshapers).\n",
    "- Data summarization functions are provided by [\"Data::Summarizers\"](https://raku.land/zef:antononcube/Data::Summarizers).\n",
    "- Data translation functions (like `to-html`) are provided by [\"Data::Translators\"](https://raku.land/zef:antononcube/Data::Translators)."
   ]
  },
  {
   "cell_type": "markdown",
   "metadata": {},
   "source": [
    "-----\n",
    "\n",
    "## Setup"
   ]
  },
  {
   "cell_type": "code",
   "execution_count": 2,
   "metadata": {},
   "outputs": [],
   "source": [
    "use Math::NumberTheory;\n",
    "use Math::NumberTheory::Utilities;"
   ]
  },
  {
   "cell_type": "code",
   "execution_count": null,
   "metadata": {},
   "outputs": [],
   "source": [
    "%% javascript\n",
    "require.config({\n",
    "     paths: {\n",
    "     d3: 'https://d3js.org/d3.v7.min'\n",
    "}});\n",
    "\n",
    "require(['d3'], function(d3) {\n",
    "     console.log(d3);\n",
    "});"
   ]
  },
  {
   "cell_type": "code",
   "execution_count": null,
   "metadata": {},
   "outputs": [],
   "source": [
    "#%js\n",
    "js-d3-list-line-plot(rand xx 40, background => 'none')"
   ]
  },
  {
   "cell_type": "code",
   "execution_count": null,
   "metadata": {},
   "outputs": [],
   "source": [
    "multi sub highlight-html-table(Str:D $s, @highlight, Str:D :$color = 'Orange', :$font-size = Whatever, :$font-weight = 'normal') { \n",
    "    return highlight-html-table($s, :@highlight, :$color, :$font-size);\n",
    "} \n",
    "\n",
    "multi sub highlight-html-table(Str:D $s, :h(:@highlight)!, Str:D :c(:$color) = 'Orange', :s(:$font-size) = Whatever, :w(:$font-weight) = 'normal') { \n",
    "    my $head = $font-size ~~ Numeric:D ?? \"<span style=\\\"color: $color; font-size:{$font-size}pt; font-weight:$font-weight\\\">\" !! \"<span style=\\\"color: $color; font-weight:$font-weight\\\">\";\n",
    "    reduce( \n",
    "        { $^a.subst( / <?after '<td>'> $^b <?before '</td>'> /, $head ~ $^b ~ '</span>', :g) }, \n",
    "        $s, |@highlight) \n",
    "}"
   ]
  },
  {
   "cell_type": "markdown",
   "metadata": {},
   "source": [
    "----\n",
    "\n",
    "## Modular exponentiation (power mod)"
   ]
  },
  {
   "cell_type": "markdown",
   "metadata": {},
   "source": [
    "The function `power-mod(a, b, m)` gives $a^b \\mod m$."
   ]
  },
  {
   "cell_type": "markdown",
   "metadata": {},
   "source": [
    "First, there is a function `prime(n)` that gives the n-th prime number:"
   ]
  },
  {
   "cell_type": "code",
   "execution_count": null,
   "metadata": {},
   "outputs": [],
   "source": [
    "[10, 20 ... 100]».&prime"
   ]
  },
  {
   "cell_type": "markdown",
   "metadata": {},
   "source": [
    "Plot a list of powers of 3 where the exponent is varied, modulo some prime number:"
   ]
  },
  {
   "cell_type": "code",
   "execution_count": null,
   "metadata": {},
   "outputs": [],
   "source": [
    "#%js\n",
    "my @a = (1 ... (prime(44)-1) ).map({ power-mod(3, $_ , prime(44)) });\n",
    "js-d3-list-plot(@a, \n",
    "    title-color => 'DimGray',\n",
    "    plot-label => \"3ᵇ mod {prime(44)}\",\n",
    "    background => 'none',\n",
    "    width => 800,\n",
    "    height => 200\n",
    ")"
   ]
  },
  {
   "cell_type": "markdown",
   "metadata": {},
   "source": [
    "Plot values of varying powers of numbers with a fixed modulus:"
   ]
  },
  {
   "cell_type": "code",
   "execution_count": null,
   "metadata": {},
   "outputs": [],
   "source": [
    "#%js\n",
    "my @a = ((2..100) X (2..100)).map({ power-mod($_.head, $_.tail, 32) }).rotor(99);\n",
    "js-d3-matrix-plot(@a, width => 400, height => 400, :!grid-lines)"
   ]
  },
  {
   "cell_type": "markdown",
   "metadata": {},
   "source": [
    "Plot an a version of [Ulam spiral](https://en.wikipedia.org/wiki/Ulam_spiral) where numbers are colored based on `power-mod`:"
   ]
  },
  {
   "cell_type": "code",
   "execution_count": null,
   "metadata": {},
   "outputs": [],
   "source": [
    "#% js\n",
    "my @mat = spiral-lattice(101).deepmap({ power-mod($_, 3, 17) });\n",
    "js-d3-matrix-plot(@mat, width => 400, height => 400, :!grid-lines, :!tooltip, color-palette => 'Rainbow')"
   ]
  },
  {
   "cell_type": "markdown",
   "metadata": {},
   "source": [
    "----\n",
    "\n",
    "## Modular inverse"
   ]
  },
  {
   "cell_type": "markdown",
   "metadata": {},
   "source": [
    "The function `modular-inverse(k,n)` gives the modular inverse of $k$ modulo $n$."
   ]
  },
  {
   "cell_type": "markdown",
   "metadata": {},
   "source": [
    "- `modular-inverse` is also known as modular multiplicative inverse.\n",
    "- Typically used in modular arithmetic and cryptography.\n",
    "- `modular-inverse(k,n)` gives the number $r$ such that the remainder of the division of $r k$ by $n$ is equal to $1$.\n",
    "- If $k$ and $n$ are not coprime, no modular inverse exists and `modular-inverse(k,n)` returns `Nil`."
   ]
  },
  {
   "cell_type": "code",
   "execution_count": null,
   "metadata": {},
   "outputs": [],
   "source": [
    "#%html\n",
    "my @row = 2, 3, 5, 7;\n",
    "my @col = 1..10;\n",
    "(@row X @col).map({ $_.tail => modular-inverse($_.tail, $_.head) // '' }).rotor(@col.elems)».Hash\n",
    "==> { $_.kv.map(-> $k, %v { %v<n> = @row[$k]; %v }) }()\n",
    "==> to-html(field-names => ['n', |@col».Str])"
   ]
  },
  {
   "cell_type": "markdown",
   "metadata": {},
   "source": [
    "Visualize when a number is invertible modulo 12:"
   ]
  },
  {
   "cell_type": "code",
   "execution_count": null,
   "metadata": {},
   "outputs": [],
   "source": [
    "#% js\n",
    "my $n = 10;\n",
    "my $m = 12;\n",
    "my @a = ((1..$n) X (1..$n)).map({ not so modular-inverse($_.head + $_.tail ** 2, $m) })».Int.rotor($n);\n",
    "\n",
    "js-d3-matrix-plot(@a, width => 400, height => 400, :!grid-lines, color-palette => 'Blues', :!tooltip)"
   ]
  },
  {
   "cell_type": "markdown",
   "metadata": {},
   "source": [
    "------\n",
    "\n",
    "## Divisor sigma"
   ]
  },
  {
   "cell_type": "markdown",
   "metadata": {},
   "source": [
    "The function `divisor-sigma(k,n)` gives the divisor function $\\sigma_{k}(n)$."
   ]
  },
  {
   "cell_type": "markdown",
   "metadata": {},
   "source": [
    "- `divisor-sigma` is also known as the divisor function or sum‐of‐divisors function.\n",
    "- `divisor-sigma(k,n)` is the sum of the $k^{th}$ powers of the divisors of $n$.\n",
    "- For a number $n = u \\times p_1^{e_1} ... p_{m}^{e_{m}}$ with a unit $u$ and $p_{i}$ primes, `divisor-sigma(k, n)` returns $(1 + p_1^{k} + p_1^{2 k} + ... + p_1^{e_1 k} )(1 + p_2^{k} + p_2^{2 k} + ... + p_1^{e_2 k})...$."
   ]
  },
  {
   "cell_type": "code",
   "execution_count": null,
   "metadata": {},
   "outputs": [],
   "source": [
    "#%html\n",
    "my @cols = 1..3;\n",
    "(@cols X (^11)).map({ $_.tail => divisor-sigma($_.tail, $_.head) }).rotor(11)».Hash\n",
    "==> { $_.kv.map(-> $k, %v { %v<n> = @cols[$k]; %v }) }()\n",
    "==> to-html(field-names => ['n', |(^11)».Str])"
   ]
  },
  {
   "cell_type": "code",
   "execution_count": null,
   "metadata": {},
   "outputs": [],
   "source": [
    "my @cols = \"σ(0) Number of divisors\", \"σ(1) Sum of divisors\", \"σ(2) Sum of squares of divisors\";\n",
    "my @data = ((^3) X (1..50)).map({ <group x y> Z=> [@cols[$_.head], $_.tail, divisor-sigma($_.tail, e => $_.head).log] })».Hash;\n",
    "\n",
    "deduce-type(@data)"
   ]
  },
  {
   "cell_type": "code",
   "execution_count": null,
   "metadata": {},
   "outputs": [],
   "source": [
    "#%js\n",
    "js-d3-list-line-plot(@data,\n",
    "    background => 'none',\n",
    "    width => 1000,\n",
    "    height => 300\n",
    ")"
   ]
  },
  {
   "cell_type": "markdown",
   "metadata": {},
   "source": [
    "Plot a version of [Ulam spiral](https://en.wikipedia.org/wiki/Ulam_spiral) with the number divisors:"
   ]
  },
  {
   "cell_type": "code",
   "execution_count": null,
   "metadata": {},
   "outputs": [],
   "source": [
    "#% js\n",
    "my @mat = spiral-lattice(71).deepmap({ divisor-sigma(0, $_)});\n",
    "js-d3-matrix-plot(@mat, width => 400, height => 400, :!grid-lines, color-palette => 'Plasma', :!tooltip)"
   ]
  },
  {
   "cell_type": "markdown",
   "metadata": {},
   "source": [
    "-----\n",
    "\n",
    "## Primitive root"
   ]
  },
  {
   "cell_type": "markdown",
   "metadata": {},
   "source": [
    "Elements relatively prime to 22 are enumerated by the primitive root:"
   ]
  },
  {
   "cell_type": "code",
   "execution_count": null,
   "metadata": {},
   "outputs": [],
   "source": [
    "my $n = 2 * prime(5);\n",
    "my $p = primitive-root($n);\n",
    "\n",
    "(:$n, :$p)"
   ]
  },
  {
   "cell_type": "markdown",
   "metadata": {},
   "source": [
    "Make the edges of a weighted graph -- the weights show the number of times `power-mod` jumps from one power to another:"
   ]
  },
  {
   "cell_type": "code",
   "execution_count": null,
   "metadata": {},
   "outputs": [],
   "source": [
    "my @edges = (1..$n).map({ power-mod($p, $_, $n).Str => power-mod($p, $_ + 1, $n).Str }).classify(*).map({ %(from => $_.key.key, to => $_.key.value, weight => $_.value.elems) });\n",
    "\n",
    "deduce-type(@edges)"
   ]
  },
  {
   "cell_type": "markdown",
   "metadata": {},
   "source": [
    "Plot the graph:"
   ]
  },
  {
   "cell_type": "code",
   "execution_count": null,
   "metadata": {},
   "outputs": [],
   "source": [
    "#%html\n",
    "my $g = Graph.new(@edges, :directed-edges);\n",
    "\n",
    "$g.dot(background => 'none', engine => 'neato'):svg"
   ]
  },
  {
   "cell_type": "markdown",
   "metadata": {},
   "source": [
    "----\n",
    "\n",
    "## Prime Pi"
   ]
  },
  {
   "cell_type": "markdown",
   "metadata": {},
   "source": [
    "- `prime-pi` gives the number of primes $\\pi(x)$ less than or equal to $x$.\n",
    "- $\\pi(x)$ is also known as prime counting function.\n",
    "- $\\pi(x)$ has the asymptotic expansion $x/log(x) + x/log^2(x)+2 x/log^3(x) + ... $ as $x \\rightarrow \\propto$."
   ]
  },
  {
   "cell_type": "code",
   "execution_count": null,
   "metadata": {},
   "outputs": [],
   "source": [
    "#% js\n",
    "my $limit = 200;\n",
    "my @data = (2..$limit).map({ %( group => 'x/log(x) + x/log(x)²', x => $_, y => $_ / log($_) +  $_ / log($_) ** 2 ) });\n",
    "@data .= append: (2..$limit).map({ %( group => 'π(x)', x => $_, y => prime-pi($_) ) });\n",
    "js-d3-list-line-plot(@data, background => 'none', width => 800, height => 300)"
   ]
  },
  {
   "cell_type": "markdown",
   "metadata": {},
   "source": [
    "[Ulam spiral](https://en.wikipedia.org/wiki/Ulam_spiral) colored based on the difference in `prime-pi` values: "
   ]
  },
  {
   "cell_type": "code",
   "execution_count": null,
   "metadata": {},
   "outputs": [],
   "source": [
    "my $method = 'Legendre';\n",
    "my @mat = spiral-lattice(101).deepmap({ prime-pi($_ + 10, :$method) - prime-pi($_, :$method) });\n",
    "\n",
    "deduce-type(@mat)"
   ]
  },
  {
   "cell_type": "markdown",
   "metadata": {},
   "source": [
    "Plot the spiral:"
   ]
  },
  {
   "cell_type": "code",
   "execution_count": null,
   "metadata": {},
   "outputs": [],
   "source": [
    "#% js\n",
    "js-d3-matrix-plot(@mat, width => 400, height => 400, :!grid-lines, color-palette => 'Rainbow', :!tooltip)"
   ]
  },
  {
   "cell_type": "markdown",
   "metadata": {},
   "source": [
    "----\n",
    "\n",
    "## Totient function "
   ]
  },
  {
   "cell_type": "markdown",
   "metadata": {},
   "source": [
    "The totient function $\\phi(x)$, also called Euler's totient function, is defined as the number of positive integers $≤ n$ that are relatively prime to (i.e., do not contain any factor in common with) $n$, where $1$ is counted as being relatively prime to all numbers. "
   ]
  },
  {
   "cell_type": "markdown",
   "metadata": {},
   "source": [
    "- `euler-phi` is also known as the [Euler totient function](https://mathworld.wolfram.com/TotientFunction.html) or _phi function_.\n",
    "- Integer mathematical function suitable for numerical manipulation.\n",
    "- Typically used in cryptography and in many applications in elementary number theory.\n",
    "- `euler-phi(n)` counts positive integers up to `n` that are relatively prime to `n`.\n",
    "- For the number $n = u \\times p_1^{k_1} ... p_{m}^{m_1}$ with $u$ unit and $p_{i}$ primes, `euler-phi(n)` gives $n (1 - \\frac{1}{p_1}) ... (1 - \\frac{1}{p_{m}})$."
   ]
  },
  {
   "cell_type": "code",
   "execution_count": null,
   "metadata": {},
   "outputs": [],
   "source": [
    "#% js\n",
    "js-d3-list-line-plot((^100)».&euler-phi, background => 'none', plot-label => \"Euler's ϕ(x)\", title-color => 'DimGray')"
   ]
  },
  {
   "cell_type": "markdown",
   "metadata": {},
   "source": [
    "$\\phi(n)$ satisfies:\n",
    "\n",
    "$$\n",
    "\\liminf_{n \\rightarrow \\propto} \\phi(n) \\frac{\\ln \\ln n}{n} = e^{-\\gamma} \n",
    "$$\n",
    "\n",
    "See [MathWorld's \"Totient Function\"](https://mathworld.wolfram.com/TotientFunction.html)."
   ]
  },
  {
   "cell_type": "code",
   "execution_count": null,
   "metadata": {},
   "outputs": [],
   "source": [
    "#% js\n",
    "js-d3-list-plot(\n",
    "    (2..5000).map({ euler-phi($_) * $_.log.log / $_ }), \n",
    "    background => 'none', \n",
    "    title => \"Euler's ϕ(x)\", \n",
    "    title-color => 'DimGray',\n",
    "    point-size => 2\n",
    ")"
   ]
  },
  {
   "cell_type": "markdown",
   "metadata": {},
   "source": [
    "Plot of Ulam spiral where numbers are colored based on the values of `euler-phi`:"
   ]
  },
  {
   "cell_type": "code",
   "execution_count": null,
   "metadata": {},
   "outputs": [],
   "source": [
    "my $n = 141;\n",
    "my @mat = spiral-lattice($n).&flatten.hyper(:4degree).map({ euler-phi($_) }).rotor($n);\n",
    "\n",
    "@mat ==> dimensions"
   ]
  },
  {
   "cell_type": "code",
   "execution_count": null,
   "metadata": {},
   "outputs": [],
   "source": [
    "#% js\n",
    "js-d3-matrix-plot(@mat, width => 400, height => 400, :!grid-lines, color-palette => 'Viridis', :!mesh, :!tooltip)"
   ]
  }
 ],
 "metadata": {
  "kernelspec": {
   "display_name": "RakuChatbook",
   "language": "raku",
   "name": "raku"
  },
  "language_info": {
   "file_extension": ".raku",
   "mimetype": "text/x-raku",
   "name": "raku",
   "version": "6.d"
  }
 },
 "nbformat": 4,
 "nbformat_minor": 2
}
