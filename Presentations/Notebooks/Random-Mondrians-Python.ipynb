{
 "cells": [
  {
   "cell_type": "markdown",
   "metadata": {},
   "source": [
    "## LLM assistant"
   ]
  },
  {
   "cell_type": "code",
   "execution_count": null,
   "metadata": {},
   "outputs": [],
   "source": [
    "%load_ext JupyterChatbook"
   ]
  },
  {
   "cell_type": "code",
   "execution_count": null,
   "metadata": {},
   "outputs": [],
   "source": [
    "%%chat -i=cw\n",
    "How to import and display and image in a Jupyter notebook?"
   ]
  },
  {
   "cell_type": "markdown",
   "metadata": {},
   "source": [
    "-------\n",
    "\n",
    "## mondrianish"
   ]
  },
  {
   "cell_type": "code",
   "execution_count": 15,
   "metadata": {},
   "outputs": [],
   "source": [
    "from mondrianish import *\n",
    "\n",
    "colors = (\"#FFF8F0\", \"#FCAA67\", \"#7DB7C0\", \"#932b25\", \"#498B57\")\n",
    "with open(\"random-mondrianish.png\", \"wb\") as f:\n",
    "\tgenerate_image(\"png\", (600, 400), 15, colors, f)"
   ]
  },
  {
   "cell_type": "code",
   "execution_count": 16,
   "metadata": {},
   "outputs": [
    {
     "data": {
      "image/png": "[encoded data removed]",
      "text/plain": [
       "<IPython.core.display.Image object>"
      ]
     },
     "metadata": {},
     "output_type": "display_data"
    }
   ],
   "source": [
    "from PIL import Image\n",
    "from IPython.display import Image, display\n",
    "\n",
    "# Load the image\n",
    "image = Image(\"./random-mondrianish.png\")\n",
    "\n",
    "# Display the image\n",
    "display(image)"
   ]
  },
  {
   "cell_type": "markdown",
   "metadata": {},
   "source": [
    "-------\n",
    "\n",
    "## mondrian_maker"
   ]
  },
  {
   "cell_type": "code",
   "execution_count": 11,
   "metadata": {},
   "outputs": [
    {
     "data": {
      "image/png": "[encoded data removed]",
      "text/plain": [
       "<Figure size 640x480 with 1 Axes>"
      ]
     },
     "metadata": {},
     "output_type": "display_data"
    },
    {
     "data": {
      "text/plain": [
       "(<Figure size 640x480 with 1 Axes>, <Axes: >)"
      ]
     },
     "execution_count": 11,
     "metadata": {},
     "output_type": "execute_result"
    }
   ],
   "source": [
    "from mondrian_maker.mondrian import mondrian\n",
    "\n",
    "m = mondrian()\n",
    "m.make_mondrian()"
   ]
  },
  {
   "cell_type": "markdown",
   "metadata": {},
   "source": [
    "----------\n",
    "\n",
    "## mondriana"
   ]
  },
  {
   "cell_type": "code",
   "execution_count": 5,
   "metadata": {},
   "outputs": [],
   "source": [
    "from PIL import Image, ImageDraw\n",
    "import random\n",
    "import os\n",
    "\n",
    "def draw_line(draw, direction, position, start, end, line_width):\n",
    "    if direction != 'horizontal':  # vertical\n",
    "        draw.line((position, start, position, end), fill=\"black\", width=line_width)\n",
    "    else:\n",
    "        draw.line((start, position, end, position), fill=\"black\", width=line_width)\n",
    "\n",
    "def add_color(draw, box, colors, line_width):\n",
    "    color = random.choice(colors + ['white'] * 5)  # More weight on white\n",
    "    draw.rectangle(box, fill=color, outline=\"black\", width=line_width)\n",
    "\n",
    "def generate_lines(start, end, min_lines, max_lines, min_gap):\n",
    "    num_lines = random.randint(min_lines, max_lines)\n",
    "    lines = []\n",
    "    possible_positions = list(range(start + min_gap, end - min_gap))\n",
    "    for _ in range(num_lines):\n",
    "        if not possible_positions:\n",
    "            break\n",
    "        position = random.choice(possible_positions)\n",
    "        lines.append(position)\n",
    "        # Remove nearby positions to maintain the minimum gap\n",
    "        for p in range(position - min_gap, position + min_gap + 1):\n",
    "            if p in possible_positions:\n",
    "                possible_positions.remove(p)\n",
    "    return sorted(lines)\n",
    "\n",
    "def subdivide_rectangle(draw, box, colors, line_width, depth, max_depth):\n",
    "    left, top, right, bottom = box\n",
    "\n",
    "    if depth >= max_depth or (right - left) < 100 or (bottom - top) < 100:\n",
    "        add_color(draw, box, colors, line_width)\n",
    "        return\n",
    "\n",
    "    if random.random() < 0.5:  # 50% chance to subdivide\n",
    "        if random.random() < 0.5:  # Subdivide horizontally\n",
    "            y = random.randint(top + 50, bottom - 50)\n",
    "            draw_line(draw, 'horizontal', y, left, right, line_width)\n",
    "            subdivide_rectangle(draw, (left, top, right, y), colors, line_width, depth + 1, max_depth)\n",
    "            subdivide_rectangle(draw, (left, y, right, bottom), colors, line_width, depth + 1, max_depth)\n",
    "        else:  # Subdivide vertically\n",
    "            x = random.randint(left + 50, right - 50)\n",
    "            draw_line(draw, 'vertical', x, top, bottom, line_width)\n",
    "            subdivide_rectangle(draw, (left, top, x, bottom), colors, line_width, depth + 1, max_depth)\n",
    "            subdivide_rectangle(draw, (x, top, right, bottom), colors, line_width, depth + 1, max_depth)\n",
    "    else:\n",
    "        add_color(draw, box, colors, line_width)\n",
    "\n",
    "def mondrian_style(width, height, min_lines=2, max_lines=4, min_gap=20, edge_buffer=50, line_width=4, max_depth=2):\n",
    "    image = Image.new(\"RGB\", (width, height), \"white\")\n",
    "    draw = ImageDraw.Draw(image)\n",
    "\n",
    "    v_lines = generate_lines(edge_buffer, width - edge_buffer, min_lines, max_lines, min_gap)\n",
    "    h_lines = generate_lines(edge_buffer, height - edge_buffer, min_lines, max_lines, min_gap)\n",
    "\n",
    "    for line in v_lines:\n",
    "        draw_line(draw, 'vertical', line, 0, height, line_width)\n",
    "    for line in h_lines:\n",
    "        draw_line(draw, 'horizontal', line, 0, width, line_width)\n",
    "\n",
    "    colors = ['red', 'blue', 'yellow', 'black']\n",
    "    for i in range(len(v_lines) + 1):\n",
    "        for j in range(len(h_lines) + 1):\n",
    "            left = 0 if i == 0 else v_lines[i - 1]\n",
    "            top = 0 if j == 0 else h_lines[j - 1]\n",
    "            right = width if i == len(v_lines) else v_lines[i]\n",
    "            bottom = height if j == len(h_lines) else h_lines[j]\n",
    "\n",
    "            box = (left, top, right, bottom)\n",
    "            subdivide_rectangle(draw, box, colors, line_width, 0, max_depth)\n",
    "\n",
    "    # Save the image as a PNG file\n",
    "    output_dir = \"./\"\n",
    "    os.makedirs(output_dir, exist_ok=True)  # Create the directory if it doesn't exist\n",
    "    output_path = os.path.join(output_dir, \"mondrianpic.png\")\n",
    "    image.save(output_path)\n",
    "\n",
    "canvas_width, canvas_height = 800, 480\n",
    "mondrian_style(canvas_width, canvas_height)"
   ]
  },
  {
   "cell_type": "code",
   "execution_count": 6,
   "metadata": {},
   "outputs": [
    {
     "data": {
      "image/png": "[encoded data removed]",
      "text/plain": [
       "<IPython.core.display.Image object>"
      ]
     },
     "metadata": {},
     "output_type": "display_data"
    }
   ],
   "source": [
    "from IPython.display import Image, display\n",
    "\n",
    "# Load the image\n",
    "image = Image(\"./mondrianpic.png\")\n",
    "\n",
    "# Display the image\n",
    "display(image)"
   ]
  },
  {
   "cell_type": "markdown",
   "metadata": {},
   "source": [
    "--------\n",
    "\n",
    "## Wolfram Language (WL)"
   ]
  },
  {
   "cell_type": "code",
   "execution_count": 12,
   "metadata": {},
   "outputs": [],
   "source": [
    "from wolframclient.evaluation import WolframLanguageSession\n",
    "from wolframclient.language import wl, wlexpr\n",
    "session = WolframLanguageSession()"
   ]
  },
  {
   "cell_type": "code",
   "execution_count": 13,
   "metadata": {},
   "outputs": [
    {
     "data": {
      "text/plain": [
       "'./wl-mondrian.png'"
      ]
     },
     "execution_count": 13,
     "metadata": {},
     "output_type": "execute_result"
    }
   ],
   "source": [
    "graphic = session.evaluate(wl.ResourceFunction('RandomMondrian')())\n",
    "\n",
    "path = \"./wl-mondrian.png\";\n",
    "png_export = wl.Export(path, graphic, \"PNG\")\n",
    "session.evaluate(png_export)"
   ]
  },
  {
   "cell_type": "code",
   "execution_count": 14,
   "metadata": {},
   "outputs": [
    {
     "data": {
      "image/png": "[encoded data removed]",
      "text/plain": [
       "<IPython.core.display.Image object>"
      ]
     },
     "metadata": {},
     "output_type": "display_data"
    }
   ],
   "source": [
    "from IPython.display import Image, display\n",
    "display(Image(path))"
   ]
  }
 ],
 "metadata": {
  "kernelspec": {
   "display_name": "SciPyCentric",
   "language": "python",
   "name": "python3"
  },
  "language_info": {
   "codemirror_mode": {
    "name": "ipython",
    "version": 3
   },
   "file_extension": ".py",
   "mimetype": "text/x-python",
   "name": "python",
   "nbconvert_exporter": "python",
   "pygments_lexer": "ipython3",
   "version": "3.12.2"
  }
 },
 "nbformat": 4,
 "nbformat_minor": 2
}
