{
 "cells": [
  {
   "cell_type": "markdown",
   "metadata": {},
   "source": [
    "# Number theory neat examples\n",
    "\n",
    "<span style=\"font-size: 16pt; font-style: italic; font-weight: bold\">Set 4 : </span>\n",
    "<span style=\"font-size: 16pt; font-style: italic;\">prime-pi, divisors, totient function</span>\n",
    "\n",
    "Anton Antonov    \n",
    "[RakuForPrediction at WordPress](https://rakuforprediction.wordpress.com)   \n",
    "February, July 2025     "
   ]
  },
  {
   "cell_type": "code",
   "execution_count": null,
   "metadata": {},
   "outputs": [],
   "source": [
    "#%js\n",
    "    my $m = (7 .. 23).pick;\n",
    "    my $s = 40;\n",
    "    my $batch = (($s-1) * 2 * ($s-1) / 4).round;\n",
    "    my @a = ((2..$s) X (2 .. 2 * $s)).hyper(:4degree, :$batch).map({ (prime-pi($_.tail) - prime-pi($_.head)) mod $m }).rotor(2 * $s-1);\n",
    "    js-d3-matrix-plot(@a, width => 600, height => 300, :!grid-lines, color-palette => 'Plasma', :!tooltip)"
   ]
  },
  {
   "cell_type": "markdown",
   "metadata": {},
   "source": [
    "----\n",
    "\n",
    "## Introduction"
   ]
  },
  {
   "cell_type": "markdown",
   "metadata": {},
   "source": [
    "**What is a neat example?** : Concise or straightforward code that produces compelling visual or textual outputs."
   ]
  },
  {
   "cell_type": "markdown",
   "metadata": {},
   "source": [
    "**Maybe:** We know *neat* when we see it?"
   ]
  },
  {
   "cell_type": "markdown",
   "metadata": {},
   "source": [
    "The neat examples:\n",
    "\n",
    "- Showcase Raku programming.\n",
    "- Use functionalities of different Raku modules.\n",
    "- Give interesting perspectives on what is computationally possible."
   ]
  },
  {
   "cell_type": "markdown",
   "metadata": {},
   "source": [
    "Showcased:\n",
    "- All number theory functions are provided by [\"Math::NumberTheory\"](https://raku.land/zef:antononcube/Math::NumberTheory).   \n",
    "- Visualization functions are provided by [\"JavaScript::D3\"](https://raku.land/zef:antononcube/JavaScript::D3).\n",
    "- Graphs and graph plots are provided by [\"Graph\"](https://raku.land/zef:antononcube/Graph).\n",
    "- Data manipulation functions are provided by [\"Data::Reshapers\"](https://raku.land/zef:antononcube/Data::Reshapers).\n",
    "- Data summarization functions are provided by [\"Data::Summarizers\"](https://raku.land/zef:antononcube/Data::Summarizers).\n",
    "- Data translation functions (like `to-html`) are provided by [\"Data::Translators\"](https://raku.land/zef:antononcube/Data::Translators)."
   ]
  },
  {
   "cell_type": "markdown",
   "metadata": {},
   "source": [
    "**Remark:** \n",
    "- Raku has built-in Number theory functions: `is-prime`, `mod`, `expmod`, `polymod`, `base`, `gcd`, `lcm`, etc. \n",
    "- The package \"Math::NumberTheory\" extends those functions and adds (many) more.\n",
    "- \"Math::NumberTheory\" follows closely designs of Number theory functions in Wolfram Language (aka Mathematica.)"
   ]
  },
  {
   "cell_type": "markdown",
   "metadata": {},
   "source": [
    "-----\n",
    "\n",
    "## Setup"
   ]
  },
  {
   "cell_type": "code",
   "execution_count": 27,
   "metadata": {},
   "outputs": [],
   "source": [
    "# Placed in in init.raku\n",
    "#use Math::NumberTheory;\n",
    "#use Math::NumberTheory::Utilities;\n",
    "\n",
    "use JavaScript::D3::Utilities;"
   ]
  },
  {
   "cell_type": "code",
   "execution_count": 28,
   "metadata": {},
   "outputs": [
    {
     "data": {
      "application/javascript": "require.config({\n     paths: {\n     d3: 'https://d3js.org/d3.v7.min'\n}});\n\nrequire(['d3'], function(d3) {\n     console.log(d3);\n});"
     },
     "execution_count": 28,
     "metadata": {},
     "output_type": "execute_result"
    }
   ],
   "source": [
    "%% javascript\n",
    "require.config({\n",
    "     paths: {\n",
    "     d3: 'https://d3js.org/d3.v7.min'\n",
    "}});\n",
    "\n",
    "require(['d3'], function(d3) {\n",
    "     console.log(d3);\n",
    "});"
   ]
  },
  {
   "cell_type": "code",
   "execution_count": 29,
   "metadata": {},
   "outputs": [
    {
     "data": {
      "application/javascript": "(function(element) { require(['d3'], function(d3) {\n\n// set the dimensions and margins of the graph\nvar margin = {\"bottom\":40,\"top\":40,\"right\":40,\"left\":40},\n    width = 600 - margin.left - margin.right,\n    height = 400 - margin.top - margin.bottom;\n\n// append the svg object to the body of the page\nvar svg = d3\n   .select(element.get(0))\n  .append(\"svg\")\n    .attr(\"width\", width + margin.left + margin.right)\n    .attr(\"height\", height + margin.top + margin.bottom)\n    .style(\"background\", \"none\")\n  .append(\"g\")\n    .attr(\"transform\",\n          \"translate(\" + margin.left + \",\" + margin.top + \")\")\n\n// Obtain title\nvar title = \"\"\nvar titleFontSize = 16\n\nif ( title.length > 0 ) {\n    svg.append(\"text\")\n        .attr(\"x\", (width / 2))\n        .attr(\"y\", 0 - (margin.top / 2))\n        .attr(\"text-anchor\", \"middle\")\n        .style(\"font-size\", titleFontSize.toString() + \"px\")\n        .style(\"fill\", \"Black\")\n        .text(title);\n}\n\n// Obtain x-axis label\nvar xAxisLabel = \"\"\nvar xAxisLabelFontSize = 12\n\nif ( xAxisLabel.length > 0 ) {\n    svg.append(\"text\")\n        .attr(\"x\", (width / 2))\n        .attr(\"y\", height + margin.bottom - xAxisLabelFontSize/2)\n        .attr(\"text-anchor\", \"middle\")\n        .style(\"font-size\", xAxisLabelFontSize.toString() + \"px\")\n        .style(\"fill\", \"Black\")\n        .text(xAxisLabel);\n}\n\n// Obtain y-axis label\nvar yAxisLabel = \"\"\nvar yAxisLabelFontSize = 12\n\nif ( yAxisLabel.length > 0 ) {\n    svg.append(\"text\")\n        .attr(\"transform\", \"rotate(-90)\")\n        .attr(\"x\", - (height / 2))\n        .attr(\"y\", 0 - margin.left + yAxisLabelFontSize)\n        .attr(\"text-anchor\", \"middle\")\n        .style(\"font-size\", yAxisLabelFontSize.toString() + \"px\")\n        .style(\"fill\", \"Black\")\n        .text(yAxisLabel);\n}\n\n\n// Obtain data\nvar data = [{\"y\":0.3279995942921823e0,\"x\":1},{\"x\":2,\"y\":0.45622904343669546e0},{\"y\":0.17218806005858334e0,\"x\":3},{\"y\":0.36244628449816607e0,\"x\":4},{\"y\":0.11701986283331067e0,\"x\":5},{\"x\":6,\"y\":0.698345055564571e0},{\"y\":0.8486402246920073e0,\"x\":7},{\"x\":8,\"y\":0.21120060410497377e0},{\"y\":0.8210654018423891e0,\"x\":9},{\"y\":0.49261189663670213e0,\"x\":10},{\"y\":0.6564924631726397e0,\"x\":11},{\"y\":0.9987901708981394e0,\"x\":12},{\"x\":13,\"y\":0.11572500123010565e0},{\"x\":14,\"y\":0.31815102761727143e0},{\"y\":0.09445160936822217e0,\"x\":15},{\"y\":0.3119346914546699e0,\"x\":16},{\"y\":0.21861632062296654e0,\"x\":17},{\"y\":0.7376247558159408e0,\"x\":18},{\"y\":0.6807806217948469e0,\"x\":19},{\"y\":0.5290967493060517e0,\"x\":20},{\"x\":21,\"y\":0.4357594732974196e0},{\"y\":0.27766083416897336e0,\"x\":22},{\"x\":23,\"y\":0.6836785018537491e0},{\"y\":0.9009632197180233e0,\"x\":24},{\"x\":25,\"y\":0.3348618667295391e0},{\"x\":26,\"y\":0.9042053018823332e0},{\"x\":27,\"y\":0.00010099373113181542e0},{\"x\":28,\"y\":0.8885184246938611e0},{\"y\":0.4227532955249117e0,\"x\":29},{\"x\":30,\"y\":0.8455313925562827e0},{\"y\":0.23228732722232948e0,\"x\":31},{\"y\":0.8903178733843929e0,\"x\":32},{\"y\":0.2152655886755649e0,\"x\":33},{\"x\":34,\"y\":0.8560992471056118e0},{\"y\":0.9929834429080491e0,\"x\":35},{\"y\":0.6518779926143259e0,\"x\":36},{\"x\":37,\"y\":0.26522828875327986e0},{\"y\":0.8696717328786828e0,\"x\":38},{\"y\":0.4622682411325848e0,\"x\":39},{\"y\":0.597580815659811e0,\"x\":40}]\n\nvar xMin = Math.min.apply(Math, data.map(function(o) { return o.x; }))\nvar xMax = Math.max.apply(Math, data.map(function(o) { return o.x; }))\n\nvar yMin = Math.min.apply(Math, data.map(function(o) { return o.y; }))\nvar yMax = Math.max.apply(Math, data.map(function(o) { return o.y; }))\n\n// X scale and Axis\nvar x = d3.scaleLinear()\n    .domain([xMin, xMax])\n    .range([0, width]);\n\n// Y scale and Axis\nvar y = d3.scaleLinear()\n    .domain([yMin, yMax])\n    .range([height, 0]);\n\nsvg\n  .append('g')\n  .attr(\"transform\", \"translate(0,\" + height + \")\")\n  .call(d3.axisBottom(x))\n\nsvg\n  .append('g')\n  .call(d3.axisLeft(y));\n\n// prepare a helper function\nvar lineFunc = d3.line()\n  .x(function(d) { return x(d.x) })\n  .y(function(d) { return y(d.y) })\n\n// Add the path using this helper function\nsvg.append('path')\n  .attr('d', lineFunc(data))\n  .attr(\"stroke-width\", 1.5)\n  .attr('stroke', \"SteelBlue\")\n  .attr('fill', 'none');\n\n}) })(element);\n"
     },
     "execution_count": 29,
     "metadata": {},
     "output_type": "execute_result"
    }
   ],
   "source": [
    "#%js\n",
    "js-d3-list-line-plot(rand xx 40, background => 'none')"
   ]
  },
  {
   "cell_type": "markdown",
   "metadata": {},
   "source": [
    "----\n",
    "\n",
    "## Prime Pi"
   ]
  },
  {
   "cell_type": "markdown",
   "metadata": {},
   "source": [
    "- `prime-pi` gives the number of primes $\\pi(x)$ less than or equal to $x$.\n",
    "- $\\pi(x)$ is also known as *prime counting function*.\n",
    "- $\\pi(x)$ has the asymptotic expansion $x/log(x) + x/log^2(x)+2 x/log^3(x) + ... $ as $x \\rightarrow \\propto$."
   ]
  },
  {
   "cell_type": "code",
   "execution_count": null,
   "metadata": {},
   "outputs": [],
   "source": [
    "#% js\n",
    "    my $limit = 200;\n",
    "    my @data;\n",
    "    @data .= append: (2..$limit).map({ %( group => 'x/log(x) + x/log(x)²', x => $_, y => $_ / log($_) +  $_ / log($_) ** 2 ) });\n",
    "    @data .= append: (2..$limit).map({ %( group => 'x/log(x)', x => $_, y => $_ / log($_) ) });\n",
    "    @data .= append: (2..$limit).map({ %( group => 'π(x)', x => $_, y => prime-pi($_) ) });\n",
    "    js-d3-list-line-plot(@data, color-palette => 'Tableau10', background => 'none', width => 800, height => 300)"
   ]
  },
  {
   "cell_type": "markdown",
   "metadata": {},
   "source": [
    "See [Prime number theorem](https://en.wikipedia.org/wiki/Prime_number_theorem) for details."
   ]
  },
  {
   "cell_type": "markdown",
   "metadata": {},
   "source": [
    "[Ulam spiral](https://en.wikipedia.org/wiki/Ulam_spiral) colored based on the difference in `prime-pi` values: "
   ]
  },
  {
   "cell_type": "code",
   "execution_count": 31,
   "metadata": {},
   "outputs": [
    {
     "data": {
      "text/plain": [
       "Vector(Vector(Atom((Int)), 101), 101)"
      ]
     },
     "execution_count": 31,
     "metadata": {},
     "output_type": "execute_result"
    }
   ],
   "source": [
    "my $method = 'Legendre';\n",
    "my @mat = spiral-lattice(101).deepmap({ prime-pi($_ + 10, :$method) - prime-pi($_, :$method) });\n",
    "\n",
    "deduce-type(@mat)"
   ]
  },
  {
   "cell_type": "markdown",
   "metadata": {},
   "source": [
    "Plot the spiral:"
   ]
  },
  {
   "cell_type": "code",
   "execution_count": null,
   "metadata": {},
   "outputs": [],
   "source": [
    "#% js\n",
    "js-d3-matrix-plot(@mat, width => 400, height => 400, :!grid-lines, color-palette => 'Rainbow', :!tooltip)"
   ]
  },
  {
   "cell_type": "markdown",
   "metadata": {},
   "source": [
    "Generate a path based on the `prime-pi` sub:"
   ]
  },
  {
   "cell_type": "code",
   "execution_count": null,
   "metadata": {},
   "outputs": [],
   "source": [
    "#% js\n",
    "my @path = angle-path((1..1_000)».&prime-pi)».reverse.kv.map( -> $i, $p {[|$p, ($i div 100).Str]});\n",
    "my %opts = color-scheme => 'Observable10', background => '#1F1F1F', :axes, :!legends;\n",
    "js-d3-list-line-plot(@path, :800width, :500height, |%opts)"
   ]
  },
  {
   "cell_type": "code",
   "execution_count": 34,
   "metadata": {},
   "outputs": [
    {
     "name": "stdout",
     "output_type": "stream",
     "text": [
      "+-------------------------------+-------------------------------+----------------+\n",
      "| 0                             | 1                             | 2              |\n",
      "+-------------------------------+-------------------------------+----------------+\n",
      "| Min    => -34.97751253833948  | Min    => -0.0667902539484635 | 4       => 100 |\n",
      "| 1st-Qu => -20.12043698712268  | 1st-Qu => 4.077315500536086   | 6       => 100 |\n",
      "| Mean   => -13.249046523603868 | Mean   => 8.370916136319657   | 1       => 100 |\n",
      "| Median => -12.76276899793472  | Median => 7.517608575526668   | 7       => 100 |\n",
      "| 3rd-Qu => -4.724627446571914  | 3rd-Qu => 12.51010823041242   | 0       => 100 |\n",
      "| Max    => 8.73794847994785    | Max    => 18.68859172837683   | 3       => 100 |\n",
      "|                               |                               | 8       => 100 |\n",
      "|                               |                               | (Other) => 301 |\n",
      "+-------------------------------+-------------------------------+----------------+\n"
     ]
    }
   ],
   "source": [
    "sink records-summary(@path, field-names => [\"0\", \"1\", \"2\"])"
   ]
  },
  {
   "cell_type": "markdown",
   "metadata": {},
   "source": [
    "------\n",
    "\n",
    "## Divisor sigma"
   ]
  },
  {
   "cell_type": "markdown",
   "metadata": {},
   "source": [
    "The function `divisor-sigma(k,n)` gives the divisor function $\\sigma_{k}(n)$."
   ]
  },
  {
   "cell_type": "markdown",
   "metadata": {},
   "source": [
    "- `divisor-sigma` is also known as the divisor function or sum‐of‐divisors function.\n",
    "- `divisor-sigma(k,n)` is the sum of the $k^{th}$ powers of the divisors of $n$.\n",
    "- For a number $n = u \\times p_1^{e_1} ... p_{m}^{e_{m}}$ with a unit $u$ and $p_{i}$ primes, `divisor-sigma(k, n)` returns $(1 + p_1^{k} + p_1^{2 k} + ... + p_1^{e_1 k} )(1 + p_2^{k} + p_2^{2 k} + ... + p_1^{e_2 k})...$."
   ]
  },
  {
   "cell_type": "code",
   "execution_count": 35,
   "metadata": {},
   "outputs": [
    {
     "data": {
      "text/html": [
       "<table border=\"1\"><thead><tr><th>n</th><th>0</th><th>1</th><th>2</th><th>3</th><th>4</th><th>5</th><th>6</th><th>7</th><th>8</th><th>9</th><th>10</th></tr></thead><tbody><tr><td>1</td><td>1</td><td>1</td><td>1</td><td>1</td><td>1</td><td>1</td><td>1</td><td>1</td><td>1</td><td>1</td><td>1</td></tr><tr><td>2</td><td>2</td><td>3</td><td>5</td><td>9</td><td>17</td><td>33</td><td>65</td><td>129</td><td>257</td><td>513</td><td>1025</td></tr><tr><td>3</td><td>2</td><td>4</td><td>10</td><td>28</td><td>82</td><td>244</td><td>730</td><td>2188</td><td>6562</td><td>19684</td><td>59050</td></tr></tbody></table>"
      ]
     },
     "execution_count": 35,
     "metadata": {},
     "output_type": "execute_result"
    }
   ],
   "source": [
    "#%html\n",
    "    my @cols = 1..3;\n",
    "    (@cols X (^11)).map({ $_.tail => divisor-sigma($_.tail, $_.head) }).rotor(11)».Hash\n",
    "    ==> { $_.kv.map(-> $k, %v { %v<n> = @cols[$k]; %v }) }()\n",
    "    ==> to-html(field-names => ['n', |(^11)».Str])"
   ]
  },
  {
   "cell_type": "markdown",
   "metadata": {},
   "source": [
    "Here is a plot if $\\sigma_i(n), i \\in \\{0, 1, 2\\}$:"
   ]
  },
  {
   "cell_type": "code",
   "execution_count": null,
   "metadata": {},
   "outputs": [],
   "source": [
    "#%js\n",
    "    my @cols = \"σ₀(n) Number of divisors\", \"σ₁(n) Sum of divisors\", \"σ₂(n) Sum of squares of divisors\";\n",
    "    my @data = ((^3) X (1..150)).map({ <group x y> Z=> [@cols[$_.head], $_.tail, divisor-sigma($_.tail, e => $_.head).log] })».Hash;\n",
    "    js-d3-list-line-plot(@data,\n",
    "        background => 'none',\n",
    "        width => 1000,\n",
    "        height => 300\n",
    "    )"
   ]
  },
  {
   "cell_type": "markdown",
   "metadata": {},
   "source": [
    "Recognize [amicable numbers](https://en.wikipedia.org/wiki/Amicable_numbers), two different numbers such that the sum of the proper divisors of each is equal to the other number:"
   ]
  },
  {
   "cell_type": "code",
   "execution_count": 37,
   "metadata": {},
   "outputs": [
    {
     "data": {
      "text/plain": [
       "((220 284) (284 220))"
      ]
     },
     "execution_count": 37,
     "metadata": {},
     "output_type": "execute_result"
    }
   ],
   "source": [
    "my &is-amicable-pair = { $^a != $^b && divisor-sigma(1, $^a) - $^a == $^b && divisor-sigma(1, $^b) - $^b == $^a };\n",
    "\n",
    "(1..300 X 1..300).grep({ &is-amicable-pair(|$_) })"
   ]
  },
  {
   "cell_type": "markdown",
   "metadata": {},
   "source": [
    "Much faster way to compute the amicable numbers:"
   ]
  },
  {
   "cell_type": "code",
   "execution_count": 38,
   "metadata": {},
   "outputs": [
    {
     "data": {
      "text/plain": [
       "((220 284) (1184 1210) (2620 2924))"
      ]
     },
     "execution_count": 38,
     "metadata": {},
     "output_type": "execute_result"
    }
   ],
   "source": [
    "my $n = 3_000;\n",
    "my @sigmas = (1..$n).map({ divisor-sigma(1, $_) - $_ });\n",
    "my &is-amicable-pair2 = { $^a != $^b && @sigmas[$^a-1] == $^b && @sigmas[$^b-1] == $^a  };\n",
    "\n",
    "(1..$n).combinations(2).grep({ &is-amicable-pair2(|$_) })"
   ]
  },
  {
   "cell_type": "code",
   "execution_count": 39,
   "metadata": {},
   "outputs": [
    {
     "data": {
      "text/plain": [
       "4498500"
      ]
     },
     "execution_count": 39,
     "metadata": {},
     "output_type": "execute_result"
    }
   ],
   "source": [
    "factorial($n) / ( 2 * factorial($n - 2))"
   ]
  },
  {
   "cell_type": "markdown",
   "metadata": {},
   "source": [
    "Plot a version of [Ulam spiral](https://en.wikipedia.org/wiki/Ulam_spiral) with the number divisors:"
   ]
  },
  {
   "cell_type": "code",
   "execution_count": null,
   "metadata": {},
   "outputs": [],
   "source": [
    "#% js\n",
    "my @mat = spiral-lattice(71).deepmap({ divisor-sigma(0, $_)});\n",
    "js-d3-matrix-plot(@mat, width => 400, height => 400, :!grid-lines, color-palette => 'Plasma', :!tooltip)"
   ]
  },
  {
   "cell_type": "markdown",
   "metadata": {},
   "source": [
    "Sunflower arrangement:"
   ]
  },
  {
   "cell_type": "code",
   "execution_count": null,
   "metadata": {},
   "outputs": [],
   "source": [
    "#% js\n",
    "my @sunflower = sunflower-embedding(5_000, with => { divisor-sigma(2, $_).log(2).round.Str }):d;\n",
    "js-d3-list-plot(@sunflower, \n",
    "    background => 'none',\n",
    "    point-size => 4,\n",
    "    width => 900, height => 440, \n",
    "    :!axes, \n",
    "    :!legends,\n",
    "    color-scheme => 'Tableau10',\n",
    "    margins => {:20top, :20bottom, :250left, :250right}\n",
    " )"
   ]
  },
  {
   "cell_type": "markdown",
   "metadata": {},
   "source": [
    "----\n",
    "\n",
    "## Totient function "
   ]
  },
  {
   "cell_type": "markdown",
   "metadata": {},
   "source": [
    "The totient function $\\varphi(n)$, also called Euler's totient function, is defined as the number of positive integers $≤ n$ that are relatively prime to (i.e., do not contain any factor in common with) $n$, where $1$ is counted as being relatively prime to all numbers. "
   ]
  },
  {
   "cell_type": "markdown",
   "metadata": {},
   "source": [
    "- `euler-phi` is also known as the [Euler totient function](https://mathworld.wolfram.com/TotientFunction.html) or _phi function_.\n",
    "- Typically used in cryptography and in many applications in elementary number theory.\n",
    "- `euler-phi(n)` counts positive integers up to `n` that are relatively prime to `n`.\n",
    "- For the number $n = u \\times p_1^{k_1} ... p_{m}^{m_1}$ with $u$ unit and $p_{i}$ primes, `euler-phi(n)` gives $n (1 - \\frac{1}{p_1}) ... (1 - \\frac{1}{p_{m}})$."
   ]
  },
  {
   "cell_type": "code",
   "execution_count": null,
   "metadata": {},
   "outputs": [],
   "source": [
    "#% js\n",
    "js-d3-list-line-plot((^100)».&euler-phi, background => 'none', plot-label => \"Euler's ϕ(x)\", title-color => 'DimGray')"
   ]
  },
  {
   "cell_type": "markdown",
   "metadata": {},
   "source": [
    "$\\varphi(n)$ satisfies:\n",
    "\n",
    "$$\n",
    "\\liminf_{n \\rightarrow \\propto} \\varphi(n) \\frac{\\ln \\ln n}{n} = e^{-\\gamma} \n",
    "$$\n",
    "\n",
    "See [MathWorld's \"Totient Function\"](https://mathworld.wolfram.com/TotientFunction.html)."
   ]
  },
  {
   "cell_type": "code",
   "execution_count": null,
   "metadata": {},
   "outputs": [],
   "source": [
    "#% js\n",
    "js-d3-list-plot(\n",
    "    (2..5000).map({ euler-phi($_) * $_.log.log / $_ }), \n",
    "    background => 'none', \n",
    "    title => \"Euler's ϕ(x)\", \n",
    "    title-color => 'DimGray',\n",
    "    point-size => 2\n",
    ")"
   ]
  },
  {
   "cell_type": "markdown",
   "metadata": {},
   "source": [
    "Plot of Ulam spiral where numbers are colored based on the values of `euler-phi`:"
   ]
  },
  {
   "cell_type": "code",
   "execution_count": 44,
   "metadata": {},
   "outputs": [
    {
     "data": {
      "text/plain": [
       "Vector(Vector(Vector(Atom((Int)), 47), 47), 2)"
      ]
     },
     "execution_count": 44,
     "metadata": {},
     "output_type": "execute_result"
    }
   ],
   "source": [
    "my $n = 47;\n",
    "my @mats = \n",
    "    spiral-lattice($n, last-at => 'top-right').&flatten.hyper(:8degree).map({ euler-phi($_) }).rotor($n).cache,\n",
    "    spiral-lattice($n, last-at => 'top-left').&flatten.hyper(:8degree).map({ euler-phi($_) }).rotor($n).cache,\n",
    ";\n",
    "\n",
    "@mats ==> deduce-type"
   ]
  },
  {
   "cell_type": "code",
   "execution_count": null,
   "metadata": {},
   "outputs": [],
   "source": [
    "#% js\n",
    "@mats.map({\n",
    "    js-d3-matrix-plot($_, width => 400, height => 400, :!grid-lines, color-palette => 'Spectral', :!mesh, :!tooltip, :0margins)\n",
    "}).join(\"\\n\")"
   ]
  },
  {
   "cell_type": "markdown",
   "metadata": {},
   "source": [
    "Here we use Klauber triangle:"
   ]
  },
  {
   "cell_type": "code",
   "execution_count": 46,
   "metadata": {},
   "outputs": [
    {
     "data": {
      "text/plain": [
       "Vector(Vector(Atom((Int)), 193), 97)"
      ]
     },
     "execution_count": 46,
     "metadata": {},
     "output_type": "execute_result"
    }
   ],
   "source": [
    "my $n = 97;\n",
    "my @mat = triangle-matrix-embedding($n, missing-value => 0).&flatten.hyper(:8degree).map({ euler-phi($_) }).rotor(2 * $n - 1).cache;\n",
    "\n",
    "@mat ==> deduce-type"
   ]
  },
  {
   "cell_type": "code",
   "execution_count": null,
   "metadata": {},
   "outputs": [],
   "source": [
    "#% js\n",
    "js-d3-matrix-plot(@mat, width => 800, height => 400, :!grid-lines, color-palette => 'Inferno', :!mesh, :!tooltip, :0margins);"
   ]
  },
  {
   "cell_type": "markdown",
   "metadata": {},
   "source": [
    "### Eight solutions\n",
    "\n",
    "Find the only eight solutions of $\\pi(x) = \\varphi(x)$:"
   ]
  },
  {
   "cell_type": "code",
   "execution_count": 48,
   "metadata": {},
   "outputs": [
    {
     "data": {
      "text/plain": [
       "(2 3 4 8 10 14 20 90)"
      ]
     },
     "execution_count": 48,
     "metadata": {},
     "output_type": "execute_result"
    }
   ],
   "source": [
    "(1..100).grep({ prime-pi($_) == euler-phi($_) })"
   ]
  },
  {
   "cell_type": "markdown",
   "metadata": {},
   "source": [
    "Possible intersections:"
   ]
  },
  {
   "cell_type": "code",
   "execution_count": null,
   "metadata": {},
   "outputs": [],
   "source": [
    "#% js\n",
    "my $n = 100;\n",
    "js-d3-list-line-plot(\n",
    "    [\n",
    "        |(2..$n).map({ [$_, prime-pi($_), 'π'] }), \n",
    "        |(2..$n).map({ [$_, euler-phi($_), 'ϕ'] })\n",
    "    ].flat(1), \n",
    "    background => 'none', \n",
    "    title => \"Prime π(x) vs Euler's ϕ(x)\", \n",
    "    title-color => 'DimGray')"
   ]
  },
  {
   "cell_type": "markdown",
   "metadata": {},
   "source": [
    "---- \n",
    "\n",
    "## Bubble chart (again)"
   ]
  },
  {
   "cell_type": "markdown",
   "metadata": {},
   "source": [
    "Sunflower embedding using bubble chart:"
   ]
  },
  {
   "cell_type": "code",
   "execution_count": null,
   "metadata": {},
   "outputs": [],
   "source": [
    "#% js\n",
    "my @sunflower = sunflower-embedding(2_000, with => { divisor-sigma(2, $_).log(2).round.Str }):d;\n",
    "\n",
    "js-d3-bubble-chart(@sunflower.map({ my %h = $_.clone; %h<z> = (23 - %h<group>).log; %h }),\n",
    "    z-range-min => 1, z-range-max => 8,\n",
    "    background => 'none',\n",
    "    width => 900, height => 410, \n",
    "    :!axes, \n",
    "    :!legends,\n",
    "    :!tooltip,\n",
    "    color-scheme => 'Pastel1',\n",
    "    fill-color => 'DarkGray',\n",
    "    margins => { :10top, :5bottom, :250left, :250right},\n",
    " )"
   ]
  }
 ],
 "metadata": {
  "kernelspec": {
   "display_name": "RakuChatbook",
   "language": "raku",
   "name": "raku"
  },
  "language_info": {
   "file_extension": ".raku",
   "mimetype": "text/x-raku",
   "name": "raku",
   "version": "6.d"
  }
 },
 "nbformat": 4,
 "nbformat_minor": 2
}
