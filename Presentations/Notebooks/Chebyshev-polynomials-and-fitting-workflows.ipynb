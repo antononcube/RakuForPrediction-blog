{
 "cells": [
  {
   "cell_type": "markdown",
   "metadata": {},
   "source": [
    "# Chebyshev polynomials and fitting workflows\n",
    "\n",
    "Anton Antonov  \n",
    "June 2024   \n",
    "December 2024"
   ]
  },
  {
   "cell_type": "markdown",
   "metadata": {},
   "source": [
    "-----\n",
    "\n",
    "## Introduction"
   ]
  },
  {
   "cell_type": "markdown",
   "metadata": {},
   "source": [
    "Let us list the full set of features and corresponding packages:\n",
    "\n",
    "- [\"JavaScript::Google::Charts\"](https://raku.land/zef:antononcube/JavaScript::Google::Charts)\n",
    "    - Scatter plots\n",
    "    - Time series data visualization\n",
    "- [\"Math::Polynomial::Chebyshev\"](https://raku.land/zef:antononcube/Math::Polynomial::Chebyshev)\n",
    "    - Polynomial basis\n",
    "    - Both recursive and trigonometric methods of computation\n",
    "    - The recursive method provides exact (bignum) integers for the numerators and denominators\n",
    "- [\"Math::Fitting\"](https://raku.land/zef:antononcube/Math::Fitting)\n",
    "    - Linear regression (i.e. fitting) with function bases\n",
    "    - Gives functors as results\n",
    "    - Multiple properties of the functors can be retrieved\n",
    "\n",
    "- [\"Data::TypeSystem\"](https://raku.land/zef:antononcube/Data::TypeSystem)\n",
    "    - Summary of data types\n",
    "\n",
    "- [\"Data::Summarizers\"](https://raku.land/zef:antononcube/Data::Summarizers)\n",
    "    - Summary of data values"
   ]
  },
  {
   "cell_type": "markdown",
   "metadata": {},
   "source": [
    "### TL;DR\n",
    "\n",
    "- Chebyshev polynomials can be exactly computed\n",
    "- The \"Math::Fitting\" package produces functors\n",
    "- The fitting is done with a function basis\n",
    "- Matrix formulas are used to compute the fit (linear regression)\n",
    "- Real life example is shown with weather temperature data \n",
    "    - You can just see the section before the last."
   ]
  },
  {
   "cell_type": "markdown",
   "metadata": {},
   "source": [
    "-----\n",
    "\n",
    "## Setup"
   ]
  },
  {
   "cell_type": "code",
   "execution_count": 14,
   "metadata": {},
   "outputs": [],
   "source": [
    "use Math::Matrix;\n",
    "use Math::Polynomial::Chebyshev;\n",
    "use Math::Fitting;\n",
    "\n",
    "use Data::Reshapers;\n",
    "use Data::Summarizers;\n",
    "use Data::Generators;\n",
    "use Data::Importers;\n",
    "\n",
    "use JavaScript::D3;\n",
    "use JavaScript::Google::Charts;\n",
    "\n",
    "use Hash::Merge;\n",
    "use LLM::Configurations;"
   ]
  },
  {
   "cell_type": "markdown",
   "metadata": {},
   "source": [
    "### Google Charts"
   ]
  },
  {
   "cell_type": "code",
   "execution_count": null,
   "metadata": {},
   "outputs": [],
   "source": [
    "#% javascript\n",
    "google.charts.load('current', {'packages':['corechart']});\n",
    "google.charts.load('current', {'packages':['gauge']});\n",
    "google.charts.load('current', {'packages':['wordtree']});\n",
    "google.charts.load('current', {'packages':['geochart']});\n",
    "google.charts.load('current', {'packages':['table']});\n",
    "google.charts.load('current', {'packages':['line']});\n",
    "google.charts.setOnLoadCallback(function() {\n",
    "    console.log('Google Charts library loaded');\n",
    "});\n"
   ]
  },
  {
   "cell_type": "markdown",
   "metadata": {},
   "source": [
    "#### Dark mode"
   ]
  },
  {
   "cell_type": "code",
   "execution_count": null,
   "metadata": {},
   "outputs": [],
   "source": [
    "my $format = 'html';\n",
    "my $titleTextStyle = { color => 'Ivory', fontSize => 16 };\n",
    "my $backgroundColor = '#1F1F1F';\n",
    "my $legendTextStyle = { color => 'Silver' };\n",
    "my $legend = { position => \"none\", textStyle => {fontSize => 14, color => 'Silver'} };\n",
    "\n",
    "my $hAxis = { title => 'x', titleTextStyle => { color => 'Silver' }, textStyle => { color => 'Gray'}, logScale => False, format => 'decimal'};\n",
    "my $vAxis = { title => 'y', titleTextStyle => { color => 'Silver' }, textStyle => { color => 'Gray'}, logScale => False, format => 'decimal'};\n",
    "\n",
    "my $annotations = {textStyle => {color => 'Silver', fontSize => 10}};\n",
    "my $chartArea = {left => 50, right => 50, top => 50, bottom => 50, width => '90%', height => '90%'};"
   ]
  },
  {
   "cell_type": "markdown",
   "metadata": {},
   "source": [
    "#### Light mode"
   ]
  },
  {
   "cell_type": "code",
   "execution_count": null,
   "metadata": {},
   "outputs": [],
   "source": [
    "my $format = 'html';\n",
    "my $titleTextStyle = { color => 'DimGray', fontSize => 16 };\n",
    "my $backgroundColor = 'White';\n",
    "my $legendTextStyle = { color => 'DarkGray' };\n",
    "my $legend = { position => \"none\", textStyle => {fontSize => 14, color => 'DarkGray'} };\n",
    "\n",
    "my $hAxis = { title => 'x', titleTextStyle => { color => 'DimGray' }, textStyle => { color => 'DarkGray'}, logScale => False, format => 'decimal'};\n",
    "my $vAxis = { title => 'y', titleTextStyle => { color => 'DimGray' }, textStyle => { color => 'DarkGray'}, logScale => False, format => 'decimal'};\n",
    "\n",
    "my $annotations = {textStyle => {color => 'DarkGray', fontSize => 10}};\n",
    "my $chartArea = {left => 50, right => 50, top => 50, bottom => 50, width => '90%', height => '90%'};"
   ]
  },
  {
   "cell_type": "markdown",
   "metadata": {},
   "source": [
    "-------\n",
    "\n",
    "## Computation granularity"
   ]
  },
  {
   "cell_type": "code",
   "execution_count": null,
   "metadata": {},
   "outputs": [],
   "source": [
    "chebyshev-t(3, 0.3)"
   ]
  },
  {
   "cell_type": "code",
   "execution_count": null,
   "metadata": {},
   "outputs": [],
   "source": [
    "my $k = 12;\n",
    "\n",
    "# Whatever goes to 'recursive'\n",
    "my $method = 'recursive'; # 'trig'\n",
    "\n",
    "my @x = (-1.0, -0.99 ... 1.0);\n",
    "say '@x.elems : ', @x.elems;\n",
    "\n",
    "my @data  = @x.map({ [$_, chebyshev-t($k, $_, :$method)]});\n",
    "my @data1 = chebyshev-t($k, @x);\n",
    "\n",
    "say deduce-type(@data);\n",
    "say deduce-type(@data1);"
   ]
  },
  {
   "cell_type": "code",
   "execution_count": null,
   "metadata": {},
   "outputs": [],
   "source": [
    "sink records-summary(@data.map(*.tail) <<->> @data1)"
   ]
  },
  {
   "cell_type": "markdown",
   "metadata": {},
   "source": [
    "-----\n",
    "\n",
    "## Precision"
   ]
  },
  {
   "cell_type": "markdown",
   "metadata": {},
   "source": [
    "We can compute the exact Chebyshev polynomial values at given points using `FatRat` numbers:"
   ]
  },
  {
   "cell_type": "code",
   "execution_count": null,
   "metadata": {},
   "outputs": [],
   "source": [
    "my $v = chebyshev-t(100, <1/4>.FatRat, method => 'recursive')"
   ]
  },
  {
   "cell_type": "markdown",
   "metadata": {},
   "source": [
    "Here are the numerator and denominator:"
   ]
  },
  {
   "cell_type": "code",
   "execution_count": null,
   "metadata": {},
   "outputs": [],
   "source": [
    "say $v.numerator;\n",
    "say $v.denominator;"
   ]
  },
  {
   "cell_type": "markdown",
   "metadata": {},
   "source": [
    "-----\n",
    "\n",
    "## Plots"
   ]
  },
  {
   "cell_type": "markdown",
   "metadata": {},
   "source": [
    "This section shows how the plot the Chebyshev polynomials using [Google Charts](https://developers.google.com/chart) via [\"JavaScript::Google::Charts\"](https://raku.land/zef:antononcube/JavaScript::Google::Charts)."
   ]
  },
  {
   "cell_type": "markdown",
   "metadata": {},
   "source": [
    "### Single polynomial"
   ]
  },
  {
   "cell_type": "markdown",
   "metadata": {},
   "source": [
    "Single polynomial plot using a [Line chart](https://developers.google.com/chart/interactive/docs/gallery/linechart):"
   ]
  },
  {
   "cell_type": "code",
   "execution_count": null,
   "metadata": {},
   "outputs": [],
   "source": [
    "#%html\n",
    "my $n = 6;\n",
    "my @data = chebyshev-t(6, (-1, -0.98 ... 1).List);\n",
    "js-google-charts('LineChart', @data, \n",
    "    title => \"Chebyshev-T($n) polynomial\", \n",
    "    :$titleTextStyle, :$backgroundColor, :$chartArea, :$hAxis, :$vAxis,\n",
    "    width => 800, \n",
    "    div-id => 'poly1', :$format,\n",
    "    :png-button)"
   ]
  },
  {
   "cell_type": "markdown",
   "metadata": {},
   "source": [
    "### Basis"
   ]
  },
  {
   "cell_type": "markdown",
   "metadata": {},
   "source": [
    "Doing fitting we are interested in using bases of functions. Here for first eight Chebyshev-T polynomials make plot data:"
   ]
  },
  {
   "cell_type": "code",
   "execution_count": null,
   "metadata": {},
   "outputs": [],
   "source": [
    "my $n = 8;\n",
    "my @data = (-1, -0.98 ... 1).map(-> $x { [x => $x, |(0..$n).map({ $_.Str => chebyshev-t($_, $x, :$method) }) ].Hash });\n",
    "\n",
    "deduce-type(@data):tally;"
   ]
  },
  {
   "cell_type": "markdown",
   "metadata": {},
   "source": [
    "Here is the plot with all eight functions:"
   ]
  },
  {
   "cell_type": "code",
   "execution_count": null,
   "metadata": {},
   "outputs": [],
   "source": [
    "#%html\n",
    "js-google-charts('LineChart', @data,\n",
    "    column-names => ['x', |(0..$n)».Str],\n",
    "    title => \"Chebyshev T polynomials, 0 .. $n\",\n",
    "    :$titleTextStyle,\n",
    "    width => 800, \n",
    "    height => 400,\n",
    "    :$backgroundColor, :$hAxis, :$vAxis,\n",
    "    legend => merge-hash($legend, %(position => 'right')),\n",
    "    chartArea => merge-hash($chartArea, %(right => 100)),\n",
    "    format => 'html', \n",
    "    div-id => \"cheb$n\",\n",
    "    :$format,\n",
    "    :png-button)"
   ]
  },
  {
   "cell_type": "markdown",
   "metadata": {},
   "source": [
    "-----\n",
    "\n",
    "## Text plot"
   ]
  },
  {
   "cell_type": "markdown",
   "metadata": {},
   "source": [
    "*Text plots always work!*"
   ]
  },
  {
   "cell_type": "markdown",
   "metadata": {},
   "source": [
    "In order to plot with [\"Text::Plot\"](https://raku.land/zef:antononcube/Text::Plot) \n",
    "the data has to be converted into [long form](https://en.wikipedia.org/wiki/Wide_and_narrow_data) first:"
   ]
  },
  {
   "cell_type": "code",
   "execution_count": null,
   "metadata": {},
   "outputs": [],
   "source": [
    "my @dataLong = to-long-format(@data, <x>).sort(*<Variable x>);\n",
    "deduce-type(@dataLong):tally"
   ]
  },
  {
   "cell_type": "markdown",
   "metadata": {},
   "source": [
    "Here is a sample:"
   ]
  },
  {
   "cell_type": "code",
   "execution_count": null,
   "metadata": {},
   "outputs": [],
   "source": [
    "#% html\n",
    "@dataLong.pick(10)\n",
    "==> {.sort(*<Variable x>)}()\n",
    "==> to-html(field-names => <Variable x Value>)"
   ]
  },
  {
   "cell_type": "markdown",
   "metadata": {},
   "source": [
    "Here is the text plot:"
   ]
  },
  {
   "cell_type": "code",
   "execution_count": null,
   "metadata": {},
   "outputs": [],
   "source": [
    "my @chebInds = 1, 2, 3, 4;\n",
    "my @dataLong3 = @dataLong.grep({ $_<Variable>.Int ∈ @chebInds }).classify(*<Variable>).map({ $_.key => $_.value.map(*<x Value>).Array }).sort(*.key)».value;\n",
    "say @chebInds Z=> <* □ ▽ ❍>; \n",
    "text-list-plot(@dataLong3, width => 100, height => 25, title => \"Chebyshev T polynomials, 0 .. $n\")"
   ]
  },
  {
   "cell_type": "markdown",
   "metadata": {},
   "source": [
    "-----\n",
    "\n",
    "## Fitting"
   ]
  },
  {
   "cell_type": "markdown",
   "metadata": {},
   "source": [
    "Here we generate \"measurements data\" with noise:"
   ]
  },
  {
   "cell_type": "code",
   "execution_count": null,
   "metadata": {},
   "outputs": [],
   "source": [
    "my @temptimelist = 0.1, 0.2 ... 20;\n",
    "my @tempvaluelist = @temptimelist.map({ sin($_) / $_ }) Z+ (1..200).map({ (3.rand - 1.5) * 0.02 });\n",
    "my @data1 = @temptimelist Z @tempvaluelist;\n",
    "@data1 = @data1.deepmap({ .Num });\n",
    "\n",
    "deduce-type(@data1)"
   ]
  },
  {
   "cell_type": "markdown",
   "metadata": {},
   "source": [
    "Rescaling of the x-coordinates:"
   ]
  },
  {
   "cell_type": "code",
   "execution_count": null,
   "metadata": {},
   "outputs": [],
   "source": [
    "my @data2 = @data1.map({ my @a = $_.clone; @a[0] = @a[0] / max(@temptimelist); @a });\n",
    "\n",
    "deduce-type(@data2)"
   ]
  },
  {
   "cell_type": "markdown",
   "metadata": {},
   "source": [
    "Here is a summary:"
   ]
  },
  {
   "cell_type": "code",
   "execution_count": null,
   "metadata": {},
   "outputs": [],
   "source": [
    "sink records-summary(@data2)"
   ]
  },
  {
   "cell_type": "markdown",
   "metadata": {},
   "source": [
    "Here is a plot of that data:"
   ]
  },
  {
   "cell_type": "code",
   "execution_count": null,
   "metadata": {},
   "outputs": [],
   "source": [
    "#% html\n",
    "js-google-charts(\"Scatter\", @data2, \n",
    "    title => 'Measurements data with noise',\n",
    "    :$backgroundColor, :$hAxis, :$vAxis,\n",
    "    :$titleTextStyle, :$chartArea,\n",
    "    width => 800, \n",
    "    div-id => 'data', :$format,\n",
    "    :png-button)"
   ]
  },
  {
   "cell_type": "markdown",
   "metadata": {},
   "source": [
    "Make a function that rescales from $[0, 1]$ to $[-1, 1]$:"
   ]
  },
  {
   "cell_type": "code",
   "execution_count": null,
   "metadata": {},
   "outputs": [],
   "source": [
    "my &rescale = { ($_ - 0.5) * 2 };"
   ]
  },
  {
   "cell_type": "markdown",
   "metadata": {},
   "source": [
    "Here is a list of basis functions:"
   ]
  },
  {
   "cell_type": "code",
   "execution_count": null,
   "metadata": {},
   "outputs": [],
   "source": [
    "my @basis = (^16).map({ chebyshev-t($_) o &rescale });\n",
    "@basis.elems"
   ]
  },
  {
   "cell_type": "markdown",
   "metadata": {},
   "source": [
    "**Remark:** Function composition operator `o` is used above. Before computing the Chebyshev polynomial value the argument is rescaled."
   ]
  },
  {
   "cell_type": "markdown",
   "metadata": {},
   "source": [
    "Here we compute a linear model fit with those functions:"
   ]
  },
  {
   "cell_type": "code",
   "execution_count": null,
   "metadata": {},
   "outputs": [],
   "source": [
    "my &lm = linear-model-fit(@data2, :@basis)"
   ]
  },
  {
   "cell_type": "markdown",
   "metadata": {},
   "source": [
    "Here are the best fit parameters:"
   ]
  },
  {
   "cell_type": "code",
   "execution_count": null,
   "metadata": {},
   "outputs": [],
   "source": [
    "&lm('BestFitParameters')"
   ]
  },
  {
   "cell_type": "markdown",
   "metadata": {},
   "source": [
    "Here is a plot of those parameters:"
   ]
  },
  {
   "cell_type": "code",
   "execution_count": null,
   "metadata": {},
   "outputs": [],
   "source": [
    "#% html\n",
    "js-google-charts(\"Bar\", &lm('BestFitParameters'), \n",
    "    :!horizontal,\n",
    "    title => 'Best fit parameters',\n",
    "    :$backgroundColor, \n",
    "    hAxis => merge-hash($hAxis, {title => 'Basis function index'}), \n",
    "    vAxis => merge-hash($hAxis, {title => 'Coefficient'}), \n",
    "    :$titleTextStyle, :$chartArea,\n",
    "    width => 800, \n",
    "    div-id => 'bestFitParams', :$format,\n",
    "    :png-button)"
   ]
  },
  {
   "cell_type": "markdown",
   "metadata": {},
   "source": [
    "We can see from the plot that using more the 12 basis functions for that data is not improving the fit, since the coefficients after the 12th index are very small."
   ]
  },
  {
   "cell_type": "markdown",
   "metadata": {},
   "source": [
    "Now, let us plot the data and the fit. First we prepare the plot data:"
   ]
  },
  {
   "cell_type": "code",
   "execution_count": null,
   "metadata": {},
   "outputs": [],
   "source": [
    "my @fit = @data2.map(*.head)».&lm;\n",
    "my @plotData = transpose([@data2.map(*.head).Array, @data2.map(*.tail).Array, @fit]);\n",
    "@plotData = @plotData.map({ <x data fit>.Array Z=> $_.Array })».Hash;\n",
    "\n",
    "deduce-type(@plotData)"
   ]
  },
  {
   "cell_type": "markdown",
   "metadata": {},
   "source": [
    "Here is the plot:"
   ]
  },
  {
   "cell_type": "code",
   "execution_count": null,
   "metadata": {},
   "outputs": [],
   "source": [
    "#% html\n",
    "js-google-charts('ComboChart', \n",
    "    @plotData, \n",
    "    title => 'Data and fit',\n",
    "    column-names => <x data fit>,\n",
    "    :$backgroundColor, :$titleTextStyle :$hAxis, :$vAxis,\n",
    "    seriesType => 'scatter',\n",
    "    series => {\n",
    "        0 => {type => 'scatter', pointSize => 2, opacity => 0.1, color => 'Gray'},\n",
    "        1 => {type => 'line'}\n",
    "    },\n",
    "    legend => merge-hash($legend, %(position => 'bottom')),\n",
    "    :$chartArea,\n",
    "    width => 800, \n",
    "    div-id => 'fit1', :$format,\n",
    "    :png-button)"
   ]
  },
  {
   "cell_type": "markdown",
   "metadata": {},
   "source": [
    "Compute the residuals of the last fit:"
   ]
  },
  {
   "cell_type": "code",
   "execution_count": null,
   "metadata": {},
   "outputs": [],
   "source": [
    "sink records-summary( (@fit <<->> @data2.map(*.tail))».abs )"
   ]
  },
  {
   "cell_type": "markdown",
   "metadata": {},
   "source": [
    "----\n",
    "\n",
    "## Condition number"
   ]
  },
  {
   "cell_type": "markdown",
   "metadata": {},
   "source": [
    "The formula with which the [Ordinary Least Squares (OLS)](https://en.wikipedia.org/wiki/Ordinary_least_squares) fit is computed is:\n",
    "\n",
    "$$\n",
    "\\beta = (X^T \\cdot X)^{-1} \\cdot X^T \\cdot y\n",
    "$$"
   ]
  },
  {
   "cell_type": "markdown",
   "metadata": {},
   "source": [
    "Let us look into the condition number of the \"normal matrix\" (or \"Gram matrix\") $X^T \\cdot X$ . First, we get the design matrix:"
   ]
  },
  {
   "cell_type": "code",
   "execution_count": null,
   "metadata": {},
   "outputs": [],
   "source": [
    "my @a = &lm.design-matrix();\n",
    "my $X = Math::Matrix.new(@a);\n",
    "$X.size"
   ]
  },
  {
   "cell_type": "markdown",
   "metadata": {},
   "source": [
    "Here is the Gram matrix:"
   ]
  },
  {
   "cell_type": "code",
   "execution_count": null,
   "metadata": {},
   "outputs": [],
   "source": [
    "my $g = $X.transposed dot $X;\n",
    "$g.size"
   ]
  },
  {
   "cell_type": "markdown",
   "metadata": {},
   "source": [
    "And here is the [condition number](https://en.wikipedia.org/wiki/Condition_number) of that matrix:"
   ]
  },
  {
   "cell_type": "code",
   "execution_count": null,
   "metadata": {},
   "outputs": [],
   "source": [
    "$g.condition"
   ]
  },
  {
   "cell_type": "markdown",
   "metadata": {},
   "source": [
    "We conclude that we are fine to use that design matrix."
   ]
  },
  {
   "cell_type": "markdown",
   "metadata": {},
   "source": [
    "**Remark:** For a system of linear equations in matrix form $A x = b$, the condition number of $A$, $\\kappa (A)$, is defined to be the maximum ratio of the relative error in $x$ to the relative error in $b$.\n",
    "\n",
    "**Remark:** Typically, if the condition number is $\\kappa (A)=10^{d}$, we can expect to lose as many as $d$ digits of accuracy \n",
    "in addition to any loss caused by the numerical method (due to precision issues in arithmetic calculations.)\n",
    "\n",
    "**Remark:** A very \"Raku-way\" to define ill-conditioned matrix as \"almost is not of full rank,\" or \"if its inverse does not exist.\"\n",
    " "
   ]
  },
  {
   "cell_type": "markdown",
   "metadata": {},
   "source": [
    "-----\n",
    "\n",
    "## Temperature data"
   ]
  },
  {
   "cell_type": "markdown",
   "metadata": {},
   "source": [
    "Let us redo the whole workflow with a real life data -- weather temperature data for 4 consecutive years of Greenville, South Carolina, USA. \n",
    "(Where the [Perl and Raku Conference 2025](https://www.perl.com/article/get-ready-for-the-2025-perl-and-raku-conference/) is going to be held.)"
   ]
  },
  {
   "cell_type": "markdown",
   "metadata": {},
   "source": [
    "Here we ingest the time series data:"
   ]
  },
  {
   "cell_type": "code",
   "execution_count": null,
   "metadata": {},
   "outputs": [],
   "source": [
    "my $url = 'https://raw.githubusercontent.com/antononcube/RakuForPrediction-blog/refs/heads/main/Data/dsTemperature-Greenville-SC-USA.csv';\n",
    "my @dsTemperature = data-import($url, headers => 'auto');\n",
    "@dsTemperature = @dsTemperature.deepmap({ $_ ~~ / ^ \\d+ '-' / ?? DateTime.new($_) !! $_.Num });\n",
    "deduce-type(@dsTemperature)"
   ]
  },
  {
   "cell_type": "markdown",
   "metadata": {},
   "source": [
    "Show data summary:"
   ]
  },
  {
   "cell_type": "code",
   "execution_count": null,
   "metadata": {},
   "outputs": [],
   "source": [
    "sink records-summary(@dsTemperature, field-names => <Date AbsoluteTime Temperature>)"
   ]
  },
  {
   "cell_type": "markdown",
   "metadata": {},
   "source": [
    "Here is a plot:"
   ]
  },
  {
   "cell_type": "code",
   "execution_count": null,
   "metadata": {},
   "outputs": [],
   "source": [
    "#% html\n",
    "js-google-charts(\"Scatter\", @dsTemperature.map(*<Date Temperature>), \n",
    "    title => 'Temperature of Greenville, SC, USA',\n",
    "    :$backgroundColor,\n",
    "    hAxis => merge-hash($hAxis, {title => 'Time', format => 'M/yy'}), \n",
    "    vAxis => merge-hash($hAxis, {title => 'Temperature, ℃'}), \n",
    "    :$titleTextStyle, :$chartArea,\n",
    "    width => 1200, \n",
    "    height => 400, \n",
    "    div-id => 'tempData', :$format,\n",
    "    :png-button)"
   ]
  },
  {
   "cell_type": "markdown",
   "metadata": {},
   "source": [
    "Here is a fit -- note the rescaling:"
   ]
  },
  {
   "cell_type": "code",
   "execution_count": null,
   "metadata": {},
   "outputs": [],
   "source": [
    "my ($min, $max) = @dsTemperature.map(*<AbsoluteTime>).Array.&{ (.min, .max) }();"
   ]
  },
  {
   "cell_type": "code",
   "execution_count": null,
   "metadata": {},
   "outputs": [],
   "source": [
    "my &rescale-time = { -($max + $min) / ($max - $min) + (2 * $_) / ($max - $min)};\n",
    "my @basis = (^16).map({ chebyshev-t($_) o &rescale-time });\n",
    "@basis.elems"
   ]
  },
  {
   "cell_type": "code",
   "execution_count": null,
   "metadata": {},
   "outputs": [],
   "source": [
    "my &lm-temp = linear-model-fit(@dsTemperature.map(*<AbsoluteTime Temperature>), :@basis)"
   ]
  },
  {
   "cell_type": "markdown",
   "metadata": {},
   "source": [
    "Her is a plot of the time series and the fit:"
   ]
  },
  {
   "cell_type": "code",
   "execution_count": null,
   "metadata": {},
   "outputs": [],
   "source": [
    "my @fit = @dsTemperature.map(*<AbsoluteTime>)».&lm-temp;\n",
    "my @plotData = transpose([@dsTemperature.map({ $_<AbsoluteTime> }).Array, @dsTemperature.map(*<Temperature>).Array, @fit]);\n",
    "@plotData = @plotData.map({ <x data fit>.Array Z=> $_.Array })».Hash;\n",
    "\n",
    "deduce-type(@plotData)"
   ]
  },
  {
   "cell_type": "code",
   "execution_count": null,
   "metadata": {},
   "outputs": [],
   "source": [
    "#% html\n",
    "\n",
    "my @ticks = @dsTemperature.map({ %( v => $_<AbsoluteTime>, f => $_<Date>.Str.substr(^7)) })».Hash[0, 120 ... *];\n",
    "\n",
    "js-google-charts('ComboChart', \n",
    "    @plotData,\n",
    "    title => 'Temperature data and Least Squares fit',\n",
    "    column-names => <x data fit>,\n",
    "    :$backgroundColor, :$titleTextStyle,\n",
    "    hAxis => merge-hash($hAxis, {title => 'Time', :@ticks, textPosition => 'in'}), \n",
    "    vAxis => merge-hash($hAxis, {title => 'Temperature, ℃'}), \n",
    "    seriesType => 'scatter',\n",
    "    series => {\n",
    "        0 => {type => 'scatter', pointSize => 3, opacity => 0.1, color => 'Gray'},\n",
    "        1 => {type => 'line', lineWidth => 4}\n",
    "    },\n",
    "    legend => merge-hash($legend, %(position => 'bottom')),\n",
    "    :$chartArea,\n",
    "    width => 1200, \n",
    "    height => 400, \n",
    "    div-id => 'tempDataFit', :$format,\n",
    "    :png-button)"
   ]
  },
  {
   "cell_type": "markdown",
   "metadata": {},
   "source": [
    "-----\n",
    "\n",
    "## Future plans"
   ]
  },
  {
   "cell_type": "markdown",
   "metadata": {},
   "source": [
    "At this point it should be clear that Raku is fully equipped to do regression analysis for both didactical and \"real-life\" purposes.\n",
    "\n",
    "I plan to implement in Raku next year the necessary computational frameworks to do [Quantile Regression](https://en.wikipedia.org/wiki/Quantile_regression).\n",
    "\n",
    "The workflow code in this post can be generated using LLMs -- I plan to write about that soon."
   ]
  }
 ],
 "metadata": {
  "kernelspec": {
   "display_name": "RakuChatbook",
   "language": "raku",
   "name": "raku"
  },
  "language_info": {
   "file_extension": ".raku",
   "mimetype": "text/x-raku",
   "name": "raku",
   "version": "6.d"
  }
 },
 "nbformat": 4,
 "nbformat_minor": 2
}
