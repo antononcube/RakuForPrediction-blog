{
 "cells": [
  {
   "cell_type": "markdown",
   "metadata": {},
   "source": [
    "# Chess positions and knight's tours via graphs\n",
    "\n",
    "<span style=\"font-size: 16pt; font-style: italic; font-weight: bold\">...in Raku</span>\n",
    "\n",
    "Anton Antonov   \n",
    "[RakuForPrediction at WordPress](https://rakuforprediction.wordpress.com)   \n",
    "[RakuForPrediction-book at GitHub](https://github.com/antononcube/RakuForPrediction-book)      \n",
    "November-December 2024"
   ]
  },
  {
   "cell_type": "markdown",
   "metadata": {},
   "source": [
    "-----\n",
    "\n",
    "## Introduction"
   ]
  },
  {
   "cell_type": "markdown",
   "metadata": {},
   "source": [
    "In this notebook (presentation) we discuss:"
   ]
  },
  {
   "cell_type": "markdown",
   "metadata": {},
   "source": [
    "- Two ways of plotting chessboards\n",
    "- [Knight's tour](https://en.wikipedia.org/wiki/Knight%27s_tour) graphs\n",
    "- [Hamiltonian paths](https://en.wikipedia.org/wiki/Hamiltonian_path)\n",
    "- Animations of knight's tours"
   ]
  },
  {
   "cell_type": "markdown",
   "metadata": {},
   "source": [
    "Showcased:\n",
    "- All computational graph features discussed here are provided by [\"Graph\"](https://raku.land/zef:antononcube/Graph).  \n",
    "- The chessboard plots with:\n",
    "    - `dot-chessboard`, provided by [\"Graphviz::DOT::Chessboard\"](https://raku.land/zef:antononcube/Graphviz::DOT::Chessboard)\n",
    "    - `js-d3-chessboard`, provided by [\"JavaScript::D3\"](https://raku.land/zef:antononcube/JavaScript::D3).\n",
    "- Graph plotting with:\n",
    "    - `js-d3-graph-plot`, provided by [\"JavaScript::D3\"](https://raku.land/zef:antononcube/JavaScript::D3).\n",
    "    -  `Graph.dot`, that makes SVG images via [Graphviz](https://graphviz.org)."
   ]
  },
  {
   "cell_type": "markdown",
   "metadata": {},
   "source": [
    "------\n",
    "\n",
    "## Setup"
   ]
  },
  {
   "cell_type": "markdown",
   "metadata": {},
   "source": [
    "Here are loaded the packages used in the rest of notebook:"
   ]
  },
  {
   "cell_type": "code",
   "execution_count": null,
   "metadata": {},
   "outputs": [],
   "source": [
    "use Graph;\n",
    "\n",
    "use Graph::Circulant;\n",
    "use Graph::Complete;\n",
    "use Graph::CompleteKaryTree;\n",
    "use Graph::Cycle;\n",
    "use Graph::Grid;\n",
    "use Graph::HexagonalGrid;\n",
    "use Graph::Hypercube;\n",
    "use Graph::KnightTour;\n",
    "use Graph::Nested;\n",
    "use Graph::Path;\n",
    "use Graph::Petersen;\n",
    "use Graph::Star;\n",
    "use Graph::TriangularGrid;\n",
    "use Graph::Wheel;\n",
    "\n",
    "use Graph::Distribution;\n",
    "use Graph::Random;\n",
    "\n",
    "use Data::Reshapers;\n",
    "use Data::Summarizers;\n",
    "use Data::Generators;\n",
    "use Data::TypeSystem;\n",
    "use Data::Translators;\n",
    "use Data::Geographics;\n",
    "\n",
    "use Math::DistanceFunctions;\n",
    "use Math::Nearest;\n",
    "use Text::Levenshtein::Damerau;\n",
    "\n",
    "use Hash::Merge;\n",
    "use FunctionalParsers;\n",
    "use FunctionalParsers::EBNF;\n",
    "use EBNF::Grammar;\n",
    "use Graphviz::DOT::Grammar;\n",
    "use Graphviz::DOT::Chessboard;\n",
    "\n",
    "use JavaScript::D3;\n",
    "use WWW::MermaidInk;\n",
    "\n",
    "use paths;"
   ]
  },
  {
   "cell_type": "markdown",
   "metadata": {},
   "source": [
    "### JavaScript"
   ]
  },
  {
   "cell_type": "markdown",
   "metadata": {},
   "source": [
    "Here we prepare the notebook to visualize with JavaScript:"
   ]
  },
  {
   "cell_type": "code",
   "execution_count": null,
   "metadata": {},
   "outputs": [],
   "source": [
    "#% javascript\n",
    "require.config({\n",
    "     paths: {\n",
    "     d3: 'https://d3js.org/d3.v7.min'\n",
    "}});\n",
    "\n",
    "require(['d3'], function(d3) {\n",
    "     console.log(d3);\n",
    "});"
   ]
  },
  {
   "cell_type": "markdown",
   "metadata": {},
   "source": [
    "Verification:"
   ]
  },
  {
   "cell_type": "code",
   "execution_count": null,
   "metadata": {},
   "outputs": [],
   "source": [
    "#% js\n",
    "js-d3-list-line-plot(10.rand xx 40, background => 'none', stroke-width => 2)"
   ]
  },
  {
   "cell_type": "markdown",
   "metadata": {},
   "source": [
    "Here we set a collection of visualization variables:"
   ]
  },
  {
   "cell_type": "code",
   "execution_count": null,
   "metadata": {},
   "outputs": [],
   "source": [
    "my $title-color = 'Ivory';\n",
    "my $tick-labels-color = 'Ivory';\n",
    "my $stroke-color = 'SlateGray';\n",
    "my $tooltip-color = 'LightBlue';\n",
    "my $tooltip-background-color = 'none';\n",
    "my $background = '#1F1F1F';\n",
    "my $color-scheme = 'schemeTableau10';\n",
    "my $edge-thickness = 3;\n",
    "my $vertex-size = 6;\n",
    "my $engine = 'neato';\n",
    "my $mmd-theme = q:to/END/;\n",
    "%%{\n",
    "  init: {\n",
    "    'theme': 'forest',\n",
    "    'themeVariables': {\n",
    "      'lineColor': 'Ivory'\n",
    "    }\n",
    "  }\n",
    "}%%\n",
    "END\n",
    "my %force = collision => {iterations => 0, radius => 10},link => {distance => 180};\n",
    "my %force2 = charge => {strength => -30, iterations => 4}, collision => {radius => 50, iterations => 4}, link => {distance => 30};\n",
    "\n",
    "my %opts = :$background, :$title-color, :$edge-thickness, :$vertex-size;"
   ]
  },
  {
   "cell_type": "markdown",
   "metadata": {},
   "source": [
    "### LLM configurations"
   ]
  },
  {
   "cell_type": "code",
   "execution_count": null,
   "metadata": {},
   "outputs": [],
   "source": [
    "my $conf4o = llm-configuration('chatgpt', model=>'gpt-4o', max-tokens=>4096, temperature=>0.45);\n",
    "my $conf-gemini = llm-configuration('gemini', model=>'gemini-1.5-pro-latest', max-tokens=>4096, temperature=>0.45);\n",
    "\n",
    "($conf4o, $conf-gemini).map(*.Hash.elems)"
   ]
  },
  {
   "cell_type": "markdown",
   "metadata": {},
   "source": [
    "------\n",
    "\n",
    "## Chessboards"
   ]
  },
  {
   "cell_type": "markdown",
   "metadata": {},
   "source": [
    "### SVG plots via **Graphviz DOT**"
   ]
  },
  {
   "cell_type": "markdown",
   "metadata": {},
   "source": [
    "Using the package [\"Graphviz::DOT::Chessboard\"](), [AAp2]."
   ]
  },
  {
   "cell_type": "code",
   "execution_count": null,
   "metadata": {},
   "outputs": [],
   "source": [
    "#%html\n",
    "my %opts-brown = black-square-color => '#b68864', white-square-color => '#f1d9b5';\n",
    "my %opts-green = black-square-color => '#779556ff', white-square-color => '#ebecd0ff', white-piece-stroke-color => 'LightGray';\n",
    "my %opts = |%opts-brown, :4r, :6c, size => (6,6);\n",
    "my $dot = dot-chessboard(|%opts);\n",
    "dot-chessboard(|%opts):svg"
   ]
  },
  {
   "cell_type": "code",
   "execution_count": null,
   "metadata": {},
   "outputs": [],
   "source": [
    "#% html\n",
    "dot-chessboard(<a1N b3q>».comb, :4r, :6c, |%opts):svg;"
   ]
  },
  {
   "cell_type": "markdown",
   "metadata": {},
   "source": [
    "### JavaScript plots"
   ]
  },
  {
   "cell_type": "markdown",
   "metadata": {},
   "source": [
    "Here is another way to make a chessboard using [\"JavaScript::D3\"](https://raku.land/zef:antononcube/JavaScript::D3), [AAp3]:"
   ]
  },
  {
   "cell_type": "code",
   "execution_count": null,
   "metadata": {},
   "outputs": [],
   "source": [
    "#% js\n",
    "js-d3-chessboard('8/8/8/8/8/8/8/8', :$background, :$tick-labels-color, :$title-color, width => 500, color-palette => 'Greys')"
   ]
  },
  {
   "cell_type": "markdown",
   "metadata": {},
   "source": [
    "Here we specify position of the pieces:"
   ]
  },
  {
   "cell_type": "code",
   "execution_count": null,
   "metadata": {},
   "outputs": [],
   "source": [
    "#% js\n",
    "js-d3-chessboard(<a1N b3q>».comb».List, :$background, :$tick-labels-color, width => 500);"
   ]
  },
  {
   "cell_type": "markdown",
   "metadata": {},
   "source": [
    "**Remark:** The JavaScript (D3.js) plots are not used here because it is hard to do combined board-tour plots like the one shown below."
   ]
  },
  {
   "cell_type": "markdown",
   "metadata": {},
   "source": [
    "### FEN strings"
   ]
  },
  {
   "cell_type": "markdown",
   "metadata": {},
   "source": [
    "Both packages -- \"Graphviz::DOT::Chessboard\" and \"JavaScript::D3\" -- can process Forsyth-Edwards Notation (FEN) strings of chess positions:"
   ]
  },
  {
   "cell_type": "code",
   "execution_count": null,
   "metadata": {},
   "outputs": [],
   "source": [
    "#%html\n",
    "my $fen = '8/8/8/3K4/5r2/8/1k6/8';\n",
    "\n",
    "dot-chessboard($fen, :8r, :8c, :4size):svg"
   ]
  },
  {
   "cell_type": "code",
   "execution_count": null,
   "metadata": {},
   "outputs": [],
   "source": [
    "#% js\n",
    "js-d3-chessboard($fen, :$background, :$tick-labels-color,  width => 500)"
   ]
  },
  {
   "cell_type": "markdown",
   "metadata": {},
   "source": [
    "### Small-chess initial position"
   ]
  },
  {
   "cell_type": "markdown",
   "metadata": {},
   "source": [
    "Here is the initial position of the a \"quick\", 5x5 chess:"
   ]
  },
  {
   "cell_type": "code",
   "execution_count": null,
   "metadata": {},
   "outputs": [],
   "source": [
    "#%html\n",
    "my $fen = '8/8/8/rnbqk3/ppppp3/8/PPPPP3/RNBQK3';\n",
    "\n",
    "dot-chessboard($fen, :5r, :5c, :4size, |%opts-green):svg"
   ]
  },
  {
   "cell_type": "markdown",
   "metadata": {},
   "source": [
    "-----\n",
    "\n",
    "## Chessboard plotting steps"
   ]
  },
  {
   "cell_type": "markdown",
   "metadata": {},
   "source": [
    "This section gives step-by-step explanations how to make chessboard plots using grid graphs and Graphviz."
   ]
  },
  {
   "cell_type": "markdown",
   "metadata": {},
   "source": [
    "Make a chessboard SVG plot using a grid graph:"
   ]
  },
  {
   "cell_type": "code",
   "execution_count": null,
   "metadata": {},
   "outputs": [],
   "source": [
    "#%html\n",
    "my $gg = Graph::Grid.new(4, 6);\n",
    "\n",
    "# Leveraging that grid graphs are bipartite\n",
    "my %highlight = <DimGray LightGray> Z=> $gg.bipartite-coloring.classify(*.value).nodemap(*».key).values;\n",
    "\n",
    "\n",
    "# DOT language spec\n",
    "my $preamble = q:to/END/;\n",
    "fontcolor = \"Ivory\";\n",
    "fontsize = \"16\";\n",
    "labelloc = \"t\";\n",
    "label = \"Chessboard by DOT\";\n",
    "graph [size=\"6,12!\"];\n",
    "\n",
    "bgcolor=\"#1F1F1F\";\n",
    "node [style=filled, label=\"\", opacity=0.3, fixedsize=true, shape=square, color=\"Black\", fillcolor=\"SlateBlue\", penwidth=1, fontsize=4, fontcolor=\"White\", labelloc=c, width=0.98, height=0.3];\n",
    "edge [style=invis, color=\"SteelBlue\", penwidth=0.6];\n",
    "END\n",
    "\n",
    "# To be reused for overlaying tour paths\n",
    "my $dot = $gg.dot(:$preamble, :%highlight, :!node-labels).lines[1..*-2].join(\"\\n\");\n",
    "\n",
    "# Rendering of the DOT spec\n",
    "$gg.dot(:$preamble, :%highlight, :!node-labels, engine=>'neato'):svg;"
   ]
  },
  {
   "cell_type": "markdown",
   "metadata": {},
   "source": [
    "--------\n",
    "\n",
    "## Knight's tour over a chessboard"
   ]
  },
  {
   "cell_type": "markdown",
   "metadata": {},
   "source": [
    "Make a Knight's tour graph:"
   ]
  },
  {
   "cell_type": "code",
   "execution_count": null,
   "metadata": {},
   "outputs": [],
   "source": [
    "my $gkt = Graph::KnightTour.new(4, 6, prefix => 'kt');"
   ]
  },
  {
   "cell_type": "markdown",
   "metadata": {},
   "source": [
    "Show the corresponding Graphviz DOT plot:"
   ]
  },
  {
   "cell_type": "code",
   "execution_count": null,
   "metadata": {},
   "outputs": [],
   "source": [
    "#% html\n",
    "$gkt.dot(engine => 'neato', :$background, vertex-shape => 'ellipse', vertex-width => 0.6):svg"
   ]
  },
  {
   "cell_type": "markdown",
   "metadata": {},
   "source": [
    "-----\n",
    "\n",
    "## Hamiltonian path finding"
   ]
  },
  {
   "cell_type": "markdown",
   "metadata": {},
   "source": [
    "- Finding a Hamiltonian path is NP-complete problem. \n",
    "- Hence, using algorithms that is fast, but do not always \"work\" can be desirable."
   ]
  },
  {
   "cell_type": "markdown",
   "metadata": {},
   "source": [
    "Two algorithms to consider:"
   ]
  },
  {
   "cell_type": "markdown",
   "metadata": {},
   "source": [
    "- The backtracking algorithm with [Warnsdorf's rule](https://en.wikipedia.org/wiki/Knight%27s_tour#Warnsdorf's_rule)\n",
    "- Random (Angluin-Valiant) algorithm"
   ]
  },
  {
   "cell_type": "markdown",
   "metadata": {},
   "source": [
    "Using (deterministic) backtracking algorithm to find a Hamiltonian path:"
   ]
  },
  {
   "cell_type": "code",
   "execution_count": null,
   "metadata": {},
   "outputs": [],
   "source": [
    "my $end = 'kt0_3'; #'kt0_3';# Whatever;\n",
    "my @hpath = $gkt.find-hamiltonian-path('kt0_0', $end, method => 'backtracking', :warnsdorf-rule);"
   ]
  },
  {
   "cell_type": "markdown",
   "metadata": {},
   "source": [
    "Using (random) Angluin-Valiant algorithm:"
   ]
  },
  {
   "cell_type": "code",
   "execution_count": null,
   "metadata": {},
   "outputs": [],
   "source": [
    "my @hpath = $gkt.find-hamiltonian-path('kt0_0', $end, method => 'random', pick => 'max-degree');"
   ]
  },
  {
   "cell_type": "markdown",
   "metadata": {},
   "source": [
    "Show the found Hamiltonian Knight path on a chessboard:"
   ]
  },
  {
   "cell_type": "code",
   "execution_count": null,
   "metadata": {},
   "outputs": [],
   "source": [
    "#% html\n",
    "\n",
    "# Reusing the \"chessboard graph\" DOT spec above.\n",
    "my $preamble = [\n",
    "    $dot.subst('--', '->', :g).subst('label=\"\",').subst('Chessboard by DOT', \"Knight's Hamiltonian path\"),\n",
    "    'node [shape=ellipse, fillcolor=Yellow, width=0.2, height=0.2, fixedsize=true, style=filled, color=Orange, fontsize=10, fontcolor=Black];',\n",
    "    'edge [style=filled, width=103, color=Orange];',\n",
    "].join(\"\\n\");\n",
    "\n",
    "# Make a path graph from the found Hamiltonian path.\n",
    "my $gp = Graph::Path.new(@hpath):directed;\n",
    "\n",
    "# Set the graph vertex coordinates.\n",
    "$gp.vertex-coordinates = $gkt.vertex-coordinates;\n",
    "\n",
    "# Replace (rename) the path graph vertices to ordinals. \n",
    "# (In order to show the sequential order of the path.)\n",
    "$gp .= vertex-replace((@hpath Z=> (^@hpath.elems)».Str).Hash); \n",
    "\n",
    "my $kdot = $gp.dot(:$preamble, engine=>'neato'):svg;"
   ]
  },
  {
   "cell_type": "markdown",
   "metadata": {},
   "source": [
    "Why not use the following?"
   ]
  },
  {
   "cell_type": "code",
   "execution_count": null,
   "metadata": {},
   "outputs": [],
   "source": [
    "@hpath.kv.Hash.invert.raku"
   ]
  },
  {
   "cell_type": "markdown",
   "metadata": {},
   "source": [
    "-----\n",
    "\n",
    "## Animation"
   ]
  },
  {
   "cell_type": "markdown",
   "metadata": {},
   "source": [
    "It would be nice to produces an animation of the knight's tour. "
   ]
  },
  {
   "cell_type": "markdown",
   "metadata": {},
   "source": [
    "***It is an instructive exercise to figure out how to make such an animation using SVG, LLMs (in Raku.)***"
   ]
  },
  {
   "cell_type": "markdown",
   "metadata": {},
   "source": [
    "### Get path points"
   ]
  },
  {
   "cell_type": "markdown",
   "metadata": {},
   "source": [
    "Extract the knight jump points from SVG plot:"
   ]
  },
  {
   "cell_type": "code",
   "execution_count": null,
   "metadata": {},
   "outputs": [],
   "source": [
    "my @points = do with $kdot.match(/ '<title>' (\\d+) '</title>' \\s* '<ellipse fill=\"Yellow\" stroke=\"Orange\" cx=\"' (.*?) '\" cy=\"' (.*?) '\"'/, :g) {\n",
    "    $/.map({ $_.values».Str })\n",
    "}"
   ]
  },
  {
   "cell_type": "markdown",
   "metadata": {},
   "source": [
    "Sort in the order of jumping:"
   ]
  },
  {
   "cell_type": "code",
   "execution_count": null,
   "metadata": {},
   "outputs": [],
   "source": [
    "@points = @points».Numeric.sort(*.head).map(*.tail(2))».Array.Array"
   ]
  },
  {
   "cell_type": "markdown",
   "metadata": {},
   "source": [
    "### LLM function"
   ]
  },
  {
   "cell_type": "markdown",
   "metadata": {},
   "source": [
    "Make an LLM function that produces SVG animation specs for given lists of points:"
   ]
  },
  {
   "cell_type": "code",
   "execution_count": null,
   "metadata": {},
   "outputs": [],
   "source": [
    "my &fAnim = llm-function({\n",
    "    [ \n",
    "        llm-prompt('CodeWriterX')('SVG'),\n",
    "        \"Make an animation of a red circle along these points (x, y):\",\n",
    "        '```raku',\n",
    "        $_.raku,\n",
    "        '```',\n",
    "        'Use the SVG `<path>` element.',\n",
    "        'Make it adhere to an element that has the following transformation:',\n",
    "        '```svg',\n",
    "        '<g id=\"anim\" class=\"graph\" transform=\"scale(1.31339 1.31339) rotate(0) translate(4 317.31)\">',\n",
    "        '```',\n",
    "        'Make it stop at the last point.'\n",
    "    ]},\n",
    "    e => $conf4o\n",
    ")"
   ]
  },
  {
   "cell_type": "markdown",
   "metadata": {},
   "source": [
    "### Make the animation fragment"
   ]
  },
  {
   "cell_type": "code",
   "execution_count": null,
   "metadata": {},
   "outputs": [],
   "source": [
    "# my $res = &fAnim(@points).match(/'<g' .* '</g>'/).Str"
   ]
  },
  {
   "cell_type": "markdown",
   "metadata": {},
   "source": [
    "Combine the SVGs into an animation:"
   ]
  },
  {
   "cell_type": "code",
   "execution_count": null,
   "metadata": {},
   "outputs": [],
   "source": [
    "#%html\n",
    "# my $dot2 = $kdot.subst('</svg>', $res ~ \"</svg>\")"
   ]
  },
  {
   "cell_type": "markdown",
   "metadata": {},
   "source": [
    "Instead of calling the LLM-function repeatedly let us make a dedicated one:"
   ]
  },
  {
   "cell_type": "code",
   "execution_count": null,
   "metadata": {},
   "outputs": [],
   "source": [
    "my $transform = ($kdot ~~ / 'transform=\"scale(' .*? ')'/).Str"
   ]
  },
  {
   "cell_type": "code",
   "execution_count": null,
   "metadata": {},
   "outputs": [],
   "source": [
    "sub animation-fragment(@points) {\n",
    "    my $path = @points.map({\"L\" ~ $_.join(',')}).join(\"\\n\");\n",
    "    $path = $path.subst('L', 'M');\n",
    "\n",
    "    my $svg-anim = Q:s:to/END/;\n",
    "    <g id=\"anim\" class=\"graph\" $transform rotate(0) translate(4 317.31)\">\n",
    "        <path id=\"path\" fill=\"none\" stroke=\"none\" d=\"\n",
    "        $path\n",
    "        \" />\n",
    "        <circle r=\"6\" fill=\"blue\">\n",
    "        <animateMotion dur=\"10s\" repeatCount=\"1\" fill=\"freeze\">\n",
    "            <mpath href=\"#path\" />\n",
    "        </animateMotion>\n",
    "        </circle>\n",
    "    </g>\n",
    "    END\n",
    "}"
   ]
  },
  {
   "cell_type": "code",
   "execution_count": null,
   "metadata": {},
   "outputs": [],
   "source": [
    "#%html\n",
    "my $dot2 = $kdot.subst('</svg>', animation-fragment(@points) ~ \"</svg>\")"
   ]
  },
  {
   "cell_type": "markdown",
   "metadata": {},
   "source": [
    "-------\n",
    "\n",
    "## Alternative animation"
   ]
  },
  {
   "cell_type": "markdown",
   "metadata": {},
   "source": [
    "Here we show the first few Knight moves using chess-coordinates (or a FEN string):"
   ]
  },
  {
   "cell_type": "code",
   "execution_count": null,
   "metadata": {},
   "outputs": [],
   "source": [
    "#%html\n",
    "my @pos = @hpath.head(5)\n",
    "    .map({ $_.subst('kt').split('_')».Int })\n",
    "    .map({ ( ('a'..'h')[$_.head], ('1'..'8')[$_.tail], 'n') });\n",
    "dot-chessboard(@pos, |%opts):svg"
   ]
  },
  {
   "cell_type": "markdown",
   "metadata": {},
   "source": [
    "It is natural to think about think about animating the knight jump. \n",
    "\n",
    "Assuming that we know how to make SVG animations we can do the following:\n",
    "\n",
    "- Make a chessboard background SVG image\n",
    "- For each vertex of the knight's tour path make a subgraph and plot it as an SVG image\n",
    "- Combine the background image and \"jump\" images into an SVG animation"
   ]
  },
  {
   "cell_type": "markdown",
   "metadata": {},
   "source": [
    "The approach above, though, requires proper scaling of corresponding graphics. \n",
    "\n",
    "It is much easier to:\n",
    "\n",
    "- For each knight jump make an SVG image of it with the whole chessboard\n",
    "- Extract the graphics element from each image (`<g>`)\n",
    "- Put the images together into an SVG animation specification"
   ]
  },
  {
   "cell_type": "markdown",
   "metadata": {},
   "source": [
    "Each of the knight-jump-chessboards has the part knight tour from the start its jump.\n",
    "Fore that we are re-doing the above with using `dot-chessboard` and the \"orange board\" styling: "
   ]
  },
  {
   "cell_type": "code",
   "execution_count": null,
   "metadata": {},
   "outputs": [],
   "source": [
    "#%html\n",
    "\n",
    "my $preamble2 = [\n",
    "    dot-chessboard(|%opts).lines[1..*-2].subst('--', '->', :g).subst('label=\"\",').subst('Chessboard by DOT', ''),\n",
    "    'node [shape=ellipse, fillcolor=Gray, width=0.2, height=0.2, fixedsize=true, style=filled, color=SlateBlue, fontsize=10, fontcolor=Black];',\n",
    "    'edge [style=filled, width=103, color=SlateBlue];',\n",
    "].join(\"\\n\");\n",
    "\n",
    "my $gp2 = Graph::Path.new(@hpath):directed;\n",
    "$gp2.vertex-coordinates = $gkt.vertex-coordinates;\n",
    "$gp2 .= vertex-replace((@hpath Z=> (^@hpath.elems)».Str).Hash); \n",
    "\n",
    "# To verify\n",
    "# $gp2.dot(preamble => $preamble2, engine=>'neato'):svg"
   ]
  },
  {
   "cell_type": "markdown",
   "metadata": {},
   "source": [
    "\"Partial tour\" chessboards:"
   ]
  },
  {
   "cell_type": "code",
   "execution_count": null,
   "metadata": {},
   "outputs": [],
   "source": [
    "my @knight-jumps = \n",
    "    (^$gp2.vertex-count)\n",
    "    .map({ $gp2.subgraph((^$_)».Str).dot(preamble => $preamble2, engine=>'neato', |%opts):svg });\n",
    "\n",
    "@knight-jumps.elems"
   ]
  },
  {
   "cell_type": "markdown",
   "metadata": {},
   "source": [
    "Example:"
   ]
  },
  {
   "cell_type": "code",
   "execution_count": null,
   "metadata": {},
   "outputs": [],
   "source": [
    "#% html\n",
    "@knight-jumps[4]"
   ]
  },
  {
   "cell_type": "markdown",
   "metadata": {},
   "source": [
    "Here we extract the graphics elements:"
   ]
  },
  {
   "cell_type": "code",
   "execution_count": null,
   "metadata": {},
   "outputs": [],
   "source": [
    "my @knight-jumps2 = \n",
    "    @knight-jumps\n",
    "    .map({\n",
    "        do with $_.match(/ ('<g id=\"graph0\" class=\"graph\"' .* '</g>') \\s* '</svg>' /) { $0.Str } \n",
    "    })\n",
    "    .pairs.map({\n",
    "        $_.value.subst(/ '\"graph' \\d+ '\"' /, \"\\\"graph{$_.key + 1}\\\"\")\n",
    "    });\n",
    "\n",
    "@knight-jumps2.elems"
   ]
  },
  {
   "cell_type": "markdown",
   "metadata": {},
   "source": [
    "Putting the images together into an SVG animation:"
   ]
  },
  {
   "cell_type": "code",
   "execution_count": null,
   "metadata": {},
   "outputs": [],
   "source": [
    "my $view = (@knight-jumps.head ~~ / 'viewBox=\"' .*? '\"' /).Str;\n",
    "my $defs = @knight-jumps2.join(\"\\n\");\n",
    "my $values = ('#graph' X~ (1..@knight-jumps.elems) X~ ';').join;\n",
    "\n",
    "Q:s:to/END/;\n",
    "<svg width=\"433pt\" height=\"306pt\" $view xmlns=\"http://www.w3.org/2000/svg\">\n",
    "  <defs>\n",
    "    $defs\n",
    "  </defs>\n",
    "\n",
    "  <use href=\"#graph0\" id=\"animatedImage\">\n",
    "    <animate attributeName=\"href\" values=\"$values\" dur=\"5s\" repeatCount=\"1\" fill=\"freeze\"/>\n",
    "  </use>\n",
    "</svg>\n",
    "END"
   ]
  },
  {
   "cell_type": "markdown",
   "metadata": {},
   "source": [
    "**Remark:** The animation workflow is fairly universal and it is a good idea to make it into a standalone function that takes a list of SVG images and makes an animation with them."
   ]
  },
  {
   "cell_type": "markdown",
   "metadata": {},
   "source": [
    "------\n",
    "\n",
    "## References"
   ]
  },
  {
   "cell_type": "markdown",
   "metadata": {},
   "source": [
    "### Articles\n",
    "\n",
    "[Wk1] Wikipedia entry, [\"Knight's tour\"](https://en.wikipedia.org/wiki/Knight%27s_tour).\n",
    "\n",
    "[Wk2] Wikipedia entry, [\"Hamiltonian path problem\"](https://en.wikipedia.org/wiki/Hamiltonian_path_problem)."
   ]
  },
  {
   "cell_type": "markdown",
   "metadata": {},
   "source": [
    "### Packages, paclets\n",
    "\n",
    "[AAp1] Anton Antonvov,\n",
    "[Graph Raku package](https://github.com/antononcube/Raku-Graph),\n",
    "(2024),\n",
    "[GitHub/antononcube](https://github.com/antononcube).\n",
    "\n",
    "[AAp2] Anton Antonvov,\n",
    "[Graph Raku package](https://github.com/antononcube/Raku-Graphviz-DOT-Chessboard),\n",
    "(2024),\n",
    "[GitHub/antononcube](https://github.com/antononcube).\n",
    "\n",
    "[AAp3] Anton Antonvov,\n",
    "[JavaScript::D3 Raku package](https://github.com/antononcube/Raku-JavaScript-D3),\n",
    "(2022-2024),\n",
    "[GitHub/antononcube](https://github.com/antononcube)."
   ]
  },
  {
   "cell_type": "markdown",
   "metadata": {},
   "source": [
    "### Videos\n",
    "\n",
    "[AAv1] Anton Antonov,\n",
    "[Graph neat examples in Raku (Set 1)](https://youtu.be/5qXgqqRZHow),\n",
    "(2024),\n",
    "[YouTube/@AAA4prediction](https://www.youtube.com/@AAA4prediction).\n",
    "\n",
    "[AAv2] Anton Antonov,\n",
    "[Graph neat examples in Raku (Set 2)](https://youtu.be/E7qhutQcWCY),\n",
    "(2024),\n",
    "[YouTube/@AAA4prediction](https://www.youtube.com/@AAA4prediction).\n",
    "\n",
    "[AAv3] Anton Antonov,\n",
    "[Graph neat examples in Raku (Set 3)](),\n",
    "(2024),\n",
    "[YouTube/@AAA4prediction](https://www.youtube.com/@AAA4prediction).\n"
   ]
  }
 ],
 "metadata": {
  "kernelspec": {
   "display_name": "RakuChatbook",
   "language": "raku",
   "name": "raku"
  },
  "language_info": {
   "file_extension": ".raku",
   "mimetype": "text/x-raku",
   "name": "raku",
   "version": "6.d"
  }
 },
 "nbformat": 4,
 "nbformat_minor": 2
}
