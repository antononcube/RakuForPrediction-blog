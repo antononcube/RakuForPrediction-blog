{
 "cells": [
  {
   "cell_type": "markdown",
   "metadata": {},
   "source": [
    "# Number theory neat examples\n",
    "\n",
    "<span style=\"font-size: 16pt; font-style: italic; font-weight: bold\">Set 1 : </span>\n",
    "<span style=\"font-size: 16pt; font-style: italic;\">primes, Klauber triangle, Ulam spiral, sunflower seed spirals</span>\n",
    "\n",
    "Anton Antonov    \n",
    "[RakuForPrediction at WordPress](https://rakuforprediction.wordpress.com)   \n",
    "January 2025     "
   ]
  },
  {
   "cell_type": "code",
   "execution_count": null,
   "metadata": {},
   "outputs": [],
   "source": [
    "#% js\n",
    "    (^3).map({\n",
    "        my $ga = [ϕ, 1.1, 2.8].pick;\n",
    "        my $color-scheme = <Set1 Set2 Tableau10 Observable10>.pick;\n",
    "\n",
    "        my @sunflower = (1..1_000).map({\n",
    "            my $a = $_;\n",
    "            my $angle = $a * 2 * π / $ga²;\n",
    "            { x => sqrt($a) * cos($angle), y => sqrt($a) * sin($angle), group => is-prime($a).Int.Str }\n",
    "        });\n",
    "\n",
    "        js-d3-list-plot(@sunflower, \n",
    "            background => 'none',\n",
    "            point-size => 4,\n",
    "            width => 220, height => 212, \n",
    "            margins => {:2top, :10bottom, :10left, :10right},\n",
    "            :!axes, \n",
    "            :!legends,\n",
    "            :$color-scheme\n",
    "        )    \n",
    "    }).join(\"\\n\")"
   ]
  },
  {
   "cell_type": "markdown",
   "metadata": {},
   "source": [
    "----\n",
    "\n",
    "## Introduction"
   ]
  },
  {
   "cell_type": "markdown",
   "metadata": {},
   "source": [
    "**What is a neat example?** : Concise or straightforward code that produces compelling visual or textual outputs."
   ]
  },
  {
   "cell_type": "markdown",
   "metadata": {},
   "source": [
    "**Maybe:** We know *neat* when we see it?"
   ]
  },
  {
   "cell_type": "markdown",
   "metadata": {},
   "source": [
    "The neat examples:\n",
    "\n",
    "- Showcase Raku programming.\n",
    "- Use functionalities of different Raku modules.\n",
    "- Give interesting perspectives on what is computationally possible."
   ]
  },
  {
   "cell_type": "markdown",
   "metadata": {},
   "source": [
    "Showcased:\n",
    "- All number theory functions are provided by [\"Math::NumberTheory\"](https://raku.land/zef:antononcube/Math::NumberTheory).   \n",
    "- Visualization functions are provided by [\"JavaScript::D3\"](https://raku.land/zef:antononcube/JavaScript::D3).\n",
    "- Data manipulation functions are provided by [\"Data::Reshapers\"](https://raku.land/zef:antononcube/Data::Reshapers).\n",
    "- Data summarization functions are provided by [\"Data::Summarizers\"](https://raku.land/zef:antononcube/Data::Summarizers).\n",
    "- Data translation functions (like `to-html`) are provided by [\"Data::Translators\"](https://raku.land/zef:antononcube/Data::Translators)."
   ]
  },
  {
   "cell_type": "markdown",
   "metadata": {},
   "source": [
    "**Remark:** \n",
    "- Raku has built-in Number theory functions: `is-prime`, `mod`, `expmod`, `base`, `polymod`. \n",
    "- The package \"Math::NumberTheory\" extends those functions and adds (many) more."
   ]
  },
  {
   "cell_type": "markdown",
   "metadata": {},
   "source": [
    "-----\n",
    "\n",
    "## Setup"
   ]
  },
  {
   "cell_type": "code",
   "execution_count": null,
   "metadata": {},
   "outputs": [],
   "source": [
    "# Part of init.raku\n",
    "#use Math::NumberTheory;\n",
    "#use Math::NumberTheory::Utilities;"
   ]
  },
  {
   "cell_type": "code",
   "execution_count": null,
   "metadata": {},
   "outputs": [],
   "source": [
    "%% javascript\n",
    "require.config({\n",
    "     paths: {\n",
    "     d3: 'https://d3js.org/d3.v7.min'\n",
    "}});\n",
    "\n",
    "require(['d3'], function(d3) {\n",
    "     console.log(d3);\n",
    "});"
   ]
  },
  {
   "cell_type": "code",
   "execution_count": null,
   "metadata": {},
   "outputs": [],
   "source": [
    "#%js\n",
    "js-d3-list-line-plot(rand xx 40, background => 'none')"
   ]
  },
  {
   "cell_type": "markdown",
   "metadata": {},
   "source": [
    "-----\n",
    "\n",
    "## Prime numbers"
   ]
  },
  {
   "cell_type": "markdown",
   "metadata": {},
   "source": [
    "A table of prime numbers:"
   ]
  },
  {
   "cell_type": "code",
   "execution_count": 1,
   "metadata": {},
   "outputs": [
    {
     "data": {
      "text/html": [
       "<table border=\"1\"><tbody><tr><td>1</td><td>12</td><td><span style=\"color: Red; font-weight:bold\">23</span></td><td>34</td><td>45</td><td>56</td><td><span style=\"color: Red; font-weight:bold\">67</span></td><td>78</td><td><span style=\"color: Red; font-weight:bold\">89</span></td><td>100</td><td>111</td></tr><tr><td><span style=\"color: Red; font-weight:bold\">2</span></td><td><span style=\"color: Red; font-weight:bold\">13</span></td><td>24</td><td>35</td><td>46</td><td>57</td><td>68</td><td><span style=\"color: Red; font-weight:bold\">79</span></td><td>90</td><td><span style=\"color: Red; font-weight:bold\">101</span></td><td>112</td></tr><tr><td><span style=\"color: Red; font-weight:bold\">3</span></td><td>14</td><td>25</td><td>36</td><td><span style=\"color: Red; font-weight:bold\">47</span></td><td>58</td><td>69</td><td>80</td><td>91</td><td>102</td><td><span style=\"color: Red; font-weight:bold\">113</span></td></tr><tr><td>4</td><td>15</td><td>26</td><td><span style=\"color: Red; font-weight:bold\">37</span></td><td>48</td><td><span style=\"color: Red; font-weight:bold\">59</span></td><td>70</td><td>81</td><td>92</td><td><span style=\"color: Red; font-weight:bold\">103</span></td><td>114</td></tr><tr><td><span style=\"color: Red; font-weight:bold\">5</span></td><td>16</td><td>27</td><td>38</td><td>49</td><td>60</td><td><span style=\"color: Red; font-weight:bold\">71</span></td><td>82</td><td>93</td><td>104</td><td>115</td></tr><tr><td>6</td><td><span style=\"color: Red; font-weight:bold\">17</span></td><td>28</td><td>39</td><td>50</td><td><span style=\"color: Red; font-weight:bold\">61</span></td><td>72</td><td><span style=\"color: Red; font-weight:bold\">83</span></td><td>94</td><td>105</td><td>116</td></tr><tr><td><span style=\"color: Red; font-weight:bold\">7</span></td><td>18</td><td><span style=\"color: Red; font-weight:bold\">29</span></td><td>40</td><td>51</td><td>62</td><td><span style=\"color: Red; font-weight:bold\">73</span></td><td>84</td><td>95</td><td>106</td><td>117</td></tr><tr><td>8</td><td><span style=\"color: Red; font-weight:bold\">19</span></td><td>30</td><td><span style=\"color: Red; font-weight:bold\">41</span></td><td>52</td><td>63</td><td>74</td><td>85</td><td>96</td><td><span style=\"color: Red; font-weight:bold\">107</span></td><td>118</td></tr><tr><td>9</td><td>20</td><td><span style=\"color: Red; font-weight:bold\">31</span></td><td>42</td><td><span style=\"color: Red; font-weight:bold\">53</span></td><td>64</td><td>75</td><td>86</td><td><span style=\"color: Red; font-weight:bold\">97</span></td><td>108</td><td>119</td></tr><tr><td>10</td><td>21</td><td>32</td><td><span style=\"color: Red; font-weight:bold\">43</span></td><td>54</td><td>65</td><td>76</td><td>87</td><td>98</td><td><span style=\"color: Red; font-weight:bold\">109</span></td><td>120</td></tr><tr><td><span style=\"color: Red; font-weight:bold\">11</span></td><td>22</td><td>33</td><td>44</td><td>55</td><td>66</td><td>77</td><td>88</td><td>99</td><td>110</td><td>121</td></tr></tbody></table>"
      ]
     },
     "execution_count": 1,
     "metadata": {},
     "output_type": "execute_result"
    }
   ],
   "source": [
    "#% html\n",
    "my $n = 11;\n",
    "\n",
    "my @highlight = (1..$n²).map({ is-prime($_) ?? $_ !! Empty })».Str;\n",
    "\n",
    "(1...$n²)\n",
    "==> to-html(multi-column => $n)\n",
    "==> html-table-highlight(:@highlight, c => 'Red', w => 'bold')"
   ]
  },
  {
   "cell_type": "code",
   "execution_count": 2,
   "metadata": {},
   "outputs": [
    {
     "data": {
      "text/plain": [
       "30"
      ]
     },
     "execution_count": 2,
     "metadata": {},
     "output_type": "execute_result"
    }
   ],
   "source": [
    "# π(x)\n",
    "prime-pi($n²)"
   ]
  },
  {
   "cell_type": "markdown",
   "metadata": {},
   "source": [
    "### [Gaussian integers](https://en.wikipedia.org/wiki/Gaussian_integer)"
   ]
  },
  {
   "cell_type": "markdown",
   "metadata": {},
   "source": [
    "A table of [Gaussian primes](https://en.wikipedia.org/wiki/Gaussian_integer#Gaussian_primes):"
   ]
  },
  {
   "cell_type": "code",
   "execution_count": 3,
   "metadata": {},
   "outputs": [
    {
     "data": {
      "text/html": [
       "<table border=\"1\"><tbody><tr><td>1</td><td>12</td><td><span style=\"color: Red; font-weight:bold\">23</span></td><td>34</td><td>45</td><td>56</td><td><span style=\"color: Red; font-weight:bold\">67</span></td><td>78</td><td>89</td><td>100</td><td>111</td></tr><tr><td>2</td><td>13</td><td>24</td><td>35</td><td>46</td><td>57</td><td>68</td><td><span style=\"color: Red; font-weight:bold\">79</span></td><td>90</td><td>101</td><td>112</td></tr><tr><td><span style=\"color: Red; font-weight:bold\">3</span></td><td>14</td><td>25</td><td>36</td><td><span style=\"color: Red; font-weight:bold\">47</span></td><td>58</td><td>69</td><td>80</td><td>91</td><td>102</td><td>113</td></tr><tr><td>4</td><td>15</td><td>26</td><td>37</td><td>48</td><td><span style=\"color: Red; font-weight:bold\">59</span></td><td>70</td><td>81</td><td>92</td><td><span style=\"color: Red; font-weight:bold\">103</span></td><td>114</td></tr><tr><td>5</td><td>16</td><td>27</td><td>38</td><td>49</td><td>60</td><td><span style=\"color: Red; font-weight:bold\">71</span></td><td>82</td><td>93</td><td>104</td><td>115</td></tr><tr><td>6</td><td>17</td><td>28</td><td>39</td><td>50</td><td>61</td><td>72</td><td><span style=\"color: Red; font-weight:bold\">83</span></td><td>94</td><td>105</td><td>116</td></tr><tr><td><span style=\"color: Red; font-weight:bold\">7</span></td><td>18</td><td>29</td><td>40</td><td>51</td><td>62</td><td>73</td><td>84</td><td>95</td><td>106</td><td>117</td></tr><tr><td>8</td><td><span style=\"color: Red; font-weight:bold\">19</span></td><td>30</td><td>41</td><td>52</td><td>63</td><td>74</td><td>85</td><td>96</td><td><span style=\"color: Red; font-weight:bold\">107</span></td><td>118</td></tr><tr><td>9</td><td>20</td><td><span style=\"color: Red; font-weight:bold\">31</span></td><td>42</td><td>53</td><td>64</td><td>75</td><td>86</td><td>97</td><td>108</td><td>119</td></tr><tr><td>10</td><td>21</td><td>32</td><td><span style=\"color: Red; font-weight:bold\">43</span></td><td>54</td><td>65</td><td>76</td><td>87</td><td>98</td><td>109</td><td>120</td></tr><tr><td><span style=\"color: Red; font-weight:bold\">11</span></td><td>22</td><td>33</td><td>44</td><td>55</td><td>66</td><td>77</td><td>88</td><td>99</td><td>110</td><td>121</td></tr></tbody></table>"
      ]
     },
     "execution_count": 3,
     "metadata": {},
     "output_type": "execute_result"
    }
   ],
   "source": [
    "#% html\n",
    "my $n = 11;\n",
    "\n",
    "my @highlight = (1..$n²).map({ is-prime($_, :gaussian-integers) ?? $_ !! Empty })».Str;\n",
    "\n",
    "(1...$n²)\n",
    "==> to-html(multi-column => $n)\n",
    "==> html-table-highlight(:@highlight, c => 'Red', w => 'bold')"
   ]
  },
  {
   "cell_type": "markdown",
   "metadata": {},
   "source": [
    "The table above might look boring -- for any Gaussian prime $p$ holds: $p \\mod 4 = 3$."
   ]
  },
  {
   "cell_type": "code",
   "execution_count": 4,
   "metadata": {},
   "outputs": [
    {
     "data": {
      "text/plain": [
       "(3 3 3 3 3 3 3 3 3 3 3 3 3)"
      ]
     },
     "execution_count": 4,
     "metadata": {},
     "output_type": "execute_result"
    }
   ],
   "source": [
    "(^100).grep(*.&is-prime(:gaussian-integers)).map(* mod 4)"
   ]
  },
  {
   "cell_type": "markdown",
   "metadata": {},
   "source": [
    "Follows from the [Sum of two squares theorem](https://en.wikipedia.org/wiki/Sum_of_two_squares_theorem).\n",
    "Relates to [Fermat's theorem on sums of two squares](https://en.wikipedia.org/wiki/Fermat%27s_theorem_on_sums_of_two_squares)."
   ]
  },
  {
   "cell_type": "markdown",
   "metadata": {},
   "source": [
    "For example, $13 = 2² + 3² = (2 + 3i) (2 - 3i)$, hence $13$ is not a Gaussian prime."
   ]
  },
  {
   "cell_type": "markdown",
   "metadata": {},
   "source": [
    "**Remark:** A separate presentation with neat examples over Gaussian integers is planned."
   ]
  },
  {
   "cell_type": "markdown",
   "metadata": {},
   "source": [
    "-----\n",
    "\n",
    "## [Klauber triangle](https://en.wikipedia.org/wiki/Laurence_Monroe_Klauber#Mathematics)"
   ]
  },
  {
   "cell_type": "markdown",
   "metadata": {},
   "source": [
    "In the early 1930s, herpetologist [Laurence Klauber](https://en.wikipedia.org/wiki/Laurence_Monroe_Klauber) proposed a geometric arrangement of primes. \n",
    "(Similar to [Ulam's spiral](https://en.wikipedia.org/wiki/Ulam_spiral), discussed below.)"
   ]
  },
  {
   "cell_type": "code",
   "execution_count": 5,
   "metadata": {},
   "outputs": [
    {
     "data": {
      "text/html": [
       "<table border=\"1\"><thead><tr><th>0</th><th>1</th><th>2</th><th>3</th><th>4</th><th>5</th><th>6</th><th>7</th><th>8</th><th>9</th><th>10</th><th>11</th><th>12</th><th>13</th><th>14</th><th>15</th><th>16</th><th>17</th><th>18</th><th>19</th><th>20</th></tr></thead><tbody><tr><td> </td><td> </td><td> </td><td> </td><td> </td><td> </td><td> </td><td> </td><td> </td><td> </td><td>1</td><td> </td><td> </td><td> </td><td> </td><td> </td><td> </td><td> </td><td> </td><td> </td><td> </td></tr><tr><td> </td><td> </td><td> </td><td> </td><td> </td><td> </td><td> </td><td> </td><td> </td><td><span style=\"color: Lime; font-weight:bold\">2</span></td><td><span style=\"color: Lime; font-weight:bold\">3</span></td><td>4</td><td> </td><td> </td><td> </td><td> </td><td> </td><td> </td><td> </td><td> </td><td> </td></tr><tr><td> </td><td> </td><td> </td><td> </td><td> </td><td> </td><td> </td><td> </td><td><span style=\"color: Lime; font-weight:bold\">5</span></td><td>6</td><td><span style=\"color: Lime; font-weight:bold\">7</span></td><td>8</td><td>9</td><td> </td><td> </td><td> </td><td> </td><td> </td><td> </td><td> </td><td> </td></tr><tr><td> </td><td> </td><td> </td><td> </td><td> </td><td> </td><td> </td><td>10</td><td><span style=\"color: Lime; font-weight:bold\">11</span></td><td>12</td><td><span style=\"color: Lime; font-weight:bold\">13</span></td><td>14</td><td>15</td><td>16</td><td> </td><td> </td><td> </td><td> </td><td> </td><td> </td><td> </td></tr><tr><td> </td><td> </td><td> </td><td> </td><td> </td><td> </td><td><span style=\"color: Lime; font-weight:bold\">17</span></td><td>18</td><td><span style=\"color: Lime; font-weight:bold\">19</span></td><td>20</td><td>21</td><td>22</td><td><span style=\"color: Lime; font-weight:bold\">23</span></td><td>24</td><td>25</td><td> </td><td> </td><td> </td><td> </td><td> </td><td> </td></tr><tr><td> </td><td> </td><td> </td><td> </td><td> </td><td>26</td><td>27</td><td>28</td><td><span style=\"color: Lime; font-weight:bold\">29</span></td><td>30</td><td><span style=\"color: Lime; font-weight:bold\">31</span></td><td>32</td><td>33</td><td>34</td><td>35</td><td>36</td><td> </td><td> </td><td> </td><td> </td><td> </td></tr><tr><td> </td><td> </td><td> </td><td> </td><td><span style=\"color: Lime; font-weight:bold\">37</span></td><td>38</td><td>39</td><td>40</td><td><span style=\"color: Lime; font-weight:bold\">41</span></td><td>42</td><td><span style=\"color: Lime; font-weight:bold\">43</span></td><td>44</td><td>45</td><td>46</td><td><span style=\"color: Lime; font-weight:bold\">47</span></td><td>48</td><td>49</td><td> </td><td> </td><td> </td><td> </td></tr><tr><td> </td><td> </td><td> </td><td>50</td><td>51</td><td>52</td><td><span style=\"color: Lime; font-weight:bold\">53</span></td><td>54</td><td>55</td><td>56</td><td>57</td><td>58</td><td><span style=\"color: Lime; font-weight:bold\">59</span></td><td>60</td><td><span style=\"color: Lime; font-weight:bold\">61</span></td><td>62</td><td>63</td><td>64</td><td> </td><td> </td><td> </td></tr><tr><td> </td><td> </td><td>65</td><td>66</td><td><span style=\"color: Lime; font-weight:bold\">67</span></td><td>68</td><td>69</td><td>70</td><td><span style=\"color: Lime; font-weight:bold\">71</span></td><td>72</td><td><span style=\"color: Lime; font-weight:bold\">73</span></td><td>74</td><td>75</td><td>76</td><td>77</td><td>78</td><td><span style=\"color: Lime; font-weight:bold\">79</span></td><td>80</td><td>81</td><td> </td><td> </td></tr><tr><td> </td><td>82</td><td><span style=\"color: Lime; font-weight:bold\">83</span></td><td>84</td><td>85</td><td>86</td><td>87</td><td>88</td><td><span style=\"color: Lime; font-weight:bold\">89</span></td><td>90</td><td>91</td><td>92</td><td>93</td><td>94</td><td>95</td><td>96</td><td><span style=\"color: Lime; font-weight:bold\">97</span></td><td>98</td><td>99</td><td>100</td><td> </td></tr><tr><td><span style=\"color: Lime; font-weight:bold\">101</span></td><td>102</td><td><span style=\"color: Lime; font-weight:bold\">103</span></td><td>104</td><td>105</td><td>106</td><td><span style=\"color: Lime; font-weight:bold\">107</span></td><td>108</td><td><span style=\"color: Lime; font-weight:bold\">109</span></td><td>110</td><td>111</td><td>112</td><td><span style=\"color: Lime; font-weight:bold\">113</span></td><td>114</td><td>115</td><td>116</td><td>117</td><td>118</td><td>119</td><td>120</td><td>121</td></tr></tbody></table>"
      ]
     },
     "execution_count": 5,
     "metadata": {},
     "output_type": "execute_result"
    }
   ],
   "source": [
    "#%html\n",
    "my $n = 11;\n",
    "my $mat = triangle-matrix-embedding($n, missing-value => ' ', :dataset);\n",
    "\n",
    "$mat\n",
    "==> to-html(field-names => (^$mat.head.elems)».Str)\n",
    "==> html-table-highlight(h => (1..prime-pi($n²))».&prime».Str, c => 'Lime', w => 'bold')"
   ]
  },
  {
   "cell_type": "code",
   "execution_count": null,
   "metadata": {},
   "outputs": [],
   "source": [
    "#% js\n",
    "my @mat = triangle-matrix-embedding(101, :!dataset).deepmap({ is-prime($_) ?? 2 !! 0 });\n",
    "js-d3-matrix-plot(@mat, width => 800, height => 400, :!grid-lines, color-palette => 'Magma', :!tooltip)"
   ]
  },
  {
   "cell_type": "code",
   "execution_count": null,
   "metadata": {},
   "outputs": [],
   "source": [
    "#% js\n",
    "my $k = 13;\n",
    "my $color-palette = <Magma Cool YlOrRd>.pick;\n",
    "    my @mat = triangle-matrix-embedding($k, :!dataset).deepmap({ is-prime($_) ?? $_ !! 0 });\n",
    "\n",
    "    my $smat1 = Math::SparseMatrix.new(dense-matrix => @mat);\n",
    "    my @data1 = |rename-columns($smat1.tuples(:dataset), (<i j x> Z=> <x y z>).Hash);\n",
    "\n",
    "    my $smat2 = $smat1[$smat1.row-names.reverse;*];\n",
    "    my @data2 = |rename-columns($smat2.tuples(:dataset), (<i j x> Z=> <x y z>).Hash);\n",
    "\n",
    "    js-d3-matrix-plot(@data1, width => 400, height => 300, :!grid-lines, :$color-palette, :!tooltip)\n",
    "    ~\n",
    "    js-d3-matrix-plot(@data2, width => 400, height => 300, :!grid-lines, :$color-palette, :!tooltip)"
   ]
  },
  {
   "cell_type": "markdown",
   "metadata": {},
   "source": [
    "------\n",
    "\n",
    "## [Ulam spiral](https://en.wikipedia.org/wiki/Ulam_spiral)"
   ]
  },
  {
   "cell_type": "markdown",
   "metadata": {},
   "source": [
    "The Ulam spiral, also known as the prime spiral, is a visual representation of prime numbers created by mathematician Stanisław Ulam in 1963. It gained popularity through [Martin Gardner](https://en.wikipedia.org/wiki/Martin_Gardner)'s [Mathematical Games column](https://en.wikipedia.org/wiki/Martin_Gardner#Mathematical_Games_column) in Scientific American shortly after. \n",
    "The spiral is formed by arranging positive integers in a square spiral and highlighting the prime numbers."
   ]
  },
  {
   "cell_type": "markdown",
   "metadata": {},
   "source": [
    "**Remark:** Large fraction of the neat examples I plan to present use Ulam spiral."
   ]
  },
  {
   "cell_type": "markdown",
   "metadata": {},
   "source": [
    "Spiral lattice with highlighted primes:"
   ]
  },
  {
   "cell_type": "code",
   "execution_count": 6,
   "metadata": {},
   "outputs": [
    {
     "data": {
      "text/html": [
       "<table border=\"1\"><thead><tr><th>0</th><th>1</th><th>2</th><th>3</th><th>4</th><th>5</th><th>6</th><th>7</th><th>8</th><th>9</th><th>10</th></tr></thead><tbody><tr><td><span style=\"color: Lime; font-weight:bold\">101</span></td><td>100</td><td>99</td><td>98</td><td><span style=\"color: Lime; font-weight:bold\">97</span></td><td>96</td><td>95</td><td>94</td><td>93</td><td>92</td><td>91</td></tr><tr><td>102</td><td>65</td><td>64</td><td>63</td><td>62</td><td><span style=\"color: Lime; font-weight:bold\">61</span></td><td>60</td><td><span style=\"color: Lime; font-weight:bold\">59</span></td><td>58</td><td>57</td><td>90</td></tr><tr><td><span style=\"color: Lime; font-weight:bold\">103</span></td><td>66</td><td><span style=\"color: Lime; font-weight:bold\">37</span></td><td>36</td><td>35</td><td>34</td><td>33</td><td>32</td><td><span style=\"color: Lime; font-weight:bold\">31</span></td><td>56</td><td><span style=\"color: Lime; font-weight:bold\">89</span></td></tr><tr><td>104</td><td><span style=\"color: Lime; font-weight:bold\">67</span></td><td>38</td><td><span style=\"color: Lime; font-weight:bold\">17</span></td><td>16</td><td>15</td><td>14</td><td><span style=\"color: Lime; font-weight:bold\">13</span></td><td>30</td><td>55</td><td>88</td></tr><tr><td>105</td><td>68</td><td>39</td><td>18</td><td><span style=\"color: Lime; font-weight:bold\">5</span></td><td>4</td><td><span style=\"color: Lime; font-weight:bold\">3</span></td><td>12</td><td><span style=\"color: Lime; font-weight:bold\">29</span></td><td>54</td><td>87</td></tr><tr><td>106</td><td>69</td><td>40</td><td><span style=\"color: Lime; font-weight:bold\">19</span></td><td>6</td><td>1</td><td><span style=\"color: Lime; font-weight:bold\">2</span></td><td><span style=\"color: Lime; font-weight:bold\">11</span></td><td>28</td><td><span style=\"color: Lime; font-weight:bold\">53</span></td><td>86</td></tr><tr><td><span style=\"color: Lime; font-weight:bold\">107</span></td><td>70</td><td><span style=\"color: Lime; font-weight:bold\">41</span></td><td>20</td><td><span style=\"color: Lime; font-weight:bold\">7</span></td><td>8</td><td>9</td><td>10</td><td>27</td><td>52</td><td>85</td></tr><tr><td>108</td><td><span style=\"color: Lime; font-weight:bold\">71</span></td><td>42</td><td>21</td><td>22</td><td><span style=\"color: Lime; font-weight:bold\">23</span></td><td>24</td><td>25</td><td>26</td><td>51</td><td>84</td></tr><tr><td><span style=\"color: Lime; font-weight:bold\">109</span></td><td>72</td><td><span style=\"color: Lime; font-weight:bold\">43</span></td><td>44</td><td>45</td><td>46</td><td><span style=\"color: Lime; font-weight:bold\">47</span></td><td>48</td><td>49</td><td>50</td><td><span style=\"color: Lime; font-weight:bold\">83</span></td></tr><tr><td>110</td><td><span style=\"color: Lime; font-weight:bold\">73</span></td><td>74</td><td>75</td><td>76</td><td>77</td><td>78</td><td><span style=\"color: Lime; font-weight:bold\">79</span></td><td>80</td><td>81</td><td>82</td></tr><tr><td>111</td><td>112</td><td><span style=\"color: Lime; font-weight:bold\">113</span></td><td>114</td><td>115</td><td>116</td><td>117</td><td>118</td><td>119</td><td>120</td><td>121</td></tr></tbody></table>"
      ]
     },
     "execution_count": 6,
     "metadata": {},
     "output_type": "execute_result"
    }
   ],
   "source": [
    "#% html\n",
    "my $n = 11;\n",
    "spiral-lattice($n, end-corner => 'bottom-right', :dataset)\n",
    "==> to-html(field-names => (^$n)».Str)\n",
    "==> html-table-highlight(h => (1..prime-pi($n²))».&prime».Str, c => 'Lime', w => 'bold')"
   ]
  },
  {
   "cell_type": "markdown",
   "metadata": {},
   "source": [
    "Ulam spiral table:"
   ]
  },
  {
   "cell_type": "code",
   "execution_count": 7,
   "metadata": {},
   "outputs": [
    {
     "data": {
      "text/html": [
       "<table border=\"1\"><thead><tr><th>0</th><th>1</th><th>2</th><th>3</th><th>4</th><th>5</th><th>6</th><th>7</th><th>8</th><th>9</th><th>10</th></tr></thead><tbody><tr><td>101</td><td></td><td></td><td></td><td>97</td><td></td><td></td><td></td><td></td><td></td><td></td></tr><tr><td></td><td></td><td></td><td></td><td></td><td>61</td><td></td><td>59</td><td></td><td></td><td></td></tr><tr><td>103</td><td></td><td>37</td><td></td><td></td><td></td><td></td><td></td><td>31</td><td></td><td>89</td></tr><tr><td></td><td>67</td><td></td><td>17</td><td></td><td></td><td></td><td>13</td><td></td><td></td><td></td></tr><tr><td></td><td></td><td></td><td></td><td>5</td><td></td><td>3</td><td></td><td>29</td><td></td><td></td></tr><tr><td></td><td></td><td></td><td>19</td><td></td><td></td><td>2</td><td>11</td><td></td><td>53</td><td></td></tr><tr><td>107</td><td></td><td>41</td><td></td><td>7</td><td></td><td></td><td></td><td></td><td></td><td></td></tr><tr><td></td><td>71</td><td></td><td></td><td></td><td>23</td><td></td><td></td><td></td><td></td><td></td></tr><tr><td>109</td><td></td><td>43</td><td></td><td></td><td></td><td>47</td><td></td><td></td><td></td><td>83</td></tr><tr><td></td><td>73</td><td></td><td></td><td></td><td></td><td></td><td>79</td><td></td><td></td><td></td></tr><tr><td></td><td></td><td>113</td><td></td><td></td><td></td><td></td><td></td><td></td><td></td><td></td></tr></tbody></table>"
      ]
     },
     "execution_count": 7,
     "metadata": {},
     "output_type": "execute_result"
    }
   ],
   "source": [
    "#% html\n",
    "spiral-lattice($n, :dataset)\n",
    "==> { $_.deepmap({ is-prime($_) ?? $_ !! '' }) }()\n",
    "==> to-html(field-names => (^$n)».Str)"
   ]
  },
  {
   "cell_type": "code",
   "execution_count": null,
   "metadata": {},
   "outputs": [],
   "source": [
    "#% js\n",
    "my @mat = spiral-lattice(101).deepmap({ is-prime($_) ?? $_ !! 0 });\n",
    "js-d3-matrix-plot(@mat, width => 400, height => 400, :!grid-lines, color-palette => 'Viridis', :!tooltip)"
   ]
  },
  {
   "cell_type": "markdown",
   "metadata": {},
   "source": [
    "**Remark:** There are so called [\"prime generating polynomials\"](https://en.wikipedia.org/wiki/Formula_for_primes#Prime_formulas_and_polynomial_functions)."
   ]
  },
  {
   "cell_type": "markdown",
   "metadata": {},
   "source": [
    "Diagonals for $4 x^2 - 2 x + 41$:"
   ]
  },
  {
   "cell_type": "code",
   "execution_count": null,
   "metadata": {},
   "outputs": [],
   "source": [
    "#% js\n",
    "my $n = 201;\n",
    "my @highlight = (1..$n).map({ 4 * $_ ** 2 - 2 * $_ + 41 })».Int;\n",
    "my @mat = spiral-lattice($n).deepmap({ is-prime($_) ?? ($_ ∈ @highlight ?? 3 !! 1) !! 0 });\n",
    "js-d3-matrix-plot(@mat, width => 400, height => 400, :!grid-lines, color-palette => 'Viridis', :!tooltip)"
   ]
  },
  {
   "cell_type": "markdown",
   "metadata": {},
   "source": [
    "-----\n",
    "\n",
    "## Next prime"
   ]
  },
  {
   "cell_type": "markdown",
   "metadata": {},
   "source": [
    "The function `next-prime(x)` gives the smallest prime above $x$."
   ]
  },
  {
   "cell_type": "code",
   "execution_count": 8,
   "metadata": {},
   "outputs": [
    {
     "data": {
      "text/plain": [
       "101"
      ]
     },
     "execution_count": 8,
     "metadata": {},
     "output_type": "execute_result"
    }
   ],
   "source": [
    "next-prime(14, 20)"
   ]
  },
  {
   "cell_type": "markdown",
   "metadata": {},
   "source": [
    "**Remark:** The following functions are closely related: `is-prime`, `next-prime`, `prime-pi`."
   ]
  },
  {
   "cell_type": "markdown",
   "metadata": {},
   "source": [
    "Highlight the sequence of primes using `next-prime`:"
   ]
  },
  {
   "cell_type": "code",
   "execution_count": 9,
   "metadata": {},
   "outputs": [
    {
     "data": {
      "text/html": [
       "<table border=\"1\"><tbody><tr><td>1</td><td>8</td><td>15</td><td>22</td><td><span style=\"color: Red; font-weight:bold\">29</span></td><td>36</td><td><span style=\"color: Red; font-weight:bold\">43</span></td><td>50</td><td>57</td><td>64</td></tr><tr><td><span style=\"color: Red; font-weight:bold\">2</span></td><td>9</td><td>16</td><td><span style=\"color: Red; font-weight:bold\">23</span></td><td>30</td><td><span style=\"color: Red; font-weight:bold\">37</span></td><td>44</td><td>51</td><td>58</td><td>65</td></tr><tr><td><span style=\"color: Red; font-weight:bold\">3</span></td><td>10</td><td><span style=\"color: Red; font-weight:bold\">17</span></td><td>24</td><td><span style=\"color: Red; font-weight:bold\">31</span></td><td>38</td><td>45</td><td>52</td><td><span style=\"color: Red; font-weight:bold\">59</span></td><td>66</td></tr><tr><td>4</td><td><span style=\"color: Red; font-weight:bold\">11</span></td><td>18</td><td>25</td><td>32</td><td>39</td><td>46</td><td><span style=\"color: Red; font-weight:bold\">53</span></td><td>60</td><td><span style=\"color: Red; font-weight:bold\">67</span></td></tr><tr><td><span style=\"color: Red; font-weight:bold\">5</span></td><td>12</td><td><span style=\"color: Red; font-weight:bold\">19</span></td><td>26</td><td>33</td><td>40</td><td><span style=\"color: Red; font-weight:bold\">47</span></td><td>54</td><td><span style=\"color: Red; font-weight:bold\">61</span></td><td>68</td></tr><tr><td>6</td><td><span style=\"color: Red; font-weight:bold\">13</span></td><td>20</td><td>27</td><td>34</td><td><span style=\"color: Red; font-weight:bold\">41</span></td><td>48</td><td>55</td><td>62</td><td>69</td></tr><tr><td><span style=\"color: Red; font-weight:bold\">7</span></td><td>14</td><td>21</td><td>28</td><td>35</td><td>42</td><td>49</td><td>56</td><td>63</td><td>70</td></tr></tbody></table>"
      ]
     },
     "execution_count": 9,
     "metadata": {},
     "output_type": "execute_result"
    }
   ],
   "source": [
    "#% html\n",
    "my $n = 70;\n",
    "\n",
    "my @highlight = (1..$n).map({ $_ == next-prime($_ - 1) ?? $_ !! Empty })».Str;\n",
    "\n",
    "(1...$n)\n",
    "==> to-html(:10multi-column)\n",
    "==> html-table-highlight(:@highlight, c => 'Red', w => 'bold')"
   ]
  },
  {
   "cell_type": "markdown",
   "metadata": {},
   "source": [
    "Visualize the [sieve of Eratosthenes](https://en.wikipedia.org/wiki/Sieve_of_Eratosthenes) for the first 5 primes:"
   ]
  },
  {
   "cell_type": "code",
   "execution_count": null,
   "metadata": {},
   "outputs": [],
   "source": [
    "#% js\n",
    "my @data = \n",
    "(0, 0.1 ... 30).map( -> $x { \n",
    "                         (1..10).map( -> $n { %( \n",
    "                                group => next-prime($n), \n",
    "                                :$x, \n",
    "                                y => next-prime($n) * sin($x * π / next-prime($n))\n",
    "                            ) \n",
    "                        }) \n",
    "                }).flat(1);\n",
    "\n",
    "js-d3-list-line-plot(@data, background => 'none')"
   ]
  },
  {
   "cell_type": "markdown",
   "metadata": {},
   "source": [
    "Plot a version of [Ulam spiral](https://en.wikipedia.org/wiki/Ulam_spiral) of the distance to the next prime:"
   ]
  },
  {
   "cell_type": "code",
   "execution_count": null,
   "metadata": {},
   "outputs": [],
   "source": [
    "#% js\n",
    "my @mat = spiral-lattice(101).deepmap({ next-prime($_) - $_ });\n",
    "js-d3-matrix-plot(@mat, width => 400, height => 400, :!grid-lines, color-palette => 'Turbo', :!tooltip)"
   ]
  },
  {
   "cell_type": "markdown",
   "metadata": {},
   "source": [
    "### Sunflower pattern"
   ]
  },
  {
   "cell_type": "markdown",
   "metadata": {},
   "source": [
    "Sunflower seed representation of `next-prime`:"
   ]
  },
  {
   "cell_type": "code",
   "execution_count": null,
   "metadata": {},
   "outputs": [],
   "source": [
    "my @sunflower = (1..15_000).map({ .&next-prime }).unique.map({\n",
    "    my $a = $_;\n",
    "    my $angle = $a * 2 * π / ϕ²;\n",
    "    { x => sqrt($a) * cos($angle), y => sqrt($a) * sin($angle), group => ($a mod 4).Str }\n",
    "});\n",
    "\n",
    "deduce-type(@sunflower)"
   ]
  },
  {
   "cell_type": "markdown",
   "metadata": {},
   "source": [
    "**Remark:** $360^{\\circ} \\frac{1}{\\phi^2}$ is the [Golden angle](https://en.wikipedia.org/wiki/Golden_angle).\n",
    "Explanations how it manifests in sunflowers can be found in [\"Sunflowers and Fibonacci: Models of Efficiency\"](https://thatsmaths.com/2014/06/05/sunflowers-and-fibonacci-models-of-efficiency/)."
   ]
  },
  {
   "cell_type": "code",
   "execution_count": 10,
   "metadata": {},
   "outputs": [
    {
     "data": {
      "text/plain": [
       "137.508"
      ]
     },
     "execution_count": 10,
     "metadata": {},
     "output_type": "execute_result"
    }
   ],
   "source": [
    "360 / ϕ²\n",
    "==> {.round(.001)}()"
   ]
  },
  {
   "cell_type": "markdown",
   "metadata": {},
   "source": [
    "So, `next-prime` was used categorize the numbers. (E.g., using `unique` would drastically reduce the number of the plot points.)"
   ]
  },
  {
   "cell_type": "code",
   "execution_count": null,
   "metadata": {},
   "outputs": [],
   "source": [
    "#% js\n",
    "js-d3-list-plot(@sunflower, \n",
    "    background => 'none',\n",
    "    point-size => 4,\n",
    "    width => 450, height => 450, \n",
    "    :!axes, \n",
    "    :!legends,\n",
    "    color-scheme => 'Set1',\n",
    "    :5margins\n",
    ")"
   ]
  },
  {
   "cell_type": "markdown",
   "metadata": {},
   "source": [
    "----\n",
    "\n",
    "## Prime Ω"
   ]
  },
  {
   "cell_type": "markdown",
   "metadata": {},
   "source": [
    "- The function `prime-omega` gives the number of prime factors of an integer with multiplicity.\n",
    "\n",
    "- For a number $n=u p_1^{k_1}\\cdots  p_m^{k_m}$ with $u$ a unit and $p_i$ primes, `prime-omega(n)` returns $k_1 + ... + k_m$.\n",
    "\n",
    "<table border=\"1\">\n",
    "  <tbody>\n",
    "    <tr>\n",
    "      <th>n</th>\n",
    "      <td>1</td>\n",
    "      <td>2</td>\n",
    "      <td>3</td>\n",
    "      <td>4</td>\n",
    "      <td>5</td>\n",
    "      <td>6</td>\n",
    "      <td>7</td>\n",
    "      <td>8</td>\n",
    "      <td>9</td>\n",
    "      <td>10</td>\n",
    "    </tr>\n",
    "    <tr>\n",
    "      <th>Ω(n)</th>\n",
    "      <td>0</td>\n",
    "      <td>1</td>\n",
    "      <td>1</td>\n",
    "      <td>2</td>\n",
    "      <td>1</td>\n",
    "      <td>2</td>\n",
    "      <td>1</td>\n",
    "      <td>3</td>\n",
    "      <td>2</td>\n",
    "      <td>2</td>\n",
    "    </tr>\n",
    "  </tbody>\n",
    "</table>"
   ]
  },
  {
   "cell_type": "markdown",
   "metadata": {},
   "source": [
    "Make a sunflower based on $\\Omega(n)$:"
   ]
  },
  {
   "cell_type": "code",
   "execution_count": 11,
   "metadata": {},
   "outputs": [
    {
     "data": {
      "text/plain": [
       "Vector(Struct([x, y, z], [Num, Num, Rat]), 14999)"
      ]
     },
     "execution_count": 11,
     "metadata": {},
     "output_type": "execute_result"
    }
   ],
   "source": [
    "my @sunflower-omega = (2..15_000).map({\n",
    "    my $a = $_;\n",
    "    my $angle = $a * 2 * π / ϕ²;\n",
    "    my $c = prime-omega($a);\n",
    "    my $r =  1 / $c; \n",
    "    { x => sqrt($a) * cos($angle), y => sqrt($a) * sin($angle), z => $r }\n",
    "});\n",
    "\n",
    "deduce-type(@sunflower-omega)"
   ]
  },
  {
   "cell_type": "code",
   "execution_count": 12,
   "metadata": {},
   "outputs": [
    {
     "name": "stdout",
     "output_type": "stream",
     "text": [
      "+---------------------------------+---------------------------------+------------------------+\n",
      "| x                               | y                               | z                      |\n",
      "+---------------------------------+---------------------------------+------------------------+\n",
      "| Min    => -122.30891786428035   | Min    => -122.17272112835666   | Min    => 0.076923     |\n",
      "| 1st-Qu => -49.466130440789264   | 1st-Qu => -49.492968063007126   | 1st-Qu => 0.25         |\n",
      "| Mean   => -0.003954968431653382 | Mean   => 0.0017976929744950281 | Mean   => 0.4090222384 |\n",
      "| Median => 0.0016311568398971752 | Median => -0.019543555815533662 | Median => 0.333333     |\n",
      "| 3rd-Qu => 49.46686193489973     | 3rd-Qu => 49.47169683910898     | 3rd-Qu => 0.5          |\n",
      "| Max    => 122.37949120382149    | Max    => 122.21873544051819    | Max    => 1            |\n",
      "+---------------------------------+---------------------------------+------------------------+\n"
     ]
    }
   ],
   "source": [
    "sink records-summary(@sunflower-omega, field-names => <x y z>)"
   ]
  },
  {
   "cell_type": "markdown",
   "metadata": {},
   "source": [
    "Plot the sunflower as a bubble chart:"
   ]
  },
  {
   "cell_type": "code",
   "execution_count": null,
   "metadata": {},
   "outputs": [],
   "source": [
    "#% js\n",
    "my @sunflower-omega2 = @sunflower-omega.grep({ -100 ≤ $_<x> ≤ 100 && -70 ≤ $_<y> ≤ 70 });\n",
    "js-d3-bubble-chart(@sunflower-omega2,\n",
    "    z-range-min => 0.8, z-range-max => 3,\n",
    "    background => 'none',\n",
    "    width => 600, height => 600 * 0.7, \n",
    "    :!axes, \n",
    "    :!legends,\n",
    "    color-scheme => 'Dark2',\n",
    "    fill-color => 'DarkGray',\n",
    "    :5margins,\n",
    " )"
   ]
  },
  {
   "cell_type": "markdown",
   "metadata": {},
   "source": [
    "This is a modified version of the [spiral code by Jari Kirma here](https://community.wolfram.com/groups/-/m/t/102049) and [here](https://community.wolfram.com/groups/-/m/t/1543056)."
   ]
  }
 ],
 "metadata": {
  "kernelspec": {
   "display_name": "RakuChatbook",
   "language": "raku",
   "name": "raku"
  },
  "language_info": {
   "file_extension": ".raku",
   "mimetype": "text/x-raku",
   "name": "raku",
   "version": "6.d"
  }
 },
 "nbformat": 4,
 "nbformat_minor": 2
}
