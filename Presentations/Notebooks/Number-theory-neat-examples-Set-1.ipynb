{
 "cells": [
  {
   "cell_type": "markdown",
   "metadata": {},
   "source": [
    "# Number theory neat examples\n",
    "\n",
    "<span style=\"font-size: 16pt; font-style: italic; font-weight: bold\">Set 1 : </span>\n",
    "<span style=\"font-size: 16pt; font-style: italic;\">primes, Klauber triangle, Ulam spiral</span>\n",
    "\n",
    "Anton Antonov    \n",
    "[RakuForPrediction at WordPress](https://rakuforprediction.wordpress.com)   \n",
    "January 2025     "
   ]
  },
  {
   "cell_type": "code",
   "execution_count": null,
   "metadata": {},
   "outputs": [],
   "source": [
    "#% js\n",
    "    (^3).map({\n",
    "        my $ga = [ϕ, 1.2, 2.1].pick;\n",
    "        my $color-scheme = <Set1 Set2 Dark2 Tableau10 Observable10>.pick;\n",
    "\n",
    "        my @sunflower = (1..1_000).map({\n",
    "            my $a = $_;\n",
    "            my $angle = $a * 2 * π / $ga²;\n",
    "            { x => sqrt($a) * cos($angle), y => sqrt($a) * sin($angle), group => is-prime($a).Int.Str }\n",
    "        });\n",
    "\n",
    "        js-d3-list-plot(@sunflower, \n",
    "            background => 'none',\n",
    "            point-size => 4,\n",
    "            width => 220, height => 212, \n",
    "            margins => {:2top, :10bottom, :10left, :10right},\n",
    "            :!axes, \n",
    "            :!legends,\n",
    "            :$color-scheme\n",
    "        )    \n",
    "    }).join(\"\\n\")"
   ]
  },
  {
   "cell_type": "markdown",
   "metadata": {},
   "source": [
    "----\n",
    "\n",
    "## Introduction"
   ]
  },
  {
   "cell_type": "markdown",
   "metadata": {},
   "source": [
    "**What is a neat example?** : Concise or straightforward code that produces compelling visual or textual outputs."
   ]
  },
  {
   "cell_type": "markdown",
   "metadata": {},
   "source": [
    "**Maybe:** We know *neat* when we see it?"
   ]
  },
  {
   "cell_type": "markdown",
   "metadata": {},
   "source": [
    "The neat examples:\n",
    "\n",
    "- Showcase Raku programming.\n",
    "- Use functionalities of different Raku modules.\n",
    "- Give interesting perspectives on what is computationally possible."
   ]
  },
  {
   "cell_type": "markdown",
   "metadata": {},
   "source": [
    "Showcased:\n",
    "- All computational graph features discussed here are provided by [\"Math::NumberTheory\"](https://raku.land/zef:antononcube/Math::NumberTheory).   \n",
    "- Graph plotting -- with `js-d3-graph-plot` -- is provided by [\"JavaScript::D3\"](https://raku.land/zef:antononcube/JavaScript::D3).\n",
    "- Data manipulation functions are provided by [\"Data::Reshapers\"](https://raku.land/zef:antononcube/Data::Reshapers).\n",
    "- Data summarization functions are provided by [\"Data::Summarizers\"](https://raku.land/zef:antononcube/Data::Summarizers).\n",
    "- Data translation functions (like `to-html`) are provided by [\"Data::Translators\"](https://raku.land/zef:antononcube/Data::Translators)."
   ]
  },
  {
   "cell_type": "markdown",
   "metadata": {},
   "source": [
    "**Remark:** \n",
    "- Raku has built-in Number theory functions: `is-prime`, `mod`, `expmod`, `base`, `polymod`. \n",
    "- The package \"Math::NumberTheory\" extends those functions, adds (many) more.\n",
    "    - All Number theory functions showcased below are provided by that package."
   ]
  },
  {
   "cell_type": "markdown",
   "metadata": {},
   "source": [
    "-----\n",
    "\n",
    "## Setup"
   ]
  },
  {
   "cell_type": "code",
   "execution_count": null,
   "metadata": {},
   "outputs": [],
   "source": [
    "# Part of init.raku\n",
    "#use Math::NumberTheory;\n",
    "#use Math::NumberTheory::Utilities;"
   ]
  },
  {
   "cell_type": "code",
   "execution_count": null,
   "metadata": {},
   "outputs": [],
   "source": [
    "%% javascript\n",
    "require.config({\n",
    "     paths: {\n",
    "     d3: 'https://d3js.org/d3.v7.min'\n",
    "}});\n",
    "\n",
    "require(['d3'], function(d3) {\n",
    "     console.log(d3);\n",
    "});"
   ]
  },
  {
   "cell_type": "code",
   "execution_count": null,
   "metadata": {},
   "outputs": [],
   "source": [
    "#%js\n",
    "js-d3-list-line-plot(rand xx 40, background => 'none')"
   ]
  },
  {
   "cell_type": "code",
   "execution_count": null,
   "metadata": {},
   "outputs": [],
   "source": [
    "multi sub highlight-html-table(Str:D $s, @highlight, Str:D :$color = 'Orange', :$font-size = Whatever, :$font-weight = 'normal') { \n",
    "    return highlight-html-table($s, :@highlight, :$color, :$font-size);\n",
    "} \n",
    "\n",
    "multi sub highlight-html-table(Str:D $s, :h(:@highlight)!, Str:D :c(:$color) = 'Orange', :s(:$font-size) = Whatever, :w(:$font-weight) = 'normal') { \n",
    "    my $head = $font-size ~~ Numeric:D ?? \"<span style=\\\"color: $color; font-size:{$font-size}pt; font-weight:$font-weight\\\">\" !! \"<span style=\\\"color: $color; font-weight:$font-weight\\\">\";\n",
    "    reduce( \n",
    "        { $^a.subst( / <?after '<td>'> $^b <?before '</td>'> /, $head ~ $^b ~ '</span>', :g) }, \n",
    "        $s, |@highlight) \n",
    "}"
   ]
  },
  {
   "cell_type": "markdown",
   "metadata": {},
   "source": [
    "-----\n",
    "\n",
    "## Prime numbers"
   ]
  },
  {
   "cell_type": "markdown",
   "metadata": {},
   "source": [
    "A table of prime numbers:"
   ]
  },
  {
   "cell_type": "code",
   "execution_count": null,
   "metadata": {},
   "outputs": [],
   "source": [
    "#% html\n",
    "my $n = 11;\n",
    "\n",
    "my @highlight = (1..$n²).map({ is-prime($_) ?? $_ !! Empty })».Str;\n",
    "\n",
    "(1...$n²)\n",
    "==> to-html(multi-column => $n)\n",
    "==> highlight-html-table(:@highlight, c => 'Red', w => 'bold')"
   ]
  },
  {
   "cell_type": "code",
   "execution_count": null,
   "metadata": {},
   "outputs": [],
   "source": [
    "# π(x)\n",
    "prime-pi($n²)"
   ]
  },
  {
   "cell_type": "markdown",
   "metadata": {},
   "source": [
    "### [Gaussian integers](https://en.wikipedia.org/wiki/Gaussian_integer)"
   ]
  },
  {
   "cell_type": "markdown",
   "metadata": {},
   "source": [
    "A table of [Gaussian primes](https://en.wikipedia.org/wiki/Gaussian_integer#Gaussian_primes):"
   ]
  },
  {
   "cell_type": "code",
   "execution_count": null,
   "metadata": {},
   "outputs": [],
   "source": [
    "#% html\n",
    "my $n = 11;\n",
    "\n",
    "my @highlight = (1..$n²).map({ is-prime($_, :gaussian-integers) ?? $_ !! Empty })».Str;\n",
    "\n",
    "(1...$n²)\n",
    "==> to-html(multi-column => $n)\n",
    "==> highlight-html-table(:@highlight, c => 'Red', w => 'bold')"
   ]
  },
  {
   "cell_type": "markdown",
   "metadata": {},
   "source": [
    "The table above might look boring -- for any Gaussian prime $p$ holds: $p \\mod 4 = 3$."
   ]
  },
  {
   "cell_type": "code",
   "execution_count": null,
   "metadata": {},
   "outputs": [],
   "source": [
    "(^100).grep(*.&is-prime(:gaussian-integers)).map(* mod 4)"
   ]
  },
  {
   "cell_type": "markdown",
   "metadata": {},
   "source": [
    "Follows from the [Sum of two squares theorem](https://en.wikipedia.org/wiki/Sum_of_two_squares_theorem).\n",
    "Relates to [Fermat's theorem on sums of two squares](https://en.wikipedia.org/wiki/Fermat%27s_theorem_on_sums_of_two_squares)."
   ]
  },
  {
   "cell_type": "markdown",
   "metadata": {},
   "source": [
    "For example, $13 = 2² + 3² = (2 + 3i) (2 - 3i)$, hence $13$ is not a Gaussian prime."
   ]
  },
  {
   "cell_type": "markdown",
   "metadata": {},
   "source": [
    "**Remark:** A separate presentation with neat examples over Gaussian integers is planned."
   ]
  },
  {
   "cell_type": "markdown",
   "metadata": {},
   "source": [
    "-----\n",
    "\n",
    "## [Klauber triangle](https://en.wikipedia.org/wiki/Laurence_Monroe_Klauber#Mathematics)"
   ]
  },
  {
   "cell_type": "markdown",
   "metadata": {},
   "source": [
    "In the early 1930s, herpetologist [Laurence Klauber](https://en.wikipedia.org/wiki/Laurence_Monroe_Klauber) proposed a geometric arrangement of primes. \n",
    "(Similar to [Ulam's spiral](https://en.wikipedia.org/wiki/Ulam_spiral), discussed below.)"
   ]
  },
  {
   "cell_type": "code",
   "execution_count": null,
   "metadata": {},
   "outputs": [],
   "source": [
    "#%html\n",
    "my $n = 11;\n",
    "my $mat = triangle-matrix-embedding($n, missing-value => ' ', :dataset);\n",
    "\n",
    "$mat\n",
    "==> to-html(field-names => (^$mat.head.elems)».Str)\n",
    "==> highlight-html-table(h => (1..prime-pi($n²))».&prime».Str, c => 'Lime', w => 'bold')"
   ]
  },
  {
   "cell_type": "code",
   "execution_count": null,
   "metadata": {},
   "outputs": [],
   "source": [
    "#% js\n",
    "my @mat = triangle-matrix-embedding(101, :!dataset).deepmap({ is-prime($_) ?? 2 !! 0 });\n",
    "js-d3-matrix-plot(@mat, width => 800, height => 400, :!grid-lines, color-palette => 'Magma', :!tooltip)"
   ]
  },
  {
   "cell_type": "code",
   "execution_count": null,
   "metadata": {},
   "outputs": [],
   "source": [
    "#% js\n",
    "my $k = 51;\n",
    "my $color-palette = <Magma Cool YlOrRd>.pick;\n",
    "    my @mat = triangle-matrix-embedding($k, :!dataset).deepmap({ is-prime($_) ?? $_ !! 0 });\n",
    "\n",
    "    my $smat1 = Math::SparseMatrix.new(dense-matrix => @mat);\n",
    "    my @data1 = |rename-columns($smat1.tuples(:dataset), (<i j x> Z=> <x y z>).Hash);\n",
    "\n",
    "    my $smat2 = $smat1[$smat1.row-names.reverse;*];\n",
    "    my @data2 = |rename-columns($smat2.tuples(:dataset), (<i j x> Z=> <x y z>).Hash);\n",
    "\n",
    "    js-d3-matrix-plot(@data1, width => 450, height => 300, :!grid-lines, :$color-palette, :!tooltip)\n",
    "    ~\n",
    "    js-d3-matrix-plot(@data2, width => 450, height => 300, :!grid-lines, :$color-palette, :!tooltip)"
   ]
  },
  {
   "cell_type": "markdown",
   "metadata": {},
   "source": [
    "------\n",
    "\n",
    "## [Ulam spiral](https://en.wikipedia.org/wiki/Ulam_spiral)"
   ]
  },
  {
   "cell_type": "markdown",
   "metadata": {},
   "source": [
    "The Ulam spiral, also known as the prime spiral, is a visual representation of prime numbers created by mathematician Stanisław Ulam in 1963. It gained popularity through [Martin Gardner](https://en.wikipedia.org/wiki/Martin_Gardner)'s [Mathematical Games column](https://en.wikipedia.org/wiki/Martin_Gardner#Mathematical_Games_column) in Scientific American shortly after. \n",
    "The spiral is formed by arranging positive integers in a square spiral and highlighting the prime numbers."
   ]
  },
  {
   "cell_type": "markdown",
   "metadata": {},
   "source": [
    "**Remark:** Large fraction of the neat examples I plan to present use Ulam spiral."
   ]
  },
  {
   "cell_type": "markdown",
   "metadata": {},
   "source": [
    "Spiral lattice with highlighted primes:"
   ]
  },
  {
   "cell_type": "code",
   "execution_count": null,
   "metadata": {},
   "outputs": [],
   "source": [
    "#% html\n",
    "my $n = 11;\n",
    "spiral-lattice($n, end-corner => 'bottom-right', :dataset)\n",
    "==> to-html(field-names => (^$n)».Str)\n",
    "==> highlight-html-table(h => (1..prime-pi($n²))».&prime».Str, c => 'Lime', w => 'bold')"
   ]
  },
  {
   "cell_type": "markdown",
   "metadata": {},
   "source": [
    "Ulam spiral table:"
   ]
  },
  {
   "cell_type": "code",
   "execution_count": null,
   "metadata": {},
   "outputs": [],
   "source": [
    "#% html\n",
    "spiral-lattice($n, :dataset)\n",
    "==> { $_.deepmap({ is-prime($_) ?? $_ !! '' }) }()\n",
    "==> to-html(field-names => (^$n)».Str)"
   ]
  },
  {
   "cell_type": "code",
   "execution_count": null,
   "metadata": {},
   "outputs": [],
   "source": [
    "#% js\n",
    "my @mat = spiral-lattice(101).deepmap({ is-prime($_) ?? $_ !! 0 });\n",
    "js-d3-matrix-plot(@mat, width => 400, height => 400, :!grid-lines, color-palette => 'Viridis', :!tooltip)"
   ]
  },
  {
   "cell_type": "markdown",
   "metadata": {},
   "source": [
    "**Remark:** There are so called [\"prime generating polynomials\"](https://en.wikipedia.org/wiki/Formula_for_primes#Prime_formulas_and_polynomial_functions)."
   ]
  },
  {
   "cell_type": "markdown",
   "metadata": {},
   "source": [
    "Diagonals for $4 x^2 - 2 x + 41$:"
   ]
  },
  {
   "cell_type": "code",
   "execution_count": null,
   "metadata": {},
   "outputs": [],
   "source": [
    "#% js\n",
    "my $n = 201;\n",
    "my @highlight = (1..$n).map({ 4 * $_ ** 2 - 2 * $_ + 41 })».Int;\n",
    "my @mat = spiral-lattice($n).deepmap({ is-prime($_) ?? ($_ ∈ @highlight ?? 3 !! 1) !! 0 });\n",
    "js-d3-matrix-plot(@mat, width => 400, height => 400, :!grid-lines, color-palette => 'Viridis', :!tooltip)"
   ]
  },
  {
   "cell_type": "markdown",
   "metadata": {},
   "source": [
    "-----\n",
    "\n",
    "## Next prime"
   ]
  },
  {
   "cell_type": "markdown",
   "metadata": {},
   "source": [
    "The function `next-prime(x)` gives the smallest prime above $x$."
   ]
  },
  {
   "cell_type": "markdown",
   "metadata": {},
   "source": [
    "**Remark:** The following functions are closely related: `is-prime`, `next-prime`, `prime-pi`."
   ]
  },
  {
   "cell_type": "markdown",
   "metadata": {},
   "source": [
    "Highlight the sequence of primes using `next-prime`:"
   ]
  },
  {
   "cell_type": "code",
   "execution_count": null,
   "metadata": {},
   "outputs": [],
   "source": [
    "#% html\n",
    "my $n = 70;\n",
    "\n",
    "my @highlight = (1..$n).map({ next-prime($_ - 1) == $_ ?? $_ !! Empty })».Str;\n",
    "\n",
    "(1...$n)\n",
    "==> to-html(:10multi-column)\n",
    "==> highlight-html-table(:@highlight, c => 'Red', w => 'bold')"
   ]
  },
  {
   "cell_type": "markdown",
   "metadata": {},
   "source": [
    "Visualize the [sieve of Eratosthenes](https://en.wikipedia.org/wiki/Sieve_of_Eratosthenes) for the first 5 primes:"
   ]
  },
  {
   "cell_type": "code",
   "execution_count": null,
   "metadata": {},
   "outputs": [],
   "source": [
    "#% js\n",
    "my @data = \n",
    "(0, 0.1 ... 30).map( -> $x { \n",
    "                         (1..10).map( -> $n { %( \n",
    "                                group => next-prime($n), \n",
    "                                :$x, \n",
    "                                y => next-prime($n) * sin($x * π / next-prime($n))\n",
    "                            ) \n",
    "                        }) \n",
    "                }).flat(1);\n",
    "\n",
    "js-d3-list-line-plot(@data, background => 'none')"
   ]
  },
  {
   "cell_type": "markdown",
   "metadata": {},
   "source": [
    "Plot a version of [Ulam spiral](https://en.wikipedia.org/wiki/Ulam_spiral) of the distance to the next prime:"
   ]
  },
  {
   "cell_type": "code",
   "execution_count": null,
   "metadata": {},
   "outputs": [],
   "source": [
    "#% js\n",
    "my @mat = spiral-lattice(101).deepmap({ next-prime($_) - $_ });\n",
    "js-d3-matrix-plot(@mat, width => 400, height => 400, :!grid-lines, color-palette => 'Turbo', :!tooltip)"
   ]
  },
  {
   "cell_type": "markdown",
   "metadata": {},
   "source": [
    "Sunflower seed representation of `next-prime`:"
   ]
  },
  {
   "cell_type": "code",
   "execution_count": null,
   "metadata": {},
   "outputs": [],
   "source": [
    "my @sunflower = (1..15_000).map({ .&next-prime }).unique.map({\n",
    "    my $a = $_;\n",
    "    my $angle = $a * 2 * π / ϕ²;\n",
    "    { x => sqrt($a) * cos($angle), y => sqrt($a) * sin($angle), group => ($a mod 4).Str }\n",
    "});\n",
    "\n",
    "deduce-type(@sunflower)"
   ]
  },
  {
   "cell_type": "markdown",
   "metadata": {},
   "source": [
    "**Remark:** $360^{\\circ} \\frac{1}{\\phi^2}$ is the [Golden angle](https://en.wikipedia.org/wiki/Golden_angle).\n",
    "Explanations how it manifests in sunflowers can be found in [\"Sunflowers and Fibonacci: Models of Efficiency\"](https://thatsmaths.com/2014/06/05/sunflowers-and-fibonacci-models-of-efficiency/)."
   ]
  },
  {
   "cell_type": "code",
   "execution_count": null,
   "metadata": {},
   "outputs": [],
   "source": [
    "360 / ϕ²\n",
    "==> {.round(.001)}()"
   ]
  },
  {
   "cell_type": "markdown",
   "metadata": {},
   "source": [
    "So, `next-prime` was used categorize the numbers. (E.g., using `unique` would drastically reduce the number of the plot points.)"
   ]
  },
  {
   "cell_type": "code",
   "execution_count": null,
   "metadata": {},
   "outputs": [],
   "source": [
    "#% js\n",
    "js-d3-list-plot(@sunflower, \n",
    "    background => 'none',\n",
    "    point-size => 4,\n",
    "    width => 450, height => 450, \n",
    "    :!axes, \n",
    "    :!legends,\n",
    "    color-scheme => 'Set1'\n",
    ")"
   ]
  }
 ],
 "metadata": {
  "kernelspec": {
   "display_name": "RakuChatbook",
   "language": "raku",
   "name": "raku"
  },
  "language_info": {
   "file_extension": ".raku",
   "mimetype": "text/x-raku",
   "name": "raku",
   "version": "6.d"
  }
 },
 "nbformat": 4,
 "nbformat_minor": 2
}
