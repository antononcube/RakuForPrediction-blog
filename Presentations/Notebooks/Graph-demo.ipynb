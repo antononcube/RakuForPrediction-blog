{
 "cells": [
  {
   "cell_type": "markdown",
   "metadata": {},
   "source": [
    "# Graph demo in Raku\n",
    "\n",
    "Anton Antonov  \n",
    "[RakuForPrediction at WordPress](https://rakuforprediction.wordpress.com)   \n",
    "[RakuForPrediction-book at GitHub](https://github.com/antononcube/RakuForPrediction-book)      \n",
    "June 2024  "
   ]
  },
  {
   "cell_type": "code",
   "execution_count": null,
   "metadata": {},
   "outputs": [],
   "source": [
    "#%js\n",
    "    my $gl = Graph::Random.new: Graph::Distribution::WattsStrogatz.new(50,0.1);\n",
    "    \n",
    "    my @res = $gl.find-shortest-path('1','20');\n",
    "\n",
    "    $gl.edges(:dataset) \n",
    "    ==> js-d3-graph-plot(\n",
    "        highlight => [|@res, |Graph::Path.new(@res).edges],\n",
    "        :$background, \n",
    "        :$title-color, \n",
    "        :$edge-thickness,\n",
    "        :$vertex-size,\n",
    "        width => 600,\n",
    "        force => {charge => {strength => -160, iterations => 2}, y => {strength => 0.2}, collision => {radius => 6, iterations => 10}, link => {distance => 4}}\n",
    "        )"
   ]
  },
  {
   "cell_type": "markdown",
   "metadata": {},
   "source": [
    "-----\n",
    "\n",
    "## Introduction"
   ]
  },
  {
   "cell_type": "markdown",
   "metadata": {},
   "source": [
    "This Jupyter notebook -- a [Raku chatbook](https://raku.land/zef:antononcube/Jupyter::Chatbook) -- showcases the data and functionalities of the Raku package [\"Graph\"](https://raku.land/zef:antononcube/Graph).\n",
    "\n",
    "The graphs are displayed with the Raku package [\"JavaScript::D3\"](https://raku.land/zef:antononcube/JavaScript:D3).  \n",
    "(Using [D3.js force](https://d3js.org/d3-force).)"
   ]
  },
  {
   "cell_type": "markdown",
   "metadata": {},
   "source": [
    "----\n",
    "\n",
    "## Presentation plan"
   ]
  },
  {
   "cell_type": "code",
   "execution_count": null,
   "metadata": {},
   "outputs": [],
   "source": [
    "#% mermaid, background=1F1F1F\n",
    "mindmap\n",
    "    root((Graph demo))\n",
    "        (**0** Setup)\n",
    "            Graph\n",
    "            JavaScript::D3\n",
    "        (**1** Graph gallery)\n",
    "        (**2** Graph creation)\n",
    "            Paremeterized\n",
    "            Individual\n",
    "            Random\n",
    "                Simple\n",
    "                Distribution based\n",
    "        (**3** Path finding)\n",
    "            Shortest paths\n",
    "            Many or all paths\n",
    "        (Other)    \n",
    "            Metrics\n",
    "            Profiling\n",
    "            LLM Graph assistant\n",
    "                Definitions\n",
    "                Properties"
   ]
  },
  {
   "cell_type": "markdown",
   "metadata": {},
   "source": [
    "------\n",
    "\n",
    "## Setup"
   ]
  },
  {
   "cell_type": "markdown",
   "metadata": {},
   "source": [
    "Here are loaded the packages used in the rest of notebook:"
   ]
  },
  {
   "cell_type": "code",
   "execution_count": null,
   "metadata": {},
   "outputs": [],
   "source": [
    "use Graph;\n",
    "\n",
    "use Graph::Circulant;\n",
    "use Graph::Complete;\n",
    "use Graph::CompleteKaryTree;\n",
    "use Graph::Cycle;\n",
    "use Graph::Grid;\n",
    "use Graph::Hypercube;\n",
    "use Graph::KnightTour;\n",
    "use Graph::Star;\n",
    "use Graph::Path;\n",
    "use Graph::Petersen;\n",
    "use Graph::Wheel;\n",
    "\n",
    "use Graph::Distribution;\n",
    "use Graph::Random;\n",
    "\n",
    "use Data::Reshapers;\n",
    "use Data::Summarizers;\n",
    "use Data::TypeSystem;\n",
    "use Data::Translators;\n",
    "use Data::Geographics;\n",
    "use Math::DistanceFunctions;\n",
    "use Math::Nearest;\n",
    "use Hash::Merge;\n",
    "\n",
    "use JavaScript::D3;\n",
    "use WWW::MermaidInk;"
   ]
  },
  {
   "cell_type": "markdown",
   "metadata": {},
   "source": [
    "### JavaScript"
   ]
  },
  {
   "cell_type": "markdown",
   "metadata": {},
   "source": [
    "Here we prepare the notebook to visualize with JavaScript:"
   ]
  },
  {
   "cell_type": "code",
   "execution_count": null,
   "metadata": {},
   "outputs": [],
   "source": [
    "#% javascript\n",
    "require.config({\n",
    "     paths: {\n",
    "     d3: 'https://d3js.org/d3.v7.min'\n",
    "}});\n",
    "\n",
    "require(['d3'], function(d3) {\n",
    "     console.log(d3);\n",
    "});"
   ]
  },
  {
   "cell_type": "markdown",
   "metadata": {},
   "source": [
    "Verification:"
   ]
  },
  {
   "cell_type": "code",
   "execution_count": null,
   "metadata": {},
   "outputs": [],
   "source": [
    "#% js\n",
    "js-d3-list-line-plot(10.rand xx 40, background => 'none', stroke-width => 2)"
   ]
  },
  {
   "cell_type": "markdown",
   "metadata": {},
   "source": [
    "Here we set a collection of visualization variables:"
   ]
  },
  {
   "cell_type": "code",
   "execution_count": null,
   "metadata": {},
   "outputs": [],
   "source": [
    "my $title-color = 'Silver';\n",
    "my $stroke-color = 'SlateGray';\n",
    "my $tooltip-color = 'LightBlue';\n",
    "my $tooltip-background-color = 'none';\n",
    "my $background = '1F1F1F';\n",
    "my $color-scheme = 'schemeTableau10';\n",
    "my $edge-thickness = 3;\n",
    "my $vertex-size = 6;\n",
    "my $mmd-theme = q:to/END/;\n",
    "%%{\n",
    "  init: {\n",
    "    'theme': 'forest',\n",
    "    'themeVariables': {\n",
    "      'lineColor': 'Ivory'\n",
    "    }\n",
    "  }\n",
    "}%%\n",
    "END\n",
    "my %force = collision => {iterations => 0, radius => 10},link => {distance => 180};\n",
    "my %force2 = charge => {strength => -30, iterations => 4}, collision => {radius => 50, iterations => 4}, link => {distance => 30};\n",
    "\n",
    "my %opts = :$background, :$title-color, :$edge-thickness, :$vertex-size;"
   ]
  },
  {
   "cell_type": "markdown",
   "metadata": {},
   "source": [
    "### LLM graph assistant"
   ]
  },
  {
   "cell_type": "code",
   "execution_count": null,
   "metadata": {},
   "outputs": [],
   "source": [
    "#% chat ge prompt, model=gpt-3.5-turbo, max-tokens=4096, temperature=0.4\n",
    "You are very knowledgeable expert on Graph theory,\n",
    "You know the Graph theory Wikipedia pages better than anyone.\n",
    "Your answers to Graph theory related questions are concise and clear.\n",
    "You provide clear examples if relevant to your answers.\n",
    "If specifically requested you can provide code for making or displaying Graphs.\n",
    "Unless specifically specified otherwise, you use Wolfram Language (aka Mathematica) for your code examples.\n",
    "Unless specifically requested, you do not include code in your answers."
   ]
  },
  {
   "cell_type": "markdown",
   "metadata": {},
   "source": [
    "------\n",
    "\n",
    "## Graph gallery"
   ]
  },
  {
   "cell_type": "code",
   "execution_count": null,
   "metadata": {},
   "outputs": [],
   "source": [
    "my %namedGraphs = \n",
    "    Barabasi-Albert => Graph::Random.new(Graph::Distribution::BarabasiAlbert.new(20,2)),\n",
    "    Circulant => Graph::Circulant.new(7, 3),\n",
    "    Complete => Graph::Complete.new(5),\n",
    "    CompleteKaryTree => Graph::CompleteKaryTree.new(3,3),\n",
    "    Cycle => Graph::Cycle.new(8),\n",
    "    Grid => Graph::Grid.new(4,3),\n",
    "    Hypercube => Graph::Hypercube.new(2),\n",
    "    KnightTour => Graph::KnightTour.new(6,4),\n",
    "    Path => Graph::Path.new('a'..'g', :directed),\n",
    "    \"Price's model\" => Graph::Random.new(Graph::Distribution::Price.new(14, 2, 1)),\n",
    "    Petersen => Graph::Petersen.new(),\n",
    "    Random => Graph::Random.new(10,11),\n",
    "    Star => Graph::Star.new(5),\n",
    "    Watts-Strogatz => Graph::Random.new(Graph::Distribution::WattsStrogatz.new(20,0.07)),\n",
    "    Wheel => Graph::Wheel.new(7, :!directed);\n",
    "\n",
    ".say for %namedGraphs"
   ]
  },
  {
   "cell_type": "code",
   "execution_count": null,
   "metadata": {},
   "outputs": [],
   "source": [
    "#%js\n",
    "%namedGraphs.pairs.sort(*.key).map({ \n",
    "    js-d3-graph-plot(\n",
    "        $_.value.edges(:dataset),\n",
    "        :$background, :$title-color, :$edge-thickness, :$vertex-size,\n",
    "        directed => $_.value.directed,\n",
    "        title => $_.key, \n",
    "        width => 400, \n",
    "        force => {charge => {strength => -200}, link => {minDistance => 40}}\n",
    "    )\n",
    " }).join(\"\\n\")"
   ]
  },
  {
   "cell_type": "markdown",
   "metadata": {},
   "source": [
    "------\n",
    "\n",
    "## Graph creation (1-by-1)"
   ]
  },
  {
   "cell_type": "markdown",
   "metadata": {},
   "source": [
    "### Complete graph"
   ]
  },
  {
   "cell_type": "code",
   "execution_count": null,
   "metadata": {},
   "outputs": [],
   "source": [
    "my $g = Graph::Complete.new(5,'node:');"
   ]
  },
  {
   "cell_type": "code",
   "execution_count": null,
   "metadata": {},
   "outputs": [],
   "source": [
    "mermaid-ink($mmd-theme ~ \"\\n\" ~ $g.mermaid, background => '1F1F1F', format => 'svg')"
   ]
  },
  {
   "cell_type": "code",
   "execution_count": null,
   "metadata": {},
   "outputs": [],
   "source": [
    "#%js\n",
    "$g.edges(:dataset) \n",
    "==> js-d3-graph-plot(\n",
    "        :$background, \n",
    "        :$title-color, \n",
    "        width => 700, \n",
    "        :$edge-thickness,\n",
    "        :$vertex-size,\n",
    "        force => {charge => {strength => -1800, iterations => 2}, collision => {radius => 40, iterations => 10}, link => {distance => 310}}\n",
    "    )"
   ]
  },
  {
   "cell_type": "code",
   "execution_count": null,
   "metadata": {},
   "outputs": [],
   "source": [
    "#% html\n",
    "$g.edges(:dataset) ==> to-html(field-names => <from to weight>)"
   ]
  },
  {
   "cell_type": "markdown",
   "metadata": {},
   "source": [
    "## Circulant graph"
   ]
  },
  {
   "cell_type": "code",
   "execution_count": null,
   "metadata": {},
   "outputs": [],
   "source": [
    "#%js\n",
    "my $g = Graph::Circulant.new(5, 2);\n",
    "\n",
    "$g.edges(:dataset) \n",
    "==> js-d3-graph-plot(\n",
    "        :$background, \n",
    "        title-color => 'Silver',  \n",
    "        width => 700, \n",
    "        :$edge-thickness,\n",
    "        :$vertex-size,\n",
    "        :%force\n",
    "    )"
   ]
  },
  {
   "cell_type": "markdown",
   "metadata": {},
   "source": [
    "### Complete K-ary tree"
   ]
  },
  {
   "cell_type": "code",
   "execution_count": null,
   "metadata": {},
   "outputs": [],
   "source": [
    "#%js\n",
    "my $g = Graph::CompleteKaryTree.new(n => 4, k => 3, prefix => '', :directed);\n",
    "\n",
    "$g.edges(:dataset) \n",
    "==> js-d3-graph-plot(\n",
    "        :$background, \n",
    "        title-color => 'none',  \n",
    "        width => 700, \n",
    "        :$edge-thickness,\n",
    "        :$vertex-size,\n",
    "        vertex-color => 'SlateBlue',\n",
    "        :directed,\n",
    "        force => {charge => {strength => -180, iterations => 2}, collision => {radius => 4, iterations => 1}, link => {minDistance => 10}}\n",
    "    )"
   ]
  },
  {
   "cell_type": "markdown",
   "metadata": {},
   "source": [
    "### Cycle graph"
   ]
  },
  {
   "cell_type": "code",
   "execution_count": null,
   "metadata": {},
   "outputs": [],
   "source": [
    "#%js\n",
    "my $g = Graph::Cycle.new(9, 'c');\n",
    "\n",
    "$g.edges(:dataset) \n",
    "==> js-d3-graph-plot(\n",
    "        :$background, \n",
    "        :$title-color, \n",
    "        width => 700, \n",
    "        :$edge-thickness,\n",
    "        :$vertex-size, \n",
    "        force => {charge => {strength => -1200, iterations => 2}, collision => {radius => 50, iterations => 1}, link => {minDistance => 30}}\n",
    "    )"
   ]
  },
  {
   "cell_type": "markdown",
   "metadata": {},
   "source": [
    "### Grid graph"
   ]
  },
  {
   "cell_type": "code",
   "execution_count": null,
   "metadata": {},
   "outputs": [],
   "source": [
    "#%js\n",
    "my $g = Graph::Grid.new(rows => 5, columns => 7):directed;\n",
    "\n",
    "$g.edges(:dataset) \n",
    "==> js-d3-graph-plot(\n",
    "    :$background, \n",
    "    :$title-color, \n",
    "    width => 800, \n",
    "    :$edge-thickness,\n",
    "    :$vertex-size,\n",
    "    force => {charge => {strength => -400, iterations => 2}, collision => {radius => 4, iterations => 1}, link => {distance => 0}}\n",
    "):d"
   ]
  },
  {
   "cell_type": "markdown",
   "metadata": {},
   "source": [
    "### Hypercube"
   ]
  },
  {
   "cell_type": "code",
   "execution_count": null,
   "metadata": {},
   "outputs": [],
   "source": [
    "#%js\n",
    "my $g = Graph::Hypercube.new(3);\n",
    "\n",
    "$g.edges(:dataset) \n",
    "==> js-d3-graph-plot(\n",
    "    :$background, \n",
    "    :$title-color, \n",
    "    width => 600, \n",
    "    :$edge-thickness,\n",
    "    :$vertex-size,\n",
    "    force => {charge => {strength => -2000, iterations => 2}, collision => {radius => 60, iterations => 1}, link => {distance => 0}}\n",
    ")"
   ]
  },
  {
   "cell_type": "markdown",
   "metadata": {},
   "source": [
    "### Knight tour"
   ]
  },
  {
   "cell_type": "code",
   "execution_count": null,
   "metadata": {},
   "outputs": [],
   "source": [
    "#%js\n",
    "my $g = Graph::KnightTour.new(4, 6, 'node:');\n",
    "\n",
    "$g.edges(:dataset) \n",
    "==> js-d3-graph-plot(\n",
    "        :$background, \n",
    "        :$title-color, \n",
    "        height => 800, \n",
    "        :$edge-thickness, \n",
    "        :$vertex-size, \n",
    "        force => {x => {strength => .1}, y => {strength => .1}, charge => {strength => -300}, collision => {radius => 20}}\n",
    "    )"
   ]
  },
  {
   "cell_type": "markdown",
   "metadata": {},
   "source": [
    "Plot made with Mathematica:"
   ]
  },
  {
   "cell_type": "markdown",
   "metadata": {},
   "source": [
    "![](data:image/jpeg;base64,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)"
   ]
  },
  {
   "cell_type": "markdown",
   "metadata": {},
   "source": [
    "### Petersen graph"
   ]
  },
  {
   "cell_type": "code",
   "execution_count": null,
   "metadata": {},
   "outputs": [],
   "source": [
    "#%js\n",
    "my $g = Graph::Petersen.new(prefix => '');\n",
    "\n",
    "$g.edges(:dataset) \n",
    "==> js-d3-graph-plot(\n",
    "        :$background, \n",
    "        :$title-color, \n",
    "        width => 500, \n",
    "        :$edge-thickness,\n",
    "        :$vertex-size,\n",
    "        :!directed,\n",
    "        force => {charge => {strength => -600}, link => {minDistance => 40}}\n",
    "    )"
   ]
  },
  {
   "cell_type": "markdown",
   "metadata": {},
   "source": [
    "### Star"
   ]
  },
  {
   "cell_type": "code",
   "execution_count": null,
   "metadata": {},
   "outputs": [],
   "source": [
    "#%js\n",
    "my $g = Graph::Star.new(rays => 7, center => 'hub', prefix => 's:', :directed);\n",
    "\n",
    "$g.edges(:dataset) \n",
    "==> js-d3-graph-plot(\n",
    "        :$background, \n",
    "        :$title-color, \n",
    "        width => 600, \n",
    "        :$edge-thickness,\n",
    "        :$vertex-size,\n",
    "        :directed,\n",
    "        force => {charge => {strength => -100, iterations => 2}, collision => {radius => 70, iterations => 10}, link => {minDistance => 20}}\n",
    "    )"
   ]
  },
  {
   "cell_type": "markdown",
   "metadata": {},
   "source": [
    "### Wheel graph"
   ]
  },
  {
   "cell_type": "code",
   "execution_count": null,
   "metadata": {},
   "outputs": [],
   "source": [
    "#%js\n",
    "my $g = Graph::Wheel.new(spokes => 12, center => 'hub', prefix => 's:', :!directed);\n",
    "\n",
    "$g.edges(:dataset) \n",
    "==> js-d3-graph-plot(\n",
    "        :$background, \n",
    "        :$title-color, \n",
    "        width => 700, \n",
    "        :$edge-thickness,\n",
    "        :$vertex-size,\n",
    "        vertex-color => 'LightBlue',\n",
    "        directed => $g.directed,\n",
    "        force => {charge => {strength => -1800, iterations => 2}, collision => {radius => 10, iterations => 1}, link => {minDistance => 3}}\n",
    "    )"
   ]
  },
  {
   "cell_type": "markdown",
   "metadata": {},
   "source": [
    "Wheel graphs are Hamiltonian:"
   ]
  },
  {
   "cell_type": "code",
   "execution_count": null,
   "metadata": {},
   "outputs": [],
   "source": [
    "$g.find-hamiltonian-path('hub', 's:1').push('hub')"
   ]
  },
  {
   "cell_type": "markdown",
   "metadata": {},
   "source": [
    "### Random graph"
   ]
  },
  {
   "cell_type": "code",
   "execution_count": null,
   "metadata": {},
   "outputs": [],
   "source": [
    "#%js\n",
    "my $gr = Graph::Random.new(100, 140, :directed);\n",
    "\n",
    "js-d3-graph-plot($gr.edges, :$background, :$title-color, edge-thickness => 3, vertex-size => 4, width => 700)\n"
   ]
  },
  {
   "cell_type": "markdown",
   "metadata": {},
   "source": [
    "-----\n",
    "\n",
    "## Random graphs by distribution specs"
   ]
  },
  {
   "cell_type": "code",
   "execution_count": null,
   "metadata": {},
   "outputs": [],
   "source": [
    "my @dists =\n",
    "    |(Graph::Distribution::Uniform.new((10..20).pick, (20..100).pick) xx 2), \n",
    "    Graph::Distribution::BarabasiAlbert.new(20,2),\n",
    "    Graph::Distribution::Bernoulli.new(16,0.09),\n",
    "    Graph::Distribution::Bernoulli.new(20,0.3),\n",
    "    Graph::Distribution::WattsStrogatz.new(20,0.07),\n",
    "    Graph::Distribution::Price.new(20, 2, 1);\n",
    "\n",
    ".say for @dists"
   ]
  },
  {
   "cell_type": "code",
   "execution_count": null,
   "metadata": {},
   "outputs": [],
   "source": [
    "#% js\n",
    "my %opts = :$title-color, :$background, force => {charge => {strength => -120}, link => {minDistance => 10}}, width => 600;\n",
    "@dists\n",
    "    .map({ Graph::Random.new($_) })\n",
    "    .map({ js-d3-graph-plot($_.edges(:dataset), \n",
    "            :$background, \n",
    "            :$title-color, \n",
    "            :$edge-thickness, :$vertex-size,\n",
    "            width => 600,\n",
    "            force => {charge => {strength => -170}}, \n",
    "            directed => $_.directed, title => $_.dist.gist) }).join(\"\\n\")"
   ]
  },
  {
   "cell_type": "markdown",
   "metadata": {},
   "source": [
    "### [Barabasi-Albert model](https://en.wikipedia.org/wiki/Barabási–Albert_model)"
   ]
  },
  {
   "cell_type": "code",
   "execution_count": null,
   "metadata": {},
   "outputs": [],
   "source": [
    "#% js\n",
    "my $gr = Graph::Random.new(Graph::Distribution::BarabasiAlbert.new(40, 2));\n",
    "js-d3-graph-plot($gr.edges(:dataset), \n",
    "    width => 800, \n",
    "    :$background, \n",
    "    :$title-color, \n",
    "    :$edge-thickness,\n",
    "    :$vertex-size,\n",
    "    force => {charge => {strength => -300}, collision => {radius => 20}}\n",
    ")"
   ]
  },
  {
   "cell_type": "markdown",
   "metadata": {},
   "source": [
    "### [Price's model](https://en.wikipedia.org/wiki/Price's_model)"
   ]
  },
  {
   "cell_type": "code",
   "execution_count": null,
   "metadata": {},
   "outputs": [],
   "source": [
    "#% js\n",
    "my $gr = Graph::Random.new(Graph::Distribution::Price.new(40, 2, 1));\n",
    "js-d3-graph-plot($gr.edges(:dataset), \n",
    "    width => 800, \n",
    "    :$background, \n",
    "    :$title-color, \n",
    "    :$edge-thickness,\n",
    "    :$vertex-size,\n",
    "    directed => $gr.directed,\n",
    "    force => {charge => {strength => -600}, y => {strength => 0.5}, collision => {radius => 40}}\n",
    ")"
   ]
  },
  {
   "cell_type": "markdown",
   "metadata": {},
   "source": [
    "### [Watts-Strogatz model](https://en.wikipedia.org/wiki/Watts–Strogatz_model)"
   ]
  },
  {
   "cell_type": "code",
   "execution_count": null,
   "metadata": {},
   "outputs": [],
   "source": [
    "#% js\n",
    "my $gr = Graph::Random.new(Graph::Distribution::WattsStrogatz.new(50, 0.07));\n",
    "js-d3-graph-plot($gr.edges(:dataset), \n",
    "        width => 800, \n",
    "        :$background, \n",
    "        :$title-color, \n",
    "        :$edge-thickness,\n",
    "        :$vertex-size,\n",
    "        directed => $gr.directed,\n",
    "        force => {charge => {strength => -180, iterations => 2}, collision => {radius => 10, iterations => 1}, link => {minDistance => 3}}\n",
    ")"
   ]
  },
  {
   "cell_type": "markdown",
   "metadata": {},
   "source": [
    "------\n",
    "\n",
    "## Large graph path finding"
   ]
  },
  {
   "cell_type": "markdown",
   "metadata": {},
   "source": [
    "### Random graph"
   ]
  },
  {
   "cell_type": "markdown",
   "metadata": {},
   "source": [
    "Create random graph with `600` vertexes and `500` edges:"
   ]
  },
  {
   "cell_type": "code",
   "execution_count": null,
   "metadata": {},
   "outputs": [],
   "source": [
    "my $tstart = now;\n",
    "\n",
    "my $gl = Graph::Random.new(180, 200, :!directed);\n",
    "\n",
    "my $tend = now;\n",
    "say \"Time to generate: {$tend - $tstart}\";\n",
    "say $gl;"
   ]
  },
  {
   "cell_type": "markdown",
   "metadata": {},
   "source": [
    "Visualize the random graph:"
   ]
  },
  {
   "cell_type": "code",
   "execution_count": null,
   "metadata": {},
   "outputs": [],
   "source": [
    "#%js\n",
    "$gl.edges(:dataset) \n",
    "==> js-d3-graph-plot(\n",
    "    :$background, \n",
    "    :$title-color, \n",
    "    :$edge-thickness,\n",
    "    :$vertex-size,\n",
    "    width => 1200, \n",
    "    force => {charge => {strength => -80, iterations => 2}, collision => {radius => 6, iterations => 10}, link => {distance => 4}}\n",
    ")"
   ]
  },
  {
   "cell_type": "markdown",
   "metadata": {},
   "source": [
    "### Shortest path finding"
   ]
  },
  {
   "cell_type": "code",
   "execution_count": null,
   "metadata": {},
   "outputs": [],
   "source": [
    "my ($start, $end) = ('7', '100');"
   ]
  },
  {
   "cell_type": "code",
   "execution_count": null,
   "metadata": {},
   "outputs": [],
   "source": [
    "my $tstart = now;\n",
    "my @res = $gl.find-shortest-path($start, $end, method => 'dijkstra');\n",
    "my $tend = now;\n",
    "say \"Time to find: {$tend - $tstart}\";\n",
    "say @res;\n",
    "say \"length: {@res.elems}\""
   ]
  },
  {
   "cell_type": "code",
   "execution_count": null,
   "metadata": {},
   "outputs": [],
   "source": [
    "my $tstart = now;\n",
    "my @res = $gl.find-shortest-path($start, $end, method => 'a-star');\n",
    "my $tend = now;\n",
    "say \"Time to find: {$tend - $tstart}\";\n",
    "say @res;\n",
    "say \"length: {@res.elems}\""
   ]
  },
  {
   "cell_type": "code",
   "execution_count": null,
   "metadata": {},
   "outputs": [],
   "source": [
    "#%js\n",
    "$gl.edges(:dataset) \n",
    "==> js-d3-graph-plot(\n",
    "    highlight => [|@res, |Graph::Path.new(@res).edges],\n",
    "    :$background, \n",
    "    :$title-color, \n",
    "    :$edge-thickness,\n",
    "    :$vertex-size,\n",
    "    width => 1200, \n",
    "    force => {charge => {strength => -80, iterations => 2}, collision => {radius => 6, iterations => 10}, link => {distance => 4}}\n",
    "    )"
   ]
  },
  {
   "cell_type": "markdown",
   "metadata": {},
   "source": [
    "----\n",
    "## Metrics"
   ]
  },
  {
   "cell_type": "markdown",
   "metadata": {},
   "source": [
    "Diameter and radius of a graph:"
   ]
  },
  {
   "cell_type": "code",
   "execution_count": null,
   "metadata": {},
   "outputs": [],
   "source": [
    "<diameter radius>.map({ $_ => $gl.\"$_\"() })"
   ]
  },
  {
   "cell_type": "code",
   "execution_count": null,
   "metadata": {},
   "outputs": [],
   "source": [
    "#% chat ge > markdown\n",
    "Define graph diameter, radius, eccentricity. Give punchline short, concise definitions."
   ]
  },
  {
   "cell_type": "code",
   "execution_count": null,
   "metadata": {},
   "outputs": [],
   "source": [
    "#% chat ge meta\n",
    "say"
   ]
  },
  {
   "cell_type": "markdown",
   "metadata": {},
   "source": [
    "### Vertex degree distribution"
   ]
  },
  {
   "cell_type": "code",
   "execution_count": null,
   "metadata": {},
   "outputs": [],
   "source": [
    "my %degrees = $gl.vertex-list.map({ $_ => $gl.vertex-degree($_) });\n",
    "\n",
    "sink records-summary(%degrees.values.List)"
   ]
  },
  {
   "cell_type": "code",
   "execution_count": null,
   "metadata": {},
   "outputs": [],
   "source": [
    "#%js\n",
    "js-d3-histogram(%degrees.values, :$background)"
   ]
  },
  {
   "cell_type": "markdown",
   "metadata": {},
   "source": [
    "------\n",
    "\n",
    "## Finding many paths"
   ]
  },
  {
   "cell_type": "code",
   "execution_count": null,
   "metadata": {},
   "outputs": [],
   "source": [
    "my @paths = $gl.find-path($start, $end, max-length => 14, count => 4);\n",
    "@paths.elems;\n",
    "\n",
    ".say for @paths"
   ]
  },
  {
   "cell_type": "code",
   "execution_count": null,
   "metadata": {},
   "outputs": [],
   "source": [
    "#%js\n",
    "$gl.edges(:dataset) \n",
    "==> js-d3-graph-plot(\n",
    "    :$background, \n",
    "    :$title-color,\n",
    "    highlight => @paths.pick.rotor(2=>-1).map({ $_.head => $_.tail }),\n",
    "    width => 1200, \n",
    "    :$vertex-size, \n",
    "    :$edge-thickness,\n",
    "    force => {charge => {strength => -80, iterations => 2}, collision => {radius => 6, iterations => 10}, link => {distance => 4}}\n",
    ")"
   ]
  }
 ],
 "metadata": {
  "kernelspec": {
   "display_name": "RakuChatbook",
   "language": "raku",
   "name": "raku"
  },
  "language_info": {
   "file_extension": ".raku",
   "mimetype": "text/x-raku",
   "name": "raku",
   "version": "6.d"
  }
 },
 "nbformat": 4,
 "nbformat_minor": 2
}
